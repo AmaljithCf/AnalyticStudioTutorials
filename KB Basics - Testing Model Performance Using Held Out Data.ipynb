{
 "cells": [
  {
   "cell_type": "code",
   "execution_count": 1,
   "metadata": {},
   "outputs": [
    {
     "data": {
      "text/html": [
       "<style>.container { width:80% !important; }</style>"
      ],
      "text/plain": [
       "<IPython.core.display.HTML object>"
      ]
     },
     "execution_count": 1,
     "metadata": {},
     "output_type": "execute_result"
    }
   ],
   "source": [
    "from IPython.core.display import HTML\n",
    "HTML(\"<style>.container { width:80% !important; }</style>\")"
   ]
  },
  {
   "cell_type": "code",
   "execution_count": 2,
   "metadata": {
    "collapsed": true
   },
   "outputs": [],
   "source": [
    "import os\n",
    "#os.environ['http_proxy'] = \"\"\n",
    "#os.environ['https_proxy'] = \"\""
   ]
  },
  {
   "cell_type": "markdown",
   "metadata": {},
   "source": [
    "#### Overview\n",
    "The knowledgebuilder uses a tvo pipeline step, which stands for train, validate and optimize, to build models. After building a sandbox pipeline, it is good practice to test the models against a hold out data set. In this tutorial, we will demonstrate how to perform this final validation using the model's recognize_signal ability.\n",
    "\n",
    "* Connect to server, get project and instantiate a sandbox\n",
    "* Create a query for a subset of the data\n",
    "* Import the activity recognition pipeline and train the model\n",
    "* Create a query for the holdout test data\n",
    "* Use the models recognize_signal function to test performance of the model\n",
    "\n",
    "In this tutorial we will use the activity data set. This is a compilation of a user wearing a device while performing activities walking, running, climbing up, climbing down and crawling. The goal of our model is to recognize which activity the user is performing. \n",
    "\n"
   ]
  },
  {
   "cell_type": "markdown",
   "metadata": {},
   "source": [
    "#### Connect to the server, get the project, instantiate a sandbox."
   ]
  },
  {
   "cell_type": "code",
   "execution_count": 1,
   "metadata": {},
   "outputs": [
    {
     "name": "stdout",
     "output_type": "stream",
     "text": [
      "Project Activity does not exist, creating a new project.\n",
      "Sandbox Sandbox_Hold_Out does not exist, creating a new sandbox.\n"
     ]
    }
   ],
   "source": [
    "import pandas as pd\n",
    "\n",
    "from sensiml import SensiML\n",
    "\n",
    "\n",
    "dsk = SensiML()\n",
    "dsk.project ='Activity'\n",
    "dsk.pipeline = 'Sandbox_Hold_Out'"
   ]
  },
  {
   "cell_type": "markdown",
   "metadata": {},
   "source": [
    "#### For this Case Study we will use a feature file containing our data"
   ]
  },
  {
   "cell_type": "code",
   "execution_count": 2,
   "metadata": {},
   "outputs": [
    {
     "data": {
      "text/html": [
       "<div>\n",
       "<style>\n",
       "    .dataframe thead tr:only-child th {\n",
       "        text-align: right;\n",
       "    }\n",
       "\n",
       "    .dataframe thead th {\n",
       "        text-align: left;\n",
       "    }\n",
       "\n",
       "    .dataframe tbody tr th {\n",
       "        vertical-align: top;\n",
       "    }\n",
       "</style>\n",
       "<table border=\"1\" class=\"dataframe\">\n",
       "  <thead>\n",
       "    <tr style=\"text-align: right;\">\n",
       "      <th></th>\n",
       "      <th>Subject</th>\n",
       "      <th>Activity</th>\n",
       "      <th>AccelerometerX</th>\n",
       "      <th>AccelerometerY</th>\n",
       "      <th>AccelerometerZ</th>\n",
       "    </tr>\n",
       "  </thead>\n",
       "  <tbody>\n",
       "    <tr>\n",
       "      <th>0</th>\n",
       "      <td>U001</td>\n",
       "      <td>0</td>\n",
       "      <td>-317</td>\n",
       "      <td>-3000</td>\n",
       "      <td>925</td>\n",
       "    </tr>\n",
       "    <tr>\n",
       "      <th>1</th>\n",
       "      <td>U001</td>\n",
       "      <td>0</td>\n",
       "      <td>-284</td>\n",
       "      <td>-2968</td>\n",
       "      <td>903</td>\n",
       "    </tr>\n",
       "    <tr>\n",
       "      <th>2</th>\n",
       "      <td>U001</td>\n",
       "      <td>0</td>\n",
       "      <td>-243</td>\n",
       "      <td>-2987</td>\n",
       "      <td>933</td>\n",
       "    </tr>\n",
       "    <tr>\n",
       "      <th>3</th>\n",
       "      <td>U001</td>\n",
       "      <td>0</td>\n",
       "      <td>-193</td>\n",
       "      <td>-3051</td>\n",
       "      <td>936</td>\n",
       "    </tr>\n",
       "    <tr>\n",
       "      <th>4</th>\n",
       "      <td>U001</td>\n",
       "      <td>0</td>\n",
       "      <td>-150</td>\n",
       "      <td>-3059</td>\n",
       "      <td>915</td>\n",
       "    </tr>\n",
       "  </tbody>\n",
       "</table>\n",
       "</div>"
      ],
      "text/plain": [
       "  Subject  Activity  AccelerometerX  AccelerometerY  AccelerometerZ\n",
       "0    U001         0            -317           -3000             925\n",
       "1    U001         0            -284           -2968             903\n",
       "2    U001         0            -243           -2987             933\n",
       "3    U001         0            -193           -3051             936\n",
       "4    U001         0            -150           -3059             915"
      ]
     },
     "execution_count": 2,
     "metadata": {},
     "output_type": "execute_result"
    }
   ],
   "source": [
    "df = pd.read_csv('Support/activities_combinedSignalsWithLabel_small.csv')\n",
    "df_train = df[df['Subject'].isin(['U001', 'U002', 'U003', 'U004', 'U005', 'U006', 'U008', 'U009'])]\n",
    "df_test  =  df[df['Subject'].isin(['U010', 'U011', 'U012',])]\n",
    "df.head()"
   ]
  },
  {
   "cell_type": "markdown",
   "metadata": {},
   "source": [
    "#### Build a pipeline that can do our recognition"
   ]
  },
  {
   "cell_type": "code",
   "execution_count": 3,
   "metadata": {},
   "outputs": [
    {
     "name": "stdout",
     "output_type": "stream",
     "text": [
      "Uploading file \"activity_data.csv\" to KB Cloud.\n",
      "Upload of file \"activity_data.csv\"  to KB Cloud completed.\n"
     ]
    }
   ],
   "source": [
    "dsk.pipeline.reset()\n",
    "\n",
    "dsk.pipeline.set_input_data('activity_data', df_train, data_columns=['AcceleromterY'],\n",
    "                                                       group_columns=['Subject','Activity'],\n",
    "                                                       label_column='Activity')\n",
    "\n",
    "dsk.pipeline.add_transform('Windowing')\n",
    "\n",
    "dsk.pipeline.add_transform('MSE Filter', params={'input_column':'AccelerometerY'})\n",
    "\n",
    "dsk.pipeline.add_feature_generator([\"Mean\", 'Standard Deviation', 'Skewness', 'Kurtosis',\n",
    "                                    '25th Percentile', '75th Percentile', '100th Percentile',\n",
    "                                    'Zero Crossing Rate'],\n",
    "                                    function_defaults = {\"columns\":[u'AccelerometerY']})\n",
    "\n",
    "dsk.pipeline.add_transform('Min Max Scale')\n",
    "\n",
    "dsk.pipeline.set_validation_method('Stratified K-Fold Cross-Validation', params={'number_of_folds':5})\n",
    "\n",
    "dsk.pipeline.set_classifier('PVP', params={\"classification_mode\":'RBF','distance_mode':'L1'})\n",
    "\n",
    "dsk.pipeline.set_training_algorithm('Hierarchical Clustering with Neuron Optimization', params = {'number_of_neurons':7})\n",
    "\n",
    "dsk.pipeline.set_tvo({'validation_seed':0})"
   ]
  },
  {
   "cell_type": "code",
   "execution_count": 4,
   "metadata": {},
   "outputs": [
    {
     "name": "stdout",
     "output_type": "stream",
     "text": [
      "Executing Pipeline with Steps:\n",
      "\n",
      "------------------------------------------------------------------------\n",
      " 0.     Name: activity_data.csv         \t\tType: featurefile              \n",
      "------------------------------------------------------------------------\n",
      "------------------------------------------------------------------------\n",
      " 1.     Name: Windowing                 \t\tType: segmenter                \n",
      "------------------------------------------------------------------------\n",
      "------------------------------------------------------------------------\n",
      " 2.     Name: MSE Filter                \t\tType: transform                \n",
      "------------------------------------------------------------------------\n",
      "------------------------------------------------------------------------\n",
      " 3.     Name: generator_set             \t\tType: generatorset             \n",
      "------------------------------------------------------------------------\n",
      "------------------------------------------------------------------------\n",
      " 4.     Name: Min Max Scale             \t\tType: transform                \n",
      "------------------------------------------------------------------------\n",
      "------------------------------------------------------------------------\n",
      " 5.     Name: tvo                       \t\tType: tvo                      \n",
      "------------------------------------------------------------------------\n",
      "\tClassifier: PVP\n",
      "\t\tParam: distance_mode: L1\n",
      "\t\tParam: classification_mode: RBF\n",
      "\n",
      "\tTraining Algo: Hierarchical Clustering with Neuron Optimization\n",
      "\t\tParam: number_of_neurons: 7\n",
      "\n",
      "\tValidation Method: Stratified K-Fold Cross-Validation\n",
      "\t\tParam: number_of_folds: 5\n",
      "\n",
      "------------------------------------------------------------------------\n",
      "\n",
      "\n",
      "Checking for Results:\n",
      "\n",
      "Pipeline Running... Run Time: 5 sec.\n",
      ".Retrieving page 1 of 1.\n",
      "\n",
      "Results Retrieved.\n"
     ]
    }
   ],
   "source": [
    "result, stats = dsk.pipeline.execute()"
   ]
  },
  {
   "cell_type": "code",
   "execution_count": 5,
   "metadata": {},
   "outputs": [
    {
     "name": "stdout",
     "output_type": "stream",
     "text": [
      "TRAINING ALGORITHM: Hierarchical Clustering with Neuron Optimization\n",
      "VALIDATION METHOD:  Stratified K-Fold Cross-Validation\n",
      "CLASSIFIER:         PVP\n",
      "\n",
      "AVERAGE METRICS:\n",
      "F1-SCORE:    98.5   sigma 1.19\n",
      "SENSITIVITY: 99.6   sigma 0.47\n",
      "PRECISION:   97.6   sigma 1.75\n",
      "\n",
      "--------------------------------------\n",
      "\n",
      "STRATIFIED K-FOLD CROSS-VALIDATION MODEL RESULTS\n",
      "\n",
      "MODEL INDEX: Fold 4\n",
      "ACCURACY: 100.00\n",
      "NEURONS: 4\n",
      "\n",
      "MODEL INDEX: Fold 1\n",
      "ACCURACY: 98.61\n",
      "NEURONS: 4\n",
      "\n",
      "MODEL INDEX: Fold 2\n",
      "ACCURACY: 97.22\n",
      "NEURONS: 4\n",
      "\n",
      "MODEL INDEX: Fold 0\n",
      "ACCURACY: 97.22\n",
      "NEURONS: 4\n",
      "\n",
      "MODEL INDEX: Fold 3\n",
      "ACCURACY: 97.18\n",
      "NEURONS: 4\n",
      "\n"
     ]
    }
   ],
   "source": [
    "result.summarize()"
   ]
  },
  {
   "cell_type": "markdown",
   "metadata": {},
   "source": [
    "We would like to test our model against the hold out data set. In this tutorial we are using the Subject as the filter, but this could be any metadata tag"
   ]
  },
  {
   "cell_type": "markdown",
   "metadata": {},
   "source": [
    "#### Evaluate the performance of the model on our hold out data set\n",
    "\n",
    "The results returned from the sandbox execution contains all of the models which were built during the pipeline. Select the model that you would like to test, in our case there is only a single model because we used Recall. Then pass the data set that we just returned from the query into the models recognize_signal function. \n",
    "\n",
    "model.recognize_signal will return a confusion matrix, if you pass labeled data. Otherwise it will only return the classifications. \n",
    "\n",
    "First let's pass our labeled data set in."
   ]
  },
  {
   "cell_type": "code",
   "execution_count": 6,
   "metadata": {},
   "outputs": [
    {
     "name": "stdout",
     "output_type": "stream",
     "text": [
      "Loading Data.\n",
      "\n",
      "Checking for Results:\n",
      "\n",
      "Pipeline Waiting in the Queue. Wait Time: 0.00 seconds\n",
      ".\n",
      "Results Retrieved.\n"
     ]
    }
   ],
   "source": [
    "model = result.configurations[0].models[0]\n",
    "recog_results, summary = model.recognize_signal(df_test)"
   ]
  },
  {
   "cell_type": "code",
   "execution_count": 7,
   "metadata": {},
   "outputs": [
    {
     "data": {
      "text/html": [
       "<div>\n",
       "<style>\n",
       "    .dataframe thead tr:only-child th {\n",
       "        text-align: right;\n",
       "    }\n",
       "\n",
       "    .dataframe thead th {\n",
       "        text-align: left;\n",
       "    }\n",
       "\n",
       "    .dataframe tbody tr th {\n",
       "        vertical-align: top;\n",
       "    }\n",
       "</style>\n",
       "<table border=\"1\" class=\"dataframe\">\n",
       "  <thead>\n",
       "    <tr style=\"text-align: right;\">\n",
       "      <th></th>\n",
       "      <th>DistanceVector</th>\n",
       "      <th>NIDVector</th>\n",
       "      <th>CategoryVector</th>\n",
       "      <th>MappedCategoryVector</th>\n",
       "      <th>Activity</th>\n",
       "      <th>SegmentID</th>\n",
       "      <th>Subject</th>\n",
       "    </tr>\n",
       "  </thead>\n",
       "  <tbody>\n",
       "    <tr>\n",
       "      <th>0</th>\n",
       "      <td>[42]</td>\n",
       "      <td>[1]</td>\n",
       "      <td>[1]</td>\n",
       "      <td>[0]</td>\n",
       "      <td>0</td>\n",
       "      <td>0</td>\n",
       "      <td>U010</td>\n",
       "    </tr>\n",
       "    <tr>\n",
       "      <th>1</th>\n",
       "      <td>[55]</td>\n",
       "      <td>[1]</td>\n",
       "      <td>[1]</td>\n",
       "      <td>[0]</td>\n",
       "      <td>0</td>\n",
       "      <td>0</td>\n",
       "      <td>U011</td>\n",
       "    </tr>\n",
       "    <tr>\n",
       "      <th>2</th>\n",
       "      <td>[59]</td>\n",
       "      <td>[1]</td>\n",
       "      <td>[1]</td>\n",
       "      <td>[0]</td>\n",
       "      <td>0</td>\n",
       "      <td>0</td>\n",
       "      <td>U012</td>\n",
       "    </tr>\n",
       "    <tr>\n",
       "      <th>3</th>\n",
       "      <td>[35]</td>\n",
       "      <td>[1]</td>\n",
       "      <td>[1]</td>\n",
       "      <td>[0]</td>\n",
       "      <td>0</td>\n",
       "      <td>1</td>\n",
       "      <td>U010</td>\n",
       "    </tr>\n",
       "    <tr>\n",
       "      <th>4</th>\n",
       "      <td>[49]</td>\n",
       "      <td>[1]</td>\n",
       "      <td>[1]</td>\n",
       "      <td>[0]</td>\n",
       "      <td>0</td>\n",
       "      <td>1</td>\n",
       "      <td>U011</td>\n",
       "    </tr>\n",
       "  </tbody>\n",
       "</table>\n",
       "</div>"
      ],
      "text/plain": [
       "  DistanceVector NIDVector CategoryVector MappedCategoryVector  Activity  \\\n",
       "0           [42]       [1]            [1]                  [0]         0   \n",
       "1           [55]       [1]            [1]                  [0]         0   \n",
       "2           [59]       [1]            [1]                  [0]         0   \n",
       "3           [35]       [1]            [1]                  [0]         0   \n",
       "4           [49]       [1]            [1]                  [0]         0   \n",
       "\n",
       "   SegmentID Subject  \n",
       "0          0    U010  \n",
       "1          0    U011  \n",
       "2          0    U012  \n",
       "3          1    U010  \n",
       "4          1    U011  "
      ]
     },
     "execution_count": 7,
     "metadata": {},
     "output_type": "execute_result"
    }
   ],
   "source": [
    "recog_results.head()"
   ]
  },
  {
   "cell_type": "markdown",
   "metadata": {},
   "source": [
    "#### The confusion matrix is included in the summary"
   ]
  },
  {
   "cell_type": "code",
   "execution_count": 8,
   "metadata": {},
   "outputs": [
    {
     "data": {
      "text/plain": [
       "CONFUSION MATRIX:\n",
       "                   0         1         2         4       UNK       UNC   Support   Sens(%)\n",
       "         0      34.0       0.0       0.0       0.0       0.0       0.0      34.0     100.0\n",
       "         1       0.0      33.0       0.0       0.0       0.0       0.0      33.0     100.0\n",
       "         2       0.0       0.0      10.0       0.0       0.0       0.0      10.0     100.0\n",
       "         4       0.0       0.0      12.0      33.0       1.0       0.0      46.0      71.7\n",
       "\n",
       "     Total        34        33        22        33         1         0       123          \n",
       "\n",
       "PosPred(%)     100.0     100.0      45.5     100.0                        Acc(%)      89.4"
      ]
     },
     "execution_count": 8,
     "metadata": {},
     "output_type": "execute_result"
    }
   ],
   "source": [
    "summary['confusion_matrix']"
   ]
  },
  {
   "cell_type": "markdown",
   "metadata": {},
   "source": [
    "The summary of the steps that were executed is also included. Notice that when we use recognize_signal we do not train a model again, but use the model that was previously trained to classify the input data. Additionally, the query step is removed since we use the dataframe passed into recognize_signal."
   ]
  },
  {
   "cell_type": "code",
   "execution_count": 9,
   "metadata": {},
   "outputs": [
    {
     "data": {
      "text/html": [
       "<div>\n",
       "<style>\n",
       "    .dataframe thead tr:only-child th {\n",
       "        text-align: right;\n",
       "    }\n",
       "\n",
       "    .dataframe thead th {\n",
       "        text-align: left;\n",
       "    }\n",
       "\n",
       "    .dataframe tbody tr th {\n",
       "        vertical-align: top;\n",
       "    }\n",
       "</style>\n",
       "<table border=\"1\" class=\"dataframe\">\n",
       "  <thead>\n",
       "    <tr style=\"text-align: right;\">\n",
       "      <th></th>\n",
       "      <th>cached</th>\n",
       "      <th>name</th>\n",
       "      <th>runtime</th>\n",
       "      <th>step #</th>\n",
       "      <th>type</th>\n",
       "    </tr>\n",
       "  </thead>\n",
       "  <tbody>\n",
       "    <tr>\n",
       "      <th>0</th>\n",
       "      <td>False</td>\n",
       "      <td>Windowing</td>\n",
       "      <td>1.002701</td>\n",
       "      <td>0</td>\n",
       "      <td>segmenter</td>\n",
       "    </tr>\n",
       "    <tr>\n",
       "      <th>1</th>\n",
       "      <td>False</td>\n",
       "      <td>MSE Filter</td>\n",
       "      <td>1.002665</td>\n",
       "      <td>1</td>\n",
       "      <td>transform</td>\n",
       "    </tr>\n",
       "    <tr>\n",
       "      <th>2</th>\n",
       "      <td>False</td>\n",
       "      <td>generator_set</td>\n",
       "      <td>1.005220</td>\n",
       "      <td>2</td>\n",
       "      <td>generatorset</td>\n",
       "    </tr>\n",
       "    <tr>\n",
       "      <th>3</th>\n",
       "      <td>False</td>\n",
       "      <td>Min Max Scale</td>\n",
       "      <td>1.002717</td>\n",
       "      <td>3</td>\n",
       "      <td>transform</td>\n",
       "    </tr>\n",
       "  </tbody>\n",
       "</table>\n",
       "</div>"
      ],
      "text/plain": [
       "   cached           name   runtime  step #          type\n",
       "0   False      Windowing  1.002701       0     segmenter\n",
       "1   False     MSE Filter  1.002665       1     transform\n",
       "2   False  generator_set  1.005220       2  generatorset\n",
       "3   False  Min Max Scale  1.002717       3     transform"
      ]
     },
     "execution_count": 9,
     "metadata": {},
     "output_type": "execute_result"
    }
   ],
   "source": [
    "summary['execution_summary']"
   ]
  },
  {
   "cell_type": "markdown",
   "metadata": {},
   "source": [
    "#### Classify Data without Labels\n",
    "\n",
    "Lets go ahead and remove the label column from our data set and pass that in."
   ]
  },
  {
   "cell_type": "code",
   "execution_count": 10,
   "metadata": {},
   "outputs": [
    {
     "name": "stdout",
     "output_type": "stream",
     "text": [
      "Loading Data.\n",
      "\n",
      "Checking for Results:\n",
      "\n",
      "Pipeline Running... Run Time: 0 sec.\n",
      ".\n",
      "Results Retrieved.\n"
     ]
    }
   ],
   "source": [
    "recog_result_no_labels, summary_no_label = model.recognize_signal(df_test.drop('Activity', axis=1))"
   ]
  },
  {
   "cell_type": "code",
   "execution_count": 11,
   "metadata": {},
   "outputs": [
    {
     "data": {
      "text/html": [
       "<div>\n",
       "<style>\n",
       "    .dataframe thead tr:only-child th {\n",
       "        text-align: right;\n",
       "    }\n",
       "\n",
       "    .dataframe thead th {\n",
       "        text-align: left;\n",
       "    }\n",
       "\n",
       "    .dataframe tbody tr th {\n",
       "        vertical-align: top;\n",
       "    }\n",
       "</style>\n",
       "<table border=\"1\" class=\"dataframe\">\n",
       "  <thead>\n",
       "    <tr style=\"text-align: right;\">\n",
       "      <th></th>\n",
       "      <th>DistanceVector</th>\n",
       "      <th>NIDVector</th>\n",
       "      <th>CategoryVector</th>\n",
       "      <th>MappedCategoryVector</th>\n",
       "      <th>SegmentID</th>\n",
       "      <th>Subject</th>\n",
       "    </tr>\n",
       "  </thead>\n",
       "  <tbody>\n",
       "    <tr>\n",
       "      <th>0</th>\n",
       "      <td>[42]</td>\n",
       "      <td>[1]</td>\n",
       "      <td>[1]</td>\n",
       "      <td>[0]</td>\n",
       "      <td>0</td>\n",
       "      <td>U010</td>\n",
       "    </tr>\n",
       "    <tr>\n",
       "      <th>1</th>\n",
       "      <td>[55]</td>\n",
       "      <td>[1]</td>\n",
       "      <td>[1]</td>\n",
       "      <td>[0]</td>\n",
       "      <td>0</td>\n",
       "      <td>U011</td>\n",
       "    </tr>\n",
       "    <tr>\n",
       "      <th>2</th>\n",
       "      <td>[59]</td>\n",
       "      <td>[1]</td>\n",
       "      <td>[1]</td>\n",
       "      <td>[0]</td>\n",
       "      <td>0</td>\n",
       "      <td>U012</td>\n",
       "    </tr>\n",
       "    <tr>\n",
       "      <th>3</th>\n",
       "      <td>[35]</td>\n",
       "      <td>[1]</td>\n",
       "      <td>[1]</td>\n",
       "      <td>[0]</td>\n",
       "      <td>1</td>\n",
       "      <td>U010</td>\n",
       "    </tr>\n",
       "    <tr>\n",
       "      <th>4</th>\n",
       "      <td>[49]</td>\n",
       "      <td>[1]</td>\n",
       "      <td>[1]</td>\n",
       "      <td>[0]</td>\n",
       "      <td>1</td>\n",
       "      <td>U011</td>\n",
       "    </tr>\n",
       "  </tbody>\n",
       "</table>\n",
       "</div>"
      ],
      "text/plain": [
       "  DistanceVector NIDVector CategoryVector MappedCategoryVector  SegmentID  \\\n",
       "0           [42]       [1]            [1]                  [0]          0   \n",
       "1           [55]       [1]            [1]                  [0]          0   \n",
       "2           [59]       [1]            [1]                  [0]          0   \n",
       "3           [35]       [1]            [1]                  [0]          1   \n",
       "4           [49]       [1]            [1]                  [0]          1   \n",
       "\n",
       "  Subject  \n",
       "0    U010  \n",
       "1    U011  \n",
       "2    U012  \n",
       "3    U010  \n",
       "4    U011  "
      ]
     },
     "execution_count": 11,
     "metadata": {},
     "output_type": "execute_result"
    }
   ],
   "source": [
    "recog_result_no_labels.head()"
   ]
  },
  {
   "cell_type": "markdown",
   "metadata": {},
   "source": [
    "The cofusion matrix is not returned because no ground truth provided. "
   ]
  },
  {
   "cell_type": "code",
   "execution_count": 12,
   "metadata": {},
   "outputs": [
    {
     "data": {
      "text/plain": [
       "{u'execution_summary':    cached           name   runtime  step #          type\n",
       " 0   False      Windowing  1.002980       0     segmenter\n",
       " 1   False     MSE Filter  1.002711       1     transform\n",
       " 2   False  generator_set  1.005179       2  generatorset\n",
       " 3   False  Min Max Scale  1.002769       3     transform,\n",
       " u'summary': Empty DataFrame\n",
       " Columns: []\n",
       " Index: []}"
      ]
     },
     "execution_count": 12,
     "metadata": {},
     "output_type": "execute_result"
    }
   ],
   "source": [
    "summary_no_label"
   ]
  }
 ],
 "metadata": {
  "anaconda-cloud": {},
  "kernelspec": {
   "display_name": "Python 2",
   "language": "python",
   "name": "python2"
  },
  "language_info": {
   "codemirror_mode": {
    "name": "ipython",
    "version": 2
   },
   "file_extension": ".py",
   "mimetype": "text/x-python",
   "name": "python",
   "nbconvert_exporter": "python",
   "pygments_lexer": "ipython2",
   "version": "2.7.14"
  }
 },
 "nbformat": 4,
 "nbformat_minor": 1
}

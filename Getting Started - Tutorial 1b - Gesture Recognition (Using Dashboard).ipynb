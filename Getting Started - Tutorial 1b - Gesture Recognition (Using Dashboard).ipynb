{
 "cells": [
  {
   "cell_type": "markdown",
   "metadata": {},
   "source": [
    "### Using the Dashboard\n",
    "\n",
    "After completing the Tutorial 1 - Gesture REcognition, you should be familiar with the individual widgts and how they are used. This tutorial introduces the dashboard, which creates a single view. "
   ]
  },
  {
   "cell_type": "code",
   "execution_count": 3,
   "metadata": {
    "extensions": {
     "jupyter_dashboards": {
      "version": 1,
      "views": {
       "grid_default": {
        "hidden": true
       },
       "report_default": {
        "hidden": true
       }
      }
     }
    }
   },
   "outputs": [
    {
     "data": {
      "application/vnd.jupyter.widget-view+json": {
       "model_id": "1d1a37644af749728e12a1cc3e9f4dc1",
       "version_major": 2,
       "version_minor": 0
      },
      "text/html": [
       "<p>Failed to display Jupyter Widget of type <code>VBox</code>.</p>\n",
       "<p>\n",
       "  If you're reading this message in the Jupyter Notebook or JupyterLab Notebook, it may mean\n",
       "  that the widgets JavaScript is still loading. If this message persists, it\n",
       "  likely means that the widgets JavaScript library is either not installed or\n",
       "  not enabled. See the <a href=\"https://ipywidgets.readthedocs.io/en/stable/user_install.html\">Jupyter\n",
       "  Widgets Documentation</a> for setup instructions.\n",
       "</p>\n",
       "<p>\n",
       "  If you're reading this message in another frontend (for example, a static\n",
       "  rendering on GitHub or <a href=\"https://nbviewer.jupyter.org/\">NBViewer</a>),\n",
       "  it may mean that your frontend doesn't currently support widgets.\n",
       "</p>\n"
      ],
      "text/plain": [
       "VBox(children=(HBox(children=(Button(description=u'Login', style=ButtonStyle()), Dropdown(description=u'Project', options=(), value=None), VBox(children=(Dropdown(description=u'Pipeline', options=(), value=None), HBox(children=(Text(value=u'', description=u'New Pipeline'), Button(description=u'Create', style=ButtonStyle())))))), layout=Layout(border=u'outset', width=u'100%')), Accordion(children=(HBox(children=(VBox(children=(Dropdown(description=u'Select Query', options=(), value=None), Text(value=u'', description=u'Query Name'), Dropdown(description=u'Segmenter', options=(), value=None), Dropdown(description=u'Label', options=(), value=None), SelectMultiple(description=u'Metadtata', options=(), value=()), SelectMultiple(description=u'Sources', options=(), value=()), Text(value=u'', description=u'Query Filter'), HBox(children=(Button(description=u'Add Query', style=ButtonStyle()), Button(description=u'Update Query', style=ButtonStyle()))))), Figure(background_style={'fill': 'white'}, fig_margin={'top': 20, 'left': 80, 'right': 0, 'bottom': 60}, layout=Layout(min_width=u'125px'), legend_location='bottom-right', scale_x=LinearScale(allow_padding=False, max=1.0, min=0.0), scale_y=LinearScale(allow_padding=False, max=1.0, min=0.0)))),), _titles={u'0': 'Select or Create Query'}), Accordion(children=(VBox(children=(HBox(children=(VBox(children=(Dropdown(description=u'Select Query', options=(), value=None), Dropdown(description=u'Segmenter', options=('Default', 'Windowing(100)', 'Windowing(200)', 'Windowing(250)'), value='Default'), interactive(children=(Dropdown(description=u'Name', options=(), value=None), Output()), _dom_classes=('widget-interact',)), Textarea(value=u'', description=u'Description'))), VBox(children=(FloatSlider(value=0.8, description=u'Accuracy', max=1.0, step=0.05), FloatSlider(value=0.8, description=u'Sensitivity', max=1.0, step=0.05), FloatSlider(value=0.5, description=u'Features', max=1.0, step=0.05), FloatSlider(value=0.5, description=u'Neurons', max=1.0, step=0.05), IntSlider(value=2, description=u'Iterations', max=15, min=1), IntSlider(value=10, description=u'Population', max=50, min=10))), QgridWidget(grid_options={'fullWidthRows': True, 'rowHeight': 35, 'forceFitColumns': True, 'enableTextSelectionOnCells': True, 'editable': False, 'explicitInitialization': True, 'minVisibleRows': 5, 'autoEdit': False, 'enableColumnReorder': False, 'maxVisibleRows': 5, 'defaultColumnWidth': 15, 'syncColumnCellResize': True}, layout=Layout(width=u'300px'), precision=5))), Button(description=u'Run Autopipeline', style=ButtonStyle()))),), _titles={u'0': 'AutoSense Pipeline'}), Accordion(children=(VBox(children=(HBox(children=(Dropdown(description=u'Model Name', options=(), value=None), Button(description=u'Refresh', icon=u'0', layout=Layout(align_items=u'flex-start', border=u'solid 2px', display=u'flex', flex_flow=u'column', justify_content=u'center', overflow=u'visible', width=u'25%'), style=ButtonStyle()), Button(description=u'Generate Knowledgepack', icon=u'0', layout=Layout(align_items=u'flex-start', border=u'solid 2px', display=u'flex', flex_flow=u'column', justify_content=u'center', overflow=u'visible', width=u'25%'), style=ButtonStyle()))), Label(value=u'Download Settings', layout=Layout(justify_content=u'flex-start', overflow=u'visible')), HBox(children=(VBox(children=(Dropdown(description=u'HW Platform', options=(), value=None), Dropdown(description=u'Target OS', options=(), value=None), Dropdown(description=u'Download', options=('Binary', 'Library'), value='Binary'))), VBox(children=(Dropdown(description=u'IMU Rate', options=(100, 50, 25), value=100), Dropdown(description=u'Debug', options=(True, False), value=True), Dropdown(description=u'Test Data', options=(None,), value=None))), SelectMultiple(description=u'Output', options=('ble', 'led', 'serial'), value=()))))),), _titles={u'0': 'Download Knowledgepack'})), layout=Layout(border=u'outset'))"
      ]
     },
     "metadata": {},
     "output_type": "display_data"
    }
   ],
   "source": [
    "from sensiml.widgets import DashBoard\n",
    "DashBoard().create_widget()"
   ]
  }
 ],
 "metadata": {
  "anaconda-cloud": {},
  "extensions": {
   "jupyter_dashboards": {
    "activeView": "report_default",
    "version": 1,
    "views": {
     "grid_default": {
      "cellMargin": 10,
      "defaultCellHeight": 20,
      "maxColumns": 12,
      "name": "grid",
      "type": "grid"
     },
     "report_default": {
      "name": "report",
      "type": "report"
     }
    }
   }
  },
  "kernelspec": {
   "display_name": "Python 2",
   "language": "python",
   "name": "python2"
  },
  "language_info": {
   "codemirror_mode": {
    "name": "ipython",
    "version": 2
   },
   "file_extension": ".py",
   "mimetype": "text/x-python",
   "name": "python",
   "nbconvert_exporter": "python",
   "pygments_lexer": "ipython2",
   "version": "2.7.13"
  },
  "toc": {
   "nav_menu": {},
   "number_sections": true,
   "sideBar": true,
   "skip_h1_title": false,
   "toc_cell": false,
   "toc_position": {},
   "toc_section_display": "block",
   "toc_window_display": false
  },
  "widgets": {
   "application/vnd.jupyter.widget-state+json": {
    "state": {
     "0002cd87909d447fb01da80ef97d5a03": {
      "model_module": "@jupyter-widgets/base",
      "model_module_version": "1.0.0",
      "model_name": "LayoutModel",
      "state": {}
     },
     "001c810e288544238fdb094b4a1395e0": {
      "model_module": "@jupyter-widgets/controls",
      "model_module_version": "1.1.0",
      "model_name": "ButtonStyleModel",
      "state": {}
     },
     "0021a7b8254f4c909aa2cd175464ac91": {
      "model_module": "@jupyter-widgets/base",
      "model_module_version": "1.0.0",
      "model_name": "LayoutModel",
      "state": {}
     },
     "0045857812004569acdd5bf6c335a49b": {
      "model_module": "@jupyter-widgets/base",
      "model_module_version": "1.0.0",
      "model_name": "LayoutModel",
      "state": {}
     },
     "004e5aa4f10c4a0aa2808f300449200c": {
      "model_module": "@jupyter-widgets/base",
      "model_module_version": "1.0.0",
      "model_name": "LayoutModel",
      "state": {}
     },
     "0062a9083cb243e49be4b07ff94c81d5": {
      "model_module": "@jupyter-widgets/base",
      "model_module_version": "1.0.0",
      "model_name": "LayoutModel",
      "state": {}
     },
     "00709095757c43e4bd077e905dfca36e": {
      "model_module": "@jupyter-widgets/controls",
      "model_module_version": "1.1.0",
      "model_name": "DropdownModel",
      "state": {
       "_options_labels": [
        "",
        "Parameter Optimization Tutorial",
        "outlier_remove",
        "Training Demo",
        "MHEAudio",
        "ChristTest2",
        "Video Project",
        "LargeData",
        "motor_vibration",
        "Activity Demo",
        "SensiML Gestures Demo",
        "hereo",
        "OptimizePara_UsingGrid",
        "DogData",
        "Gesture_data_demo",
        "ChrisGestureProject",
        "PunchPunch",
        "Voyager Demo",
        "PunchDemo",
        "A Marc Project",
        "Virginia",
        "MyProject",
        "Cursive",
        "MotorVibration",
        "Seven Peaks Demo",
        "Customer End to End Demo",
        "MotorVibrationSmall",
        "CustomerE2E",
        "motor_vibration_2",
        "Harry Potter Project",
        "Gesture Demo",
        "SensiML Gestures"
       ],
       "description": "Select Project",
       "index": 31,
       "layout": "IPY_MODEL_e8a492b8330648ec8610164c24b05cb4",
       "style": "IPY_MODEL_bc16bb212fcf4459950acf78101d1335"
      }
     },
     "0082d7734ed543bdb5101e70afd5aa67": {
      "model_module": "@jupyter-widgets/controls",
      "model_module_version": "1.1.0",
      "model_name": "FloatSliderModel",
      "state": {
       "description": "Accuracy",
       "layout": "IPY_MODEL_c21015a75be84d1a822342fe58c6395c",
       "max": 1,
       "step": 0.05,
       "style": "IPY_MODEL_79bc070b11fc4eed865448d5e8c1ecb4",
       "value": 0.8
      }
     },
     "00ad0a473f974b20886009fff1c79033": {
      "model_module": "@jupyter-widgets/controls",
      "model_module_version": "1.1.0",
      "model_name": "ButtonModel",
      "state": {
       "description": "Generate Knowledgepack",
       "icon": "0",
       "layout": "IPY_MODEL_ed22c257a90a458889f78d00b000f9bb",
       "style": "IPY_MODEL_a29bfe41fa9c43a5bdee35cbed8fb432"
      }
     },
     "00ada318ec4d414099d305aeeaf6bc8e": {
      "model_module": "@jupyter-widgets/base",
      "model_module_version": "1.0.0",
      "model_name": "LayoutModel",
      "state": {
       "border": "outset"
      }
     },
     "00b0875fbd04474e92d7c0a644469614": {
      "model_module": "@jupyter-widgets/controls",
      "model_module_version": "1.1.0",
      "model_name": "ButtonModel",
      "state": {
       "description": "Create",
       "layout": "IPY_MODEL_32cc33b7289f4517940fd5f6a006f2e8",
       "style": "IPY_MODEL_2b242044b2a34ec18ff1aa7f5eb150ae"
      }
     },
     "012924be597945148be2bc00dadf9d3c": {
      "model_module": "@jupyter-widgets/controls",
      "model_module_version": "1.1.0",
      "model_name": "HBoxModel",
      "state": {
       "children": [
        "IPY_MODEL_31767a026c0840d69f58b9af46756725",
        "IPY_MODEL_32a5755773734c3caef445aefb736c82"
       ],
       "layout": "IPY_MODEL_2ae21a533a734a0fb24edbf1bde5ea24"
      }
     },
     "012e05d7ec3345f78ae333373c2b8bc3": {
      "model_module": "@jupyter-widgets/controls",
      "model_module_version": "1.1.0",
      "model_name": "FloatSliderModel",
      "state": {
       "description": "Accuracy",
       "layout": "IPY_MODEL_9d45009e6d6248bd92b7b6dee29dac37",
       "max": 1,
       "step": 0.05,
       "style": "IPY_MODEL_e3d5786c0684481e8ca2ef55483b6fd5",
       "value": 0.8
      }
     },
     "0165ac947287467abc17bbebfb225adb": {
      "model_module": "@jupyter-widgets/base",
      "model_module_version": "1.0.0",
      "model_name": "LayoutModel",
      "state": {
       "min_width": "125px"
      }
     },
     "01adb398aba14ceea77f30e82668690d": {
      "model_module": "@jupyter-widgets/base",
      "model_module_version": "1.0.0",
      "model_name": "LayoutModel",
      "state": {}
     },
     "01c9d73031ae4b0890129840d6d24515": {
      "model_module": "@jupyter-widgets/controls",
      "model_module_version": "1.1.0",
      "model_name": "ButtonStyleModel",
      "state": {}
     },
     "01da83d8128a49f9ad8022553b1241a2": {
      "model_module": "@jupyter-widgets/base",
      "model_module_version": "1.0.0",
      "model_name": "LayoutModel",
      "state": {}
     },
     "01ea4973c2004c539dfccd9915f41530": {
      "model_module": "@jupyter-widgets/controls",
      "model_module_version": "1.1.0",
      "model_name": "DescriptionStyleModel",
      "state": {
       "description_width": ""
      }
     },
     "026b8b0e0cbe4d04b54e6f8944bea9ec": {
      "model_module": "@jupyter-widgets/controls",
      "model_module_version": "1.1.0",
      "model_name": "DescriptionStyleModel",
      "state": {
       "description_width": ""
      }
     },
     "02fabb95fa844427b808c45d9b8c97d5": {
      "model_module": "@jupyter-widgets/controls",
      "model_module_version": "1.1.0",
      "model_name": "IntSliderModel",
      "state": {
       "description": "Population",
       "layout": "IPY_MODEL_e641c934ecae43d3a5f2de1b65c1c3bf",
       "max": 50,
       "min": 10,
       "style": "IPY_MODEL_9c2c85749f394b8dbe5efb91081f556e",
       "value": 10
      }
     },
     "032cf9bb0dce40b19284631a935c6b37": {
      "model_module": "@jupyter-widgets/base",
      "model_module_version": "1.0.0",
      "model_name": "LayoutModel",
      "state": {}
     },
     "036bc71925be46539db0cc81c4daef89": {
      "model_module": "bqplot",
      "model_module_version": "^0.3.2",
      "model_name": "LinearScaleModel",
      "state": {
       "allow_padding": false,
       "max": 1,
       "min": 0,
       "stabilized": false
      }
     },
     "0377d5fa77684ed8b6abd9da5b522932": {
      "model_module": "@jupyter-widgets/controls",
      "model_module_version": "1.1.0",
      "model_name": "DropdownModel",
      "state": {
       "_options_labels": [
        "100",
        "50",
        "25"
       ],
       "description": "IMU Rate",
       "index": 0,
       "layout": "IPY_MODEL_3b07773e91d84c0eb645b42586e925dd",
       "style": "IPY_MODEL_d636a7f77c49486da1dcb04a022344ed"
      }
     },
     "03ac1377263a49d0a6d903c6ffada731": {
      "model_module": "qgrid",
      "model_module_version": "1.0.0",
      "model_name": "QgridModel",
      "state": {
       "_columns": {
        "f1_score": {
         "name": "f1_score",
         "position": 4,
         "type": "string"
        },
        "features": {
         "name": "features",
         "position": 3,
         "type": "string"
        },
        "index": {
         "is_index": true,
         "name": "index",
         "position": 0,
         "type": "integer"
        },
        "neurons": {
         "name": "neurons",
         "position": 2,
         "type": "string"
        },
        "qgrid_unfiltered_index": {
         "name": "qgrid_unfiltered_index",
         "position": 1,
         "type": "number"
        }
       },
       "_df_json": "{\"schema\": {\"fields\":[{\"type\":\"integer\",\"name\":\"index\"},{\"type\":\"number\",\"name\":\"qgrid_unfiltered_index\"},{\"type\":\"string\",\"name\":\"neurons\"},{\"type\":\"string\",\"name\":\"features\"},{\"type\":\"string\",\"name\":\"f1_score\"}],\"pandas_version\":\"0.20.0\",\"primaryKey\":[\"index\"]}, \"data\": []}",
       "_df_range": [
        0,
        100
       ],
       "_index_col_name": "qgrid_unfiltered_index",
       "_interval_columns": [],
       "_model_module_version": "1.0.0",
       "_page_size": 100,
       "_row_count": 0,
       "_sort_ascending": true,
       "_sort_field": "",
       "_view_module_version": "1.0.0",
       "grid_options": {
        "autoEdit": false,
        "defaultColumnWidth": 15,
        "editable": false,
        "enableColumnReorder": false,
        "enableTextSelectionOnCells": true,
        "explicitInitialization": true,
        "forceFitColumns": true,
        "fullWidthRows": true,
        "maxVisibleRows": 5,
        "minVisibleRows": 5,
        "rowHeight": 35,
        "syncColumnCellResize": true
       },
       "layout": "IPY_MODEL_da1411cb85974117a34fc477a264f6b2",
       "precision": 5,
       "show_toolbar": false
      }
     },
     "03e13426f250479c9c654ab590330bdf": {
      "model_module": "@jupyter-widgets/base",
      "model_module_version": "1.0.0",
      "model_name": "LayoutModel",
      "state": {}
     },
     "03fce190839f489c89967b22743e2502": {
      "model_module": "@jupyter-widgets/base",
      "model_module_version": "1.0.0",
      "model_name": "LayoutModel",
      "state": {}
     },
     "040719620dcd44abaf642afeb0083412": {
      "model_module": "@jupyter-widgets/base",
      "model_module_version": "1.0.0",
      "model_name": "LayoutModel",
      "state": {}
     },
     "0424a953c21a487dac915a0c58e23ec9": {
      "model_module": "@jupyter-widgets/controls",
      "model_module_version": "1.1.0",
      "model_name": "DescriptionStyleModel",
      "state": {
       "description_width": ""
      }
     },
     "044a91afdc8e4bcda83e9db600af2976": {
      "model_module": "@jupyter-widgets/base",
      "model_module_version": "1.0.0",
      "model_name": "LayoutModel",
      "state": {
       "display": "flex",
       "flex_flow": "row",
       "justify_content": "flex-end"
      }
     },
     "04a41d5af4874a42955d7eae4ecacdb6": {
      "model_module": "@jupyter-widgets/controls",
      "model_module_version": "1.1.0",
      "model_name": "VBoxModel",
      "state": {
       "_dom_classes": [
        "widget-interact"
       ],
       "children": [
        "IPY_MODEL_4239446e48ed49dcb626a149c5ed89d0",
        "IPY_MODEL_6cd03efb5d4647fea315c0d3aecc77d5"
       ],
       "layout": "IPY_MODEL_f588d7cb65fb4aa2930c2dd2bef35481"
      }
     },
     "04bb39433657432b9e1423f2212772e6": {
      "model_module": "@jupyter-widgets/base",
      "model_module_version": "1.0.0",
      "model_name": "LayoutModel",
      "state": {
       "border": "solid 2px",
       "display": "flex",
       "flex_flow": "row",
       "justify_content": "space-between",
       "overflow": "visible"
      }
     },
     "04c8e7d388214ac4975f14b1a1408b6f": {
      "model_module": "@jupyter-widgets/base",
      "model_module_version": "1.0.0",
      "model_name": "LayoutModel",
      "state": {
       "display": "flex",
       "flex_flow": "row",
       "justify_content": "space-between"
      }
     },
     "050518b84a854f90a79d413682d11701": {
      "model_module": "@jupyter-widgets/base",
      "model_module_version": "1.0.0",
      "model_name": "LayoutModel",
      "state": {}
     },
     "050daf10e7ac4f10a123b9a6d7d1ee14": {
      "model_module": "@jupyter-widgets/controls",
      "model_module_version": "1.1.0",
      "model_name": "DropdownModel",
      "state": {
       "_options_labels": [
        "None"
       ],
       "description": "Test Data",
       "index": 0,
       "layout": "IPY_MODEL_5e982ca2b9fd499aa8ca61d45c02e8de",
       "style": "IPY_MODEL_a88b869acad246458a4332b957b3ae64"
      }
     },
     "051e05c4c9844598a5a0c45ecc80d34b": {
      "model_module": "@jupyter-widgets/controls",
      "model_module_version": "1.1.0",
      "model_name": "DescriptionStyleModel",
      "state": {
       "description_width": ""
      }
     },
     "0522478bf81246cda74a10fd7382324e": {
      "model_module": "@jupyter-widgets/base",
      "model_module_version": "1.0.0",
      "model_name": "LayoutModel",
      "state": {
       "min_width": "150px",
       "overflow": "visible"
      }
     },
     "05303f9b74ff483a94b7d8156849767c": {
      "model_module": "@jupyter-widgets/controls",
      "model_module_version": "1.1.0",
      "model_name": "VBoxModel",
      "state": {
       "children": [
        "IPY_MODEL_b84dcdf3d2e6493395d7daaf373f427e",
        "IPY_MODEL_9d25824a26ee4227ae212b4ae5ad736b"
       ],
       "layout": "IPY_MODEL_99f29661adbf4e84bcfa77985a0239c1"
      }
     },
     "053e3ad542484c94b347acbbd523bb5a": {
      "model_module": "@jupyter-widgets/controls",
      "model_module_version": "1.1.0",
      "model_name": "ButtonStyleModel",
      "state": {}
     },
     "056a82665f8d4615a7894d7b25b668b2": {
      "model_module": "@jupyter-widgets/base",
      "model_module_version": "1.0.0",
      "model_name": "LayoutModel",
      "state": {}
     },
     "05e0a51aaf8e4742a26ead9d91763357": {
      "model_module": "@jupyter-widgets/base",
      "model_module_version": "1.0.0",
      "model_name": "LayoutModel",
      "state": {
       "display": "flex",
       "flex_flow": "row",
       "justify_content": "flex-end"
      }
     },
     "05ec40b5723c40f7bcef42fcff1742bb": {
      "model_module": "@jupyter-widgets/base",
      "model_module_version": "1.0.0",
      "model_name": "LayoutModel",
      "state": {}
     },
     "05ffc257a21b456d918d5126782c7138": {
      "model_module": "@jupyter-widgets/controls",
      "model_module_version": "1.1.0",
      "model_name": "ButtonModel",
      "state": {
       "description": "Generate Knowledgepack",
       "icon": "0",
       "layout": "IPY_MODEL_98b4a4d469984ce5b6557e996af35f59",
       "style": "IPY_MODEL_01c9d73031ae4b0890129840d6d24515"
      }
     },
     "0601a92d8d25443881a289f0d0230975": {
      "model_module": "@jupyter-widgets/base",
      "model_module_version": "1.0.0",
      "model_name": "LayoutModel",
      "state": {
       "display": "flex",
       "flex_flow": "row",
       "justify_content": "space-between"
      }
     },
     "0601f203a45a40719fca98bc97e62720": {
      "model_module": "@jupyter-widgets/base",
      "model_module_version": "1.0.0",
      "model_name": "LayoutModel",
      "state": {}
     },
     "061376280ff54de9916b6c0355250f81": {
      "model_module": "@jupyter-widgets/controls",
      "model_module_version": "1.1.0",
      "model_name": "TextModel",
      "state": {
       "description": "Query Name",
       "layout": "IPY_MODEL_759d94edf9f1431bbad8a4e0f2a2ee96",
       "style": "IPY_MODEL_0e6733d09dd444538828ef7447097a7a"
      }
     },
     "06706de7c8034412a5c6c1bbb3d98c23": {
      "model_module": "@jupyter-widgets/controls",
      "model_module_version": "1.1.0",
      "model_name": "DescriptionStyleModel",
      "state": {
       "description_width": ""
      }
     },
     "06d502bb31fe4f538b15ebcaf0daf8ac": {
      "model_module": "@jupyter-widgets/base",
      "model_module_version": "1.0.0",
      "model_name": "LayoutModel",
      "state": {}
     },
     "06de7ceb43e14736afec04beeac188f6": {
      "model_module": "@jupyter-widgets/base",
      "model_module_version": "1.0.0",
      "model_name": "LayoutModel",
      "state": {
       "align_items": "stretch",
       "border": "solid 2px",
       "display": "flex",
       "flex_flow": "column",
       "overflow": "visible",
       "width": "75%"
      }
     },
     "06e5bcdb77ec40a2a03792aad636fcc3": {
      "model_module": "@jupyter-widgets/controls",
      "model_module_version": "1.1.0",
      "model_name": "HBoxModel",
      "state": {
       "children": [
        "IPY_MODEL_c09817b6836f4286b2dccb622c533248",
        "IPY_MODEL_43f3ba40abf84d13a1abd1093f73537f"
       ],
       "layout": "IPY_MODEL_50c30124d94c4955a1ce9f88038862ff"
      }
     },
     "0719624d82ae4cb4ae3259767c714d16": {
      "model_module": "@jupyter-widgets/controls",
      "model_module_version": "1.1.0",
      "model_name": "HBoxModel",
      "state": {
       "children": [
        "IPY_MODEL_3d1aa4ab225f4ca7b41d53cbce125d94",
        "IPY_MODEL_5eac8093847d43438869901d7cfacd0c"
       ],
       "layout": "IPY_MODEL_9352e88500554ab6a7625986fba48f94"
      }
     },
     "0742243c455e4368983ef563c67076cb": {
      "model_module": "@jupyter-widgets/base",
      "model_module_version": "1.0.0",
      "model_name": "LayoutModel",
      "state": {}
     },
     "07516fb9cce043628abb2e4ff4886e9e": {
      "model_module": "@jupyter-widgets/controls",
      "model_module_version": "1.1.0",
      "model_name": "FloatSliderModel",
      "state": {
       "description": "Features",
       "layout": "IPY_MODEL_49554befc653414bb4b0a6061e47bda7",
       "max": 1,
       "step": 0.05,
       "style": "IPY_MODEL_87e5a85666b64e55932b2a26e789c4a8",
       "value": 0.5
      }
     },
     "075ac1e122e94d07bd79933ed411294b": {
      "model_module": "@jupyter-widgets/controls",
      "model_module_version": "1.1.0",
      "model_name": "SelectMultipleModel",
      "state": {
       "description": "Metadtata",
       "index": [],
       "layout": "IPY_MODEL_c99a629d18c3452f9001ef01cf74eb8c",
       "rows": 5,
       "style": "IPY_MODEL_5ae3cc290690490a948ca8b90f6bf988"
      }
     },
     "076c7899ac2a43e185139da14843a9de": {
      "model_module": "@jupyter-widgets/controls",
      "model_module_version": "1.1.0",
      "model_name": "DescriptionStyleModel",
      "state": {
       "description_width": ""
      }
     },
     "07c29a6f938a492ab74c993a2f494802": {
      "model_module": "@jupyter-widgets/controls",
      "model_module_version": "1.1.0",
      "model_name": "DescriptionStyleModel",
      "state": {
       "description_width": ""
      }
     },
     "07dc00d034984c9fb38f69c85cd0927f": {
      "model_module": "@jupyter-widgets/base",
      "model_module_version": "1.0.0",
      "model_name": "LayoutModel",
      "state": {}
     },
     "07fae7422b94490883e3d0a89fc00b23": {
      "model_module": "@jupyter-widgets/controls",
      "model_module_version": "1.1.0",
      "model_name": "DescriptionStyleModel",
      "state": {
       "description_width": ""
      }
     },
     "086a6f0b9bf64bb482b94e030e6046a5": {
      "model_module": "bqplot",
      "model_module_version": "^0.3.2",
      "model_name": "OrdinalScaleModel",
      "state": {
       "domain": []
      }
     },
     "0875ace75ac44ad68e0c7dcdd3897ccc": {
      "model_module": "@jupyter-widgets/controls",
      "model_module_version": "1.1.0",
      "model_name": "DescriptionStyleModel",
      "state": {
       "description_width": ""
      }
     },
     "087890c08b544c60b6a9609fa958d058": {
      "model_module": "bqplot",
      "model_module_version": "^0.3.2",
      "model_name": "LinearScaleModel",
      "state": {
       "allow_padding": false,
       "max": 1,
       "min": 0,
       "stabilized": false
      }
     },
     "0889085b6be8465197c06df03397c2b1": {
      "model_module": "@jupyter-widgets/controls",
      "model_module_version": "1.1.0",
      "model_name": "DescriptionStyleModel",
      "state": {
       "description_width": ""
      }
     },
     "08b7687da92d49aab89b232ccc8fef3e": {
      "model_module": "@jupyter-widgets/controls",
      "model_module_version": "1.1.0",
      "model_name": "DropdownModel",
      "state": {
       "_options_labels": [
        "Segmenter Builder Result",
        "Manual",
        "Segmenter Builder Result AccelZ 2"
       ],
       "description": "Segmenter",
       "index": 2,
       "layout": "IPY_MODEL_a165f378369540caa0b0cd93e2720618",
       "style": "IPY_MODEL_0889085b6be8465197c06df03397c2b1"
      }
     },
     "08c4374acfb8429dbb2ff6ac472de137": {
      "model_module": "@jupyter-widgets/base",
      "model_module_version": "1.0.0",
      "model_name": "LayoutModel",
      "state": {}
     },
     "08cdcc027bd2483e805bbf23645ee260": {
      "model_module": "@jupyter-widgets/base",
      "model_module_version": "1.0.0",
      "model_name": "LayoutModel",
      "state": {}
     },
     "08e0d2c94c534b6897dc17b4b7f0a176": {
      "model_module": "@jupyter-widgets/controls",
      "model_module_version": "1.1.0",
      "model_name": "DropdownModel",
      "state": {
       "_options_labels": [
        "None"
       ],
       "description": "Test Data",
       "index": 0,
       "layout": "IPY_MODEL_1bb2f0d37d9140588c773e6599cbcc2d",
       "style": "IPY_MODEL_8c7b30dc59a64f5daa38736ce2b2fb06"
      }
     },
     "08e20315f20a4322b9e26402e4d56055": {
      "model_module": "@jupyter-widgets/base",
      "model_module_version": "1.0.0",
      "model_name": "LayoutModel",
      "state": {
       "display": "flex",
       "flex_flow": "row",
       "justify_content": "space-between"
      }
     },
     "09034aa52f3c4ee8a1a21b8907b2dc8e": {
      "model_module": "@jupyter-widgets/base",
      "model_module_version": "1.0.0",
      "model_name": "LayoutModel",
      "state": {}
     },
     "0904b9962f334dd09d8fd2251ce7ef89": {
      "model_module": "@jupyter-widgets/controls",
      "model_module_version": "1.1.0",
      "model_name": "ButtonModel",
      "state": {
       "description": "Refresh",
       "icon": "0",
       "layout": "IPY_MODEL_76af2cf4674e4c5390cb8a9164fb7712",
       "style": "IPY_MODEL_0ad69200d282409f8b8e3804e4126f92"
      }
     },
     "09724c215e764e26bcfc3d0431e865ab": {
      "model_module": "@jupyter-widgets/controls",
      "model_module_version": "1.1.0",
      "model_name": "HBoxModel",
      "state": {
       "children": [
        "IPY_MODEL_76fa707d25774a2d8a3a9320b9b1dbd8",
        "IPY_MODEL_bdf126d09d00492898d5306bc08fd3fa"
       ],
       "layout": "IPY_MODEL_2e9539ca823044969b049aca45870a64"
      }
     },
     "097932b1f17a4814acd7748fad271216": {
      "model_module": "@jupyter-widgets/controls",
      "model_module_version": "1.1.0",
      "model_name": "DescriptionStyleModel",
      "state": {
       "description_width": ""
      }
     },
     "097c8bbefb364aeaa303c0b265c21873": {
      "model_module": "@jupyter-widgets/controls",
      "model_module_version": "1.1.0",
      "model_name": "ButtonModel",
      "state": {
       "description": "Add Query",
       "layout": "IPY_MODEL_e9ce5783dde94ee6aac9e6e4752b4502",
       "style": "IPY_MODEL_3e34caf4cd7f4f728d5546398b96e051"
      }
     },
     "098bf7c2add340c7bb8114165f0fc2ee": {
      "model_module": "@jupyter-widgets/controls",
      "model_module_version": "1.1.0",
      "model_name": "VBoxModel",
      "state": {
       "_dom_classes": [
        "widget-interact"
       ],
       "children": [
        "IPY_MODEL_6485c34a6dfb477098f51d036dfb2ff9",
        "IPY_MODEL_769e93be64f44c3abeec7723a0e64112"
       ],
       "layout": "IPY_MODEL_7674f8697cc94ce8b5a8072449d77e79"
      }
     },
     "09c17e114a9a44d2a21fef6a4afd21de": {
      "model_module": "@jupyter-widgets/controls",
      "model_module_version": "1.1.0",
      "model_name": "DropdownModel",
      "state": {
       "_options_labels": [
        "Curie Reference 4.1",
        "Nordic Thingy 2.1",
        "Amulet 4.1"
       ],
       "description": "HW Platform",
       "index": 1,
       "layout": "IPY_MODEL_8349a7aa14114dfda6ef43132bd58a84",
       "style": "IPY_MODEL_a6d91a6c4ef8485f8448381282a5e740"
      }
     },
     "09c1e6f9897341e1bcf9aa6e89bc01b8": {
      "model_module": "@jupyter-widgets/base",
      "model_module_version": "1.0.0",
      "model_name": "LayoutModel",
      "state": {}
     },
     "0a0b42a3a7404a4c91dbab57f5070cd6": {
      "model_module": "@jupyter-widgets/controls",
      "model_module_version": "1.1.0",
      "model_name": "DescriptionStyleModel",
      "state": {
       "description_width": ""
      }
     },
     "0a185f1875ac433b9ef8d21d0c58f5f9": {
      "model_module": "@jupyter-widgets/controls",
      "model_module_version": "1.1.0",
      "model_name": "HBoxModel",
      "state": {
       "children": [
        "IPY_MODEL_f418e6dff2914af28e0e070174074f1c",
        "IPY_MODEL_99aebfba381343fc9fc9be6dc8150c37"
       ],
       "layout": "IPY_MODEL_79ad72dd4d7043bea37e8e50f719c687"
      }
     },
     "0a3434662054489891e82b0bedcab1a3": {
      "model_module": "@jupyter-widgets/controls",
      "model_module_version": "1.1.0",
      "model_name": "DescriptionStyleModel",
      "state": {
       "description_width": ""
      }
     },
     "0a3e489f436a4d5db7c4058e61454803": {
      "model_module": "@jupyter-widgets/base",
      "model_module_version": "1.0.0",
      "model_name": "LayoutModel",
      "state": {}
     },
     "0a4827e94ad2451592c41c4ad79f8c47": {
      "model_module": "@jupyter-widgets/controls",
      "model_module_version": "1.1.0",
      "model_name": "SliderStyleModel",
      "state": {
       "description_width": ""
      }
     },
     "0a4a9cde8ee24f9d95c951c210ed401f": {
      "model_module": "@jupyter-widgets/base",
      "model_module_version": "1.0.0",
      "model_name": "LayoutModel",
      "state": {
       "justify_content": "flex-start",
       "overflow": "visible"
      }
     },
     "0a4e81e4e5de46aea8bb2b6a4d29000a": {
      "model_module": "@jupyter-widgets/controls",
      "model_module_version": "1.1.0",
      "model_name": "TextareaModel",
      "state": {
       "description": "Seed Description",
       "layout": "IPY_MODEL_1e16d234cf7b462da7e8e1a6ff19803f",
       "style": "IPY_MODEL_07fae7422b94490883e3d0a89fc00b23",
       "value": "Generates a comprehensive set of features using statistical, energy,\namplitude, shape, time, and rate of change feature generators. The seed\nthen performs feature selection and model generation algorithms with\na genetic algorithm to optimize pipeline parameters."
      }
     },
     "0a78b8241fb146428a6838cb058440a0": {
      "model_module": "@jupyter-widgets/controls",
      "model_module_version": "1.1.0",
      "model_name": "DropdownModel",
      "state": {
       "description": "Label Column",
       "index": null,
       "layout": "IPY_MODEL_49fc7052a05c4e4dabfa5d24084fb560",
       "style": "IPY_MODEL_1a6a5b86a10e418bb7af1af3c502b815"
      }
     },
     "0a890ccd6fdb4ac689f22e782ba858d5": {
      "model_module": "@jupyter-widgets/controls",
      "model_module_version": "1.1.0",
      "model_name": "ButtonModel",
      "state": {
       "description": "Run Autopipeline",
       "layout": "IPY_MODEL_b3c8f179cf2d4058a773140b68f63abc",
       "style": "IPY_MODEL_2ea9f21d36864497b502f63494f364c5"
      }
     },
     "0aa5000b655e4b8c983991294b65a63e": {
      "model_module": "@jupyter-widgets/base",
      "model_module_version": "1.0.0",
      "model_name": "LayoutModel",
      "state": {}
     },
     "0aac069cdff24e29af7cd40ff818efa0": {
      "model_module": "bqplot",
      "model_module_version": "^0.3.2",
      "model_name": "FigureModel",
      "state": {
       "_dom_classes": [],
       "background_style": {
        "fill": "white"
       },
       "fig_margin": {
        "bottom": 60,
        "left": 80,
        "right": 0,
        "top": 20
       },
       "layout": "IPY_MODEL_217752cdf40c4a158602328b3b31e0a0",
       "legend_location": "bottom-right",
       "max_aspect_ratio": 6,
       "scale_x": "IPY_MODEL_f257dc14dd2640b9bcf2542944e698b6",
       "scale_y": "IPY_MODEL_926fac4217ce4cdfb8be3c25f0040287"
      }
     },
     "0ad69200d282409f8b8e3804e4126f92": {
      "model_module": "@jupyter-widgets/controls",
      "model_module_version": "1.1.0",
      "model_name": "ButtonStyleModel",
      "state": {}
     },
     "0aeae09f3e5d42bb9199bc927c8fd76f": {
      "model_module": "@jupyter-widgets/controls",
      "model_module_version": "1.1.0",
      "model_name": "SliderStyleModel",
      "state": {
       "description_width": ""
      }
     },
     "0b19acb54d6f4414ada52b562270b349": {
      "model_module": "@jupyter-widgets/controls",
      "model_module_version": "1.1.0",
      "model_name": "ButtonModel",
      "state": {
       "description": "Add Query",
       "layout": "IPY_MODEL_f6f4eaa732674e07a676a0fc44fad79a",
       "style": "IPY_MODEL_d46d997807d54dfcb8867e3498619414"
      }
     },
     "0b51ed6ad4bd4019b74cd9c3c0635fb0": {
      "model_module": "@jupyter-widgets/base",
      "model_module_version": "1.0.0",
      "model_name": "LayoutModel",
      "state": {}
     },
     "0b8e9b13b3de404b80bc810e4db1e6a5": {
      "model_module": "@jupyter-widgets/base",
      "model_module_version": "1.0.0",
      "model_name": "LayoutModel",
      "state": {}
     },
     "0bbadb7f54574522bf9f1bb129f86033": {
      "model_module": "@jupyter-widgets/base",
      "model_module_version": "1.0.0",
      "model_name": "LayoutModel",
      "state": {
       "min_width": "150px",
       "overflow": "visible"
      }
     },
     "0bc3d7b364904e3aa48ca5b98a32ccbc": {
      "model_module": "@jupyter-widgets/controls",
      "model_module_version": "1.1.0",
      "model_name": "ButtonStyleModel",
      "state": {}
     },
     "0bdf50a7163f47ff8b1c0ef3391a1870": {
      "model_module": "@jupyter-widgets/controls",
      "model_module_version": "1.1.0",
      "model_name": "DropdownModel",
      "state": {
       "description": "Select Pipeline",
       "index": null,
       "layout": "IPY_MODEL_96aae66b3ae64a369219061d8030783b",
       "style": "IPY_MODEL_70413828b7744cc28c65fefe1896d7d3"
      }
     },
     "0bf96fa82f884fcbb959473a5abb8072": {
      "model_module": "@jupyter-widgets/controls",
      "model_module_version": "1.1.0",
      "model_name": "TextModel",
      "state": {
       "description": "Query Name",
       "layout": "IPY_MODEL_ae99eca0409d4a2b98ab429a992ba4db",
       "style": "IPY_MODEL_ff7d42dd217049fca544788e51f2c0ee"
      }
     },
     "0c0c465c591e4e56a0cdd67c8a26e54d": {
      "model_module": "@jupyter-widgets/base",
      "model_module_version": "1.0.0",
      "model_name": "LayoutModel",
      "state": {
       "min_width": "150px",
       "overflow": "visible"
      }
     },
     "0c0dd81ee1e147acaed4e9bf4e4f25df": {
      "model_module": "@jupyter-widgets/controls",
      "model_module_version": "1.1.0",
      "model_name": "TextareaModel",
      "state": {
       "description": "Seed Description",
       "layout": "IPY_MODEL_3753d0dc17e74a56b23f429af138cbbb",
       "style": "IPY_MODEL_372e1f5c3fe54609ba723483b028837e",
       "value": "Generates a set of all-purpose, high-performance features using\nstatistical, energy, and rate of change feature generators. The seed\nthen performs feature selection and model generation algorithms with\na genetic algorithm to optimize pipeline parameters."
      }
     },
     "0c141997b7674a6cba213803b6a42b40": {
      "model_module": "@jupyter-widgets/base",
      "model_module_version": "1.0.0",
      "model_name": "LayoutModel",
      "state": {
       "border": "outset"
      }
     },
     "0c301afcb5eb437c9cab7d566078c069": {
      "model_module": "@jupyter-widgets/controls",
      "model_module_version": "1.1.0",
      "model_name": "SliderStyleModel",
      "state": {
       "description_width": ""
      }
     },
     "0c770aa579e54f348bd22afcb2e72c87": {
      "model_module": "@jupyter-widgets/base",
      "model_module_version": "1.0.0",
      "model_name": "LayoutModel",
      "state": {}
     },
     "0ccad40d4d114b29a9f63797ade3ffde": {
      "model_module": "@jupyter-widgets/base",
      "model_module_version": "1.0.0",
      "model_name": "LayoutModel",
      "state": {}
     },
     "0cce263599c64dcca1ab622cf89efff9": {
      "model_module": "@jupyter-widgets/controls",
      "model_module_version": "1.1.0",
      "model_name": "ButtonModel",
      "state": {
       "description": "Add Query",
       "layout": "IPY_MODEL_2de675ba2f574e278ee489ed9850c93b",
       "style": "IPY_MODEL_d7a65b6550fe4efbb2c89a69b9aad961"
      }
     },
     "0d1ff174278a4209b6ccb384a79ae04a": {
      "model_module": "@jupyter-widgets/controls",
      "model_module_version": "1.1.0",
      "model_name": "TextareaModel",
      "state": {
       "description": "Description",
       "layout": "IPY_MODEL_9efccc2123c5483db3a0b2d514901fcf",
       "style": "IPY_MODEL_1dd3721bbce1440e8fdde9c06603f800"
      }
     },
     "0d27039a0d48465f8cb522f4bfe1a26b": {
      "model_module": "@jupyter-widgets/base",
      "model_module_version": "1.0.0",
      "model_name": "LayoutModel",
      "state": {
       "display": "flex",
       "flex_flow": "row",
       "justify_content": "space-between"
      }
     },
     "0d53a61b139e43aca02bc93c9ebed35b": {
      "model_module": "@jupyter-widgets/base",
      "model_module_version": "1.0.0",
      "model_name": "LayoutModel",
      "state": {}
     },
     "0d7d1675d37945fabf1eddedabb1a0a2": {
      "model_module": "@jupyter-widgets/base",
      "model_module_version": "1.0.0",
      "model_name": "LayoutModel",
      "state": {}
     },
     "0d9a110dbb484477b330a4e95059a720": {
      "model_module": "@jupyter-widgets/base",
      "model_module_version": "1.0.0",
      "model_name": "LayoutModel",
      "state": {}
     },
     "0dc865e0182c406ba052c8c8b6fa39eb": {
      "model_module": "@jupyter-widgets/base",
      "model_module_version": "1.0.0",
      "model_name": "LayoutModel",
      "state": {}
     },
     "0dee3a5161274539ba69240bef7a67e7": {
      "model_module": "@jupyter-widgets/base",
      "model_module_version": "1.0.0",
      "model_name": "LayoutModel",
      "state": {}
     },
     "0df305547bb04e82b9d5887d613ac383": {
      "model_module": "@jupyter-widgets/base",
      "model_module_version": "1.0.0",
      "model_name": "LayoutModel",
      "state": {}
     },
     "0df8e688c7b640b5b0614593d549bbfe": {
      "model_module": "@jupyter-widgets/base",
      "model_module_version": "1.0.0",
      "model_name": "LayoutModel",
      "state": {}
     },
     "0e1a948a7cc84106beabd77f66d8d421": {
      "model_module": "@jupyter-widgets/base",
      "model_module_version": "1.0.0",
      "model_name": "LayoutModel",
      "state": {
       "align_items": "stretch",
       "border": "solid 2px",
       "display": "flex",
       "flex_flow": "row",
       "width": "50%"
      }
     },
     "0e33d87a8c9043f2af1ea56be5cf5f34": {
      "model_module": "@jupyter-widgets/controls",
      "model_module_version": "1.1.0",
      "model_name": "DescriptionStyleModel",
      "state": {
       "description_width": ""
      }
     },
     "0e3fab22903745fba2d47eb693214e4e": {
      "model_module": "@jupyter-widgets/controls",
      "model_module_version": "1.1.0",
      "model_name": "VBoxModel",
      "state": {
       "_dom_classes": [
        "widget-interact"
       ],
       "children": [
        "IPY_MODEL_e9159cf6f729435e99946a56ec8778f9",
        "IPY_MODEL_0ef5ab8e25f645e598461ecda2167f5f"
       ],
       "layout": "IPY_MODEL_4b73ada6311f45ad83c1c2711be2489c"
      }
     },
     "0e401883414e476d8e38e4b16bc71b36": {
      "model_module": "@jupyter-widgets/controls",
      "model_module_version": "1.1.0",
      "model_name": "DescriptionStyleModel",
      "state": {
       "description_width": ""
      }
     },
     "0e567478fd6d4de098c4c432564c6062": {
      "model_module": "@jupyter-widgets/controls",
      "model_module_version": "1.1.0",
      "model_name": "DescriptionStyleModel",
      "state": {
       "description_width": ""
      }
     },
     "0e5ff5a3db34432bb1e42c3444d7b433": {
      "model_module": "@jupyter-widgets/base",
      "model_module_version": "1.0.0",
      "model_name": "LayoutModel",
      "state": {}
     },
     "0e60645f0108496cbcefca28a6d9fece": {
      "model_module": "@jupyter-widgets/base",
      "model_module_version": "1.0.0",
      "model_name": "LayoutModel",
      "state": {}
     },
     "0e6733d09dd444538828ef7447097a7a": {
      "model_module": "@jupyter-widgets/controls",
      "model_module_version": "1.1.0",
      "model_name": "DescriptionStyleModel",
      "state": {
       "description_width": ""
      }
     },
     "0e7962d1508a4f9c9de6cf6d7a0ccf8c": {
      "model_module": "@jupyter-widgets/base",
      "model_module_version": "1.0.0",
      "model_name": "LayoutModel",
      "state": {}
     },
     "0e7af1425ea947a8b9282b3114611744": {
      "model_module": "@jupyter-widgets/base",
      "model_module_version": "1.0.0",
      "model_name": "LayoutModel",
      "state": {}
     },
     "0e8399b929c446a18e71f1538a437629": {
      "model_module": "bqplot",
      "model_module_version": "^0.3.2",
      "model_name": "OrdinalScaleModel",
      "state": {
       "domain": []
      }
     },
     "0eb4a0c638264393b184d41b370908f4": {
      "model_module": "@jupyter-widgets/base",
      "model_module_version": "1.0.0",
      "model_name": "LayoutModel",
      "state": {}
     },
     "0ec8bf00380644deac545462dbb593df": {
      "model_module": "@jupyter-widgets/controls",
      "model_module_version": "1.1.0",
      "model_name": "ButtonStyleModel",
      "state": {}
     },
     "0ee4d6649ee14347a119de9d04584f35": {
      "model_module": "@jupyter-widgets/base",
      "model_module_version": "1.0.0",
      "model_name": "LayoutModel",
      "state": {}
     },
     "0ef5ab8e25f645e598461ecda2167f5f": {
      "model_module": "@jupyter-widgets/output",
      "model_module_version": "1.1.0",
      "model_name": "OutputModel",
      "state": {
       "_model_module_version": "1.1.0",
       "_view_module_version": "1.1.0",
       "layout": "IPY_MODEL_329ae8ab4b0c429a96df53391ced32a7"
      }
     },
     "0f2b1852ba9b4bcfa4eea7385cc034e4": {
      "model_module": "@jupyter-widgets/controls",
      "model_module_version": "1.1.0",
      "model_name": "DropdownModel",
      "state": {
       "_options_labels": [
        "Default",
        "Windowing(100)",
        "Windowing(200)",
        "Windowing(250)"
       ],
       "description": "Segmenter",
       "index": 0,
       "layout": "IPY_MODEL_2adf5cc75b9e4769b38278b31cdf3e6e",
       "style": "IPY_MODEL_c0d5f91b21f84458b354fe36aee91b44"
      }
     },
     "0f4f0d0fcdb04ec681aab2b15b70c340": {
      "model_module": "@jupyter-widgets/base",
      "model_module_version": "1.0.0",
      "model_name": "LayoutModel",
      "state": {}
     },
     "0fb7ed0e71ed4ec280116e62e4aabf5f": {
      "model_module": "@jupyter-widgets/controls",
      "model_module_version": "1.1.0",
      "model_name": "DescriptionStyleModel",
      "state": {
       "description_width": ""
      }
     },
     "1022076798ba461286c3d049897d4556": {
      "model_module": "@jupyter-widgets/base",
      "model_module_version": "1.0.0",
      "model_name": "LayoutModel",
      "state": {}
     },
     "103f65a3fccf4fb3ab0c94c90f7b9ff0": {
      "model_module": "@jupyter-widgets/controls",
      "model_module_version": "1.1.0",
      "model_name": "DescriptionStyleModel",
      "state": {
       "description_width": ""
      }
     },
     "1043dff58bd84d41b5976222432de4b0": {
      "model_module": "@jupyter-widgets/base",
      "model_module_version": "1.0.0",
      "model_name": "LayoutModel",
      "state": {
       "border": "outset",
       "width": "100%"
      }
     },
     "10537a28b18a4cdfb8c431a8459062e6": {
      "model_module": "@jupyter-widgets/controls",
      "model_module_version": "1.1.0",
      "model_name": "HBoxModel",
      "state": {
       "children": [
        "IPY_MODEL_1a50532ddc2e41928c66a694da681dc2",
        "IPY_MODEL_7a7a23cdb8fc43a2a1513132105fa1ed",
        "IPY_MODEL_dbd9f4d15431409596ef10e63c402a93"
       ],
       "layout": "IPY_MODEL_178e4a89bf9e45baa9a5a83621e09c0e"
      }
     },
     "1054598e5be04ee0a8d9a659207bdb3f": {
      "model_module": "@jupyter-widgets/base",
      "model_module_version": "1.0.0",
      "model_name": "LayoutModel",
      "state": {
       "border": "solid 2px",
       "display": "flex",
       "flex_flow": "row",
       "justify_content": "space-between",
       "overflow": "visible"
      }
     },
     "10546dab71c847f698232e323598735f": {
      "model_module": "@jupyter-widgets/base",
      "model_module_version": "1.0.0",
      "model_name": "LayoutModel",
      "state": {}
     },
     "105a858a2c794b089fef1bdb3718d2ba": {
      "model_module": "@jupyter-widgets/base",
      "model_module_version": "1.0.0",
      "model_name": "LayoutModel",
      "state": {}
     },
     "105de20848ec4fae876c604f443783dc": {
      "model_module": "@jupyter-widgets/controls",
      "model_module_version": "1.1.0",
      "model_name": "SliderStyleModel",
      "state": {
       "description_width": ""
      }
     },
     "10627122f2e043058d3f8b57a11bcc0a": {
      "model_module": "@jupyter-widgets/base",
      "model_module_version": "1.0.0",
      "model_name": "LayoutModel",
      "state": {}
     },
     "106b54ac64fd4f2da9682724a9ec02a2": {
      "model_module": "@jupyter-widgets/controls",
      "model_module_version": "1.1.0",
      "model_name": "ButtonStyleModel",
      "state": {}
     },
     "108e8abe9cfb40669591398d9dd08dae": {
      "model_module": "@jupyter-widgets/base",
      "model_module_version": "1.0.0",
      "model_name": "LayoutModel",
      "state": {
       "display": "flex",
       "flex_flow": "row",
       "justify_content": "space-between",
       "overflow": "visible"
      }
     },
     "109646aec790421bb7f6beb3cb17be02": {
      "model_module": "@jupyter-widgets/controls",
      "model_module_version": "1.1.0",
      "model_name": "DescriptionStyleModel",
      "state": {
       "description_width": ""
      }
     },
     "109d581e03634758939079f5239d9e23": {
      "model_module": "@jupyter-widgets/controls",
      "model_module_version": "1.1.0",
      "model_name": "VBoxModel",
      "state": {
       "children": [
        "IPY_MODEL_560c29f7368b45a0bed16f479e2db84d",
        "IPY_MODEL_c05e985e882b4a7388f71426bd394d82",
        "IPY_MODEL_27ddcd07dfc24610a8890721a5a668d8",
        "IPY_MODEL_46bfab9044684608b45db3de9b01ee9f"
       ],
       "layout": "IPY_MODEL_0c141997b7674a6cba213803b6a42b40"
      }
     },
     "10edc4ae0f774cea95550a71f231e10f": {
      "model_module": "@jupyter-widgets/base",
      "model_module_version": "1.0.0",
      "model_name": "LayoutModel",
      "state": {}
     },
     "1111c5a628bf48a6aba0b633fe5f5384": {
      "model_module": "@jupyter-widgets/base",
      "model_module_version": "1.0.0",
      "model_name": "LayoutModel",
      "state": {}
     },
     "113bbc9650c346e7a1e688917934933c": {
      "model_module": "@jupyter-widgets/base",
      "model_module_version": "1.0.0",
      "model_name": "LayoutModel",
      "state": {}
     },
     "114b5c66d93048a5b64a56487d798f4f": {
      "model_module": "@jupyter-widgets/controls",
      "model_module_version": "1.1.0",
      "model_name": "IntSliderModel",
      "state": {
       "description": "iterations",
       "layout": "IPY_MODEL_3b167403bac543fa94a27641dbac0e35",
       "max": 15,
       "min": 1,
       "style": "IPY_MODEL_570b1e56c7034df49f50d8ba072384ec",
       "value": 2
      }
     },
     "114c2cd0e2084ab7b69249a1a3332caa": {
      "model_module": "@jupyter-widgets/controls",
      "model_module_version": "1.1.0",
      "model_name": "DropdownModel",
      "state": {
       "_options_labels": [
        "submodel-DEF-Jan",
        "Parent-Model-1-Jan",
        "submodel-AD-1-Dec30",
        "Heiarchical Pipeline_rank_0",
        "Heiarchical Pipeline_rank_1",
        "Heiarchical Pipeline_rank_2",
        "Heiarchical Pipeline_rank_3",
        "Heiarchical Pipeline_rank_4"
       ],
       "description": "Model Name",
       "index": 3,
       "layout": "IPY_MODEL_49fe7232a0a040d398c9712684305666",
       "style": "IPY_MODEL_fd430becffaa42519af19050d48c4697"
      }
     },
     "115994bd49814deb8ccfbbbe73fdc440": {
      "model_module": "@jupyter-widgets/controls",
      "model_module_version": "1.1.0",
      "model_name": "FloatSliderModel",
      "state": {
       "description": "Neurons",
       "layout": "IPY_MODEL_82a1151536b34011888dbc8710ccfc80",
       "max": 1,
       "step": 0.05,
       "style": "IPY_MODEL_7ac1b1fa78694516b0ebc25983930307",
       "value": 0.5
      }
     },
     "116a90e84dab4974848f349b7d0736bd": {
      "model_module": "@jupyter-widgets/controls",
      "model_module_version": "1.1.0",
      "model_name": "VBoxModel",
      "state": {
       "children": [
        "IPY_MODEL_4e0b3cc11f3040a8bcc9c430da66aec8",
        "IPY_MODEL_2171567519d64d80b0986a12a1201272",
        "IPY_MODEL_dd4c9ae0f681413ca3ea3b4b2a23fdb1"
       ],
       "layout": "IPY_MODEL_8c90ca9c53934ebd9937c54fb4845611"
      }
     },
     "116f72b955f44e29b02f15e277c14ee7": {
      "model_module": "@jupyter-widgets/controls",
      "model_module_version": "1.1.0",
      "model_name": "AccordionModel",
      "state": {
       "_titles": {
        "0": "Select or Create Query"
       },
       "children": [
        "IPY_MODEL_165e9f8520314ce5aee79dbb5bd791cf"
       ],
       "layout": "IPY_MODEL_70c87f07fa6545e0ad29926c9d849368"
      }
     },
     "11853da788924254965668db8eb15ec7": {
      "model_module": "@jupyter-widgets/controls",
      "model_module_version": "1.1.0",
      "model_name": "ButtonStyleModel",
      "state": {}
     },
     "118e5b973af8452392de6721434cfb75": {
      "model_module": "@jupyter-widgets/base",
      "model_module_version": "1.0.0",
      "model_name": "LayoutModel",
      "state": {
       "align_items": "flex-start",
       "border": "solid 2px",
       "display": "flex",
       "flex_flow": "column",
       "justify_content": "center",
       "overflow": "visible",
       "width": "25%"
      }
     },
     "11c40f2a3c9749589a492b3a960810e3": {
      "model_module": "@jupyter-widgets/controls",
      "model_module_version": "1.1.0",
      "model_name": "DropdownModel",
      "state": {
       "_options_labels": [
        "NordicSDK"
       ],
       "description": "Target OS",
       "index": 0,
       "layout": "IPY_MODEL_7417bb8378464c2e96575b7151ad9b1b",
       "style": "IPY_MODEL_ab81d045f5954bc2aa119ecc6c98371f"
      }
     },
     "11e97b1958c845a09f226ef3fd971e40": {
      "model_module": "@jupyter-widgets/controls",
      "model_module_version": "1.1.0",
      "model_name": "ButtonModel",
      "state": {
       "description": "Update Query",
       "layout": "IPY_MODEL_de9da9f3a709496897ad6a883f7d5727",
       "style": "IPY_MODEL_d81958189a5a4ee4a5a9a5dcc4a20973"
      }
     },
     "11ea9352e3334412b9f5754d098468a1": {
      "model_module": "@jupyter-widgets/controls",
      "model_module_version": "1.1.0",
      "model_name": "ButtonModel",
      "state": {
       "description": "Update Query",
       "layout": "IPY_MODEL_43340ba57bd543b1b4601915b7fd29c1",
       "style": "IPY_MODEL_ac4cd5a464d7444db91806ddd87fe094"
      }
     },
     "123c24decf7243cb86f91716dbfd09f7": {
      "model_module": "@jupyter-widgets/controls",
      "model_module_version": "1.1.0",
      "model_name": "DescriptionStyleModel",
      "state": {
       "description_width": ""
      }
     },
     "123ec29f77704afcbe6d7874a3e93416": {
      "model_module": "@jupyter-widgets/base",
      "model_module_version": "1.0.0",
      "model_name": "LayoutModel",
      "state": {}
     },
     "1284551e330b4860a0cd25ee08ed6415": {
      "model_module": "bqplot",
      "model_module_version": "^0.3.2",
      "model_name": "AxisModel",
      "state": {
       "num_ticks": 5,
       "orientation": "vertical",
       "scale": "IPY_MODEL_82b9199bc0b14e49a25f7f50d00d864a",
       "side": "left",
       "tick_values": {
        "type": null,
        "values": null
       }
      }
     },
     "12984dc79e0548519b08bec344e98ae0": {
      "model_module": "@jupyter-widgets/controls",
      "model_module_version": "1.1.0",
      "model_name": "DescriptionStyleModel",
      "state": {
       "description_width": ""
      }
     },
     "12b8360a45114279bde34025c829d124": {
      "model_module": "@jupyter-widgets/controls",
      "model_module_version": "1.1.0",
      "model_name": "ButtonModel",
      "state": {
       "description": "Refresh",
       "icon": "0",
       "layout": "IPY_MODEL_c3accd355535421bbab82022b796cb22",
       "style": "IPY_MODEL_ec909029da8145ad857d0796c57b97cc"
      }
     },
     "12bd563cc31c4a608be4ccbc85d40375": {
      "model_module": "@jupyter-widgets/controls",
      "model_module_version": "1.1.0",
      "model_name": "TextModel",
      "state": {
       "description": "Query Name",
       "layout": "IPY_MODEL_41f378f9b2dc4e0ebd5c1a63aace252f",
       "style": "IPY_MODEL_06706de7c8034412a5c6c1bbb3d98c23"
      }
     },
     "12dec654e58549fbb21b0c1462edb708": {
      "model_module": "@jupyter-widgets/controls",
      "model_module_version": "1.1.0",
      "model_name": "HBoxModel",
      "state": {
       "children": [
        "IPY_MODEL_53719940ab214400a6df8f718956a2e4",
        "IPY_MODEL_d8600c9980a34ce49d7f8be7ea8d2ee3"
       ],
       "layout": "IPY_MODEL_01adb398aba14ceea77f30e82668690d"
      }
     },
     "12e265d90e6446b29858a0d4ec8753ea": {
      "model_module": "@jupyter-widgets/base",
      "model_module_version": "1.0.0",
      "model_name": "LayoutModel",
      "state": {
       "align_items": "stretch",
       "border": "solid 2px",
       "display": "flex",
       "flex_flow": "column",
       "overflow": "visible",
       "width": "75%"
      }
     },
     "12e3cef60d8941e4bc92942e900ab25d": {
      "model_module": "@jupyter-widgets/controls",
      "model_module_version": "1.1.0",
      "model_name": "DropdownModel",
      "state": {
       "_options_labels": [
        "None"
       ],
       "description": "Test Data",
       "index": 0,
       "layout": "IPY_MODEL_c339d21461914272ae5b50ddd9b6757d",
       "style": "IPY_MODEL_1bb21cb1973c4899b80eb6dbf940360d"
      }
     },
     "1314f0d5168f47c98a87970668013838": {
      "model_module": "@jupyter-widgets/controls",
      "model_module_version": "1.1.0",
      "model_name": "SliderStyleModel",
      "state": {
       "description_width": ""
      }
     },
     "131517a7074d495da971e3075dfb4a6d": {
      "model_module": "@jupyter-widgets/controls",
      "model_module_version": "1.1.0",
      "model_name": "ButtonStyleModel",
      "state": {}
     },
     "132cf5a5da234eafb60f58c59f3ee6d7": {
      "model_module": "@jupyter-widgets/base",
      "model_module_version": "1.0.0",
      "model_name": "LayoutModel",
      "state": {}
     },
     "133ba8bffdce42168652131d819d563d": {
      "model_module": "@jupyter-widgets/base",
      "model_module_version": "1.0.0",
      "model_name": "LayoutModel",
      "state": {}
     },
     "135d9e2c216a4fa68bf5dc07d417b896": {
      "model_module": "@jupyter-widgets/base",
      "model_module_version": "1.0.0",
      "model_name": "LayoutModel",
      "state": {}
     },
     "13826301756845e5be77a1bc12c9960e": {
      "model_module": "@jupyter-widgets/base",
      "model_module_version": "1.0.0",
      "model_name": "LayoutModel",
      "state": {}
     },
     "1399fe135275465a8da0e6a0706093fb": {
      "model_module": "@jupyter-widgets/controls",
      "model_module_version": "1.1.0",
      "model_name": "DescriptionStyleModel",
      "state": {
       "description_width": ""
      }
     },
     "13a45486ff1d4579b8f46748a45fc5e3": {
      "model_module": "@jupyter-widgets/controls",
      "model_module_version": "1.1.0",
      "model_name": "DescriptionStyleModel",
      "state": {
       "description_width": ""
      }
     },
     "13b0ac0684c049e49967c9523469ac83": {
      "model_module": "@jupyter-widgets/controls",
      "model_module_version": "1.1.0",
      "model_name": "VBoxModel",
      "state": {
       "children": [
        "IPY_MODEL_e199a56dfe594663806362b1c8595a72",
        "IPY_MODEL_30cb250e0f1741c9a9313d44afa61f97",
        "IPY_MODEL_c4d19540acf44da3b6f5353e79b80297",
        "IPY_MODEL_d27ccd0eebf2428fa71cccc9606480fe"
       ],
       "layout": "IPY_MODEL_9b4a3352e96e42b6b17fedd8ed9fe19b"
      }
     },
     "13cb371c4b444c44b5fc7262a0459292": {
      "model_module": "@jupyter-widgets/controls",
      "model_module_version": "1.1.0",
      "model_name": "DescriptionStyleModel",
      "state": {
       "description_width": ""
      }
     },
     "13cf81280ece481f990244c3aa648753": {
      "model_module": "@jupyter-widgets/controls",
      "model_module_version": "1.1.0",
      "model_name": "TextareaModel",
      "state": {
       "description": "Seed Description",
       "layout": "IPY_MODEL_99afc2aa038c41f791f5b9f3e22ae80a",
       "style": "IPY_MODEL_9234c64ff9f946748172c82bd0c04b8b",
       "value": "Generates a comprehensive set of features using statistical, energy,\namplitude, shape, time, and rate of change feature generators. The seed\nthen performs feature selection and model generation algorithms with\na genetic algorithm to optimize pipeline parameters."
      }
     },
     "13fec489f1334b8b99aa026f10c3cd65": {
      "model_module": "@jupyter-widgets/base",
      "model_module_version": "1.0.0",
      "model_name": "LayoutModel",
      "state": {}
     },
     "141ad76b78c14dc9a3e854e9ea2e925d": {
      "model_module": "@jupyter-widgets/base",
      "model_module_version": "1.0.0",
      "model_name": "LayoutModel",
      "state": {}
     },
     "14252e7a85754b469df1994177b08d79": {
      "model_module": "@jupyter-widgets/base",
      "model_module_version": "1.0.0",
      "model_name": "LayoutModel",
      "state": {}
     },
     "144390c320224c6ea00126030a71300b": {
      "model_module": "@jupyter-widgets/base",
      "model_module_version": "1.0.0",
      "model_name": "LayoutModel",
      "state": {}
     },
     "14510be369e04adf8e117ff67d9eae33": {
      "model_module": "@jupyter-widgets/controls",
      "model_module_version": "1.1.0",
      "model_name": "FloatSliderModel",
      "state": {
       "description": "Neurons",
       "layout": "IPY_MODEL_91ca17ff2dcf4f5aaf3ece8004f0fc23",
       "max": 1,
       "step": 0.05,
       "style": "IPY_MODEL_a6926511a69246b79f22b5b48940076b",
       "value": 0.5
      }
     },
     "147915ac6204488aab1a4a63553db7e8": {
      "model_module": "@jupyter-widgets/controls",
      "model_module_version": "1.1.0",
      "model_name": "DropdownModel",
      "state": {
       "_options_labels": [
        "Segmenter Builder Result",
        "Manual",
        "Segmenter Builder Result AccelZ 2"
       ],
       "description": "Segmenter",
       "index": 0,
       "layout": "IPY_MODEL_0e7962d1508a4f9c9de6cf6d7a0ccf8c",
       "style": "IPY_MODEL_f1323209050d45adb7925141eb4a00b5"
      }
     },
     "147f236717de44299d923019e95144a5": {
      "model_module": "@jupyter-widgets/base",
      "model_module_version": "1.0.0",
      "model_name": "LayoutModel",
      "state": {
       "justify_content": "flex-start",
       "overflow": "visible"
      }
     },
     "1491a8085465459292dfe3a03dd258ae": {
      "model_module": "@jupyter-widgets/controls",
      "model_module_version": "1.1.0",
      "model_name": "DropdownModel",
      "state": {
       "description": "Select Query",
       "index": null,
       "layout": "IPY_MODEL_3100163231dc4f208c8c1efda14befff",
       "style": "IPY_MODEL_ddce18edd80344779b4a16103ac8cd46"
      }
     },
     "14be0ec91e4a48c58fee7f8c753c19e2": {
      "model_module": "@jupyter-widgets/base",
      "model_module_version": "1.0.0",
      "model_name": "LayoutModel",
      "state": {}
     },
     "14c377c26cfe4f97b21f4b444a1060d3": {
      "model_module": "@jupyter-widgets/controls",
      "model_module_version": "1.1.0",
      "model_name": "DescriptionStyleModel",
      "state": {
       "description_width": ""
      }
     },
     "14caa28d8544455dad5e08c34c135a86": {
      "model_module": "@jupyter-widgets/controls",
      "model_module_version": "1.1.0",
      "model_name": "DropdownModel",
      "state": {
       "description": "Pipeline",
       "index": null,
       "layout": "IPY_MODEL_a7e38ccd98d84d6386d1d44a413de4d7",
       "style": "IPY_MODEL_a09b494ddf0d48bfb3a0c9bec12a99dc"
      }
     },
     "14f8e5f9e75f476887d6b9f69b57117a": {
      "model_module": "@jupyter-widgets/controls",
      "model_module_version": "1.1.0",
      "model_name": "ButtonModel",
      "state": {
       "description": "Add Query",
       "layout": "IPY_MODEL_b6ce7e1c7ffd4f478462a24c0e21d5fb",
       "style": "IPY_MODEL_b53614aac4b848bc9074f9993c6d221f"
      }
     },
     "152ce4ebc64d4d339ef2d11e34282b2b": {
      "model_module": "@jupyter-widgets/controls",
      "model_module_version": "1.1.0",
      "model_name": "DropdownModel",
      "state": {
       "_options_labels": [
        "Default",
        "Windowing(100)",
        "Windowing(200)",
        "Windowing(250)"
       ],
       "description": "Segmenter",
       "index": 0,
       "layout": "IPY_MODEL_7a9b803361ad4a939005b8d4185db7f6",
       "style": "IPY_MODEL_78cc90f648f9488ea16c2c04497d5228"
      }
     },
     "152d9cc25e5d426c9cf0a7b9dd5a606d": {
      "model_module": "@jupyter-widgets/base",
      "model_module_version": "1.0.0",
      "model_name": "LayoutModel",
      "state": {}
     },
     "153373878c4d42b0844bedb341dd8126": {
      "model_module": "@jupyter-widgets/base",
      "model_module_version": "1.0.0",
      "model_name": "LayoutModel",
      "state": {
       "width": "300px"
      }
     },
     "1556c5ffc9ef4230877deb942bde99e9": {
      "model_module": "@jupyter-widgets/controls",
      "model_module_version": "1.1.0",
      "model_name": "CheckboxModel",
      "state": {
       "description": "Reset",
       "disabled": false,
       "layout": "IPY_MODEL_fe041cdf7eb34e92a2340984393b3d7f",
       "style": "IPY_MODEL_fb6622a3df0a415d9a8ee61b1ec08077",
       "value": false
      }
     },
     "156d75c6b87949088d563caab92bb8b0": {
      "model_module": "@jupyter-widgets/controls",
      "model_module_version": "1.1.0",
      "model_name": "DropdownModel",
      "state": {
       "_options_labels": [
        "Binary",
        "Library"
       ],
       "description": "Download",
       "index": 0,
       "layout": "IPY_MODEL_de50b75459ae4946a3721c1f476b5739",
       "style": "IPY_MODEL_3ce15ed761504afbbb498c966173b4c7"
      }
     },
     "15832279edbf439e93d2e184d8d6b808": {
      "model_module": "@jupyter-widgets/controls",
      "model_module_version": "1.1.0",
      "model_name": "SliderStyleModel",
      "state": {
       "description_width": ""
      }
     },
     "158879d358bd4f9aa9ea2a4c8a86710f": {
      "model_module": "@jupyter-widgets/base",
      "model_module_version": "1.0.0",
      "model_name": "LayoutModel",
      "state": {}
     },
     "1592ff28afdb4029991518e135733f28": {
      "model_module": "@jupyter-widgets/controls",
      "model_module_version": "1.1.0",
      "model_name": "SelectMultipleModel",
      "state": {
       "_options_labels": [
        "ble",
        "led",
        "serial"
       ],
       "description": "Output",
       "index": [
        0
       ],
       "layout": "IPY_MODEL_ff31c40d2f6240259fcf0d0fb491ed25",
       "rows": 5,
       "style": "IPY_MODEL_0a0b42a3a7404a4c91dbab57f5070cd6"
      }
     },
     "15afd2b7a56b48eeb97490c0b858fa3d": {
      "model_module": "@jupyter-widgets/base",
      "model_module_version": "1.0.0",
      "model_name": "LayoutModel",
      "state": {}
     },
     "15ec9bfd5b284743aaba6298e0205f2f": {
      "model_module": "@jupyter-widgets/controls",
      "model_module_version": "1.1.0",
      "model_name": "DropdownModel",
      "state": {
       "_options_labels": [
        "None"
       ],
       "description": "Test Data",
       "index": 0,
       "layout": "IPY_MODEL_971b86b183d54b168db7323860a934e0",
       "style": "IPY_MODEL_3214d06deaf942308101cfaf3b657098"
      }
     },
     "1616756e17f64749869e5b1d5d4d6fba": {
      "model_module": "@jupyter-widgets/controls",
      "model_module_version": "1.1.0",
      "model_name": "AccordionModel",
      "state": {
       "_titles": {
        "0": "AutoSense Pipeline"
       },
       "children": [
        "IPY_MODEL_af5170cfcbb5492a8fd60828bbf4c881"
       ],
       "layout": "IPY_MODEL_c71274b6ecbb4310bbad248850e96c60"
      }
     },
     "16255b5e2fc5455882eb8ddbb70e53a7": {
      "model_module": "@jupyter-widgets/base",
      "model_module_version": "1.0.0",
      "model_name": "LayoutModel",
      "state": {}
     },
     "163e6d0c92494b48ad7ee6af5d7dc653": {
      "model_module": "@jupyter-widgets/controls",
      "model_module_version": "1.1.0",
      "model_name": "VBoxModel",
      "state": {
       "children": [
        "IPY_MODEL_c4785dd1e8d84f2fa618f209abf71cbf",
        "IPY_MODEL_cf3c9d62305c4f21bcb4e7a54b3f405d",
        "IPY_MODEL_876cc699b4c24914a99ee45e58b3e50f",
        "IPY_MODEL_0c0dd81ee1e147acaed4e9bf4e4f25df"
       ],
       "layout": "IPY_MODEL_8a88dd321373472ba718d0144befce27"
      }
     },
     "164dc4ede9294aafa26d662422d4306e": {
      "model_module": "@jupyter-widgets/controls",
      "model_module_version": "1.1.0",
      "model_name": "DropdownModel",
      "state": {
       "_options_labels": [
        "None"
       ],
       "description": "Test Data",
       "index": 0,
       "layout": "IPY_MODEL_0dee3a5161274539ba69240bef7a67e7",
       "style": "IPY_MODEL_41d08d0552b5480a9cdcc1b8a34b9c80"
      }
     },
     "165e9f8520314ce5aee79dbb5bd791cf": {
      "model_module": "@jupyter-widgets/controls",
      "model_module_version": "1.1.0",
      "model_name": "HBoxModel",
      "state": {
       "children": [
        "IPY_MODEL_e45e11cfccce4c75b87a2827d85a2250",
        "IPY_MODEL_0aac069cdff24e29af7cd40ff818efa0"
       ],
       "layout": "IPY_MODEL_113bbc9650c346e7a1e688917934933c"
      }
     },
     "1686de495a1b4acaa63899b28a297b78": {
      "model_module": "@jupyter-widgets/base",
      "model_module_version": "1.0.0",
      "model_name": "LayoutModel",
      "state": {
       "display": "flex",
       "flex_flow": "row",
       "justify_content": "flex-end"
      }
     },
     "16bc811b3c3c47ce90967fdc47affd2d": {
      "model_module": "@jupyter-widgets/base",
      "model_module_version": "1.0.0",
      "model_name": "LayoutModel",
      "state": {
       "border": "solid 2px",
       "display": "flex",
       "flex_flow": "row",
       "justify_content": "center",
       "overflow": "visible"
      }
     },
     "16dc6883393e4da7a0212fb22d5ad43d": {
      "model_module": "@jupyter-widgets/base",
      "model_module_version": "1.0.0",
      "model_name": "LayoutModel",
      "state": {}
     },
     "16e45cb6e9624f899a6cf2bf7d966523": {
      "model_module": "@jupyter-widgets/controls",
      "model_module_version": "1.1.0",
      "model_name": "FloatSliderModel",
      "state": {
       "description": "Neurons",
       "layout": "IPY_MODEL_e34debdec6fe44b8a0e101ad3e89b5f2",
       "max": 1,
       "step": 0.05,
       "style": "IPY_MODEL_b3848b35a15440a5abe2cc714ef136df",
       "value": 0.5
      }
     },
     "1705566b43b4481396db70b17e61d238": {
      "model_module": "@jupyter-widgets/controls",
      "model_module_version": "1.1.0",
      "model_name": "SliderStyleModel",
      "state": {
       "description_width": ""
      }
     },
     "1708632d2f744bc7bc23bad5ab6f4145": {
      "model_module": "@jupyter-widgets/controls",
      "model_module_version": "1.1.0",
      "model_name": "TextModel",
      "state": {
       "description": "Query Filter",
       "layout": "IPY_MODEL_f8cd44b306f349ff8362da1fa3ffe5e9",
       "style": "IPY_MODEL_2c3f5b92fac04e019bd4eef32d7e7ac8"
      }
     },
     "175536de9ba64b968ce8cb0f515500fe": {
      "model_module": "bqplot",
      "model_module_version": "^0.3.2",
      "model_name": "FigureModel",
      "state": {
       "_dom_classes": [],
       "background_style": {
        "fill": "white"
       },
       "fig_margin": {
        "bottom": 60,
        "left": 80,
        "right": 0,
        "top": 20
       },
       "layout": "IPY_MODEL_36f820c52b9f40b7ad0e90e6f44225a5",
       "legend_location": "bottom-right",
       "max_aspect_ratio": 6,
       "scale_x": "IPY_MODEL_686e47a0f38442f2be82a13f02e6f86e",
       "scale_y": "IPY_MODEL_f272de2fd0ae4f6f94ccfbc664b239af"
      }
     },
     "175646759e6b47b18285e2b5249f57f3": {
      "model_module": "@jupyter-widgets/base",
      "model_module_version": "1.0.0",
      "model_name": "LayoutModel",
      "state": {}
     },
     "1766b6a46e01443aab74f5d7207e43bd": {
      "model_module": "@jupyter-widgets/controls",
      "model_module_version": "1.1.0",
      "model_name": "DropdownModel",
      "state": {
       "description": "Segmenter",
       "index": null,
       "layout": "IPY_MODEL_fa8d626165a040d6b30057693257dd35",
       "style": "IPY_MODEL_796b0cec99a44ebb8e0ce9fc1ba9f298"
      }
     },
     "178e4a89bf9e45baa9a5a83621e09c0e": {
      "model_module": "@jupyter-widgets/base",
      "model_module_version": "1.0.0",
      "model_name": "LayoutModel",
      "state": {
       "border": "outset",
       "width": "100%"
      }
     },
     "17b83a85ca6a42629d6125757cc125b0": {
      "model_module": "@jupyter-widgets/controls",
      "model_module_version": "1.1.0",
      "model_name": "DescriptionStyleModel",
      "state": {
       "description_width": ""
      }
     },
     "17ba588ae6e74fca8fc0a5dc60add1ec": {
      "model_module": "@jupyter-widgets/controls",
      "model_module_version": "1.1.0",
      "model_name": "SliderStyleModel",
      "state": {
       "description_width": ""
      }
     },
     "17bb2f58beab442abc5ba67c51429e6c": {
      "model_module": "@jupyter-widgets/base",
      "model_module_version": "1.0.0",
      "model_name": "LayoutModel",
      "state": {}
     },
     "17e5aff0a1c74e8591c91c31cdaa4f92": {
      "model_module": "@jupyter-widgets/controls",
      "model_module_version": "1.1.0",
      "model_name": "SelectMultipleModel",
      "state": {
       "description": "Sources",
       "index": [],
       "layout": "IPY_MODEL_de5b61c844c94b9c8027cf8e2f4f7871",
       "rows": 5,
       "style": "IPY_MODEL_0424a953c21a487dac915a0c58e23ec9"
      }
     },
     "17f47617659f4222a5362cb639f41f00": {
      "model_module": "@jupyter-widgets/controls",
      "model_module_version": "1.1.0",
      "model_name": "DescriptionStyleModel",
      "state": {
       "description_width": ""
      }
     },
     "1805654662d94e0c8746c9d8d316d0e2": {
      "model_module": "@jupyter-widgets/base",
      "model_module_version": "1.0.0",
      "model_name": "LayoutModel",
      "state": {
       "min_width": "150px",
       "overflow": "visible"
      }
     },
     "18262a18730a45079f46be0b1ec1278b": {
      "model_module": "@jupyter-widgets/base",
      "model_module_version": "1.0.0",
      "model_name": "LayoutModel",
      "state": {}
     },
     "182aadaa341c45b9aa6f023e48883282": {
      "model_module": "@jupyter-widgets/controls",
      "model_module_version": "1.1.0",
      "model_name": "DropdownModel",
      "state": {
       "_options_labels": [
        "Curie Reference 4.1",
        "Nordic Thingy 2.1",
        "Amulet 4.1"
       ],
       "description": "HW Platform",
       "index": 1,
       "layout": "IPY_MODEL_733fd391482945fc8d7211a765024ed6",
       "style": "IPY_MODEL_c011bc0313ac4df59d7e07763da3d972"
      }
     },
     "1839125974f54018a939d8d631c68251": {
      "model_module": "@jupyter-widgets/controls",
      "model_module_version": "1.1.0",
      "model_name": "AccordionModel",
      "state": {
       "_titles": {
        "0": "Download Knowledgepack"
       },
       "children": [
        "IPY_MODEL_8e122e481de24f958816c1e824b66ac1"
       ],
       "layout": "IPY_MODEL_53b94ffc27a241a8b9d2f2985bbff1e8"
      }
     },
     "185ca9223cd847aaa6880fba9daec988": {
      "model_module": "@jupyter-widgets/controls",
      "model_module_version": "1.1.0",
      "model_name": "DescriptionStyleModel",
      "state": {
       "description_width": ""
      }
     },
     "186a5969d1cf464bbca7f1faa5782c73": {
      "model_module": "@jupyter-widgets/base",
      "model_module_version": "1.0.0",
      "model_name": "LayoutModel",
      "state": {}
     },
     "18747b8ce5ae450b8b113af776c5a238": {
      "model_module": "@jupyter-widgets/base",
      "model_module_version": "1.0.0",
      "model_name": "LayoutModel",
      "state": {}
     },
     "1883df2ee8104791892f8a7346f4fa16": {
      "model_module": "@jupyter-widgets/controls",
      "model_module_version": "1.1.0",
      "model_name": "DescriptionStyleModel",
      "state": {
       "description_width": ""
      }
     },
     "188826a7202443ca9e73e192a7a46bb7": {
      "model_module": "@jupyter-widgets/controls",
      "model_module_version": "1.1.0",
      "model_name": "DescriptionStyleModel",
      "state": {
       "description_width": ""
      }
     },
     "1892df3e443f48a9b1e89101fec227e1": {
      "model_module": "@jupyter-widgets/controls",
      "model_module_version": "1.1.0",
      "model_name": "CheckboxModel",
      "state": {
       "description": "Reset",
       "disabled": false,
       "layout": "IPY_MODEL_42deb9160fc147fbacdfffe9e4b0ab52",
       "style": "IPY_MODEL_cd155dd243f94263b2665094aa1a5af6",
       "value": false
      }
     },
     "1893f18d85834fab8b0dc1a841a49782": {
      "model_module": "@jupyter-widgets/base",
      "model_module_version": "1.0.0",
      "model_name": "LayoutModel",
      "state": {}
     },
     "18d56d0910ff4074a6f9c03646588b23": {
      "model_module": "@jupyter-widgets/base",
      "model_module_version": "1.0.0",
      "model_name": "LayoutModel",
      "state": {}
     },
     "18e3b91805da47de954595eb216af372": {
      "model_module": "@jupyter-widgets/controls",
      "model_module_version": "1.1.0",
      "model_name": "ButtonModel",
      "state": {
       "description": "Refresh",
       "icon": "0",
       "layout": "IPY_MODEL_c67708b219a144c6b7e425f3c0b4a9e7",
       "style": "IPY_MODEL_94437db155994cb0a610bb13731b0a74"
      }
     },
     "18e6d1bb2d40489e885a86220f4c9300": {
      "model_module": "@jupyter-widgets/base",
      "model_module_version": "1.0.0",
      "model_name": "LayoutModel",
      "state": {}
     },
     "18f1427d66c145cb8ca52917e3aa9907": {
      "model_module": "@jupyter-widgets/controls",
      "model_module_version": "1.1.0",
      "model_name": "SliderStyleModel",
      "state": {
       "description_width": ""
      }
     },
     "190a3fd6ee90428194f0065948ac875d": {
      "model_module": "@jupyter-widgets/base",
      "model_module_version": "1.0.0",
      "model_name": "LayoutModel",
      "state": {}
     },
     "190de35d917448c9872b64bd961fad39": {
      "model_module": "@jupyter-widgets/controls",
      "model_module_version": "1.1.0",
      "model_name": "VBoxModel",
      "state": {
       "children": [
        "IPY_MODEL_10537a28b18a4cdfb8c431a8459062e6",
        "IPY_MODEL_207fb6890fd24ee69dd59ef1669f6ea1",
        "IPY_MODEL_3ce6ea94b5584f369edec410b74180a9",
        "IPY_MODEL_1839125974f54018a939d8d631c68251"
       ],
       "layout": "IPY_MODEL_319c92af79324010b825c4391b04e3db"
      }
     },
     "191b6e6ac9f74c77bd47910d1664d0f5": {
      "model_module": "@jupyter-widgets/controls",
      "model_module_version": "1.1.0",
      "model_name": "SelectMultipleModel",
      "state": {
       "_options_labels": [
        "AccelerometerX",
        "AccelerometerY",
        "AccelerometerZ",
        "GyroscopeX",
        "GyroscopeY",
        "GyroscopeZ"
       ],
       "description": "Sources",
       "index": [
        0,
        1,
        2,
        3,
        4,
        5
       ],
       "layout": "IPY_MODEL_f22bb7d4ec71433781db88cbd22a4e1a",
       "rows": 5,
       "style": "IPY_MODEL_e46ab8ceac294b8ba3ad710546d7df32"
      }
     },
     "1929da869f064584a40f07f2c3249cb3": {
      "model_module": "@jupyter-widgets/base",
      "model_module_version": "1.0.0",
      "model_name": "LayoutModel",
      "state": {}
     },
     "19359a09c8be4f079dd669e9c7005ded": {
      "model_module": "@jupyter-widgets/controls",
      "model_module_version": "1.1.0",
      "model_name": "SelectMultipleModel",
      "state": {
       "_options_labels": [
        "AccelerometerX",
        "AccelerometerY",
        "AccelerometerZ",
        "GyroscopeX",
        "GyroscopeY",
        "GyroscopeZ"
       ],
       "description": "Sources",
       "index": [
        0,
        1,
        2,
        3,
        4,
        5
       ],
       "layout": "IPY_MODEL_a4bec04478c94863ad05c4c76e6a03ab",
       "rows": 5,
       "style": "IPY_MODEL_e58f93254e4747569bc7be75f8003693"
      }
     },
     "194453e10e3249f7ba4e620103d567d4": {
      "model_module": "@jupyter-widgets/controls",
      "model_module_version": "1.1.0",
      "model_name": "DropdownModel",
      "state": {
       "description": "Select Query",
       "index": null,
       "layout": "IPY_MODEL_60f1f4e660fd44d3a4df1b6214547917",
       "style": "IPY_MODEL_dc7542e2d9104943b0e156259f0be522"
      }
     },
     "197c1b50a1dc496e8b447abc9f310958": {
      "model_module": "@jupyter-widgets/base",
      "model_module_version": "1.0.0",
      "model_name": "LayoutModel",
      "state": {}
     },
     "19d1a6b6845542d99e80cc75ef3442cf": {
      "model_module": "@jupyter-widgets/base",
      "model_module_version": "1.0.0",
      "model_name": "LayoutModel",
      "state": {}
     },
     "19d417a2581a4a2ab63c7de1f8300709": {
      "model_module": "@jupyter-widgets/controls",
      "model_module_version": "1.1.0",
      "model_name": "DescriptionStyleModel",
      "state": {
       "description_width": ""
      }
     },
     "19e3730087a649329b139e843a0e5076": {
      "model_module": "@jupyter-widgets/controls",
      "model_module_version": "1.1.0",
      "model_name": "ButtonStyleModel",
      "state": {}
     },
     "19f4575861fe43688609c33b9a9c766d": {
      "model_module": "bqplot",
      "model_module_version": "^0.3.2",
      "model_name": "FigureModel",
      "state": {
       "_dom_classes": [],
       "axes": [
        "IPY_MODEL_5c035d7b798b415ab49e9eab569189c4",
        "IPY_MODEL_56fa1f60a8d1465f9f7b30fbcfb406ce"
       ],
       "background_style": {
        "fill": "white"
       },
       "fig_margin": {
        "bottom": 60,
        "left": 80,
        "right": 0,
        "top": 20
       },
       "layout": "IPY_MODEL_f624f71e93544b4cad477940c5b20980",
       "legend_location": "bottom-right",
       "marks": [
        "IPY_MODEL_bf5abaa120cf41399d6302b4daf52a35"
       ],
       "max_aspect_ratio": 6,
       "scale_x": "IPY_MODEL_ce23ef641c4947fdbd5335ffbf3da761",
       "scale_y": "IPY_MODEL_26d2285225064a0da957e21312b0ffaf"
      }
     },
     "19fadbdcb58648b795562437b4d7f9ed": {
      "model_module": "@jupyter-widgets/controls",
      "model_module_version": "1.1.0",
      "model_name": "TextareaModel",
      "state": {
       "description": "Seed Description",
       "layout": "IPY_MODEL_5abe6b4353d745a196205c1393c36851",
       "style": "IPY_MODEL_ed1caf7303da4eceb76ec2a2cf572e00"
      }
     },
     "1a2c4a848db74180a2c8ae8654a99d2f": {
      "model_module": "bqplot",
      "model_module_version": "^0.3.2",
      "model_name": "AxisModel",
      "state": {
       "scale": "IPY_MODEL_defa59428bdc4642b69d5ff1527fe111",
       "side": "bottom",
       "tick_values": {
        "type": "<U1",
        "values": [
         "A",
         "B"
        ]
       }
      }
     },
     "1a46c50237e64e179179b5bfd323d87a": {
      "model_module": "@jupyter-widgets/controls",
      "model_module_version": "1.1.0",
      "model_name": "DescriptionStyleModel",
      "state": {
       "description_width": ""
      }
     },
     "1a50532ddc2e41928c66a694da681dc2": {
      "model_module": "@jupyter-widgets/controls",
      "model_module_version": "1.1.0",
      "model_name": "ButtonModel",
      "state": {
       "description": "Login",
       "layout": "IPY_MODEL_b4b05b87936d47da83e3816578956193",
       "style": "IPY_MODEL_c35d2049324d4580a8a87b292459a127"
      }
     },
     "1a6a5b86a10e418bb7af1af3c502b815": {
      "model_module": "@jupyter-widgets/controls",
      "model_module_version": "1.1.0",
      "model_name": "DescriptionStyleModel",
      "state": {
       "description_width": ""
      }
     },
     "1a96ff4d929344eab265ab58e4ad0c59": {
      "model_module": "@jupyter-widgets/base",
      "model_module_version": "1.0.0",
      "model_name": "LayoutModel",
      "state": {}
     },
     "1aa5aab6f7ea42859d4b99ac1077b888": {
      "model_module": "@jupyter-widgets/controls",
      "model_module_version": "1.1.0",
      "model_name": "VBoxModel",
      "state": {
       "children": [
        "IPY_MODEL_781435be91a741eda2c5c902df207ee7",
        "IPY_MODEL_d5380d38825a49d28dd53d026be77ad0",
        "IPY_MODEL_6981916ca2cc46e3a83e8019c98358f9",
        "IPY_MODEL_efdcf2c25052421db3db0f0ad21dff85",
        "IPY_MODEL_b8bc040c6465404ba7a8143914ac9a69",
        "IPY_MODEL_3e8048eb031f40fb9eb590e19434d4b2",
        "IPY_MODEL_3445dcece39c443fa1c5245d67e782cc",
        "IPY_MODEL_4945614b7c30435aa8f4e8e5334b3000"
       ],
       "layout": "IPY_MODEL_417c5e09d5fc4ed9ac794f2525738852"
      }
     },
     "1aa943cc2aad46df924a92edb5eaa621": {
      "model_module": "@jupyter-widgets/base",
      "model_module_version": "1.0.0",
      "model_name": "LayoutModel",
      "state": {}
     },
     "1ab92a0e2650424aa689bf302c5e0186": {
      "model_module": "@jupyter-widgets/base",
      "model_module_version": "1.0.0",
      "model_name": "LayoutModel",
      "state": {}
     },
     "1acab903fd3845da937d73b59e3a198c": {
      "model_module": "@jupyter-widgets/base",
      "model_module_version": "1.0.0",
      "model_name": "LayoutModel",
      "state": {}
     },
     "1ae3a072aa9247a58573cd78d4a08cca": {
      "model_module": "@jupyter-widgets/controls",
      "model_module_version": "1.1.0",
      "model_name": "DescriptionStyleModel",
      "state": {
       "description_width": ""
      }
     },
     "1af44d8231744dfea03c6ab97fa16fe7": {
      "model_module": "@jupyter-widgets/controls",
      "model_module_version": "1.1.0",
      "model_name": "DescriptionStyleModel",
      "state": {
       "description_width": ""
      }
     },
     "1af9d0e52a4e4c64af3e852da57305af": {
      "model_module": "bqplot",
      "model_module_version": "^0.3.2",
      "model_name": "LinearScaleModel",
      "state": {
       "allow_padding": false,
       "max": 1,
       "min": 0,
       "stabilized": false
      }
     },
     "1b02b1df4d2d48cfa690b9095b5f4f21": {
      "model_module": "@jupyter-widgets/controls",
      "model_module_version": "1.1.0",
      "model_name": "SelectMultipleModel",
      "state": {
       "_options_labels": [
        "AccelerometerX",
        "AccelerometerY",
        "AccelerometerZ",
        "GyroscopeX",
        "GyroscopeY",
        "GyroscopeZ"
       ],
       "description": "Sources",
       "index": [
        0,
        1,
        2,
        3,
        4,
        5
       ],
       "layout": "IPY_MODEL_b9564c4b768b442681714ed6ad76f81f",
       "rows": 5,
       "style": "IPY_MODEL_2fbe6ee8fce14834be537cbeb7397fe9"
      }
     },
     "1b24a374db2d4e4da1728f06de956af1": {
      "model_module": "bqplot",
      "model_module_version": "^0.3.2",
      "model_name": "AxisModel",
      "state": {
       "num_ticks": 5,
       "orientation": "vertical",
       "scale": "IPY_MODEL_63151f9a2d224db99dad867452f8d0ea",
       "side": "left",
       "tick_values": {
        "type": null,
        "values": null
       }
      }
     },
     "1b52ab680b584bc6a4f88b420094ce9f": {
      "model_module": "@jupyter-widgets/controls",
      "model_module_version": "1.1.0",
      "model_name": "DescriptionStyleModel",
      "state": {
       "description_width": ""
      }
     },
     "1b62cb05adf64690ad784d4b9be98442": {
      "model_module": "@jupyter-widgets/base",
      "model_module_version": "1.0.0",
      "model_name": "LayoutModel",
      "state": {}
     },
     "1b7c8b5e892c4678b72377d4fc0c51ab": {
      "model_module": "@jupyter-widgets/base",
      "model_module_version": "1.0.0",
      "model_name": "LayoutModel",
      "state": {}
     },
     "1b9ce8ca2d0b4667a25b8e64a7656f4c": {
      "model_module": "@jupyter-widgets/controls",
      "model_module_version": "1.1.0",
      "model_name": "HBoxModel",
      "state": {
       "children": [
        "IPY_MODEL_ed485aa0f44e4eda8bc9d549c440fab2",
        "IPY_MODEL_62292367a1a24356abb74edd71098635",
        "IPY_MODEL_ffee411faaa94f4ea56751096c602012"
       ],
       "layout": "IPY_MODEL_c79ec1f6aaa44f4caeef4271aecef444"
      }
     },
     "1bb21cb1973c4899b80eb6dbf940360d": {
      "model_module": "@jupyter-widgets/controls",
      "model_module_version": "1.1.0",
      "model_name": "DescriptionStyleModel",
      "state": {
       "description_width": ""
      }
     },
     "1bb2f0d37d9140588c773e6599cbcc2d": {
      "model_module": "@jupyter-widgets/base",
      "model_module_version": "1.0.0",
      "model_name": "LayoutModel",
      "state": {}
     },
     "1bc6f23f17f248e082f01ea919c1c378": {
      "model_module": "@jupyter-widgets/controls",
      "model_module_version": "1.1.0",
      "model_name": "VBoxModel",
      "state": {
       "children": [
        "IPY_MODEL_fe5fec1e75a84fb985c4a727847a2f40",
        "IPY_MODEL_c55aab3bb1534f2fa2c85b308496a86a",
        "IPY_MODEL_627d248a3e4e4bc69b585b23ed35b8d0",
        "IPY_MODEL_f4e39eb08bed48329ac57922c72ebaf5",
        "IPY_MODEL_98f648c958aa415493e569a703940fc3",
        "IPY_MODEL_36b83e7f992946e0abacf70d0b8e300a"
       ],
       "layout": "IPY_MODEL_647de3be9aff4cc3ac8748a297d67d5e"
      }
     },
     "1bc9e3aac9d04b08a91813c1ed6ecd72": {
      "model_module": "@jupyter-widgets/base",
      "model_module_version": "1.0.0",
      "model_name": "LayoutModel",
      "state": {
       "display": "flex",
       "flex_flow": "row",
       "justify_content": "space-between"
      }
     },
     "1bf02a7fcc4346f9b60e41b0ce4d570e": {
      "model_module": "@jupyter-widgets/base",
      "model_module_version": "1.0.0",
      "model_name": "LayoutModel",
      "state": {
       "align_items": "stretch",
       "border": "solid 2px",
       "display": "flex",
       "flex_flow": "column",
       "overflow": "visible",
       "width": "75%"
      }
     },
     "1bf7748eceda4ef29b22b430dd995483": {
      "model_module": "@jupyter-widgets/base",
      "model_module_version": "1.0.0",
      "model_name": "LayoutModel",
      "state": {}
     },
     "1c272e0f351142e08fa748af94f171b0": {
      "model_module": "@jupyter-widgets/controls",
      "model_module_version": "1.1.0",
      "model_name": "DropdownModel",
      "state": {
       "_options_labels": [
        "",
        "DemoPipeline",
        "Hiearchical Whatever",
        "New Pipeline",
        "Heiarchical Pipeline",
        "Test Pipeline",
        "Gesture Pipeline",
        "Redxy ",
        ""
       ],
       "description": "Select Pipeline",
       "index": 0,
       "layout": "IPY_MODEL_c900ff47193f4bdb9686be76d558af44",
       "style": "IPY_MODEL_35c72fce0cb845b792aeae6b5643ecd9"
      }
     },
     "1c3e5710eaeb452e8547dc5e9a86a717": {
      "model_module": "@jupyter-widgets/base",
      "model_module_version": "1.0.0",
      "model_name": "LayoutModel",
      "state": {}
     },
     "1c7abc537f464c8592df0c33142524ff": {
      "model_module": "@jupyter-widgets/controls",
      "model_module_version": "1.1.0",
      "model_name": "FloatSliderModel",
      "state": {
       "description": "Accuracy",
       "layout": "IPY_MODEL_31eb814f079e474da1c6f9ea938800a0",
       "max": 1,
       "step": 0.05,
       "style": "IPY_MODEL_3f04543ee0874c8b807043dbc2dcbb40",
       "value": 0.8
      }
     },
     "1c7cb570338d48c0b44e7985f3711e18": {
      "model_module": "@jupyter-widgets/controls",
      "model_module_version": "1.1.0",
      "model_name": "DescriptionStyleModel",
      "state": {
       "description_width": ""
      }
     },
     "1c9c54c82ac14c15bc4047e9ce2813c3": {
      "model_module": "@jupyter-widgets/controls",
      "model_module_version": "1.1.0",
      "model_name": "FloatSliderModel",
      "state": {
       "description": "Accuracy",
       "layout": "IPY_MODEL_92c4f8d3a77c4410a44b9281073ae500",
       "max": 1,
       "step": 0.05,
       "style": "IPY_MODEL_cf99b2370db44c8c9be1f1967331e292",
       "value": 0.8
      }
     },
     "1ca030b25dd244428cd7c8e2af8e5ba8": {
      "model_module": "@jupyter-widgets/controls",
      "model_module_version": "1.1.0",
      "model_name": "HBoxModel",
      "state": {
       "children": [
        "IPY_MODEL_4022dd77482345de8a9b999d87d992fb",
        "IPY_MODEL_716d11a49b79455c8ab389b8b2181d41"
       ],
       "layout": "IPY_MODEL_275ecf1781f64dbdba73b263366a15ab"
      }
     },
     "1cf2da49d9c3471ea49ebda7dd2d4e86": {
      "model_module": "@jupyter-widgets/controls",
      "model_module_version": "1.1.0",
      "model_name": "ButtonStyleModel",
      "state": {}
     },
     "1d061d4b53754425b835c22faf364db6": {
      "model_module": "@jupyter-widgets/controls",
      "model_module_version": "1.1.0",
      "model_name": "VBoxModel",
      "state": {
       "children": [
        "IPY_MODEL_cdf4bba6bf9749fd92178d845bfa0a7e",
        "IPY_MODEL_c1f109e6d8d047179849cef2003d3aec",
        "IPY_MODEL_bd203b1766b84323b21152a54bfc4b48"
       ],
       "layout": "IPY_MODEL_aacace959214407bba897275256858ec"
      }
     },
     "1d38b027c8af4cdeb590f1d4efb5e4fe": {
      "model_module": "@jupyter-widgets/controls",
      "model_module_version": "1.1.0",
      "model_name": "HBoxModel",
      "state": {
       "children": [
        "IPY_MODEL_52125d38a49940c4adda3db7b68b7d67",
        "IPY_MODEL_c4c6ea2e3fc2451ea1182950e1e614ad"
       ],
       "layout": "IPY_MODEL_874d153011f14a2b85d68198b2f018b6"
      }
     },
     "1d6e954d89374ecc8da1b7beef70d33e": {
      "model_module": "@jupyter-widgets/base",
      "model_module_version": "1.0.0",
      "model_name": "LayoutModel",
      "state": {}
     },
     "1dd3721bbce1440e8fdde9c06603f800": {
      "model_module": "@jupyter-widgets/controls",
      "model_module_version": "1.1.0",
      "model_name": "DescriptionStyleModel",
      "state": {
       "description_width": ""
      }
     },
     "1de5d91a41454720a993914a7bd1b448": {
      "model_module": "@jupyter-widgets/controls",
      "model_module_version": "1.1.0",
      "model_name": "DropdownModel",
      "state": {
       "_options_labels": [
        "",
        "New Query",
        "What",
        "ABC",
        "All Gestures",
        "Chris Query",
        "Query - ABDEG",
        "Query ABDGE",
        "Marc Segmenter",
        "Query All",
        "DEF",
        "ABCDEF",
        "ABDGFH",
        "AB"
       ],
       "description": "Select Query",
       "index": 11,
       "layout": "IPY_MODEL_8db883a18b5f4770af94b7d519c5b7f0",
       "style": "IPY_MODEL_2a5f464b7ac64118b8fb65ada2375a86"
      }
     },
     "1e16d234cf7b462da7e8e1a6ff19803f": {
      "model_module": "@jupyter-widgets/base",
      "model_module_version": "1.0.0",
      "model_name": "LayoutModel",
      "state": {}
     },
     "1e18325bb7894f0db2246d1c3b40c6de": {
      "model_module": "@jupyter-widgets/base",
      "model_module_version": "1.0.0",
      "model_name": "LayoutModel",
      "state": {
       "border": "outset",
       "width": "100%"
      }
     },
     "1e29942b55d544948341f58e3b7f8277": {
      "model_module": "@jupyter-widgets/base",
      "model_module_version": "1.0.0",
      "model_name": "LayoutModel",
      "state": {}
     },
     "1e2b733745894836b9965095d7dd794a": {
      "model_module": "@jupyter-widgets/controls",
      "model_module_version": "1.1.0",
      "model_name": "DescriptionStyleModel",
      "state": {
       "description_width": ""
      }
     },
     "1e54f63ed4be49389706cfa01f247f16": {
      "model_module": "@jupyter-widgets/base",
      "model_module_version": "1.0.0",
      "model_name": "LayoutModel",
      "state": {}
     },
     "1e693e6e2a6e48fe9178a7891f2bdeac": {
      "model_module": "@jupyter-widgets/controls",
      "model_module_version": "1.1.0",
      "model_name": "CheckboxModel",
      "state": {
       "description": "Reset",
       "disabled": false,
       "layout": "IPY_MODEL_568955acd7a540a689c8d23f58849c7c",
       "style": "IPY_MODEL_d941204121f0464592265a29348812d7",
       "value": false
      }
     },
     "1e8050b21b304e33a762a3cc7cdc9bc3": {
      "model_module": "@jupyter-widgets/base",
      "model_module_version": "1.0.0",
      "model_name": "LayoutModel",
      "state": {}
     },
     "1ea5c77f0a6a4750b92e7cdbe0924ee8": {
      "model_module": "@jupyter-widgets/controls",
      "model_module_version": "1.1.0",
      "model_name": "TextareaModel",
      "state": {
       "description": "Seed Description",
       "layout": "IPY_MODEL_7784b6b5c611479cb97a43b7907b1bae",
       "style": "IPY_MODEL_12984dc79e0548519b08bec344e98ae0"
      }
     },
     "1edde457a7c74bfc836561979cbf0e13": {
      "model_module": "@jupyter-widgets/controls",
      "model_module_version": "1.1.0",
      "model_name": "DropdownModel",
      "state": {
       "description": "Target OS",
       "index": null,
       "layout": "IPY_MODEL_6e1ad1d8654948718e88e4542c735044",
       "style": "IPY_MODEL_24d6c473055b458e8d565bcd0e90b336"
      }
     },
     "1ee482c450e54a8c9c3dd77c9d878156": {
      "model_module": "@jupyter-widgets/controls",
      "model_module_version": "1.1.0",
      "model_name": "ButtonModel",
      "state": {
       "description": "Run Autopipeline",
       "layout": "IPY_MODEL_175646759e6b47b18285e2b5249f57f3",
       "style": "IPY_MODEL_11853da788924254965668db8eb15ec7"
      }
     },
     "1ef5fe7437f24a04b2043cd4b7c706f7": {
      "model_module": "@jupyter-widgets/base",
      "model_module_version": "1.0.0",
      "model_name": "LayoutModel",
      "state": {}
     },
     "1ef61fb8b92549ff86c8f1be3bdc2d1a": {
      "model_module": "@jupyter-widgets/controls",
      "model_module_version": "1.1.0",
      "model_name": "DescriptionStyleModel",
      "state": {
       "description_width": ""
      }
     },
     "1f0dbe088e76468d999ab0760749809d": {
      "model_module": "@jupyter-widgets/controls",
      "model_module_version": "1.1.0",
      "model_name": "VBoxModel",
      "state": {
       "children": [
        "IPY_MODEL_fe0b3f13e8164d2d9bb2a359f6573a5b",
        "IPY_MODEL_f5ce92ab8e2b4df8b36f6c1c0c86204b",
        "IPY_MODEL_bec13885986a42eebe268726eb259be7"
       ],
       "layout": "IPY_MODEL_5308cc4300424d4493cc36cd6f9223cb"
      }
     },
     "1fa87dbba8864d1a8e0ab0c4d1496c71": {
      "model_module": "@jupyter-widgets/base",
      "model_module_version": "1.0.0",
      "model_name": "LayoutModel",
      "state": {}
     },
     "200c2146819748fe8183247e843ae7db": {
      "model_module": "@jupyter-widgets/controls",
      "model_module_version": "1.1.0",
      "model_name": "DescriptionStyleModel",
      "state": {
       "description_width": ""
      }
     },
     "20124fc2337e4231936d0692bf2b6ade": {
      "model_module": "@jupyter-widgets/controls",
      "model_module_version": "1.1.0",
      "model_name": "ButtonModel",
      "state": {
       "description": "Login",
       "layout": "IPY_MODEL_31f3a918c42e4474a09d6361be500ed1",
       "style": "IPY_MODEL_5352d8eb58604931a5ceb5cd6265b068"
      }
     },
     "2066dc3deb9448db9b9a5817e0101128": {
      "model_module": "@jupyter-widgets/base",
      "model_module_version": "1.0.0",
      "model_name": "LayoutModel",
      "state": {}
     },
     "207c634b843a4f5abe3a4d992b6eab19": {
      "model_module": "@jupyter-widgets/controls",
      "model_module_version": "1.1.0",
      "model_name": "DescriptionStyleModel",
      "state": {
       "description_width": ""
      }
     },
     "207fad21f3474b1788147fff52264f15": {
      "model_module": "@jupyter-widgets/controls",
      "model_module_version": "1.1.0",
      "model_name": "DropdownModel",
      "state": {
       "_options_labels": [
        "None"
       ],
       "description": "Test Data",
       "index": 0,
       "layout": "IPY_MODEL_bfc9dda1e4ea4c8d9f2084f2cfeb4202",
       "style": "IPY_MODEL_a42809b8518c46f3bb4ff6f3feaa0b90"
      }
     },
     "207fb6890fd24ee69dd59ef1669f6ea1": {
      "model_module": "@jupyter-widgets/controls",
      "model_module_version": "1.1.0",
      "model_name": "AccordionModel",
      "state": {
       "_titles": {
        "0": "Select or Create Query"
       },
       "children": [
        "IPY_MODEL_a816432d92b643b6b0bc56e753424e9d"
       ],
       "layout": "IPY_MODEL_e997cfe7c6c148b2bd4df97b2a9cdd59"
      }
     },
     "20bb27da23aa4cc19282488f73a00f7a": {
      "model_module": "@jupyter-widgets/controls",
      "model_module_version": "1.1.0",
      "model_name": "DropdownModel",
      "state": {
       "_options_labels": [
        "True",
        "False"
       ],
       "description": "Debug",
       "index": 0,
       "layout": "IPY_MODEL_685ceb600c48452bb8f51067f097e1f8",
       "style": "IPY_MODEL_6c74453cdd6a447faebcd9a63b375b5e"
      }
     },
     "20c5c756b9554db5ab0805bee85265a0": {
      "model_module": "@jupyter-widgets/controls",
      "model_module_version": "1.1.0",
      "model_name": "VBoxModel",
      "state": {
       "children": [
        "IPY_MODEL_76d0bb8360af4514868fb4104c1536a6",
        "IPY_MODEL_4e76bf5cea1542f38ae63d1830abe9f4",
        "IPY_MODEL_207fad21f3474b1788147fff52264f15"
       ],
       "layout": "IPY_MODEL_e8c54d967d78457ab34aaf3871c57e44"
      }
     },
     "2166535015d1404c9679a181c4006e3a": {
      "model_module": "@jupyter-widgets/controls",
      "model_module_version": "1.1.0",
      "model_name": "DropdownModel",
      "state": {
       "description": "Model Name",
       "index": null,
       "layout": "IPY_MODEL_b8243d90bd844590b35df4201ab25dac",
       "style": "IPY_MODEL_3f9b217f75744e7ca3c5161f9ed182be"
      }
     },
     "2171567519d64d80b0986a12a1201272": {
      "model_module": "@jupyter-widgets/controls",
      "model_module_version": "1.1.0",
      "model_name": "LabelModel",
      "state": {
       "layout": "IPY_MODEL_360cc059e3ce43c38ee2b97b6f326108",
       "style": "IPY_MODEL_601fd67f7ef945eaad19d984d81738d8",
       "value": "Download Settings"
      }
     },
     "217752cdf40c4a158602328b3b31e0a0": {
      "model_module": "@jupyter-widgets/base",
      "model_module_version": "1.0.0",
      "model_name": "LayoutModel",
      "state": {
       "min_width": "125px"
      }
     },
     "21c51bc0dec648b1ab271596a4f6d426": {
      "model_module": "@jupyter-widgets/controls",
      "model_module_version": "1.1.0",
      "model_name": "DescriptionStyleModel",
      "state": {
       "description_width": ""
      }
     },
     "21cef7ec06c34d14a5582c565352caf8": {
      "model_module": "@jupyter-widgets/controls",
      "model_module_version": "1.1.0",
      "model_name": "VBoxModel",
      "state": {
       "children": [
        "IPY_MODEL_89c77bca48464709b1e5c3e80729c312",
        "IPY_MODEL_6f34b652505846238d6dd7470f26f752",
        "IPY_MODEL_385197f82599448eb21380cc4ea71d7e",
        "IPY_MODEL_82ee7712269846b8b0343e72dc30a4d4"
       ],
       "layout": "IPY_MODEL_55435ecd9bec4aabba355ba86a28f5fe"
      }
     },
     "21e51d10631648909eb2906a0c547de5": {
      "model_module": "@jupyter-widgets/base",
      "model_module_version": "1.0.0",
      "model_name": "LayoutModel",
      "state": {}
     },
     "220652449b6b4d9f9e64effe9d9edaef": {
      "model_module": "@jupyter-widgets/controls",
      "model_module_version": "1.1.0",
      "model_name": "VBoxModel",
      "state": {
       "children": [
        "IPY_MODEL_c95979b52e5a44e2bcf37e206cb19d3d",
        "IPY_MODEL_334ce3f4741d4686bb86caee036385dd",
        "IPY_MODEL_983db73fb43043e4b7c0e91c724fe9c7"
       ],
       "layout": "IPY_MODEL_67129aaa88654503a56cffe5a8ceacf1"
      }
     },
     "2215a404b2d44410b07698328998bbdb": {
      "model_module": "@jupyter-widgets/controls",
      "model_module_version": "1.1.0",
      "model_name": "DescriptionStyleModel",
      "state": {
       "description_width": ""
      }
     },
     "2230bfc7e6dd43f0b75c3753b38102bc": {
      "model_module": "@jupyter-widgets/base",
      "model_module_version": "1.0.0",
      "model_name": "LayoutModel",
      "state": {
       "display": "flex",
       "flex_flow": "row",
       "justify_content": "space-between",
       "overflow": "visible"
      }
     },
     "2235bfdc06d24515a5dfd1c47ac736a0": {
      "model_module": "@jupyter-widgets/base",
      "model_module_version": "1.0.0",
      "model_name": "LayoutModel",
      "state": {}
     },
     "2249230e8d5f4554b9321fadafd0b6e5": {
      "model_module": "@jupyter-widgets/controls",
      "model_module_version": "1.1.0",
      "model_name": "DescriptionStyleModel",
      "state": {
       "description_width": ""
      }
     },
     "224c8ba812d649ddbe60e6285fa37288": {
      "model_module": "@jupyter-widgets/base",
      "model_module_version": "1.0.0",
      "model_name": "LayoutModel",
      "state": {
       "display": "flex",
       "flex_flow": "row",
       "justify_content": "space-between",
       "overflow": "visible"
      }
     },
     "226f8e4db231428d9db8ae922bbfab18": {
      "model_module": "@jupyter-widgets/controls",
      "model_module_version": "1.1.0",
      "model_name": "DescriptionStyleModel",
      "state": {
       "description_width": ""
      }
     },
     "22bca73908564518ab44b6d1ddd0f3da": {
      "model_module": "@jupyter-widgets/base",
      "model_module_version": "1.0.0",
      "model_name": "LayoutModel",
      "state": {}
     },
     "22c7fc12da3046c4adc17aeb54bb73b4": {
      "model_module": "@jupyter-widgets/base",
      "model_module_version": "1.0.0",
      "model_name": "LayoutModel",
      "state": {}
     },
     "22d28fe2ad234c278b07286517e15c72": {
      "model_module": "@jupyter-widgets/controls",
      "model_module_version": "1.1.0",
      "model_name": "HBoxModel",
      "state": {
       "children": [
        "IPY_MODEL_ad9c6ee104c74c5a88083908163a8eda",
        "IPY_MODEL_eda5ecf89bcf461abf4a326d76d444e6"
       ],
       "layout": "IPY_MODEL_e0ca10dbcd544e7ea422e7eb31c6d51f"
      }
     },
     "22d5aa64da9c42f1ad020d6cb070c126": {
      "model_module": "@jupyter-widgets/base",
      "model_module_version": "1.0.0",
      "model_name": "LayoutModel",
      "state": {}
     },
     "22d79178e60c43c8b44a724be87e371a": {
      "model_module": "@jupyter-widgets/base",
      "model_module_version": "1.0.0",
      "model_name": "LayoutModel",
      "state": {}
     },
     "22e8044a582f421eb4b272a944f1fcb8": {
      "model_module": "@jupyter-widgets/base",
      "model_module_version": "1.0.0",
      "model_name": "LayoutModel",
      "state": {
       "border": "outset",
       "width": "100%"
      }
     },
     "230c7ca1d32a409bbdb025b6a8c966e3": {
      "model_module": "@jupyter-widgets/base",
      "model_module_version": "1.0.0",
      "model_name": "LayoutModel",
      "state": {}
     },
     "24042eae91d34ddb89d9d949928294de": {
      "model_module": "@jupyter-widgets/controls",
      "model_module_version": "1.1.0",
      "model_name": "HBoxModel",
      "state": {
       "children": [
        "IPY_MODEL_2f04d0c9c7b84614aa2839e4e3c36c98",
        "IPY_MODEL_175536de9ba64b968ce8cb0f515500fe"
       ],
       "layout": "IPY_MODEL_bc8a59cf1aae4f94a03108c2666d5121"
      }
     },
     "2414952a51e44703a2756b6f9ca2d9b8": {
      "model_module": "@jupyter-widgets/controls",
      "model_module_version": "1.1.0",
      "model_name": "HBoxModel",
      "state": {
       "children": [
        "IPY_MODEL_ff0475f2d47b4402bdd86ab86aaf1b1a",
        "IPY_MODEL_45a56fb0991041e4b5ce07ffe9886790",
        "IPY_MODEL_3a5effe0772c4347ad59126e476991f0"
       ],
       "layout": "IPY_MODEL_91e556bddd8f4fc589bb5542e6fca78e"
      }
     },
     "242881818e924bd19bac8fdb5c2bf92e": {
      "model_module": "@jupyter-widgets/base",
      "model_module_version": "1.0.0",
      "model_name": "LayoutModel",
      "state": {}
     },
     "242a508027c6424caf818937fb31a6fc": {
      "model_module": "@jupyter-widgets/controls",
      "model_module_version": "1.1.0",
      "model_name": "TextModel",
      "state": {
       "description": "Query Filter",
       "layout": "IPY_MODEL_d074e32962b547f5a89949d23c22f5c9",
       "style": "IPY_MODEL_edd0e9b24abb47d1ad19d8e38b3fbc63"
      }
     },
     "24363c74c5f6485385ee167643dd710a": {
      "model_module": "@jupyter-widgets/controls",
      "model_module_version": "1.1.0",
      "model_name": "DescriptionStyleModel",
      "state": {
       "description_width": ""
      }
     },
     "24543c19abc749a7ac6d020e2536e5c1": {
      "model_module": "@jupyter-widgets/base",
      "model_module_version": "1.0.0",
      "model_name": "LayoutModel",
      "state": {}
     },
     "24d6c473055b458e8d565bcd0e90b336": {
      "model_module": "@jupyter-widgets/controls",
      "model_module_version": "1.1.0",
      "model_name": "DescriptionStyleModel",
      "state": {
       "description_width": ""
      }
     },
     "24f4c67c279e4013b40f07e3807a258e": {
      "model_module": "@jupyter-widgets/controls",
      "model_module_version": "1.1.0",
      "model_name": "DescriptionStyleModel",
      "state": {
       "description_width": ""
      }
     },
     "250189ee28f945f9a4d1aeaa6656c222": {
      "model_module": "@jupyter-widgets/controls",
      "model_module_version": "1.1.0",
      "model_name": "TextModel",
      "state": {
       "description": "Query Name",
       "layout": "IPY_MODEL_6dde8affac1f4201b46715ba3dde7718",
       "style": "IPY_MODEL_6392d859c23d4924ad8bd649bd0940b3"
      }
     },
     "254988093f9e4339b6866eb308db05c9": {
      "model_module": "@jupyter-widgets/controls",
      "model_module_version": "1.1.0",
      "model_name": "ButtonModel",
      "state": {
       "description": "Update Query",
       "layout": "IPY_MODEL_0dc865e0182c406ba052c8c8b6fa39eb",
       "style": "IPY_MODEL_6d09f3fbf4e24c26aefc0baf1213fe46"
      }
     },
     "255cd1560b874068a8ebc129511063b9": {
      "model_module": "bqplot",
      "model_module_version": "^0.3.2",
      "model_name": "FigureModel",
      "state": {
       "_dom_classes": [],
       "background_style": {
        "fill": "white"
       },
       "fig_margin": {
        "bottom": 60,
        "left": 80,
        "right": 0,
        "top": 20
       },
       "layout": "IPY_MODEL_50757b5a0ec048f2bba4875c8eaf2a30",
       "legend_location": "bottom-right",
       "max_aspect_ratio": 6,
       "scale_x": "IPY_MODEL_eeb4ea998d614716b9603ab219177c66",
       "scale_y": "IPY_MODEL_a83f505ef64d4a9c8a092299bd174f7e"
      }
     },
     "2563a5fa314d4922af3925138c2e22cc": {
      "model_module": "@jupyter-widgets/controls",
      "model_module_version": "1.1.0",
      "model_name": "ButtonModel",
      "state": {
       "description": "Login",
       "layout": "IPY_MODEL_fe7704763f62468097f91b096f7cb01f",
       "style": "IPY_MODEL_9c43685789734be8b7d853c871164c92"
      }
     },
     "2571a69c83d64a138bed2a0fb48c64d6": {
      "model_module": "@jupyter-widgets/base",
      "model_module_version": "1.0.0",
      "model_name": "LayoutModel",
      "state": {}
     },
     "2574a81ef0614a10819e5198d8a9f5e5": {
      "model_module": "@jupyter-widgets/controls",
      "model_module_version": "1.1.0",
      "model_name": "VBoxModel",
      "state": {
       "children": [
        "IPY_MODEL_43ccc848604c4abe95a2a5b520e9b6da",
        "IPY_MODEL_9a25077cc1ad4e3d8aed388e1c337639"
       ],
       "layout": "IPY_MODEL_10546dab71c847f698232e323598735f"
      }
     },
     "25911527f53a489eba4164cf2e8c1c4b": {
      "model_module": "@jupyter-widgets/controls",
      "model_module_version": "1.1.0",
      "model_name": "DescriptionStyleModel",
      "state": {
       "description_width": ""
      }
     },
     "2595a7abedc04f73abd20334c8944679": {
      "model_module": "@jupyter-widgets/controls",
      "model_module_version": "1.1.0",
      "model_name": "SliderStyleModel",
      "state": {
       "description_width": ""
      }
     },
     "25ab6a3d6e18465985870bf30f7016c9": {
      "model_module": "@jupyter-widgets/base",
      "model_module_version": "1.0.0",
      "model_name": "LayoutModel",
      "state": {}
     },
     "261d2df81e9c43219ff2a519d7b6eac1": {
      "model_module": "@jupyter-widgets/controls",
      "model_module_version": "1.1.0",
      "model_name": "DescriptionStyleModel",
      "state": {
       "description_width": ""
      }
     },
     "261d8af997f54ff7b006c4c42c608d58": {
      "model_module": "@jupyter-widgets/base",
      "model_module_version": "1.0.0",
      "model_name": "LayoutModel",
      "state": {}
     },
     "261e684ae91b496da7c927e056509414": {
      "model_module": "@jupyter-widgets/base",
      "model_module_version": "1.0.0",
      "model_name": "LayoutModel",
      "state": {}
     },
     "26668edf12564abebcc873cfe222123c": {
      "model_module": "@jupyter-widgets/controls",
      "model_module_version": "1.1.0",
      "model_name": "FloatSliderModel",
      "state": {
       "description": "Neurons",
       "layout": "IPY_MODEL_9d67617d61664334911204d435ec6e7e",
       "max": 1,
       "step": 0.05,
       "style": "IPY_MODEL_0c301afcb5eb437c9cab7d566078c069",
       "value": 0.5
      }
     },
     "26679dc32add436b8a12c77468fa2b32": {
      "model_module": "@jupyter-widgets/controls",
      "model_module_version": "1.1.0",
      "model_name": "SliderStyleModel",
      "state": {
       "description_width": ""
      }
     },
     "266be1bb2d15442c953c93e6cd6ecbbd": {
      "model_module": "@jupyter-widgets/base",
      "model_module_version": "1.0.0",
      "model_name": "LayoutModel",
      "state": {}
     },
     "2676445da8a947c99bb64557c11d0bec": {
      "model_module": "@jupyter-widgets/controls",
      "model_module_version": "1.1.0",
      "model_name": "DropdownModel",
      "state": {
       "_options_labels": [
        "None"
       ],
       "description": "Test Data",
       "index": 0,
       "layout": "IPY_MODEL_6a98eb224a9d4929a58a31faa9eeaf85",
       "style": "IPY_MODEL_e6f22285081d4d1f89ad36e062c98b42"
      }
     },
     "26a4fa2dbc664537890bc382a7d5b23a": {
      "model_module": "@jupyter-widgets/base",
      "model_module_version": "1.0.0",
      "model_name": "LayoutModel",
      "state": {}
     },
     "26c190a1e15b4f1ea48010dd171f17c7": {
      "model_module": "@jupyter-widgets/controls",
      "model_module_version": "1.1.0",
      "model_name": "TextModel",
      "state": {
       "description": "New Pipeline",
       "layout": "IPY_MODEL_13fec489f1334b8b99aa026f10c3cd65",
       "style": "IPY_MODEL_acdd6247d53d44ca84ce60bce6262e9b"
      }
     },
     "26cfa807aa8840469f2f082516bcea03": {
      "model_module": "@jupyter-widgets/controls",
      "model_module_version": "1.1.0",
      "model_name": "DescriptionStyleModel",
      "state": {
       "description_width": ""
      }
     },
     "26d2285225064a0da957e21312b0ffaf": {
      "model_module": "bqplot",
      "model_module_version": "^0.3.2",
      "model_name": "LinearScaleModel",
      "state": {
       "allow_padding": false,
       "max": 1,
       "min": 0,
       "stabilized": false
      }
     },
     "26f338fec63041cc80aa1f22422e4565": {
      "model_module": "@jupyter-widgets/controls",
      "model_module_version": "1.1.0",
      "model_name": "VBoxModel",
      "state": {
       "_dom_classes": [
        "widget-interact"
       ],
       "children": [
        "IPY_MODEL_e2cbe35d62d14220ae7c969473d3a754",
        "IPY_MODEL_d2efdc90f8194b86a8b0db7090a1ea0c"
       ],
       "layout": "IPY_MODEL_d41af7a74eb040fb81c0d213ada839dc"
      }
     },
     "270d6e9fd41d4eb689416c335b6d91b6": {
      "model_module": "@jupyter-widgets/controls",
      "model_module_version": "1.1.0",
      "model_name": "DescriptionStyleModel",
      "state": {
       "description_width": ""
      }
     },
     "271eca594bde4584a55df284fb92df04": {
      "model_module": "@jupyter-widgets/controls",
      "model_module_version": "1.1.0",
      "model_name": "TextModel",
      "state": {
       "description": "Query Name",
       "layout": "IPY_MODEL_4da9802289984c678752544d68b2c650",
       "style": "IPY_MODEL_1883df2ee8104791892f8a7346f4fa16"
      }
     },
     "2733c59b26024f24a79a519360d55fef": {
      "model_module": "@jupyter-widgets/controls",
      "model_module_version": "1.1.0",
      "model_name": "ButtonModel",
      "state": {
       "description": "Run Autopipeline",
       "layout": "IPY_MODEL_9d0cd7ad969847b99584007a6b81df9a",
       "style": "IPY_MODEL_7c2e71be7f7745fd86e2b5987ab35a1c"
      }
     },
     "273b8c0df87449ad82b97097f4910257": {
      "model_module": "@jupyter-widgets/base",
      "model_module_version": "1.0.0",
      "model_name": "LayoutModel",
      "state": {}
     },
     "273bd1b2b6784285a1124ba8020c5043": {
      "model_module": "@jupyter-widgets/controls",
      "model_module_version": "1.1.0",
      "model_name": "DropdownModel",
      "state": {
       "description": "Target OS",
       "index": null,
       "layout": "IPY_MODEL_52cdd7f44dd644d6a098ca5d3fc627d9",
       "style": "IPY_MODEL_885ea3d0e48d466e89b6c9d7edd32a77"
      }
     },
     "274146977cb24048bab71850bfd8a7d2": {
      "model_module": "@jupyter-widgets/controls",
      "model_module_version": "1.1.0",
      "model_name": "VBoxModel",
      "state": {
       "children": [
        "IPY_MODEL_d0591f674f1b410ea4b7a85aa34f48b9",
        "IPY_MODEL_0a890ccd6fdb4ac689f22e782ba858d5"
       ],
       "layout": "IPY_MODEL_76560d03950d433bbb333df59fe4976e"
      }
     },
     "275ecf1781f64dbdba73b263366a15ab": {
      "model_module": "@jupyter-widgets/base",
      "model_module_version": "1.0.0",
      "model_name": "LayoutModel",
      "state": {}
     },
     "275ef0b4e96646a7a071dc4c813b9802": {
      "model_module": "@jupyter-widgets/controls",
      "model_module_version": "1.1.0",
      "model_name": "HBoxModel",
      "state": {
       "children": [
        "IPY_MODEL_62d4e6de9f5d4e08b6f29d9a6f43a906",
        "IPY_MODEL_bf9ab0816ce747d69c899a817d34e9c0",
        "IPY_MODEL_a00d73bc34294534a68c56d12b63845f"
       ],
       "layout": "IPY_MODEL_b0b1d55636004b46b91fce2df2b21c29"
      }
     },
     "27678f9207e448eda2e128597c103408": {
      "model_module": "@jupyter-widgets/controls",
      "model_module_version": "1.1.0",
      "model_name": "DescriptionStyleModel",
      "state": {
       "description_width": ""
      }
     },
     "2776428326024f51b46b558918fd402a": {
      "model_module": "@jupyter-widgets/controls",
      "model_module_version": "1.1.0",
      "model_name": "DescriptionStyleModel",
      "state": {
       "description_width": ""
      }
     },
     "2780a2f7a4be41058c097df0b6519c8e": {
      "model_module": "@jupyter-widgets/controls",
      "model_module_version": "1.1.0",
      "model_name": "HBoxModel",
      "state": {
       "children": [
        "IPY_MODEL_cc2cb80a2ea84f209e6038d288ed9fc6",
        "IPY_MODEL_a9b1796277ef4abfad261a5f10c8e832",
        "IPY_MODEL_1592ff28afdb4029991518e135733f28"
       ],
       "layout": "IPY_MODEL_d847e12816a54dfd8845a4f716ffe617"
      }
     },
     "279499e389954561a2aef5b8cc253943": {
      "model_module": "@jupyter-widgets/controls",
      "model_module_version": "1.1.0",
      "model_name": "ButtonModel",
      "state": {
       "description": "Create",
       "layout": "IPY_MODEL_76185380825b47e096a8c6168d6336d7",
       "style": "IPY_MODEL_edda88e539714bc893cecfb2fda226bd"
      }
     },
     "27ac8597238e404795bb3fe4b571f4aa": {
      "model_module": "@jupyter-widgets/controls",
      "model_module_version": "1.1.0",
      "model_name": "HBoxModel",
      "state": {
       "children": [
        "IPY_MODEL_b153a84f80564a14a30f906e2ba7a435",
        "IPY_MODEL_ab666f5968924d2f81f6c79d5b0fed76"
       ],
       "layout": "IPY_MODEL_6066d4c6a2934f3d9fb90a87958e53e5"
      }
     },
     "27ad652322d2484d86e3c0bf0d5c214a": {
      "model_module": "@jupyter-widgets/controls",
      "model_module_version": "1.1.0",
      "model_name": "VBoxModel",
      "state": {
       "children": [
        "IPY_MODEL_a428a0fa65f64ff09b3db1001934c0d8",
        "IPY_MODEL_99a177f4162c4162849a678855c23b40",
        "IPY_MODEL_6c1d060b7d91423d8f960f011d472cd7",
        "IPY_MODEL_ae51abcbb0ad4fdcb77bd7eab4ba5e3b"
       ],
       "layout": "IPY_MODEL_bb6fd2b681944546b0b8c4846ff905bc"
      }
     },
     "27bed36a5630450abd60eaf3ebcd896b": {
      "model_module": "@jupyter-widgets/controls",
      "model_module_version": "1.1.0",
      "model_name": "AccordionModel",
      "state": {
       "_titles": {
        "0": "Download Knowledgepack"
       },
       "children": [
        "IPY_MODEL_96e0d4bd2a5d4557bd7c8a146133d9d2"
       ],
       "layout": "IPY_MODEL_16dc6883393e4da7a0212fb22d5ad43d"
      }
     },
     "27dd864215ad4a839e1e85df9db4aba8": {
      "model_module": "@jupyter-widgets/base",
      "model_module_version": "1.0.0",
      "model_name": "LayoutModel",
      "state": {}
     },
     "27ddcd07dfc24610a8890721a5a668d8": {
      "model_module": "@jupyter-widgets/controls",
      "model_module_version": "1.1.0",
      "model_name": "AccordionModel",
      "state": {
       "_titles": {
        "0": "AutoSense Pipeline"
       },
       "children": [
        "IPY_MODEL_ff95d9e58eba436581ddc115d28b7f71"
       ],
       "layout": "IPY_MODEL_18d56d0910ff4074a6f9c03646588b23"
      }
     },
     "27e7553cb26e4cad91f805770ae396d2": {
      "model_module": "@jupyter-widgets/controls",
      "model_module_version": "1.1.0",
      "model_name": "DescriptionStyleModel",
      "state": {
       "description_width": ""
      }
     },
     "27f0356bda8044a9b230d3d90fd5396a": {
      "model_module": "@jupyter-widgets/controls",
      "model_module_version": "1.1.0",
      "model_name": "FloatSliderModel",
      "state": {
       "description": "Features",
       "layout": "IPY_MODEL_2cb329b7fba14ae0870d011e6e098d09",
       "max": 1,
       "step": 0.05,
       "style": "IPY_MODEL_f79dd12042e54a049138f74cda997999",
       "value": 0.5
      }
     },
     "280542f7fb6f4c8792b11053072ea8f4": {
      "model_module": "@jupyter-widgets/controls",
      "model_module_version": "1.1.0",
      "model_name": "SliderStyleModel",
      "state": {
       "description_width": ""
      }
     },
     "2824914d602c43a1bf10875ff8189b9e": {
      "model_module": "@jupyter-widgets/base",
      "model_module_version": "1.0.0",
      "model_name": "LayoutModel",
      "state": {
       "align_items": "stretch",
       "border": "solid 2px",
       "display": "flex",
       "flex_flow": "column",
       "overflow": "visible",
       "width": "75%"
      }
     },
     "2825100cb6fc4b679547858b8714f2d3": {
      "model_module": "@jupyter-widgets/controls",
      "model_module_version": "1.1.0",
      "model_name": "VBoxModel",
      "state": {
       "children": [
        "IPY_MODEL_5718abd8e34341e489a5c7f6b7025a08",
        "IPY_MODEL_b72e976bf20e4bd0b6943d48bf36f7b4",
        "IPY_MODEL_859f5bc7f6fb49228070034f40ec2130",
        "IPY_MODEL_db877dfc16d04d569d3d1ce542e4fd05"
       ],
       "layout": "IPY_MODEL_90fb6bef3ba74e98a81d8aab0b386eff"
      }
     },
     "28284cdc373c42ec80f6a50e73ba6b16": {
      "model_module": "@jupyter-widgets/controls",
      "model_module_version": "1.1.0",
      "model_name": "SliderStyleModel",
      "state": {
       "description_width": ""
      }
     },
     "282998f3db784bd395a10207deeacfa8": {
      "model_module": "@jupyter-widgets/controls",
      "model_module_version": "1.1.0",
      "model_name": "SliderStyleModel",
      "state": {
       "description_width": ""
      }
     },
     "2849e34fa779410d837c65098de24d91": {
      "model_module": "@jupyter-widgets/base",
      "model_module_version": "1.0.0",
      "model_name": "LayoutModel",
      "state": {}
     },
     "285102e9af07401795e3633d03a36b42": {
      "model_module": "@jupyter-widgets/controls",
      "model_module_version": "1.1.0",
      "model_name": "DropdownModel",
      "state": {
       "description": "Pipeline",
       "index": null,
       "layout": "IPY_MODEL_869df18fb54b4b3baca8a4b8f2f4fd39",
       "style": "IPY_MODEL_a4e083cd87db4928b82a7ff4966d2670"
      }
     },
     "2880d1b278b1450690735b4e6b1a2c7f": {
      "model_module": "@jupyter-widgets/controls",
      "model_module_version": "1.1.0",
      "model_name": "ButtonModel",
      "state": {
       "description": "Run Autopipeline",
       "layout": "IPY_MODEL_6c569f36874e4a1dbb7c7c4e306126a1",
       "style": "IPY_MODEL_609677d20f0c493b88f645805cb37cbc"
      }
     },
     "288922f10bc54259ad0f59b3dc95c97e": {
      "model_module": "@jupyter-widgets/controls",
      "model_module_version": "1.1.0",
      "model_name": "SliderStyleModel",
      "state": {
       "description_width": ""
      }
     },
     "289cd3e9afae4d5d8dbd0b3360c0a1f5": {
      "model_module": "@jupyter-widgets/output",
      "model_module_version": "1.1.0",
      "model_name": "OutputModel",
      "state": {
       "_model_module_version": "1.1.0",
       "_view_module_version": "1.1.0",
       "layout": "IPY_MODEL_6ee2aef9b38645fd8aafed9df8daf5d9"
      }
     },
     "28db7470d2f84135a675e1c0e449b289": {
      "model_module": "@jupyter-widgets/controls",
      "model_module_version": "1.1.0",
      "model_name": "DescriptionStyleModel",
      "state": {
       "description_width": ""
      }
     },
     "290490533ebf4cb2b8b8d56c1cf6d41f": {
      "model_module": "@jupyter-widgets/controls",
      "model_module_version": "1.1.0",
      "model_name": "VBoxModel",
      "state": {
       "children": [
        "IPY_MODEL_7a2dc2179d264eeb84d13d063606e7d2",
        "IPY_MODEL_7347679fe3074618ab871eb099fa5897",
        "IPY_MODEL_26f338fec63041cc80aa1f22422e4565",
        "IPY_MODEL_0d1ff174278a4209b6ccb384a79ae04a"
       ],
       "layout": "IPY_MODEL_46746c4504da4e19a22430506593ba62"
      }
     },
     "2918323e128e4b28bc074f343439f2e2": {
      "model_module": "@jupyter-widgets/controls",
      "model_module_version": "1.1.0",
      "model_name": "VBoxModel",
      "state": {
       "children": [
        "IPY_MODEL_f48ed330d32342eb86e00f3aacc75f85",
        "IPY_MODEL_f12dc1a5473f4698b9a672d3a0031bbe"
       ],
       "layout": "IPY_MODEL_5ab272c0bbc44f899fba6c10ed405531"
      }
     },
     "292d6bb1e1a64d2a8ffdd326467f060d": {
      "model_module": "@jupyter-widgets/base",
      "model_module_version": "1.0.0",
      "model_name": "LayoutModel",
      "state": {}
     },
     "294baacd86544161af0395aa2c282c04": {
      "model_module": "@jupyter-widgets/base",
      "model_module_version": "1.0.0",
      "model_name": "LayoutModel",
      "state": {
       "visibility": "visible"
      }
     },
     "295b934011174003815681f15056d766": {
      "model_module": "@jupyter-widgets/base",
      "model_module_version": "1.0.0",
      "model_name": "LayoutModel",
      "state": {}
     },
     "297c359bb5f3469d84cca1b7c27e9a92": {
      "model_module": "@jupyter-widgets/base",
      "model_module_version": "1.0.0",
      "model_name": "LayoutModel",
      "state": {}
     },
     "29b525f00dc240a5840aa0ebb1c6ba7c": {
      "model_module": "@jupyter-widgets/base",
      "model_module_version": "1.0.0",
      "model_name": "LayoutModel",
      "state": {}
     },
     "29c73685f3ed4b998e7edab25099f28e": {
      "model_module": "@jupyter-widgets/controls",
      "model_module_version": "1.1.0",
      "model_name": "ButtonStyleModel",
      "state": {}
     },
     "2a08564e471a432d968ca561dc87225a": {
      "model_module": "@jupyter-widgets/controls",
      "model_module_version": "1.1.0",
      "model_name": "FloatSliderModel",
      "state": {
       "description": "Features",
       "layout": "IPY_MODEL_dd54cfe662dc492e969bdd3cffa1e989",
       "max": 1,
       "step": 0.05,
       "style": "IPY_MODEL_af135b85ecd84157b85f73c19c0eb241",
       "value": 0.5
      }
     },
     "2a274916001541789853742236d17a5a": {
      "model_module": "@jupyter-widgets/controls",
      "model_module_version": "1.1.0",
      "model_name": "DropdownModel",
      "state": {
       "description": "Label Column",
       "index": null,
       "layout": "IPY_MODEL_d3b3c96f806b4e27a5ba11d14848186a",
       "style": "IPY_MODEL_1ae3a072aa9247a58573cd78d4a08cca"
      }
     },
     "2a42d8ccef184eaabdf4376d58c0c6e1": {
      "model_module": "@jupyter-widgets/base",
      "model_module_version": "1.0.0",
      "model_name": "LayoutModel",
      "state": {}
     },
     "2a5f464b7ac64118b8fb65ada2375a86": {
      "model_module": "@jupyter-widgets/controls",
      "model_module_version": "1.1.0",
      "model_name": "DescriptionStyleModel",
      "state": {
       "description_width": ""
      }
     },
     "2a6fa5ebaf354e9fac236b72e03da24e": {
      "model_module": "@jupyter-widgets/controls",
      "model_module_version": "1.1.0",
      "model_name": "HBoxModel",
      "state": {
       "children": [
        "IPY_MODEL_20124fc2337e4231936d0692bf2b6ade",
        "IPY_MODEL_ec0e3f1274f94d22a4b87bb73f0c2053",
        "IPY_MODEL_ee8b3ce65d724953ac88655782839225"
       ],
       "layout": "IPY_MODEL_64ec728b2e884230a4f8973586d52a3e"
      }
     },
     "2a9bcbdde19d474cada38e1b1be8bf8f": {
      "model_module": "@jupyter-widgets/base",
      "model_module_version": "1.0.0",
      "model_name": "LayoutModel",
      "state": {
       "width": "300px"
      }
     },
     "2ab913e29a9c4707a9f53576b1bfd001": {
      "model_module": "@jupyter-widgets/controls",
      "model_module_version": "1.1.0",
      "model_name": "FloatSliderModel",
      "state": {
       "description": "Features",
       "layout": "IPY_MODEL_83ae1c6c92774fc4885cba4d15f8f968",
       "max": 1,
       "step": 0.05,
       "style": "IPY_MODEL_da9bab685fee47fda9ac2c9076cb0278",
       "value": 0.5
      }
     },
     "2aba84ad19224edaae735c6feddd8673": {
      "model_module": "@jupyter-widgets/base",
      "model_module_version": "1.0.0",
      "model_name": "LayoutModel",
      "state": {
       "align_items": "stretch",
       "border": "solid 2px",
       "display": "flex",
       "flex_flow": "column",
       "overflow": "visible",
       "width": "75%"
      }
     },
     "2adf5cc75b9e4769b38278b31cdf3e6e": {
      "model_module": "@jupyter-widgets/base",
      "model_module_version": "1.0.0",
      "model_name": "LayoutModel",
      "state": {}
     },
     "2ae21a533a734a0fb24edbf1bde5ea24": {
      "model_module": "@jupyter-widgets/base",
      "model_module_version": "1.0.0",
      "model_name": "LayoutModel",
      "state": {}
     },
     "2afb9fad7d6145ccb3312a097c06de81": {
      "model_module": "@jupyter-widgets/base",
      "model_module_version": "1.0.0",
      "model_name": "LayoutModel",
      "state": {}
     },
     "2b242044b2a34ec18ff1aa7f5eb150ae": {
      "model_module": "@jupyter-widgets/controls",
      "model_module_version": "1.1.0",
      "model_name": "ButtonStyleModel",
      "state": {}
     },
     "2b8c54e67f3c445db4d6b33dc49867dc": {
      "model_module": "@jupyter-widgets/base",
      "model_module_version": "1.0.0",
      "model_name": "LayoutModel",
      "state": {}
     },
     "2be18412e07e4dac99d045094b22c64a": {
      "model_module": "@jupyter-widgets/base",
      "model_module_version": "1.0.0",
      "model_name": "LayoutModel",
      "state": {
       "align_items": "flex-start",
       "border": "solid 2px",
       "display": "flex",
       "flex_flow": "column",
       "justify_content": "center",
       "overflow": "visible",
       "width": "25%"
      }
     },
     "2beb81fef5a5421abe68ee6037e4983c": {
      "model_module": "@jupyter-widgets/controls",
      "model_module_version": "1.1.0",
      "model_name": "VBoxModel",
      "state": {
       "children": [
        "IPY_MODEL_fe9c6166e0db4788943f139103ec080d",
        "IPY_MODEL_a7011c4ad6e8407abd2f9978283bfaa0"
       ],
       "layout": "IPY_MODEL_324fd2fe144e41f38d662c7d566c1e44"
      }
     },
     "2c2439b4abed46e491e42077799d8da7": {
      "model_module": "@jupyter-widgets/controls",
      "model_module_version": "1.1.0",
      "model_name": "DescriptionStyleModel",
      "state": {
       "description_width": ""
      }
     },
     "2c2584026de54fefa8136c21fc2a0ec4": {
      "model_module": "@jupyter-widgets/base",
      "model_module_version": "1.0.0",
      "model_name": "LayoutModel",
      "state": {}
     },
     "2c322764007343bc96a922c91603150a": {
      "model_module": "@jupyter-widgets/controls",
      "model_module_version": "1.1.0",
      "model_name": "ButtonStyleModel",
      "state": {}
     },
     "2c3398239d404de4bc4cab5fbe04386e": {
      "model_module": "@jupyter-widgets/controls",
      "model_module_version": "1.1.0",
      "model_name": "ButtonModel",
      "state": {
       "description": "Create",
       "layout": "IPY_MODEL_f8fcf0e2d6e84f3b8f9b3af53560970d",
       "style": "IPY_MODEL_f3240557cb59409d979891d4305e6b4d"
      }
     },
     "2c3f5b92fac04e019bd4eef32d7e7ac8": {
      "model_module": "@jupyter-widgets/controls",
      "model_module_version": "1.1.0",
      "model_name": "DescriptionStyleModel",
      "state": {
       "description_width": ""
      }
     },
     "2c49f5ed2dc84d84881516e6914b48a5": {
      "model_module": "bqplot",
      "model_module_version": "^0.3.2",
      "model_name": "FigureModel",
      "state": {
       "_dom_classes": [],
       "background_style": {
        "fill": "white"
       },
       "fig_margin": {
        "bottom": 60,
        "left": 80,
        "right": 0,
        "top": 20
       },
       "layout": "IPY_MODEL_3bc5839423094cc983132dfdf2ae089d",
       "legend_location": "bottom-right",
       "max_aspect_ratio": 6,
       "scale_x": "IPY_MODEL_ce7f5adf95c1483ca6cb50b1e1e0c6a9",
       "scale_y": "IPY_MODEL_deb2d434bd644362a004ca98e5419583"
      }
     },
     "2c7a210b354c4cc8a2fd32733ac95a2a": {
      "model_module": "@jupyter-widgets/controls",
      "model_module_version": "1.1.0",
      "model_name": "SliderStyleModel",
      "state": {
       "description_width": ""
      }
     },
     "2c901807504d46fe94dbfb499c37ad3d": {
      "model_module": "@jupyter-widgets/controls",
      "model_module_version": "1.1.0",
      "model_name": "SliderStyleModel",
      "state": {
       "description_width": ""
      }
     },
     "2c9f3aa91d534b1b85d4c7ec3c92658e": {
      "model_module": "@jupyter-widgets/controls",
      "model_module_version": "1.1.0",
      "model_name": "HBoxModel",
      "state": {
       "children": [
        "IPY_MODEL_4f41ccc5f97c42f7b2968e077c0ece13",
        "IPY_MODEL_5aedb86208f4421691f43fffad287634",
        "IPY_MODEL_a6380e69f6804fa3bb93c744387ec659"
       ],
       "layout": "IPY_MODEL_f25054e0d214450fac84c1af958da407"
      }
     },
     "2cb329b7fba14ae0870d011e6e098d09": {
      "model_module": "@jupyter-widgets/base",
      "model_module_version": "1.0.0",
      "model_name": "LayoutModel",
      "state": {}
     },
     "2d554f401ad140609667ac50594974c8": {
      "model_module": "bqplot",
      "model_module_version": "^0.3.2",
      "model_name": "LinearScaleModel",
      "state": {
       "allow_padding": false,
       "max": 1,
       "min": 0,
       "stabilized": false
      }
     },
     "2d5fad12bb3045c1acd8c41c65361bbd": {
      "model_module": "@jupyter-widgets/base",
      "model_module_version": "1.0.0",
      "model_name": "LayoutModel",
      "state": {}
     },
     "2da8734e6b0a4317b6a3629dd47d94a7": {
      "model_module": "@jupyter-widgets/base",
      "model_module_version": "1.0.0",
      "model_name": "LayoutModel",
      "state": {}
     },
     "2de2a69dc81d4cad8df306ff9bf0d123": {
      "model_module": "@jupyter-widgets/controls",
      "model_module_version": "1.1.0",
      "model_name": "DropdownModel",
      "state": {
       "description": "Select Project",
       "index": null,
       "layout": "IPY_MODEL_eb21cbb510974716be0b58c57c65e09c",
       "style": "IPY_MODEL_400dbceeca674fa2adbb31c20e01c199"
      }
     },
     "2de675ba2f574e278ee489ed9850c93b": {
      "model_module": "@jupyter-widgets/base",
      "model_module_version": "1.0.0",
      "model_name": "LayoutModel",
      "state": {}
     },
     "2ded74d3d9954dda9981f976689900b3": {
      "model_module": "@jupyter-widgets/base",
      "model_module_version": "1.0.0",
      "model_name": "LayoutModel",
      "state": {
       "display": "flex",
       "flex_flow": "row",
       "justify_content": "space-between"
      }
     },
     "2df1f1bb908c4ff9b8323311947f9c74": {
      "model_module": "@jupyter-widgets/base",
      "model_module_version": "1.0.0",
      "model_name": "LayoutModel",
      "state": {}
     },
     "2e4bbff9546945aca66bffba1b949492": {
      "model_module": "@jupyter-widgets/controls",
      "model_module_version": "1.1.0",
      "model_name": "LabelModel",
      "state": {
       "layout": "IPY_MODEL_147f236717de44299d923019e95144a5",
       "style": "IPY_MODEL_0e401883414e476d8e38e4b16bc71b36",
       "value": "Download Settings"
      }
     },
     "2e7f258de16f435ba49b42453f3b1f10": {
      "model_module": "@jupyter-widgets/base",
      "model_module_version": "1.0.0",
      "model_name": "LayoutModel",
      "state": {}
     },
     "2e9539ca823044969b049aca45870a64": {
      "model_module": "@jupyter-widgets/base",
      "model_module_version": "1.0.0",
      "model_name": "LayoutModel",
      "state": {}
     },
     "2e9727add81a44bdba003f7667f74112": {
      "model_module": "@jupyter-widgets/base",
      "model_module_version": "1.0.0",
      "model_name": "LayoutModel",
      "state": {}
     },
     "2ea9f21d36864497b502f63494f364c5": {
      "model_module": "@jupyter-widgets/controls",
      "model_module_version": "1.1.0",
      "model_name": "ButtonStyleModel",
      "state": {}
     },
     "2ecee0f2ffd447e4ac4c45989792e8e5": {
      "model_module": "@jupyter-widgets/controls",
      "model_module_version": "1.1.0",
      "model_name": "DescriptionStyleModel",
      "state": {
       "description_width": ""
      }
     },
     "2f04d0c9c7b84614aa2839e4e3c36c98": {
      "model_module": "@jupyter-widgets/controls",
      "model_module_version": "1.1.0",
      "model_name": "VBoxModel",
      "state": {
       "children": [
        "IPY_MODEL_194453e10e3249f7ba4e620103d567d4",
        "IPY_MODEL_12bd563cc31c4a608be4ccbc85d40375",
        "IPY_MODEL_d96aaa4a585a4cb18f3928d07bc1dc87",
        "IPY_MODEL_9da3b45e720e47558834e2697c0c782b",
        "IPY_MODEL_ef49948c11484d168bf5d8b7e9776d24",
        "IPY_MODEL_64c35ea68dc0475fae5dfc7e3d31196e",
        "IPY_MODEL_af790e66609e4d16a7e08c24ef37e365",
        "IPY_MODEL_973673a707eb47a583f8acf4ba71f99d"
       ],
       "layout": "IPY_MODEL_ec6a67d219f841e2981d012602c6a71d"
      }
     },
     "2f05c6626a2840cdb23cfe16ae537245": {
      "model_module": "@jupyter-widgets/controls",
      "model_module_version": "1.1.0",
      "model_name": "SelectMultipleModel",
      "state": {
       "_options_labels": [
        "ble",
        "led",
        "serial"
       ],
       "description": "Output",
       "index": [],
       "layout": "IPY_MODEL_1ef5fe7437f24a04b2043cd4b7c706f7",
       "rows": 5,
       "style": "IPY_MODEL_3f345b9d82254a0585c9ce49038ab6c8"
      }
     },
     "2f2d11dab4a9458eb67a43a84a713dc1": {
      "model_module": "@jupyter-widgets/controls",
      "model_module_version": "1.1.0",
      "model_name": "ButtonStyleModel",
      "state": {}
     },
     "2f3aca620c0f4a35af1aad0e407d2773": {
      "model_module": "@jupyter-widgets/base",
      "model_module_version": "1.0.0",
      "model_name": "LayoutModel",
      "state": {}
     },
     "2fbe6ee8fce14834be537cbeb7397fe9": {
      "model_module": "@jupyter-widgets/controls",
      "model_module_version": "1.1.0",
      "model_name": "DescriptionStyleModel",
      "state": {
       "description_width": ""
      }
     },
     "2fc22a6db1c441beb4bc3211fb4dfaff": {
      "model_module": "@jupyter-widgets/controls",
      "model_module_version": "1.1.0",
      "model_name": "IntSliderModel",
      "state": {
       "description": "population size",
       "layout": "IPY_MODEL_c62abe7df2994e6ab2d15814047453da",
       "max": 50,
       "min": 10,
       "style": "IPY_MODEL_17ba588ae6e74fca8fc0a5dc60add1ec",
       "value": 10
      }
     },
     "2fca43f9e33e41b6b9e1332ee47efcb4": {
      "model_module": "@jupyter-widgets/base",
      "model_module_version": "1.0.0",
      "model_name": "LayoutModel",
      "state": {}
     },
     "2fefbc8f7383410caadc9b0998560db7": {
      "model_module": "@jupyter-widgets/base",
      "model_module_version": "1.0.0",
      "model_name": "LayoutModel",
      "state": {
       "justify_content": "flex-start",
       "overflow": "visible"
      }
     },
     "2ffad4aa21b344bf9dee41136e9f5ef3": {
      "model_module": "@jupyter-widgets/controls",
      "model_module_version": "1.1.0",
      "model_name": "DescriptionStyleModel",
      "state": {
       "description_width": ""
      }
     },
     "300d163e9ae548d8953f67a7614f843a": {
      "model_module": "@jupyter-widgets/controls",
      "model_module_version": "1.1.0",
      "model_name": "SliderStyleModel",
      "state": {
       "description_width": ""
      }
     },
     "3023fbd616bf4c6099afa11819276e9b": {
      "model_module": "@jupyter-widgets/controls",
      "model_module_version": "1.1.0",
      "model_name": "TextModel",
      "state": {
       "description": "New Pipeline",
       "layout": "IPY_MODEL_3a79bf9966b243858ea42035095b101b",
       "style": "IPY_MODEL_19d417a2581a4a2ab63c7de1f8300709",
       "value": "asdf"
      }
     },
     "3045501e991f4ee4a000a0f57328900e": {
      "model_module": "@jupyter-widgets/controls",
      "model_module_version": "1.1.0",
      "model_name": "TextareaModel",
      "state": {
       "description": "Seed Description",
       "layout": "IPY_MODEL_1c3e5710eaeb452e8547dc5e9a86a717",
       "style": "IPY_MODEL_5a924a19f7d84d88b68cb1b90a967f81"
      }
     },
     "308fb7a02ed74f84b2440080c8481d8d": {
      "model_module": "bqplot",
      "model_module_version": "^0.3.2",
      "model_name": "BarsModel",
      "state": {
       "color": {
        "type": null,
        "values": null
       },
       "color_mode": "group",
       "colors": [
        "steelblue"
       ],
       "display_legend": false,
       "scales": {
        "x": "IPY_MODEL_086a6f0b9bf64bb482b94e030e6046a5",
        "y": "IPY_MODEL_39d3989ec84744f1bb29a132f1e1faca"
       },
       "selected": [],
       "x": {
        "type": "<U1",
        "values": [
         "A",
         "B",
         "C",
         "D",
         "E",
         "F"
        ]
       },
       "y": {
        "type": "float",
        "values": [
         20,
         24,
         16,
         20,
         16,
         15
        ]
       }
      }
     },
     "3092547c6027405ca0e55708b12c9ee9": {
      "model_module": "@jupyter-widgets/base",
      "model_module_version": "1.0.0",
      "model_name": "LayoutModel",
      "state": {}
     },
     "30c1aba361d44857b9947ea62b20f846": {
      "model_module": "@jupyter-widgets/controls",
      "model_module_version": "1.1.0",
      "model_name": "DropdownModel",
      "state": {
       "_options_labels": [
        "",
        "New Query",
        "What",
        "ABC",
        "All Gestures",
        "Chris Query",
        "Query - ABDEG",
        "Query ABDGE",
        "Marc Segmenter",
        "AB",
        "Query All",
        "DEF",
        "ABCDEF",
        "ABDGFH"
       ],
       "description": "Select Query",
       "index": 0,
       "layout": "IPY_MODEL_295b934011174003815681f15056d766",
       "style": "IPY_MODEL_800538d4a8eb48e5aa78ec97516e4f20"
      }
     },
     "30cb250e0f1741c9a9313d44afa61f97": {
      "model_module": "@jupyter-widgets/controls",
      "model_module_version": "1.1.0",
      "model_name": "AccordionModel",
      "state": {
       "_titles": {
        "0": "Select or Create Query"
       },
       "children": [
        "IPY_MODEL_4756cb4db90b451cb2e7e544ed8a9153"
       ],
       "layout": "IPY_MODEL_9252c58b366b4789a9543522a56a2798"
      }
     },
     "3100163231dc4f208c8c1efda14befff": {
      "model_module": "@jupyter-widgets/base",
      "model_module_version": "1.0.0",
      "model_name": "LayoutModel",
      "state": {}
     },
     "310f22ac3fa14c669b3a5fe6c5734ee1": {
      "model_module": "@jupyter-widgets/controls",
      "model_module_version": "1.1.0",
      "model_name": "DescriptionStyleModel",
      "state": {
       "description_width": ""
      }
     },
     "3135420faeba4f4481ddfdd75f1bb933": {
      "model_module": "@jupyter-widgets/base",
      "model_module_version": "1.0.0",
      "model_name": "LayoutModel",
      "state": {
       "display": "flex",
       "flex_flow": "row",
       "justify_content": "flex-end"
      }
     },
     "315a2e02f6ec4a23bbc5899bda1c1e28": {
      "model_module": "@jupyter-widgets/base",
      "model_module_version": "1.0.0",
      "model_name": "LayoutModel",
      "state": {}
     },
     "315aa50fc2fd4805935adb7a12dce8d2": {
      "model_module": "@jupyter-widgets/controls",
      "model_module_version": "1.1.0",
      "model_name": "ButtonStyleModel",
      "state": {}
     },
     "31767a026c0840d69f58b9af46756725": {
      "model_module": "@jupyter-widgets/controls",
      "model_module_version": "1.1.0",
      "model_name": "VBoxModel",
      "state": {
       "children": [
        "IPY_MODEL_91a1041894404894a12ebfe2f35edf7f",
        "IPY_MODEL_271eca594bde4584a55df284fb92df04",
        "IPY_MODEL_147915ac6204488aab1a4a63553db7e8",
        "IPY_MODEL_bc597797354d4e4d8cd8dcc9db80456d",
        "IPY_MODEL_34cf7630b43142f7ac276c967ece9e2e",
        "IPY_MODEL_57539f93b7bd484a9f7193bb4eb0d82d",
        "IPY_MODEL_242a508027c6424caf818937fb31a6fc",
        "IPY_MODEL_96984f65bcd143ebbc2c2f580daa59d1"
       ],
       "layout": "IPY_MODEL_c2e37b114b804934a3f244c45955b0f5"
      }
     },
     "3180a89714f64c5f99d5987a5fd198d5": {
      "model_module": "bqplot",
      "model_module_version": "^0.3.2",
      "model_name": "LinearScaleModel",
      "state": {
       "allow_padding": false,
       "max": 1,
       "min": 0,
       "stabilized": false
      }
     },
     "31848b3cdc8b483e8702215ed6294a2c": {
      "model_module": "@jupyter-widgets/base",
      "model_module_version": "1.0.0",
      "model_name": "LayoutModel",
      "state": {
       "align_items": "stretch",
       "border": "solid 2px",
       "display": "flex",
       "flex_flow": "column",
       "overflow": "visible",
       "width": "75%"
      }
     },
     "3187cb04b3f4428f8577e3bb4b32fe51": {
      "model_module": "@jupyter-widgets/controls",
      "model_module_version": "1.1.0",
      "model_name": "DescriptionStyleModel",
      "state": {
       "description_width": ""
      }
     },
     "319c92af79324010b825c4391b04e3db": {
      "model_module": "@jupyter-widgets/base",
      "model_module_version": "1.0.0",
      "model_name": "LayoutModel",
      "state": {
       "border": "outset"
      }
     },
     "31c639cf7aad41e5b1be620afd95da20": {
      "model_module": "@jupyter-widgets/base",
      "model_module_version": "1.0.0",
      "model_name": "LayoutModel",
      "state": {
       "width": "300px"
      }
     },
     "31eb814f079e474da1c6f9ea938800a0": {
      "model_module": "@jupyter-widgets/base",
      "model_module_version": "1.0.0",
      "model_name": "LayoutModel",
      "state": {}
     },
     "31f3a918c42e4474a09d6361be500ed1": {
      "model_module": "@jupyter-widgets/base",
      "model_module_version": "1.0.0",
      "model_name": "LayoutModel",
      "state": {}
     },
     "31f7989632b446479a757951007735f8": {
      "model_module": "@jupyter-widgets/controls",
      "model_module_version": "1.1.0",
      "model_name": "DescriptionStyleModel",
      "state": {
       "description_width": ""
      }
     },
     "320e7689bafb4fafa0c6a7484e57d23e": {
      "model_module": "@jupyter-widgets/controls",
      "model_module_version": "1.1.0",
      "model_name": "VBoxModel",
      "state": {
       "children": [
        "IPY_MODEL_b525dee0a88b4bffbbe0bd5be3dae147",
        "IPY_MODEL_af027243dc874454a8e9d5c04b9d7b9d"
       ],
       "layout": "IPY_MODEL_7e503c2907e34225a68955a8ce04a911"
      }
     },
     "3214d06deaf942308101cfaf3b657098": {
      "model_module": "@jupyter-widgets/controls",
      "model_module_version": "1.1.0",
      "model_name": "DescriptionStyleModel",
      "state": {
       "description_width": ""
      }
     },
     "324fd2fe144e41f38d662c7d566c1e44": {
      "model_module": "@jupyter-widgets/base",
      "model_module_version": "1.0.0",
      "model_name": "LayoutModel",
      "state": {}
     },
     "32653e14459347fabc92cf01398ac626": {
      "model_module": "@jupyter-widgets/base",
      "model_module_version": "1.0.0",
      "model_name": "LayoutModel",
      "state": {}
     },
     "327652352ec546f48e48b81fc6281c67": {
      "model_module": "@jupyter-widgets/base",
      "model_module_version": "1.0.0",
      "model_name": "LayoutModel",
      "state": {
       "border": "solid 2px",
       "display": "flex",
       "flex_flow": "row",
       "justify_content": "space-between",
       "overflow": "visible"
      }
     },
     "328f8c0538924238ad77d41f3b3c8d7e": {
      "model_module": "@jupyter-widgets/base",
      "model_module_version": "1.0.0",
      "model_name": "LayoutModel",
      "state": {}
     },
     "329ae8ab4b0c429a96df53391ced32a7": {
      "model_module": "@jupyter-widgets/base",
      "model_module_version": "1.0.0",
      "model_name": "LayoutModel",
      "state": {}
     },
     "32a5755773734c3caef445aefb736c82": {
      "model_module": "bqplot",
      "model_module_version": "^0.3.2",
      "model_name": "FigureModel",
      "state": {
       "_dom_classes": [],
       "background_style": {
        "fill": "white"
       },
       "fig_margin": {
        "bottom": 60,
        "left": 80,
        "right": 0,
        "top": 20
       },
       "layout": "IPY_MODEL_d0d1038179cc4849b5879e93b278c926",
       "legend_location": "bottom-right",
       "max_aspect_ratio": 6,
       "scale_x": "IPY_MODEL_1af9d0e52a4e4c64af3e852da57305af",
       "scale_y": "IPY_MODEL_e0ca9e6fb7794012b90730ee0a01e6ae"
      }
     },
     "32a915a0d9164600abb1cfbb5d33c24e": {
      "model_module": "@jupyter-widgets/controls",
      "model_module_version": "1.1.0",
      "model_name": "SelectMultipleModel",
      "state": {
       "_options_labels": [
        "Subject",
        "Gender",
        "Device",
        "Gesture"
       ],
       "description": "Metadtata",
       "index": [
        0
       ],
       "layout": "IPY_MODEL_3409d3a3a5a14f0eb71f7b619d3c47a6",
       "rows": 5,
       "style": "IPY_MODEL_7d10c173b9b24027b2e601edafeebe4f"
      }
     },
     "32b06b784bfc45a78bd38bca2582c853": {
      "model_module": "@jupyter-widgets/base",
      "model_module_version": "1.0.0",
      "model_name": "LayoutModel",
      "state": {}
     },
     "32b09b3d768640a0aa3a7b83aa727a9a": {
      "model_module": "@jupyter-widgets/controls",
      "model_module_version": "1.1.0",
      "model_name": "DescriptionStyleModel",
      "state": {
       "description_width": ""
      }
     },
     "32b90fefb89841b0a77dde7fefa95ffc": {
      "model_module": "@jupyter-widgets/controls",
      "model_module_version": "1.1.0",
      "model_name": "ButtonStyleModel",
      "state": {}
     },
     "32cc33b7289f4517940fd5f6a006f2e8": {
      "model_module": "@jupyter-widgets/base",
      "model_module_version": "1.0.0",
      "model_name": "LayoutModel",
      "state": {}
     },
     "3337d41bdd6740afb2e63f8ab2f45999": {
      "model_module": "@jupyter-widgets/controls",
      "model_module_version": "1.1.0",
      "model_name": "ButtonStyleModel",
      "state": {}
     },
     "333de99e3c1746888fc14159faf0d087": {
      "model_module": "@jupyter-widgets/base",
      "model_module_version": "1.0.0",
      "model_name": "LayoutModel",
      "state": {
       "min_width": "150px",
       "overflow": "visible"
      }
     },
     "334ce3f4741d4686bb86caee036385dd": {
      "model_module": "@jupyter-widgets/controls",
      "model_module_version": "1.1.0",
      "model_name": "DropdownModel",
      "state": {
       "description": "Target OS",
       "index": null,
       "layout": "IPY_MODEL_050518b84a854f90a79d413682d11701",
       "style": "IPY_MODEL_799a55b2c9964eaa935922d3c581202d"
      }
     },
     "336ce6794a324a8eae9ac428c06d76a1": {
      "model_module": "@jupyter-widgets/controls",
      "model_module_version": "1.1.0",
      "model_name": "ButtonStyleModel",
      "state": {}
     },
     "338e11d3a07d4f5e98b10454e246472a": {
      "model_module": "@jupyter-widgets/base",
      "model_module_version": "1.0.0",
      "model_name": "LayoutModel",
      "state": {}
     },
     "33b3f146056f41fc96aa64024780b8b6": {
      "model_module": "@jupyter-widgets/base",
      "model_module_version": "1.0.0",
      "model_name": "LayoutModel",
      "state": {}
     },
     "33ebcbf661224fffa9b33f6f33be0264": {
      "model_module": "@jupyter-widgets/output",
      "model_module_version": "1.1.0",
      "model_name": "OutputModel",
      "state": {
       "_model_module_version": "1.1.0",
       "_view_module_version": "1.1.0",
       "layout": "IPY_MODEL_71c0dff49bf544efa06b6acb50fcec03"
      }
     },
     "33f047a145ef4b278a86d28dfc8d2e30": {
      "model_module": "@jupyter-widgets/base",
      "model_module_version": "1.0.0",
      "model_name": "LayoutModel",
      "state": {
       "border": "outset",
       "width": "100%"
      }
     },
     "3409d3a3a5a14f0eb71f7b619d3c47a6": {
      "model_module": "@jupyter-widgets/base",
      "model_module_version": "1.0.0",
      "model_name": "LayoutModel",
      "state": {}
     },
     "34331a22b82d48b79d9baf2945672ae2": {
      "model_module": "@jupyter-widgets/base",
      "model_module_version": "1.0.0",
      "model_name": "LayoutModel",
      "state": {
       "border": "outset",
       "width": "100%"
      }
     },
     "3444d185742b416aaaa5387caed1ee2d": {
      "model_module": "@jupyter-widgets/controls",
      "model_module_version": "1.1.0",
      "model_name": "DescriptionStyleModel",
      "state": {
       "description_width": ""
      }
     },
     "3445dcece39c443fa1c5245d67e782cc": {
      "model_module": "@jupyter-widgets/controls",
      "model_module_version": "1.1.0",
      "model_name": "TextModel",
      "state": {
       "description": "Query Filter",
       "layout": "IPY_MODEL_f620031148b547fbb341deb4d30303ba",
       "style": "IPY_MODEL_6e3cc9c2bbb74d3da18ffcdf275f0fdc"
      }
     },
     "3464bf79902c4cc3b401bddbab78112f": {
      "model_module": "@jupyter-widgets/base",
      "model_module_version": "1.0.0",
      "model_name": "LayoutModel",
      "state": {}
     },
     "34bf8583aecf4108a20a9c9119f1d2a0": {
      "model_module": "@jupyter-widgets/base",
      "model_module_version": "1.0.0",
      "model_name": "LayoutModel",
      "state": {
       "min_width": "150px",
       "overflow": "visible"
      }
     },
     "34cf7630b43142f7ac276c967ece9e2e": {
      "model_module": "@jupyter-widgets/controls",
      "model_module_version": "1.1.0",
      "model_name": "SelectMultipleModel",
      "state": {
       "_options_labels": [
        "Subject",
        "Gender",
        "Device",
        "Gesture"
       ],
       "description": "Metadtata",
       "index": [
        0
       ],
       "layout": "IPY_MODEL_e6f63d28d62a44dfbb612f46ddcf1b49",
       "rows": 5,
       "style": "IPY_MODEL_82cbde1f77e4418091887479a981fbac"
      }
     },
     "34db22f1fe744c2e8756f93c6b27bfac": {
      "model_module": "@jupyter-widgets/base",
      "model_module_version": "1.0.0",
      "model_name": "LayoutModel",
      "state": {}
     },
     "34eac147c3284ac9a27169e97b9062b4": {
      "model_module": "@jupyter-widgets/controls",
      "model_module_version": "1.1.0",
      "model_name": "DropdownModel",
      "state": {
       "_options_labels": [
        "Binary",
        "Library"
       ],
       "description": "Download",
       "index": 0,
       "layout": "IPY_MODEL_2e9727add81a44bdba003f7667f74112",
       "style": "IPY_MODEL_784b5de8633f46acba5c575c618bb3f1"
      }
     },
     "34ef29d2d57e46edb9a90bb95940bdfb": {
      "model_module": "@jupyter-widgets/controls",
      "model_module_version": "1.1.0",
      "model_name": "DescriptionStyleModel",
      "state": {
       "description_width": ""
      }
     },
     "351571a7051b4071ae8ca52eae61ff13": {
      "model_module": "@jupyter-widgets/controls",
      "model_module_version": "1.1.0",
      "model_name": "SliderStyleModel",
      "state": {
       "description_width": ""
      }
     },
     "353f1119460c4afbb816e8ff29c747d4": {
      "model_module": "@jupyter-widgets/controls",
      "model_module_version": "1.1.0",
      "model_name": "ButtonStyleModel",
      "state": {}
     },
     "357d034b21864a629adc8feb8d2c32ba": {
      "model_module": "@jupyter-widgets/controls",
      "model_module_version": "1.1.0",
      "model_name": "AccordionModel",
      "state": {
       "_titles": {
        "0": "Download Knowledgepack"
       },
       "children": [
        "IPY_MODEL_48c56bd3309c4bfc956c25231a7efeca"
       ],
       "layout": "IPY_MODEL_ff9ee3ef2cf84dd995526630c2636851"
      }
     },
     "35902c49cc834443a04cfbb3b4c7f972": {
      "model_module": "@jupyter-widgets/controls",
      "model_module_version": "1.1.0",
      "model_name": "ButtonModel",
      "state": {
       "description": "Login",
       "layout": "IPY_MODEL_1ab92a0e2650424aa689bf302c5e0186",
       "style": "IPY_MODEL_0ec8bf00380644deac545462dbb593df"
      }
     },
     "35c72fce0cb845b792aeae6b5643ecd9": {
      "model_module": "@jupyter-widgets/controls",
      "model_module_version": "1.1.0",
      "model_name": "DescriptionStyleModel",
      "state": {
       "description_width": ""
      }
     },
     "35d5b361ee774844b4b63e07fa3633f8": {
      "model_module": "@jupyter-widgets/base",
      "model_module_version": "1.0.0",
      "model_name": "LayoutModel",
      "state": {
       "display": "flex",
       "flex_flow": "row",
       "justify_content": "flex-end"
      }
     },
     "35ff8f46652c4e0d8987771607600dd0": {
      "model_module": "@jupyter-widgets/controls",
      "model_module_version": "1.1.0",
      "model_name": "ButtonStyleModel",
      "state": {}
     },
     "3608681887df4f95924cda5154564e6c": {
      "model_module": "@jupyter-widgets/controls",
      "model_module_version": "1.1.0",
      "model_name": "SelectMultipleModel",
      "state": {
       "description": "Sources",
       "index": [],
       "layout": "IPY_MODEL_5ca08a37bfda42a59f5683aa749fe088",
       "rows": 5,
       "style": "IPY_MODEL_e73ca1f8f2644a55a15ff153c4471518"
      }
     },
     "360cc059e3ce43c38ee2b97b6f326108": {
      "model_module": "@jupyter-widgets/base",
      "model_module_version": "1.0.0",
      "model_name": "LayoutModel",
      "state": {
       "justify_content": "flex-start",
       "overflow": "visible"
      }
     },
     "36474e4ac3724e3e9a3fcb81fde67fc2": {
      "model_module": "@jupyter-widgets/controls",
      "model_module_version": "1.1.0",
      "model_name": "DescriptionStyleModel",
      "state": {
       "description_width": ""
      }
     },
     "364c1dfc41a94872acef6145fa81d03c": {
      "model_module": "@jupyter-widgets/controls",
      "model_module_version": "1.1.0",
      "model_name": "DescriptionStyleModel",
      "state": {
       "description_width": ""
      }
     },
     "3666225f9c12447298096d0c190ca90d": {
      "model_module": "@jupyter-widgets/controls",
      "model_module_version": "1.1.0",
      "model_name": "VBoxModel",
      "state": {
       "children": [
        "IPY_MODEL_8a7942d2659b4690b8d91fd8b927a246",
        "IPY_MODEL_f0d1575fa696462fa62bf14a51b08a84",
        "IPY_MODEL_7fbaa75d949e4e14988a30d1427fa4a5"
       ],
       "layout": "IPY_MODEL_648ccfc6986d4787bb50c9a0d1db89e2"
      }
     },
     "36a47ab6d4744349909469d9d52b3bcc": {
      "model_module": "@jupyter-widgets/controls",
      "model_module_version": "1.1.0",
      "model_name": "IntSliderModel",
      "state": {
       "description": "iterations",
       "layout": "IPY_MODEL_2d5fad12bb3045c1acd8c41c65361bbd",
       "max": 15,
       "min": 1,
       "style": "IPY_MODEL_c5fb4649d6614e2bb643b90941b6281f",
       "value": 2
      }
     },
     "36b1672549034d5ba7487d83e32abfbd": {
      "model_module": "@jupyter-widgets/controls",
      "model_module_version": "1.1.0",
      "model_name": "DescriptionStyleModel",
      "state": {
       "description_width": ""
      }
     },
     "36b83e7f992946e0abacf70d0b8e300a": {
      "model_module": "@jupyter-widgets/controls",
      "model_module_version": "1.1.0",
      "model_name": "IntSliderModel",
      "state": {
       "description": "population size",
       "layout": "IPY_MODEL_99928569446e4b09a92f500711b19244",
       "max": 50,
       "min": 10,
       "style": "IPY_MODEL_ae7e603cb4ec4d8c8d80bbe22c1bae46",
       "value": 10
      }
     },
     "36c25f0836ae41909fa2fb9f64fbcb3a": {
      "model_module": "@jupyter-widgets/base",
      "model_module_version": "1.0.0",
      "model_name": "LayoutModel",
      "state": {}
     },
     "36cda0178f214ae3b121bdad81d2688b": {
      "model_module": "@jupyter-widgets/base",
      "model_module_version": "1.0.0",
      "model_name": "LayoutModel",
      "state": {}
     },
     "36d802f037c944e7a6ca61f046af73a9": {
      "model_module": "@jupyter-widgets/base",
      "model_module_version": "1.0.0",
      "model_name": "LayoutModel",
      "state": {}
     },
     "36f820c52b9f40b7ad0e90e6f44225a5": {
      "model_module": "@jupyter-widgets/base",
      "model_module_version": "1.0.0",
      "model_name": "LayoutModel",
      "state": {
       "min_width": "125px"
      }
     },
     "372705f9efa04aa5a6b0ca2b9b203bbf": {
      "model_module": "@jupyter-widgets/controls",
      "model_module_version": "1.1.0",
      "model_name": "DescriptionStyleModel",
      "state": {
       "description_width": ""
      }
     },
     "372b81bc08184912aec97184ff36bbb1": {
      "model_module": "@jupyter-widgets/controls",
      "model_module_version": "1.1.0",
      "model_name": "VBoxModel",
      "state": {
       "_dom_classes": [
        "widget-interact"
       ],
       "children": [
        "IPY_MODEL_570f6e989bcf43d8b070127f946fc306",
        "IPY_MODEL_d0e4b8f43f574dce85cf539fc3ab441a"
       ],
       "layout": "IPY_MODEL_536143596b574181a4da8aeaa798b32e"
      }
     },
     "372e1f5c3fe54609ba723483b028837e": {
      "model_module": "@jupyter-widgets/controls",
      "model_module_version": "1.1.0",
      "model_name": "DescriptionStyleModel",
      "state": {
       "description_width": ""
      }
     },
     "3753d0dc17e74a56b23f429af138cbbb": {
      "model_module": "@jupyter-widgets/base",
      "model_module_version": "1.0.0",
      "model_name": "LayoutModel",
      "state": {}
     },
     "3758c4b43b754754926323fa700ce1b2": {
      "model_module": "@jupyter-widgets/controls",
      "model_module_version": "1.1.0",
      "model_name": "DropdownModel",
      "state": {
       "_options_labels": [
        "True",
        "False"
       ],
       "description": "Debug",
       "index": 0,
       "layout": "IPY_MODEL_ad03ccae7ad74f1193d27c23fb7aaff6",
       "style": "IPY_MODEL_709e454ca7f443c581644d4baa5bbdad"
      }
     },
     "3765381d5b0f47e08e771e3329a78f5f": {
      "model_module": "@jupyter-widgets/base",
      "model_module_version": "1.0.0",
      "model_name": "LayoutModel",
      "state": {}
     },
     "3787822cb65f4210948d8cee194ac8e7": {
      "model_module": "@jupyter-widgets/base",
      "model_module_version": "1.0.0",
      "model_name": "LayoutModel",
      "state": {}
     },
     "38041c9bc1c6446caad4688dbe40cd87": {
      "model_module": "@jupyter-widgets/controls",
      "model_module_version": "1.1.0",
      "model_name": "DescriptionStyleModel",
      "state": {
       "description_width": ""
      }
     },
     "38050ad1ea0845e9adc51ebdc5efc572": {
      "model_module": "@jupyter-widgets/controls",
      "model_module_version": "1.1.0",
      "model_name": "HBoxModel",
      "state": {
       "children": [
        "IPY_MODEL_933de62b286d4e78ac5caf909837a1ca",
        "IPY_MODEL_3d75d552c31344c9beba521cc2b49ce1",
        "IPY_MODEL_404a43ef9eee418b965a3940e8dddb46"
       ],
       "layout": "IPY_MODEL_261d8af997f54ff7b006c4c42c608d58"
      }
     },
     "3836ded8d9dd437d957a5154a1a03e03": {
      "model_module": "@jupyter-widgets/controls",
      "model_module_version": "1.1.0",
      "model_name": "SliderStyleModel",
      "state": {
       "description_width": ""
      }
     },
     "385197f82599448eb21380cc4ea71d7e": {
      "model_module": "@jupyter-widgets/controls",
      "model_module_version": "1.1.0",
      "model_name": "VBoxModel",
      "state": {
       "_dom_classes": [
        "widget-interact"
       ],
       "children": [
        "IPY_MODEL_776b571be2aa4298a93a618a83298db5",
        "IPY_MODEL_8f67cfbc1be2415588331557807a28d0"
       ],
       "layout": "IPY_MODEL_266be1bb2d15442c953c93e6cd6ecbbd"
      }
     },
     "3862171e51b34d0fb7ff75a8a0921b4a": {
      "model_module": "@jupyter-widgets/base",
      "model_module_version": "1.0.0",
      "model_name": "LayoutModel",
      "state": {}
     },
     "38742eb63da24144acbbdbba8e3c1435": {
      "model_module": "@jupyter-widgets/controls",
      "model_module_version": "1.1.0",
      "model_name": "ButtonStyleModel",
      "state": {}
     },
     "388b851b874f463e954fb01f2dd64fae": {
      "model_module": "@jupyter-widgets/controls",
      "model_module_version": "1.1.0",
      "model_name": "LabelModel",
      "state": {
       "layout": "IPY_MODEL_86b54b52d7e644cba10ab7c5843b482a",
       "style": "IPY_MODEL_812431236b7f4014ab3a826359613496",
       "value": "Download Settings"
      }
     },
     "389bfaa26aac4734b15393c058ae6975": {
      "model_module": "@jupyter-widgets/controls",
      "model_module_version": "1.1.0",
      "model_name": "DropdownModel",
      "state": {
       "_options_labels": [
        "Segmenter Builder Result",
        "Manual",
        "Segmenter Builder Result AccelZ 2"
       ],
       "description": "Segmenter",
       "index": 0,
       "layout": "IPY_MODEL_5334ccb19f494802809009d528a78501",
       "style": "IPY_MODEL_52aa67d3d23845a4a28c042fa63dae10"
      }
     },
     "38e09df5290c480b989c1f8f3979c37b": {
      "model_module": "@jupyter-widgets/base",
      "model_module_version": "1.0.0",
      "model_name": "LayoutModel",
      "state": {}
     },
     "38e16681876f4e79a99d15ea88ebb4aa": {
      "model_module": "@jupyter-widgets/controls",
      "model_module_version": "1.1.0",
      "model_name": "FloatSliderModel",
      "state": {
       "description": "Accuracy",
       "layout": "IPY_MODEL_338e11d3a07d4f5e98b10454e246472a",
       "max": 1,
       "step": 0.05,
       "style": "IPY_MODEL_6e1367cab0fb4ecba67672d94e1e5b71",
       "value": 0.8
      }
     },
     "38fc06c78167434693b4b0e10d195c98": {
      "model_module": "@jupyter-widgets/controls",
      "model_module_version": "1.1.0",
      "model_name": "HBoxModel",
      "state": {
       "children": [
        "IPY_MODEL_79c94d2ed29843a29c04f5c29872a5f8",
        "IPY_MODEL_98b071a7668a4aa8a142fa8e26238299",
        "IPY_MODEL_96b6473348e544818cd11c3dfd872032"
       ],
       "layout": "IPY_MODEL_caf97181edd343df91ed7daa1b3116b7"
      }
     },
     "3929316ab12a4a46a893b1f9a7e165f2": {
      "model_module": "@jupyter-widgets/base",
      "model_module_version": "1.0.0",
      "model_name": "LayoutModel",
      "state": {}
     },
     "3929ae3e2e23419fb13b3ca7790e963b": {
      "model_module": "@jupyter-widgets/controls",
      "model_module_version": "1.1.0",
      "model_name": "DropdownModel",
      "state": {
       "_options_labels": [
        "Binary",
        "Library"
       ],
       "description": "Download",
       "index": 0,
       "layout": "IPY_MODEL_7132ee00448a418ca302bcefc8cded7f",
       "style": "IPY_MODEL_f430f5b39d494effa663273e40dae892"
      }
     },
     "392a9202f53c47deb37d87f8e3ac3a06": {
      "model_module": "@jupyter-widgets/controls",
      "model_module_version": "1.1.0",
      "model_name": "DescriptionStyleModel",
      "state": {
       "description_width": ""
      }
     },
     "392aea1e423b47b686d67d8efcbcf815": {
      "model_module": "@jupyter-widgets/base",
      "model_module_version": "1.0.0",
      "model_name": "LayoutModel",
      "state": {
       "width": "300px"
      }
     },
     "394e562787c141f8818894a822739c01": {
      "model_module": "@jupyter-widgets/controls",
      "model_module_version": "1.1.0",
      "model_name": "DescriptionStyleModel",
      "state": {
       "description_width": ""
      }
     },
     "39920d3401624f40b9bc16a7117f928d": {
      "model_module": "@jupyter-widgets/controls",
      "model_module_version": "1.1.0",
      "model_name": "ButtonModel",
      "state": {
       "description": "Login",
       "layout": "IPY_MODEL_0eb4a0c638264393b184d41b370908f4",
       "style": "IPY_MODEL_b0598e86bd08447ca1cbffd98a10299e"
      }
     },
     "39a79c74992a4d9bb4f9b523a5609217": {
      "model_module": "@jupyter-widgets/controls",
      "model_module_version": "1.1.0",
      "model_name": "DropdownModel",
      "state": {
       "_options_labels": [
        "Default",
        "Windowing(100)",
        "Windowing(200)",
        "Windowing(250)"
       ],
       "description": "Segmenter",
       "index": 0,
       "layout": "IPY_MODEL_8177656775d742dfb4608d26384a1719",
       "style": "IPY_MODEL_34ef29d2d57e46edb9a90bb95940bdfb"
      }
     },
     "39b153469296495b85023980ec68e504": {
      "model_module": "@jupyter-widgets/controls",
      "model_module_version": "1.1.0",
      "model_name": "VBoxModel",
      "state": {
       "children": [
        "IPY_MODEL_650fd794eb6143f0a4b25652a2f4a33a",
        "IPY_MODEL_f956248c249740d3bbd84f6e72ee9b3a"
       ],
       "layout": "IPY_MODEL_e87b71ec3322403b9faf52c9d64296c4"
      }
     },
     "39b1735f61cc40feb8d9f7c20ba0316c": {
      "model_module": "@jupyter-widgets/controls",
      "model_module_version": "1.1.0",
      "model_name": "ButtonStyleModel",
      "state": {}
     },
     "39cb01e590a84b2a9e5bba087ec9697a": {
      "model_module": "@jupyter-widgets/controls",
      "model_module_version": "1.1.0",
      "model_name": "DropdownModel",
      "state": {
       "description": "HW Platform",
       "index": null,
       "layout": "IPY_MODEL_dcfc7dba8c2e4e87852a82f44f35e06b",
       "style": "IPY_MODEL_32b09b3d768640a0aa3a7b83aa727a9a"
      }
     },
     "39d3989ec84744f1bb29a132f1e1faca": {
      "model_module": "bqplot",
      "model_module_version": "^0.3.2",
      "model_name": "LinearScaleModel",
      "state": {
       "min": 0,
       "stabilized": false
      }
     },
     "3a0f1344ee2a401ba6919d0d4d42a4b5": {
      "model_module": "@jupyter-widgets/base",
      "model_module_version": "1.0.0",
      "model_name": "LayoutModel",
      "state": {}
     },
     "3a2441fef3e447c9a849e333d2906086": {
      "model_module": "@jupyter-widgets/base",
      "model_module_version": "1.0.0",
      "model_name": "LayoutModel",
      "state": {}
     },
     "3a408869a55a4ab98f111563ba12a252": {
      "model_module": "@jupyter-widgets/controls",
      "model_module_version": "1.1.0",
      "model_name": "ButtonModel",
      "state": {
       "description": "Refresh",
       "icon": "0",
       "layout": "IPY_MODEL_3d829e68a59d4cc894ba9d2bd2bf5e27",
       "style": "IPY_MODEL_19e3730087a649329b139e843a0e5076"
      }
     },
     "3a520e8929904770887d230b570dc50a": {
      "model_module": "@jupyter-widgets/controls",
      "model_module_version": "1.1.0",
      "model_name": "ButtonModel",
      "state": {
       "description": "Login",
       "layout": "IPY_MODEL_824b8f525c9b4ffb9bbcf8c0192810fc",
       "style": "IPY_MODEL_3e057a4c62724983bad13ed28b3087d7"
      }
     },
     "3a5effe0772c4347ad59126e476991f0": {
      "model_module": "@jupyter-widgets/controls",
      "model_module_version": "1.1.0",
      "model_name": "SelectMultipleModel",
      "state": {
       "_options_labels": [
        "ble",
        "led",
        "serial"
       ],
       "description": "Output",
       "index": [
        0
       ],
       "layout": "IPY_MODEL_949546751a564c4491b514d9bbbe2e91",
       "rows": 5,
       "style": "IPY_MODEL_79b95db848684605ba4f9fa2b360b783"
      }
     },
     "3a79bf9966b243858ea42035095b101b": {
      "model_module": "@jupyter-widgets/base",
      "model_module_version": "1.0.0",
      "model_name": "LayoutModel",
      "state": {}
     },
     "3a8bf66a492441b095f00e30a10e99f6": {
      "model_module": "@jupyter-widgets/controls",
      "model_module_version": "1.1.0",
      "model_name": "DropdownModel",
      "state": {
       "description": "Select Query",
       "index": null,
       "layout": "IPY_MODEL_fccaeef50f114544a477b5d8a4d0fe36",
       "style": "IPY_MODEL_1af44d8231744dfea03c6ab97fa16fe7"
      }
     },
     "3a99b8d2b7994346868dd09ae337f123": {
      "model_module": "@jupyter-widgets/controls",
      "model_module_version": "1.1.0",
      "model_name": "VBoxModel",
      "state": {
       "_dom_classes": [
        "widget-interact"
       ],
       "children": [
        "IPY_MODEL_61bb94306da1414bb3ac1477826c5c4a",
        "IPY_MODEL_d99f72cf840544cc95f00cb4ae958aa7"
       ],
       "layout": "IPY_MODEL_fa01f5916d8243b9bdca0070f526e61c"
      }
     },
     "3a9fb0e938b44cccb7e7ff65fcd45ac1": {
      "model_module": "@jupyter-widgets/controls",
      "model_module_version": "1.1.0",
      "model_name": "ButtonStyleModel",
      "state": {}
     },
     "3ad5cbb4676441d5896a077890e99956": {
      "model_module": "@jupyter-widgets/base",
      "model_module_version": "1.0.0",
      "model_name": "LayoutModel",
      "state": {}
     },
     "3ae78cbedf904d0d96b96be77ea77b3e": {
      "model_module": "@jupyter-widgets/controls",
      "model_module_version": "1.1.0",
      "model_name": "CheckboxModel",
      "state": {
       "description": "Reset",
       "disabled": false,
       "layout": "IPY_MODEL_7a47370809c342afa4e9a3cc1c21d937",
       "style": "IPY_MODEL_853da7e87fb446fca6551e5def51ec2c",
       "value": false
      }
     },
     "3b07773e91d84c0eb645b42586e925dd": {
      "model_module": "@jupyter-widgets/base",
      "model_module_version": "1.0.0",
      "model_name": "LayoutModel",
      "state": {}
     },
     "3b167403bac543fa94a27641dbac0e35": {
      "model_module": "@jupyter-widgets/base",
      "model_module_version": "1.0.0",
      "model_name": "LayoutModel",
      "state": {}
     },
     "3b5583cf7c0745cb8338377244e02ca0": {
      "model_module": "bqplot",
      "model_module_version": "^0.3.2",
      "model_name": "AxisModel",
      "state": {
       "num_ticks": 5,
       "orientation": "vertical",
       "scale": "IPY_MODEL_58a0f71f706e41bfa97567fdea9bfffa",
       "side": "left",
       "tick_values": {
        "type": null,
        "values": null
       }
      }
     },
     "3b672cba08aa427abcf115d8b980332b": {
      "model_module": "@jupyter-widgets/controls",
      "model_module_version": "1.1.0",
      "model_name": "SelectMultipleModel",
      "state": {
       "_options_labels": [
        "ble",
        "led",
        "serial"
       ],
       "description": "Output",
       "index": [],
       "layout": "IPY_MODEL_c1c78d00bed14bb0bf2dd04f9a5c1a66",
       "rows": 5,
       "style": "IPY_MODEL_1b52ab680b584bc6a4f88b420094ce9f"
      }
     },
     "3b9343f2da314d2e8a32f4908a26f4e7": {
      "model_module": "@jupyter-widgets/base",
      "model_module_version": "1.0.0",
      "model_name": "LayoutModel",
      "state": {}
     },
     "3bc5839423094cc983132dfdf2ae089d": {
      "model_module": "@jupyter-widgets/base",
      "model_module_version": "1.0.0",
      "model_name": "LayoutModel",
      "state": {
       "min_width": "125px"
      }
     },
     "3bcbe4e053654c5c89a272b77bac9493": {
      "model_module": "@jupyter-widgets/controls",
      "model_module_version": "1.1.0",
      "model_name": "DescriptionStyleModel",
      "state": {
       "description_width": ""
      }
     },
     "3be703992fad4f0a8fb00f92f69f8678": {
      "model_module": "@jupyter-widgets/controls",
      "model_module_version": "1.1.0",
      "model_name": "DescriptionStyleModel",
      "state": {
       "description_width": ""
      }
     },
     "3becbc5f3e4842e1984f909b711fb023": {
      "model_module": "@jupyter-widgets/base",
      "model_module_version": "1.0.0",
      "model_name": "LayoutModel",
      "state": {
       "min_width": "150px",
       "overflow": "visible"
      }
     },
     "3bf4d61afb5040c0a957f6d0e053b6c7": {
      "model_module": "@jupyter-widgets/controls",
      "model_module_version": "1.1.0",
      "model_name": "HBoxModel",
      "state": {
       "children": [
        "IPY_MODEL_1aa5aab6f7ea42859d4b99ac1077b888",
        "IPY_MODEL_5b6a7884496e4a00b445c5f398d79aff"
       ],
       "layout": "IPY_MODEL_680aae87b61642349b01d2e7554fc941"
      }
     },
     "3c3ef9c877384c2ea694cde7818dfb95": {
      "model_module": "@jupyter-widgets/controls",
      "model_module_version": "1.1.0",
      "model_name": "DescriptionStyleModel",
      "state": {
       "description_width": ""
      }
     },
     "3c555188c5f54f75a871b3315bbb8e07": {
      "model_module": "bqplot",
      "model_module_version": "^0.3.2",
      "model_name": "LinearScaleModel",
      "state": {
       "allow_padding": false,
       "max": 1,
       "min": 0,
       "stabilized": false
      }
     },
     "3c55eb7be7ad4242b2a7e915f3b24e15": {
      "model_module": "@jupyter-widgets/base",
      "model_module_version": "1.0.0",
      "model_name": "LayoutModel",
      "state": {
       "align_items": "flex-start",
       "border": "solid 2px",
       "display": "flex",
       "flex_flow": "column",
       "justify_content": "center",
       "overflow": "visible",
       "width": "25%"
      }
     },
     "3c5e3caeaf1e4395bd969cbbd3e5f4c6": {
      "model_module": "@jupyter-widgets/controls",
      "model_module_version": "1.1.0",
      "model_name": "SliderStyleModel",
      "state": {
       "description_width": ""
      }
     },
     "3c85ec95e68b419a858119c69d6483b0": {
      "model_module": "@jupyter-widgets/base",
      "model_module_version": "1.0.0",
      "model_name": "LayoutModel",
      "state": {
       "align_items": "stretch",
       "border": "solid 2px",
       "display": "flex",
       "flex_flow": "column",
       "overflow": "visible",
       "width": "75%"
      }
     },
     "3c89947bb83d47b9a7a5f5c7c80c73ad": {
      "model_module": "@jupyter-widgets/controls",
      "model_module_version": "1.1.0",
      "model_name": "DropdownModel",
      "state": {
       "_options_labels": [
        "Curie Reference 4.1",
        "Nordic Thingy 2.1",
        "Amulet 4.1"
       ],
       "description": "HW Platform",
       "index": 1,
       "layout": "IPY_MODEL_dcf836d4d6f644d6b34ac09ec34ae3b8",
       "style": "IPY_MODEL_261d2df81e9c43219ff2a519d7b6eac1"
      }
     },
     "3c96f05b1bb643e7a3fbb46aedf1aa5f": {
      "model_module": "@jupyter-widgets/controls",
      "model_module_version": "1.1.0",
      "model_name": "ButtonStyleModel",
      "state": {}
     },
     "3ccfd3209e5d409c9c60a0deaa0f5752": {
      "model_module": "@jupyter-widgets/base",
      "model_module_version": "1.0.0",
      "model_name": "LayoutModel",
      "state": {}
     },
     "3ce15ed761504afbbb498c966173b4c7": {
      "model_module": "@jupyter-widgets/controls",
      "model_module_version": "1.1.0",
      "model_name": "DescriptionStyleModel",
      "state": {
       "description_width": ""
      }
     },
     "3ce6ea94b5584f369edec410b74180a9": {
      "model_module": "@jupyter-widgets/controls",
      "model_module_version": "1.1.0",
      "model_name": "AccordionModel",
      "state": {
       "_titles": {
        "0": "AutoSense Pipeline"
       },
       "children": [
        "IPY_MODEL_2918323e128e4b28bc074f343439f2e2"
       ],
       "layout": "IPY_MODEL_fd8cfb0b23da4784994e1dc773cfac74"
      }
     },
     "3d1aa4ab225f4ca7b41d53cbce125d94": {
      "model_module": "@jupyter-widgets/controls",
      "model_module_version": "1.1.0",
      "model_name": "ButtonModel",
      "state": {
       "description": "Add Query",
       "layout": "IPY_MODEL_e8b8f7e1934b438fb27efc09730fcc59",
       "style": "IPY_MODEL_f013ea28acd14a9a8b01a199756df763"
      }
     },
     "3d2a4d9b6d6442f1be06647c15a9cc35": {
      "model_module": "@jupyter-widgets/controls",
      "model_module_version": "1.1.0",
      "model_name": "ButtonModel",
      "state": {
       "description": "Update Query",
       "layout": "IPY_MODEL_3765381d5b0f47e08e771e3329a78f5f",
       "style": "IPY_MODEL_3e39e5bf7f50488b9f118619326ff761"
      }
     },
     "3d3955ad8e274fb3886327f654e904e0": {
      "model_module": "@jupyter-widgets/base",
      "model_module_version": "1.0.0",
      "model_name": "LayoutModel",
      "state": {}
     },
     "3d4706b571584872b716ad3e65486e56": {
      "model_module": "@jupyter-widgets/controls",
      "model_module_version": "1.1.0",
      "model_name": "DescriptionStyleModel",
      "state": {
       "description_width": ""
      }
     },
     "3d501fbb6aa846ab89a31689c36373b2": {
      "model_module": "@jupyter-widgets/base",
      "model_module_version": "1.0.0",
      "model_name": "LayoutModel",
      "state": {
       "border": "solid 2px",
       "display": "flex",
       "flex_flow": "row",
       "justify_content": "center",
       "overflow": "visible"
      }
     },
     "3d75d552c31344c9beba521cc2b49ce1": {
      "model_module": "@jupyter-widgets/controls",
      "model_module_version": "1.1.0",
      "model_name": "VBoxModel",
      "state": {
       "children": [
        "IPY_MODEL_1c7abc537f464c8592df0c33142524ff",
        "IPY_MODEL_f5371e576c4e419f9a5f51ade661b89b",
        "IPY_MODEL_70a039d479a34e96a44aa5060beea901",
        "IPY_MODEL_e45dc3a657a8495abc01e98971725dae",
        "IPY_MODEL_3e50d911a4924010866d9f85ed4c1ca2",
        "IPY_MODEL_cf3f75771bcd42998de90a103e66e94d"
       ],
       "layout": "IPY_MODEL_b3695afb487145c1a27fec9c4229059c"
      }
     },
     "3d827b179c5647a1be83ed7e1b529bbc": {
      "model_module": "@jupyter-widgets/controls",
      "model_module_version": "1.1.0",
      "model_name": "DescriptionStyleModel",
      "state": {
       "description_width": ""
      }
     },
     "3d829e68a59d4cc894ba9d2bd2bf5e27": {
      "model_module": "@jupyter-widgets/base",
      "model_module_version": "1.0.0",
      "model_name": "LayoutModel",
      "state": {
       "align_items": "flex-start",
       "border": "solid 2px",
       "display": "flex",
       "flex_flow": "column",
       "justify_content": "center",
       "overflow": "visible",
       "width": "25%"
      }
     },
     "3dd620cd7ba544b298759eb042174cd0": {
      "model_module": "@jupyter-widgets/base",
      "model_module_version": "1.0.0",
      "model_name": "LayoutModel",
      "state": {
       "align_items": "flex-start",
       "border": "solid 2px",
       "display": "flex",
       "flex_flow": "column",
       "justify_content": "center",
       "overflow": "visible",
       "width": "25%"
      }
     },
     "3de86a5979904bd1975b846c10549d6e": {
      "model_module": "@jupyter-widgets/controls",
      "model_module_version": "1.1.0",
      "model_name": "DescriptionStyleModel",
      "state": {
       "description_width": ""
      }
     },
     "3e057a4c62724983bad13ed28b3087d7": {
      "model_module": "@jupyter-widgets/controls",
      "model_module_version": "1.1.0",
      "model_name": "ButtonStyleModel",
      "state": {}
     },
     "3e34caf4cd7f4f728d5546398b96e051": {
      "model_module": "@jupyter-widgets/controls",
      "model_module_version": "1.1.0",
      "model_name": "ButtonStyleModel",
      "state": {}
     },
     "3e39e5bf7f50488b9f118619326ff761": {
      "model_module": "@jupyter-widgets/controls",
      "model_module_version": "1.1.0",
      "model_name": "ButtonStyleModel",
      "state": {}
     },
     "3e41ace7f69b413baf678c8b1255b672": {
      "model_module": "@jupyter-widgets/base",
      "model_module_version": "1.0.0",
      "model_name": "LayoutModel",
      "state": {}
     },
     "3e50d911a4924010866d9f85ed4c1ca2": {
      "model_module": "@jupyter-widgets/controls",
      "model_module_version": "1.1.0",
      "model_name": "IntSliderModel",
      "state": {
       "description": "iterations",
       "layout": "IPY_MODEL_dcf07a0f9364435b9832e5e5a2bc3830",
       "max": 15,
       "min": 1,
       "style": "IPY_MODEL_ec2adf008a1d412abc24c94da36e2eba",
       "value": 2
      }
     },
     "3e8048eb031f40fb9eb590e19434d4b2": {
      "model_module": "@jupyter-widgets/controls",
      "model_module_version": "1.1.0",
      "model_name": "SelectMultipleModel",
      "state": {
       "_options_labels": [
        "AccelerometerX",
        "AccelerometerY",
        "AccelerometerZ",
        "GyroscopeX",
        "GyroscopeY",
        "GyroscopeZ"
       ],
       "description": "Sources",
       "index": [
        0,
        1,
        2,
        3,
        4,
        5
       ],
       "layout": "IPY_MODEL_0d9a110dbb484477b330a4e95059a720",
       "rows": 5,
       "style": "IPY_MODEL_cb878d708050422aa709a24f1944f669"
      }
     },
     "3e8b617720dc4ca088b14f4e388943c9": {
      "model_module": "@jupyter-widgets/controls",
      "model_module_version": "1.1.0",
      "model_name": "SelectMultipleModel",
      "state": {
       "_options_labels": [
        "ble",
        "led",
        "serial"
       ],
       "description": "Output",
       "index": [],
       "layout": "IPY_MODEL_d175e38963764a318416a54cc6ba57ce",
       "rows": 5,
       "style": "IPY_MODEL_423467e4832d4449b3e729472303831f"
      }
     },
     "3ef6a72dc5474a028fc7b83f2cc2dcc0": {
      "model_module": "@jupyter-widgets/controls",
      "model_module_version": "1.1.0",
      "model_name": "DropdownModel",
      "state": {
       "description": "Label Column",
       "index": null,
       "layout": "IPY_MODEL_95d735a9e9864b3f824bf2c0fa1ff3b5",
       "style": "IPY_MODEL_7709be92afb749f5a1be264a9835bb0f"
      }
     },
     "3f0127d21d7945daa149a7868304c1ad": {
      "model_module": "@jupyter-widgets/controls",
      "model_module_version": "1.1.0",
      "model_name": "VBoxModel",
      "state": {
       "children": [
        "IPY_MODEL_53136449421e453cbbc26a3d2f68162e",
        "IPY_MODEL_fd31b4342f4845ada7407ddc31c6c88f",
        "IPY_MODEL_47d1e2b4691440a99597cf06a01d7555"
       ],
       "layout": "IPY_MODEL_3787822cb65f4210948d8cee194ac8e7"
      }
     },
     "3f04543ee0874c8b807043dbc2dcbb40": {
      "model_module": "@jupyter-widgets/controls",
      "model_module_version": "1.1.0",
      "model_name": "SliderStyleModel",
      "state": {
       "description_width": ""
      }
     },
     "3f345b9d82254a0585c9ce49038ab6c8": {
      "model_module": "@jupyter-widgets/controls",
      "model_module_version": "1.1.0",
      "model_name": "DescriptionStyleModel",
      "state": {
       "description_width": ""
      }
     },
     "3f54449d04274e438be03e752501ccc0": {
      "model_module": "@jupyter-widgets/controls",
      "model_module_version": "1.1.0",
      "model_name": "DescriptionStyleModel",
      "state": {
       "description_width": ""
      }
     },
     "3f59cb54c0494abc97fd8aaa9fc05cdc": {
      "model_module": "@jupyter-widgets/base",
      "model_module_version": "1.0.0",
      "model_name": "LayoutModel",
      "state": {}
     },
     "3f6a228a6b3f4f058cfa5d971439050e": {
      "model_module": "@jupyter-widgets/controls",
      "model_module_version": "1.1.0",
      "model_name": "DescriptionStyleModel",
      "state": {
       "description_width": ""
      }
     },
     "3f8966890fa040eb86d2e8f32c57dbd8": {
      "model_module": "@jupyter-widgets/controls",
      "model_module_version": "1.1.0",
      "model_name": "ButtonModel",
      "state": {
       "description": "Create",
       "layout": "IPY_MODEL_b6ddabf2b33742e3bf4997aa27569e02",
       "style": "IPY_MODEL_315aa50fc2fd4805935adb7a12dce8d2"
      }
     },
     "3f9b217f75744e7ca3c5161f9ed182be": {
      "model_module": "@jupyter-widgets/controls",
      "model_module_version": "1.1.0",
      "model_name": "DescriptionStyleModel",
      "state": {
       "description_width": ""
      }
     },
     "3faa3975125c444e8872df084e6f1a43": {
      "model_module": "@jupyter-widgets/base",
      "model_module_version": "1.0.0",
      "model_name": "LayoutModel",
      "state": {}
     },
     "3fb9c6da774e42df9b22b3df636b32cb": {
      "model_module": "@jupyter-widgets/base",
      "model_module_version": "1.0.0",
      "model_name": "LayoutModel",
      "state": {}
     },
     "3fd7be4f5d0545d396da26337371668e": {
      "model_module": "@jupyter-widgets/base",
      "model_module_version": "1.0.0",
      "model_name": "LayoutModel",
      "state": {}
     },
     "400dbceeca674fa2adbb31c20e01c199": {
      "model_module": "@jupyter-widgets/controls",
      "model_module_version": "1.1.0",
      "model_name": "DescriptionStyleModel",
      "state": {
       "description_width": ""
      }
     },
     "4022dd77482345de8a9b999d87d992fb": {
      "model_module": "@jupyter-widgets/controls",
      "model_module_version": "1.1.0",
      "model_name": "TextModel",
      "state": {
       "description": "New Pipeline",
       "layout": "IPY_MODEL_1d6e954d89374ecc8da1b7beef70d33e",
       "style": "IPY_MODEL_103f65a3fccf4fb3ab0c94c90f7b9ff0",
       "value": "sdfasdf"
      }
     },
     "404a43ef9eee418b965a3940e8dddb46": {
      "model_module": "qgrid",
      "model_module_version": "1.0.0",
      "model_name": "QgridModel",
      "state": {
       "_columns": {
        "f1_score": {
         "name": "f1_score",
         "position": 4,
         "type": "string"
        },
        "features": {
         "name": "features",
         "position": 3,
         "type": "string"
        },
        "index": {
         "is_index": true,
         "name": "index",
         "position": 0,
         "type": "integer"
        },
        "neurons": {
         "name": "neurons",
         "position": 2,
         "type": "string"
        },
        "qgrid_unfiltered_index": {
         "name": "qgrid_unfiltered_index",
         "position": 1,
         "type": "number"
        }
       },
       "_df_json": "{\"schema\": {\"fields\":[{\"type\":\"integer\",\"name\":\"index\"},{\"type\":\"number\",\"name\":\"qgrid_unfiltered_index\"},{\"type\":\"string\",\"name\":\"neurons\"},{\"type\":\"string\",\"name\":\"features\"},{\"type\":\"string\",\"name\":\"f1_score\"}],\"pandas_version\":\"0.20.0\",\"primaryKey\":[\"index\"]}, \"data\": []}",
       "_df_range": [
        0,
        100
       ],
       "_index_col_name": "qgrid_unfiltered_index",
       "_interval_columns": [],
       "_model_module_version": "1.0.0",
       "_page_size": 100,
       "_row_count": 0,
       "_sort_ascending": true,
       "_sort_field": "",
       "_view_module_version": "1.0.0",
       "grid_options": {
        "autoEdit": false,
        "defaultColumnWidth": 15,
        "editable": false,
        "enableColumnReorder": false,
        "enableTextSelectionOnCells": true,
        "explicitInitialization": true,
        "forceFitColumns": true,
        "fullWidthRows": true,
        "maxVisibleRows": 5,
        "minVisibleRows": 5,
        "rowHeight": 35,
        "syncColumnCellResize": true
       },
       "layout": "IPY_MODEL_52ceb8c7d3d448d382873d43c38327fc",
       "precision": 5,
       "show_toolbar": false
      }
     },
     "40a5a2faf3954316acf3129cf6e43e69": {
      "model_module": "@jupyter-widgets/controls",
      "model_module_version": "1.1.0",
      "model_name": "DescriptionStyleModel",
      "state": {
       "description_width": ""
      }
     },
     "40b2fac4129644cbbaf6bc831d61e949": {
      "model_module": "@jupyter-widgets/base",
      "model_module_version": "1.0.0",
      "model_name": "LayoutModel",
      "state": {
       "border": "outset",
       "width": "100%"
      }
     },
     "40b67153c4834d0b8f163ed15de559c3": {
      "model_module": "@jupyter-widgets/controls",
      "model_module_version": "1.1.0",
      "model_name": "SliderStyleModel",
      "state": {
       "description_width": ""
      }
     },
     "40eab8933c4c4053a92cc89a010c98a0": {
      "model_module": "@jupyter-widgets/controls",
      "model_module_version": "1.1.0",
      "model_name": "SliderStyleModel",
      "state": {
       "description_width": ""
      }
     },
     "40f6800491bc44b9ba4a03d51b1b57ab": {
      "model_module": "@jupyter-widgets/base",
      "model_module_version": "1.0.0",
      "model_name": "LayoutModel",
      "state": {}
     },
     "41026267658f4a3dad6033930f476325": {
      "model_module": "@jupyter-widgets/base",
      "model_module_version": "1.0.0",
      "model_name": "LayoutModel",
      "state": {}
     },
     "410bdd2946944daa8e27a49dc9aaa65a": {
      "model_module": "@jupyter-widgets/base",
      "model_module_version": "1.0.0",
      "model_name": "LayoutModel",
      "state": {
       "align_items": "stretch",
       "border": "solid 2px",
       "display": "flex",
       "flex_flow": "column",
       "overflow": "visible",
       "width": "75%"
      }
     },
     "4136983d5e714f40806eda7ca319f0d4": {
      "model_module": "@jupyter-widgets/controls",
      "model_module_version": "1.1.0",
      "model_name": "DescriptionStyleModel",
      "state": {
       "description_width": ""
      }
     },
     "417a2705bb384a24b4ca4b484276204e": {
      "model_module": "@jupyter-widgets/controls",
      "model_module_version": "1.1.0",
      "model_name": "AccordionModel",
      "state": {
       "children": [
        "IPY_MODEL_c57f2e679aa54f99b18fb96c2849a206"
       ],
       "layout": "IPY_MODEL_cf64d32352d44b90800d56c1dc053744"
      }
     },
     "417c5e09d5fc4ed9ac794f2525738852": {
      "model_module": "@jupyter-widgets/base",
      "model_module_version": "1.0.0",
      "model_name": "LayoutModel",
      "state": {}
     },
     "4189f2c4978b4c0fbb88c5735330742c": {
      "model_module": "@jupyter-widgets/base",
      "model_module_version": "1.0.0",
      "model_name": "LayoutModel",
      "state": {
       "min_width": "125px"
      }
     },
     "41930f4599814dde89a756b0f8c81bac": {
      "model_module": "@jupyter-widgets/controls",
      "model_module_version": "1.1.0",
      "model_name": "DescriptionStyleModel",
      "state": {
       "description_width": ""
      }
     },
     "41b7ad38c58d477f8d6501d2a7d5f266": {
      "model_module": "@jupyter-widgets/controls",
      "model_module_version": "1.1.0",
      "model_name": "DropdownModel",
      "state": {
       "description": "HW Platform",
       "index": null,
       "layout": "IPY_MODEL_ae24b48a535746a9b43f0b3a227d6e9a",
       "style": "IPY_MODEL_7678a34934c44eae8db54babc4497bf7"
      }
     },
     "41c2b0c3215f46caa3d6c11941e44117": {
      "model_module": "@jupyter-widgets/controls",
      "model_module_version": "1.1.0",
      "model_name": "ButtonModel",
      "state": {
       "description": "Login",
       "layout": "IPY_MODEL_f98fc3e492744c03b26b61a0a262b357",
       "style": "IPY_MODEL_d6cf85aabaf74ab9a0d95f5c2e346dea"
      }
     },
     "41d08d0552b5480a9cdcc1b8a34b9c80": {
      "model_module": "@jupyter-widgets/controls",
      "model_module_version": "1.1.0",
      "model_name": "DescriptionStyleModel",
      "state": {
       "description_width": ""
      }
     },
     "41f378f9b2dc4e0ebd5c1a63aace252f": {
      "model_module": "@jupyter-widgets/base",
      "model_module_version": "1.0.0",
      "model_name": "LayoutModel",
      "state": {}
     },
     "423467e4832d4449b3e729472303831f": {
      "model_module": "@jupyter-widgets/controls",
      "model_module_version": "1.1.0",
      "model_name": "DescriptionStyleModel",
      "state": {
       "description_width": ""
      }
     },
     "4239446e48ed49dcb626a149c5ed89d0": {
      "model_module": "@jupyter-widgets/controls",
      "model_module_version": "1.1.0",
      "model_name": "DropdownModel",
      "state": {
       "description": "Name",
       "index": null,
       "layout": "IPY_MODEL_032cf9bb0dce40b19284631a935c6b37",
       "style": "IPY_MODEL_9ea23f7c1e5d4ec19816888a27f9c426"
      }
     },
     "425b92c3d8a44a38809291d0cb46a5df": {
      "model_module": "@jupyter-widgets/controls",
      "model_module_version": "1.1.0",
      "model_name": "DescriptionStyleModel",
      "state": {
       "description_width": ""
      }
     },
     "426a258d9103428e8764d14e0ef15c0e": {
      "model_module": "@jupyter-widgets/base",
      "model_module_version": "1.0.0",
      "model_name": "LayoutModel",
      "state": {}
     },
     "4279bd6f90a741b3a0cc4db2d6c5640b": {
      "model_module": "@jupyter-widgets/controls",
      "model_module_version": "1.1.0",
      "model_name": "DescriptionStyleModel",
      "state": {
       "description_width": ""
      }
     },
     "429d70c49a054d33b3d7795f8bcd381d": {
      "model_module": "@jupyter-widgets/controls",
      "model_module_version": "1.1.0",
      "model_name": "DescriptionStyleModel",
      "state": {
       "description_width": ""
      }
     },
     "42deb9160fc147fbacdfffe9e4b0ab52": {
      "model_module": "@jupyter-widgets/base",
      "model_module_version": "1.0.0",
      "model_name": "LayoutModel",
      "state": {}
     },
     "42e0b47ae0e049419a4161b5d149c7de": {
      "model_module": "@jupyter-widgets/base",
      "model_module_version": "1.0.0",
      "model_name": "LayoutModel",
      "state": {}
     },
     "43340ba57bd543b1b4601915b7fd29c1": {
      "model_module": "@jupyter-widgets/base",
      "model_module_version": "1.0.0",
      "model_name": "LayoutModel",
      "state": {}
     },
     "433bedd2521c4ed2b8f4f3769fad66bc": {
      "model_module": "@jupyter-widgets/controls",
      "model_module_version": "1.1.0",
      "model_name": "DescriptionStyleModel",
      "state": {
       "description_width": ""
      }
     },
     "4356ed98dfc64025be67aad7b94d164f": {
      "model_module": "@jupyter-widgets/base",
      "model_module_version": "1.0.0",
      "model_name": "LayoutModel",
      "state": {
       "border": "outset",
       "width": "100%"
      }
     },
     "437d47bb2f6d453ba47e598cc8e2f5fe": {
      "model_module": "@jupyter-widgets/controls",
      "model_module_version": "1.1.0",
      "model_name": "DescriptionStyleModel",
      "state": {
       "description_width": ""
      }
     },
     "43c3b60653f14c05bdded0975e203775": {
      "model_module": "@jupyter-widgets/controls",
      "model_module_version": "1.1.0",
      "model_name": "DropdownModel",
      "state": {
       "description": "Model Name",
       "index": null,
       "layout": "IPY_MODEL_0ccad40d4d114b29a9f63797ade3ffde",
       "style": "IPY_MODEL_36b1672549034d5ba7487d83e32abfbd"
      }
     },
     "43ccc848604c4abe95a2a5b520e9b6da": {
      "model_module": "@jupyter-widgets/controls",
      "model_module_version": "1.1.0",
      "model_name": "DropdownModel",
      "state": {
       "_options_labels": [
        "",
        "Heiarchical Pipeline",
        "DemoPipeline",
        "Hiearchical Whatever",
        "Gesture Pipeline"
       ],
       "description": "Select Pipeline",
       "index": 0,
       "layout": "IPY_MODEL_5cede357e9d14ec99a115cb3638f4a35",
       "style": "IPY_MODEL_36474e4ac3724e3e9a3fcb81fde67fc2"
      }
     },
     "43f3ba40abf84d13a1abd1093f73537f": {
      "model_module": "@jupyter-widgets/controls",
      "model_module_version": "1.1.0",
      "model_name": "ButtonModel",
      "state": {
       "description": "Update Query",
       "layout": "IPY_MODEL_98b74ec48ec140eda09da1f266539d59",
       "style": "IPY_MODEL_f9b3edfbf49e4854948cbae7854a7fc5"
      }
     },
     "43f9ce71ddc74a8480fde591dcbff10f": {
      "model_module": "@jupyter-widgets/controls",
      "model_module_version": "1.1.0",
      "model_name": "ButtonStyleModel",
      "state": {}
     },
     "441704e4925e4c78be3fc5225826e2b5": {
      "model_module": "@jupyter-widgets/controls",
      "model_module_version": "1.1.0",
      "model_name": "AccordionModel",
      "state": {
       "_titles": {
        "0": "Select or Create Query"
       },
       "children": [
        "IPY_MODEL_599deb53998343b4bf4a77e10863b72f"
       ],
       "layout": "IPY_MODEL_8c4c6b410c354331b59443621b42d0d6"
      }
     },
     "443929973e154fad9fb70273a975db25": {
      "model_module": "@jupyter-widgets/controls",
      "model_module_version": "1.1.0",
      "model_name": "DropdownModel",
      "state": {
       "_options_labels": [
        "True",
        "False"
       ],
       "description": "Debug",
       "index": 0,
       "layout": "IPY_MODEL_ac7dd087a15d4a28afb49cd98e7c09fd",
       "style": "IPY_MODEL_6aeba0263e6a49e59242f32c46a5f23e"
      }
     },
     "443d86ae6a0b47d69a1975ff25e6e67f": {
      "model_module": "@jupyter-widgets/base",
      "model_module_version": "1.0.0",
      "model_name": "LayoutModel",
      "state": {}
     },
     "448247cda0fa4324bccded181e01e6fa": {
      "model_module": "@jupyter-widgets/base",
      "model_module_version": "1.0.0",
      "model_name": "LayoutModel",
      "state": {}
     },
     "44a81eb7b40547b7a5c98ddd992e1c76": {
      "model_module": "@jupyter-widgets/controls",
      "model_module_version": "1.1.0",
      "model_name": "DropdownModel",
      "state": {
       "description": "Model Name",
       "index": null,
       "layout": "IPY_MODEL_e2c8f8d6b9e34ce7a4d77b3e78b4a69f",
       "style": "IPY_MODEL_4ec79fb479b54b3583a78062b33736db"
      }
     },
     "44aaa69ddb0e420897ec84558d647cdd": {
      "model_module": "@jupyter-widgets/base",
      "model_module_version": "1.0.0",
      "model_name": "LayoutModel",
      "state": {
       "display": "flex",
       "flex_flow": "row",
       "justify_content": "flex-end"
      }
     },
     "44abe08b0db04661a399c3c5e25fb7b6": {
      "model_module": "@jupyter-widgets/base",
      "model_module_version": "1.0.0",
      "model_name": "LayoutModel",
      "state": {}
     },
     "450bb8d398234f0db11b7ed7bced9150": {
      "model_module": "@jupyter-widgets/base",
      "model_module_version": "1.0.0",
      "model_name": "LayoutModel",
      "state": {}
     },
     "451a11be36e24316be0998695003002d": {
      "model_module": "@jupyter-widgets/controls",
      "model_module_version": "1.1.0",
      "model_name": "SelectMultipleModel",
      "state": {
       "_options_labels": [
        "ble",
        "led",
        "serial"
       ],
       "description": "Output",
       "index": [],
       "layout": "IPY_MODEL_d36aaa2c27c44fa4a6d4373c4844b95c",
       "rows": 5,
       "style": "IPY_MODEL_69639e5d18e84493962ecc1724f81167"
      }
     },
     "4524506eaadb4eb29713bab27d81c60a": {
      "model_module": "@jupyter-widgets/controls",
      "model_module_version": "1.1.0",
      "model_name": "DescriptionStyleModel",
      "state": {
       "description_width": ""
      }
     },
     "452ebc0be8a94e7cb6e4d2937dfd9e01": {
      "model_module": "@jupyter-widgets/controls",
      "model_module_version": "1.1.0",
      "model_name": "HBoxModel",
      "state": {
       "children": [
        "IPY_MODEL_dd956f24d07c4035a3b4d593e34daf76",
        "IPY_MODEL_ca35f52f315549559d4a2717089a7ec8",
        "IPY_MODEL_92326450987440feb2ea6cb4e11aa299"
       ],
       "layout": "IPY_MODEL_14252e7a85754b469df1994177b08d79"
      }
     },
     "4541beefb910463fa562ae514ea3efac": {
      "model_module": "@jupyter-widgets/base",
      "model_module_version": "1.0.0",
      "model_name": "LayoutModel",
      "state": {}
     },
     "45528dc301634cefb996ae3b85208d7c": {
      "model_module": "@jupyter-widgets/controls",
      "model_module_version": "1.1.0",
      "model_name": "AccordionModel",
      "state": {
       "_titles": {
        "0": "Select or Create Query"
       },
       "children": [
        "IPY_MODEL_3bf4d61afb5040c0a957f6d0e053b6c7"
       ],
       "layout": "IPY_MODEL_dc82cdf4d1a847f2b0d6344ec1fa3de0"
      }
     },
     "4559be6b35024bc0b49a444cd4cbfc84": {
      "model_module": "@jupyter-widgets/controls",
      "model_module_version": "1.1.0",
      "model_name": "AccordionModel",
      "state": {
       "_titles": {
        "0": "Download Knowledgepack"
       },
       "children": [
        "IPY_MODEL_ccfd603ad7ed43f4a01193f66484a2bd"
       ],
       "layout": "IPY_MODEL_e7eefe32891e4890b580f873d71e161d"
      }
     },
     "45a56fb0991041e4b5ce07ffe9886790": {
      "model_module": "@jupyter-widgets/controls",
      "model_module_version": "1.1.0",
      "model_name": "VBoxModel",
      "state": {
       "children": [
        "IPY_MODEL_ae3a1b7dbcec47bc9510147c80a8ff6d",
        "IPY_MODEL_3758c4b43b754754926323fa700ce1b2",
        "IPY_MODEL_15ec9bfd5b284743aaba6298e0205f2f"
       ],
       "layout": "IPY_MODEL_22d79178e60c43c8b44a724be87e371a"
      }
     },
     "46158d87862a4aa496463a253bd0b0b1": {
      "model_module": "@jupyter-widgets/base",
      "model_module_version": "1.0.0",
      "model_name": "LayoutModel",
      "state": {}
     },
     "4627e46fe12f43febc6c60e5acade764": {
      "model_module": "bqplot",
      "model_module_version": "^0.3.2",
      "model_name": "AxisModel",
      "state": {
       "num_ticks": 5,
       "orientation": "vertical",
       "scale": "IPY_MODEL_39d3989ec84744f1bb29a132f1e1faca",
       "side": "left",
       "tick_values": {
        "type": null,
        "values": null
       }
      }
     },
     "463d520b5f6149cea35ff3b721cacae1": {
      "model_module": "@jupyter-widgets/controls",
      "model_module_version": "1.1.0",
      "model_name": "DescriptionStyleModel",
      "state": {
       "description_width": ""
      }
     },
     "46746c4504da4e19a22430506593ba62": {
      "model_module": "@jupyter-widgets/base",
      "model_module_version": "1.0.0",
      "model_name": "LayoutModel",
      "state": {}
     },
     "46bfab9044684608b45db3de9b01ee9f": {
      "model_module": "@jupyter-widgets/controls",
      "model_module_version": "1.1.0",
      "model_name": "AccordionModel",
      "state": {
       "_titles": {
        "0": "Download Knowledgepack"
       },
       "children": [
        "IPY_MODEL_ba0e8b3842464be99cf9cf6688c57656"
       ],
       "layout": "IPY_MODEL_2f3aca620c0f4a35af1aad0e407d2773"
      }
     },
     "46c928f4d27c43ca807a2f2a2d90a07f": {
      "model_module": "@jupyter-widgets/controls",
      "model_module_version": "1.1.0",
      "model_name": "ButtonStyleModel",
      "state": {}
     },
     "46ec18fb25144390a3758e746842b657": {
      "model_module": "@jupyter-widgets/controls",
      "model_module_version": "1.1.0",
      "model_name": "DropdownModel",
      "state": {
       "_options_labels": [
        "100",
        "50",
        "25"
       ],
       "description": "IMU Rate",
       "index": 0,
       "layout": "IPY_MODEL_ed3bca106abc48c2a7a7cea4aeee2282",
       "style": "IPY_MODEL_55fc470fbd3449b8b370c3067c8f4d2d"
      }
     },
     "46ee36e8518448b099a851b458f3db5c": {
      "model_module": "@jupyter-widgets/base",
      "model_module_version": "1.0.0",
      "model_name": "LayoutModel",
      "state": {}
     },
     "46f0f01bbcfe48b8a137488c2bf4c0dd": {
      "model_module": "@jupyter-widgets/base",
      "model_module_version": "1.0.0",
      "model_name": "LayoutModel",
      "state": {}
     },
     "4723f2c0d33649e8a64c4fdb01662adb": {
      "model_module": "@jupyter-widgets/base",
      "model_module_version": "1.0.0",
      "model_name": "LayoutModel",
      "state": {
       "display": "flex",
       "flex_flow": "row",
       "justify_content": "space-between",
       "overflow": "visible"
      }
     },
     "472b118d81144baea805224d2f43d4d5": {
      "model_module": "@jupyter-widgets/controls",
      "model_module_version": "1.1.0",
      "model_name": "SliderStyleModel",
      "state": {
       "description_width": ""
      }
     },
     "4756cb4db90b451cb2e7e544ed8a9153": {
      "model_module": "@jupyter-widgets/controls",
      "model_module_version": "1.1.0",
      "model_name": "HBoxModel",
      "state": {
       "children": [
        "IPY_MODEL_63d14af3cfa14f678bb9e925043b0b40",
        "IPY_MODEL_daa224f3279e4014b1bab0887218a30f"
       ],
       "layout": "IPY_MODEL_d3f581bce7c8427f8fc62f650c6a1ff3"
      }
     },
     "47d1e2b4691440a99597cf06a01d7555": {
      "model_module": "@jupyter-widgets/controls",
      "model_module_version": "1.1.0",
      "model_name": "HBoxModel",
      "state": {
       "children": [
        "IPY_MODEL_1d061d4b53754425b835c22faf364db6",
        "IPY_MODEL_b6da05efafb049d6bdca34abccefb6b3",
        "IPY_MODEL_3e8b617720dc4ca088b14f4e388943c9"
       ],
       "layout": "IPY_MODEL_d26e6541c5b641f6a7bde70ea9fcbee5"
      }
     },
     "48198f4ff5c74b42b654dc266b820c8a": {
      "model_module": "qgrid",
      "model_module_version": "1.0.0",
      "model_name": "QgridModel",
      "state": {
       "_columns": {
        "f1_score": {
         "name": "f1_score",
         "position": 4,
         "type": "string"
        },
        "features": {
         "name": "features",
         "position": 3,
         "type": "string"
        },
        "index": {
         "is_index": true,
         "name": "index",
         "position": 0,
         "type": "integer"
        },
        "neurons": {
         "name": "neurons",
         "position": 2,
         "type": "string"
        },
        "qgrid_unfiltered_index": {
         "name": "qgrid_unfiltered_index",
         "position": 1,
         "type": "number"
        }
       },
       "_df_json": "{\"schema\": {\"fields\":[{\"type\":\"integer\",\"name\":\"index\"},{\"type\":\"number\",\"name\":\"qgrid_unfiltered_index\"},{\"type\":\"string\",\"name\":\"neurons\"},{\"type\":\"string\",\"name\":\"features\"},{\"type\":\"string\",\"name\":\"f1_score\"}],\"pandas_version\":\"0.20.0\",\"primaryKey\":[\"index\"]}, \"data\": []}",
       "_df_range": [
        0,
        100
       ],
       "_index_col_name": "qgrid_unfiltered_index",
       "_interval_columns": [],
       "_model_module_version": "1.0.0",
       "_page_size": 100,
       "_row_count": 0,
       "_sort_ascending": true,
       "_sort_field": "",
       "_view_module_version": "1.0.0",
       "grid_options": {
        "autoEdit": false,
        "defaultColumnWidth": 15,
        "editable": false,
        "enableColumnReorder": false,
        "enableTextSelectionOnCells": true,
        "explicitInitialization": true,
        "forceFitColumns": true,
        "fullWidthRows": true,
        "maxVisibleRows": 5,
        "minVisibleRows": 5,
        "rowHeight": 35,
        "syncColumnCellResize": true
       },
       "layout": "IPY_MODEL_a325281bbde546d59638a61745803b72",
       "precision": 5,
       "show_toolbar": false
      }
     },
     "4826a704bd9a49318e6ce8d8d41461a6": {
      "model_module": "@jupyter-widgets/controls",
      "model_module_version": "1.1.0",
      "model_name": "VBoxModel",
      "state": {
       "children": [
        "IPY_MODEL_96cefe42abf9415485422a93fbeeea06",
        "IPY_MODEL_b4b72d79691a4899ada20f58767b7361"
       ],
       "layout": "IPY_MODEL_9d21fa8f69ff47d6a405aa2cd6cb5575"
      }
     },
     "4887e691a6c24ec883b9fc74c716f68a": {
      "model_module": "@jupyter-widgets/base",
      "model_module_version": "1.0.0",
      "model_name": "LayoutModel",
      "state": {}
     },
     "48c56bd3309c4bfc956c25231a7efeca": {
      "model_module": "@jupyter-widgets/controls",
      "model_module_version": "1.1.0",
      "model_name": "VBoxModel",
      "state": {
       "children": [
        "IPY_MODEL_e545bfbfc0b74242a2e2ad8b64df2aa2",
        "IPY_MODEL_f09108adfa1d4bdd9ec8e0a2d3257369",
        "IPY_MODEL_d1730d287b18479fbc9a2a50472a951a"
       ],
       "layout": "IPY_MODEL_952a0cb9076f4ce5af5dc18731340533"
      }
     },
     "48e52e2e64d64225908d6f22c5517c41": {
      "model_module": "@jupyter-widgets/base",
      "model_module_version": "1.0.0",
      "model_name": "LayoutModel",
      "state": {}
     },
     "4907d6858fe349a282f881b92e436ae9": {
      "model_module": "@jupyter-widgets/controls",
      "model_module_version": "1.1.0",
      "model_name": "ButtonStyleModel",
      "state": {}
     },
     "492f7450ff3b4a5d8521b0759864a9ea": {
      "model_module": "@jupyter-widgets/base",
      "model_module_version": "1.0.0",
      "model_name": "LayoutModel",
      "state": {}
     },
     "4945614b7c30435aa8f4e8e5334b3000": {
      "model_module": "@jupyter-widgets/controls",
      "model_module_version": "1.1.0",
      "model_name": "HBoxModel",
      "state": {
       "children": [
        "IPY_MODEL_e60e0399e4b9482e922d2afaceaa7669",
        "IPY_MODEL_afeedd2293cc403993ad324aefe765c5"
       ],
       "layout": "IPY_MODEL_09c1e6f9897341e1bcf9aa6e89bc01b8"
      }
     },
     "49554befc653414bb4b0a6061e47bda7": {
      "model_module": "@jupyter-widgets/base",
      "model_module_version": "1.0.0",
      "model_name": "LayoutModel",
      "state": {}
     },
     "4959603eaee145fd9759404ea4792118": {
      "model_module": "@jupyter-widgets/controls",
      "model_module_version": "1.1.0",
      "model_name": "DropdownModel",
      "state": {
       "_options_labels": [
        "True",
        "False"
       ],
       "description": "Debug",
       "index": 0,
       "layout": "IPY_MODEL_af0eec8f670245c98ee123d8b62a624d",
       "style": "IPY_MODEL_8437a61ba7ad47ae9c8d338c4dfe2d42"
      }
     },
     "495dc18845d64e94ba59f54833f61538": {
      "model_module": "@jupyter-widgets/base",
      "model_module_version": "1.0.0",
      "model_name": "LayoutModel",
      "state": {}
     },
     "49726d2093bc4d549701da37c5570347": {
      "model_module": "@jupyter-widgets/base",
      "model_module_version": "1.0.0",
      "model_name": "LayoutModel",
      "state": {}
     },
     "49b1d4ee364b4bcb91ef17368a672fa1": {
      "model_module": "bqplot",
      "model_module_version": "^0.3.2",
      "model_name": "AxisModel",
      "state": {
       "scale": "IPY_MODEL_0e8399b929c446a18e71f1538a437629",
       "side": "bottom",
       "tick_values": {
        "type": "<U1",
        "values": [
         "A",
         "B"
        ]
       }
      }
     },
     "49e00487832245549c3dc0619f4b6ead": {
      "model_module": "@jupyter-widgets/base",
      "model_module_version": "1.0.0",
      "model_name": "LayoutModel",
      "state": {}
     },
     "49fc7052a05c4e4dabfa5d24084fb560": {
      "model_module": "@jupyter-widgets/base",
      "model_module_version": "1.0.0",
      "model_name": "LayoutModel",
      "state": {}
     },
     "49fe7232a0a040d398c9712684305666": {
      "model_module": "@jupyter-widgets/base",
      "model_module_version": "1.0.0",
      "model_name": "LayoutModel",
      "state": {}
     },
     "4a2c5cab651a4933900c665798e7c2a3": {
      "model_module": "@jupyter-widgets/base",
      "model_module_version": "1.0.0",
      "model_name": "LayoutModel",
      "state": {
       "border": "solid 2px",
       "display": "flex",
       "flex_flow": "row",
       "justify_content": "space-between",
       "overflow": "visible"
      }
     },
     "4a792cfb95c24275835ed279d3a44929": {
      "model_module": "@jupyter-widgets/controls",
      "model_module_version": "1.1.0",
      "model_name": "DropdownModel",
      "state": {
       "description": "Select Query",
       "index": null,
       "layout": "IPY_MODEL_bd2e13b1306e473caf2ce6cfb4190ff3",
       "style": "IPY_MODEL_50233d0f81684c52b45de2197d6e7400"
      }
     },
     "4b2735953d6a40af8d4c6b2244890aa0": {
      "model_module": "@jupyter-widgets/controls",
      "model_module_version": "1.1.0",
      "model_name": "HBoxModel",
      "state": {
       "children": [
        "IPY_MODEL_51d3ec7ad8fd480a96a93a9d9ca18ce6",
        "IPY_MODEL_e795f9eeb66241fba0e94cf4854f807f",
        "IPY_MODEL_c2afcd6c977e4bb59594ff8cae8693d2"
       ],
       "layout": "IPY_MODEL_1043dff58bd84d41b5976222432de4b0"
      }
     },
     "4b298909ca7d43b5921bea717f64f4a6": {
      "model_module": "@jupyter-widgets/controls",
      "model_module_version": "1.1.0",
      "model_name": "ButtonStyleModel",
      "state": {}
     },
     "4b5183ff438243908ed08083149269a9": {
      "model_module": "@jupyter-widgets/controls",
      "model_module_version": "1.1.0",
      "model_name": "DescriptionStyleModel",
      "state": {
       "description_width": ""
      }
     },
     "4b6776060cc943a69159be37282b30b5": {
      "model_module": "@jupyter-widgets/controls",
      "model_module_version": "1.1.0",
      "model_name": "SliderStyleModel",
      "state": {
       "description_width": ""
      }
     },
     "4b73ada6311f45ad83c1c2711be2489c": {
      "model_module": "@jupyter-widgets/base",
      "model_module_version": "1.0.0",
      "model_name": "LayoutModel",
      "state": {}
     },
     "4bb90ff3e051435a90c15db4da3be778": {
      "model_module": "@jupyter-widgets/controls",
      "model_module_version": "1.1.0",
      "model_name": "DescriptionStyleModel",
      "state": {
       "description_width": ""
      }
     },
     "4bc69c843c514516b6b1749bd9dfce06": {
      "model_module": "@jupyter-widgets/controls",
      "model_module_version": "1.1.0",
      "model_name": "DropdownModel",
      "state": {
       "description": "Select Query",
       "index": null,
       "layout": "IPY_MODEL_6204fc07f30a457ca208eda8ef02680f",
       "style": "IPY_MODEL_17f47617659f4222a5362cb639f41f00"
      }
     },
     "4c748156d8d64939af3baf34dda9859a": {
      "model_module": "@jupyter-widgets/controls",
      "model_module_version": "1.1.0",
      "model_name": "DropdownModel",
      "state": {
       "_options_labels": [
        "New Query",
        "What",
        "ABC",
        "All Gestures",
        "Chris Query",
        "Query - ABDEG",
        "Query ABDGE",
        "Marc Segmenter",
        "AB",
        "Query All",
        "DEF",
        "ABCDEF",
        "ABDGFH"
       ],
       "description": "Select Query",
       "index": 11,
       "layout": "IPY_MODEL_315a2e02f6ec4a23bbc5899bda1c1e28",
       "style": "IPY_MODEL_17b83a85ca6a42629d6125757cc125b0"
      }
     },
     "4cd4d45497cd4c9fac3d4731b85a6493": {
      "model_module": "@jupyter-widgets/base",
      "model_module_version": "1.0.0",
      "model_name": "LayoutModel",
      "state": {}
     },
     "4cf711f0e72343589cd6cb6db4f69f12": {
      "model_module": "@jupyter-widgets/base",
      "model_module_version": "1.0.0",
      "model_name": "LayoutModel",
      "state": {}
     },
     "4d44cedd33da4d3eb08ef366612d8c1b": {
      "model_module": "@jupyter-widgets/controls",
      "model_module_version": "1.1.0",
      "model_name": "ButtonModel",
      "state": {
       "description": "Refresh",
       "icon": "0",
       "layout": "IPY_MODEL_d18adf85231b4f9b9da32e8ce78d053f",
       "style": "IPY_MODEL_5f9c1b6d2e7447fb9e4ac78509f681ce"
      }
     },
     "4d639167cd2e4ba497f6db42f5aed31b": {
      "model_module": "@jupyter-widgets/controls",
      "model_module_version": "1.1.0",
      "model_name": "ButtonStyleModel",
      "state": {}
     },
     "4d7e3b74ff72406fadcf236d3b5e4157": {
      "model_module": "@jupyter-widgets/controls",
      "model_module_version": "1.1.0",
      "model_name": "VBoxModel",
      "state": {
       "children": [
        "IPY_MODEL_79108e57ee7140f1bc1c47e5cdb43bb7",
        "IPY_MODEL_a0868cea18b640aba711406a18247c85",
        "IPY_MODEL_ccb296adbce148a8870fa7a9a94ad181"
       ],
       "layout": "IPY_MODEL_7097b26fb31a456c8bb5e98e6740e321"
      }
     },
     "4d9283497fd6448b9edca52a92d356d7": {
      "model_module": "@jupyter-widgets/controls",
      "model_module_version": "1.1.0",
      "model_name": "IntSliderModel",
      "state": {
       "description": "population size",
       "layout": "IPY_MODEL_44abe08b0db04661a399c3c5e25fb7b6",
       "max": 50,
       "min": 10,
       "style": "IPY_MODEL_ad4c20d569d04ed6b85a45b7b5b24aba",
       "value": 10
      }
     },
     "4da9802289984c678752544d68b2c650": {
      "model_module": "@jupyter-widgets/base",
      "model_module_version": "1.0.0",
      "model_name": "LayoutModel",
      "state": {}
     },
     "4e07b5d7747f41f78223c820c5e2ad2b": {
      "model_module": "@jupyter-widgets/controls",
      "model_module_version": "1.1.0",
      "model_name": "SliderStyleModel",
      "state": {
       "description_width": ""
      }
     },
     "4e0b3cc11f3040a8bcc9c430da66aec8": {
      "model_module": "@jupyter-widgets/controls",
      "model_module_version": "1.1.0",
      "model_name": "HBoxModel",
      "state": {
       "children": [
        "IPY_MODEL_95a5c1a80adb48f48d475a09a6fd6d6c",
        "IPY_MODEL_0904b9962f334dd09d8fd2251ce7ef89",
        "IPY_MODEL_f0530ec107b941e188d0ff1460cc9657"
       ],
       "layout": "IPY_MODEL_426a258d9103428e8764d14e0ef15c0e"
      }
     },
     "4e19a12008644cf1a996ef664001973d": {
      "model_module": "@jupyter-widgets/controls",
      "model_module_version": "1.1.0",
      "model_name": "DescriptionStyleModel",
      "state": {
       "description_width": ""
      }
     },
     "4e26df417b7b46cc8c68bd63ae525ea5": {
      "model_module": "@jupyter-widgets/base",
      "model_module_version": "1.0.0",
      "model_name": "LayoutModel",
      "state": {}
     },
     "4e36537fb28044ba9768a30f5cd0fe4f": {
      "model_module": "@jupyter-widgets/base",
      "model_module_version": "1.0.0",
      "model_name": "LayoutModel",
      "state": {}
     },
     "4e449aa2ae7348ad9dde0bba4ff9a535": {
      "model_module": "@jupyter-widgets/base",
      "model_module_version": "1.0.0",
      "model_name": "LayoutModel",
      "state": {}
     },
     "4e575c6173644c159baf23d4bcd7c1a8": {
      "model_module": "@jupyter-widgets/controls",
      "model_module_version": "1.1.0",
      "model_name": "DescriptionStyleModel",
      "state": {
       "description_width": ""
      }
     },
     "4e76bf5cea1542f38ae63d1830abe9f4": {
      "model_module": "@jupyter-widgets/controls",
      "model_module_version": "1.1.0",
      "model_name": "DropdownModel",
      "state": {
       "_options_labels": [
        "True",
        "False"
       ],
       "description": "Debug",
       "index": 0,
       "layout": "IPY_MODEL_5a7a1353f5fe4969b16b32699f086497",
       "style": "IPY_MODEL_eb97c3f91d5941dfb555e4d79e3271ad"
      }
     },
     "4e9557fb1cdb492fb7b2e45dc1ee6dc3": {
      "model_module": "@jupyter-widgets/controls",
      "model_module_version": "1.1.0",
      "model_name": "ButtonModel",
      "state": {
       "description": "Run Autopipeline",
       "layout": "IPY_MODEL_6c965fa51c5940ecabfc42d5bfa24456",
       "style": "IPY_MODEL_46c928f4d27c43ca807a2f2a2d90a07f"
      }
     },
     "4ead2fd112e94bc79d6eb03a34929899": {
      "model_module": "@jupyter-widgets/controls",
      "model_module_version": "1.1.0",
      "model_name": "AccordionModel",
      "state": {
       "_titles": {
        "0": "Download Knowledgepack"
       },
       "children": [
        "IPY_MODEL_a34c9787835641f8aef6c18c192d10d0"
       ],
       "layout": "IPY_MODEL_ae6d857f634847bb8ac4c072b99505ed"
      }
     },
     "4ec79fb479b54b3583a78062b33736db": {
      "model_module": "@jupyter-widgets/controls",
      "model_module_version": "1.1.0",
      "model_name": "DescriptionStyleModel",
      "state": {
       "description_width": ""
      }
     },
     "4ed45223f37d488b9e4fac9ae15c8870": {
      "model_module": "@jupyter-widgets/base",
      "model_module_version": "1.0.0",
      "model_name": "LayoutModel",
      "state": {}
     },
     "4ed7a47e83734f45a126e6d19550955e": {
      "model_module": "@jupyter-widgets/controls",
      "model_module_version": "1.1.0",
      "model_name": "IntSliderModel",
      "state": {
       "description": "population size",
       "layout": "IPY_MODEL_09034aa52f3c4ee8a1a21b8907b2dc8e",
       "max": 50,
       "min": 10,
       "style": "IPY_MODEL_2c7a210b354c4cc8a2fd32733ac95a2a",
       "value": 10
      }
     },
     "4edc47e07c504b07b0ff44431bb7402f": {
      "model_module": "@jupyter-widgets/base",
      "model_module_version": "1.0.0",
      "model_name": "LayoutModel",
      "state": {
       "display": "flex",
       "flex_flow": "row",
       "justify_content": "space-between"
      }
     },
     "4f41ccc5f97c42f7b2968e077c0ece13": {
      "model_module": "@jupyter-widgets/controls",
      "model_module_version": "1.1.0",
      "model_name": "VBoxModel",
      "state": {
       "children": [
        "IPY_MODEL_3a8bf66a492441b095f00e30a10e99f6",
        "IPY_MODEL_c18ea2394c934aa780391c427989db8d",
        "IPY_MODEL_4fd94ee91e114f119d036372c70564e5",
        "IPY_MODEL_1ea5c77f0a6a4750b92e7cdbe0924ee8"
       ],
       "layout": "IPY_MODEL_6f2d09fa132844bdb030cf4d83d0d33b"
      }
     },
     "4f5281c8ce77447eb323b76c2fe77c33": {
      "model_module": "@jupyter-widgets/controls",
      "model_module_version": "1.1.0",
      "model_name": "DescriptionStyleModel",
      "state": {
       "description_width": ""
      }
     },
     "4fce4739bd434121953564c6e2b31f2d": {
      "model_module": "@jupyter-widgets/controls",
      "model_module_version": "1.1.0",
      "model_name": "FloatSliderModel",
      "state": {
       "description": "Neurons",
       "layout": "IPY_MODEL_133ba8bffdce42168652131d819d563d",
       "max": 1,
       "step": 0.05,
       "style": "IPY_MODEL_15832279edbf439e93d2e184d8d6b808",
       "value": 0.5
      }
     },
     "4fd94ee91e114f119d036372c70564e5": {
      "model_module": "@jupyter-widgets/controls",
      "model_module_version": "1.1.0",
      "model_name": "VBoxModel",
      "state": {
       "_dom_classes": [
        "widget-interact"
       ],
       "children": [
        "IPY_MODEL_fc8f790cf42b46dd96f1927163ae8604",
        "IPY_MODEL_289cd3e9afae4d5d8dbd0b3360c0a1f5"
       ],
       "layout": "IPY_MODEL_2b8c54e67f3c445db4d6b33dc49867dc"
      }
     },
     "50233d0f81684c52b45de2197d6e7400": {
      "model_module": "@jupyter-widgets/controls",
      "model_module_version": "1.1.0",
      "model_name": "DescriptionStyleModel",
      "state": {
       "description_width": ""
      }
     },
     "50745e78773846d2b2e2038fb7d3a7df": {
      "model_module": "@jupyter-widgets/controls",
      "model_module_version": "1.1.0",
      "model_name": "HBoxModel",
      "state": {
       "children": [
        "IPY_MODEL_e970a5fe2a2c42dcb532c4a8716e5d1b",
        "IPY_MODEL_f1b69ab6ba354c708cbad55716d42bc1"
       ],
       "layout": "IPY_MODEL_e512ba8c7a1f4dc890fd592ada3486cd"
      }
     },
     "50757b5a0ec048f2bba4875c8eaf2a30": {
      "model_module": "@jupyter-widgets/base",
      "model_module_version": "1.0.0",
      "model_name": "LayoutModel",
      "state": {
       "min_width": "125px"
      }
     },
     "509713c04f68452195d66046bd6edbdb": {
      "model_module": "qgrid",
      "model_module_version": "1.0.0",
      "model_name": "QgridModel",
      "state": {
       "_columns": {
        "f1_score": {
         "name": "f1_score",
         "position": 4,
         "type": "number"
        },
        "features": {
         "name": "features",
         "position": 3,
         "type": "number"
        },
        "index": {
         "is_index": true,
         "name": "index",
         "position": 0,
         "type": "integer"
        },
        "neurons": {
         "name": "neurons",
         "position": 2,
         "type": "number"
        },
        "qgrid_unfiltered_index": {
         "name": "qgrid_unfiltered_index",
         "position": 1,
         "type": "integer"
        }
       },
       "_df_json": "{\"schema\": {\"fields\":[{\"type\":\"integer\",\"name\":\"index\"},{\"type\":\"integer\",\"name\":\"qgrid_unfiltered_index\"},{\"type\":\"number\",\"name\":\"neurons\"},{\"type\":\"number\",\"name\":\"features\"},{\"type\":\"number\",\"name\":\"f1_score\"}],\"pandas_version\":\"0.20.0\",\"primaryKey\":[\"index\"]}, \"data\": [{\"index\":0,\"qgrid_unfiltered_index\":0,\"neurons\":20.0,\"features\":18.0,\"f1_score\":95.3092},{\"index\":1,\"qgrid_unfiltered_index\":1,\"neurons\":17.0,\"features\":15.0,\"f1_score\":96.77068},{\"index\":2,\"qgrid_unfiltered_index\":2,\"neurons\":17.0,\"features\":15.0,\"f1_score\":96.77068},{\"index\":3,\"qgrid_unfiltered_index\":3,\"neurons\":17.0,\"features\":15.0,\"f1_score\":96.77068},{\"index\":4,\"qgrid_unfiltered_index\":4,\"neurons\":17.0,\"features\":15.0,\"f1_score\":96.77068}]}",
       "_df_range": [
        0,
        100
       ],
       "_index_col_name": "qgrid_unfiltered_index",
       "_interval_columns": [],
       "_model_module_version": "1.0.0",
       "_page_size": 100,
       "_row_count": 5,
       "_sort_ascending": true,
       "_sort_field": "",
       "_view_module_version": "1.0.0",
       "grid_options": {
        "autoEdit": false,
        "defaultColumnWidth": 15,
        "editable": false,
        "enableColumnReorder": false,
        "enableTextSelectionOnCells": true,
        "explicitInitialization": true,
        "forceFitColumns": true,
        "fullWidthRows": true,
        "maxVisibleRows": 5,
        "minVisibleRows": 5,
        "rowHeight": 35,
        "syncColumnCellResize": true
       },
       "layout": "IPY_MODEL_7b690d9a7f1d45ecbfcca9458fbc18bd",
       "precision": 5,
       "show_toolbar": false
      }
     },
     "50b9960481ac45679a4166e8e48b0d5a": {
      "model_module": "@jupyter-widgets/base",
      "model_module_version": "1.0.0",
      "model_name": "LayoutModel",
      "state": {
       "display": "flex",
       "flex_flow": "row",
       "justify_content": "space-between",
       "overflow": "visible"
      }
     },
     "50c30124d94c4955a1ce9f88038862ff": {
      "model_module": "@jupyter-widgets/base",
      "model_module_version": "1.0.0",
      "model_name": "LayoutModel",
      "state": {}
     },
     "50c5f2fbc22842589daa6613dac2c25c": {
      "model_module": "@jupyter-widgets/base",
      "model_module_version": "1.0.0",
      "model_name": "LayoutModel",
      "state": {}
     },
     "513652f109c94848b9edb38cb54be95c": {
      "model_module": "@jupyter-widgets/base",
      "model_module_version": "1.0.0",
      "model_name": "LayoutModel",
      "state": {
       "min_width": "125px"
      }
     },
     "518ee21d9ef84abf8672256b4afb88d3": {
      "model_module": "@jupyter-widgets/controls",
      "model_module_version": "1.1.0",
      "model_name": "DescriptionStyleModel",
      "state": {
       "description_width": ""
      }
     },
     "519c99aac2fb4ea1a3fd9ad0a1e76403": {
      "model_module": "@jupyter-widgets/base",
      "model_module_version": "1.0.0",
      "model_name": "LayoutModel",
      "state": {
       "visibility": "visible"
      }
     },
     "51ade9655b114dcc93499d744fcdc64e": {
      "model_module": "@jupyter-widgets/base",
      "model_module_version": "1.0.0",
      "model_name": "LayoutModel",
      "state": {}
     },
     "51b5249fb0ab4641b99fdf6c97a0a1c5": {
      "model_module": "@jupyter-widgets/base",
      "model_module_version": "1.0.0",
      "model_name": "LayoutModel",
      "state": {}
     },
     "51d3ec7ad8fd480a96a93a9d9ca18ce6": {
      "model_module": "@jupyter-widgets/controls",
      "model_module_version": "1.1.0",
      "model_name": "ButtonModel",
      "state": {
       "description": "Login",
       "layout": "IPY_MODEL_b7df588088834579acd2ec566ed69b94",
       "style": "IPY_MODEL_106b54ac64fd4f2da9682724a9ec02a2"
      }
     },
     "51de4a3d4f724e7ca40cbf755a32c3ba": {
      "model_module": "@jupyter-widgets/base",
      "model_module_version": "1.0.0",
      "model_name": "LayoutModel",
      "state": {}
     },
     "51eb2a26f0484ca49bbc4155b4d3d6c1": {
      "model_module": "@jupyter-widgets/controls",
      "model_module_version": "1.1.0",
      "model_name": "AccordionModel",
      "state": {
       "_titles": {
        "0": "Select or Create Query"
       },
       "children": [
        "IPY_MODEL_50745e78773846d2b2e2038fb7d3a7df"
       ],
       "layout": "IPY_MODEL_968b7256f83248249e264e1b8bb8e845"
      }
     },
     "51ed3f928f7a440cbb332db944f1d2bf": {
      "model_module": "@jupyter-widgets/controls",
      "model_module_version": "1.1.0",
      "model_name": "DescriptionStyleModel",
      "state": {
       "description_width": ""
      }
     },
     "52011b5d37444d9ebf7e7f4cff47689c": {
      "model_module": "@jupyter-widgets/controls",
      "model_module_version": "1.1.0",
      "model_name": "DescriptionStyleModel",
      "state": {
       "description_width": ""
      }
     },
     "52125d38a49940c4adda3db7b68b7d67": {
      "model_module": "@jupyter-widgets/controls",
      "model_module_version": "1.1.0",
      "model_name": "VBoxModel",
      "state": {
       "children": [
        "IPY_MODEL_fe3ebf34b126460cb75f29dadf17257a",
        "IPY_MODEL_e7fa626fcda04b118f45b2cdcce5e83f",
        "IPY_MODEL_ae3b364abe214602805edabf2c08ed06",
        "IPY_MODEL_ca67ea2ea33f43b0bfbd270eab7edee5",
        "IPY_MODEL_b51eabd8bb3d404d965bad26f6c70229",
        "IPY_MODEL_657090aa59ff4550a9dd7f8eed36d989",
        "IPY_MODEL_8751b9904d19461197b79690b8f9c5ec",
        "IPY_MODEL_06e5bcdb77ec40a2a03792aad636fcc3"
       ],
       "layout": "IPY_MODEL_36d802f037c944e7a6ca61f046af73a9"
      }
     },
     "521b17f47dc84b1182059b117a978222": {
      "model_module": "@jupyter-widgets/base",
      "model_module_version": "1.0.0",
      "model_name": "LayoutModel",
      "state": {}
     },
     "5271e31c48fc43ad98fc9db959222511": {
      "model_module": "@jupyter-widgets/controls",
      "model_module_version": "1.1.0",
      "model_name": "HBoxModel",
      "state": {
       "children": [
        "IPY_MODEL_61cc670bdc274af7a67cb28061123d84",
        "IPY_MODEL_d43fba36ea1c49a3936d098d5bdc1860",
        "IPY_MODEL_f4c3d7679d1d42a694c63e5f525b6094"
       ],
       "layout": "IPY_MODEL_0df305547bb04e82b9d5887d613ac383"
      }
     },
     "52882e5f4650414193f500a4f3d1781b": {
      "model_module": "@jupyter-widgets/controls",
      "model_module_version": "1.1.0",
      "model_name": "SelectMultipleModel",
      "state": {
       "_options_labels": [
        "ble",
        "led",
        "serial"
       ],
       "description": "Output",
       "index": [],
       "layout": "IPY_MODEL_8d2f39ea5ba54fe6857bed843d42d05e",
       "rows": 5,
       "style": "IPY_MODEL_d2edf644f78e4383910fbee60a7907b6"
      }
     },
     "529b516c296d448bab9f8868ecffd160": {
      "model_module": "@jupyter-widgets/base",
      "model_module_version": "1.0.0",
      "model_name": "LayoutModel",
      "state": {}
     },
     "52aa67d3d23845a4a28c042fa63dae10": {
      "model_module": "@jupyter-widgets/controls",
      "model_module_version": "1.1.0",
      "model_name": "DescriptionStyleModel",
      "state": {
       "description_width": ""
      }
     },
     "52cdd7f44dd644d6a098ca5d3fc627d9": {
      "model_module": "@jupyter-widgets/base",
      "model_module_version": "1.0.0",
      "model_name": "LayoutModel",
      "state": {}
     },
     "52ceb8c7d3d448d382873d43c38327fc": {
      "model_module": "@jupyter-widgets/base",
      "model_module_version": "1.0.0",
      "model_name": "LayoutModel",
      "state": {
       "width": "300px"
      }
     },
     "52eba7ce4e5d473eaf1b74dd5d61db26": {
      "model_module": "@jupyter-widgets/base",
      "model_module_version": "1.0.0",
      "model_name": "LayoutModel",
      "state": {}
     },
     "52f39bb390834632ada98a790e660eff": {
      "model_module": "@jupyter-widgets/controls",
      "model_module_version": "1.1.0",
      "model_name": "SliderStyleModel",
      "state": {
       "description_width": ""
      }
     },
     "5308cc4300424d4493cc36cd6f9223cb": {
      "model_module": "@jupyter-widgets/base",
      "model_module_version": "1.0.0",
      "model_name": "LayoutModel",
      "state": {}
     },
     "53136449421e453cbbc26a3d2f68162e": {
      "model_module": "@jupyter-widgets/controls",
      "model_module_version": "1.1.0",
      "model_name": "HBoxModel",
      "state": {
       "children": [
        "IPY_MODEL_5b096ab748bc42b7a1becf6bd346a011",
        "IPY_MODEL_d7d965acf33740e1ae7d2f756baf8ab5",
        "IPY_MODEL_f13b1bf457564614b2131ff4c4f3eecd"
       ],
       "layout": "IPY_MODEL_b217282197ae4c25a96714c083e29694"
      }
     },
     "5319c744a64b4874b5bfd62dc8945dc3": {
      "model_module": "@jupyter-widgets/base",
      "model_module_version": "1.0.0",
      "model_name": "LayoutModel",
      "state": {}
     },
     "532e5fe905364d2d8b6092d8502a305e": {
      "model_module": "@jupyter-widgets/controls",
      "model_module_version": "1.1.0",
      "model_name": "IntSliderModel",
      "state": {
       "description": "iterations",
       "layout": "IPY_MODEL_76bcb6a3495b428f87f5f467b0f06f41",
       "max": 15,
       "min": 1,
       "style": "IPY_MODEL_9a8ec63fab0d454db0626b4a9fae15d0",
       "value": 2
      }
     },
     "5334ccb19f494802809009d528a78501": {
      "model_module": "@jupyter-widgets/base",
      "model_module_version": "1.0.0",
      "model_name": "LayoutModel",
      "state": {}
     },
     "534e49215ace45ab86a874a78190f90f": {
      "model_module": "@jupyter-widgets/controls",
      "model_module_version": "1.1.0",
      "model_name": "VBoxModel",
      "state": {
       "children": [
        "IPY_MODEL_2c9f3aa91d534b1b85d4c7ec3c92658e",
        "IPY_MODEL_dc9a4603ddfb44f7bc769b7d40526117"
       ],
       "layout": "IPY_MODEL_1111c5a628bf48a6aba0b633fe5f5384"
      }
     },
     "5352d8eb58604931a5ceb5cd6265b068": {
      "model_module": "@jupyter-widgets/controls",
      "model_module_version": "1.1.0",
      "model_name": "ButtonStyleModel",
      "state": {}
     },
     "535879d705d04421b1c3874a5d864961": {
      "model_module": "@jupyter-widgets/controls",
      "model_module_version": "1.1.0",
      "model_name": "DescriptionStyleModel",
      "state": {
       "description_width": ""
      }
     },
     "536143596b574181a4da8aeaa798b32e": {
      "model_module": "@jupyter-widgets/base",
      "model_module_version": "1.0.0",
      "model_name": "LayoutModel",
      "state": {}
     },
     "53628d339fe1494cada7e7e3ae03a991": {
      "model_module": "@jupyter-widgets/base",
      "model_module_version": "1.0.0",
      "model_name": "LayoutModel",
      "state": {}
     },
     "536b60c134c14ee5933d363b9af79a90": {
      "model_module": "@jupyter-widgets/controls",
      "model_module_version": "1.1.0",
      "model_name": "DescriptionStyleModel",
      "state": {
       "description_width": ""
      }
     },
     "53719940ab214400a6df8f718956a2e4": {
      "model_module": "@jupyter-widgets/controls",
      "model_module_version": "1.1.0",
      "model_name": "TextModel",
      "state": {
       "description": "New Pipeline",
       "layout": "IPY_MODEL_618b1c6d422241f8aadae0337f543046",
       "style": "IPY_MODEL_1a46c50237e64e179179b5bfd323d87a"
      }
     },
     "539b5ed392ec49b198fb7d065fec53ee": {
      "model_module": "@jupyter-widgets/controls",
      "model_module_version": "1.1.0",
      "model_name": "DescriptionStyleModel",
      "state": {
       "description_width": ""
      }
     },
     "53b94ffc27a241a8b9d2f2985bbff1e8": {
      "model_module": "@jupyter-widgets/base",
      "model_module_version": "1.0.0",
      "model_name": "LayoutModel",
      "state": {}
     },
     "53c1c82f15654af8bc1cdf8241691ebc": {
      "model_module": "@jupyter-widgets/controls",
      "model_module_version": "1.1.0",
      "model_name": "DropdownModel",
      "state": {
       "_options_labels": [
        "None"
       ],
       "description": "Test Data",
       "index": 0,
       "layout": "IPY_MODEL_9c87a2d9cfec4deaa35ef09f95c3a6c9",
       "style": "IPY_MODEL_5aec25d330b54602828611ca7a4205e6"
      }
     },
     "53e5600e568242c5baece675701b379f": {
      "model_module": "@jupyter-widgets/base",
      "model_module_version": "1.0.0",
      "model_name": "LayoutModel",
      "state": {
       "align_items": "stretch",
       "border": "solid 2px",
       "display": "flex",
       "flex_flow": "row",
       "width": "50%"
      }
     },
     "53ea9b0294b64437be867685711eb5d0": {
      "model_module": "@jupyter-widgets/base",
      "model_module_version": "1.0.0",
      "model_name": "LayoutModel",
      "state": {}
     },
     "540cd28360f94298b0a10d2037a72739": {
      "model_module": "@jupyter-widgets/base",
      "model_module_version": "1.0.0",
      "model_name": "LayoutModel",
      "state": {}
     },
     "541a00e7bbd54d8995ef722fe0105ae4": {
      "model_module": "@jupyter-widgets/controls",
      "model_module_version": "1.1.0",
      "model_name": "DropdownModel",
      "state": {
       "_options_labels": [
        "New Query",
        "What",
        "ABC",
        "All Gestures",
        "Chris Query",
        "Query - ABDEG",
        "Query ABDGE",
        "Marc Segmenter",
        "AB",
        "Query All",
        "DEF",
        "ABCDEF",
        "ABDGFH"
       ],
       "description": "Select Query",
       "index": 0,
       "layout": "IPY_MODEL_c361a032b46342b2b7a27a2521c75367",
       "style": "IPY_MODEL_7d9949c77798419f9a6fa4e90364623b"
      }
     },
     "545cf51233344b2fafa4758aa55c6e84": {
      "model_module": "@jupyter-widgets/base",
      "model_module_version": "1.0.0",
      "model_name": "LayoutModel",
      "state": {
       "border": "solid 2px",
       "display": "flex",
       "flex_flow": "row",
       "justify_content": "space-between",
       "overflow": "visible"
      }
     },
     "548b69272c1f4c90bc1b27dd2a63eade": {
      "model_module": "@jupyter-widgets/controls",
      "model_module_version": "1.1.0",
      "model_name": "IntSliderModel",
      "state": {
       "description": "iterations",
       "layout": "IPY_MODEL_08cdcc027bd2483e805bbf23645ee260",
       "max": 15,
       "min": 1,
       "style": "IPY_MODEL_2c901807504d46fe94dbfb499c37ad3d",
       "value": 2
      }
     },
     "54e2f70ea91f4b8d9cf63d389955e680": {
      "model_module": "@jupyter-widgets/base",
      "model_module_version": "1.0.0",
      "model_name": "LayoutModel",
      "state": {}
     },
     "54e74ce2a0f84a25af4cdd32702ea4bd": {
      "model_module": "@jupyter-widgets/controls",
      "model_module_version": "1.1.0",
      "model_name": "TextModel",
      "state": {
       "description": "New Pipeline",
       "layout": "IPY_MODEL_e0fa03a4555d4b4cbf3697f558355727",
       "style": "IPY_MODEL_8a9f9c7f2d7f4d8a821c17ce1f27a5c6"
      }
     },
     "552c1cbdeee14099a448767015dd4b51": {
      "model_module": "@jupyter-widgets/controls",
      "model_module_version": "1.1.0",
      "model_name": "DropdownModel",
      "state": {
       "_options_labels": [
        "",
        "Heiarchical Pipeline",
        "DemoPipeline",
        "Hiearchical Whatever",
        "Gesture Pipeline"
       ],
       "description": "Select Pipeline",
       "index": 1,
       "layout": "IPY_MODEL_4e36537fb28044ba9768a30f5cd0fe4f",
       "style": "IPY_MODEL_8c43e036d16048178497a7e2629c0e7b"
      }
     },
     "5536870c169e4e368df52aeabfa5ea1d": {
      "model_module": "@jupyter-widgets/controls",
      "model_module_version": "1.1.0",
      "model_name": "AccordionModel",
      "state": {
       "_titles": {
        "0": "Select or Create Query"
       },
       "children": [
        "IPY_MODEL_5d80108862e64e1885a29499e1a1b9fd"
       ],
       "layout": "IPY_MODEL_71be5cf05b6e4961976847a4afe6806a"
      }
     },
     "55435ecd9bec4aabba355ba86a28f5fe": {
      "model_module": "@jupyter-widgets/base",
      "model_module_version": "1.0.0",
      "model_name": "LayoutModel",
      "state": {}
     },
     "5577be90be704080bf5f9f82d3b1df56": {
      "model_module": "@jupyter-widgets/controls",
      "model_module_version": "1.1.0",
      "model_name": "HBoxModel",
      "state": {
       "children": [
        "IPY_MODEL_e868dfe1108944e8a0a3f98cc64b7f68",
        "IPY_MODEL_59122e33632f465dbd7f3804eca2959c",
        "IPY_MODEL_9a62c051e3404007a79e438b175d2fab"
       ],
       "layout": "IPY_MODEL_dbeb3124fddd493aa2868112e0fbe7ee"
      }
     },
     "55a72e88503149ad89d0cf8cccc36783": {
      "model_module": "@jupyter-widgets/base",
      "model_module_version": "1.0.0",
      "model_name": "LayoutModel",
      "state": {}
     },
     "55b16de985ef44d79a0d5f942dd0e5f7": {
      "model_module": "@jupyter-widgets/controls",
      "model_module_version": "1.1.0",
      "model_name": "DropdownModel",
      "state": {
       "description": "Select Query",
       "index": null,
       "layout": "IPY_MODEL_24543c19abc749a7ac6d020e2536e5c1",
       "style": "IPY_MODEL_4f5281c8ce77447eb323b76c2fe77c33"
      }
     },
     "55b9c8eb32314edeba0242c755427199": {
      "model_module": "@jupyter-widgets/controls",
      "model_module_version": "1.1.0",
      "model_name": "DescriptionStyleModel",
      "state": {
       "description_width": ""
      }
     },
     "55c348267a704d1dad3d11d1610a8308": {
      "model_module": "@jupyter-widgets/base",
      "model_module_version": "1.0.0",
      "model_name": "LayoutModel",
      "state": {
       "border": "solid 2px",
       "display": "flex",
       "flex_flow": "row",
       "justify_content": "space-between",
       "overflow": "visible"
      }
     },
     "55d7328ca62c4a48b2602b25774e311f": {
      "model_module": "@jupyter-widgets/controls",
      "model_module_version": "1.1.0",
      "model_name": "ButtonStyleModel",
      "state": {}
     },
     "55fc470fbd3449b8b370c3067c8f4d2d": {
      "model_module": "@jupyter-widgets/controls",
      "model_module_version": "1.1.0",
      "model_name": "DescriptionStyleModel",
      "state": {
       "description_width": ""
      }
     },
     "560c29f7368b45a0bed16f479e2db84d": {
      "model_module": "@jupyter-widgets/controls",
      "model_module_version": "1.1.0",
      "model_name": "HBoxModel",
      "state": {
       "children": [
        "IPY_MODEL_f5fdbb035d804b3b8512ebba09051ceb",
        "IPY_MODEL_fbf07c33223d4420a95d560c2d1f9e01",
        "IPY_MODEL_f69688291f0043beb8ddffc2f8551346"
       ],
       "layout": "IPY_MODEL_1e18325bb7894f0db2246d1c3b40c6de"
      }
     },
     "5624533692e445a7a7534c07f9b77878": {
      "model_module": "@jupyter-widgets/base",
      "model_module_version": "1.0.0",
      "model_name": "LayoutModel",
      "state": {}
     },
     "5649a18e9f384b9faa1f07fa12b562da": {
      "model_module": "@jupyter-widgets/controls",
      "model_module_version": "1.1.0",
      "model_name": "DescriptionStyleModel",
      "state": {
       "description_width": ""
      }
     },
     "568625acf15e4a469489fc048b5e527b": {
      "model_module": "@jupyter-widgets/controls",
      "model_module_version": "1.1.0",
      "model_name": "ButtonStyleModel",
      "state": {}
     },
     "568955acd7a540a689c8d23f58849c7c": {
      "model_module": "@jupyter-widgets/base",
      "model_module_version": "1.0.0",
      "model_name": "LayoutModel",
      "state": {}
     },
     "56aba2d712c54f4691bfe52267e63f21": {
      "model_module": "@jupyter-widgets/base",
      "model_module_version": "1.0.0",
      "model_name": "LayoutModel",
      "state": {}
     },
     "56cc001c8fdf4a3785254add4e5a995a": {
      "model_module": "@jupyter-widgets/controls",
      "model_module_version": "1.1.0",
      "model_name": "FloatSliderModel",
      "state": {
       "description": "Accuracy",
       "layout": "IPY_MODEL_d2114e67b4ae47efb850db6c9883cffa",
       "max": 1,
       "step": 0.05,
       "style": "IPY_MODEL_e186370841b1493ab05660aa05b7d043",
       "value": 0.8
      }
     },
     "56fa1f60a8d1465f9f7b30fbcfb406ce": {
      "model_module": "bqplot",
      "model_module_version": "^0.3.2",
      "model_name": "AxisModel",
      "state": {
       "num_ticks": 5,
       "orientation": "vertical",
       "scale": "IPY_MODEL_a7211d279e804b6aacbbf283aefedb19",
       "side": "left",
       "tick_values": {
        "type": null,
        "values": null
       }
      }
     },
     "56ffcbc832004d5291a3e072790e410b": {
      "model_module": "@jupyter-widgets/base",
      "model_module_version": "1.0.0",
      "model_name": "LayoutModel",
      "state": {
       "align_items": "stretch",
       "border": "solid 2px",
       "display": "flex",
       "flex_flow": "column",
       "overflow": "visible",
       "width": "75%"
      }
     },
     "570b1e56c7034df49f50d8ba072384ec": {
      "model_module": "@jupyter-widgets/controls",
      "model_module_version": "1.1.0",
      "model_name": "SliderStyleModel",
      "state": {
       "description_width": ""
      }
     },
     "570f6e989bcf43d8b070127f946fc306": {
      "model_module": "@jupyter-widgets/controls",
      "model_module_version": "1.1.0",
      "model_name": "DropdownModel",
      "state": {
       "_options_labels": [
        "Advanced Features",
        "Basic Features",
        "Custom",
        "Downsampled Features",
        "Histogram Features",
        "No Feature Generation"
       ],
       "description": "Name",
       "index": 0,
       "layout": "IPY_MODEL_4541beefb910463fa562ae514ea3efac",
       "style": "IPY_MODEL_24363c74c5f6485385ee167643dd710a"
      }
     },
     "5718abd8e34341e489a5c7f6b7025a08": {
      "model_module": "@jupyter-widgets/controls",
      "model_module_version": "1.1.0",
      "model_name": "HBoxModel",
      "state": {
       "children": [
        "IPY_MODEL_ba3cd4b9a16a4ad9bd398753468eee77",
        "IPY_MODEL_c468690d9ac54459846c03c1902da3cd",
        "IPY_MODEL_7bfd4a4992474d518a6e9ae323ac4758"
       ],
       "layout": "IPY_MODEL_22e8044a582f421eb4b272a944f1fcb8"
      }
     },
     "572a41b5dc914592a88366db421844e2": {
      "model_module": "@jupyter-widgets/base",
      "model_module_version": "1.0.0",
      "model_name": "LayoutModel",
      "state": {}
     },
     "5732e410ef9e48468fad46f716528db1": {
      "model_module": "@jupyter-widgets/base",
      "model_module_version": "1.0.0",
      "model_name": "LayoutModel",
      "state": {}
     },
     "5745735e4c244e22bc7f5e3d88a64062": {
      "model_module": "@jupyter-widgets/controls",
      "model_module_version": "1.1.0",
      "model_name": "DescriptionStyleModel",
      "state": {
       "description_width": ""
      }
     },
     "57532554596b40bcaf23e686c0d0ea8d": {
      "model_module": "@jupyter-widgets/controls",
      "model_module_version": "1.1.0",
      "model_name": "DescriptionStyleModel",
      "state": {
       "description_width": ""
      }
     },
     "57539f93b7bd484a9f7193bb4eb0d82d": {
      "model_module": "@jupyter-widgets/controls",
      "model_module_version": "1.1.0",
      "model_name": "SelectMultipleModel",
      "state": {
       "_options_labels": [
        "AccelerometerX",
        "AccelerometerY",
        "AccelerometerZ",
        "GyroscopeX",
        "GyroscopeY",
        "GyroscopeZ"
       ],
       "description": "Sources",
       "index": [
        0,
        1,
        2,
        3,
        4,
        5
       ],
       "layout": "IPY_MODEL_18747b8ce5ae450b8b113af776c5a238",
       "rows": 5,
       "style": "IPY_MODEL_270d6e9fd41d4eb689416c335b6d91b6"
      }
     },
     "5754f5802ac44da4b4eeba8d91735fa0": {
      "model_module": "@jupyter-widgets/base",
      "model_module_version": "1.0.0",
      "model_name": "LayoutModel",
      "state": {}
     },
     "57616b89817b496ca3757d2601140e05": {
      "model_module": "@jupyter-widgets/base",
      "model_module_version": "1.0.0",
      "model_name": "LayoutModel",
      "state": {}
     },
     "577b446de01349068850f3de96cd66d0": {
      "model_module": "@jupyter-widgets/base",
      "model_module_version": "1.0.0",
      "model_name": "LayoutModel",
      "state": {
       "border": "solid 2px",
       "display": "flex",
       "flex_flow": "row",
       "justify_content": "space-between",
       "overflow": "visible"
      }
     },
     "5793bfe66f5f42b0901e23cf3dc1043c": {
      "model_module": "@jupyter-widgets/controls",
      "model_module_version": "1.1.0",
      "model_name": "DropdownModel",
      "state": {
       "_options_labels": [
        "",
        "Parameter Optimization Tutorial",
        "outlier_remove",
        "Training Demo",
        "MHEAudio",
        "ChristTest2",
        "Video Project",
        "LargeData",
        "motor_vibration",
        "Activity Demo",
        "SensiML Gestures Demo",
        "hereo",
        "OptimizePara_UsingGrid",
        "DogData",
        "Gesture_data_demo",
        "ChrisGestureProject",
        "PunchPunch",
        "Voyager Demo",
        "PunchDemo",
        "A Marc Project",
        "Virginia",
        "MyProject",
        "Cursive",
        "MotorVibration",
        "Seven Peaks Demo",
        "Customer End to End Demo",
        "MotorVibrationSmall",
        "CustomerE2E",
        "motor_vibration_2",
        "Harry Potter Project",
        "Gesture Demo",
        "SensiML Gestures"
       ],
       "description": "Select Project",
       "index": 0,
       "layout": "IPY_MODEL_667638ca717242c68668930db1bb3f63",
       "style": "IPY_MODEL_67f8a72122b142c7ac5923ac710d992c"
      }
     },
     "5794dbd70cfb46e5af432ba3a4068abf": {
      "model_module": "@jupyter-widgets/base",
      "model_module_version": "1.0.0",
      "model_name": "LayoutModel",
      "state": {}
     },
     "57c726901cc84bb2a814e0255ec83316": {
      "model_module": "@jupyter-widgets/base",
      "model_module_version": "1.0.0",
      "model_name": "LayoutModel",
      "state": {}
     },
     "57dbf076d50b4f64b6b0e7a59b60301a": {
      "model_module": "@jupyter-widgets/base",
      "model_module_version": "1.0.0",
      "model_name": "LayoutModel",
      "state": {}
     },
     "583ae98e936247749c6be9535605078a": {
      "model_module": "@jupyter-widgets/base",
      "model_module_version": "1.0.0",
      "model_name": "LayoutModel",
      "state": {}
     },
     "5845bff9e90a48379b589da54dc9b18a": {
      "model_module": "@jupyter-widgets/base",
      "model_module_version": "1.0.0",
      "model_name": "LayoutModel",
      "state": {
       "align_items": "flex-start",
       "border": "solid 2px",
       "display": "flex",
       "flex_flow": "column",
       "justify_content": "center",
       "overflow": "visible",
       "width": "25%"
      }
     },
     "5864d68b1de94f17805c5889cc63345f": {
      "model_module": "@jupyter-widgets/controls",
      "model_module_version": "1.1.0",
      "model_name": "DropdownModel",
      "state": {
       "description": "Select Query",
       "index": null,
       "layout": "IPY_MODEL_c5548744c11a4458b174d26c2854d7c7",
       "style": "IPY_MODEL_bebc2b6dc0cd47528294e27b307416df"
      }
     },
     "588dbc87ceb84b8493994e3ca45b029c": {
      "model_module": "@jupyter-widgets/controls",
      "model_module_version": "1.1.0",
      "model_name": "VBoxModel",
      "state": {
       "children": [
        "IPY_MODEL_8adaf64227e84ab388b25b08a97ae110",
        "IPY_MODEL_6095727a64414b8eb5903f055319240c",
        "IPY_MODEL_6862da87365f4ced8847ee13c8ed7369",
        "IPY_MODEL_730205fd4879441c9bfcbcb4801073ba",
        "IPY_MODEL_b4d65a4d82ec41879eceb8ad16f4f1c4",
        "IPY_MODEL_898da291c03e44f599d772c88c5a5388",
        "IPY_MODEL_fdcca70e4edc40c1a6574ffea42f79b3",
        "IPY_MODEL_0719624d82ae4cb4ae3259767c714d16"
       ],
       "layout": "IPY_MODEL_aa6458277bd44ad8b2f020364bbf65ec"
      }
     },
     "58a0f71f706e41bfa97567fdea9bfffa": {
      "model_module": "bqplot",
      "model_module_version": "^0.3.2",
      "model_name": "LinearScaleModel",
      "state": {
       "min": 0,
       "stabilized": false
      }
     },
     "59041e765fb7451b88db55e5bd9e5c35": {
      "model_module": "@jupyter-widgets/controls",
      "model_module_version": "1.1.0",
      "model_name": "ButtonStyleModel",
      "state": {}
     },
     "59096bccddcc4018873d685b8a6dc37b": {
      "model_module": "@jupyter-widgets/base",
      "model_module_version": "1.0.0",
      "model_name": "LayoutModel",
      "state": {}
     },
     "590e4ba15f79460e9e3f1efc798e1cbb": {
      "model_module": "@jupyter-widgets/base",
      "model_module_version": "1.0.0",
      "model_name": "LayoutModel",
      "state": {}
     },
     "59122e33632f465dbd7f3804eca2959c": {
      "model_module": "@jupyter-widgets/controls",
      "model_module_version": "1.1.0",
      "model_name": "ButtonModel",
      "state": {
       "description": "Refresh",
       "icon": "0",
       "layout": "IPY_MODEL_118e5b973af8452392de6721434cfb75",
       "style": "IPY_MODEL_8c2bc389e09a4a1893c3b184e3cffba6"
      }
     },
     "593ba3633d7344c4abdcd1c2bbc669c7": {
      "model_module": "@jupyter-widgets/controls",
      "model_module_version": "1.1.0",
      "model_name": "ButtonModel",
      "state": {
       "description": "Run Autopipeline",
       "layout": "IPY_MODEL_8986900a1bd54fdbb795e93a747c2960",
       "style": "IPY_MODEL_39b1735f61cc40feb8d9f7c20ba0316c"
      }
     },
     "59802f0ac44c49b18fdf0a12cb6c00b6": {
      "model_module": "@jupyter-widgets/base",
      "model_module_version": "1.0.0",
      "model_name": "LayoutModel",
      "state": {}
     },
     "599deb53998343b4bf4a77e10863b72f": {
      "model_module": "@jupyter-widgets/controls",
      "model_module_version": "1.1.0",
      "model_name": "HBoxModel",
      "state": {
       "children": [
        "IPY_MODEL_b942d0599df14d4f904340ef6392891b",
        "IPY_MODEL_255cd1560b874068a8ebc129511063b9"
       ],
       "layout": "IPY_MODEL_f81a0065265143829c29d11b1965e76a"
      }
     },
     "59c01137541949f59ebca6f4ed5edf93": {
      "model_module": "@jupyter-widgets/controls",
      "model_module_version": "1.1.0",
      "model_name": "SliderStyleModel",
      "state": {
       "description_width": ""
      }
     },
     "59f729b01cc549b0acba77a4aab27974": {
      "model_module": "@jupyter-widgets/base",
      "model_module_version": "1.0.0",
      "model_name": "LayoutModel",
      "state": {
       "visibility": "visible"
      }
     },
     "5a1f57d6cfcd48c78673927be187aab3": {
      "model_module": "@jupyter-widgets/controls",
      "model_module_version": "1.1.0",
      "model_name": "ButtonStyleModel",
      "state": {}
     },
     "5a22341f8f0b491f94927354d9021705": {
      "model_module": "@jupyter-widgets/base",
      "model_module_version": "1.0.0",
      "model_name": "LayoutModel",
      "state": {
       "align_items": "stretch",
       "border": "solid 2px",
       "display": "flex",
       "flex_flow": "column",
       "overflow": "visible",
       "width": "75%"
      }
     },
     "5a4ef870eeda4d48b1ecbc6d18903cfd": {
      "model_module": "@jupyter-widgets/base",
      "model_module_version": "1.0.0",
      "model_name": "LayoutModel",
      "state": {}
     },
     "5a7a1353f5fe4969b16b32699f086497": {
      "model_module": "@jupyter-widgets/base",
      "model_module_version": "1.0.0",
      "model_name": "LayoutModel",
      "state": {}
     },
     "5a8942f5194f47e8b682ace9b2df57b6": {
      "model_module": "@jupyter-widgets/controls",
      "model_module_version": "1.1.0",
      "model_name": "ButtonStyleModel",
      "state": {}
     },
     "5a924a19f7d84d88b68cb1b90a967f81": {
      "model_module": "@jupyter-widgets/controls",
      "model_module_version": "1.1.0",
      "model_name": "DescriptionStyleModel",
      "state": {
       "description_width": ""
      }
     },
     "5ab272c0bbc44f899fba6c10ed405531": {
      "model_module": "@jupyter-widgets/base",
      "model_module_version": "1.0.0",
      "model_name": "LayoutModel",
      "state": {}
     },
     "5abe6b4353d745a196205c1393c36851": {
      "model_module": "@jupyter-widgets/base",
      "model_module_version": "1.0.0",
      "model_name": "LayoutModel",
      "state": {}
     },
     "5ae0907a0fe0471695bd04b3114c3375": {
      "model_module": "@jupyter-widgets/controls",
      "model_module_version": "1.1.0",
      "model_name": "DescriptionStyleModel",
      "state": {
       "description_width": ""
      }
     },
     "5ae2acb28b3842d6a45fa8fc75aae372": {
      "model_module": "@jupyter-widgets/controls",
      "model_module_version": "1.1.0",
      "model_name": "ButtonModel",
      "state": {
       "description": "Run Autopipeline",
       "layout": "IPY_MODEL_5732e410ef9e48468fad46f716528db1",
       "style": "IPY_MODEL_db42853d36ef4d9b9e28eabbef2cdbdf"
      }
     },
     "5ae3cc290690490a948ca8b90f6bf988": {
      "model_module": "@jupyter-widgets/controls",
      "model_module_version": "1.1.0",
      "model_name": "DescriptionStyleModel",
      "state": {
       "description_width": ""
      }
     },
     "5aec25d330b54602828611ca7a4205e6": {
      "model_module": "@jupyter-widgets/controls",
      "model_module_version": "1.1.0",
      "model_name": "DescriptionStyleModel",
      "state": {
       "description_width": ""
      }
     },
     "5aedb86208f4421691f43fffad287634": {
      "model_module": "@jupyter-widgets/controls",
      "model_module_version": "1.1.0",
      "model_name": "VBoxModel",
      "state": {
       "children": [
        "IPY_MODEL_77b4034f75004343beae1b7508fe9a19",
        "IPY_MODEL_800e73809f874f9693cfea3d671c5c01",
        "IPY_MODEL_27f0356bda8044a9b230d3d90fd5396a",
        "IPY_MODEL_16e45cb6e9624f899a6cf2bf7d966523",
        "IPY_MODEL_548b69272c1f4c90bc1b27dd2a63eade",
        "IPY_MODEL_2fc22a6db1c441beb4bc3211fb4dfaff"
       ],
       "layout": "IPY_MODEL_0e5ff5a3db34432bb1e42c3444d7b433"
      }
     },
     "5b096ab748bc42b7a1becf6bd346a011": {
      "model_module": "@jupyter-widgets/controls",
      "model_module_version": "1.1.0",
      "model_name": "DropdownModel",
      "state": {
       "description": "Model Name",
       "index": null,
       "layout": "IPY_MODEL_751028db0454444cb98eefdd1cbb0dd5",
       "style": "IPY_MODEL_a42ad5c3d65646069225f10b0924d3e3"
      }
     },
     "5b0b400950e34b069870aed7d3ba2a9f": {
      "model_module": "@jupyter-widgets/controls",
      "model_module_version": "1.1.0",
      "model_name": "DropdownModel",
      "state": {
       "_options_labels": [
        "100",
        "50",
        "25"
       ],
       "description": "IMU Rate",
       "index": 0,
       "layout": "IPY_MODEL_a299dcfca7c64aeab2577a3f0d8de810",
       "style": "IPY_MODEL_41930f4599814dde89a756b0f8c81bac"
      }
     },
     "5b28013b77c14b44b69fe37b598e278f": {
      "model_module": "@jupyter-widgets/base",
      "model_module_version": "1.0.0",
      "model_name": "LayoutModel",
      "state": {}
     },
     "5b55903f565e470b999fe9aa3e5c755c": {
      "model_module": "@jupyter-widgets/controls",
      "model_module_version": "1.1.0",
      "model_name": "IntSliderModel",
      "state": {
       "description": "population size",
       "layout": "IPY_MODEL_94ebaf4d70ab43e792d01c272360885a",
       "max": 50,
       "min": 10,
       "style": "IPY_MODEL_18f1427d66c145cb8ca52917e3aa9907",
       "value": 10
      }
     },
     "5b6a7884496e4a00b445c5f398d79aff": {
      "model_module": "bqplot",
      "model_module_version": "^0.3.2",
      "model_name": "FigureModel",
      "state": {
       "_dom_classes": [],
       "background_style": {
        "fill": "white"
       },
       "fig_margin": {
        "bottom": 60,
        "left": 80,
        "right": 0,
        "top": 20
       },
       "layout": "IPY_MODEL_8a0eaa339de64a7da773dc78f76c3d1b",
       "legend_location": "bottom-right",
       "max_aspect_ratio": 6,
       "scale_x": "IPY_MODEL_70af48047fae4768a423f706e84b5e9f",
       "scale_y": "IPY_MODEL_b454886d763e42129cda6735e43019f3"
      }
     },
     "5b9376b629be4d0bb08117c4753d6029": {
      "model_module": "@jupyter-widgets/controls",
      "model_module_version": "1.1.0",
      "model_name": "FloatSliderModel",
      "state": {
       "description": "Features",
       "layout": "IPY_MODEL_db70350afaa24affa0caddd77a5cf15a",
       "max": 1,
       "step": 0.05,
       "style": "IPY_MODEL_300d163e9ae548d8953f67a7614f843a",
       "value": 0.5
      }
     },
     "5c035d7b798b415ab49e9eab569189c4": {
      "model_module": "bqplot",
      "model_module_version": "^0.3.2",
      "model_name": "AxisModel",
      "state": {
       "scale": "IPY_MODEL_dc3d29068a684dc583e441b9d70d0e65",
       "side": "bottom",
       "tick_values": {
        "type": "<U1",
        "values": [
         "A",
         "B",
         "C",
         "D",
         "E",
         "F"
        ]
       }
      }
     },
     "5c0a571de99d4420b6c8159ce5cce22a": {
      "model_module": "@jupyter-widgets/base",
      "model_module_version": "1.0.0",
      "model_name": "LayoutModel",
      "state": {}
     },
     "5c4f828de38f4114b0540930b87a67fc": {
      "model_module": "@jupyter-widgets/controls",
      "model_module_version": "1.1.0",
      "model_name": "VBoxModel",
      "state": {
       "children": [
        "IPY_MODEL_f053b1ed26bb4ffd97b3453f6090bde5",
        "IPY_MODEL_bde8f02e4acd4235a6bd0117ba189088",
        "IPY_MODEL_e4244b677b454ac4a8771f04d5a75fa9",
        "IPY_MODEL_115994bd49814deb8ccfbbbe73fdc440",
        "IPY_MODEL_36a47ab6d4744349909469d9d52b3bcc",
        "IPY_MODEL_4ed7a47e83734f45a126e6d19550955e"
       ],
       "layout": "IPY_MODEL_6bfe6fdd73064888929545a7b7b999ed"
      }
     },
     "5c8966392c4d44faa98935e2b6064b74": {
      "model_module": "@jupyter-widgets/controls",
      "model_module_version": "1.1.0",
      "model_name": "ButtonModel",
      "state": {
       "description": "Add Query",
       "layout": "IPY_MODEL_c0b00460e4cd429d8dcbea87b9fd4e4e",
       "style": "IPY_MODEL_b7b04cb6502b419aad1855fe29288eab"
      }
     },
     "5c9b5effe27e4d7985bf8670ab0ff21a": {
      "model_module": "@jupyter-widgets/base",
      "model_module_version": "1.0.0",
      "model_name": "LayoutModel",
      "state": {}
     },
     "5ca08a37bfda42a59f5683aa749fe088": {
      "model_module": "@jupyter-widgets/base",
      "model_module_version": "1.0.0",
      "model_name": "LayoutModel",
      "state": {}
     },
     "5cede357e9d14ec99a115cb3638f4a35": {
      "model_module": "@jupyter-widgets/base",
      "model_module_version": "1.0.0",
      "model_name": "LayoutModel",
      "state": {}
     },
     "5cfb0b145a1142b0978afbdadeb04c4e": {
      "model_module": "@jupyter-widgets/controls",
      "model_module_version": "1.1.0",
      "model_name": "DescriptionStyleModel",
      "state": {
       "description_width": ""
      }
     },
     "5d32418e6c3b4a1db50fb67e04a53f89": {
      "model_module": "@jupyter-widgets/base",
      "model_module_version": "1.0.0",
      "model_name": "LayoutModel",
      "state": {}
     },
     "5d5052924199461d9f78dcf5faaf9145": {
      "model_module": "@jupyter-widgets/base",
      "model_module_version": "1.0.0",
      "model_name": "LayoutModel",
      "state": {}
     },
     "5d76490252c645fd93c2611de187ace1": {
      "model_module": "@jupyter-widgets/controls",
      "model_module_version": "1.1.0",
      "model_name": "FloatSliderModel",
      "state": {
       "description": "Sensitivity",
       "layout": "IPY_MODEL_e10fba8964d34b71a1af72dcbf5b677d",
       "max": 1,
       "step": 0.05,
       "style": "IPY_MODEL_472b118d81144baea805224d2f43d4d5",
       "value": 0.8
      }
     },
     "5d80108862e64e1885a29499e1a1b9fd": {
      "model_module": "@jupyter-widgets/controls",
      "model_module_version": "1.1.0",
      "model_name": "HBoxModel",
      "state": {
       "children": [
        "IPY_MODEL_7d1cdd8b0333470981ac087d5ab8fe2a",
        "IPY_MODEL_19f4575861fe43688609c33b9a9c766d"
       ],
       "layout": "IPY_MODEL_2c2584026de54fefa8136c21fc2a0ec4"
      }
     },
     "5d948ab8de6a434ba6bfcc0e7cc85f95": {
      "model_module": "@jupyter-widgets/base",
      "model_module_version": "1.0.0",
      "model_name": "LayoutModel",
      "state": {}
     },
     "5e4920cff31d4318b3ae91c2b8f9184b": {
      "model_module": "@jupyter-widgets/base",
      "model_module_version": "1.0.0",
      "model_name": "LayoutModel",
      "state": {}
     },
     "5e68594558a34d37a0deeec23b2a2f40": {
      "model_module": "@jupyter-widgets/base",
      "model_module_version": "1.0.0",
      "model_name": "LayoutModel",
      "state": {}
     },
     "5e982ca2b9fd499aa8ca61d45c02e8de": {
      "model_module": "@jupyter-widgets/base",
      "model_module_version": "1.0.0",
      "model_name": "LayoutModel",
      "state": {}
     },
     "5eac8093847d43438869901d7cfacd0c": {
      "model_module": "@jupyter-widgets/controls",
      "model_module_version": "1.1.0",
      "model_name": "ButtonModel",
      "state": {
       "description": "Update Query",
       "layout": "IPY_MODEL_fa5bf8e24905412996f051a3e59d42d5",
       "style": "IPY_MODEL_29c73685f3ed4b998e7edab25099f28e"
      }
     },
     "5eed665496d949dcb13a17b9ea04429e": {
      "model_module": "@jupyter-widgets/base",
      "model_module_version": "1.0.0",
      "model_name": "LayoutModel",
      "state": {}
     },
     "5f2f0c2e8c3945aebaa70cd57395f9b4": {
      "model_module": "@jupyter-widgets/base",
      "model_module_version": "1.0.0",
      "model_name": "LayoutModel",
      "state": {
       "border": "outset"
      }
     },
     "5f5031f5575349d4ac8050f07b194e99": {
      "model_module": "@jupyter-widgets/controls",
      "model_module_version": "1.1.0",
      "model_name": "DescriptionStyleModel",
      "state": {
       "description_width": ""
      }
     },
     "5f5b940b8fe04598930feceac78af5b2": {
      "model_module": "@jupyter-widgets/controls",
      "model_module_version": "1.1.0",
      "model_name": "DescriptionStyleModel",
      "state": {
       "description_width": ""
      }
     },
     "5f9c1b6d2e7447fb9e4ac78509f681ce": {
      "model_module": "@jupyter-widgets/controls",
      "model_module_version": "1.1.0",
      "model_name": "ButtonStyleModel",
      "state": {}
     },
     "601fd67f7ef945eaad19d984d81738d8": {
      "model_module": "@jupyter-widgets/controls",
      "model_module_version": "1.1.0",
      "model_name": "DescriptionStyleModel",
      "state": {
       "description_width": ""
      }
     },
     "604cbad773b8414e9473a1040bd0c3e2": {
      "model_module": "@jupyter-widgets/controls",
      "model_module_version": "1.1.0",
      "model_name": "FloatSliderModel",
      "state": {
       "description": "Features",
       "layout": "IPY_MODEL_158879d358bd4f9aa9ea2a4c8a86710f",
       "max": 1,
       "step": 0.05,
       "style": "IPY_MODEL_f8eac8731ef640f7b283fa0c469d2e87",
       "value": 0.5
      }
     },
     "6066d4c6a2934f3d9fb90a87958e53e5": {
      "model_module": "@jupyter-widgets/base",
      "model_module_version": "1.0.0",
      "model_name": "LayoutModel",
      "state": {}
     },
     "607d271bf22e437e8a53bbf2ff87ce55": {
      "model_module": "@jupyter-widgets/controls",
      "model_module_version": "1.1.0",
      "model_name": "DropdownModel",
      "state": {
       "description": "Select Pipeline",
       "index": null,
       "layout": "IPY_MODEL_132cf5a5da234eafb60f58c59f3ee6d7",
       "style": "IPY_MODEL_874b463034c548249e2188700157c425"
      }
     },
     "608a28e352b8499ca38faa9db0ae357c": {
      "model_module": "@jupyter-widgets/controls",
      "model_module_version": "1.1.0",
      "model_name": "DescriptionStyleModel",
      "state": {
       "description_width": ""
      }
     },
     "6095727a64414b8eb5903f055319240c": {
      "model_module": "@jupyter-widgets/controls",
      "model_module_version": "1.1.0",
      "model_name": "TextModel",
      "state": {
       "description": "Query Name",
       "layout": "IPY_MODEL_a2b2439a66a2417eac162d84ee77114a",
       "style": "IPY_MODEL_5f5031f5575349d4ac8050f07b194e99"
      }
     },
     "609677d20f0c493b88f645805cb37cbc": {
      "model_module": "@jupyter-widgets/controls",
      "model_module_version": "1.1.0",
      "model_name": "ButtonStyleModel",
      "state": {}
     },
     "60ad5a494d6940fab90fe1f2b71ad951": {
      "model_module": "@jupyter-widgets/base",
      "model_module_version": "1.0.0",
      "model_name": "LayoutModel",
      "state": {}
     },
     "60f1f4e660fd44d3a4df1b6214547917": {
      "model_module": "@jupyter-widgets/base",
      "model_module_version": "1.0.0",
      "model_name": "LayoutModel",
      "state": {}
     },
     "610384f85c2c44c58439eaf6a8c4897d": {
      "model_module": "@jupyter-widgets/controls",
      "model_module_version": "1.1.0",
      "model_name": "DescriptionStyleModel",
      "state": {
       "description_width": ""
      }
     },
     "615c264af1994b68997985017c9a0b3c": {
      "model_module": "@jupyter-widgets/controls",
      "model_module_version": "1.1.0",
      "model_name": "HBoxModel",
      "state": {
       "children": [
        "IPY_MODEL_3666225f9c12447298096d0c190ca90d",
        "IPY_MODEL_93e3187f94b340a7a808ad87f31eeae4",
        "IPY_MODEL_e631b2fa9b654880bec37833ab2103e2"
       ],
       "layout": "IPY_MODEL_22d5aa64da9c42f1ad020d6cb070c126"
      }
     },
     "617515de07f6474f933f1f9292396630": {
      "model_module": "@jupyter-widgets/base",
      "model_module_version": "1.0.0",
      "model_name": "LayoutModel",
      "state": {}
     },
     "618b1c6d422241f8aadae0337f543046": {
      "model_module": "@jupyter-widgets/base",
      "model_module_version": "1.0.0",
      "model_name": "LayoutModel",
      "state": {}
     },
     "6190c1e6510f441caa641564243de2da": {
      "model_module": "@jupyter-widgets/base",
      "model_module_version": "1.0.0",
      "model_name": "LayoutModel",
      "state": {}
     },
     "61bb94306da1414bb3ac1477826c5c4a": {
      "model_module": "@jupyter-widgets/controls",
      "model_module_version": "1.1.0",
      "model_name": "DropdownModel",
      "state": {
       "description": "Name",
       "index": null,
       "layout": "IPY_MODEL_13826301756845e5be77a1bc12c9960e",
       "style": "IPY_MODEL_185ca9223cd847aaa6880fba9daec988"
      }
     },
     "61c2fd951fce4cc392848213e5fb039a": {
      "model_module": "@jupyter-widgets/base",
      "model_module_version": "1.0.0",
      "model_name": "LayoutModel",
      "state": {
       "align_items": "stretch",
       "border": "solid 2px",
       "display": "flex",
       "flex_flow": "row",
       "width": "50%"
      }
     },
     "61cc670bdc274af7a67cb28061123d84": {
      "model_module": "@jupyter-widgets/controls",
      "model_module_version": "1.1.0",
      "model_name": "DropdownModel",
      "state": {
       "description": "Model Name",
       "index": null,
       "layout": "IPY_MODEL_2afb9fad7d6145ccb3312a097c06de81",
       "style": "IPY_MODEL_9f2e2e1d9b8845a5b22be1db01394a79"
      }
     },
     "6204fc07f30a457ca208eda8ef02680f": {
      "model_module": "@jupyter-widgets/base",
      "model_module_version": "1.0.0",
      "model_name": "LayoutModel",
      "state": {}
     },
     "621fb66fc61343ed9b370558d2171f0c": {
      "model_module": "@jupyter-widgets/base",
      "model_module_version": "1.0.0",
      "model_name": "LayoutModel",
      "state": {}
     },
     "62292367a1a24356abb74edd71098635": {
      "model_module": "@jupyter-widgets/controls",
      "model_module_version": "1.1.0",
      "model_name": "ButtonModel",
      "state": {
       "description": "Refresh",
       "icon": "0",
       "layout": "IPY_MODEL_3c55eb7be7ad4242b2a7e915f3b24e15",
       "style": "IPY_MODEL_e81d4aace27c45f5ad50c62217368eeb"
      }
     },
     "624f774277d64515a0ade7393f4bd888": {
      "model_module": "@jupyter-widgets/controls",
      "model_module_version": "1.1.0",
      "model_name": "VBoxModel",
      "state": {
       "children": [
        "IPY_MODEL_6a7c91dee0bf462dbbb89275a33ba887",
        "IPY_MODEL_679ad8b272eb4bfe8880c9af5e8586fd",
        "IPY_MODEL_df951b1d75c94453bf8bbde7d1b1ab37",
        "IPY_MODEL_27bed36a5630450abd60eaf3ebcd896b"
       ],
       "layout": "IPY_MODEL_bdd39707ab5f42ffbaddf0fc4e623c39"
      }
     },
     "625bdd5be82543018ed8cf7547c29ed9": {
      "model_module": "@jupyter-widgets/base",
      "model_module_version": "1.0.0",
      "model_name": "LayoutModel",
      "state": {}
     },
     "62793db334b440d5ab290293812c2de1": {
      "model_module": "@jupyter-widgets/base",
      "model_module_version": "1.0.0",
      "model_name": "LayoutModel",
      "state": {
       "align_items": "stretch",
       "border": "solid 2px",
       "display": "flex",
       "flex_flow": "row",
       "width": "50%"
      }
     },
     "627d248a3e4e4bc69b585b23ed35b8d0": {
      "model_module": "@jupyter-widgets/controls",
      "model_module_version": "1.1.0",
      "model_name": "FloatSliderModel",
      "state": {
       "description": "Features",
       "layout": "IPY_MODEL_fadb44b64acc4fe8bba334ecc2278370",
       "max": 1,
       "step": 0.05,
       "style": "IPY_MODEL_351571a7051b4071ae8ca52eae61ff13",
       "value": 0.5
      }
     },
     "6290eec4ca2843279b168f49e24f9ce2": {
      "model_module": "@jupyter-widgets/base",
      "model_module_version": "1.0.0",
      "model_name": "LayoutModel",
      "state": {
       "align_items": "stretch",
       "border": "solid 2px",
       "display": "flex",
       "flex_flow": "row",
       "width": "50%"
      }
     },
     "62d4e6de9f5d4e08b6f29d9a6f43a906": {
      "model_module": "@jupyter-widgets/controls",
      "model_module_version": "1.1.0",
      "model_name": "VBoxModel",
      "state": {
       "children": [
        "IPY_MODEL_f8f55d141ce74d32bfc23d466d4cc44a",
        "IPY_MODEL_1edde457a7c74bfc836561979cbf0e13",
        "IPY_MODEL_9e153854b2ce48589861e468473c0a3b"
       ],
       "layout": "IPY_MODEL_9bcf479f5bc949dfa8d86bbaec951881"
      }
     },
     "62f84ffc8b42434b93df1979f3ade41e": {
      "model_module": "@jupyter-widgets/controls",
      "model_module_version": "1.1.0",
      "model_name": "ButtonStyleModel",
      "state": {}
     },
     "631415a43f4748a6927cf16186978117": {
      "model_module": "@jupyter-widgets/base",
      "model_module_version": "1.0.0",
      "model_name": "LayoutModel",
      "state": {}
     },
     "63151f9a2d224db99dad867452f8d0ea": {
      "model_module": "bqplot",
      "model_module_version": "^0.3.2",
      "model_name": "LinearScaleModel",
      "state": {
       "min": 0,
       "stabilized": false
      }
     },
     "6392d859c23d4924ad8bd649bd0940b3": {
      "model_module": "@jupyter-widgets/controls",
      "model_module_version": "1.1.0",
      "model_name": "DescriptionStyleModel",
      "state": {
       "description_width": ""
      }
     },
     "63a1422719f54b00b75ca2957600a11c": {
      "model_module": "bqplot",
      "model_module_version": "^0.3.2",
      "model_name": "LinearScaleModel",
      "state": {
       "allow_padding": false,
       "max": 1,
       "min": 0,
       "stabilized": false
      }
     },
     "63a674beedb04c628463790592333668": {
      "model_module": "@jupyter-widgets/base",
      "model_module_version": "1.0.0",
      "model_name": "LayoutModel",
      "state": {
       "display": "flex",
       "flex_flow": "row",
       "justify_content": "flex-end"
      }
     },
     "63d14af3cfa14f678bb9e925043b0b40": {
      "model_module": "@jupyter-widgets/controls",
      "model_module_version": "1.1.0",
      "model_name": "VBoxModel",
      "state": {
       "children": [
        "IPY_MODEL_1de5d91a41454720a993914a7bd1b448",
        "IPY_MODEL_6856be9208b843c5bd2d2581fbabe6c7",
        "IPY_MODEL_08b7687da92d49aab89b232ccc8fef3e",
        "IPY_MODEL_c6843bcbc1f24dcfa4a535cd06f9ba31",
        "IPY_MODEL_f58edfa5910f4a24ba744ff3632bb5fd",
        "IPY_MODEL_1b02b1df4d2d48cfa690b9095b5f4f21",
        "IPY_MODEL_c3179ee3fcc44c12b24af03c8965cc34",
        "IPY_MODEL_e2e711a86f834087967f6eb92bd2a36c"
       ],
       "layout": "IPY_MODEL_f4a015b4839e4206860833cb90cff827"
      }
     },
     "63e14f15cc1f430698ddd3d96c03c29f": {
      "model_module": "@jupyter-widgets/controls",
      "model_module_version": "1.1.0",
      "model_name": "DropdownModel",
      "state": {
       "description": "Segmenter",
       "index": null,
       "layout": "IPY_MODEL_040719620dcd44abaf642afeb0083412",
       "style": "IPY_MODEL_207c634b843a4f5abe3a4d992b6eab19"
      }
     },
     "647de3be9aff4cc3ac8748a297d67d5e": {
      "model_module": "@jupyter-widgets/base",
      "model_module_version": "1.0.0",
      "model_name": "LayoutModel",
      "state": {}
     },
     "6485c34a6dfb477098f51d036dfb2ff9": {
      "model_module": "@jupyter-widgets/controls",
      "model_module_version": "1.1.0",
      "model_name": "DropdownModel",
      "state": {
       "description": "Name",
       "index": null,
       "layout": "IPY_MODEL_8a627fa3e7d84c189dacc88d840c6740",
       "style": "IPY_MODEL_3d827b179c5647a1be83ed7e1b529bbc"
      }
     },
     "6487cfbce6e94c1fae34eaa3e9b47514": {
      "model_module": "@jupyter-widgets/controls",
      "model_module_version": "1.1.0",
      "model_name": "CheckboxModel",
      "state": {
       "description": "Reset",
       "disabled": false,
       "layout": "IPY_MODEL_5d5052924199461d9f78dcf5faaf9145",
       "style": "IPY_MODEL_026b8b0e0cbe4d04b54e6f8944bea9ec",
       "value": false
      }
     },
     "648ccfc6986d4787bb50c9a0d1db89e2": {
      "model_module": "@jupyter-widgets/base",
      "model_module_version": "1.0.0",
      "model_name": "LayoutModel",
      "state": {}
     },
     "64c35ea68dc0475fae5dfc7e3d31196e": {
      "model_module": "@jupyter-widgets/controls",
      "model_module_version": "1.1.0",
      "model_name": "SelectMultipleModel",
      "state": {
       "description": "Sources",
       "index": [],
       "layout": "IPY_MODEL_b81b7c41b6bc4fc2ba61547c117e659f",
       "rows": 5,
       "style": "IPY_MODEL_e05e4219958d4ac48fbf3e243394a1a2"
      }
     },
     "64c776d076a24a489b9c5f05281a5400": {
      "model_module": "@jupyter-widgets/controls",
      "model_module_version": "1.1.0",
      "model_name": "FloatSliderModel",
      "state": {
       "description": "Sensitivity",
       "layout": "IPY_MODEL_6b22a3d5ac7f44d5b1f37b43a9f8ffd1",
       "max": 1,
       "step": 0.05,
       "style": "IPY_MODEL_3836ded8d9dd437d957a5154a1a03e03",
       "value": 0.8
      }
     },
     "64dd2781eb614ed6badfb5aa59af6187": {
      "model_module": "@jupyter-widgets/controls",
      "model_module_version": "1.1.0",
      "model_name": "DescriptionStyleModel",
      "state": {
       "description_width": ""
      }
     },
     "64ec728b2e884230a4f8973586d52a3e": {
      "model_module": "@jupyter-widgets/base",
      "model_module_version": "1.0.0",
      "model_name": "LayoutModel",
      "state": {
       "border": "outset",
       "width": "100%"
      }
     },
     "650fd794eb6143f0a4b25652a2f4a33a": {
      "model_module": "@jupyter-widgets/controls",
      "model_module_version": "1.1.0",
      "model_name": "HBoxModel",
      "state": {
       "children": [
        "IPY_MODEL_9540254444f2493786e893e7eab6adfa",
        "IPY_MODEL_e189b5f4e5c84653a0ee518c9a357fea",
        "IPY_MODEL_84fed7d1f86045068bb3fce509092e89"
       ],
       "layout": "IPY_MODEL_e3ccc1c375814944b9a35fd9c23e6b0d"
      }
     },
     "6537995af84a461bbc8ed399651b9d49": {
      "model_module": "@jupyter-widgets/base",
      "model_module_version": "1.0.0",
      "model_name": "LayoutModel",
      "state": {}
     },
     "6542c6b5824f4608a24bb122d38d7a7f": {
      "model_module": "@jupyter-widgets/base",
      "model_module_version": "1.0.0",
      "model_name": "LayoutModel",
      "state": {}
     },
     "657090aa59ff4550a9dd7f8eed36d989": {
      "model_module": "@jupyter-widgets/controls",
      "model_module_version": "1.1.0",
      "model_name": "SelectMultipleModel",
      "state": {
       "description": "Sources",
       "index": [],
       "layout": "IPY_MODEL_aed4f354537a472cba360cca6f210101",
       "rows": 5,
       "style": "IPY_MODEL_8197479091954d5994ec6df5015ce3a8"
      }
     },
     "657484c372e44ee0969cba56508f1122": {
      "model_module": "@jupyter-widgets/output",
      "model_module_version": "1.1.0",
      "model_name": "OutputModel",
      "state": {
       "_model_module_version": "1.1.0",
       "_view_module_version": "1.1.0",
       "layout": "IPY_MODEL_98347f926a97421f8a87c8a83cf18960"
      }
     },
     "658853d1cd5a43c3a9c296cb99180cd6": {
      "model_module": "@jupyter-widgets/controls",
      "model_module_version": "1.1.0",
      "model_name": "LabelModel",
      "state": {
       "layout": "IPY_MODEL_2fefbc8f7383410caadc9b0998560db7",
       "style": "IPY_MODEL_4b5183ff438243908ed08083149269a9",
       "value": "Download Settings"
      }
     },
     "6593535d165241dd873db4ddba773b13": {
      "model_module": "@jupyter-widgets/controls",
      "model_module_version": "1.1.0",
      "model_name": "DropdownModel",
      "state": {
       "_options_labels": [
        "Binary",
        "Library"
       ],
       "description": "Download",
       "index": 0,
       "layout": "IPY_MODEL_f0bab387e42e45c289b4b71d3b27f60b",
       "style": "IPY_MODEL_ccb3df128f1c45669a63966f3fab0fe4"
      }
     },
     "659ae3aa8fdb4ba681f815d85d0da7c4": {
      "model_module": "@jupyter-widgets/controls",
      "model_module_version": "1.1.0",
      "model_name": "ButtonModel",
      "state": {
       "description": "Update Query",
       "layout": "IPY_MODEL_004e5aa4f10c4a0aa2808f300449200c",
       "style": "IPY_MODEL_d1cc55d9bdf3465995bfbaa852846b41"
      }
     },
     "65b031aec767438fa958567ddebee3e4": {
      "model_module": "@jupyter-widgets/base",
      "model_module_version": "1.0.0",
      "model_name": "LayoutModel",
      "state": {}
     },
     "65ed1cab91cd444699687457ea1cc19e": {
      "model_module": "@jupyter-widgets/base",
      "model_module_version": "1.0.0",
      "model_name": "LayoutModel",
      "state": {}
     },
     "661d9bff093a4be0ba57cab3702897d7": {
      "model_module": "@jupyter-widgets/controls",
      "model_module_version": "1.1.0",
      "model_name": "DescriptionStyleModel",
      "state": {
       "description_width": ""
      }
     },
     "6624500cb4874f2b9e60482a48f74956": {
      "model_module": "@jupyter-widgets/controls",
      "model_module_version": "1.1.0",
      "model_name": "VBoxModel",
      "state": {
       "children": [
        "IPY_MODEL_8c91cfb2c1ad453db45d6c321ce840fa",
        "IPY_MODEL_388b851b874f463e954fb01f2dd64fae",
        "IPY_MODEL_38fc06c78167434693b4b0e10d195c98"
       ],
       "layout": "IPY_MODEL_b12a67432fc040359b8e599a700f6bff"
      }
     },
     "6648d0e70aa640f1a0878fb1d570d5f1": {
      "model_module": "@jupyter-widgets/controls",
      "model_module_version": "1.1.0",
      "model_name": "FloatSliderModel",
      "state": {
       "description": "Sensitivity",
       "layout": "IPY_MODEL_4887e691a6c24ec883b9fc74c716f68a",
       "max": 1,
       "step": 0.05,
       "style": "IPY_MODEL_8d4143cf72254b8383fcf878696277df",
       "value": 0.8
      }
     },
     "667638ca717242c68668930db1bb3f63": {
      "model_module": "@jupyter-widgets/base",
      "model_module_version": "1.0.0",
      "model_name": "LayoutModel",
      "state": {
       "visibility": "visible"
      }
     },
     "67129aaa88654503a56cffe5a8ceacf1": {
      "model_module": "@jupyter-widgets/base",
      "model_module_version": "1.0.0",
      "model_name": "LayoutModel",
      "state": {}
     },
     "671f51cc36bc4b0bb091fb1a78bcc93c": {
      "model_module": "@jupyter-widgets/base",
      "model_module_version": "1.0.0",
      "model_name": "LayoutModel",
      "state": {
       "border": "solid 2px",
       "display": "flex",
       "flex_flow": "row",
       "justify_content": "center",
       "overflow": "visible"
      }
     },
     "6770f204eadd4e4284441b51bc0e6094": {
      "model_module": "@jupyter-widgets/base",
      "model_module_version": "1.0.0",
      "model_name": "LayoutModel",
      "state": {}
     },
     "679ad8b272eb4bfe8880c9af5e8586fd": {
      "model_module": "@jupyter-widgets/controls",
      "model_module_version": "1.1.0",
      "model_name": "AccordionModel",
      "state": {
       "_titles": {
        "0": "Select or Create Query"
       },
       "children": [
        "IPY_MODEL_8dc75c18576a47828b47926456a84c5a"
       ],
       "layout": "IPY_MODEL_e0804ecd959f438cb89fde583f850d10"
      }
     },
     "67ae2e07b0db4ac5af224e66863b6c8f": {
      "model_module": "@jupyter-widgets/controls",
      "model_module_version": "1.1.0",
      "model_name": "ButtonStyleModel",
      "state": {}
     },
     "67e9861e8b1c4a2c9a04e0fd66edbe4d": {
      "model_module": "@jupyter-widgets/base",
      "model_module_version": "1.0.0",
      "model_name": "LayoutModel",
      "state": {}
     },
     "67f8a72122b142c7ac5923ac710d992c": {
      "model_module": "@jupyter-widgets/controls",
      "model_module_version": "1.1.0",
      "model_name": "DescriptionStyleModel",
      "state": {
       "description_width": ""
      }
     },
     "680aae87b61642349b01d2e7554fc941": {
      "model_module": "@jupyter-widgets/base",
      "model_module_version": "1.0.0",
      "model_name": "LayoutModel",
      "state": {}
     },
     "682c22e824ca4f47abd400bd7247e8d1": {
      "model_module": "@jupyter-widgets/controls",
      "model_module_version": "1.1.0",
      "model_name": "DescriptionStyleModel",
      "state": {
       "description_width": ""
      }
     },
     "6856be9208b843c5bd2d2581fbabe6c7": {
      "model_module": "@jupyter-widgets/controls",
      "model_module_version": "1.1.0",
      "model_name": "TextModel",
      "state": {
       "description": "Query Name",
       "layout": "IPY_MODEL_1bf7748eceda4ef29b22b430dd995483",
       "style": "IPY_MODEL_372705f9efa04aa5a6b0ca2b9b203bbf",
       "value": "ABCDEF"
      }
     },
     "685ceb600c48452bb8f51067f097e1f8": {
      "model_module": "@jupyter-widgets/base",
      "model_module_version": "1.0.0",
      "model_name": "LayoutModel",
      "state": {}
     },
     "6862da87365f4ced8847ee13c8ed7369": {
      "model_module": "@jupyter-widgets/controls",
      "model_module_version": "1.1.0",
      "model_name": "DropdownModel",
      "state": {
       "_options_labels": [
        "Segmenter Builder Result",
        "Manual",
        "Segmenter Builder Result AccelZ 2"
       ],
       "description": "Segmenter",
       "index": 0,
       "layout": "IPY_MODEL_f521823a2f4a4b77b7e18833e66d44f5",
       "style": "IPY_MODEL_803381b0e0fb4deeb843626754d66f24"
      }
     },
     "686e47a0f38442f2be82a13f02e6f86e": {
      "model_module": "bqplot",
      "model_module_version": "^0.3.2",
      "model_name": "LinearScaleModel",
      "state": {
       "allow_padding": false,
       "max": 1,
       "min": 0,
       "stabilized": false
      }
     },
     "6870c2b3e9384c1d9311ae617d9b5b3e": {
      "model_module": "@jupyter-widgets/controls",
      "model_module_version": "1.1.0",
      "model_name": "AccordionModel",
      "state": {
       "_titles": {
        "0": "AutoSense Pipeline"
       },
       "children": [
        "IPY_MODEL_4826a704bd9a49318e6ce8d8d41461a6"
       ],
       "layout": "IPY_MODEL_ca0430b361534df6961556110be8c030"
      }
     },
     "687502490def4e62a77bfd7ac8c099f0": {
      "model_module": "@jupyter-widgets/base",
      "model_module_version": "1.0.0",
      "model_name": "LayoutModel",
      "state": {}
     },
     "68a3781967d64e169e9c57a527035547": {
      "model_module": "@jupyter-widgets/controls",
      "model_module_version": "1.1.0",
      "model_name": "DescriptionStyleModel",
      "state": {
       "description_width": ""
      }
     },
     "68f39ce2860e45958a5eda6c9c5a4897": {
      "model_module": "@jupyter-widgets/controls",
      "model_module_version": "1.1.0",
      "model_name": "TextModel",
      "state": {
       "description": "New Pipeline",
       "layout": "IPY_MODEL_e45ddc41c19f4485a8e030f9ae250ed8",
       "style": "IPY_MODEL_c334529fdf144d0b9be113f5bdb5860e"
      }
     },
     "68f48b238ab74ed2995c786f32208214": {
      "model_module": "@jupyter-widgets/base",
      "model_module_version": "1.0.0",
      "model_name": "LayoutModel",
      "state": {}
     },
     "69639e5d18e84493962ecc1724f81167": {
      "model_module": "@jupyter-widgets/controls",
      "model_module_version": "1.1.0",
      "model_name": "DescriptionStyleModel",
      "state": {
       "description_width": ""
      }
     },
     "696f4bc748f2404ead8db6cdc5292f9e": {
      "model_module": "@jupyter-widgets/controls",
      "model_module_version": "1.1.0",
      "model_name": "ButtonModel",
      "state": {
       "description": "Create",
       "layout": "IPY_MODEL_3a0f1344ee2a401ba6919d0d4d42a4b5",
       "style": "IPY_MODEL_131517a7074d495da971e3075dfb4a6d"
      }
     },
     "69762358fe8b48178589ce6874cb538c": {
      "model_module": "@jupyter-widgets/base",
      "model_module_version": "1.0.0",
      "model_name": "LayoutModel",
      "state": {}
     },
     "697bb5c1b5aa4a449285a07c43bc119e": {
      "model_module": "@jupyter-widgets/controls",
      "model_module_version": "1.1.0",
      "model_name": "ButtonModel",
      "state": {
       "description": "Create",
       "layout": "IPY_MODEL_f2fdf90141b94caeb95f5f726e4e0b64",
       "style": "IPY_MODEL_9f373b1a4f8e434abe1086d254549e55"
      }
     },
     "6981916ca2cc46e3a83e8019c98358f9": {
      "model_module": "@jupyter-widgets/controls",
      "model_module_version": "1.1.0",
      "model_name": "DropdownModel",
      "state": {
       "_options_labels": [
        "Segmenter Builder Result",
        "Manual",
        "Segmenter Builder Result AccelZ 2"
       ],
       "description": "Segmenter",
       "index": 0,
       "layout": "IPY_MODEL_7d2fa30bb6ac4ae1988d539ff902b047",
       "style": "IPY_MODEL_d1c7a71af3d14b77a228b684e82d383b"
      }
     },
     "6a0d27b659964e10a06afeb67dafbafc": {
      "model_module": "@jupyter-widgets/controls",
      "model_module_version": "1.1.0",
      "model_name": "HBoxModel",
      "state": {
       "children": [
        "IPY_MODEL_1f0dbe088e76468d999ab0760749809d",
        "IPY_MODEL_8a48c709d19d43fe8b4d264b6b7acef3",
        "IPY_MODEL_3b672cba08aa427abcf115d8b980332b"
       ],
       "layout": "IPY_MODEL_8b8e45526a3040768d77a1a494b7d1f8"
      }
     },
     "6a12214863414c15916799f9fba53ace": {
      "model_module": "@jupyter-widgets/controls",
      "model_module_version": "1.1.0",
      "model_name": "CheckboxModel",
      "state": {
       "description": "Reset",
       "disabled": false,
       "layout": "IPY_MODEL_974bfd5cdc9847af98be088e519e81b0",
       "style": "IPY_MODEL_bb10763577a14c2889c8db993caf933b",
       "value": false
      }
     },
     "6a23de0d7f8b4b2dbcb4d9e59fb64de5": {
      "model_module": "@jupyter-widgets/controls",
      "model_module_version": "1.1.0",
      "model_name": "FloatSliderModel",
      "state": {
       "description": "Features",
       "layout": "IPY_MODEL_10edc4ae0f774cea95550a71f231e10f",
       "max": 1,
       "step": 0.05,
       "style": "IPY_MODEL_280542f7fb6f4c8792b11053072ea8f4",
       "value": 0.5
      }
     },
     "6a287f3a43f94ffb833851fadeedc00d": {
      "model_module": "@jupyter-widgets/controls",
      "model_module_version": "1.1.0",
      "model_name": "HBoxModel",
      "state": {
       "children": [
        "IPY_MODEL_eb18d6e5999a412a8e39e9a91f155218",
        "IPY_MODEL_3a408869a55a4ab98f111563ba12a252",
        "IPY_MODEL_da006fc4094a49b58900b2a504cba034"
       ],
       "layout": "IPY_MODEL_e2d1fbba8f1649af865e82f47577f6c6"
      }
     },
     "6a7c91dee0bf462dbbb89275a33ba887": {
      "model_module": "@jupyter-widgets/controls",
      "model_module_version": "1.1.0",
      "model_name": "HBoxModel",
      "state": {
       "children": [
        "IPY_MODEL_be36f3f154e74bc7af4296c860a1bdc5",
        "IPY_MODEL_00709095757c43e4bd077e905dfca36e",
        "IPY_MODEL_2574a81ef0614a10819e5198d8a9f5e5"
       ],
       "layout": "IPY_MODEL_4356ed98dfc64025be67aad7b94d164f"
      }
     },
     "6a7dcccd2efe4665a90fd5a903502a02": {
      "model_module": "@jupyter-widgets/controls",
      "model_module_version": "1.1.0",
      "model_name": "VBoxModel",
      "state": {
       "_dom_classes": [
        "widget-interact"
       ],
       "children": [
        "IPY_MODEL_f3dd95f9cfa04ffda89b8b6ec5017f64",
        "IPY_MODEL_d8f6c95c9c3244ee9e630d1e8e1d385b"
       ],
       "layout": "IPY_MODEL_eb143bb09e794c04903d54d03791e173"
      }
     },
     "6a98eb224a9d4929a58a31faa9eeaf85": {
      "model_module": "@jupyter-widgets/base",
      "model_module_version": "1.0.0",
      "model_name": "LayoutModel",
      "state": {}
     },
     "6aa365712eb14fcda72046959197c155": {
      "model_module": "@jupyter-widgets/controls",
      "model_module_version": "1.1.0",
      "model_name": "HBoxModel",
      "state": {
       "children": [
        "IPY_MODEL_81dd752996ab4d1da3f3658c222c9694",
        "IPY_MODEL_a6a5271a1d1f4c49849e3ab9639a3b7a",
        "IPY_MODEL_7c571398487144d3a6ccc6f8e3d12c8e"
       ],
       "layout": "IPY_MODEL_ac935b1a6638451ab1d58c1fc09f034e"
      }
     },
     "6acb45e6e3ae4d38a5b80701f60b9f30": {
      "model_module": "@jupyter-widgets/controls",
      "model_module_version": "1.1.0",
      "model_name": "SliderStyleModel",
      "state": {
       "description_width": ""
      }
     },
     "6aeba0263e6a49e59242f32c46a5f23e": {
      "model_module": "@jupyter-widgets/controls",
      "model_module_version": "1.1.0",
      "model_name": "DescriptionStyleModel",
      "state": {
       "description_width": ""
      }
     },
     "6b008b4439654604a1cd197431309cc1": {
      "model_module": "@jupyter-widgets/controls",
      "model_module_version": "1.1.0",
      "model_name": "DescriptionStyleModel",
      "state": {
       "description_width": ""
      }
     },
     "6b22a3d5ac7f44d5b1f37b43a9f8ffd1": {
      "model_module": "@jupyter-widgets/base",
      "model_module_version": "1.0.0",
      "model_name": "LayoutModel",
      "state": {}
     },
     "6b5c3f9107d84f70a81cca584b2dea9d": {
      "model_module": "@jupyter-widgets/controls",
      "model_module_version": "1.1.0",
      "model_name": "SliderStyleModel",
      "state": {
       "description_width": ""
      }
     },
     "6b5ecffc78d94d38ad7b3abf30c877f4": {
      "model_module": "@jupyter-widgets/controls",
      "model_module_version": "1.1.0",
      "model_name": "SliderStyleModel",
      "state": {
       "description_width": ""
      }
     },
     "6b7a32d047ed443681a1752765f55f4c": {
      "model_module": "@jupyter-widgets/base",
      "model_module_version": "1.0.0",
      "model_name": "LayoutModel",
      "state": {}
     },
     "6bab5593eb4a4deda78291871c27079d": {
      "model_module": "@jupyter-widgets/controls",
      "model_module_version": "1.1.0",
      "model_name": "DropdownModel",
      "state": {
       "_options_labels": [
        "100",
        "50",
        "25"
       ],
       "description": "IMU Rate",
       "index": 0,
       "layout": "IPY_MODEL_efeb1c0ac54c4e7d9fedd6cd2b578311",
       "style": "IPY_MODEL_7a9ad577b8f54de686167af8fb156f0e"
      }
     },
     "6bfe6fdd73064888929545a7b7b999ed": {
      "model_module": "@jupyter-widgets/base",
      "model_module_version": "1.0.0",
      "model_name": "LayoutModel",
      "state": {}
     },
     "6c1d060b7d91423d8f960f011d472cd7": {
      "model_module": "@jupyter-widgets/controls",
      "model_module_version": "1.1.0",
      "model_name": "AccordionModel",
      "state": {
       "_titles": {
        "0": "AutoSense Pipeline"
       },
       "children": [
        "IPY_MODEL_7cf16532ddab4153901979affbaaff70"
       ],
       "layout": "IPY_MODEL_dfcb8b126be447358e6bd2990c052cbd"
      }
     },
     "6c569f36874e4a1dbb7c7c4e306126a1": {
      "model_module": "@jupyter-widgets/base",
      "model_module_version": "1.0.0",
      "model_name": "LayoutModel",
      "state": {}
     },
     "6c74453cdd6a447faebcd9a63b375b5e": {
      "model_module": "@jupyter-widgets/controls",
      "model_module_version": "1.1.0",
      "model_name": "DescriptionStyleModel",
      "state": {
       "description_width": ""
      }
     },
     "6c965fa51c5940ecabfc42d5bfa24456": {
      "model_module": "@jupyter-widgets/base",
      "model_module_version": "1.0.0",
      "model_name": "LayoutModel",
      "state": {}
     },
     "6cd03efb5d4647fea315c0d3aecc77d5": {
      "model_module": "@jupyter-widgets/output",
      "model_module_version": "1.1.0",
      "model_name": "OutputModel",
      "state": {
       "_model_module_version": "1.1.0",
       "_view_module_version": "1.1.0",
       "layout": "IPY_MODEL_5754f5802ac44da4b4eeba8d91735fa0"
      }
     },
     "6cd2c27b4c2340398f538d154d606187": {
      "model_module": "@jupyter-widgets/controls",
      "model_module_version": "1.1.0",
      "model_name": "FloatSliderModel",
      "state": {
       "description": "Neurons",
       "layout": "IPY_MODEL_9bd017a845f147e7b2cc222d243305e3",
       "max": 1,
       "step": 0.05,
       "style": "IPY_MODEL_cc3952cc2c23438a9828b1f1b3bc37cf",
       "value": 0.9
      }
     },
     "6cd3d75235654242b42e6bf6b1f8fbd0": {
      "model_module": "@jupyter-widgets/controls",
      "model_module_version": "1.1.0",
      "model_name": "FloatSliderModel",
      "state": {
       "description": "Features",
       "layout": "IPY_MODEL_a1db2f6102eb4e43bd164dc0476f0a45",
       "max": 1,
       "step": 0.05,
       "style": "IPY_MODEL_89ed22bc87ec4cf19fbca0f9c6a19f7c",
       "value": 0.5
      }
     },
     "6ceacd5d65534409a134c785ebc628c6": {
      "model_module": "@jupyter-widgets/controls",
      "model_module_version": "1.1.0",
      "model_name": "DescriptionStyleModel",
      "state": {
       "description_width": ""
      }
     },
     "6d09f3fbf4e24c26aefc0baf1213fe46": {
      "model_module": "@jupyter-widgets/controls",
      "model_module_version": "1.1.0",
      "model_name": "ButtonStyleModel",
      "state": {}
     },
     "6d1ad9f79b184c9f890dadc0cd4b88b0": {
      "model_module": "@jupyter-widgets/controls",
      "model_module_version": "1.1.0",
      "model_name": "IntSliderModel",
      "state": {
       "description": "population size",
       "layout": "IPY_MODEL_cb6e4d4481f04c5b9d3b4b5a45ee26b4",
       "max": 50,
       "min": 10,
       "style": "IPY_MODEL_ed0c2423b0634002805a1d515cb3f8a6",
       "value": 10
      }
     },
     "6d1d2b8397864a7badd4293ea275e939": {
      "model_module": "@jupyter-widgets/base",
      "model_module_version": "1.0.0",
      "model_name": "LayoutModel",
      "state": {}
     },
     "6d455e61e69043338c2543689de65e54": {
      "model_module": "@jupyter-widgets/base",
      "model_module_version": "1.0.0",
      "model_name": "LayoutModel",
      "state": {}
     },
     "6da7ce2ef85b41209c1707f8db125e10": {
      "model_module": "@jupyter-widgets/controls",
      "model_module_version": "1.1.0",
      "model_name": "DropdownModel",
      "state": {
       "description": "Model Name",
       "index": null,
       "layout": "IPY_MODEL_e0da7391c97e47a29ec03cee9a76c51a",
       "style": "IPY_MODEL_735bda86bc51487f884417c47117789c"
      }
     },
     "6db4721c083840de850f95c77b416c5f": {
      "model_module": "@jupyter-widgets/controls",
      "model_module_version": "1.1.0",
      "model_name": "DropdownModel",
      "state": {
       "_options_labels": [
        "",
        "Parameter Optimization Tutorial",
        "outlier_remove",
        "Training Demo",
        "MHEAudio",
        "ChristTest2",
        "Video Project",
        "LargeData",
        "motor_vibration",
        "Activity Demo",
        "SensiML Gestures Demo",
        "hereo",
        "OptimizePara_UsingGrid",
        "DogData",
        "Gesture_data_demo",
        "ChrisGestureProject",
        "PunchPunch",
        "Voyager Demo",
        "PunchDemo",
        "A Marc Project",
        "Virginia",
        "MyProject",
        "Cursive",
        "MotorVibration",
        "Seven Peaks Demo",
        "Customer End to End Demo",
        "MotorVibrationSmall",
        "CustomerE2E",
        "motor_vibration_2",
        "Harry Potter Project",
        "Gesture Demo",
        "SensiML Gestures"
       ],
       "description": "Select Project",
       "index": 31,
       "layout": "IPY_MODEL_83d9d3c49bb04d0d874b2e9a1a9b04e6",
       "style": "IPY_MODEL_5745735e4c244e22bc7f5e3d88a64062"
      }
     },
     "6dde8affac1f4201b46715ba3dde7718": {
      "model_module": "@jupyter-widgets/base",
      "model_module_version": "1.0.0",
      "model_name": "LayoutModel",
      "state": {}
     },
     "6e09d2c75fd24c408824ead1808eded7": {
      "model_module": "@jupyter-widgets/base",
      "model_module_version": "1.0.0",
      "model_name": "LayoutModel",
      "state": {}
     },
     "6e1367cab0fb4ecba67672d94e1e5b71": {
      "model_module": "@jupyter-widgets/controls",
      "model_module_version": "1.1.0",
      "model_name": "SliderStyleModel",
      "state": {
       "description_width": ""
      }
     },
     "6e1ad1d8654948718e88e4542c735044": {
      "model_module": "@jupyter-widgets/base",
      "model_module_version": "1.0.0",
      "model_name": "LayoutModel",
      "state": {}
     },
     "6e1dd4a21d074b08ae0c4442cf74b71d": {
      "model_module": "@jupyter-widgets/controls",
      "model_module_version": "1.1.0",
      "model_name": "VBoxModel",
      "state": {
       "children": [
        "IPY_MODEL_012e05d7ec3345f78ae333373c2b8bc3",
        "IPY_MODEL_c4a09acc620e4b68a2495642a9933239",
        "IPY_MODEL_07516fb9cce043628abb2e4ff4886e9e",
        "IPY_MODEL_a60a4185239c4b72914457b46f44923f",
        "IPY_MODEL_114b5c66d93048a5b64a56487d798f4f",
        "IPY_MODEL_c7d2b6e9fcf941b3b0a170e581e27d2b"
       ],
       "layout": "IPY_MODEL_52eba7ce4e5d473eaf1b74dd5d61db26"
      }
     },
     "6e3cc9c2bbb74d3da18ffcdf275f0fdc": {
      "model_module": "@jupyter-widgets/controls",
      "model_module_version": "1.1.0",
      "model_name": "DescriptionStyleModel",
      "state": {
       "description_width": ""
      }
     },
     "6e60402d47e249c9b8d8a09e52ae21bd": {
      "model_module": "@jupyter-widgets/base",
      "model_module_version": "1.0.0",
      "model_name": "LayoutModel",
      "state": {}
     },
     "6e8c8cf0f9b045a9a3217275343ee49b": {
      "model_module": "@jupyter-widgets/controls",
      "model_module_version": "1.1.0",
      "model_name": "DescriptionStyleModel",
      "state": {
       "description_width": ""
      }
     },
     "6e8f2775a85d4a8bb5a86c9ad6694e22": {
      "model_module": "@jupyter-widgets/controls",
      "model_module_version": "1.1.0",
      "model_name": "DescriptionStyleModel",
      "state": {
       "description_width": ""
      }
     },
     "6ee2aef9b38645fd8aafed9df8daf5d9": {
      "model_module": "@jupyter-widgets/base",
      "model_module_version": "1.0.0",
      "model_name": "LayoutModel",
      "state": {}
     },
     "6f013e3d417746cfb24fec96b6f9fbb0": {
      "model_module": "@jupyter-widgets/base",
      "model_module_version": "1.0.0",
      "model_name": "LayoutModel",
      "state": {}
     },
     "6f0d568fba194c7fbd0300baccee40db": {
      "model_module": "@jupyter-widgets/controls",
      "model_module_version": "1.1.0",
      "model_name": "DescriptionStyleModel",
      "state": {
       "description_width": ""
      }
     },
     "6f288541959a4a5ab7602e3e661ea6c5": {
      "model_module": "@jupyter-widgets/controls",
      "model_module_version": "1.1.0",
      "model_name": "LabelModel",
      "state": {
       "layout": "IPY_MODEL_a8261cb7ef074db397583bbcdaa64d81",
       "style": "IPY_MODEL_123c24decf7243cb86f91716dbfd09f7",
       "value": "Download Settings"
      }
     },
     "6f2d09fa132844bdb030cf4d83d0d33b": {
      "model_module": "@jupyter-widgets/base",
      "model_module_version": "1.0.0",
      "model_name": "LayoutModel",
      "state": {}
     },
     "6f34b652505846238d6dd7470f26f752": {
      "model_module": "@jupyter-widgets/controls",
      "model_module_version": "1.1.0",
      "model_name": "DropdownModel",
      "state": {
       "_options_labels": [
        "Default",
        "Windowing(100)",
        "Windowing(200)",
        "Windowing(250)"
       ],
       "description": "Segmenter",
       "index": 0,
       "layout": "IPY_MODEL_a814fb77b7d849adb3769290b7f05520",
       "style": "IPY_MODEL_310f22ac3fa14c669b3a5fe6c5734ee1"
      }
     },
     "6f749ba85b684eebb04166460eddf864": {
      "model_module": "@jupyter-widgets/base",
      "model_module_version": "1.0.0",
      "model_name": "LayoutModel",
      "state": {}
     },
     "6f7b621366c6443eaee7e095f0c80398": {
      "model_module": "@jupyter-widgets/base",
      "model_module_version": "1.0.0",
      "model_name": "LayoutModel",
      "state": {}
     },
     "7000ee89fc7c4fc7a17944c2f65b21a2": {
      "model_module": "@jupyter-widgets/base",
      "model_module_version": "1.0.0",
      "model_name": "LayoutModel",
      "state": {}
     },
     "70022d4aa89d4b46a8d38491e0253160": {
      "model_module": "@jupyter-widgets/controls",
      "model_module_version": "1.1.0",
      "model_name": "SliderStyleModel",
      "state": {
       "description_width": ""
      }
     },
     "701979a2928848208053ff7bcf569bb5": {
      "model_module": "@jupyter-widgets/controls",
      "model_module_version": "1.1.0",
      "model_name": "DescriptionStyleModel",
      "state": {
       "description_width": ""
      }
     },
     "70413828b7744cc28c65fefe1896d7d3": {
      "model_module": "@jupyter-widgets/controls",
      "model_module_version": "1.1.0",
      "model_name": "DescriptionStyleModel",
      "state": {
       "description_width": ""
      }
     },
     "7097b26fb31a456c8bb5e98e6740e321": {
      "model_module": "@jupyter-widgets/base",
      "model_module_version": "1.0.0",
      "model_name": "LayoutModel",
      "state": {}
     },
     "709e454ca7f443c581644d4baa5bbdad": {
      "model_module": "@jupyter-widgets/controls",
      "model_module_version": "1.1.0",
      "model_name": "DescriptionStyleModel",
      "state": {
       "description_width": ""
      }
     },
     "70a039d479a34e96a44aa5060beea901": {
      "model_module": "@jupyter-widgets/controls",
      "model_module_version": "1.1.0",
      "model_name": "FloatSliderModel",
      "state": {
       "description": "Features",
       "layout": "IPY_MODEL_d0e4c50d33be453297dfd0d3d1ca2ddc",
       "max": 1,
       "step": 0.05,
       "style": "IPY_MODEL_282998f3db784bd395a10207deeacfa8",
       "value": 0.5
      }
     },
     "70af48047fae4768a423f706e84b5e9f": {
      "model_module": "bqplot",
      "model_module_version": "^0.3.2",
      "model_name": "LinearScaleModel",
      "state": {
       "allow_padding": false,
       "max": 1,
       "min": 0,
       "stabilized": false
      }
     },
     "70c87f07fa6545e0ad29926c9d849368": {
      "model_module": "@jupyter-widgets/base",
      "model_module_version": "1.0.0",
      "model_name": "LayoutModel",
      "state": {}
     },
     "70eaacbd4a3b4ae99d9ea3211369456c": {
      "model_module": "@jupyter-widgets/base",
      "model_module_version": "1.0.0",
      "model_name": "LayoutModel",
      "state": {
       "width": "300px"
      }
     },
     "7132ee00448a418ca302bcefc8cded7f": {
      "model_module": "@jupyter-widgets/base",
      "model_module_version": "1.0.0",
      "model_name": "LayoutModel",
      "state": {}
     },
     "714898f81c354c7abfd0afa6c2b5603d": {
      "model_module": "@jupyter-widgets/base",
      "model_module_version": "1.0.0",
      "model_name": "LayoutModel",
      "state": {}
     },
     "716d11a49b79455c8ab389b8b2181d41": {
      "model_module": "@jupyter-widgets/controls",
      "model_module_version": "1.1.0",
      "model_name": "ButtonModel",
      "state": {
       "description": "Create",
       "layout": "IPY_MODEL_da793c0c4b7d4c2a9c5c710a20ba81ae",
       "style": "IPY_MODEL_5a1f57d6cfcd48c78673927be187aab3"
      }
     },
     "717badf13d7a4eaa94a0b48b7b9f64e7": {
      "model_module": "@jupyter-widgets/controls",
      "model_module_version": "1.1.0",
      "model_name": "ButtonStyleModel",
      "state": {}
     },
     "71999d71936b496abf6fbacc0679e349": {
      "model_module": "@jupyter-widgets/base",
      "model_module_version": "1.0.0",
      "model_name": "LayoutModel",
      "state": {}
     },
     "719f6bf1ba5e48c6abdb5cf32a39226e": {
      "model_module": "@jupyter-widgets/base",
      "model_module_version": "1.0.0",
      "model_name": "LayoutModel",
      "state": {}
     },
     "71a41ee4130a406db53cd356f3ded75e": {
      "model_module": "@jupyter-widgets/controls",
      "model_module_version": "1.1.0",
      "model_name": "ButtonModel",
      "state": {
       "description": "Create",
       "layout": "IPY_MODEL_d1d49606e4d44e70bb00a61e4fbcfde5",
       "style": "IPY_MODEL_9a87e8f8b7bc405ab96dff578a3e3669"
      }
     },
     "71b99839a8014bf7a3ccc72d8824dd83": {
      "model_module": "@jupyter-widgets/base",
      "model_module_version": "1.0.0",
      "model_name": "LayoutModel",
      "state": {}
     },
     "71be5cf05b6e4961976847a4afe6806a": {
      "model_module": "@jupyter-widgets/base",
      "model_module_version": "1.0.0",
      "model_name": "LayoutModel",
      "state": {}
     },
     "71c0dff49bf544efa06b6acb50fcec03": {
      "model_module": "@jupyter-widgets/base",
      "model_module_version": "1.0.0",
      "model_name": "LayoutModel",
      "state": {}
     },
     "71c242d54b1949fab5c0d0a99f023d73": {
      "model_module": "bqplot",
      "model_module_version": "^0.3.2",
      "model_name": "AxisModel",
      "state": {
       "scale": "IPY_MODEL_c7ddaa7f65d946f3bca814818328574d",
       "side": "bottom",
       "tick_values": {
        "type": "<U1",
        "values": [
         "A",
         "B",
         "C",
         "D",
         "E",
         "F"
        ]
       }
      }
     },
     "71f6b022b1004e42bba702cdb67569d2": {
      "model_module": "bqplot",
      "model_module_version": "^0.3.2",
      "model_name": "LinearScaleModel",
      "state": {
       "allow_padding": false,
       "max": 1,
       "min": 0,
       "stabilized": false
      }
     },
     "72167cfe083c46e2b1d316cf9d7b5eb3": {
      "model_module": "@jupyter-widgets/base",
      "model_module_version": "1.0.0",
      "model_name": "LayoutModel",
      "state": {}
     },
     "7251b6e19e264d07bc383a0b4a06a3a0": {
      "model_module": "@jupyter-widgets/controls",
      "model_module_version": "1.1.0",
      "model_name": "ButtonModel",
      "state": {
       "description": "Update Query",
       "layout": "IPY_MODEL_46f0f01bbcfe48b8a137488c2bf4c0dd",
       "style": "IPY_MODEL_3c96f05b1bb643e7a3fbb46aedf1aa5f"
      }
     },
     "72b6049f7b8148aa8d7fed1b889ae5bf": {
      "model_module": "@jupyter-widgets/base",
      "model_module_version": "1.0.0",
      "model_name": "LayoutModel",
      "state": {}
     },
     "72ca506f52634efca23fe08bcbf09014": {
      "model_module": "@jupyter-widgets/controls",
      "model_module_version": "1.1.0",
      "model_name": "DescriptionStyleModel",
      "state": {
       "description_width": ""
      }
     },
     "72cd6c80eaa04111ba0bc99ca7d20462": {
      "model_module": "@jupyter-widgets/controls",
      "model_module_version": "1.1.0",
      "model_name": "VBoxModel",
      "state": {
       "children": [
        "IPY_MODEL_182aadaa341c45b9aa6f023e48883282",
        "IPY_MODEL_ca3ec9b617114fd5b7009323a48c2eac",
        "IPY_MODEL_34eac147c3284ac9a27169e97b9062b4"
       ],
       "layout": "IPY_MODEL_bd306448c0bd4ffb91cff6c9c020d5d9"
      }
     },
     "72fc235b8f3c4d56bbb7778a6b2d1de1": {
      "model_module": "@jupyter-widgets/controls",
      "model_module_version": "1.1.0",
      "model_name": "DropdownModel",
      "state": {
       "description": "Select Query",
       "index": null,
       "layout": "IPY_MODEL_17bb2f58beab442abc5ba67c51429e6c",
       "style": "IPY_MODEL_38041c9bc1c6446caad4688dbe40cd87"
      }
     },
     "730205fd4879441c9bfcbcb4801073ba": {
      "model_module": "@jupyter-widgets/controls",
      "model_module_version": "1.1.0",
      "model_name": "DropdownModel",
      "state": {
       "_options_labels": [
        "Subject",
        "Gender",
        "Device",
        "Gesture"
       ],
       "description": "Label Column",
       "index": 3,
       "layout": "IPY_MODEL_8dd175e3ce7949de808d13eaee041051",
       "style": "IPY_MODEL_a9b8763d8f914ff0b8ca611c9a0d5caf"
      }
     },
     "7316072c4d9f4c88b83b6c60101f919f": {
      "model_module": "@jupyter-widgets/base",
      "model_module_version": "1.0.0",
      "model_name": "LayoutModel",
      "state": {}
     },
     "733fd391482945fc8d7211a765024ed6": {
      "model_module": "@jupyter-widgets/base",
      "model_module_version": "1.0.0",
      "model_name": "LayoutModel",
      "state": {}
     },
     "7347679fe3074618ab871eb099fa5897": {
      "model_module": "@jupyter-widgets/controls",
      "model_module_version": "1.1.0",
      "model_name": "DropdownModel",
      "state": {
       "_options_labels": [
        "Default",
        "Windowing(100)",
        "Windowing(200)",
        "Windowing(250)"
       ],
       "description": "Segmenter",
       "index": 0,
       "layout": "IPY_MODEL_1e8050b21b304e33a762a3cc7cdc9bc3",
       "style": "IPY_MODEL_ffd1b3b7053d4ccf9186706a98ab5304"
      }
     },
     "735b4eb81f834f1ca815835061a51cef": {
      "model_module": "@jupyter-widgets/controls",
      "model_module_version": "1.1.0",
      "model_name": "DescriptionStyleModel",
      "state": {
       "description_width": ""
      }
     },
     "735bda86bc51487f884417c47117789c": {
      "model_module": "@jupyter-widgets/controls",
      "model_module_version": "1.1.0",
      "model_name": "DescriptionStyleModel",
      "state": {
       "description_width": ""
      }
     },
     "737e0b66038e4fad8e934ec401818a8c": {
      "model_module": "@jupyter-widgets/controls",
      "model_module_version": "1.1.0",
      "model_name": "ButtonModel",
      "state": {
       "description": "Add Query",
       "layout": "IPY_MODEL_c7d90264b0bc489a925f0d3d03de86c4",
       "style": "IPY_MODEL_3a9fb0e938b44cccb7e7ff65fcd45ac1"
      }
     },
     "73940ab557104d28a49c2fffc8bef268": {
      "model_module": "@jupyter-widgets/controls",
      "model_module_version": "1.1.0",
      "model_name": "HBoxModel",
      "state": {
       "children": [
        "IPY_MODEL_163e6d0c92494b48ad7ee6af5d7dc653",
        "IPY_MODEL_9201b489eada42cc9c7fa3a626e2dde2",
        "IPY_MODEL_509713c04f68452195d66046bd6edbdb"
       ],
       "layout": "IPY_MODEL_c5bb046996b84972ab61eb3d1fe59a4c"
      }
     },
     "73d70a78d9974c4daac5b8fbdd332f00": {
      "model_module": "@jupyter-widgets/base",
      "model_module_version": "1.0.0",
      "model_name": "LayoutModel",
      "state": {
       "display": "flex",
       "flex_flow": "row",
       "justify_content": "flex-end"
      }
     },
     "73db0969760c4637bc61c8a54b9d4d94": {
      "model_module": "@jupyter-widgets/base",
      "model_module_version": "1.0.0",
      "model_name": "LayoutModel",
      "state": {}
     },
     "7417bb8378464c2e96575b7151ad9b1b": {
      "model_module": "@jupyter-widgets/base",
      "model_module_version": "1.0.0",
      "model_name": "LayoutModel",
      "state": {}
     },
     "744f3806f59b4191888c49abe9774c03": {
      "model_module": "@jupyter-widgets/controls",
      "model_module_version": "1.1.0",
      "model_name": "DropdownModel",
      "state": {
       "_options_labels": [
        "None"
       ],
       "description": "Test Data",
       "index": 0,
       "layout": "IPY_MODEL_7f7887aee0b14549b7daeaafdc302d18",
       "style": "IPY_MODEL_2215a404b2d44410b07698328998bbdb"
      }
     },
     "749fe709eaa3408fb2ecc38c9f04acca": {
      "model_module": "@jupyter-widgets/controls",
      "model_module_version": "1.1.0",
      "model_name": "DescriptionStyleModel",
      "state": {
       "description_width": ""
      }
     },
     "74b5f148940a4ec6bb149e871af2507f": {
      "model_module": "@jupyter-widgets/controls",
      "model_module_version": "1.1.0",
      "model_name": "FloatSliderModel",
      "state": {
       "description": "Accuracy",
       "layout": "IPY_MODEL_49e00487832245549c3dc0619f4b6ead",
       "max": 1,
       "step": 0.05,
       "style": "IPY_MODEL_bbafd3f503304f3f8e64d2c05f72e135",
       "value": 0.8
      }
     },
     "74e903742f3f42cfa2ecf8edd9e2eabd": {
      "model_module": "@jupyter-widgets/base",
      "model_module_version": "1.0.0",
      "model_name": "LayoutModel",
      "state": {}
     },
     "7507c6813b3c444e94b9a2438bc12377": {
      "model_module": "@jupyter-widgets/controls",
      "model_module_version": "1.1.0",
      "model_name": "HBoxModel",
      "state": {
       "children": [
        "IPY_MODEL_2563a5fa314d4922af3925138c2e22cc",
        "IPY_MODEL_b85f486ab1bd4c8aa81c2d7fd913b05c",
        "IPY_MODEL_320e7689bafb4fafa0c6a7484e57d23e"
       ],
       "layout": "IPY_MODEL_33f047a145ef4b278a86d28dfc8d2e30"
      }
     },
     "7508984f3cd641a7a4aafda0485cfa9d": {
      "model_module": "@jupyter-widgets/base",
      "model_module_version": "1.0.0",
      "model_name": "LayoutModel",
      "state": {}
     },
     "751028db0454444cb98eefdd1cbb0dd5": {
      "model_module": "@jupyter-widgets/base",
      "model_module_version": "1.0.0",
      "model_name": "LayoutModel",
      "state": {}
     },
     "753016b02e16439a8c4404059fa4d794": {
      "model_module": "@jupyter-widgets/controls",
      "model_module_version": "1.1.0",
      "model_name": "DropdownModel",
      "state": {
       "_options_labels": [
        "None"
       ],
       "description": "Test Data",
       "index": 0,
       "layout": "IPY_MODEL_1893f18d85834fab8b0dc1a841a49782",
       "style": "IPY_MODEL_986ea51cda11497c8ab764ecb54d182c"
      }
     },
     "75583ebc1bb04fbe878364419ac36765": {
      "model_module": "@jupyter-widgets/controls",
      "model_module_version": "1.1.0",
      "model_name": "ButtonModel",
      "state": {
       "description": "Generate Knowledgepack",
       "icon": "0",
       "layout": "IPY_MODEL_c3accd355535421bbab82022b796cb22",
       "style": "IPY_MODEL_b701af2d7e964df7af3b0628090cdde6"
      }
     },
     "759bff4b6a504cb38fcdd6b9c2f4cf31": {
      "model_module": "@jupyter-widgets/controls",
      "model_module_version": "1.1.0",
      "model_name": "IntSliderModel",
      "state": {
       "description": "population size",
       "layout": "IPY_MODEL_8efe7d029d48475cab9d67f892c5d399",
       "max": 50,
       "min": 10,
       "style": "IPY_MODEL_b068b0e595fb4625a330ec5faa98a363",
       "value": 10
      }
     },
     "759d94edf9f1431bbad8a4e0f2a2ee96": {
      "model_module": "@jupyter-widgets/base",
      "model_module_version": "1.0.0",
      "model_name": "LayoutModel",
      "state": {}
     },
     "759f4f152f33446082c551a3ab5a55ca": {
      "model_module": "@jupyter-widgets/controls",
      "model_module_version": "1.1.0",
      "model_name": "DropdownModel",
      "state": {
       "description": "Name",
       "index": null,
       "layout": "IPY_MODEL_0045857812004569acdd5bf6c335a49b",
       "style": "IPY_MODEL_d0db2a7cd6b74a9e8f366b6b8a89d778"
      }
     },
     "75bf62768ae24c60a9ddc68ee25424a6": {
      "model_module": "@jupyter-widgets/controls",
      "model_module_version": "1.1.0",
      "model_name": "HBoxModel",
      "state": {
       "children": [
        "IPY_MODEL_3a520e8929904770887d230b570dc50a",
        "IPY_MODEL_87ef370ec63f4d4b84fe6b431b7074f9",
        "IPY_MODEL_7f006bb06dcf44bdb17fd0cf7d8ef624"
       ],
       "layout": "IPY_MODEL_40b2fac4129644cbbaf6bc831d61e949"
      }
     },
     "75f0df5edbcd42f98f2be0d94cd14dbe": {
      "model_module": "@jupyter-widgets/base",
      "model_module_version": "1.0.0",
      "model_name": "LayoutModel",
      "state": {}
     },
     "76185380825b47e096a8c6168d6336d7": {
      "model_module": "@jupyter-widgets/base",
      "model_module_version": "1.0.0",
      "model_name": "LayoutModel",
      "state": {}
     },
     "7625d3f593834f69870c264577b8dd75": {
      "model_module": "@jupyter-widgets/base",
      "model_module_version": "1.0.0",
      "model_name": "LayoutModel",
      "state": {}
     },
     "76560d03950d433bbb333df59fe4976e": {
      "model_module": "@jupyter-widgets/base",
      "model_module_version": "1.0.0",
      "model_name": "LayoutModel",
      "state": {}
     },
     "7674f8697cc94ce8b5a8072449d77e79": {
      "model_module": "@jupyter-widgets/base",
      "model_module_version": "1.0.0",
      "model_name": "LayoutModel",
      "state": {}
     },
     "7678a34934c44eae8db54babc4497bf7": {
      "model_module": "@jupyter-widgets/controls",
      "model_module_version": "1.1.0",
      "model_name": "DescriptionStyleModel",
      "state": {
       "description_width": ""
      }
     },
     "7694b2f66555447bba70f509118c7d8a": {
      "model_module": "@jupyter-widgets/controls",
      "model_module_version": "1.1.0",
      "model_name": "CheckboxModel",
      "state": {
       "description": "Reset",
       "disabled": false,
       "layout": "IPY_MODEL_714898f81c354c7abfd0afa6c2b5603d",
       "style": "IPY_MODEL_5cfb0b145a1142b0978afbdadeb04c4e",
       "value": false
      }
     },
     "769e93be64f44c3abeec7723a0e64112": {
      "model_module": "@jupyter-widgets/output",
      "model_module_version": "1.1.0",
      "model_name": "OutputModel",
      "state": {
       "_model_module_version": "1.1.0",
       "_view_module_version": "1.1.0",
       "layout": "IPY_MODEL_51ade9655b114dcc93499d744fcdc64e"
      }
     },
     "76af2cf4674e4c5390cb8a9164fb7712": {
      "model_module": "@jupyter-widgets/base",
      "model_module_version": "1.0.0",
      "model_name": "LayoutModel",
      "state": {
       "align_items": "flex-start",
       "border": "solid 2px",
       "display": "flex",
       "flex_flow": "column",
       "justify_content": "center",
       "overflow": "visible",
       "width": "25%"
      }
     },
     "76bcb6a3495b428f87f5f467b0f06f41": {
      "model_module": "@jupyter-widgets/base",
      "model_module_version": "1.0.0",
      "model_name": "LayoutModel",
      "state": {}
     },
     "76d0bb8360af4514868fb4104c1536a6": {
      "model_module": "@jupyter-widgets/controls",
      "model_module_version": "1.1.0",
      "model_name": "DropdownModel",
      "state": {
       "_options_labels": [
        "100",
        "50",
        "25"
       ],
       "description": "IMU Rate",
       "index": 0,
       "layout": "IPY_MODEL_1e29942b55d544948341f58e3b7f8277",
       "style": "IPY_MODEL_876720b5fe414176a043f05382c4d831"
      }
     },
     "76fa707d25774a2d8a3a9320b9b1dbd8": {
      "model_module": "@jupyter-widgets/controls",
      "model_module_version": "1.1.0",
      "model_name": "VBoxModel",
      "state": {
       "children": [
        "IPY_MODEL_d6256c2f93dd47dbbef347b35a293e74",
        "IPY_MODEL_b1cd8cb0e16545ddbeb526f8ef00edf4",
        "IPY_MODEL_cb6420d218344a7fad5c9c63b448d863",
        "IPY_MODEL_0a78b8241fb146428a6838cb058440a0",
        "IPY_MODEL_cf9bc3dbde6e41aeac9837d6c674a997",
        "IPY_MODEL_3608681887df4f95924cda5154564e6c",
        "IPY_MODEL_e24b0fd9bada48139ed310656d4cbdcb",
        "IPY_MODEL_bf7e2ef46d11401993dd07f44344eb11"
       ],
       "layout": "IPY_MODEL_53628d339fe1494cada7e7e3ae03a991"
      }
     },
     "7709be92afb749f5a1be264a9835bb0f": {
      "model_module": "@jupyter-widgets/controls",
      "model_module_version": "1.1.0",
      "model_name": "DescriptionStyleModel",
      "state": {
       "description_width": ""
      }
     },
     "771443a26fa24fb48323a0f2179af1e4": {
      "model_module": "@jupyter-widgets/controls",
      "model_module_version": "1.1.0",
      "model_name": "ButtonModel",
      "state": {
       "description": "Add Query",
       "layout": "IPY_MODEL_3092547c6027405ca0e55708b12c9ee9",
       "style": "IPY_MODEL_a1d7f01a659d4be6be5b4758b62f648e"
      }
     },
     "776b571be2aa4298a93a618a83298db5": {
      "model_module": "@jupyter-widgets/controls",
      "model_module_version": "1.1.0",
      "model_name": "DropdownModel",
      "state": {
       "description": "Name",
       "index": null,
       "layout": "IPY_MODEL_50c5f2fbc22842589daa6613dac2c25c",
       "style": "IPY_MODEL_2ffad4aa21b344bf9dee41136e9f5ef3"
      }
     },
     "7784b6b5c611479cb97a43b7907b1bae": {
      "model_module": "@jupyter-widgets/base",
      "model_module_version": "1.0.0",
      "model_name": "LayoutModel",
      "state": {}
     },
     "77b4034f75004343beae1b7508fe9a19": {
      "model_module": "@jupyter-widgets/controls",
      "model_module_version": "1.1.0",
      "model_name": "FloatSliderModel",
      "state": {
       "description": "Accuracy",
       "layout": "IPY_MODEL_85638a85eeea4770a125ca3c31f08bbe",
       "max": 1,
       "step": 0.05,
       "style": "IPY_MODEL_0a4827e94ad2451592c41c4ad79f8c47",
       "value": 0.8
      }
     },
     "77c35a8930f64deca70340ba0cc55619": {
      "model_module": "@jupyter-widgets/base",
      "model_module_version": "1.0.0",
      "model_name": "LayoutModel",
      "state": {}
     },
     "781435be91a741eda2c5c902df207ee7": {
      "model_module": "@jupyter-widgets/controls",
      "model_module_version": "1.1.0",
      "model_name": "DropdownModel",
      "state": {
       "_options_labels": [
        "",
        "New Query",
        "What",
        "ABC",
        "All Gestures",
        "Chris Query",
        "Query - ABDEG",
        "Query ABDGE",
        "Marc Segmenter",
        "AB",
        "Query All",
        "DEF",
        "ABCDEF",
        "ABDGFH"
       ],
       "description": "Select Query",
       "index": 0,
       "layout": "IPY_MODEL_e071bfebb7424efaa3630b023d2f53a7",
       "style": "IPY_MODEL_097932b1f17a4814acd7748fad271216"
      }
     },
     "783ecd5b91984ae0ade31c34766f3011": {
      "model_module": "bqplot",
      "model_module_version": "^0.3.2",
      "model_name": "LinearScaleModel",
      "state": {
       "allow_padding": false,
       "max": 1,
       "min": 0,
       "stabilized": false
      }
     },
     "784b5de8633f46acba5c575c618bb3f1": {
      "model_module": "@jupyter-widgets/controls",
      "model_module_version": "1.1.0",
      "model_name": "DescriptionStyleModel",
      "state": {
       "description_width": ""
      }
     },
     "78601aa10ba94d658f9b9398a57e8bfb": {
      "model_module": "@jupyter-widgets/controls",
      "model_module_version": "1.1.0",
      "model_name": "DropdownModel",
      "state": {
       "_options_labels": [
        "Default",
        "Windowing(100)",
        "Windowing(200)",
        "Windowing(250)"
       ],
       "description": "Segmenter",
       "index": 0,
       "layout": "IPY_MODEL_80407f400ef94a0fb4fdd032f8651871",
       "style": "IPY_MODEL_a56e308f80a74f7a8ed75d512f1cbfeb"
      }
     },
     "7872283f2f7e47ffa65d93e925190481": {
      "model_module": "@jupyter-widgets/controls",
      "model_module_version": "1.1.0",
      "model_name": "DescriptionStyleModel",
      "state": {
       "description_width": ""
      }
     },
     "78cc90f648f9488ea16c2c04497d5228": {
      "model_module": "@jupyter-widgets/controls",
      "model_module_version": "1.1.0",
      "model_name": "DescriptionStyleModel",
      "state": {
       "description_width": ""
      }
     },
     "78f418e144ed49d08f04cb013f661ea6": {
      "model_module": "@jupyter-widgets/controls",
      "model_module_version": "1.1.0",
      "model_name": "DescriptionStyleModel",
      "state": {
       "description_width": ""
      }
     },
     "7904145c132d40e9af093b3a6b07d760": {
      "model_module": "qgrid",
      "model_module_version": "1.0.0",
      "model_name": "QgridModel",
      "state": {
       "_columns": {
        "f1_score": {
         "name": "f1_score",
         "position": 4,
         "type": "string"
        },
        "features": {
         "name": "features",
         "position": 3,
         "type": "string"
        },
        "index": {
         "is_index": true,
         "name": "index",
         "position": 0,
         "type": "integer"
        },
        "neurons": {
         "name": "neurons",
         "position": 2,
         "type": "string"
        },
        "qgrid_unfiltered_index": {
         "name": "qgrid_unfiltered_index",
         "position": 1,
         "type": "number"
        }
       },
       "_df_json": "{\"schema\": {\"fields\":[{\"type\":\"integer\",\"name\":\"index\"},{\"type\":\"number\",\"name\":\"qgrid_unfiltered_index\"},{\"type\":\"string\",\"name\":\"neurons\"},{\"type\":\"string\",\"name\":\"features\"},{\"type\":\"string\",\"name\":\"f1_score\"}],\"pandas_version\":\"0.20.0\",\"primaryKey\":[\"index\"]}, \"data\": []}",
       "_df_range": [
        0,
        100
       ],
       "_index_col_name": "qgrid_unfiltered_index",
       "_interval_columns": [],
       "_model_module_version": "1.0.0",
       "_page_size": 100,
       "_row_count": 0,
       "_sort_ascending": true,
       "_sort_field": "",
       "_view_module_version": "1.0.0",
       "grid_options": {
        "autoEdit": false,
        "defaultColumnWidth": 15,
        "editable": false,
        "enableColumnReorder": false,
        "enableTextSelectionOnCells": true,
        "explicitInitialization": true,
        "forceFitColumns": true,
        "fullWidthRows": true,
        "maxVisibleRows": 5,
        "minVisibleRows": 5,
        "rowHeight": 35,
        "syncColumnCellResize": true
       },
       "layout": "IPY_MODEL_90c44a1dfce04d4e8e4b17708a616db3",
       "precision": 5,
       "show_toolbar": false
      }
     },
     "79108e57ee7140f1bc1c47e5cdb43bb7": {
      "model_module": "@jupyter-widgets/controls",
      "model_module_version": "1.1.0",
      "model_name": "HBoxModel",
      "state": {
       "children": [
        "IPY_MODEL_44a81eb7b40547b7a5c98ddd992e1c76",
        "IPY_MODEL_18e3b91805da47de954595eb216af372",
        "IPY_MODEL_a35e9b92ed974338a13e11e6efc44fa6"
       ],
       "layout": "IPY_MODEL_6d455e61e69043338c2543689de65e54"
      }
     },
     "793b20e392a54f749a3c7280cbaa4628": {
      "model_module": "@jupyter-widgets/controls",
      "model_module_version": "1.1.0",
      "model_name": "SelectMultipleModel",
      "state": {
       "_options_labels": [
        "ble",
        "led",
        "serial"
       ],
       "description": "Output",
       "index": [
        0
       ],
       "layout": "IPY_MODEL_1fa87dbba8864d1a8e0ab0c4d1496c71",
       "rows": 5,
       "style": "IPY_MODEL_536b60c134c14ee5933d363b9af79a90"
      }
     },
     "794f9b7e1b8c455280162c355829f4a1": {
      "model_module": "@jupyter-widgets/controls",
      "model_module_version": "1.1.0",
      "model_name": "VBoxModel",
      "state": {
       "children": [
        "IPY_MODEL_5577be90be704080bf5f9f82d3b1df56",
        "IPY_MODEL_a7c1e49699a3436dbbea04f66c0c3673",
        "IPY_MODEL_452ebc0be8a94e7cb6e4d2937dfd9e01"
       ],
       "layout": "IPY_MODEL_fe28b16767aa4a58b65b5ffbe13845c3"
      }
     },
     "795529fd9244482e8af88e6a3b3833fa": {
      "model_module": "@jupyter-widgets/base",
      "model_module_version": "1.0.0",
      "model_name": "LayoutModel",
      "state": {}
     },
     "796b0cec99a44ebb8e0ce9fc1ba9f298": {
      "model_module": "@jupyter-widgets/controls",
      "model_module_version": "1.1.0",
      "model_name": "DescriptionStyleModel",
      "state": {
       "description_width": ""
      }
     },
     "797ffd6963c542349041cbce2ff7ee70": {
      "model_module": "@jupyter-widgets/controls",
      "model_module_version": "1.1.0",
      "model_name": "ButtonStyleModel",
      "state": {}
     },
     "7991c174ce77492d891dbe9c506d0327": {
      "model_module": "@jupyter-widgets/controls",
      "model_module_version": "1.1.0",
      "model_name": "TextareaModel",
      "state": {
       "description": "Seed Description",
       "layout": "IPY_MODEL_d1360ec9a54c4e5ba0a2804657170c45",
       "style": "IPY_MODEL_8de0269f6221445b975cd2406b15ac47"
      }
     },
     "7993100e8d2d40758af1d71b6931adad": {
      "model_module": "@jupyter-widgets/base",
      "model_module_version": "1.0.0",
      "model_name": "LayoutModel",
      "state": {}
     },
     "799a55b2c9964eaa935922d3c581202d": {
      "model_module": "@jupyter-widgets/controls",
      "model_module_version": "1.1.0",
      "model_name": "DescriptionStyleModel",
      "state": {
       "description_width": ""
      }
     },
     "79ad72dd4d7043bea37e8e50f719c687": {
      "model_module": "@jupyter-widgets/base",
      "model_module_version": "1.0.0",
      "model_name": "LayoutModel",
      "state": {}
     },
     "79b95db848684605ba4f9fa2b360b783": {
      "model_module": "@jupyter-widgets/controls",
      "model_module_version": "1.1.0",
      "model_name": "DescriptionStyleModel",
      "state": {
       "description_width": ""
      }
     },
     "79bc070b11fc4eed865448d5e8c1ecb4": {
      "model_module": "@jupyter-widgets/controls",
      "model_module_version": "1.1.0",
      "model_name": "SliderStyleModel",
      "state": {
       "description_width": ""
      }
     },
     "79c94d2ed29843a29c04f5c29872a5f8": {
      "model_module": "@jupyter-widgets/controls",
      "model_module_version": "1.1.0",
      "model_name": "VBoxModel",
      "state": {
       "children": [
        "IPY_MODEL_3c89947bb83d47b9a7a5f5c7c80c73ad",
        "IPY_MODEL_11c40f2a3c9749589a492b3a960810e3",
        "IPY_MODEL_c13b0ce6f5f34447bea69841393f4b83"
       ],
       "layout": "IPY_MODEL_495dc18845d64e94ba59f54833f61538"
      }
     },
     "79d15522b3204a8481c608d518498e98": {
      "model_module": "@jupyter-widgets/controls",
      "model_module_version": "1.1.0",
      "model_name": "HBoxModel",
      "state": {
       "children": [
        "IPY_MODEL_fd60b3ce77324784b13e451c302a6b8d",
        "IPY_MODEL_7251b6e19e264d07bc383a0b4a06a3a0"
       ],
       "layout": "IPY_MODEL_a0342d2e6c0345f0aa8da8af091900b6"
      }
     },
     "7a2014b21d3941168b68d3a2c4fc2f68": {
      "model_module": "bqplot",
      "model_module_version": "^0.3.2",
      "model_name": "BarsModel",
      "state": {
       "color": {
        "type": null,
        "values": null
       },
       "color_mode": "group",
       "colors": [
        "steelblue"
       ],
       "display_legend": false,
       "scales": {
        "x": "IPY_MODEL_defa59428bdc4642b69d5ff1527fe111",
        "y": "IPY_MODEL_58a0f71f706e41bfa97567fdea9bfffa"
       },
       "selected": [],
       "x": {
        "type": "<U1",
        "values": [
         "A",
         "B"
        ]
       },
       "y": {
        "type": "float",
        "values": [
         20,
         24
        ]
       }
      }
     },
     "7a2678072bd04f0ca7802f37eb56afa4": {
      "model_module": "@jupyter-widgets/controls",
      "model_module_version": "1.1.0",
      "model_name": "DropdownModel",
      "state": {
       "_options_labels": [
        "",
        "New Query",
        "What",
        "ABC",
        "All Gestures",
        "Chris Query",
        "Query - ABDEG",
        "Query ABDGE",
        "Marc Segmenter",
        "AB",
        "Query All",
        "DEF",
        "ABCDEF",
        "ABDGFH"
       ],
       "description": "Select Query",
       "index": 12,
       "layout": "IPY_MODEL_3f59cb54c0494abc97fd8aaa9fc05cdc",
       "style": "IPY_MODEL_d123618545a04fe986f7af7e7eeec1c1"
      }
     },
     "7a2dc2179d264eeb84d13d063606e7d2": {
      "model_module": "@jupyter-widgets/controls",
      "model_module_version": "1.1.0",
      "model_name": "DropdownModel",
      "state": {
       "description": "Select Query",
       "index": null,
       "layout": "IPY_MODEL_edd9f25745244a8fbe50f412cd572213",
       "style": "IPY_MODEL_364c1dfc41a94872acef6145fa81d03c"
      }
     },
     "7a47370809c342afa4e9a3cc1c21d937": {
      "model_module": "@jupyter-widgets/base",
      "model_module_version": "1.0.0",
      "model_name": "LayoutModel",
      "state": {}
     },
     "7a6cc863457d492db9dbb72b890ad640": {
      "model_module": "@jupyter-widgets/base",
      "model_module_version": "1.0.0",
      "model_name": "LayoutModel",
      "state": {
       "align_items": "stretch",
       "border": "solid 2px",
       "display": "flex",
       "flex_flow": "row",
       "width": "50%"
      }
     },
     "7a7a23cdb8fc43a2a1513132105fa1ed": {
      "model_module": "@jupyter-widgets/controls",
      "model_module_version": "1.1.0",
      "model_name": "DropdownModel",
      "state": {
       "_options_labels": [
        "",
        "Parameter Optimization Tutorial",
        "outlier_remove",
        "Training Demo",
        "MHEAudio",
        "ChristTest2",
        "Video Project",
        "LargeData",
        "motor_vibration",
        "Activity Demo",
        "SensiML Gestures Demo",
        "hereo",
        "OptimizePara_UsingGrid",
        "DogData",
        "Gesture_data_demo",
        "ChrisGestureProject",
        "PunchPunch",
        "Voyager Demo",
        "PunchDemo",
        "A Marc Project",
        "Virginia",
        "MyProject",
        "Cursive",
        "MotorVibration",
        "Seven Peaks Demo",
        "Customer End to End Demo",
        "MotorVibrationSmall",
        "CustomerE2E",
        "motor_vibration_2",
        "Harry Potter Project",
        "Gesture Demo",
        "SensiML Gestures"
       ],
       "description": "Select Project",
       "index": 31,
       "layout": "IPY_MODEL_294baacd86544161af0395aa2c282c04",
       "style": "IPY_MODEL_6ceacd5d65534409a134c785ebc628c6"
      }
     },
     "7a96641b6b5a4e0e95cc2aa7871a82a1": {
      "model_module": "@jupyter-widgets/base",
      "model_module_version": "1.0.0",
      "model_name": "LayoutModel",
      "state": {
       "display": "flex",
       "flex_flow": "row",
       "justify_content": "flex-end"
      }
     },
     "7a9ad577b8f54de686167af8fb156f0e": {
      "model_module": "@jupyter-widgets/controls",
      "model_module_version": "1.1.0",
      "model_name": "DescriptionStyleModel",
      "state": {
       "description_width": ""
      }
     },
     "7a9b803361ad4a939005b8d4185db7f6": {
      "model_module": "@jupyter-widgets/base",
      "model_module_version": "1.0.0",
      "model_name": "LayoutModel",
      "state": {}
     },
     "7ac1b1fa78694516b0ebc25983930307": {
      "model_module": "@jupyter-widgets/controls",
      "model_module_version": "1.1.0",
      "model_name": "SliderStyleModel",
      "state": {
       "description_width": ""
      }
     },
     "7adc3f1269524809876292195ac0b436": {
      "model_module": "@jupyter-widgets/controls",
      "model_module_version": "1.1.0",
      "model_name": "ButtonModel",
      "state": {
       "description": "Add Query",
       "layout": "IPY_MODEL_ce5101f34c584f3f9798fe04892edaa5",
       "style": "IPY_MODEL_797ffd6963c542349041cbce2ff7ee70"
      }
     },
     "7b576e901a34428a9fdcbc7cfa67d4bf": {
      "model_module": "@jupyter-widgets/controls",
      "model_module_version": "1.1.0",
      "model_name": "DropdownModel",
      "state": {
       "_options_labels": [
        "Default",
        "Windowing(100)",
        "Windowing(200)",
        "Windowing(250)"
       ],
       "description": "Segmenter",
       "index": 0,
       "layout": "IPY_MODEL_80489e3ff533483897ec8992d4821de8",
       "style": "IPY_MODEL_0a3434662054489891e82b0bedcab1a3"
      }
     },
     "7b690d9a7f1d45ecbfcca9458fbc18bd": {
      "model_module": "@jupyter-widgets/base",
      "model_module_version": "1.0.0",
      "model_name": "LayoutModel",
      "state": {
       "width": "300px"
      }
     },
     "7b7ffdd329d141348ed834f91beeabdf": {
      "model_module": "@jupyter-widgets/controls",
      "model_module_version": "1.1.0",
      "model_name": "LabelModel",
      "state": {
       "layout": "IPY_MODEL_dccc5eed80274a6ea575cbad7e905dc0",
       "style": "IPY_MODEL_1e2b733745894836b9965095d7dd794a",
       "value": "Download Settings"
      }
     },
     "7bb98e568b3948ee86401bec0f166495": {
      "model_module": "@jupyter-widgets/base",
      "model_module_version": "1.0.0",
      "model_name": "LayoutModel",
      "state": {}
     },
     "7bfd4a4992474d518a6e9ae323ac4758": {
      "model_module": "@jupyter-widgets/controls",
      "model_module_version": "1.1.0",
      "model_name": "VBoxModel",
      "state": {
       "children": [
        "IPY_MODEL_0bdf50a7163f47ff8b1c0ef3391a1870",
        "IPY_MODEL_1ca030b25dd244428cd7c8e2af8e5ba8"
       ],
       "layout": "IPY_MODEL_54e2f70ea91f4b8d9cf63d389955e680"
      }
     },
     "7c224d40cf3f4261b744c4fa09089351": {
      "model_module": "@jupyter-widgets/base",
      "model_module_version": "1.0.0",
      "model_name": "LayoutModel",
      "state": {
       "border": "solid 2px",
       "display": "flex",
       "flex_flow": "row",
       "justify_content": "space-between",
       "overflow": "visible"
      }
     },
     "7c2e71be7f7745fd86e2b5987ab35a1c": {
      "model_module": "@jupyter-widgets/controls",
      "model_module_version": "1.1.0",
      "model_name": "ButtonStyleModel",
      "state": {}
     },
     "7c571398487144d3a6ccc6f8e3d12c8e": {
      "model_module": "@jupyter-widgets/controls",
      "model_module_version": "1.1.0",
      "model_name": "SelectMultipleModel",
      "state": {
       "_options_labels": [
        "ble",
        "led",
        "serial"
       ],
       "description": "Output",
       "index": [],
       "layout": "IPY_MODEL_c29b235bb4eb41ab8f387f7389d13998",
       "rows": 5,
       "style": "IPY_MODEL_3bcbe4e053654c5c89a272b77bac9493"
      }
     },
     "7c8749a752ad4e60a69a1a520f4d7d08": {
      "model_module": "@jupyter-widgets/base",
      "model_module_version": "1.0.0",
      "model_name": "LayoutModel",
      "state": {}
     },
     "7caa06ac487646b78bb9f70db3f262dc": {
      "model_module": "@jupyter-widgets/controls",
      "model_module_version": "1.1.0",
      "model_name": "SliderStyleModel",
      "state": {
       "description_width": ""
      }
     },
     "7cd0176f6b904ca182ca235081f8ac62": {
      "model_module": "@jupyter-widgets/controls",
      "model_module_version": "1.1.0",
      "model_name": "SliderStyleModel",
      "state": {
       "description_width": ""
      }
     },
     "7cf16532ddab4153901979affbaaff70": {
      "model_module": "@jupyter-widgets/controls",
      "model_module_version": "1.1.0",
      "model_name": "VBoxModel",
      "state": {
       "children": [
        "IPY_MODEL_c068582840554b4f8f5093a58d35aef8",
        "IPY_MODEL_2880d1b278b1450690735b4e6b1a2c7f"
       ],
       "layout": "IPY_MODEL_67e9861e8b1c4a2c9a04e0fd66edbe4d"
      }
     },
     "7d10c173b9b24027b2e601edafeebe4f": {
      "model_module": "@jupyter-widgets/controls",
      "model_module_version": "1.1.0",
      "model_name": "DescriptionStyleModel",
      "state": {
       "description_width": ""
      }
     },
     "7d1cdd8b0333470981ac087d5ab8fe2a": {
      "model_module": "@jupyter-widgets/controls",
      "model_module_version": "1.1.0",
      "model_name": "VBoxModel",
      "state": {
       "children": [
        "IPY_MODEL_7a2678072bd04f0ca7802f37eb56afa4",
        "IPY_MODEL_ece91aaf352e4db0a0fd165f74e994ad",
        "IPY_MODEL_e772a7b1fe924a148a4bf9d4b6d05fc9",
        "IPY_MODEL_96096d094ae8435e83d7592a11cdc8c9",
        "IPY_MODEL_32a915a0d9164600abb1cfbb5d33c24e",
        "IPY_MODEL_19359a09c8be4f079dd669e9c7005ded",
        "IPY_MODEL_ae8acd6bf8b74cf5bd5603a4436baf09",
        "IPY_MODEL_893b791a185941ad9cb54ab169722635"
       ],
       "layout": "IPY_MODEL_f10fd1c989994c0b9458a3823e552f09"
      }
     },
     "7d2fa30bb6ac4ae1988d539ff902b047": {
      "model_module": "@jupyter-widgets/base",
      "model_module_version": "1.0.0",
      "model_name": "LayoutModel",
      "state": {}
     },
     "7d89c8850300455abe024331f11dc648": {
      "model_module": "@jupyter-widgets/controls",
      "model_module_version": "1.1.0",
      "model_name": "DropdownModel",
      "state": {
       "description": "Select Query",
       "index": null,
       "layout": "IPY_MODEL_0aa5000b655e4b8c983991294b65a63e",
       "style": "IPY_MODEL_3de86a5979904bd1975b846c10549d6e"
      }
     },
     "7d9949c77798419f9a6fa4e90364623b": {
      "model_module": "@jupyter-widgets/controls",
      "model_module_version": "1.1.0",
      "model_name": "DescriptionStyleModel",
      "state": {
       "description_width": ""
      }
     },
     "7dd628121043463f9c4c9f4c2a3fd9b8": {
      "model_module": "@jupyter-widgets/base",
      "model_module_version": "1.0.0",
      "model_name": "LayoutModel",
      "state": {
       "border": "solid 2px",
       "display": "flex",
       "flex_flow": "row",
       "justify_content": "center",
       "overflow": "visible"
      }
     },
     "7de60b731ce44fb583c57b1b8e656165": {
      "model_module": "@jupyter-widgets/base",
      "model_module_version": "1.0.0",
      "model_name": "LayoutModel",
      "state": {
       "display": "flex",
       "flex_flow": "row",
       "justify_content": "flex-end"
      }
     },
     "7debc3948c6b4c52ac7a8ca09dcb010b": {
      "model_module": "@jupyter-widgets/base",
      "model_module_version": "1.0.0",
      "model_name": "LayoutModel",
      "state": {}
     },
     "7df5ab1269b94c77b57485e803596de9": {
      "model_module": "@jupyter-widgets/controls",
      "model_module_version": "1.1.0",
      "model_name": "DescriptionStyleModel",
      "state": {
       "description_width": ""
      }
     },
     "7e3b8b4922e9480eba531d111b47ee55": {
      "model_module": "@jupyter-widgets/controls",
      "model_module_version": "1.1.0",
      "model_name": "DescriptionStyleModel",
      "state": {
       "description_width": ""
      }
     },
     "7e426a08667f454a87785a314c600d83": {
      "model_module": "@jupyter-widgets/controls",
      "model_module_version": "1.1.0",
      "model_name": "DropdownModel",
      "state": {
       "_options_labels": [
        "",
        "Parameter Optimization Tutorial",
        "outlier_remove",
        "Training Demo",
        "MHEAudio",
        "ChristTest2",
        "Video Project",
        "LargeData",
        "motor_vibration",
        "Activity Demo",
        "SensiML Gestures Demo",
        "hereo",
        "OptimizePara_UsingGrid",
        "DogData",
        "Gesture_data_demo",
        "ChrisGestureProject",
        "PunchPunch",
        "Voyager Demo",
        "PunchDemo",
        "A Marc Project",
        "Virginia",
        "MyProject",
        "Cursive",
        "MotorVibration",
        "Seven Peaks Demo",
        "Customer End to End Demo",
        "MotorVibrationSmall",
        "CustomerE2E",
        "motor_vibration_2",
        "Harry Potter Project",
        "Gesture Demo",
        "SensiML Gestures"
       ],
       "description": "Select Project",
       "index": 31,
       "layout": "IPY_MODEL_59f729b01cc549b0acba77a4aab27974",
       "style": "IPY_MODEL_535879d705d04421b1c3874a5d864961"
      }
     },
     "7e503c2907e34225a68955a8ce04a911": {
      "model_module": "@jupyter-widgets/base",
      "model_module_version": "1.0.0",
      "model_name": "LayoutModel",
      "state": {}
     },
     "7e72d7b8e5764ac19a00d03313bb8b82": {
      "model_module": "@jupyter-widgets/controls",
      "model_module_version": "1.1.0",
      "model_name": "DropdownModel",
      "state": {
       "_options_labels": [
        "Advanced Features",
        "Basic Features",
        "Custom",
        "Downsampled Features",
        "Histogram Features",
        "No Feature Generation"
       ],
       "description": "Name",
       "index": 1,
       "layout": "IPY_MODEL_1aa943cc2aad46df924a92edb5eaa621",
       "style": "IPY_MODEL_a1a3c6d2162b48f3adbfdf49d69f2ffb"
      }
     },
     "7eb47375419c403a953bedde599e2227": {
      "model_module": "@jupyter-widgets/controls",
      "model_module_version": "1.1.0",
      "model_name": "IntSliderModel",
      "state": {
       "description": "population size",
       "layout": "IPY_MODEL_e2b47b3e146047348e8bccf6bb557674",
       "max": 50,
       "min": 10,
       "style": "IPY_MODEL_abe6271bf17c41cdabf8f704c9562e66",
       "value": 10
      }
     },
     "7eb6ef0a0a6546f5a36de4d4360be77f": {
      "model_module": "@jupyter-widgets/controls",
      "model_module_version": "1.1.0",
      "model_name": "DescriptionStyleModel",
      "state": {
       "description_width": ""
      }
     },
     "7ec13f6d22be402eb570116b85837148": {
      "model_module": "@jupyter-widgets/controls",
      "model_module_version": "1.1.0",
      "model_name": "VBoxModel",
      "state": {
       "children": [
        "IPY_MODEL_607d271bf22e437e8a53bbf2ff87ce55",
        "IPY_MODEL_54e74ce2a0f84a25af4cdd32702ea4bd"
       ],
       "layout": "IPY_MODEL_b14d565b702e47208c81120494a91017"
      }
     },
     "7eee0f5aab9f48809f1b2c722dccb32b": {
      "model_module": "@jupyter-widgets/controls",
      "model_module_version": "1.1.0",
      "model_name": "TextareaModel",
      "state": {
       "description": "Seed Description",
       "layout": "IPY_MODEL_d7bdd3d072cc41f297434fe8095ae1ca",
       "style": "IPY_MODEL_3187cb04b3f4428f8577e3bb4b32fe51",
       "value": "Generates a comprehensive set of features using statistical, energy,\namplitude, shape, time, and rate of change feature generators. The seed\nthen performs feature selection and model generation algorithms with\na genetic algorithm to optimize pipeline parameters."
      }
     },
     "7efa7d516bd143759f93b48a08167e93": {
      "model_module": "@jupyter-widgets/base",
      "model_module_version": "1.0.0",
      "model_name": "LayoutModel",
      "state": {}
     },
     "7f006bb06dcf44bdb17fd0cf7d8ef624": {
      "model_module": "@jupyter-widgets/controls",
      "model_module_version": "1.1.0",
      "model_name": "VBoxModel",
      "state": {
       "children": [
        "IPY_MODEL_1c272e0f351142e08fa748af94f171b0",
        "IPY_MODEL_12dec654e58549fbb21b0c1462edb708"
       ],
       "layout": "IPY_MODEL_5e4920cff31d4318b3ae91c2b8f9184b"
      }
     },
     "7f622d4408fc4131808275810a8e3b67": {
      "model_module": "@jupyter-widgets/base",
      "model_module_version": "1.0.0",
      "model_name": "LayoutModel",
      "state": {}
     },
     "7f7887aee0b14549b7daeaafdc302d18": {
      "model_module": "@jupyter-widgets/base",
      "model_module_version": "1.0.0",
      "model_name": "LayoutModel",
      "state": {}
     },
     "7fbaa75d949e4e14988a30d1427fa4a5": {
      "model_module": "@jupyter-widgets/controls",
      "model_module_version": "1.1.0",
      "model_name": "DropdownModel",
      "state": {
       "_options_labels": [
        "Binary",
        "Library"
       ],
       "description": "Download",
       "index": 0,
       "layout": "IPY_MODEL_b2f7feabe10f489ca478cd6b49e3dbc0",
       "style": "IPY_MODEL_5649a18e9f384b9faa1f07fa12b562da"
      }
     },
     "800538d4a8eb48e5aa78ec97516e4f20": {
      "model_module": "@jupyter-widgets/controls",
      "model_module_version": "1.1.0",
      "model_name": "DescriptionStyleModel",
      "state": {
       "description_width": ""
      }
     },
     "800e73809f874f9693cfea3d671c5c01": {
      "model_module": "@jupyter-widgets/controls",
      "model_module_version": "1.1.0",
      "model_name": "FloatSliderModel",
      "state": {
       "description": "Sensitivity",
       "layout": "IPY_MODEL_572a41b5dc914592a88366db421844e2",
       "max": 1,
       "step": 0.05,
       "style": "IPY_MODEL_eab4c1ed9f694e4bb203a3abdbaa0fd3",
       "value": 0.8
      }
     },
     "803381b0e0fb4deeb843626754d66f24": {
      "model_module": "@jupyter-widgets/controls",
      "model_module_version": "1.1.0",
      "model_name": "DescriptionStyleModel",
      "state": {
       "description_width": ""
      }
     },
     "80407f400ef94a0fb4fdd032f8651871": {
      "model_module": "@jupyter-widgets/base",
      "model_module_version": "1.0.0",
      "model_name": "LayoutModel",
      "state": {}
     },
     "80489e3ff533483897ec8992d4821de8": {
      "model_module": "@jupyter-widgets/base",
      "model_module_version": "1.0.0",
      "model_name": "LayoutModel",
      "state": {}
     },
     "8057c698119f4ae4ae3649e50d2d6da7": {
      "model_module": "@jupyter-widgets/controls",
      "model_module_version": "1.1.0",
      "model_name": "ButtonModel",
      "state": {
       "description": "Generate Knowledgepack",
       "icon": "0",
       "layout": "IPY_MODEL_d18adf85231b4f9b9da32e8ce78d053f",
       "style": "IPY_MODEL_faac1db37355405bbd15d052003c08f8"
      }
     },
     "805cf4fdadd548ce82a58c568aad2fcd": {
      "model_module": "@jupyter-widgets/base",
      "model_module_version": "1.0.0",
      "model_name": "LayoutModel",
      "state": {}
     },
     "80aade7cac2a4563ace86dc991cf1c61": {
      "model_module": "@jupyter-widgets/base",
      "model_module_version": "1.0.0",
      "model_name": "LayoutModel",
      "state": {}
     },
     "80ca52aeead2442e99ed3c4a94861627": {
      "model_module": "@jupyter-widgets/controls",
      "model_module_version": "1.1.0",
      "model_name": "DescriptionStyleModel",
      "state": {
       "description_width": ""
      }
     },
     "812431236b7f4014ab3a826359613496": {
      "model_module": "@jupyter-widgets/controls",
      "model_module_version": "1.1.0",
      "model_name": "DescriptionStyleModel",
      "state": {
       "description_width": ""
      }
     },
     "8174252f9fb141d2ae4cec1ccc4f09a4": {
      "model_module": "@jupyter-widgets/controls",
      "model_module_version": "1.1.0",
      "model_name": "DescriptionStyleModel",
      "state": {
       "description_width": ""
      }
     },
     "8177656775d742dfb4608d26384a1719": {
      "model_module": "@jupyter-widgets/base",
      "model_module_version": "1.0.0",
      "model_name": "LayoutModel",
      "state": {}
     },
     "8197479091954d5994ec6df5015ce3a8": {
      "model_module": "@jupyter-widgets/controls",
      "model_module_version": "1.1.0",
      "model_name": "DescriptionStyleModel",
      "state": {
       "description_width": ""
      }
     },
     "81cbcdbf23dc4ec5800b03b9addf531e": {
      "model_module": "@jupyter-widgets/base",
      "model_module_version": "1.0.0",
      "model_name": "LayoutModel",
      "state": {
       "visibility": "visible"
      }
     },
     "81dd752996ab4d1da3f3658c222c9694": {
      "model_module": "@jupyter-widgets/controls",
      "model_module_version": "1.1.0",
      "model_name": "VBoxModel",
      "state": {
       "children": [
        "IPY_MODEL_41b7ad38c58d477f8d6501d2a7d5f266",
        "IPY_MODEL_273bd1b2b6784285a1124ba8020c5043",
        "IPY_MODEL_a7ee325540984268836fc99a7556431a"
       ],
       "layout": "IPY_MODEL_36cda0178f214ae3b121bdad81d2688b"
      }
     },
     "81ea55141382467d8a3c0af60ae06e4c": {
      "model_module": "@jupyter-widgets/base",
      "model_module_version": "1.0.0",
      "model_name": "LayoutModel",
      "state": {}
     },
     "8218e4a1d9a348e2891017f9a866f20f": {
      "model_module": "@jupyter-widgets/controls",
      "model_module_version": "1.1.0",
      "model_name": "DescriptionStyleModel",
      "state": {
       "description_width": ""
      }
     },
     "8233cfd6367e4efe95a89afde8d3f6ed": {
      "model_module": "@jupyter-widgets/base",
      "model_module_version": "1.0.0",
      "model_name": "LayoutModel",
      "state": {
       "border": "solid 2px",
       "display": "flex",
       "flex_flow": "row",
       "justify_content": "center",
       "overflow": "visible"
      }
     },
     "8242d49ce10f4e74ada1ebdb5688c41e": {
      "model_module": "@jupyter-widgets/controls",
      "model_module_version": "1.1.0",
      "model_name": "DescriptionStyleModel",
      "state": {
       "description_width": ""
      }
     },
     "824b8f525c9b4ffb9bbcf8c0192810fc": {
      "model_module": "@jupyter-widgets/base",
      "model_module_version": "1.0.0",
      "model_name": "LayoutModel",
      "state": {}
     },
     "824e08fd31a2454682a88b476275e379": {
      "model_module": "@jupyter-widgets/base",
      "model_module_version": "1.0.0",
      "model_name": "LayoutModel",
      "state": {}
     },
     "82538d07fe904c7ab36c035e6f43eba9": {
      "model_module": "@jupyter-widgets/base",
      "model_module_version": "1.0.0",
      "model_name": "LayoutModel",
      "state": {
       "align_items": "stretch",
       "border": "solid 2px",
       "display": "flex",
       "flex_flow": "row",
       "width": "50%"
      }
     },
     "8255791de0694df4a88e43539d192e6a": {
      "model_module": "@jupyter-widgets/base",
      "model_module_version": "1.0.0",
      "model_name": "LayoutModel",
      "state": {}
     },
     "825b1c13407f4a88b4d74006f3ab154a": {
      "model_module": "@jupyter-widgets/controls",
      "model_module_version": "1.1.0",
      "model_name": "HBoxModel",
      "state": {
       "children": [
        "IPY_MODEL_6da7ce2ef85b41209c1707f8db125e10",
        "IPY_MODEL_12b8360a45114279bde34025c829d124",
        "IPY_MODEL_75583ebc1bb04fbe878364419ac36765"
       ],
       "layout": "IPY_MODEL_1022076798ba461286c3d049897d4556"
      }
     },
     "82a1151536b34011888dbc8710ccfc80": {
      "model_module": "@jupyter-widgets/base",
      "model_module_version": "1.0.0",
      "model_name": "LayoutModel",
      "state": {}
     },
     "82b9199bc0b14e49a25f7f50d00d864a": {
      "model_module": "bqplot",
      "model_module_version": "^0.3.2",
      "model_name": "LinearScaleModel",
      "state": {
       "min": 0,
       "stabilized": false
      }
     },
     "82cbde1f77e4418091887479a981fbac": {
      "model_module": "@jupyter-widgets/controls",
      "model_module_version": "1.1.0",
      "model_name": "DescriptionStyleModel",
      "state": {
       "description_width": ""
      }
     },
     "82ee7712269846b8b0343e72dc30a4d4": {
      "model_module": "@jupyter-widgets/controls",
      "model_module_version": "1.1.0",
      "model_name": "TextareaModel",
      "state": {
       "description": "Seed Description",
       "layout": "IPY_MODEL_10627122f2e043058d3f8b57a11bcc0a",
       "style": "IPY_MODEL_6e8f2775a85d4a8bb5a86c9ad6694e22"
      }
     },
     "8349a7aa14114dfda6ef43132bd58a84": {
      "model_module": "@jupyter-widgets/base",
      "model_module_version": "1.0.0",
      "model_name": "LayoutModel",
      "state": {}
     },
     "838bf42adbb44339b2dfaab38d0eb7b0": {
      "model_module": "@jupyter-widgets/base",
      "model_module_version": "1.0.0",
      "model_name": "LayoutModel",
      "state": {}
     },
     "83ae1c6c92774fc4885cba4d15f8f968": {
      "model_module": "@jupyter-widgets/base",
      "model_module_version": "1.0.0",
      "model_name": "LayoutModel",
      "state": {}
     },
     "83d9d3c49bb04d0d874b2e9a1a9b04e6": {
      "model_module": "@jupyter-widgets/base",
      "model_module_version": "1.0.0",
      "model_name": "LayoutModel",
      "state": {
       "visibility": "visible"
      }
     },
     "83dfc2c44ead4081883595586299ccfa": {
      "model_module": "@jupyter-widgets/base",
      "model_module_version": "1.0.0",
      "model_name": "LayoutModel",
      "state": {}
     },
     "83f0c7af37914acd9939ed4b425844a4": {
      "model_module": "@jupyter-widgets/controls",
      "model_module_version": "1.1.0",
      "model_name": "DescriptionStyleModel",
      "state": {
       "description_width": ""
      }
     },
     "8437a61ba7ad47ae9c8d338c4dfe2d42": {
      "model_module": "@jupyter-widgets/controls",
      "model_module_version": "1.1.0",
      "model_name": "DescriptionStyleModel",
      "state": {
       "description_width": ""
      }
     },
     "8467a02b7f2c4d228b263ccdb616e07c": {
      "model_module": "@jupyter-widgets/controls",
      "model_module_version": "1.1.0",
      "model_name": "ButtonStyleModel",
      "state": {}
     },
     "84ca17855ee64c1b952a137f274e0e74": {
      "model_module": "@jupyter-widgets/base",
      "model_module_version": "1.0.0",
      "model_name": "LayoutModel",
      "state": {}
     },
     "84fed7d1f86045068bb3fce509092e89": {
      "model_module": "qgrid",
      "model_module_version": "1.0.0",
      "model_name": "QgridModel",
      "state": {
       "_columns": {
        "f1_score": {
         "name": "f1_score",
         "position": 4,
         "type": "string"
        },
        "features": {
         "name": "features",
         "position": 3,
         "type": "string"
        },
        "index": {
         "is_index": true,
         "name": "index",
         "position": 0,
         "type": "integer"
        },
        "neurons": {
         "name": "neurons",
         "position": 2,
         "type": "string"
        },
        "qgrid_unfiltered_index": {
         "name": "qgrid_unfiltered_index",
         "position": 1,
         "type": "number"
        }
       },
       "_df_json": "{\"schema\": {\"fields\":[{\"type\":\"integer\",\"name\":\"index\"},{\"type\":\"number\",\"name\":\"qgrid_unfiltered_index\"},{\"type\":\"string\",\"name\":\"neurons\"},{\"type\":\"string\",\"name\":\"features\"},{\"type\":\"string\",\"name\":\"f1_score\"}],\"pandas_version\":\"0.20.0\",\"primaryKey\":[\"index\"]}, \"data\": []}",
       "_df_range": [
        0,
        100
       ],
       "_index_col_name": "qgrid_unfiltered_index",
       "_interval_columns": [],
       "_model_module_version": "1.0.0",
       "_page_size": 100,
       "_row_count": 0,
       "_sort_ascending": true,
       "_sort_field": "",
       "_view_module_version": "1.0.0",
       "grid_options": {
        "autoEdit": false,
        "defaultColumnWidth": 15,
        "editable": false,
        "enableColumnReorder": false,
        "enableTextSelectionOnCells": true,
        "explicitInitialization": true,
        "forceFitColumns": true,
        "fullWidthRows": true,
        "maxVisibleRows": 5,
        "minVisibleRows": 5,
        "rowHeight": 35,
        "syncColumnCellResize": true
       },
       "layout": "IPY_MODEL_153373878c4d42b0844bedb341dd8126",
       "precision": 5,
       "show_toolbar": false
      }
     },
     "853da7e87fb446fca6551e5def51ec2c": {
      "model_module": "@jupyter-widgets/controls",
      "model_module_version": "1.1.0",
      "model_name": "DescriptionStyleModel",
      "state": {
       "description_width": ""
      }
     },
     "85638a85eeea4770a125ca3c31f08bbe": {
      "model_module": "@jupyter-widgets/base",
      "model_module_version": "1.0.0",
      "model_name": "LayoutModel",
      "state": {}
     },
     "859f5bc7f6fb49228070034f40ec2130": {
      "model_module": "@jupyter-widgets/controls",
      "model_module_version": "1.1.0",
      "model_name": "AccordionModel",
      "state": {
       "_titles": {
        "0": "AutoSense Pipeline"
       },
       "children": [
        "IPY_MODEL_534e49215ace45ab86a874a78190f90f"
       ],
       "layout": "IPY_MODEL_34db22f1fe744c2e8756f93c6b27bfac"
      }
     },
     "85a088dd7b884640ac696c35905eb5d7": {
      "model_module": "@jupyter-widgets/controls",
      "model_module_version": "1.1.0",
      "model_name": "AccordionModel",
      "state": {
       "_titles": {
        "0": "Download Knowledgepack"
       },
       "children": [
        "IPY_MODEL_ea4b090471684097bc6cbee377ad1276"
       ],
       "layout": "IPY_MODEL_8c5b417c7a384ccd9bc2d497a546332f"
      }
     },
     "85f004b06c064a79bb4b595e1bb3a1aa": {
      "model_module": "@jupyter-widgets/base",
      "model_module_version": "1.0.0",
      "model_name": "LayoutModel",
      "state": {}
     },
     "86295fc4b47d4ad5afb7ce1147441b38": {
      "model_module": "@jupyter-widgets/base",
      "model_module_version": "1.0.0",
      "model_name": "LayoutModel",
      "state": {}
     },
     "864e81b9754746929017f5afb4ab27db": {
      "model_module": "@jupyter-widgets/controls",
      "model_module_version": "1.1.0",
      "model_name": "FloatSliderModel",
      "state": {
       "description": "Sensitivity",
       "layout": "IPY_MODEL_c391a3f1117448e78e2f6e1a09e544a1",
       "max": 1,
       "step": 0.05,
       "style": "IPY_MODEL_94c6ebde57034b4db9048ae294c2ef21",
       "value": 0.8
      }
     },
     "869df18fb54b4b3baca8a4b8f2f4fd39": {
      "model_module": "@jupyter-widgets/base",
      "model_module_version": "1.0.0",
      "model_name": "LayoutModel",
      "state": {}
     },
     "86a286e0f79f43bb9b9819825207c582": {
      "model_module": "@jupyter-widgets/controls",
      "model_module_version": "1.1.0",
      "model_name": "DropdownModel",
      "state": {
       "_options_labels": [
        "True",
        "False"
       ],
       "description": "Debug",
       "index": 0,
       "layout": "IPY_MODEL_74e903742f3f42cfa2ecf8edd9e2eabd",
       "style": "IPY_MODEL_226f8e4db231428d9db8ae922bbfab18"
      }
     },
     "86b54b52d7e644cba10ab7c5843b482a": {
      "model_module": "@jupyter-widgets/base",
      "model_module_version": "1.0.0",
      "model_name": "LayoutModel",
      "state": {
       "justify_content": "flex-start",
       "overflow": "visible"
      }
     },
     "86cd3b3eb0514e52b3af1ade04737d6c": {
      "model_module": "@jupyter-widgets/controls",
      "model_module_version": "1.1.0",
      "model_name": "ButtonModel",
      "state": {
       "description": "Refresh",
       "icon": "0",
       "layout": "IPY_MODEL_2be18412e07e4dac99d045094b22c64a",
       "style": "IPY_MODEL_2f2d11dab4a9458eb67a43a84a713dc1"
      }
     },
     "871c2f64c1d04e658767119694435575": {
      "model_module": "@jupyter-widgets/base",
      "model_module_version": "1.0.0",
      "model_name": "LayoutModel",
      "state": {
       "display": "flex",
       "flex_flow": "row",
       "justify_content": "space-between"
      }
     },
     "872f8b3a28aa456687b8093dbff30314": {
      "model_module": "@jupyter-widgets/controls",
      "model_module_version": "1.1.0",
      "model_name": "DescriptionStyleModel",
      "state": {
       "description_width": ""
      }
     },
     "8742755fc0a048edbfafc676d9896fc4": {
      "model_module": "@jupyter-widgets/base",
      "model_module_version": "1.0.0",
      "model_name": "LayoutModel",
      "state": {}
     },
     "874b463034c548249e2188700157c425": {
      "model_module": "@jupyter-widgets/controls",
      "model_module_version": "1.1.0",
      "model_name": "DescriptionStyleModel",
      "state": {
       "description_width": ""
      }
     },
     "874d153011f14a2b85d68198b2f018b6": {
      "model_module": "@jupyter-widgets/base",
      "model_module_version": "1.0.0",
      "model_name": "LayoutModel",
      "state": {}
     },
     "8751b9904d19461197b79690b8f9c5ec": {
      "model_module": "@jupyter-widgets/controls",
      "model_module_version": "1.1.0",
      "model_name": "TextModel",
      "state": {
       "description": "Query Filter",
       "layout": "IPY_MODEL_d4ee7f9f9f3b42e7a48d579054547601",
       "style": "IPY_MODEL_c4543efaea754d87a36aea1234ea94bb"
      }
     },
     "87581dfccde14853890c54293c837811": {
      "model_module": "@jupyter-widgets/base",
      "model_module_version": "1.0.0",
      "model_name": "LayoutModel",
      "state": {}
     },
     "876720b5fe414176a043f05382c4d831": {
      "model_module": "@jupyter-widgets/controls",
      "model_module_version": "1.1.0",
      "model_name": "DescriptionStyleModel",
      "state": {
       "description_width": ""
      }
     },
     "876cc699b4c24914a99ee45e58b3e50f": {
      "model_module": "@jupyter-widgets/controls",
      "model_module_version": "1.1.0",
      "model_name": "VBoxModel",
      "state": {
       "_dom_classes": [
        "widget-interact"
       ],
       "children": [
        "IPY_MODEL_7e72d7b8e5764ac19a00d03313bb8b82",
        "IPY_MODEL_33ebcbf661224fffa9b33f6f33be0264"
       ],
       "layout": "IPY_MODEL_328f8c0538924238ad77d41f3b3c8d7e"
      }
     },
     "87a5fee1d0bd4d079ffb2e6750cc2db2": {
      "model_module": "@jupyter-widgets/controls",
      "model_module_version": "1.1.0",
      "model_name": "HBoxModel",
      "state": {
       "children": [
        "IPY_MODEL_ab39b83019f049ba8ba7d2eebf03c398",
        "IPY_MODEL_5c4f828de38f4114b0540930b87a67fc",
        "IPY_MODEL_48198f4ff5c74b42b654dc266b820c8a"
       ],
       "layout": "IPY_MODEL_71b99839a8014bf7a3ccc72d8824dd83"
      }
     },
     "87c146ded93d4a85b2af9c6f1deffdfc": {
      "model_module": "@jupyter-widgets/base",
      "model_module_version": "1.0.0",
      "model_name": "LayoutModel",
      "state": {
       "display": "flex",
       "flex_flow": "row",
       "justify_content": "space-between",
       "overflow": "visible"
      }
     },
     "87d306dc328248979e676f5a009384eb": {
      "model_module": "@jupyter-widgets/base",
      "model_module_version": "1.0.0",
      "model_name": "LayoutModel",
      "state": {
       "display": "flex",
       "flex_flow": "row",
       "justify_content": "space-between",
       "overflow": "visible"
      }
     },
     "87e5a85666b64e55932b2a26e789c4a8": {
      "model_module": "@jupyter-widgets/controls",
      "model_module_version": "1.1.0",
      "model_name": "SliderStyleModel",
      "state": {
       "description_width": ""
      }
     },
     "87ef370ec63f4d4b84fe6b431b7074f9": {
      "model_module": "@jupyter-widgets/controls",
      "model_module_version": "1.1.0",
      "model_name": "DropdownModel",
      "state": {
       "_options_labels": [
        "",
        "Parameter Optimization Tutorial",
        "outlier_remove",
        "Training Demo",
        "MHEAudio",
        "ChristTest2",
        "Video Project",
        "LargeData",
        "motor_vibration",
        "Activity Demo",
        "SensiML Gestures Demo",
        "hereo",
        "OptimizePara_UsingGrid",
        "DogData",
        "Gesture_data_demo",
        "ChrisGestureProject",
        "PunchPunch",
        "Voyager Demo",
        "PunchDemo",
        "A Marc Project",
        "Virginia",
        "MyProject",
        "Cursive",
        "MotorVibration",
        "Seven Peaks Demo",
        "Customer End to End Demo",
        "MotorVibrationSmall",
        "CustomerE2E",
        "motor_vibration_2",
        "Harry Potter Project",
        "Gesture Demo",
        "SensiML Gestures"
       ],
       "description": "Select Project",
       "index": 31,
       "layout": "IPY_MODEL_81cbcdbf23dc4ec5800b03b9addf531e",
       "style": "IPY_MODEL_0e33d87a8c9043f2af1ea56be5cf5f34"
      }
     },
     "8840a0bef9744be8b28a725f13d5f293": {
      "model_module": "@jupyter-widgets/base",
      "model_module_version": "1.0.0",
      "model_name": "LayoutModel",
      "state": {
       "display": "flex",
       "flex_flow": "row",
       "justify_content": "flex-end"
      }
     },
     "885ea3d0e48d466e89b6c9d7edd32a77": {
      "model_module": "@jupyter-widgets/controls",
      "model_module_version": "1.1.0",
      "model_name": "DescriptionStyleModel",
      "state": {
       "description_width": ""
      }
     },
     "886892de36374672bb3714dd614183a9": {
      "model_module": "@jupyter-widgets/controls",
      "model_module_version": "1.1.0",
      "model_name": "HBoxModel",
      "state": {
       "children": [
        "IPY_MODEL_41c2b0c3215f46caa3d6c11941e44117",
        "IPY_MODEL_7e426a08667f454a87785a314c600d83",
        "IPY_MODEL_dafbc31db4ce443e8c33eb9fe38f9d7e"
       ],
       "layout": "IPY_MODEL_ac435a110fcc44ae9d505194a9a612e3"
      }
     },
     "891cfa28f2ad4414ba87cdc9e4a3d2df": {
      "model_module": "@jupyter-widgets/controls",
      "model_module_version": "1.1.0",
      "model_name": "DescriptionStyleModel",
      "state": {
       "description_width": ""
      }
     },
     "89232879964046369d590f71d7cdcf33": {
      "model_module": "@jupyter-widgets/base",
      "model_module_version": "1.0.0",
      "model_name": "LayoutModel",
      "state": {
       "align_items": "flex-start",
       "border": "solid 2px",
       "display": "flex",
       "flex_flow": "column",
       "justify_content": "center",
       "overflow": "visible",
       "width": "25%"
      }
     },
     "893b791a185941ad9cb54ab169722635": {
      "model_module": "@jupyter-widgets/controls",
      "model_module_version": "1.1.0",
      "model_name": "HBoxModel",
      "state": {
       "children": [
        "IPY_MODEL_097c8bbefb364aeaa303c0b265c21873",
        "IPY_MODEL_659ae3aa8fdb4ba681f815d85d0da7c4"
       ],
       "layout": "IPY_MODEL_18262a18730a45079f46be0b1ec1278b"
      }
     },
     "893c9bd03a114f82b4b9447bfcc08e1e": {
      "model_module": "@jupyter-widgets/controls",
      "model_module_version": "1.1.0",
      "model_name": "DropdownModel",
      "state": {
       "_options_labels": [
        "100",
        "50",
        "25"
       ],
       "description": "IMU Rate",
       "index": 0,
       "layout": "IPY_MODEL_590e4ba15f79460e9e3f1efc798e1cbb",
       "style": "IPY_MODEL_d333063aa9b54843abcbe067355961b7"
      }
     },
     "895ae227da814a478e872940573db647": {
      "model_module": "@jupyter-widgets/base",
      "model_module_version": "1.0.0",
      "model_name": "LayoutModel",
      "state": {}
     },
     "8986900a1bd54fdbb795e93a747c2960": {
      "model_module": "@jupyter-widgets/base",
      "model_module_version": "1.0.0",
      "model_name": "LayoutModel",
      "state": {}
     },
     "898da291c03e44f599d772c88c5a5388": {
      "model_module": "@jupyter-widgets/controls",
      "model_module_version": "1.1.0",
      "model_name": "SelectMultipleModel",
      "state": {
       "_options_labels": [
        "AccelerometerX",
        "AccelerometerY",
        "AccelerometerZ",
        "GyroscopeX",
        "GyroscopeY",
        "GyroscopeZ"
       ],
       "description": "Sources",
       "index": [
        0,
        1,
        2,
        3,
        4,
        5
       ],
       "layout": "IPY_MODEL_ee802fd6e9b04a74a5cbade964e5067a",
       "rows": 5,
       "style": "IPY_MODEL_518ee21d9ef84abf8672256b4afb88d3"
      }
     },
     "89c77bca48464709b1e5c3e80729c312": {
      "model_module": "@jupyter-widgets/controls",
      "model_module_version": "1.1.0",
      "model_name": "DropdownModel",
      "state": {
       "description": "Select Query",
       "index": null,
       "layout": "IPY_MODEL_fc32bea589ba4d64ad76c7c3e84539bd",
       "style": "IPY_MODEL_55b9c8eb32314edeba0242c755427199"
      }
     },
     "89ce720901ec4f13aeaba32b2f7a8fdd": {
      "model_module": "@jupyter-widgets/base",
      "model_module_version": "1.0.0",
      "model_name": "LayoutModel",
      "state": {
       "min_width": "150px",
       "overflow": "visible"
      }
     },
     "89ed22bc87ec4cf19fbca0f9c6a19f7c": {
      "model_module": "@jupyter-widgets/controls",
      "model_module_version": "1.1.0",
      "model_name": "SliderStyleModel",
      "state": {
       "description_width": ""
      }
     },
     "89fc38a18160430c957177cc9bb87cf3": {
      "model_module": "@jupyter-widgets/controls",
      "model_module_version": "1.1.0",
      "model_name": "ButtonStyleModel",
      "state": {}
     },
     "8a0eaa339de64a7da773dc78f76c3d1b": {
      "model_module": "@jupyter-widgets/base",
      "model_module_version": "1.0.0",
      "model_name": "LayoutModel",
      "state": {
       "min_width": "125px"
      }
     },
     "8a48c709d19d43fe8b4d264b6b7acef3": {
      "model_module": "@jupyter-widgets/controls",
      "model_module_version": "1.1.0",
      "model_name": "VBoxModel",
      "state": {
       "children": [
        "IPY_MODEL_aad7540238584d679af13735086b51c9",
        "IPY_MODEL_fb7b9b3a8671418e8cfbc3382d78acfc",
        "IPY_MODEL_fe0faca8b69e4793b315312adf8d5772"
       ],
       "layout": "IPY_MODEL_3a2441fef3e447c9a849e333d2906086"
      }
     },
     "8a53a0881b5240b78fe447de67ec77a8": {
      "model_module": "@jupyter-widgets/controls",
      "model_module_version": "1.1.0",
      "model_name": "FloatSliderModel",
      "state": {
       "description": "Neurons",
       "layout": "IPY_MODEL_bd01793a693e4eceb7e066936db006d5",
       "max": 1,
       "step": 0.05,
       "style": "IPY_MODEL_1314f0d5168f47c98a87970668013838",
       "value": 0.5
      }
     },
     "8a627fa3e7d84c189dacc88d840c6740": {
      "model_module": "@jupyter-widgets/base",
      "model_module_version": "1.0.0",
      "model_name": "LayoutModel",
      "state": {}
     },
     "8a7942d2659b4690b8d91fd8b927a246": {
      "model_module": "@jupyter-widgets/controls",
      "model_module_version": "1.1.0",
      "model_name": "DropdownModel",
      "state": {
       "description": "HW Platform",
       "index": null,
       "layout": "IPY_MODEL_bf34b43d97184c98a5b496083b9944eb",
       "style": "IPY_MODEL_ecaf41d7bfd14fb7967552ccb3c0d156"
      }
     },
     "8a88dd321373472ba718d0144befce27": {
      "model_module": "@jupyter-widgets/base",
      "model_module_version": "1.0.0",
      "model_name": "LayoutModel",
      "state": {}
     },
     "8a94c1a5f1ba46eab9d8cb83c8947da9": {
      "model_module": "@jupyter-widgets/controls",
      "model_module_version": "1.1.0",
      "model_name": "FloatSliderModel",
      "state": {
       "description": "Sensitivity",
       "layout": "IPY_MODEL_93f0d5c7974540b1afa8a1c6298aba67",
       "max": 1,
       "step": 0.05,
       "style": "IPY_MODEL_28284cdc373c42ec80f6a50e73ba6b16",
       "value": 0.8
      }
     },
     "8a9f9c7f2d7f4d8a821c17ce1f27a5c6": {
      "model_module": "@jupyter-widgets/controls",
      "model_module_version": "1.1.0",
      "model_name": "DescriptionStyleModel",
      "state": {
       "description_width": ""
      }
     },
     "8aacb0512cb54f99829f5b872cd3658f": {
      "model_module": "@jupyter-widgets/controls",
      "model_module_version": "1.1.0",
      "model_name": "TextModel",
      "state": {
       "description": "New Pipeline",
       "layout": "IPY_MODEL_1b7c8b5e892c4678b72377d4fc0c51ab",
       "style": "IPY_MODEL_befe7488c16143c2b1adaa28aedf4a0f"
      }
     },
     "8adaf64227e84ab388b25b08a97ae110": {
      "model_module": "@jupyter-widgets/controls",
      "model_module_version": "1.1.0",
      "model_name": "DropdownModel",
      "state": {
       "_options_labels": [
        "",
        "New Query",
        "What",
        "ABC",
        "All Gestures",
        "Chris Query",
        "Query - ABDEG",
        "Query ABDGE",
        "Marc Segmenter",
        "AB",
        "Query All",
        "DEF",
        "ABCDEF",
        "ABDGFH"
       ],
       "description": "Select Query",
       "index": 0,
       "layout": "IPY_MODEL_9a680c39753e46d7b22aaf0b36fbf6d1",
       "style": "IPY_MODEL_661d9bff093a4be0ba57cab3702897d7"
      }
     },
     "8b186f3a795149d69643c0d8f07c8640": {
      "model_module": "@jupyter-widgets/base",
      "model_module_version": "1.0.0",
      "model_name": "LayoutModel",
      "state": {}
     },
     "8b62627587d246f99d5965404f3a2a14": {
      "model_module": "@jupyter-widgets/controls",
      "model_module_version": "1.1.0",
      "model_name": "VBoxModel",
      "state": {
       "children": [
        "IPY_MODEL_1491a8085465459292dfe3a03dd258ae",
        "IPY_MODEL_f8ec80e4ef5245d69d48e9e486160335",
        "IPY_MODEL_04a41d5af4874a42955d7eae4ecacdb6",
        "IPY_MODEL_ef47714ed9974ac89353ccdb57075966"
       ],
       "layout": "IPY_MODEL_dfa652241a6c48b5a932fc4c51f1efb4"
      }
     },
     "8b6e1ae095d4473a83f95cb23677a809": {
      "model_module": "@jupyter-widgets/base",
      "model_module_version": "1.0.0",
      "model_name": "LayoutModel",
      "state": {}
     },
     "8b8e45526a3040768d77a1a494b7d1f8": {
      "model_module": "@jupyter-widgets/base",
      "model_module_version": "1.0.0",
      "model_name": "LayoutModel",
      "state": {}
     },
     "8bf4fe0a9aa842d3b0352f86b8d5a24c": {
      "model_module": "@jupyter-widgets/controls",
      "model_module_version": "1.1.0",
      "model_name": "ButtonModel",
      "state": {
       "description": "Update Query",
       "layout": "IPY_MODEL_65ed1cab91cd444699687457ea1cc19e",
       "style": "IPY_MODEL_053e3ad542484c94b347acbbd523bb5a"
      }
     },
     "8c2bc389e09a4a1893c3b184e3cffba6": {
      "model_module": "@jupyter-widgets/controls",
      "model_module_version": "1.1.0",
      "model_name": "ButtonStyleModel",
      "state": {}
     },
     "8c3dd539e44f4c50b53f534764321b61": {
      "model_module": "@jupyter-widgets/controls",
      "model_module_version": "1.1.0",
      "model_name": "VBoxModel",
      "state": {
       "children": [
        "IPY_MODEL_74b5f148940a4ec6bb149e871af2507f",
        "IPY_MODEL_5d76490252c645fd93c2611de187ace1",
        "IPY_MODEL_2ab913e29a9c4707a9f53576b1bfd001",
        "IPY_MODEL_94895fceb60a4fbb9b4050db8e97ebea",
        "IPY_MODEL_b2c72c828bcd48c7afa9610963529dc2",
        "IPY_MODEL_c057605c6fe64c838233ea9c8c94354e"
       ],
       "layout": "IPY_MODEL_0e60645f0108496cbcefca28a6d9fece"
      }
     },
     "8c43e036d16048178497a7e2629c0e7b": {
      "model_module": "@jupyter-widgets/controls",
      "model_module_version": "1.1.0",
      "model_name": "DescriptionStyleModel",
      "state": {
       "description_width": ""
      }
     },
     "8c4b0d4639db484e9580ec103e447260": {
      "model_module": "@jupyter-widgets/base",
      "model_module_version": "1.0.0",
      "model_name": "LayoutModel",
      "state": {}
     },
     "8c4c6b410c354331b59443621b42d0d6": {
      "model_module": "@jupyter-widgets/base",
      "model_module_version": "1.0.0",
      "model_name": "LayoutModel",
      "state": {}
     },
     "8c5b417c7a384ccd9bc2d497a546332f": {
      "model_module": "@jupyter-widgets/base",
      "model_module_version": "1.0.0",
      "model_name": "LayoutModel",
      "state": {}
     },
     "8c5de15485db4a67980a2c8103641c08": {
      "model_module": "@jupyter-widgets/controls",
      "model_module_version": "1.1.0",
      "model_name": "AccordionModel",
      "state": {
       "_titles": {
        "0": "Download Knowledgepack"
       },
       "children": [
        "IPY_MODEL_3f0127d21d7945daa149a7868304c1ad"
       ],
       "layout": "IPY_MODEL_3fb9c6da774e42df9b22b3df636b32cb"
      }
     },
     "8c7b30dc59a64f5daa38736ce2b2fb06": {
      "model_module": "@jupyter-widgets/controls",
      "model_module_version": "1.1.0",
      "model_name": "DescriptionStyleModel",
      "state": {
       "description_width": ""
      }
     },
     "8c90ca9c53934ebd9937c54fb4845611": {
      "model_module": "@jupyter-widgets/base",
      "model_module_version": "1.0.0",
      "model_name": "LayoutModel",
      "state": {}
     },
     "8c91cfb2c1ad453db45d6c321ce840fa": {
      "model_module": "@jupyter-widgets/controls",
      "model_module_version": "1.1.0",
      "model_name": "HBoxModel",
      "state": {
       "children": [
        "IPY_MODEL_114c2cd0e2084ab7b69249a1a3332caa",
        "IPY_MODEL_f4f2038012944c1ca638cb5afadc0b0a",
        "IPY_MODEL_05ffc257a21b456d918d5126782c7138"
       ],
       "layout": "IPY_MODEL_a4d9d98504ba4093867c623371703e6c"
      }
     },
     "8cf9717a21994927ac1a978b71bccc3d": {
      "model_module": "@jupyter-widgets/controls",
      "model_module_version": "1.1.0",
      "model_name": "ButtonStyleModel",
      "state": {}
     },
     "8cff30fb5cc248d582cc91ed50042b74": {
      "model_module": "@jupyter-widgets/base",
      "model_module_version": "1.0.0",
      "model_name": "LayoutModel",
      "state": {}
     },
     "8d2f39ea5ba54fe6857bed843d42d05e": {
      "model_module": "@jupyter-widgets/base",
      "model_module_version": "1.0.0",
      "model_name": "LayoutModel",
      "state": {}
     },
     "8d3826e5d4554afcb00fc7cc574b5b9e": {
      "model_module": "@jupyter-widgets/controls",
      "model_module_version": "1.1.0",
      "model_name": "ButtonModel",
      "state": {
       "description": "Refresh",
       "icon": "0",
       "layout": "IPY_MODEL_ed22c257a90a458889f78d00b000f9bb",
       "style": "IPY_MODEL_67ae2e07b0db4ac5af224e66863b6c8f"
      }
     },
     "8d3f1afb18a348e9b19fcc99869de1ae": {
      "model_module": "@jupyter-widgets/controls",
      "model_module_version": "1.1.0",
      "model_name": "IntSliderModel",
      "state": {
       "description": "Iterations",
       "layout": "IPY_MODEL_6b7a32d047ed443681a1752765f55f4c",
       "max": 15,
       "min": 1,
       "style": "IPY_MODEL_ff4d031a356f415c9fe31cd3c4767b9f",
       "value": 2
      }
     },
     "8d4067089214450eb606a55ff82b3517": {
      "model_module": "@jupyter-widgets/base",
      "model_module_version": "1.0.0",
      "model_name": "LayoutModel",
      "state": {}
     },
     "8d4143cf72254b8383fcf878696277df": {
      "model_module": "@jupyter-widgets/controls",
      "model_module_version": "1.1.0",
      "model_name": "SliderStyleModel",
      "state": {
       "description_width": ""
      }
     },
     "8d58dfd225dd49819450faaa5312e53c": {
      "model_module": "@jupyter-widgets/controls",
      "model_module_version": "1.1.0",
      "model_name": "DescriptionStyleModel",
      "state": {
       "description_width": ""
      }
     },
     "8db883a18b5f4770af94b7d519c5b7f0": {
      "model_module": "@jupyter-widgets/base",
      "model_module_version": "1.0.0",
      "model_name": "LayoutModel",
      "state": {}
     },
     "8dbda69fe4014e1d9942d6a266b2fdc5": {
      "model_module": "@jupyter-widgets/base",
      "model_module_version": "1.0.0",
      "model_name": "LayoutModel",
      "state": {
       "min_width": "150px",
       "overflow": "visible"
      }
     },
     "8dc75c18576a47828b47926456a84c5a": {
      "model_module": "@jupyter-widgets/controls",
      "model_module_version": "1.1.0",
      "model_name": "HBoxModel",
      "state": {
       "children": [
        "IPY_MODEL_588dbc87ceb84b8493994e3ca45b029c",
        "IPY_MODEL_2c49f5ed2dc84d84881516e6914b48a5"
       ],
       "layout": "IPY_MODEL_25ab6a3d6e18465985870bf30f7016c9"
      }
     },
     "8dd175e3ce7949de808d13eaee041051": {
      "model_module": "@jupyter-widgets/base",
      "model_module_version": "1.0.0",
      "model_name": "LayoutModel",
      "state": {}
     },
     "8de0269f6221445b975cd2406b15ac47": {
      "model_module": "@jupyter-widgets/controls",
      "model_module_version": "1.1.0",
      "model_name": "DescriptionStyleModel",
      "state": {
       "description_width": ""
      }
     },
     "8df9d42e0d7747b3b23d5ab853e8c747": {
      "model_module": "@jupyter-widgets/controls",
      "model_module_version": "1.1.0",
      "model_name": "DescriptionStyleModel",
      "state": {
       "description_width": ""
      }
     },
     "8e0f2f56cb1643d884a2200aa974d655": {
      "model_module": "bqplot",
      "model_module_version": "^0.3.2",
      "model_name": "LinearScaleModel",
      "state": {
       "allow_padding": false,
       "max": 1,
       "min": 0,
       "stabilized": false
      }
     },
     "8e122e481de24f958816c1e824b66ac1": {
      "model_module": "@jupyter-widgets/controls",
      "model_module_version": "1.1.0",
      "model_name": "VBoxModel",
      "state": {
       "children": [
        "IPY_MODEL_6a287f3a43f94ffb833851fadeedc00d",
        "IPY_MODEL_7b7ffdd329d141348ed834f91beeabdf",
        "IPY_MODEL_6a0d27b659964e10a06afeb67dafbafc"
       ],
       "layout": "IPY_MODEL_3faa3975125c444e8872df084e6f1a43"
      }
     },
     "8e98d035c23b4ad1a692b57970fdbdbb": {
      "model_module": "@jupyter-widgets/controls",
      "model_module_version": "1.1.0",
      "model_name": "FloatSliderModel",
      "state": {
       "description": "Sensitivity",
       "layout": "IPY_MODEL_14be0ec91e4a48c58fee7f8c753c19e2",
       "max": 1,
       "step": 0.05,
       "style": "IPY_MODEL_70022d4aa89d4b46a8d38491e0253160",
       "value": 0.8
      }
     },
     "8e98f870552f4ca58cc492d70261b140": {
      "model_module": "@jupyter-widgets/controls",
      "model_module_version": "1.1.0",
      "model_name": "DescriptionStyleModel",
      "state": {
       "description_width": ""
      }
     },
     "8ea9162ca29f4b5cac61f0fc084b70d4": {
      "model_module": "@jupyter-widgets/controls",
      "model_module_version": "1.1.0",
      "model_name": "DescriptionStyleModel",
      "state": {
       "description_width": ""
      }
     },
     "8ec504b714c8438fa1367cadd943c772": {
      "model_module": "@jupyter-widgets/controls",
      "model_module_version": "1.1.0",
      "model_name": "DropdownModel",
      "state": {
       "description": "Label Column",
       "index": null,
       "layout": "IPY_MODEL_83dfc2c44ead4081883595586299ccfa",
       "style": "IPY_MODEL_c69fbe84d6184a10969594b512efd813"
      }
     },
     "8ecaf970e6594830bb5e84c5a74749f2": {
      "model_module": "@jupyter-widgets/base",
      "model_module_version": "1.0.0",
      "model_name": "LayoutModel",
      "state": {}
     },
     "8ed801d39e7146c8b38cd153b78e86ad": {
      "model_module": "@jupyter-widgets/controls",
      "model_module_version": "1.1.0",
      "model_name": "SliderStyleModel",
      "state": {
       "description_width": ""
      }
     },
     "8efe7d029d48475cab9d67f892c5d399": {
      "model_module": "@jupyter-widgets/base",
      "model_module_version": "1.0.0",
      "model_name": "LayoutModel",
      "state": {}
     },
     "8f1abc34def740dbb8844f167083fca6": {
      "model_module": "@jupyter-widgets/controls",
      "model_module_version": "1.1.0",
      "model_name": "SliderStyleModel",
      "state": {
       "description_width": ""
      }
     },
     "8f45ab37d3924fa388a7d1010dbf1827": {
      "model_module": "qgrid",
      "model_module_version": "1.0.0",
      "model_name": "QgridModel",
      "state": {
       "_columns": {
        "f1_score": {
         "name": "f1_score",
         "position": 4,
         "type": "string"
        },
        "features": {
         "name": "features",
         "position": 3,
         "type": "string"
        },
        "index": {
         "is_index": true,
         "name": "index",
         "position": 0,
         "type": "integer"
        },
        "neurons": {
         "name": "neurons",
         "position": 2,
         "type": "string"
        },
        "qgrid_unfiltered_index": {
         "name": "qgrid_unfiltered_index",
         "position": 1,
         "type": "number"
        }
       },
       "_df_json": "{\"schema\": {\"fields\":[{\"type\":\"integer\",\"name\":\"index\"},{\"type\":\"number\",\"name\":\"qgrid_unfiltered_index\"},{\"type\":\"string\",\"name\":\"neurons\"},{\"type\":\"string\",\"name\":\"features\"},{\"type\":\"string\",\"name\":\"f1_score\"}],\"pandas_version\":\"0.20.0\",\"primaryKey\":[\"index\"]}, \"data\": []}",
       "_df_range": [
        0,
        100
       ],
       "_index_col_name": "qgrid_unfiltered_index",
       "_interval_columns": [],
       "_model_module_version": "1.0.0",
       "_page_size": 100,
       "_row_count": 0,
       "_sort_ascending": true,
       "_sort_field": "",
       "_view_module_version": "1.0.0",
       "grid_options": {
        "autoEdit": false,
        "defaultColumnWidth": 15,
        "editable": false,
        "enableColumnReorder": false,
        "enableTextSelectionOnCells": true,
        "explicitInitialization": true,
        "forceFitColumns": true,
        "fullWidthRows": true,
        "maxVisibleRows": 5,
        "minVisibleRows": 5,
        "rowHeight": 35,
        "syncColumnCellResize": true
       },
       "layout": "IPY_MODEL_31c639cf7aad41e5b1be620afd95da20",
       "precision": 5,
       "show_toolbar": false
      }
     },
     "8f67cfbc1be2415588331557807a28d0": {
      "model_module": "@jupyter-widgets/output",
      "model_module_version": "1.1.0",
      "model_name": "OutputModel",
      "state": {
       "_model_module_version": "1.1.0",
       "_view_module_version": "1.1.0",
       "layout": "IPY_MODEL_56aba2d712c54f4691bfe52267e63f21"
      }
     },
     "8fa7264c949641ee898abbe254124124": {
      "model_module": "@jupyter-widgets/controls",
      "model_module_version": "1.1.0",
      "model_name": "DropdownModel",
      "state": {
       "_options_labels": [
        "Default",
        "Windowing(100)",
        "Windowing(200)",
        "Windowing(250)"
       ],
       "description": "Segmenter",
       "index": 0,
       "layout": "IPY_MODEL_7625d3f593834f69870c264577b8dd75",
       "style": "IPY_MODEL_ccd5c6557f464c0a99837c41ce345bd2"
      }
     },
     "90302a56b868429c8ee95b8f4d6c1fda": {
      "model_module": "@jupyter-widgets/controls",
      "model_module_version": "1.1.0",
      "model_name": "FloatSliderModel",
      "state": {
       "description": "Accuracy",
       "layout": "IPY_MODEL_d5c8410ad48a4c929a6ccc76f6d2dbb7",
       "max": 1,
       "step": 0.05,
       "style": "IPY_MODEL_8f1abc34def740dbb8844f167083fca6",
       "value": 0.8
      }
     },
     "90523fd49c3e4839abec29df08953b37": {
      "model_module": "@jupyter-widgets/base",
      "model_module_version": "1.0.0",
      "model_name": "LayoutModel",
      "state": {}
     },
     "90c44a1dfce04d4e8e4b17708a616db3": {
      "model_module": "@jupyter-widgets/base",
      "model_module_version": "1.0.0",
      "model_name": "LayoutModel",
      "state": {
       "width": "300px"
      }
     },
     "90fb6bef3ba74e98a81d8aab0b386eff": {
      "model_module": "@jupyter-widgets/base",
      "model_module_version": "1.0.0",
      "model_name": "LayoutModel",
      "state": {
       "border": "outset"
      }
     },
     "91a1041894404894a12ebfe2f35edf7f": {
      "model_module": "@jupyter-widgets/controls",
      "model_module_version": "1.1.0",
      "model_name": "DropdownModel",
      "state": {
       "_options_labels": [
        "",
        "New Query",
        "What",
        "ABC",
        "All Gestures",
        "Chris Query",
        "Query - ABDEG",
        "Query ABDGE",
        "Marc Segmenter",
        "AB",
        "Query All",
        "DEF",
        "ABCDEF",
        "ABDGFH"
       ],
       "description": "Select Query",
       "index": 0,
       "layout": "IPY_MODEL_e55e70f3cf8e468bade17f9e6c502c46",
       "style": "IPY_MODEL_8218e4a1d9a348e2891017f9a866f20f"
      }
     },
     "91ca17ff2dcf4f5aaf3ece8004f0fc23": {
      "model_module": "@jupyter-widgets/base",
      "model_module_version": "1.0.0",
      "model_name": "LayoutModel",
      "state": {}
     },
     "91d64131dbe44b0e84478c6feef5afad": {
      "model_module": "@jupyter-widgets/controls",
      "model_module_version": "1.1.0",
      "model_name": "DescriptionStyleModel",
      "state": {
       "description_width": ""
      }
     },
     "91e556bddd8f4fc589bb5542e6fca78e": {
      "model_module": "@jupyter-widgets/base",
      "model_module_version": "1.0.0",
      "model_name": "LayoutModel",
      "state": {}
     },
     "9201b489eada42cc9c7fa3a626e2dde2": {
      "model_module": "@jupyter-widgets/controls",
      "model_module_version": "1.1.0",
      "model_name": "VBoxModel",
      "state": {
       "children": [
        "IPY_MODEL_1c9c54c82ac14c15bc4047e9ce2813c3",
        "IPY_MODEL_e8dbbdb2b36946efb4b85c70bf89a927",
        "IPY_MODEL_cb28a84df29c46e6a74d4ca5867d4b43",
        "IPY_MODEL_6cd2c27b4c2340398f538d154d606187",
        "IPY_MODEL_a0b6018eb83548fc8e11d69abb386da9",
        "IPY_MODEL_5b55903f565e470b999fe9aa3e5c755c"
       ],
       "layout": "IPY_MODEL_795529fd9244482e8af88e6a3b3833fa"
      }
     },
     "92326450987440feb2ea6cb4e11aa299": {
      "model_module": "@jupyter-widgets/controls",
      "model_module_version": "1.1.0",
      "model_name": "SelectMultipleModel",
      "state": {
       "_options_labels": [
        "ble",
        "led",
        "serial"
       ],
       "description": "Output",
       "index": [],
       "layout": "IPY_MODEL_16255b5e2fc5455882eb8ddbb70e53a7",
       "rows": 5,
       "style": "IPY_MODEL_7eb6ef0a0a6546f5a36de4d4360be77f"
      }
     },
     "9234c64ff9f946748172c82bd0c04b8b": {
      "model_module": "@jupyter-widgets/controls",
      "model_module_version": "1.1.0",
      "model_name": "DescriptionStyleModel",
      "state": {
       "description_width": ""
      }
     },
     "924e8bd810cb4438bb29f6f6a47d0742": {
      "model_module": "@jupyter-widgets/base",
      "model_module_version": "1.0.0",
      "model_name": "LayoutModel",
      "state": {
       "justify_content": "flex-start",
       "overflow": "visible"
      }
     },
     "9252c58b366b4789a9543522a56a2798": {
      "model_module": "@jupyter-widgets/base",
      "model_module_version": "1.0.0",
      "model_name": "LayoutModel",
      "state": {}
     },
     "926fac4217ce4cdfb8be3c25f0040287": {
      "model_module": "bqplot",
      "model_module_version": "^0.3.2",
      "model_name": "LinearScaleModel",
      "state": {
       "allow_padding": false,
       "max": 1,
       "min": 0,
       "stabilized": false
      }
     },
     "92ba8c060a744721b7e945c01f4c85f7": {
      "model_module": "@jupyter-widgets/controls",
      "model_module_version": "1.1.0",
      "model_name": "DescriptionStyleModel",
      "state": {
       "description_width": ""
      }
     },
     "92c4f8d3a77c4410a44b9281073ae500": {
      "model_module": "@jupyter-widgets/base",
      "model_module_version": "1.0.0",
      "model_name": "LayoutModel",
      "state": {}
     },
     "933de62b286d4e78ac5caf909837a1ca": {
      "model_module": "@jupyter-widgets/controls",
      "model_module_version": "1.1.0",
      "model_name": "VBoxModel",
      "state": {
       "children": [
        "IPY_MODEL_55b16de985ef44d79a0d5f942dd0e5f7",
        "IPY_MODEL_78601aa10ba94d658f9b9398a57e8bfb",
        "IPY_MODEL_a120276b20114f2bafc1df209fd49ab7",
        "IPY_MODEL_3045501e991f4ee4a000a0f57328900e"
       ],
       "layout": "IPY_MODEL_b1c443f12b16479ea62d1634e3c2f0b7"
      }
     },
     "9352e88500554ab6a7625986fba48f94": {
      "model_module": "@jupyter-widgets/base",
      "model_module_version": "1.0.0",
      "model_name": "LayoutModel",
      "state": {}
     },
     "93ba168d4cf843f7aab28d5d2ed4b8cb": {
      "model_module": "@jupyter-widgets/controls",
      "model_module_version": "1.1.0",
      "model_name": "DescriptionStyleModel",
      "state": {
       "description_width": ""
      }
     },
     "93c8370f209044ea9b7eaa6ecee97b9a": {
      "model_module": "@jupyter-widgets/controls",
      "model_module_version": "1.1.0",
      "model_name": "DescriptionStyleModel",
      "state": {
       "description_width": ""
      }
     },
     "93d182add9d6492c9a0f8688c02d6a5b": {
      "model_module": "@jupyter-widgets/controls",
      "model_module_version": "1.1.0",
      "model_name": "VBoxModel",
      "state": {
       "children": [
        "IPY_MODEL_bcf6dcf85b7941a68c1edd028f4d5e55",
        "IPY_MODEL_6648d0e70aa640f1a0878fb1d570d5f1",
        "IPY_MODEL_604cbad773b8414e9473a1040bd0c3e2",
        "IPY_MODEL_bb98b79596e64269a7a66e2a7c2910ac",
        "IPY_MODEL_532e5fe905364d2d8b6092d8502a305e",
        "IPY_MODEL_7eb47375419c403a953bedde599e2227"
       ],
       "layout": "IPY_MODEL_9a0c608c215c4f469b93b64a42eea59e"
      }
     },
     "93e3187f94b340a7a808ad87f31eeae4": {
      "model_module": "@jupyter-widgets/controls",
      "model_module_version": "1.1.0",
      "model_name": "VBoxModel",
      "state": {
       "children": [
        "IPY_MODEL_46ec18fb25144390a3758e746842b657",
        "IPY_MODEL_4959603eaee145fd9759404ea4792118",
        "IPY_MODEL_d1565b241bd04941a8fe4738912cff44"
       ],
       "layout": "IPY_MODEL_9a0eaf886136453f9a1c4630cc293bfb"
      }
     },
     "93f0d5c7974540b1afa8a1c6298aba67": {
      "model_module": "@jupyter-widgets/base",
      "model_module_version": "1.0.0",
      "model_name": "LayoutModel",
      "state": {}
     },
     "93f8eb9093904e5b956904fcdf7135e4": {
      "model_module": "@jupyter-widgets/controls",
      "model_module_version": "1.1.0",
      "model_name": "DescriptionStyleModel",
      "state": {
       "description_width": ""
      }
     },
     "9420619e0a4647b6a1a8a8264c9e6331": {
      "model_module": "@jupyter-widgets/base",
      "model_module_version": "1.0.0",
      "model_name": "LayoutModel",
      "state": {}
     },
     "94437db155994cb0a610bb13731b0a74": {
      "model_module": "@jupyter-widgets/controls",
      "model_module_version": "1.1.0",
      "model_name": "ButtonStyleModel",
      "state": {}
     },
     "9448f6987765495c8ce02d2d3ed0dfb5": {
      "model_module": "@jupyter-widgets/base",
      "model_module_version": "1.0.0",
      "model_name": "LayoutModel",
      "state": {
       "align_items": "stretch",
       "border": "solid 2px",
       "display": "flex",
       "flex_flow": "row",
       "width": "50%"
      }
     },
     "948150f274254468909b7630dff2bf54": {
      "model_module": "@jupyter-widgets/base",
      "model_module_version": "1.0.0",
      "model_name": "LayoutModel",
      "state": {}
     },
     "94895fceb60a4fbb9b4050db8e97ebea": {
      "model_module": "@jupyter-widgets/controls",
      "model_module_version": "1.1.0",
      "model_name": "FloatSliderModel",
      "state": {
       "description": "Neurons",
       "layout": "IPY_MODEL_cac87a8b747849f0a0183e60372211fb",
       "max": 1,
       "step": 0.05,
       "style": "IPY_MODEL_fced76a1bb8442eeb95fe8372367a2b8",
       "value": 0.5
      }
     },
     "949546751a564c4491b514d9bbbe2e91": {
      "model_module": "@jupyter-widgets/base",
      "model_module_version": "1.0.0",
      "model_name": "LayoutModel",
      "state": {}
     },
     "949d4674b9b942679ea5291efe31312e": {
      "model_module": "@jupyter-widgets/base",
      "model_module_version": "1.0.0",
      "model_name": "LayoutModel",
      "state": {}
     },
     "94b752f71c324190a3ba923ba4538d88": {
      "model_module": "@jupyter-widgets/base",
      "model_module_version": "1.0.0",
      "model_name": "LayoutModel",
      "state": {
       "display": "flex",
       "flex_flow": "row",
       "justify_content": "flex-end"
      }
     },
     "94c6ebde57034b4db9048ae294c2ef21": {
      "model_module": "@jupyter-widgets/controls",
      "model_module_version": "1.1.0",
      "model_name": "SliderStyleModel",
      "state": {
       "description_width": ""
      }
     },
     "94d00ceea69444b195481cfcc13fb72f": {
      "model_module": "@jupyter-widgets/controls",
      "model_module_version": "1.1.0",
      "model_name": "ButtonStyleModel",
      "state": {}
     },
     "94ebaf4d70ab43e792d01c272360885a": {
      "model_module": "@jupyter-widgets/base",
      "model_module_version": "1.0.0",
      "model_name": "LayoutModel",
      "state": {}
     },
     "94ec766d7a184f95ab2716339ae26cf6": {
      "model_module": "@jupyter-widgets/controls",
      "model_module_version": "1.1.0",
      "model_name": "DescriptionStyleModel",
      "state": {
       "description_width": ""
      }
     },
     "952a0cb9076f4ce5af5dc18731340533": {
      "model_module": "@jupyter-widgets/base",
      "model_module_version": "1.0.0",
      "model_name": "LayoutModel",
      "state": {}
     },
     "9540254444f2493786e893e7eab6adfa": {
      "model_module": "@jupyter-widgets/controls",
      "model_module_version": "1.1.0",
      "model_name": "VBoxModel",
      "state": {
       "children": [
        "IPY_MODEL_4bc69c843c514516b6b1749bd9dfce06",
        "IPY_MODEL_152ce4ebc64d4d339ef2d11e34282b2b",
        "IPY_MODEL_f8e73a4c36844cfa9260a09441920b20",
        "IPY_MODEL_7991c174ce77492d891dbe9c506d0327"
       ],
       "layout": "IPY_MODEL_05ec40b5723c40f7bcef42fcff1742bb"
      }
     },
     "955c5ea039184a1da2edf835585e3df9": {
      "model_module": "@jupyter-widgets/controls",
      "model_module_version": "1.1.0",
      "model_name": "DropdownModel",
      "state": {
       "_options_labels": [
        "Binary",
        "Library"
       ],
       "description": "Download",
       "index": 0,
       "layout": "IPY_MODEL_b97f608bec6e4464b5c6d36c80bb0603",
       "style": "IPY_MODEL_608a28e352b8499ca38faa9db0ae357c"
      }
     },
     "958754759d774fe694e0add157d0d5c3": {
      "model_module": "bqplot",
      "model_module_version": "^0.3.2",
      "model_name": "LinearScaleModel",
      "state": {
       "allow_padding": false,
       "max": 1,
       "min": 0,
       "stabilized": false
      }
     },
     "9592861d7f0745c0bed065b30306f647": {
      "model_module": "@jupyter-widgets/controls",
      "model_module_version": "1.1.0",
      "model_name": "DescriptionStyleModel",
      "state": {
       "description_width": ""
      }
     },
     "95a5c1a80adb48f48d475a09a6fd6d6c": {
      "model_module": "@jupyter-widgets/controls",
      "model_module_version": "1.1.0",
      "model_name": "DropdownModel",
      "state": {
       "description": "Model Name",
       "index": null,
       "layout": "IPY_MODEL_f44e629084cd4488a935cf435d9e5ab4",
       "style": "IPY_MODEL_f657182429264cd182e4681804b3abd0"
      }
     },
     "95d735a9e9864b3f824bf2c0fa1ff3b5": {
      "model_module": "@jupyter-widgets/base",
      "model_module_version": "1.0.0",
      "model_name": "LayoutModel",
      "state": {}
     },
     "95e97cca437d4bf4808f542a45e2d47c": {
      "model_module": "@jupyter-widgets/controls",
      "model_module_version": "1.1.0",
      "model_name": "IntSliderModel",
      "state": {
       "description": "iterations",
       "layout": "IPY_MODEL_a988cc23f6d1485cb7f4889a611985cb",
       "max": 15,
       "min": 1,
       "style": "IPY_MODEL_40b67153c4834d0b8f163ed15de559c3",
       "value": 2
      }
     },
     "95ff9e1e06d24c05b710d62da0e34087": {
      "model_module": "@jupyter-widgets/base",
      "model_module_version": "1.0.0",
      "model_name": "LayoutModel",
      "state": {}
     },
     "96096d094ae8435e83d7592a11cdc8c9": {
      "model_module": "@jupyter-widgets/controls",
      "model_module_version": "1.1.0",
      "model_name": "DropdownModel",
      "state": {
       "_options_labels": [
        "Subject",
        "Gender",
        "Device",
        "Gesture"
       ],
       "description": "Label Column",
       "index": 3,
       "layout": "IPY_MODEL_dfbc2b1e04b245109acd80fd7ad1d59a",
       "style": "IPY_MODEL_e65cfddb120c47b4958c9db1a37ac7e1"
      }
     },
     "963ee29a7c844e8ba27060044041b401": {
      "model_module": "@jupyter-widgets/controls",
      "model_module_version": "1.1.0",
      "model_name": "ButtonModel",
      "state": {
       "description": "Login",
       "layout": "IPY_MODEL_19d1a6b6845542d99e80cc75ef3442cf",
       "style": "IPY_MODEL_8467a02b7f2c4d228b263ccdb616e07c"
      }
     },
     "9644b4369c9c48d7b3ef8b197b26bfa3": {
      "model_module": "@jupyter-widgets/base",
      "model_module_version": "1.0.0",
      "model_name": "LayoutModel",
      "state": {}
     },
     "968b7256f83248249e264e1b8bb8e845": {
      "model_module": "@jupyter-widgets/base",
      "model_module_version": "1.0.0",
      "model_name": "LayoutModel",
      "state": {}
     },
     "968f9ec380e640f2890879acb2b2d86f": {
      "model_module": "@jupyter-widgets/base",
      "model_module_version": "1.0.0",
      "model_name": "LayoutModel",
      "state": {}
     },
     "9695fd97213c4e4998fe7188984420d7": {
      "model_module": "@jupyter-widgets/base",
      "model_module_version": "1.0.0",
      "model_name": "LayoutModel",
      "state": {}
     },
     "96984f65bcd143ebbc2c2f580daa59d1": {
      "model_module": "@jupyter-widgets/controls",
      "model_module_version": "1.1.0",
      "model_name": "HBoxModel",
      "state": {
       "children": [
        "IPY_MODEL_771443a26fa24fb48323a0f2179af1e4",
        "IPY_MODEL_3d2a4d9b6d6442f1be06647c15a9cc35"
       ],
       "layout": "IPY_MODEL_8742755fc0a048edbfafc676d9896fc4"
      }
     },
     "96aae66b3ae64a369219061d8030783b": {
      "model_module": "@jupyter-widgets/base",
      "model_module_version": "1.0.0",
      "model_name": "LayoutModel",
      "state": {}
     },
     "96b6473348e544818cd11c3dfd872032": {
      "model_module": "@jupyter-widgets/controls",
      "model_module_version": "1.1.0",
      "model_name": "SelectMultipleModel",
      "state": {
       "_options_labels": [
        "ble",
        "led",
        "serial"
       ],
       "description": "Output",
       "index": [
        0,
        1,
        2
       ],
       "layout": "IPY_MODEL_4ed45223f37d488b9e4fac9ae15c8870",
       "rows": 5,
       "style": "IPY_MODEL_425b92c3d8a44a38809291d0cb46a5df"
      }
     },
     "96cefe42abf9415485422a93fbeeea06": {
      "model_module": "@jupyter-widgets/controls",
      "model_module_version": "1.1.0",
      "model_name": "HBoxModel",
      "state": {
       "children": [
        "IPY_MODEL_a02d86479ab14e9cbe8ac47a53dbcdab",
        "IPY_MODEL_93d182add9d6492c9a0f8688c02d6a5b",
        "IPY_MODEL_e57185a841074ca9bdad0d7ce980e262"
       ],
       "layout": "IPY_MODEL_5319c744a64b4874b5bfd62dc8945dc3"
      }
     },
     "96e0d4bd2a5d4557bd7c8a146133d9d2": {
      "model_module": "@jupyter-widgets/controls",
      "model_module_version": "1.1.0",
      "model_name": "VBoxModel",
      "state": {
       "children": [
        "IPY_MODEL_e9a0b1ab5b07497b87e767c70b58342a",
        "IPY_MODEL_c7aee0795e8a42f39b0a73eba7a7e3c0",
        "IPY_MODEL_cc95d8594bf942cc89680d3e7a6f2459"
       ],
       "layout": "IPY_MODEL_1b62cb05adf64690ad784d4b9be98442"
      }
     },
     "971b86b183d54b168db7323860a934e0": {
      "model_module": "@jupyter-widgets/base",
      "model_module_version": "1.0.0",
      "model_name": "LayoutModel",
      "state": {}
     },
     "973673a707eb47a583f8acf4ba71f99d": {
      "model_module": "@jupyter-widgets/controls",
      "model_module_version": "1.1.0",
      "model_name": "HBoxModel",
      "state": {
       "children": [
        "IPY_MODEL_0b19acb54d6f4414ada52b562270b349",
        "IPY_MODEL_11e97b1958c845a09f226ef3fd971e40"
       ],
       "layout": "IPY_MODEL_c29cfbd94ee34936b8f173fe10522781"
      }
     },
     "974bfd5cdc9847af98be088e519e81b0": {
      "model_module": "@jupyter-widgets/base",
      "model_module_version": "1.0.0",
      "model_name": "LayoutModel",
      "state": {}
     },
     "97d5691307a945a385c6910c9d6de3a8": {
      "model_module": "@jupyter-widgets/controls",
      "model_module_version": "1.1.0",
      "model_name": "AccordionModel",
      "state": {
       "_titles": {
        "0": "Select or Create Query",
        "1": "AutoSense Pipeline",
        "2": "Download Knowledgepack"
       },
       "children": [
        "IPY_MODEL_24042eae91d34ddb89d9d949928294de",
        "IPY_MODEL_2beb81fef5a5421abe68ee6037e4983c",
        "IPY_MODEL_a0939b2638b141cd874f2a5d45e85cc7"
       ],
       "layout": "IPY_MODEL_450bb8d398234f0db11b7ed7bced9150",
       "selected_index": null
      }
     },
     "98050d0d244347bebcb63e405de5c43d": {
      "model_module": "@jupyter-widgets/base",
      "model_module_version": "1.0.0",
      "model_name": "LayoutModel",
      "state": {}
     },
     "98347f926a97421f8a87c8a83cf18960": {
      "model_module": "@jupyter-widgets/base",
      "model_module_version": "1.0.0",
      "model_name": "LayoutModel",
      "state": {}
     },
     "983db73fb43043e4b7c0e91c724fe9c7": {
      "model_module": "@jupyter-widgets/controls",
      "model_module_version": "1.1.0",
      "model_name": "DropdownModel",
      "state": {
       "_options_labels": [
        "Binary",
        "Library"
       ],
       "description": "Download",
       "index": 0,
       "layout": "IPY_MODEL_f440c3149e7f49bcbf431577fd5cf2f3",
       "style": "IPY_MODEL_4136983d5e714f40806eda7ca319f0d4"
      }
     },
     "986ea51cda11497c8ab764ecb54d182c": {
      "model_module": "@jupyter-widgets/controls",
      "model_module_version": "1.1.0",
      "model_name": "DescriptionStyleModel",
      "state": {
       "description_width": ""
      }
     },
     "9873db5cd6e24b4d9674190120cf1fe5": {
      "model_module": "@jupyter-widgets/base",
      "model_module_version": "1.0.0",
      "model_name": "LayoutModel",
      "state": {
       "display": "flex",
       "flex_flow": "row",
       "justify_content": "flex-end"
      }
     },
     "9883a56d478e471886885ae88808321c": {
      "model_module": "@jupyter-widgets/controls",
      "model_module_version": "1.1.0",
      "model_name": "SliderStyleModel",
      "state": {
       "description_width": ""
      }
     },
     "9886265f01cd46c29d6889c83c68a9a1": {
      "model_module": "@jupyter-widgets/controls",
      "model_module_version": "1.1.0",
      "model_name": "VBoxModel",
      "state": {
       "children": [
        "IPY_MODEL_56cc001c8fdf4a3785254add4e5a995a",
        "IPY_MODEL_864e81b9754746929017f5afb4ab27db",
        "IPY_MODEL_2a08564e471a432d968ca561dc87225a",
        "IPY_MODEL_8a53a0881b5240b78fe447de67ec77a8",
        "IPY_MODEL_95e97cca437d4bf4808f542a45e2d47c",
        "IPY_MODEL_4d9283497fd6448b9edca52a92d356d7"
       ],
       "layout": "IPY_MODEL_a57c9db8df37495fa4d86edaa3bed1cd"
      }
     },
     "98a992b2e0d64cfa835e4e6dd47c4507": {
      "model_module": "@jupyter-widgets/controls",
      "model_module_version": "1.1.0",
      "model_name": "DescriptionStyleModel",
      "state": {
       "description_width": ""
      }
     },
     "98b071a7668a4aa8a142fa8e26238299": {
      "model_module": "@jupyter-widgets/controls",
      "model_module_version": "1.1.0",
      "model_name": "VBoxModel",
      "state": {
       "children": [
        "IPY_MODEL_dfde88810bf44832b8ae5fa457b5b89a",
        "IPY_MODEL_20bb27da23aa4cc19282488f73a00f7a",
        "IPY_MODEL_753016b02e16439a8c4404059fa4d794"
       ],
       "layout": "IPY_MODEL_3ccfd3209e5d409c9c60a0deaa0f5752"
      }
     },
     "98b4a4d469984ce5b6557e996af35f59": {
      "model_module": "@jupyter-widgets/base",
      "model_module_version": "1.0.0",
      "model_name": "LayoutModel",
      "state": {
       "align_items": "flex-start",
       "border": "solid 2px",
       "display": "flex",
       "flex_flow": "column",
       "justify_content": "center",
       "overflow": "visible",
       "width": "25%"
      }
     },
     "98b74ec48ec140eda09da1f266539d59": {
      "model_module": "@jupyter-widgets/base",
      "model_module_version": "1.0.0",
      "model_name": "LayoutModel",
      "state": {}
     },
     "98f648c958aa415493e569a703940fc3": {
      "model_module": "@jupyter-widgets/controls",
      "model_module_version": "1.1.0",
      "model_name": "IntSliderModel",
      "state": {
       "description": "iterations",
       "layout": "IPY_MODEL_8d4067089214450eb606a55ff82b3517",
       "max": 15,
       "min": 1,
       "style": "IPY_MODEL_a26fa114417a491399e0547ea237c783",
       "value": 2
      }
     },
     "9907835238cb419185c098a1c74b490f": {
      "model_module": "@jupyter-widgets/base",
      "model_module_version": "1.0.0",
      "model_name": "LayoutModel",
      "state": {}
     },
     "9910311301f14884a40d96f2b59b59fa": {
      "model_module": "@jupyter-widgets/base",
      "model_module_version": "1.0.0",
      "model_name": "LayoutModel",
      "state": {
       "align_items": "stretch",
       "border": "solid 2px",
       "display": "flex",
       "flex_flow": "row",
       "width": "50%"
      }
     },
     "9931c50ddc40426aa502869c4e85e1e6": {
      "model_module": "@jupyter-widgets/base",
      "model_module_version": "1.0.0",
      "model_name": "LayoutModel",
      "state": {}
     },
     "99682f4ac75e48438ce01c953c903cc1": {
      "model_module": "@jupyter-widgets/base",
      "model_module_version": "1.0.0",
      "model_name": "LayoutModel",
      "state": {}
     },
     "997db36867aa4775bf1458fdce590f4c": {
      "model_module": "@jupyter-widgets/controls",
      "model_module_version": "1.1.0",
      "model_name": "DescriptionStyleModel",
      "state": {
       "description_width": ""
      }
     },
     "99928569446e4b09a92f500711b19244": {
      "model_module": "@jupyter-widgets/base",
      "model_module_version": "1.0.0",
      "model_name": "LayoutModel",
      "state": {}
     },
     "99a177f4162c4162849a678855c23b40": {
      "model_module": "@jupyter-widgets/controls",
      "model_module_version": "1.1.0",
      "model_name": "AccordionModel",
      "state": {
       "_titles": {
        "0": "Select or Create Query"
       },
       "children": [
        "IPY_MODEL_09724c215e764e26bcfc3d0431e865ab"
       ],
       "layout": "IPY_MODEL_87581dfccde14853890c54293c837811"
      }
     },
     "99aebfba381343fc9fc9be6dc8150c37": {
      "model_module": "@jupyter-widgets/controls",
      "model_module_version": "1.1.0",
      "model_name": "ButtonModel",
      "state": {
       "description": "Create",
       "layout": "IPY_MODEL_59096bccddcc4018873d685b8a6dc37b",
       "style": "IPY_MODEL_9a997df94ea14a749b1bc00b78b13b8e"
      }
     },
     "99afc2aa038c41f791f5b9f3e22ae80a": {
      "model_module": "@jupyter-widgets/base",
      "model_module_version": "1.0.0",
      "model_name": "LayoutModel",
      "state": {}
     },
     "99c612874169410391030247a3e17990": {
      "model_module": "@jupyter-widgets/base",
      "model_module_version": "1.0.0",
      "model_name": "LayoutModel",
      "state": {}
     },
     "99f29661adbf4e84bcfa77985a0239c1": {
      "model_module": "@jupyter-widgets/base",
      "model_module_version": "1.0.0",
      "model_name": "LayoutModel",
      "state": {}
     },
     "9a0c608c215c4f469b93b64a42eea59e": {
      "model_module": "@jupyter-widgets/base",
      "model_module_version": "1.0.0",
      "model_name": "LayoutModel",
      "state": {}
     },
     "9a0eaf886136453f9a1c4630cc293bfb": {
      "model_module": "@jupyter-widgets/base",
      "model_module_version": "1.0.0",
      "model_name": "LayoutModel",
      "state": {}
     },
     "9a25077cc1ad4e3d8aed388e1c337639": {
      "model_module": "@jupyter-widgets/controls",
      "model_module_version": "1.1.0",
      "model_name": "HBoxModel",
      "state": {
       "children": [
        "IPY_MODEL_bb2d8bf3698a471b9db375159cfc869f",
        "IPY_MODEL_c2e7b3c2528f45f0b6eb37a17cf62634"
       ],
       "layout": "IPY_MODEL_3ad5cbb4676441d5896a077890e99956"
      }
     },
     "9a62c051e3404007a79e438b175d2fab": {
      "model_module": "@jupyter-widgets/controls",
      "model_module_version": "1.1.0",
      "model_name": "ButtonModel",
      "state": {
       "description": "Generate Knowledgepack",
       "icon": "0",
       "layout": "IPY_MODEL_118e5b973af8452392de6721434cfb75",
       "style": "IPY_MODEL_001c810e288544238fdb094b4a1395e0"
      }
     },
     "9a680c39753e46d7b22aaf0b36fbf6d1": {
      "model_module": "@jupyter-widgets/base",
      "model_module_version": "1.0.0",
      "model_name": "LayoutModel",
      "state": {}
     },
     "9a87e8f8b7bc405ab96dff578a3e3669": {
      "model_module": "@jupyter-widgets/controls",
      "model_module_version": "1.1.0",
      "model_name": "ButtonStyleModel",
      "state": {}
     },
     "9a8ec63fab0d454db0626b4a9fae15d0": {
      "model_module": "@jupyter-widgets/controls",
      "model_module_version": "1.1.0",
      "model_name": "SliderStyleModel",
      "state": {
       "description_width": ""
      }
     },
     "9a9961b3fcb34142b232e4bc083eed75": {
      "model_module": "@jupyter-widgets/controls",
      "model_module_version": "1.1.0",
      "model_name": "VBoxModel",
      "state": {
       "_dom_classes": [
        "widget-interact"
       ],
       "children": [
        "IPY_MODEL_a1035d368d4248eea84be88bcdd823b2",
        "IPY_MODEL_657484c372e44ee0969cba56508f1122"
       ],
       "layout": "IPY_MODEL_2066dc3deb9448db9b9a5817e0101128"
      }
     },
     "9a997df94ea14a749b1bc00b78b13b8e": {
      "model_module": "@jupyter-widgets/controls",
      "model_module_version": "1.1.0",
      "model_name": "ButtonStyleModel",
      "state": {}
     },
     "9afde42c05c34c71a68cb75a0b72aa93": {
      "model_module": "@jupyter-widgets/controls",
      "model_module_version": "1.1.0",
      "model_name": "AccordionModel",
      "state": {
       "_titles": {
        "0": "Select or Create Query"
       },
       "children": [
        "IPY_MODEL_012924be597945148be2bc00dadf9d3c"
       ],
       "layout": "IPY_MODEL_32b06b784bfc45a78bd38bca2582c853"
      }
     },
     "9b4a3352e96e42b6b17fedd8ed9fe19b": {
      "model_module": "@jupyter-widgets/base",
      "model_module_version": "1.0.0",
      "model_name": "LayoutModel",
      "state": {
       "border": "outset"
      }
     },
     "9b66339dfce941579ffebb1d0fe61f04": {
      "model_module": "@jupyter-widgets/controls",
      "model_module_version": "1.1.0",
      "model_name": "ButtonStyleModel",
      "state": {}
     },
     "9b9e814808ed4b1c9f06b87ba8d5587a": {
      "model_module": "@jupyter-widgets/controls",
      "model_module_version": "1.1.0",
      "model_name": "DropdownModel",
      "state": {
       "_options_labels": [
        "Subject",
        "Gender",
        "Device",
        "Gesture"
       ],
       "description": "Label Column",
       "index": 3,
       "layout": "IPY_MODEL_0021a7b8254f4c909aa2cd175464ac91",
       "style": "IPY_MODEL_4524506eaadb4eb29713bab27d81c60a"
      }
     },
     "9ba51a8d9fc842d4b03a17339eff138d": {
      "model_module": "@jupyter-widgets/controls",
      "model_module_version": "1.1.0",
      "model_name": "DescriptionStyleModel",
      "state": {
       "description_width": ""
      }
     },
     "9bbebf9eea8f43b8acbfcd308163f6f1": {
      "model_module": "@jupyter-widgets/base",
      "model_module_version": "1.0.0",
      "model_name": "LayoutModel",
      "state": {
       "border": "solid 2px",
       "display": "flex",
       "flex_flow": "row",
       "justify_content": "center",
       "overflow": "visible"
      }
     },
     "9bcf479f5bc949dfa8d86bbaec951881": {
      "model_module": "@jupyter-widgets/base",
      "model_module_version": "1.0.0",
      "model_name": "LayoutModel",
      "state": {}
     },
     "9bd017a845f147e7b2cc222d243305e3": {
      "model_module": "@jupyter-widgets/base",
      "model_module_version": "1.0.0",
      "model_name": "LayoutModel",
      "state": {}
     },
     "9c0224f5ac904b0da4ff1b01878ee812": {
      "model_module": "@jupyter-widgets/controls",
      "model_module_version": "1.1.0",
      "model_name": "VBoxModel",
      "state": {
       "children": [
        "IPY_MODEL_30c1aba361d44857b9947ea62b20f846",
        "IPY_MODEL_0bf96fa82f884fcbb959473a5abb8072",
        "IPY_MODEL_389bfaa26aac4734b15393c058ae6975",
        "IPY_MODEL_9b9e814808ed4b1c9f06b87ba8d5587a",
        "IPY_MODEL_caff6ce5c248408c8545703181193aee",
        "IPY_MODEL_191b6e6ac9f74c77bd47910d1664d0f5",
        "IPY_MODEL_e88b989b51f6422689b18200cb7230cc",
        "IPY_MODEL_cd1c132896554b2286f91a593845f97a"
       ],
       "layout": "IPY_MODEL_b9fa71851634489e9d9f69931cfa994c"
      }
     },
     "9c2c85749f394b8dbe5efb91081f556e": {
      "model_module": "@jupyter-widgets/controls",
      "model_module_version": "1.1.0",
      "model_name": "SliderStyleModel",
      "state": {
       "description_width": ""
      }
     },
     "9c43685789734be8b7d853c871164c92": {
      "model_module": "@jupyter-widgets/controls",
      "model_module_version": "1.1.0",
      "model_name": "ButtonStyleModel",
      "state": {}
     },
     "9c49521020c84968ae77678300c7f259": {
      "model_module": "@jupyter-widgets/controls",
      "model_module_version": "1.1.0",
      "model_name": "DescriptionStyleModel",
      "state": {
       "description_width": ""
      }
     },
     "9c7df8dd80c349dba3f697431f99769b": {
      "model_module": "@jupyter-widgets/base",
      "model_module_version": "1.0.0",
      "model_name": "LayoutModel",
      "state": {
       "display": "flex",
       "flex_flow": "row",
       "justify_content": "space-between",
       "overflow": "visible"
      }
     },
     "9c87a2d9cfec4deaa35ef09f95c3a6c9": {
      "model_module": "@jupyter-widgets/base",
      "model_module_version": "1.0.0",
      "model_name": "LayoutModel",
      "state": {}
     },
     "9d0cd7ad969847b99584007a6b81df9a": {
      "model_module": "@jupyter-widgets/base",
      "model_module_version": "1.0.0",
      "model_name": "LayoutModel",
      "state": {}
     },
     "9d1e789b072046c08377074228032dcf": {
      "model_module": "@jupyter-widgets/controls",
      "model_module_version": "1.1.0",
      "model_name": "ButtonModel",
      "state": {
       "description": "Login",
       "layout": "IPY_MODEL_c60b0a5594144c9cac71a05b71c70061",
       "style": "IPY_MODEL_c302db9028ed4a00a101610d5fba7e1c"
      }
     },
     "9d21fa8f69ff47d6a405aa2cd6cb5575": {
      "model_module": "@jupyter-widgets/base",
      "model_module_version": "1.0.0",
      "model_name": "LayoutModel",
      "state": {}
     },
     "9d25824a26ee4227ae212b4ae5ad736b": {
      "model_module": "@jupyter-widgets/controls",
      "model_module_version": "1.1.0",
      "model_name": "HBoxModel",
      "state": {
       "children": [
        "IPY_MODEL_c778dac8358c44218e6cc9b60a65692b",
        "IPY_MODEL_3f8966890fa040eb86d2e8f32c57dbd8"
       ],
       "layout": "IPY_MODEL_8255791de0694df4a88e43539d192e6a"
      }
     },
     "9d45009e6d6248bd92b7b6dee29dac37": {
      "model_module": "@jupyter-widgets/base",
      "model_module_version": "1.0.0",
      "model_name": "LayoutModel",
      "state": {}
     },
     "9d67617d61664334911204d435ec6e7e": {
      "model_module": "@jupyter-widgets/base",
      "model_module_version": "1.0.0",
      "model_name": "LayoutModel",
      "state": {}
     },
     "9d860d39526f4b08971eb75f30b28af2": {
      "model_module": "@jupyter-widgets/controls",
      "model_module_version": "1.1.0",
      "model_name": "HBoxModel",
      "state": {
       "children": [
        "IPY_MODEL_8aacb0512cb54f99829f5b872cd3658f",
        "IPY_MODEL_697bb5c1b5aa4a449285a07c43bc119e"
       ],
       "layout": "IPY_MODEL_eb0ec9c13ac346aa91ac3746ea0f2334"
      }
     },
     "9da3b45e720e47558834e2697c0c782b": {
      "model_module": "@jupyter-widgets/controls",
      "model_module_version": "1.1.0",
      "model_name": "DropdownModel",
      "state": {
       "description": "Label Column",
       "index": null,
       "layout": "IPY_MODEL_2a42d8ccef184eaabdf4376d58c0c6e1",
       "style": "IPY_MODEL_3444d185742b416aaaa5387caed1ee2d"
      }
     },
     "9dbcecde447446f0a4dce2ebf7160381": {
      "model_module": "@jupyter-widgets/controls",
      "model_module_version": "1.1.0",
      "model_name": "TextModel",
      "state": {
       "description": "Query Filter",
       "layout": "IPY_MODEL_7bb98e568b3948ee86401bec0f166495",
       "style": "IPY_MODEL_1c7cb570338d48c0b44e7985f3711e18"
      }
     },
     "9e153854b2ce48589861e468473c0a3b": {
      "model_module": "@jupyter-widgets/controls",
      "model_module_version": "1.1.0",
      "model_name": "DropdownModel",
      "state": {
       "_options_labels": [
        "Binary",
        "Library"
       ],
       "description": "Download",
       "index": 0,
       "layout": "IPY_MODEL_a6334e1df49c43c08c3ed3a991ec58d1",
       "style": "IPY_MODEL_997db36867aa4775bf1458fdce590f4c"
      }
     },
     "9e2e966bc0554a9c882ece7dafebd712": {
      "model_module": "@jupyter-widgets/base",
      "model_module_version": "1.0.0",
      "model_name": "LayoutModel",
      "state": {}
     },
     "9e631e0dde994e82a5512779fe2ba402": {
      "model_module": "@jupyter-widgets/base",
      "model_module_version": "1.0.0",
      "model_name": "LayoutModel",
      "state": {}
     },
     "9ea23f7c1e5d4ec19816888a27f9c426": {
      "model_module": "@jupyter-widgets/controls",
      "model_module_version": "1.1.0",
      "model_name": "DescriptionStyleModel",
      "state": {
       "description_width": ""
      }
     },
     "9efccc2123c5483db3a0b2d514901fcf": {
      "model_module": "@jupyter-widgets/base",
      "model_module_version": "1.0.0",
      "model_name": "LayoutModel",
      "state": {}
     },
     "9f2e2e1d9b8845a5b22be1db01394a79": {
      "model_module": "@jupyter-widgets/controls",
      "model_module_version": "1.1.0",
      "model_name": "DescriptionStyleModel",
      "state": {
       "description_width": ""
      }
     },
     "9f373b1a4f8e434abe1086d254549e55": {
      "model_module": "@jupyter-widgets/controls",
      "model_module_version": "1.1.0",
      "model_name": "ButtonStyleModel",
      "state": {}
     },
     "a00d73bc34294534a68c56d12b63845f": {
      "model_module": "@jupyter-widgets/controls",
      "model_module_version": "1.1.0",
      "model_name": "SelectMultipleModel",
      "state": {
       "_options_labels": [
        "ble",
        "led",
        "serial"
       ],
       "description": "Output",
       "index": [],
       "layout": "IPY_MODEL_0a3e489f436a4d5db7c4058e61454803",
       "rows": 5,
       "style": "IPY_MODEL_e72e1a55240149c48ff04cdaa85f0b94"
      }
     },
     "a02d86479ab14e9cbe8ac47a53dbcdab": {
      "model_module": "@jupyter-widgets/controls",
      "model_module_version": "1.1.0",
      "model_name": "VBoxModel",
      "state": {
       "children": [
        "IPY_MODEL_541a00e7bbd54d8995ef722fe0105ae4",
        "IPY_MODEL_39a79c74992a4d9bb4f9b523a5609217",
        "IPY_MODEL_6a7dcccd2efe4665a90fd5a903502a02",
        "IPY_MODEL_7eee0f5aab9f48809f1b2c722dccb32b"
       ],
       "layout": "IPY_MODEL_03e13426f250479c9c654ab590330bdf"
      }
     },
     "a0342d2e6c0345f0aa8da8af091900b6": {
      "model_module": "@jupyter-widgets/base",
      "model_module_version": "1.0.0",
      "model_name": "LayoutModel",
      "state": {}
     },
     "a04db7b8ae154c10a3b78fd1aade8fa5": {
      "model_module": "@jupyter-widgets/base",
      "model_module_version": "1.0.0",
      "model_name": "LayoutModel",
      "state": {}
     },
     "a059fad0a48d4b0fb670000a809a3bb9": {
      "model_module": "@jupyter-widgets/base",
      "model_module_version": "1.0.0",
      "model_name": "LayoutModel",
      "state": {}
     },
     "a0786f3858444ba39cec0fc3e3202c32": {
      "model_module": "bqplot",
      "model_module_version": "^0.3.2",
      "model_name": "BarsModel",
      "state": {
       "color": {
        "type": null,
        "values": null
       },
       "color_mode": "group",
       "colors": [
        "steelblue"
       ],
       "display_legend": false,
       "scales": {
        "x": "IPY_MODEL_0e8399b929c446a18e71f1538a437629",
        "y": "IPY_MODEL_82b9199bc0b14e49a25f7f50d00d864a"
       },
       "selected": [],
       "x": {
        "type": "<U1",
        "values": [
         "A",
         "B"
        ]
       },
       "y": {
        "type": "float",
        "values": [
         20,
         24
        ]
       }
      }
     },
     "a0868cea18b640aba711406a18247c85": {
      "model_module": "@jupyter-widgets/controls",
      "model_module_version": "1.1.0",
      "model_name": "LabelModel",
      "state": {
       "layout": "IPY_MODEL_924e8bd810cb4438bb29f6f6a47d0742",
       "style": "IPY_MODEL_1ef61fb8b92549ff86c8f1be3bdc2d1a",
       "value": "Download Settings"
      }
     },
     "a08bb2a2918a4d1ba406b5cb94566b78": {
      "model_module": "@jupyter-widgets/base",
      "model_module_version": "1.0.0",
      "model_name": "LayoutModel",
      "state": {
       "display": "flex",
       "flex_flow": "row",
       "justify_content": "space-between"
      }
     },
     "a0939b2638b141cd874f2a5d45e85cc7": {
      "model_module": "@jupyter-widgets/controls",
      "model_module_version": "1.1.0",
      "model_name": "VBoxModel",
      "state": {
       "children": [
        "IPY_MODEL_c1f29c61d0084ab0823f9788ae9591f5",
        "IPY_MODEL_2e4bbff9546945aca66bffba1b949492",
        "IPY_MODEL_615c264af1994b68997985017c9a0b3c"
       ],
       "layout": "IPY_MODEL_2235bfdc06d24515a5dfd1c47ac736a0"
      }
     },
     "a09b494ddf0d48bfb3a0c9bec12a99dc": {
      "model_module": "@jupyter-widgets/controls",
      "model_module_version": "1.1.0",
      "model_name": "DescriptionStyleModel",
      "state": {
       "description_width": ""
      }
     },
     "a09d6f7352754b4e8d4323d95395670b": {
      "model_module": "bqplot",
      "model_module_version": "^0.3.2",
      "model_name": "LinearScaleModel",
      "state": {
       "allow_padding": false,
       "max": 1,
       "min": 0,
       "stabilized": false
      }
     },
     "a0ac927903d44c06b67da8a6ffbc2e13": {
      "model_module": "@jupyter-widgets/controls",
      "model_module_version": "1.1.0",
      "model_name": "VBoxModel",
      "state": {
       "children": [
        "IPY_MODEL_a1a7bb600f1e47e39967877d2f7f9c4f",
        "IPY_MODEL_441704e4925e4c78be3fc5225826e2b5",
        "IPY_MODEL_1616756e17f64749869e5b1d5d4d6fba",
        "IPY_MODEL_4559be6b35024bc0b49a444cd4cbfc84"
       ],
       "layout": "IPY_MODEL_f8f4576766574c9fab373fc000aab9b8"
      }
     },
     "a0b6018eb83548fc8e11d69abb386da9": {
      "model_module": "@jupyter-widgets/controls",
      "model_module_version": "1.1.0",
      "model_name": "IntSliderModel",
      "state": {
       "description": "iterations",
       "layout": "IPY_MODEL_e1cb828a2876438c8937690ac3dfdfaf",
       "max": 15,
       "min": 1,
       "style": "IPY_MODEL_c249226141b44165a09e6942534ba171",
       "value": 2
      }
     },
     "a0fa85e8e18440e38790a92b5f2a18fa": {
      "model_module": "@jupyter-widgets/controls",
      "model_module_version": "1.1.0",
      "model_name": "DescriptionStyleModel",
      "state": {
       "description_width": ""
      }
     },
     "a102476513c84531b64fb9721ca8e535": {
      "model_module": "@jupyter-widgets/controls",
      "model_module_version": "1.1.0",
      "model_name": "DropdownModel",
      "state": {
       "description": "Select Project",
       "index": null,
       "layout": "IPY_MODEL_3464bf79902c4cc3b401bddbab78112f",
       "style": "IPY_MODEL_93f8eb9093904e5b956904fcdf7135e4"
      }
     },
     "a1035d368d4248eea84be88bcdd823b2": {
      "model_module": "@jupyter-widgets/controls",
      "model_module_version": "1.1.0",
      "model_name": "DropdownModel",
      "state": {
       "_options_labels": [
        "Advanced Features",
        "Basic Features",
        "Custom",
        "Downsampled Features",
        "Histogram Features",
        "No Feature Generation"
       ],
       "description": "Name",
       "index": 0,
       "layout": "IPY_MODEL_631415a43f4748a6927cf16186978117",
       "style": "IPY_MODEL_3f54449d04274e438be03e752501ccc0"
      }
     },
     "a10d64d9f0d44d2fb1268000ef952afc": {
      "model_module": "@jupyter-widgets/controls",
      "model_module_version": "1.1.0",
      "model_name": "DescriptionStyleModel",
      "state": {
       "description_width": ""
      }
     },
     "a120276b20114f2bafc1df209fd49ab7": {
      "model_module": "@jupyter-widgets/controls",
      "model_module_version": "1.1.0",
      "model_name": "VBoxModel",
      "state": {
       "_dom_classes": [
        "widget-interact"
       ],
       "children": [
        "IPY_MODEL_d65955a185344d0c9160ac190a1011f8",
        "IPY_MODEL_d69a0a2b3d684f5c8a4ea245d209a4c6"
       ],
       "layout": "IPY_MODEL_c0586947a41844d2bc71d36ce91e31b8"
      }
     },
     "a165f378369540caa0b0cd93e2720618": {
      "model_module": "@jupyter-widgets/base",
      "model_module_version": "1.0.0",
      "model_name": "LayoutModel",
      "state": {}
     },
     "a1a3c6d2162b48f3adbfdf49d69f2ffb": {
      "model_module": "@jupyter-widgets/controls",
      "model_module_version": "1.1.0",
      "model_name": "DescriptionStyleModel",
      "state": {
       "description_width": ""
      }
     },
     "a1a7bb600f1e47e39967877d2f7f9c4f": {
      "model_module": "@jupyter-widgets/controls",
      "model_module_version": "1.1.0",
      "model_name": "HBoxModel",
      "state": {
       "children": [
        "IPY_MODEL_9d1e789b072046c08377074228032dcf",
        "IPY_MODEL_a102476513c84531b64fb9721ca8e535",
        "IPY_MODEL_7ec13f6d22be402eb570116b85837148"
       ],
       "layout": "IPY_MODEL_bc0a146cac534571bd49287ab4e2fb18"
      }
     },
     "a1d7f01a659d4be6be5b4758b62f648e": {
      "model_module": "@jupyter-widgets/controls",
      "model_module_version": "1.1.0",
      "model_name": "ButtonStyleModel",
      "state": {}
     },
     "a1db2f6102eb4e43bd164dc0476f0a45": {
      "model_module": "@jupyter-widgets/base",
      "model_module_version": "1.0.0",
      "model_name": "LayoutModel",
      "state": {}
     },
     "a24c0422d5664db9a5c73c08f1bb55ec": {
      "model_module": "@jupyter-widgets/controls",
      "model_module_version": "1.1.0",
      "model_name": "DropdownModel",
      "state": {
       "_options_labels": [
        "NordicSDK"
       ],
       "description": "Target OS",
       "index": 0,
       "layout": "IPY_MODEL_144390c320224c6ea00126030a71300b",
       "style": "IPY_MODEL_076c7899ac2a43e185139da14843a9de"
      }
     },
     "a26fa114417a491399e0547ea237c783": {
      "model_module": "@jupyter-widgets/controls",
      "model_module_version": "1.1.0",
      "model_name": "SliderStyleModel",
      "state": {
       "description_width": ""
      }
     },
     "a283c7041efe4635b8b6c59c82ea1096": {
      "model_module": "@jupyter-widgets/controls",
      "model_module_version": "1.1.0",
      "model_name": "DescriptionStyleModel",
      "state": {
       "description_width": ""
      }
     },
     "a299dcfca7c64aeab2577a3f0d8de810": {
      "model_module": "@jupyter-widgets/base",
      "model_module_version": "1.0.0",
      "model_name": "LayoutModel",
      "state": {}
     },
     "a29bfe41fa9c43a5bdee35cbed8fb432": {
      "model_module": "@jupyter-widgets/controls",
      "model_module_version": "1.1.0",
      "model_name": "ButtonStyleModel",
      "state": {}
     },
     "a2ab102431694943a5ef9b57193b257a": {
      "model_module": "@jupyter-widgets/controls",
      "model_module_version": "1.1.0",
      "model_name": "DescriptionStyleModel",
      "state": {
       "description_width": ""
      }
     },
     "a2b2439a66a2417eac162d84ee77114a": {
      "model_module": "@jupyter-widgets/base",
      "model_module_version": "1.0.0",
      "model_name": "LayoutModel",
      "state": {}
     },
     "a2d2e268a3fa4650849a1efdb4651f9a": {
      "model_module": "@jupyter-widgets/base",
      "model_module_version": "1.0.0",
      "model_name": "LayoutModel",
      "state": {
       "align_items": "stretch",
       "border": "solid 2px",
       "display": "flex",
       "flex_flow": "row",
       "width": "50%"
      }
     },
     "a325281bbde546d59638a61745803b72": {
      "model_module": "@jupyter-widgets/base",
      "model_module_version": "1.0.0",
      "model_name": "LayoutModel",
      "state": {
       "width": "300px"
      }
     },
     "a34813b8139b45c78f57ee78a5ba2e47": {
      "model_module": "@jupyter-widgets/controls",
      "model_module_version": "1.1.0",
      "model_name": "TextModel",
      "state": {
       "description": "New Pipeline",
       "layout": "IPY_MODEL_135d9e2c216a4fa68bf5dc07d417b896",
       "style": "IPY_MODEL_b371e3c9faaf4af7a4de78528e604a69",
       "value": "New Pipeline"
      }
     },
     "a34c9787835641f8aef6c18c192d10d0": {
      "model_module": "@jupyter-widgets/controls",
      "model_module_version": "1.1.0",
      "model_name": "VBoxModel",
      "state": {
       "children": [
        "IPY_MODEL_5271e31c48fc43ad98fc9db959222511",
        "IPY_MODEL_c03574364f3c4da88349d6cba59b2328",
        "IPY_MODEL_2414952a51e44703a2756b6f9ca2d9b8"
       ],
       "layout": "IPY_MODEL_7316072c4d9f4c88b83b6c60101f919f"
      }
     },
     "a35e9b92ed974338a13e11e6efc44fa6": {
      "model_module": "@jupyter-widgets/controls",
      "model_module_version": "1.1.0",
      "model_name": "ButtonModel",
      "state": {
       "description": "Generate Knowledgepack",
       "icon": "0",
       "layout": "IPY_MODEL_c67708b219a144c6b7e425f3c0b4a9e7",
       "style": "IPY_MODEL_aea00aeaf78b4433b93e4591bd5491bb"
      }
     },
     "a3672b4d526f4236b84f5bc119539cde": {
      "model_module": "@jupyter-widgets/base",
      "model_module_version": "1.0.0",
      "model_name": "LayoutModel",
      "state": {
       "display": "flex",
       "flex_flow": "row",
       "justify_content": "space-between"
      }
     },
     "a3a691362a1842aaa79ec934324dd13a": {
      "model_module": "@jupyter-widgets/controls",
      "model_module_version": "1.1.0",
      "model_name": "ButtonStyleModel",
      "state": {}
     },
     "a3dfdf3185b04e79aad4b53c40549968": {
      "model_module": "@jupyter-widgets/base",
      "model_module_version": "1.0.0",
      "model_name": "LayoutModel",
      "state": {}
     },
     "a3e2e05583134e289b7a031339799c75": {
      "model_module": "@jupyter-widgets/controls",
      "model_module_version": "1.1.0",
      "model_name": "DescriptionStyleModel",
      "state": {
       "description_width": ""
      }
     },
     "a400d434832b45f89656e2543691a62b": {
      "model_module": "@jupyter-widgets/controls",
      "model_module_version": "1.1.0",
      "model_name": "TextModel",
      "state": {
       "description": "Query Filter",
       "layout": "IPY_MODEL_2849e34fa779410d837c65098de24d91",
       "style": "IPY_MODEL_109646aec790421bb7f6beb3cb17be02"
      }
     },
     "a426852054194f87862e0c196ac53e17": {
      "model_module": "@jupyter-widgets/controls",
      "model_module_version": "1.1.0",
      "model_name": "DropdownModel",
      "state": {
       "description": "Select Query",
       "index": null,
       "layout": "IPY_MODEL_3862171e51b34d0fb7ff75a8a0921b4a",
       "style": "IPY_MODEL_eeda7dc9654e46448412b71b6cea81b5"
      }
     },
     "a42809b8518c46f3bb4ff6f3feaa0b90": {
      "model_module": "@jupyter-widgets/controls",
      "model_module_version": "1.1.0",
      "model_name": "DescriptionStyleModel",
      "state": {
       "description_width": ""
      }
     },
     "a428a0fa65f64ff09b3db1001934c0d8": {
      "model_module": "@jupyter-widgets/controls",
      "model_module_version": "1.1.0",
      "model_name": "HBoxModel",
      "state": {
       "children": [
        "IPY_MODEL_35902c49cc834443a04cfbb3b4c7f972",
        "IPY_MODEL_5793bfe66f5f42b0901e23cf3dc1043c",
        "IPY_MODEL_05303f9b74ff483a94b7d8156849767c"
       ],
       "layout": "IPY_MODEL_ef4d3d5f8ef34128bae0182efc890f34"
      }
     },
     "a42ad5c3d65646069225f10b0924d3e3": {
      "model_module": "@jupyter-widgets/controls",
      "model_module_version": "1.1.0",
      "model_name": "DescriptionStyleModel",
      "state": {
       "description_width": ""
      }
     },
     "a4bec04478c94863ad05c4c76e6a03ab": {
      "model_module": "@jupyter-widgets/base",
      "model_module_version": "1.0.0",
      "model_name": "LayoutModel",
      "state": {}
     },
     "a4d9d98504ba4093867c623371703e6c": {
      "model_module": "@jupyter-widgets/base",
      "model_module_version": "1.0.0",
      "model_name": "LayoutModel",
      "state": {}
     },
     "a4e083cd87db4928b82a7ff4966d2670": {
      "model_module": "@jupyter-widgets/controls",
      "model_module_version": "1.1.0",
      "model_name": "DescriptionStyleModel",
      "state": {
       "description_width": ""
      }
     },
     "a4e37b850822440e86a609a0dfce265a": {
      "model_module": "@jupyter-widgets/base",
      "model_module_version": "1.0.0",
      "model_name": "LayoutModel",
      "state": {}
     },
     "a4e66f541ce74b68b39615a80c17d535": {
      "model_module": "@jupyter-widgets/base",
      "model_module_version": "1.0.0",
      "model_name": "LayoutModel",
      "state": {
       "min_width": "125px"
      }
     },
     "a56e308f80a74f7a8ed75d512f1cbfeb": {
      "model_module": "@jupyter-widgets/controls",
      "model_module_version": "1.1.0",
      "model_name": "DescriptionStyleModel",
      "state": {
       "description_width": ""
      }
     },
     "a57c9db8df37495fa4d86edaa3bed1cd": {
      "model_module": "@jupyter-widgets/base",
      "model_module_version": "1.0.0",
      "model_name": "LayoutModel",
      "state": {}
     },
     "a5b29f017dbf4bc79954bc2f4d298cff": {
      "model_module": "@jupyter-widgets/controls",
      "model_module_version": "1.1.0",
      "model_name": "DescriptionStyleModel",
      "state": {
       "description_width": ""
      }
     },
     "a5c4311b425443ea825e0b48313873dd": {
      "model_module": "@jupyter-widgets/controls",
      "model_module_version": "1.1.0",
      "model_name": "DescriptionStyleModel",
      "state": {
       "description_width": ""
      }
     },
     "a60a4185239c4b72914457b46f44923f": {
      "model_module": "@jupyter-widgets/controls",
      "model_module_version": "1.1.0",
      "model_name": "FloatSliderModel",
      "state": {
       "description": "Neurons",
       "layout": "IPY_MODEL_5a4ef870eeda4d48b1ecbc6d18903cfd",
       "max": 1,
       "step": 0.05,
       "style": "IPY_MODEL_ebfe4dc07b1044e68c6fa4995cbbaf70",
       "value": 0.5
      }
     },
     "a6334e1df49c43c08c3ed3a991ec58d1": {
      "model_module": "@jupyter-widgets/base",
      "model_module_version": "1.0.0",
      "model_name": "LayoutModel",
      "state": {}
     },
     "a6380e69f6804fa3bb93c744387ec659": {
      "model_module": "qgrid",
      "model_module_version": "1.0.0",
      "model_name": "QgridModel",
      "state": {
       "_columns": {
        "f1_score": {
         "name": "f1_score",
         "position": 4,
         "type": "string"
        },
        "features": {
         "name": "features",
         "position": 3,
         "type": "string"
        },
        "index": {
         "is_index": true,
         "name": "index",
         "position": 0,
         "type": "integer"
        },
        "neurons": {
         "name": "neurons",
         "position": 2,
         "type": "string"
        },
        "qgrid_unfiltered_index": {
         "name": "qgrid_unfiltered_index",
         "position": 1,
         "type": "number"
        }
       },
       "_df_json": "{\"schema\": {\"fields\":[{\"type\":\"integer\",\"name\":\"index\"},{\"type\":\"number\",\"name\":\"qgrid_unfiltered_index\"},{\"type\":\"string\",\"name\":\"neurons\"},{\"type\":\"string\",\"name\":\"features\"},{\"type\":\"string\",\"name\":\"f1_score\"}],\"pandas_version\":\"0.20.0\",\"primaryKey\":[\"index\"]}, \"data\": []}",
       "_df_range": [
        0,
        100
       ],
       "_index_col_name": "qgrid_unfiltered_index",
       "_interval_columns": [],
       "_model_module_version": "1.0.0",
       "_page_size": 100,
       "_row_count": 0,
       "_sort_ascending": true,
       "_sort_field": "",
       "_view_module_version": "1.0.0",
       "grid_options": {
        "autoEdit": false,
        "defaultColumnWidth": 15,
        "editable": false,
        "enableColumnReorder": false,
        "enableTextSelectionOnCells": true,
        "explicitInitialization": true,
        "forceFitColumns": true,
        "fullWidthRows": true,
        "maxVisibleRows": 5,
        "minVisibleRows": 5,
        "rowHeight": 35,
        "syncColumnCellResize": true
       },
       "layout": "IPY_MODEL_2a9bcbdde19d474cada38e1b1be8bf8f",
       "precision": 5,
       "show_toolbar": false
      }
     },
     "a68274d9fec94728bb8f7157065eba98": {
      "model_module": "@jupyter-widgets/controls",
      "model_module_version": "1.1.0",
      "model_name": "HBoxModel",
      "state": {
       "children": [
        "IPY_MODEL_290490533ebf4cb2b8b8d56c1cf6d41f",
        "IPY_MODEL_ab4cecd2e2e14a3ba7cfa0b1b774d6c2",
        "IPY_MODEL_03ac1377263a49d0a6d903c6ffada731"
       ],
       "layout": "IPY_MODEL_d79fa39e0e5f4ae1890f1c01c5d2f59c"
      }
     },
     "a6926511a69246b79f22b5b48940076b": {
      "model_module": "@jupyter-widgets/controls",
      "model_module_version": "1.1.0",
      "model_name": "SliderStyleModel",
      "state": {
       "description_width": ""
      }
     },
     "a6a5271a1d1f4c49849e3ab9639a3b7a": {
      "model_module": "@jupyter-widgets/controls",
      "model_module_version": "1.1.0",
      "model_name": "VBoxModel",
      "state": {
       "children": [
        "IPY_MODEL_6bab5593eb4a4deda78291871c27079d",
        "IPY_MODEL_d24366a9f13c4a9c8025c68cdf3431cb",
        "IPY_MODEL_164dc4ede9294aafa26d662422d4306e"
       ],
       "layout": "IPY_MODEL_ad6434051ad84a9b9afca905c562d503"
      }
     },
     "a6d91a6c4ef8485f8448381282a5e740": {
      "model_module": "@jupyter-widgets/controls",
      "model_module_version": "1.1.0",
      "model_name": "DescriptionStyleModel",
      "state": {
       "description_width": ""
      }
     },
     "a7011c4ad6e8407abd2f9978283bfaa0": {
      "model_module": "@jupyter-widgets/controls",
      "model_module_version": "1.1.0",
      "model_name": "ButtonModel",
      "state": {
       "description": "Run Autopipeline",
       "layout": "IPY_MODEL_0b51ed6ad4bd4019b74cd9c3c0635fb0",
       "style": "IPY_MODEL_4b298909ca7d43b5921bea717f64f4a6"
      }
     },
     "a7211d279e804b6aacbbf283aefedb19": {
      "model_module": "bqplot",
      "model_module_version": "^0.3.2",
      "model_name": "LinearScaleModel",
      "state": {
       "min": 0,
       "stabilized": false
      }
     },
     "a791edb6cfd545d284fd08a6d96a902f": {
      "model_module": "@jupyter-widgets/base",
      "model_module_version": "1.0.0",
      "model_name": "LayoutModel",
      "state": {}
     },
     "a7a95ded908b4164af261843dc71068e": {
      "model_module": "@jupyter-widgets/controls",
      "model_module_version": "1.1.0",
      "model_name": "DescriptionStyleModel",
      "state": {
       "description_width": ""
      }
     },
     "a7c1e49699a3436dbbea04f66c0c3673": {
      "model_module": "@jupyter-widgets/controls",
      "model_module_version": "1.1.0",
      "model_name": "LabelModel",
      "state": {
       "layout": "IPY_MODEL_a986bb408996447fb465f8c2053223cf",
       "style": "IPY_MODEL_d99a8474dfd84d05ba41d5980837245a",
       "value": "Download Settings"
      }
     },
     "a7d68af2bf3e489c8732c0b065b7ec1e": {
      "model_module": "@jupyter-widgets/base",
      "model_module_version": "1.0.0",
      "model_name": "LayoutModel",
      "state": {}
     },
     "a7e38ccd98d84d6386d1d44a413de4d7": {
      "model_module": "@jupyter-widgets/base",
      "model_module_version": "1.0.0",
      "model_name": "LayoutModel",
      "state": {}
     },
     "a7e73711c2154660a3979d5b9128e49e": {
      "model_module": "@jupyter-widgets/base",
      "model_module_version": "1.0.0",
      "model_name": "LayoutModel",
      "state": {}
     },
     "a7ee325540984268836fc99a7556431a": {
      "model_module": "@jupyter-widgets/controls",
      "model_module_version": "1.1.0",
      "model_name": "DropdownModel",
      "state": {
       "_options_labels": [
        "Binary",
        "Library"
       ],
       "description": "Download",
       "index": 0,
       "layout": "IPY_MODEL_ab577d502ca44d35bbfa2e3c6f90a5b9",
       "style": "IPY_MODEL_539b5ed392ec49b198fb7d065fec53ee"
      }
     },
     "a8031c5d2a3e47eb81395a4ebdcebb22": {
      "model_module": "@jupyter-widgets/controls",
      "model_module_version": "1.1.0",
      "model_name": "DescriptionStyleModel",
      "state": {
       "description_width": ""
      }
     },
     "a814fb77b7d849adb3769290b7f05520": {
      "model_module": "@jupyter-widgets/base",
      "model_module_version": "1.0.0",
      "model_name": "LayoutModel",
      "state": {}
     },
     "a815529ce2bc43c1b6dbd77d769755de": {
      "model_module": "@jupyter-widgets/controls",
      "model_module_version": "1.1.0",
      "model_name": "HBoxModel",
      "state": {
       "children": [
        "IPY_MODEL_3023fbd616bf4c6099afa11819276e9b",
        "IPY_MODEL_696f4bc748f2404ead8db6cdc5292f9e"
       ],
       "layout": "IPY_MODEL_e68084d1492f40e69d9df7983360397b"
      }
     },
     "a816432d92b643b6b0bc56e753424e9d": {
      "model_module": "@jupyter-widgets/controls",
      "model_module_version": "1.1.0",
      "model_name": "HBoxModel",
      "state": {
       "children": [
        "IPY_MODEL_9c0224f5ac904b0da4ff1b01878ee812",
        "IPY_MODEL_f5afb28ac38a443a84afdbb9e6a0fd3e"
       ],
       "layout": "IPY_MODEL_86295fc4b47d4ad5afb7ce1147441b38"
      }
     },
     "a8261cb7ef074db397583bbcdaa64d81": {
      "model_module": "@jupyter-widgets/base",
      "model_module_version": "1.0.0",
      "model_name": "LayoutModel",
      "state": {
       "justify_content": "flex-start",
       "overflow": "visible"
      }
     },
     "a83f505ef64d4a9c8a092299bd174f7e": {
      "model_module": "bqplot",
      "model_module_version": "^0.3.2",
      "model_name": "LinearScaleModel",
      "state": {
       "allow_padding": false,
       "max": 1,
       "min": 0,
       "stabilized": false
      }
     },
     "a88b869acad246458a4332b957b3ae64": {
      "model_module": "@jupyter-widgets/controls",
      "model_module_version": "1.1.0",
      "model_name": "DescriptionStyleModel",
      "state": {
       "description_width": ""
      }
     },
     "a8db4728bd4447c09fe071fd7945e249": {
      "model_module": "@jupyter-widgets/controls",
      "model_module_version": "1.1.0",
      "model_name": "IntSliderModel",
      "state": {
       "description": "population size",
       "layout": "IPY_MODEL_9907835238cb419185c098a1c74b490f",
       "max": 50,
       "min": 10,
       "style": "IPY_MODEL_9883a56d478e471886885ae88808321c",
       "value": 10
      }
     },
     "a93dcdb0e8854643bb12e505e5a81f73": {
      "model_module": "@jupyter-widgets/base",
      "model_module_version": "1.0.0",
      "model_name": "LayoutModel",
      "state": {}
     },
     "a97716a45a7143eaa04f036e5ee548a3": {
      "model_module": "@jupyter-widgets/base",
      "model_module_version": "1.0.0",
      "model_name": "LayoutModel",
      "state": {}
     },
     "a986bb408996447fb465f8c2053223cf": {
      "model_module": "@jupyter-widgets/base",
      "model_module_version": "1.0.0",
      "model_name": "LayoutModel",
      "state": {
       "justify_content": "flex-start",
       "overflow": "visible"
      }
     },
     "a988cc23f6d1485cb7f4889a611985cb": {
      "model_module": "@jupyter-widgets/base",
      "model_module_version": "1.0.0",
      "model_name": "LayoutModel",
      "state": {}
     },
     "a9ac2763071c43ca990bb998c2ee7c2b": {
      "model_module": "@jupyter-widgets/controls",
      "model_module_version": "1.1.0",
      "model_name": "ButtonStyleModel",
      "state": {}
     },
     "a9b1796277ef4abfad261a5f10c8e832": {
      "model_module": "@jupyter-widgets/controls",
      "model_module_version": "1.1.0",
      "model_name": "VBoxModel",
      "state": {
       "children": [
        "IPY_MODEL_5b0b400950e34b069870aed7d3ba2a9f",
        "IPY_MODEL_af2f4f804da845769b650352e15438f6",
        "IPY_MODEL_744f3806f59b4191888c49abe9774c03"
       ],
       "layout": "IPY_MODEL_36c25f0836ae41909fa2fb9f64fbcb3a"
      }
     },
     "a9b8763d8f914ff0b8ca611c9a0d5caf": {
      "model_module": "@jupyter-widgets/controls",
      "model_module_version": "1.1.0",
      "model_name": "DescriptionStyleModel",
      "state": {
       "description_width": ""
      }
     },
     "a9cacab4aa7c4347bad79d380018c62f": {
      "model_module": "@jupyter-widgets/controls",
      "model_module_version": "1.1.0",
      "model_name": "VBoxModel",
      "state": {
       "children": [
        "IPY_MODEL_5864d68b1de94f17805c5889cc63345f",
        "IPY_MODEL_7b576e901a34428a9fdcbc7cfa67d4bf",
        "IPY_MODEL_3a99b8d2b7994346868dd09ae337f123",
        "IPY_MODEL_d7b9005feebf41019558ea5e90597d40"
       ],
       "layout": "IPY_MODEL_18e6d1bb2d40489e885a86220f4c9300"
      }
     },
     "a9d34c5a06ee427d9a5dd40b8186a10e": {
      "model_module": "@jupyter-widgets/base",
      "model_module_version": "1.0.0",
      "model_name": "LayoutModel",
      "state": {}
     },
     "a9f43c2edf6a4b58943b2970fa9b7490": {
      "model_module": "@jupyter-widgets/base",
      "model_module_version": "1.0.0",
      "model_name": "LayoutModel",
      "state": {}
     },
     "aa22a664a1dc41be9140c72d9560d09e": {
      "model_module": "@jupyter-widgets/base",
      "model_module_version": "1.0.0",
      "model_name": "LayoutModel",
      "state": {}
     },
     "aa6458277bd44ad8b2f020364bbf65ec": {
      "model_module": "@jupyter-widgets/base",
      "model_module_version": "1.0.0",
      "model_name": "LayoutModel",
      "state": {}
     },
     "aa97cf346f04447eafd1f834509d5470": {
      "model_module": "@jupyter-widgets/controls",
      "model_module_version": "1.1.0",
      "model_name": "ButtonModel",
      "state": {
       "description": "Refresh",
       "icon": "0",
       "layout": "IPY_MODEL_89232879964046369d590f71d7cdcf33",
       "style": "IPY_MODEL_4907d6858fe349a282f881b92e436ae9"
      }
     },
     "aacace959214407bba897275256858ec": {
      "model_module": "@jupyter-widgets/base",
      "model_module_version": "1.0.0",
      "model_name": "LayoutModel",
      "state": {}
     },
     "aad7540238584d679af13735086b51c9": {
      "model_module": "@jupyter-widgets/controls",
      "model_module_version": "1.1.0",
      "model_name": "DropdownModel",
      "state": {
       "_options_labels": [
        "100",
        "50",
        "25"
       ],
       "description": "IMU Rate",
       "index": 0,
       "layout": "IPY_MODEL_a7e73711c2154660a3979d5b9128e49e",
       "style": "IPY_MODEL_ea12d094c0f5482e82c2ff7c210d784e"
      }
     },
     "ab000a4bd8db475cb0da5f7b43b06114": {
      "model_module": "bqplot",
      "model_module_version": "^0.3.2",
      "model_name": "BarsModel",
      "state": {
       "color": {
        "type": null,
        "values": null
       },
       "color_mode": "group",
       "colors": [
        "steelblue"
       ],
       "display_legend": false,
       "scales": {
        "x": "IPY_MODEL_c7ddaa7f65d946f3bca814818328574d",
        "y": "IPY_MODEL_63151f9a2d224db99dad867452f8d0ea"
       },
       "selected": [],
       "x": {
        "type": "<U1",
        "values": [
         "A",
         "B",
         "C",
         "D",
         "E",
         "F"
        ]
       },
       "y": {
        "type": "float",
        "values": [
         20,
         24,
         16,
         20,
         16,
         15
        ]
       }
      }
     },
     "ab342df2aa0745e09ae038a69c417f47": {
      "model_module": "@jupyter-widgets/base",
      "model_module_version": "1.0.0",
      "model_name": "LayoutModel",
      "state": {}
     },
     "ab39b83019f049ba8ba7d2eebf03c398": {
      "model_module": "@jupyter-widgets/controls",
      "model_module_version": "1.1.0",
      "model_name": "VBoxModel",
      "state": {
       "children": [
        "IPY_MODEL_4a792cfb95c24275835ed279d3a44929",
        "IPY_MODEL_0f2b1852ba9b4bcfa4eea7385cc034e4",
        "IPY_MODEL_0e3fab22903745fba2d47eb693214e4e",
        "IPY_MODEL_f24a33bd0c90476da9d257d167860762"
       ],
       "layout": "IPY_MODEL_bd3eb8de39594d21b7ed8e4a9c1763e1"
      }
     },
     "ab4cecd2e2e14a3ba7cfa0b1b774d6c2": {
      "model_module": "@jupyter-widgets/controls",
      "model_module_version": "1.1.0",
      "model_name": "VBoxModel",
      "state": {
       "children": [
        "IPY_MODEL_0082d7734ed543bdb5101e70afd5aa67",
        "IPY_MODEL_8a94c1a5f1ba46eab9d8cb83c8947da9",
        "IPY_MODEL_6cd3d75235654242b42e6bf6b1f8fbd0",
        "IPY_MODEL_d8a8d554ef7c425a9438913d62a6f48a",
        "IPY_MODEL_8d3f1afb18a348e9b19fcc99869de1ae",
        "IPY_MODEL_02fabb95fa844427b808c45d9b8c97d5"
       ],
       "layout": "IPY_MODEL_8b186f3a795149d69643c0d8f07c8640"
      }
     },
     "ab577d502ca44d35bbfa2e3c6f90a5b9": {
      "model_module": "@jupyter-widgets/base",
      "model_module_version": "1.0.0",
      "model_name": "LayoutModel",
      "state": {}
     },
     "ab666f5968924d2f81f6c79d5b0fed76": {
      "model_module": "@jupyter-widgets/controls",
      "model_module_version": "1.1.0",
      "model_name": "ButtonModel",
      "state": {
       "description": "Update Query",
       "layout": "IPY_MODEL_5624533692e445a7a7534c07f9b77878",
       "style": "IPY_MODEL_0bc3d7b364904e3aa48ca5b98a32ccbc"
      }
     },
     "ab6870979c5c45b4a8b01092476a3cda": {
      "model_module": "@jupyter-widgets/base",
      "model_module_version": "1.0.0",
      "model_name": "LayoutModel",
      "state": {}
     },
     "ab7287c9829b4a0c804f22922a257a9b": {
      "model_module": "@jupyter-widgets/base",
      "model_module_version": "1.0.0",
      "model_name": "LayoutModel",
      "state": {}
     },
     "ab81d045f5954bc2aa119ecc6c98371f": {
      "model_module": "@jupyter-widgets/controls",
      "model_module_version": "1.1.0",
      "model_name": "DescriptionStyleModel",
      "state": {
       "description_width": ""
      }
     },
     "aba6c925b963427dbcb10e8b5633652f": {
      "model_module": "@jupyter-widgets/base",
      "model_module_version": "1.0.0",
      "model_name": "LayoutModel",
      "state": {}
     },
     "abe6271bf17c41cdabf8f704c9562e66": {
      "model_module": "@jupyter-widgets/controls",
      "model_module_version": "1.1.0",
      "model_name": "SliderStyleModel",
      "state": {
       "description_width": ""
      }
     },
     "ac40517df201408c87ced2e5c4dbdc8a": {
      "model_module": "@jupyter-widgets/controls",
      "model_module_version": "1.1.0",
      "model_name": "ButtonStyleModel",
      "state": {}
     },
     "ac435a110fcc44ae9d505194a9a612e3": {
      "model_module": "@jupyter-widgets/base",
      "model_module_version": "1.0.0",
      "model_name": "LayoutModel",
      "state": {
       "border": "outset",
       "width": "100%"
      }
     },
     "ac45b5d8ab794f9da77c49bf4308e5a9": {
      "model_module": "@jupyter-widgets/controls",
      "model_module_version": "1.1.0",
      "model_name": "VBoxModel",
      "state": {
       "children": [
        "IPY_MODEL_75bf62768ae24c60a9ddc68ee25424a6",
        "IPY_MODEL_45528dc301634cefb996ae3b85208d7c",
        "IPY_MODEL_fe9bcda2e1ce47a79c275723e9c03513",
        "IPY_MODEL_4ead2fd112e94bc79d6eb03a34929899"
       ],
       "layout": "IPY_MODEL_b3126c0186f44d22b8ec987d68a78283"
      }
     },
     "ac4cd5a464d7444db91806ddd87fe094": {
      "model_module": "@jupyter-widgets/controls",
      "model_module_version": "1.1.0",
      "model_name": "ButtonStyleModel",
      "state": {}
     },
     "ac654a74e88c4513bdc3fec2d00fcf57": {
      "model_module": "@jupyter-widgets/controls",
      "model_module_version": "1.1.0",
      "model_name": "HBoxModel",
      "state": {
       "children": [
        "IPY_MODEL_c77c9ecf752141e8ac1274ad1c924e3c",
        "IPY_MODEL_1bc6f23f17f248e082f01ea919c1c378",
        "IPY_MODEL_e59ce49164ad4abdb59141d2a71a4afe"
       ],
       "layout": "IPY_MODEL_c38d3502a7bf470d890a327e5669ca3c"
      }
     },
     "ac7dd087a15d4a28afb49cd98e7c09fd": {
      "model_module": "@jupyter-widgets/base",
      "model_module_version": "1.0.0",
      "model_name": "LayoutModel",
      "state": {}
     },
     "ac935b1a6638451ab1d58c1fc09f034e": {
      "model_module": "@jupyter-widgets/base",
      "model_module_version": "1.0.0",
      "model_name": "LayoutModel",
      "state": {}
     },
     "acb3fe363f53416995493ddc03fb19e0": {
      "model_module": "@jupyter-widgets/base",
      "model_module_version": "1.0.0",
      "model_name": "LayoutModel",
      "state": {}
     },
     "acdd6247d53d44ca84ce60bce6262e9b": {
      "model_module": "@jupyter-widgets/controls",
      "model_module_version": "1.1.0",
      "model_name": "DescriptionStyleModel",
      "state": {
       "description_width": ""
      }
     },
     "ad03ccae7ad74f1193d27c23fb7aaff6": {
      "model_module": "@jupyter-widgets/base",
      "model_module_version": "1.0.0",
      "model_name": "LayoutModel",
      "state": {}
     },
     "ad4c20d569d04ed6b85a45b7b5b24aba": {
      "model_module": "@jupyter-widgets/controls",
      "model_module_version": "1.1.0",
      "model_name": "SliderStyleModel",
      "state": {
       "description_width": ""
      }
     },
     "ad6434051ad84a9b9afca905c562d503": {
      "model_module": "@jupyter-widgets/base",
      "model_module_version": "1.0.0",
      "model_name": "LayoutModel",
      "state": {}
     },
     "ad88d450d1f7422db22bdb147e71be44": {
      "model_module": "@jupyter-widgets/base",
      "model_module_version": "1.0.0",
      "model_name": "LayoutModel",
      "state": {
       "justify_content": "flex-start",
       "overflow": "visible"
      }
     },
     "ad9c6ee104c74c5a88083908163a8eda": {
      "model_module": "@jupyter-widgets/controls",
      "model_module_version": "1.1.0",
      "model_name": "VBoxModel",
      "state": {
       "children": [
        "IPY_MODEL_a426852054194f87862e0c196ac53e17",
        "IPY_MODEL_061376280ff54de9916b6c0355250f81",
        "IPY_MODEL_1766b6a46e01443aab74f5d7207e43bd",
        "IPY_MODEL_e0dcf8ebc26d47f9a78fcab105334368",
        "IPY_MODEL_075ac1e122e94d07bd79933ed411294b",
        "IPY_MODEL_bbf60c06351c452ab0a97aab6df66771",
        "IPY_MODEL_9dbcecde447446f0a4dce2ebf7160381",
        "IPY_MODEL_27ac8597238e404795bb3fe4b571f4aa"
       ],
       "layout": "IPY_MODEL_ddf9544c08754105bf6b1d806fdc8999"
      }
     },
     "adafbcd875ab4e2cb72c5dd8152242a2": {
      "model_module": "@jupyter-widgets/controls",
      "model_module_version": "1.1.0",
      "model_name": "DescriptionStyleModel",
      "state": {
       "description_width": ""
      }
     },
     "adf6121ef9c74865917801d3a5570660": {
      "model_module": "@jupyter-widgets/controls",
      "model_module_version": "1.1.0",
      "model_name": "SelectMultipleModel",
      "state": {
       "description": "Metadtata",
       "index": [],
       "layout": "IPY_MODEL_68f48b238ab74ed2995c786f32208214",
       "rows": 5,
       "style": "IPY_MODEL_891cfa28f2ad4414ba87cdc9e4a3d2df"
      }
     },
     "ae24b48a535746a9b43f0b3a227d6e9a": {
      "model_module": "@jupyter-widgets/base",
      "model_module_version": "1.0.0",
      "model_name": "LayoutModel",
      "state": {}
     },
     "ae3a1b7dbcec47bc9510147c80a8ff6d": {
      "model_module": "@jupyter-widgets/controls",
      "model_module_version": "1.1.0",
      "model_name": "DropdownModel",
      "state": {
       "_options_labels": [
        "100",
        "50",
        "25"
       ],
       "description": "IMU Rate",
       "index": 0,
       "layout": "IPY_MODEL_e9be67b3c13c4d7d9362ae109431e498",
       "style": "IPY_MODEL_a283c7041efe4635b8b6c59c82ea1096"
      }
     },
     "ae3b364abe214602805edabf2c08ed06": {
      "model_module": "@jupyter-widgets/controls",
      "model_module_version": "1.1.0",
      "model_name": "DropdownModel",
      "state": {
       "description": "Segmenter",
       "index": null,
       "layout": "IPY_MODEL_0ee4d6649ee14347a119de9d04584f35",
       "style": "IPY_MODEL_f238d30f688a40be8d16e2155f0724ee"
      }
     },
     "ae51abcbb0ad4fdcb77bd7eab4ba5e3b": {
      "model_module": "@jupyter-widgets/controls",
      "model_module_version": "1.1.0",
      "model_name": "AccordionModel",
      "state": {
       "_titles": {
        "0": "Download Knowledgepack"
       },
       "children": [
        "IPY_MODEL_794f9b7e1b8c455280162c355829f4a1"
       ],
       "layout": "IPY_MODEL_fe7cec04cfa3495a871fc6872b781302"
      }
     },
     "ae6d857f634847bb8ac4c072b99505ed": {
      "model_module": "@jupyter-widgets/base",
      "model_module_version": "1.0.0",
      "model_name": "LayoutModel",
      "state": {}
     },
     "ae7e603cb4ec4d8c8d80bbe22c1bae46": {
      "model_module": "@jupyter-widgets/controls",
      "model_module_version": "1.1.0",
      "model_name": "SliderStyleModel",
      "state": {
       "description_width": ""
      }
     },
     "ae8acd6bf8b74cf5bd5603a4436baf09": {
      "model_module": "@jupyter-widgets/controls",
      "model_module_version": "1.1.0",
      "model_name": "TextModel",
      "state": {
       "description": "Query Filter",
       "layout": "IPY_MODEL_51b5249fb0ab4641b99fdf6c97a0a1c5",
       "style": "IPY_MODEL_64dd2781eb614ed6badfb5aa59af6187",
       "value": "[Gesture] IN [A,B,C,D,E,F]"
      }
     },
     "ae99eca0409d4a2b98ab429a992ba4db": {
      "model_module": "@jupyter-widgets/base",
      "model_module_version": "1.0.0",
      "model_name": "LayoutModel",
      "state": {}
     },
     "aea00aeaf78b4433b93e4591bd5491bb": {
      "model_module": "@jupyter-widgets/controls",
      "model_module_version": "1.1.0",
      "model_name": "ButtonStyleModel",
      "state": {}
     },
     "aeacbeb0fe584f97a9ef190d5a272253": {
      "model_module": "@jupyter-widgets/controls",
      "model_module_version": "1.1.0",
      "model_name": "DescriptionStyleModel",
      "state": {
       "description_width": ""
      }
     },
     "aed3948581cd4634bdefcb0fb5880809": {
      "model_module": "@jupyter-widgets/base",
      "model_module_version": "1.0.0",
      "model_name": "LayoutModel",
      "state": {}
     },
     "aed4f354537a472cba360cca6f210101": {
      "model_module": "@jupyter-widgets/base",
      "model_module_version": "1.0.0",
      "model_name": "LayoutModel",
      "state": {}
     },
     "aed7cf61370f4f2094e1e2e08b26011a": {
      "model_module": "@jupyter-widgets/controls",
      "model_module_version": "1.1.0",
      "model_name": "DropdownModel",
      "state": {
       "_options_labels": [
        "Default",
        "Windowing(100)",
        "Windowing(200)",
        "Windowing(250)"
       ],
       "description": "Segmenter",
       "index": 0,
       "layout": "IPY_MODEL_aedb6c6c8f11456ebbeb1596fea92044",
       "style": "IPY_MODEL_e200914c921940d590f824de9fbb8bde"
      }
     },
     "aedb6c6c8f11456ebbeb1596fea92044": {
      "model_module": "@jupyter-widgets/base",
      "model_module_version": "1.0.0",
      "model_name": "LayoutModel",
      "state": {}
     },
     "af027243dc874454a8e9d5c04b9d7b9d": {
      "model_module": "@jupyter-widgets/controls",
      "model_module_version": "1.1.0",
      "model_name": "HBoxModel",
      "state": {
       "children": [
        "IPY_MODEL_bf810c98c4a54668aa02403ea1697b6b",
        "IPY_MODEL_e3648dc07659416582f97d6f529f3617"
       ],
       "layout": "IPY_MODEL_f9c960a0da1046288e672463337354c5"
      }
     },
     "af0eec8f670245c98ee123d8b62a624d": {
      "model_module": "@jupyter-widgets/base",
      "model_module_version": "1.0.0",
      "model_name": "LayoutModel",
      "state": {}
     },
     "af135b85ecd84157b85f73c19c0eb241": {
      "model_module": "@jupyter-widgets/controls",
      "model_module_version": "1.1.0",
      "model_name": "SliderStyleModel",
      "state": {
       "description_width": ""
      }
     },
     "af1cac85892845389414e4b8e247a2d8": {
      "model_module": "@jupyter-widgets/controls",
      "model_module_version": "1.1.0",
      "model_name": "AccordionModel",
      "state": {
       "_titles": {
        "0": "AutoSense Pipeline"
       },
       "children": [
        "IPY_MODEL_274146977cb24048bab71850bfd8a7d2"
       ],
       "layout": "IPY_MODEL_cddb131ed1bf4344a0da29b8ab213dac"
      }
     },
     "af2f4f804da845769b650352e15438f6": {
      "model_module": "@jupyter-widgets/controls",
      "model_module_version": "1.1.0",
      "model_name": "DropdownModel",
      "state": {
       "_options_labels": [
        "True",
        "False"
       ],
       "description": "Debug",
       "index": 0,
       "layout": "IPY_MODEL_5d948ab8de6a434ba6bfcc0e7cc85f95",
       "style": "IPY_MODEL_4e19a12008644cf1a996ef664001973d"
      }
     },
     "af5170cfcbb5492a8fd60828bbf4c881": {
      "model_module": "@jupyter-widgets/controls",
      "model_module_version": "1.1.0",
      "model_name": "VBoxModel",
      "state": {
       "children": [
        "IPY_MODEL_87a5fee1d0bd4d079ffb2e6750cc2db2",
        "IPY_MODEL_5ae2acb28b3842d6a45fa8fc75aae372"
       ],
       "layout": "IPY_MODEL_ea36ac988d9b426fa5985adfc7087ded"
      }
     },
     "af790e66609e4d16a7e08c24ef37e365": {
      "model_module": "@jupyter-widgets/controls",
      "model_module_version": "1.1.0",
      "model_name": "TextModel",
      "state": {
       "description": "Query Filter",
       "layout": "IPY_MODEL_ab6870979c5c45b4a8b01092476a3cda",
       "style": "IPY_MODEL_f0c0d57568bc444d8db07bcc88fd01ed"
      }
     },
     "af9448b1f92c492eaf66a59b0c7590a2": {
      "model_module": "@jupyter-widgets/base",
      "model_module_version": "1.0.0",
      "model_name": "LayoutModel",
      "state": {}
     },
     "afeedd2293cc403993ad324aefe765c5": {
      "model_module": "@jupyter-widgets/controls",
      "model_module_version": "1.1.0",
      "model_name": "ButtonModel",
      "state": {
       "description": "Update Query",
       "layout": "IPY_MODEL_0df8e688c7b640b5b0614593d549bbfe",
       "style": "IPY_MODEL_a3a691362a1842aaa79ec934324dd13a"
      }
     },
     "b01e9f4bcc6e4d939a5f689ced240002": {
      "model_module": "@jupyter-widgets/controls",
      "model_module_version": "1.1.0",
      "model_name": "DescriptionStyleModel",
      "state": {
       "description_width": ""
      }
     },
     "b054632b8dfc47939a1168c8d28e8128": {
      "model_module": "@jupyter-widgets/base",
      "model_module_version": "1.0.0",
      "model_name": "LayoutModel",
      "state": {}
     },
     "b059463acf8e4074a7504e8dc6f92a7e": {
      "model_module": "@jupyter-widgets/base",
      "model_module_version": "1.0.0",
      "model_name": "LayoutModel",
      "state": {
       "border": "solid 2px",
       "display": "flex",
       "flex_flow": "row",
       "justify_content": "space-between",
       "overflow": "visible"
      }
     },
     "b0598e86bd08447ca1cbffd98a10299e": {
      "model_module": "@jupyter-widgets/controls",
      "model_module_version": "1.1.0",
      "model_name": "ButtonStyleModel",
      "state": {}
     },
     "b068b0e595fb4625a330ec5faa98a363": {
      "model_module": "@jupyter-widgets/controls",
      "model_module_version": "1.1.0",
      "model_name": "SliderStyleModel",
      "state": {
       "description_width": ""
      }
     },
     "b0b1d55636004b46b91fce2df2b21c29": {
      "model_module": "@jupyter-widgets/base",
      "model_module_version": "1.0.0",
      "model_name": "LayoutModel",
      "state": {}
     },
     "b0cbbde52e5543d7b6a87dc2dc0d3617": {
      "model_module": "@jupyter-widgets/base",
      "model_module_version": "1.0.0",
      "model_name": "LayoutModel",
      "state": {
       "width": "300px"
      }
     },
     "b105dc73b6a540bca1834d94a01ff2a6": {
      "model_module": "@jupyter-widgets/base",
      "model_module_version": "1.0.0",
      "model_name": "LayoutModel",
      "state": {
       "border": "solid 2px",
       "display": "flex",
       "flex_flow": "row",
       "justify_content": "center",
       "overflow": "visible"
      }
     },
     "b10bf2e0df3d4a2cb180f5f1abc2b751": {
      "model_module": "@jupyter-widgets/base",
      "model_module_version": "1.0.0",
      "model_name": "LayoutModel",
      "state": {
       "border": "outset"
      }
     },
     "b1285b9ed85e4e3eba372e83f84b9842": {
      "model_module": "@jupyter-widgets/base",
      "model_module_version": "1.0.0",
      "model_name": "LayoutModel",
      "state": {
       "display": "flex",
       "flex_flow": "row",
       "justify_content": "space-between"
      }
     },
     "b12a67432fc040359b8e599a700f6bff": {
      "model_module": "@jupyter-widgets/base",
      "model_module_version": "1.0.0",
      "model_name": "LayoutModel",
      "state": {}
     },
     "b14d565b702e47208c81120494a91017": {
      "model_module": "@jupyter-widgets/base",
      "model_module_version": "1.0.0",
      "model_name": "LayoutModel",
      "state": {}
     },
     "b1518acbbeec4438ad460f28c416ee34": {
      "model_module": "@jupyter-widgets/base",
      "model_module_version": "1.0.0",
      "model_name": "LayoutModel",
      "state": {}
     },
     "b153a84f80564a14a30f906e2ba7a435": {
      "model_module": "@jupyter-widgets/controls",
      "model_module_version": "1.1.0",
      "model_name": "ButtonModel",
      "state": {
       "description": "Add Query",
       "layout": "IPY_MODEL_ab342df2aa0745e09ae038a69c417f47",
       "style": "IPY_MODEL_2c322764007343bc96a922c91603150a"
      }
     },
     "b1c443f12b16479ea62d1634e3c2f0b7": {
      "model_module": "@jupyter-widgets/base",
      "model_module_version": "1.0.0",
      "model_name": "LayoutModel",
      "state": {}
     },
     "b1cd8cb0e16545ddbeb526f8ef00edf4": {
      "model_module": "@jupyter-widgets/controls",
      "model_module_version": "1.1.0",
      "model_name": "TextModel",
      "state": {
       "description": "Query Name",
       "layout": "IPY_MODEL_5b28013b77c14b44b69fe37b598e278f",
       "style": "IPY_MODEL_8ea9162ca29f4b5cac61f0fc084b70d4"
      }
     },
     "b217282197ae4c25a96714c083e29694": {
      "model_module": "@jupyter-widgets/base",
      "model_module_version": "1.0.0",
      "model_name": "LayoutModel",
      "state": {}
     },
     "b27573fbf5d14d4aa70ebf72eec31076": {
      "model_module": "@jupyter-widgets/controls",
      "model_module_version": "1.1.0",
      "model_name": "VBoxModel",
      "state": {
       "children": [
        "IPY_MODEL_ccadf56821bc4c11bbba55cf01554aac",
        "IPY_MODEL_db33832738f64551ba997a4bb4e3144b",
        "IPY_MODEL_f2f006b6ce9041ad9ad372663086c58d"
       ],
       "layout": "IPY_MODEL_4cf711f0e72343589cd6cb6db4f69f12"
      }
     },
     "b278a1a045134bf486be666bf5d40488": {
      "model_module": "@jupyter-widgets/base",
      "model_module_version": "1.0.0",
      "model_name": "LayoutModel",
      "state": {
       "border": "solid 2px",
       "display": "flex",
       "flex_flow": "row",
       "justify_content": "center",
       "overflow": "visible"
      }
     },
     "b29b667ab3714c30bce39cee11092ae1": {
      "model_module": "@jupyter-widgets/controls",
      "model_module_version": "1.1.0",
      "model_name": "CheckboxModel",
      "state": {
       "description": "Reset",
       "disabled": false,
       "layout": "IPY_MODEL_e48fa9427953400f970a10098b3ff5bd",
       "style": "IPY_MODEL_27678f9207e448eda2e128597c103408",
       "value": false
      }
     },
     "b2c72c828bcd48c7afa9610963529dc2": {
      "model_module": "@jupyter-widgets/controls",
      "model_module_version": "1.1.0",
      "model_name": "IntSliderModel",
      "state": {
       "description": "iterations",
       "layout": "IPY_MODEL_b2d38e37d73f4ee0b3635cc37a3ab54c",
       "max": 15,
       "min": 1,
       "style": "IPY_MODEL_eaaf9b55aff04a04b00cbb1e08bec329",
       "value": 2
      }
     },
     "b2d38e37d73f4ee0b3635cc37a3ab54c": {
      "model_module": "@jupyter-widgets/base",
      "model_module_version": "1.0.0",
      "model_name": "LayoutModel",
      "state": {}
     },
     "b2f7feabe10f489ca478cd6b49e3dbc0": {
      "model_module": "@jupyter-widgets/base",
      "model_module_version": "1.0.0",
      "model_name": "LayoutModel",
      "state": {}
     },
     "b3126c0186f44d22b8ec987d68a78283": {
      "model_module": "@jupyter-widgets/base",
      "model_module_version": "1.0.0",
      "model_name": "LayoutModel",
      "state": {
       "border": "outset"
      }
     },
     "b3695afb487145c1a27fec9c4229059c": {
      "model_module": "@jupyter-widgets/base",
      "model_module_version": "1.0.0",
      "model_name": "LayoutModel",
      "state": {}
     },
     "b371e3c9faaf4af7a4de78528e604a69": {
      "model_module": "@jupyter-widgets/controls",
      "model_module_version": "1.1.0",
      "model_name": "DescriptionStyleModel",
      "state": {
       "description_width": ""
      }
     },
     "b3848b35a15440a5abe2cc714ef136df": {
      "model_module": "@jupyter-widgets/controls",
      "model_module_version": "1.1.0",
      "model_name": "SliderStyleModel",
      "state": {
       "description_width": ""
      }
     },
     "b3c8f179cf2d4058a773140b68f63abc": {
      "model_module": "@jupyter-widgets/base",
      "model_module_version": "1.0.0",
      "model_name": "LayoutModel",
      "state": {}
     },
     "b40154a7bd954af081a172a927decd78": {
      "model_module": "@jupyter-widgets/base",
      "model_module_version": "1.0.0",
      "model_name": "LayoutModel",
      "state": {}
     },
     "b4038fe68c444e86af73077d05201e00": {
      "model_module": "@jupyter-widgets/controls",
      "model_module_version": "1.1.0",
      "model_name": "SliderStyleModel",
      "state": {
       "description_width": ""
      }
     },
     "b40ec5aa67244babaabf8c351057a1e0": {
      "model_module": "@jupyter-widgets/controls",
      "model_module_version": "1.1.0",
      "model_name": "DropdownModel",
      "state": {
       "_options_labels": [
        "100",
        "50",
        "25"
       ],
       "description": "IMU Rate",
       "index": 0,
       "layout": "IPY_MODEL_99c612874169410391030247a3e17990",
       "style": "IPY_MODEL_429d70c49a054d33b3d7795f8bcd381d"
      }
     },
     "b454886d763e42129cda6735e43019f3": {
      "model_module": "bqplot",
      "model_module_version": "^0.3.2",
      "model_name": "LinearScaleModel",
      "state": {
       "allow_padding": false,
       "max": 1,
       "min": 0,
       "stabilized": false
      }
     },
     "b4565a9f8e84409992f5d1bef1dd7899": {
      "model_module": "@jupyter-widgets/controls",
      "model_module_version": "1.1.0",
      "model_name": "DescriptionStyleModel",
      "state": {
       "description_width": ""
      }
     },
     "b45e632039d74af8ab0869e8717dd24d": {
      "model_module": "@jupyter-widgets/controls",
      "model_module_version": "1.1.0",
      "model_name": "DescriptionStyleModel",
      "state": {
       "description_width": ""
      }
     },
     "b4b05b87936d47da83e3816578956193": {
      "model_module": "@jupyter-widgets/base",
      "model_module_version": "1.0.0",
      "model_name": "LayoutModel",
      "state": {}
     },
     "b4b72d79691a4899ada20f58767b7361": {
      "model_module": "@jupyter-widgets/controls",
      "model_module_version": "1.1.0",
      "model_name": "ButtonModel",
      "state": {
       "description": "Run Autopipeline",
       "layout": "IPY_MODEL_85f004b06c064a79bb4b595e1bb3a1aa",
       "style": "IPY_MODEL_353f1119460c4afbb816e8ff29c747d4"
      }
     },
     "b4d65a4d82ec41879eceb8ad16f4f1c4": {
      "model_module": "@jupyter-widgets/controls",
      "model_module_version": "1.1.0",
      "model_name": "SelectMultipleModel",
      "state": {
       "_options_labels": [
        "Subject",
        "Gender",
        "Device",
        "Gesture"
       ],
       "description": "Metadtata",
       "index": [
        0
       ],
       "layout": "IPY_MODEL_81ea55141382467d8a3c0af60ae06e4c",
       "rows": 5,
       "style": "IPY_MODEL_394e562787c141f8818894a822739c01"
      }
     },
     "b51eabd8bb3d404d965bad26f6c70229": {
      "model_module": "@jupyter-widgets/controls",
      "model_module_version": "1.1.0",
      "model_name": "SelectMultipleModel",
      "state": {
       "description": "Metadtata",
       "index": [],
       "layout": "IPY_MODEL_141ad76b78c14dc9a3e854e9ea2e925d",
       "rows": 5,
       "style": "IPY_MODEL_9592861d7f0745c0bed065b30306f647"
      }
     },
     "b525dee0a88b4bffbbe0bd5be3dae147": {
      "model_module": "@jupyter-widgets/controls",
      "model_module_version": "1.1.0",
      "model_name": "DropdownModel",
      "state": {
       "_options_labels": [
        "",
        "DemoPipeline",
        "Hiearchical Whatever",
        "New Pipeline",
        "Heiarchical Pipeline",
        "Test Pipeline",
        "Gesture Pipeline",
        "Redxy "
       ],
       "description": "Select Pipeline",
       "index": 7,
       "layout": "IPY_MODEL_22bca73908564518ab44b6d1ddd0f3da",
       "style": "IPY_MODEL_a5b29f017dbf4bc79954bc2f4d298cff"
      }
     },
     "b53614aac4b848bc9074f9993c6d221f": {
      "model_module": "@jupyter-widgets/controls",
      "model_module_version": "1.1.0",
      "model_name": "ButtonStyleModel",
      "state": {}
     },
     "b54544599cc24a7da5942c9ea97c7da4": {
      "model_module": "@jupyter-widgets/controls",
      "model_module_version": "1.1.0",
      "model_name": "SelectMultipleModel",
      "state": {
       "description": "Sources",
       "index": [],
       "layout": "IPY_MODEL_ed16591b324e4967b88fe26f15966114",
       "rows": 5,
       "style": "IPY_MODEL_0875ace75ac44ad68e0c7dcdd3897ccc"
      }
     },
     "b595f73633bf4613815f51e3ade15388": {
      "model_module": "@jupyter-widgets/base",
      "model_module_version": "1.0.0",
      "model_name": "LayoutModel",
      "state": {
       "align_items": "stretch",
       "border": "solid 2px",
       "display": "flex",
       "flex_flow": "row",
       "width": "50%"
      }
     },
     "b5c4e395b41c411a9224caa518dedc98": {
      "model_module": "@jupyter-widgets/base",
      "model_module_version": "1.0.0",
      "model_name": "LayoutModel",
      "state": {}
     },
     "b5fecdf60aa547489f47abe20b8ba77f": {
      "model_module": "@jupyter-widgets/base",
      "model_module_version": "1.0.0",
      "model_name": "LayoutModel",
      "state": {
       "display": "flex",
       "flex_flow": "row",
       "justify_content": "space-between",
       "overflow": "visible"
      }
     },
     "b612597e26bf4f178d12665631720209": {
      "model_module": "@jupyter-widgets/controls",
      "model_module_version": "1.1.0",
      "model_name": "FloatSliderModel",
      "state": {
       "description": "Features",
       "layout": "IPY_MODEL_4e449aa2ae7348ad9dde0bba4ff9a535",
       "max": 1,
       "step": 0.05,
       "style": "IPY_MODEL_7cd0176f6b904ca182ca235081f8ac62",
       "value": 0.5
      }
     },
     "b663060b9aed4807b3404703d42a4d25": {
      "model_module": "@jupyter-widgets/controls",
      "model_module_version": "1.1.0",
      "model_name": "VBoxModel",
      "state": {
       "children": [
        "IPY_MODEL_38050ad1ea0845e9adc51ebdc5efc572",
        "IPY_MODEL_4e9557fb1cdb492fb7b2e45dc1ee6dc3"
       ],
       "layout": "IPY_MODEL_8b6e1ae095d4473a83f95cb23677a809"
      }
     },
     "b6996aeddac94733b3f721601b91cb40": {
      "model_module": "@jupyter-widgets/controls",
      "model_module_version": "1.1.0",
      "model_name": "DropdownModel",
      "state": {
       "_options_labels": [
        "",
        "DemoPipeline",
        "Hiearchical Whatever",
        "New Pipeline",
        "Heiarchical Pipeline",
        "Test Pipeline",
        "Gesture Pipeline",
        "Redxy ",
        "kj;lasjkdfasdf",
        "asdf",
        "asdf"
       ],
       "description": "Select Pipeline",
       "index": 9,
       "layout": "IPY_MODEL_46ee36e8518448b099a851b458f3db5c",
       "style": "IPY_MODEL_57532554596b40bcaf23e686c0d0ea8d"
      }
     },
     "b6b55385619d41eca190913feb3eb878": {
      "model_module": "@jupyter-widgets/base",
      "model_module_version": "1.0.0",
      "model_name": "LayoutModel",
      "state": {
       "border": "solid 2px",
       "display": "flex",
       "flex_flow": "row",
       "justify_content": "space-between",
       "overflow": "visible"
      }
     },
     "b6ce7e1c7ffd4f478462a24c0e21d5fb": {
      "model_module": "@jupyter-widgets/base",
      "model_module_version": "1.0.0",
      "model_name": "LayoutModel",
      "state": {}
     },
     "b6da05efafb049d6bdca34abccefb6b3": {
      "model_module": "@jupyter-widgets/controls",
      "model_module_version": "1.1.0",
      "model_name": "VBoxModel",
      "state": {
       "children": [
        "IPY_MODEL_893c9bd03a114f82b4b9447bfcc08e1e",
        "IPY_MODEL_86a286e0f79f43bb9b9819825207c582",
        "IPY_MODEL_050daf10e7ac4f10a123b9a6d7d1ee14"
       ],
       "layout": "IPY_MODEL_a97716a45a7143eaa04f036e5ee548a3"
      }
     },
     "b6ddabf2b33742e3bf4997aa27569e02": {
      "model_module": "@jupyter-widgets/base",
      "model_module_version": "1.0.0",
      "model_name": "LayoutModel",
      "state": {}
     },
     "b6df4a77bee241b5b5d073c579eefa9e": {
      "model_module": "@jupyter-widgets/controls",
      "model_module_version": "1.1.0",
      "model_name": "DescriptionStyleModel",
      "state": {
       "description_width": ""
      }
     },
     "b701af2d7e964df7af3b0628090cdde6": {
      "model_module": "@jupyter-widgets/controls",
      "model_module_version": "1.1.0",
      "model_name": "ButtonStyleModel",
      "state": {}
     },
     "b72e976bf20e4bd0b6943d48bf36f7b4": {
      "model_module": "@jupyter-widgets/controls",
      "model_module_version": "1.1.0",
      "model_name": "AccordionModel",
      "state": {
       "_titles": {
        "0": "Select or Create Query"
       },
       "children": [
        "IPY_MODEL_1d38b027c8af4cdeb590f1d4efb5e4fe"
       ],
       "layout": "IPY_MODEL_32653e14459347fabc92cf01398ac626"
      }
     },
     "b733540fabf7451cb346edfddbb0f5ba": {
      "model_module": "@jupyter-widgets/base",
      "model_module_version": "1.0.0",
      "model_name": "LayoutModel",
      "state": {}
     },
     "b7b04cb6502b419aad1855fe29288eab": {
      "model_module": "@jupyter-widgets/controls",
      "model_module_version": "1.1.0",
      "model_name": "ButtonStyleModel",
      "state": {}
     },
     "b7b9d60f321e403e93f466fd6a6030a4": {
      "model_module": "@jupyter-widgets/base",
      "model_module_version": "1.0.0",
      "model_name": "LayoutModel",
      "state": {}
     },
     "b7df588088834579acd2ec566ed69b94": {
      "model_module": "@jupyter-widgets/base",
      "model_module_version": "1.0.0",
      "model_name": "LayoutModel",
      "state": {}
     },
     "b81b7c41b6bc4fc2ba61547c117e659f": {
      "model_module": "@jupyter-widgets/base",
      "model_module_version": "1.0.0",
      "model_name": "LayoutModel",
      "state": {}
     },
     "b8243d90bd844590b35df4201ab25dac": {
      "model_module": "@jupyter-widgets/base",
      "model_module_version": "1.0.0",
      "model_name": "LayoutModel",
      "state": {}
     },
     "b829824dc2f74880a681ba7d91f00c2e": {
      "model_module": "@jupyter-widgets/base",
      "model_module_version": "1.0.0",
      "model_name": "LayoutModel",
      "state": {}
     },
     "b84dcdf3d2e6493395d7daaf373f427e": {
      "model_module": "@jupyter-widgets/controls",
      "model_module_version": "1.1.0",
      "model_name": "DropdownModel",
      "state": {
       "description": "Select Pipeline",
       "index": null,
       "layout": "IPY_MODEL_529b516c296d448bab9f8868ecffd160",
       "style": "IPY_MODEL_f9d95bdc05bf4d9ab22a7fbb8a6207cd"
      }
     },
     "b85f486ab1bd4c8aa81c2d7fd913b05c": {
      "model_module": "@jupyter-widgets/controls",
      "model_module_version": "1.1.0",
      "model_name": "DropdownModel",
      "state": {
       "_options_labels": [
        "",
        "Parameter Optimization Tutorial",
        "outlier_remove",
        "Training Demo",
        "MHEAudio",
        "ChristTest2",
        "Video Project",
        "LargeData",
        "motor_vibration",
        "Activity Demo",
        "SensiML Gestures Demo",
        "hereo",
        "OptimizePara_UsingGrid",
        "DogData",
        "Gesture_data_demo",
        "ChrisGestureProject",
        "PunchPunch",
        "Voyager Demo",
        "PunchDemo",
        "A Marc Project",
        "Virginia",
        "MyProject",
        "Cursive",
        "MotorVibration",
        "Seven Peaks Demo",
        "Customer End to End Demo",
        "MotorVibrationSmall",
        "CustomerE2E",
        "motor_vibration_2",
        "Harry Potter Project",
        "Gesture Demo",
        "SensiML Gestures"
       ],
       "description": "Select Project",
       "index": 31,
       "layout": "IPY_MODEL_519c99aac2fb4ea1a3fd9ad0a1e76403",
       "style": "IPY_MODEL_a2ab102431694943a5ef9b57193b257a"
      }
     },
     "b8bc040c6465404ba7a8143914ac9a69": {
      "model_module": "@jupyter-widgets/controls",
      "model_module_version": "1.1.0",
      "model_name": "SelectMultipleModel",
      "state": {
       "_options_labels": [
        "Subject",
        "Gender",
        "Device",
        "Gesture"
       ],
       "description": "Metadtata",
       "index": [
        0
       ],
       "layout": "IPY_MODEL_fa3dd84d7ac6489285a6a2228b6874e4",
       "rows": 5,
       "style": "IPY_MODEL_26cfa807aa8840469f2f082516bcea03"
      }
     },
     "b9168bb98107428fb29ec14b114e191f": {
      "model_module": "@jupyter-widgets/base",
      "model_module_version": "1.0.0",
      "model_name": "LayoutModel",
      "state": {}
     },
     "b942d0599df14d4f904340ef6392891b": {
      "model_module": "@jupyter-widgets/controls",
      "model_module_version": "1.1.0",
      "model_name": "VBoxModel",
      "state": {
       "children": [
        "IPY_MODEL_72fc235b8f3c4d56bbb7778a6b2d1de1",
        "IPY_MODEL_250189ee28f945f9a4d1aeaa6656c222",
        "IPY_MODEL_bff3f511f15342c9a47bac3a56756665",
        "IPY_MODEL_3ef6a72dc5474a028fc7b83f2cc2dcc0",
        "IPY_MODEL_adf6121ef9c74865917801d3a5570660",
        "IPY_MODEL_17e5aff0a1c74e8591c91c31cdaa4f92",
        "IPY_MODEL_a400d434832b45f89656e2543691a62b",
        "IPY_MODEL_d7566e59762248d889adb65571d56034"
       ],
       "layout": "IPY_MODEL_c65e7dd684254216994eb41aa023a72c"
      }
     },
     "b9564c4b768b442681714ed6ad76f81f": {
      "model_module": "@jupyter-widgets/base",
      "model_module_version": "1.0.0",
      "model_name": "LayoutModel",
      "state": {}
     },
     "b96f5a88edbb41a88384b570f6d37332": {
      "model_module": "@jupyter-widgets/base",
      "model_module_version": "1.0.0",
      "model_name": "LayoutModel",
      "state": {
       "border": "solid 2px",
       "display": "flex",
       "flex_flow": "row",
       "justify_content": "center",
       "overflow": "visible"
      }
     },
     "b97f608bec6e4464b5c6d36c80bb0603": {
      "model_module": "@jupyter-widgets/base",
      "model_module_version": "1.0.0",
      "model_name": "LayoutModel",
      "state": {}
     },
     "b9d86b7ba983498f80572a99fdcf25ad": {
      "model_module": "@jupyter-widgets/controls",
      "model_module_version": "1.1.0",
      "model_name": "DropdownModel",
      "state": {
       "description": "Select Query",
       "index": null,
       "layout": "IPY_MODEL_dc8ef5fd8a2e49d4816a7d3cccce40ad",
       "style": "IPY_MODEL_cedd563c3ea64704ad6c550b79a1eae0"
      }
     },
     "b9fa71851634489e9d9f69931cfa994c": {
      "model_module": "@jupyter-widgets/base",
      "model_module_version": "1.0.0",
      "model_name": "LayoutModel",
      "state": {}
     },
     "ba0e8b3842464be99cf9cf6688c57656": {
      "model_module": "@jupyter-widgets/controls",
      "model_module_version": "1.1.0",
      "model_name": "VBoxModel",
      "state": {
       "children": [
        "IPY_MODEL_1b9ce8ca2d0b4667a25b8e64a7656f4c",
        "IPY_MODEL_6f288541959a4a5ab7602e3e661ea6c5",
        "IPY_MODEL_6aa365712eb14fcda72046959197c155"
       ],
       "layout": "IPY_MODEL_0b8e9b13b3de404b80bc810e4db1e6a5"
      }
     },
     "ba12cc102db4495f8d851756d1929444": {
      "model_module": "@jupyter-widgets/controls",
      "model_module_version": "1.1.0",
      "model_name": "CheckboxModel",
      "state": {
       "description": "Reset",
       "disabled": false,
       "layout": "IPY_MODEL_33b3f146056f41fc96aa64024780b8b6",
       "style": "IPY_MODEL_6b008b4439654604a1cd197431309cc1",
       "value": false
      }
     },
     "ba3cd4b9a16a4ad9bd398753468eee77": {
      "model_module": "@jupyter-widgets/controls",
      "model_module_version": "1.1.0",
      "model_name": "ButtonModel",
      "state": {
       "description": "Login",
       "layout": "IPY_MODEL_448247cda0fa4324bccded181e01e6fa",
       "style": "IPY_MODEL_32b90fefb89841b0a77dde7fefa95ffc"
      }
     },
     "bafa863837e040dd8ef0ed1ae166c207": {
      "model_module": "@jupyter-widgets/controls",
      "model_module_version": "1.1.0",
      "model_name": "DescriptionStyleModel",
      "state": {
       "description_width": ""
      }
     },
     "bb10763577a14c2889c8db993caf933b": {
      "model_module": "@jupyter-widgets/controls",
      "model_module_version": "1.1.0",
      "model_name": "DescriptionStyleModel",
      "state": {
       "description_width": ""
      }
     },
     "bb2d8bf3698a471b9db375159cfc869f": {
      "model_module": "@jupyter-widgets/controls",
      "model_module_version": "1.1.0",
      "model_name": "TextModel",
      "state": {
       "description": "New Pipeline",
       "layout": "IPY_MODEL_c6ba9dd308c44370af4821f345085be4",
       "style": "IPY_MODEL_13cb371c4b444c44b5fc7262a0459292",
       "value": "Test Pipeline"
      }
     },
     "bb431c67b04a4208a329d367ae13ddb4": {
      "model_module": "@jupyter-widgets/controls",
      "model_module_version": "1.1.0",
      "model_name": "SelectMultipleModel",
      "state": {
       "description": "Sources",
       "index": [],
       "layout": "IPY_MODEL_a9f43c2edf6a4b58943b2970fa9b7490",
       "rows": 5,
       "style": "IPY_MODEL_de7ecde02e75424aac82c2fe215358c3"
      }
     },
     "bb479896c0c243f0bc4ef7535befcae6": {
      "model_module": "@jupyter-widgets/controls",
      "model_module_version": "1.1.0",
      "model_name": "CheckboxModel",
      "state": {
       "description": "Reset",
       "disabled": false,
       "layout": "IPY_MODEL_5c0a571de99d4420b6c8159ce5cce22a",
       "style": "IPY_MODEL_f0680fd112ae4191977a75e3debcf77d",
       "value": false
      }
     },
     "bb6fd2b681944546b0b8c4846ff905bc": {
      "model_module": "@jupyter-widgets/base",
      "model_module_version": "1.0.0",
      "model_name": "LayoutModel",
      "state": {
       "border": "outset"
      }
     },
     "bb955cb003c34c75b62dbe07afa45071": {
      "model_module": "@jupyter-widgets/controls",
      "model_module_version": "1.1.0",
      "model_name": "AccordionModel",
      "state": {
       "_titles": {
        "0": "AutoSense Pipeline"
       },
       "children": [
        "IPY_MODEL_b663060b9aed4807b3404703d42a4d25"
       ],
       "layout": "IPY_MODEL_db2dbe3a79f94cfabb35ee330d963beb"
      }
     },
     "bb98b79596e64269a7a66e2a7c2910ac": {
      "model_module": "@jupyter-widgets/controls",
      "model_module_version": "1.1.0",
      "model_name": "FloatSliderModel",
      "state": {
       "description": "Neurons",
       "layout": "IPY_MODEL_492f7450ff3b4a5d8521b0759864a9ea",
       "max": 1,
       "step": 0.05,
       "style": "IPY_MODEL_3c5e3caeaf1e4395bd969cbbd3e5f4c6",
       "value": 0.5
      }
     },
     "bbaa567c0b7d4492a20308006baf3ced": {
      "model_module": "@jupyter-widgets/base",
      "model_module_version": "1.0.0",
      "model_name": "LayoutModel",
      "state": {}
     },
     "bbafd3f503304f3f8e64d2c05f72e135": {
      "model_module": "@jupyter-widgets/controls",
      "model_module_version": "1.1.0",
      "model_name": "SliderStyleModel",
      "state": {
       "description_width": ""
      }
     },
     "bbb1f8f56dd14317bbeb9f50979ee90d": {
      "model_module": "@jupyter-widgets/base",
      "model_module_version": "1.0.0",
      "model_name": "LayoutModel",
      "state": {
       "align_items": "stretch",
       "border": "solid 2px",
       "display": "flex",
       "flex_flow": "column",
       "overflow": "visible",
       "width": "75%"
      }
     },
     "bbf60c06351c452ab0a97aab6df66771": {
      "model_module": "@jupyter-widgets/controls",
      "model_module_version": "1.1.0",
      "model_name": "SelectMultipleModel",
      "state": {
       "description": "Sources",
       "index": [],
       "layout": "IPY_MODEL_b7b9d60f321e403e93f466fd6a6030a4",
       "rows": 5,
       "style": "IPY_MODEL_8242d49ce10f4e74ada1ebdb5688c41e"
      }
     },
     "bc046d572ccf442e98ddecd0e72ab23a": {
      "model_module": "@jupyter-widgets/controls",
      "model_module_version": "1.1.0",
      "model_name": "SliderStyleModel",
      "state": {
       "description_width": ""
      }
     },
     "bc0a146cac534571bd49287ab4e2fb18": {
      "model_module": "@jupyter-widgets/base",
      "model_module_version": "1.0.0",
      "model_name": "LayoutModel",
      "state": {
       "border": "outset",
       "width": "100%"
      }
     },
     "bc16bb212fcf4459950acf78101d1335": {
      "model_module": "@jupyter-widgets/controls",
      "model_module_version": "1.1.0",
      "model_name": "DescriptionStyleModel",
      "state": {
       "description_width": ""
      }
     },
     "bc597797354d4e4d8cd8dcc9db80456d": {
      "model_module": "@jupyter-widgets/controls",
      "model_module_version": "1.1.0",
      "model_name": "DropdownModel",
      "state": {
       "_options_labels": [
        "Subject",
        "Gender",
        "Device",
        "Gesture"
       ],
       "description": "Label Column",
       "index": 3,
       "layout": "IPY_MODEL_805cf4fdadd548ce82a58c568aad2fcd",
       "style": "IPY_MODEL_ce2ac5ba4002412ab869242d91c86df6"
      }
     },
     "bc8a59cf1aae4f94a03108c2666d5121": {
      "model_module": "@jupyter-widgets/base",
      "model_module_version": "1.0.0",
      "model_name": "LayoutModel",
      "state": {}
     },
     "bcbd446857fe4cd4ba8d888ccfda9af1": {
      "model_module": "@jupyter-widgets/base",
      "model_module_version": "1.0.0",
      "model_name": "LayoutModel",
      "state": {}
     },
     "bcf6dcf85b7941a68c1edd028f4d5e55": {
      "model_module": "@jupyter-widgets/controls",
      "model_module_version": "1.1.0",
      "model_name": "FloatSliderModel",
      "state": {
       "description": "Accuracy",
       "layout": "IPY_MODEL_eb810e2683344e449ab595a429662f67",
       "max": 1,
       "step": 0.05,
       "style": "IPY_MODEL_4e07b5d7747f41f78223c820c5e2ad2b",
       "value": 0.8
      }
     },
     "bd01793a693e4eceb7e066936db006d5": {
      "model_module": "@jupyter-widgets/base",
      "model_module_version": "1.0.0",
      "model_name": "LayoutModel",
      "state": {}
     },
     "bd046548f4aa4194a047395622e5125d": {
      "model_module": "@jupyter-widgets/base",
      "model_module_version": "1.0.0",
      "model_name": "LayoutModel",
      "state": {
       "border": "solid 2px",
       "display": "flex",
       "flex_flow": "row",
       "justify_content": "center",
       "overflow": "visible"
      }
     },
     "bd203b1766b84323b21152a54bfc4b48": {
      "model_module": "@jupyter-widgets/controls",
      "model_module_version": "1.1.0",
      "model_name": "DropdownModel",
      "state": {
       "_options_labels": [
        "Binary",
        "Library"
       ],
       "description": "Download",
       "index": 0,
       "layout": "IPY_MODEL_6e60402d47e249c9b8d8a09e52ae21bd",
       "style": "IPY_MODEL_d81d918b8f084a699466719ad9299c79"
      }
     },
     "bd2e13b1306e473caf2ce6cfb4190ff3": {
      "model_module": "@jupyter-widgets/base",
      "model_module_version": "1.0.0",
      "model_name": "LayoutModel",
      "state": {}
     },
     "bd306448c0bd4ffb91cff6c9c020d5d9": {
      "model_module": "@jupyter-widgets/base",
      "model_module_version": "1.0.0",
      "model_name": "LayoutModel",
      "state": {}
     },
     "bd3eb8de39594d21b7ed8e4a9c1763e1": {
      "model_module": "@jupyter-widgets/base",
      "model_module_version": "1.0.0",
      "model_name": "LayoutModel",
      "state": {}
     },
     "bdd39707ab5f42ffbaddf0fc4e623c39": {
      "model_module": "@jupyter-widgets/base",
      "model_module_version": "1.0.0",
      "model_name": "LayoutModel",
      "state": {
       "border": "outset"
      }
     },
     "bde8f02e4acd4235a6bd0117ba189088": {
      "model_module": "@jupyter-widgets/controls",
      "model_module_version": "1.1.0",
      "model_name": "FloatSliderModel",
      "state": {
       "description": "Sensitivity",
       "layout": "IPY_MODEL_c44076e65845451f9d1a59c13b042cfe",
       "max": 1,
       "step": 0.05,
       "style": "IPY_MODEL_52f39bb390834632ada98a790e660eff",
       "value": 0.8
      }
     },
     "bdf126d09d00492898d5306bc08fd3fa": {
      "model_module": "bqplot",
      "model_module_version": "^0.3.2",
      "model_name": "FigureModel",
      "state": {
       "_dom_classes": [],
       "background_style": {
        "fill": "white"
       },
       "fig_margin": {
        "bottom": 60,
        "left": 80,
        "right": 0,
        "top": 20
       },
       "layout": "IPY_MODEL_4189f2c4978b4c0fbb88c5735330742c",
       "legend_location": "bottom-right",
       "max_aspect_ratio": 6,
       "scale_x": "IPY_MODEL_958754759d774fe694e0add157d0d5c3",
       "scale_y": "IPY_MODEL_a09d6f7352754b4e8d4323d95395670b"
      }
     },
     "be01ed80a5904627ae16a5abea66ffda": {
      "model_module": "@jupyter-widgets/base",
      "model_module_version": "1.0.0",
      "model_name": "LayoutModel",
      "state": {}
     },
     "be36f3f154e74bc7af4296c860a1bdc5": {
      "model_module": "@jupyter-widgets/controls",
      "model_module_version": "1.1.0",
      "model_name": "ButtonModel",
      "state": {
       "description": "Login",
       "layout": "IPY_MODEL_123ec29f77704afcbe6d7874a3e93416",
       "style": "IPY_MODEL_336ce6794a324a8eae9ac428c06d76a1"
      }
     },
     "be87cc880423485aaff9a22974f47e88": {
      "model_module": "@jupyter-widgets/controls",
      "model_module_version": "1.1.0",
      "model_name": "ButtonModel",
      "state": {
       "description": "Update Query",
       "layout": "IPY_MODEL_6f7b621366c6443eaee7e095f0c80398",
       "style": "IPY_MODEL_d4dcaef1926846e5be490284f827226a"
      }
     },
     "be94cdf7776d4d4eb0bd53fa2c3aebb0": {
      "model_module": "@jupyter-widgets/base",
      "model_module_version": "1.0.0",
      "model_name": "LayoutModel",
      "state": {}
     },
     "be9c8028652b4ac1814b4999b022c24f": {
      "model_module": "@jupyter-widgets/controls",
      "model_module_version": "1.1.0",
      "model_name": "ButtonStyleModel",
      "state": {}
     },
     "beb8d246ec084f3c8de537ea51923a3c": {
      "model_module": "@jupyter-widgets/base",
      "model_module_version": "1.0.0",
      "model_name": "LayoutModel",
      "state": {
       "justify_content": "flex-start",
       "overflow": "visible"
      }
     },
     "bebc2b6dc0cd47528294e27b307416df": {
      "model_module": "@jupyter-widgets/controls",
      "model_module_version": "1.1.0",
      "model_name": "DescriptionStyleModel",
      "state": {
       "description_width": ""
      }
     },
     "bec13885986a42eebe268726eb259be7": {
      "model_module": "@jupyter-widgets/controls",
      "model_module_version": "1.1.0",
      "model_name": "DropdownModel",
      "state": {
       "_options_labels": [
        "Binary",
        "Library"
       ],
       "description": "Download",
       "index": 0,
       "layout": "IPY_MODEL_fd4f4f8e3e6a4aeea661c09ffc4b37f0",
       "style": "IPY_MODEL_52011b5d37444d9ebf7e7f4cff47689c"
      }
     },
     "befe7488c16143c2b1adaa28aedf4a0f": {
      "model_module": "@jupyter-widgets/controls",
      "model_module_version": "1.1.0",
      "model_name": "DescriptionStyleModel",
      "state": {
       "description_width": ""
      }
     },
     "bf34b43d97184c98a5b496083b9944eb": {
      "model_module": "@jupyter-widgets/base",
      "model_module_version": "1.0.0",
      "model_name": "LayoutModel",
      "state": {}
     },
     "bf5abaa120cf41399d6302b4daf52a35": {
      "model_module": "bqplot",
      "model_module_version": "^0.3.2",
      "model_name": "BarsModel",
      "state": {
       "color": {
        "type": null,
        "values": null
       },
       "color_mode": "group",
       "colors": [
        "steelblue"
       ],
       "display_legend": false,
       "scales": {
        "x": "IPY_MODEL_dc3d29068a684dc583e441b9d70d0e65",
        "y": "IPY_MODEL_a7211d279e804b6aacbbf283aefedb19"
       },
       "selected": [],
       "x": {
        "type": "<U1",
        "values": [
         "A",
         "B",
         "C",
         "D",
         "E",
         "F"
        ]
       },
       "y": {
        "type": "float",
        "values": [
         20,
         24,
         16,
         20,
         16,
         15
        ]
       }
      }
     },
     "bf7e2ef46d11401993dd07f44344eb11": {
      "model_module": "@jupyter-widgets/controls",
      "model_module_version": "1.1.0",
      "model_name": "HBoxModel",
      "state": {
       "children": [
        "IPY_MODEL_7adc3f1269524809876292195ac0b436",
        "IPY_MODEL_c15b465b562d4d049fc110d343e47d37"
       ],
       "layout": "IPY_MODEL_72b6049f7b8148aa8d7fed1b889ae5bf"
      }
     },
     "bf810c98c4a54668aa02403ea1697b6b": {
      "model_module": "@jupyter-widgets/controls",
      "model_module_version": "1.1.0",
      "model_name": "TextModel",
      "state": {
       "description": "New Pipeline",
       "layout": "IPY_MODEL_056a82665f8d4615a7894d7b25b668b2",
       "style": "IPY_MODEL_fc74b9149b044da2b38cd3c54812c221",
       "value": "Redxy "
      }
     },
     "bf9ab0816ce747d69c899a817d34e9c0": {
      "model_module": "@jupyter-widgets/controls",
      "model_module_version": "1.1.0",
      "model_name": "VBoxModel",
      "state": {
       "children": [
        "IPY_MODEL_0377d5fa77684ed8b6abd9da5b522932",
        "IPY_MODEL_443929973e154fad9fb70273a975db25",
        "IPY_MODEL_08e0d2c94c534b6897dc17b4b7f0a176"
       ],
       "layout": "IPY_MODEL_d8bc5202d0f748d19b4293a917fa24fd"
      }
     },
     "bfac8c8dea58466e84a87f7a46c9f7af": {
      "model_module": "@jupyter-widgets/controls",
      "model_module_version": "1.1.0",
      "model_name": "VBoxModel",
      "state": {
       "children": [
        "IPY_MODEL_eef4641cffc04361ba8aca94cdeb495d",
        "IPY_MODEL_e42357e64c9e4b8f96d8f971595bcab9"
       ],
       "layout": "IPY_MODEL_ed3530042e8946c7b84d70bc3b5a3619"
      }
     },
     "bfc9dda1e4ea4c8d9f2084f2cfeb4202": {
      "model_module": "@jupyter-widgets/base",
      "model_module_version": "1.0.0",
      "model_name": "LayoutModel",
      "state": {}
     },
     "bff3f511f15342c9a47bac3a56756665": {
      "model_module": "@jupyter-widgets/controls",
      "model_module_version": "1.1.0",
      "model_name": "DropdownModel",
      "state": {
       "description": "Segmenter",
       "index": null,
       "layout": "IPY_MODEL_49726d2093bc4d549701da37c5570347",
       "style": "IPY_MODEL_7e3b8b4922e9480eba531d111b47ee55"
      }
     },
     "c011bc0313ac4df59d7e07763da3d972": {
      "model_module": "@jupyter-widgets/controls",
      "model_module_version": "1.1.0",
      "model_name": "DescriptionStyleModel",
      "state": {
       "description_width": ""
      }
     },
     "c03574364f3c4da88349d6cba59b2328": {
      "model_module": "@jupyter-widgets/controls",
      "model_module_version": "1.1.0",
      "model_name": "LabelModel",
      "state": {
       "layout": "IPY_MODEL_beb8d246ec084f3c8de537ea51923a3c",
       "style": "IPY_MODEL_fcf0bc59169543b488c0d4830c3d5cc9",
       "value": "Download Settings"
      }
     },
     "c057605c6fe64c838233ea9c8c94354e": {
      "model_module": "@jupyter-widgets/controls",
      "model_module_version": "1.1.0",
      "model_name": "IntSliderModel",
      "state": {
       "description": "population size",
       "layout": "IPY_MODEL_687502490def4e62a77bfd7ac8c099f0",
       "max": 50,
       "min": 10,
       "style": "IPY_MODEL_1705566b43b4481396db70b17e61d238",
       "value": 10
      }
     },
     "c0586947a41844d2bc71d36ce91e31b8": {
      "model_module": "@jupyter-widgets/base",
      "model_module_version": "1.0.0",
      "model_name": "LayoutModel",
      "state": {}
     },
     "c05e985e882b4a7388f71426bd394d82": {
      "model_module": "@jupyter-widgets/controls",
      "model_module_version": "1.1.0",
      "model_name": "AccordionModel",
      "state": {
       "_titles": {
        "0": "Select or Create Query"
       },
       "children": [
        "IPY_MODEL_22d28fe2ad234c278b07286517e15c72"
       ],
       "layout": "IPY_MODEL_aa22a664a1dc41be9140c72d9560d09e"
      }
     },
     "c068582840554b4f8f5093a58d35aef8": {
      "model_module": "@jupyter-widgets/controls",
      "model_module_version": "1.1.0",
      "model_name": "HBoxModel",
      "state": {
       "children": [
        "IPY_MODEL_21cef7ec06c34d14a5582c565352caf8",
        "IPY_MODEL_6e1dd4a21d074b08ae0c4442cf74b71d",
        "IPY_MODEL_7904145c132d40e9af093b3a6b07d760"
       ],
       "layout": "IPY_MODEL_9e2e966bc0554a9c882ece7dafebd712"
      }
     },
     "c09320284a044f2faea0ccc24d6c96a3": {
      "model_module": "@jupyter-widgets/controls",
      "model_module_version": "1.1.0",
      "model_name": "IntSliderModel",
      "state": {
       "description": "iterations",
       "layout": "IPY_MODEL_e467e29a64634534b50726ed67474b9b",
       "max": 15,
       "min": 1,
       "style": "IPY_MODEL_105de20848ec4fae876c604f443783dc",
       "value": 2
      }
     },
     "c09817b6836f4286b2dccb622c533248": {
      "model_module": "@jupyter-widgets/controls",
      "model_module_version": "1.1.0",
      "model_name": "ButtonModel",
      "state": {
       "description": "Add Query",
       "layout": "IPY_MODEL_824e08fd31a2454682a88b476275e379",
       "style": "IPY_MODEL_9b66339dfce941579ffebb1d0fe61f04"
      }
     },
     "c0b00460e4cd429d8dcbea87b9fd4e4e": {
      "model_module": "@jupyter-widgets/base",
      "model_module_version": "1.0.0",
      "model_name": "LayoutModel",
      "state": {}
     },
     "c0b57bc03ccb42d793efd4f8a6e034e4": {
      "model_module": "bqplot",
      "model_module_version": "^0.3.2",
      "model_name": "AxisModel",
      "state": {
       "scale": "IPY_MODEL_086a6f0b9bf64bb482b94e030e6046a5",
       "side": "bottom",
       "tick_values": {
        "type": "<U1",
        "values": [
         "A",
         "B",
         "C",
         "D",
         "E",
         "F"
        ]
       }
      }
     },
     "c0b5a4452b1943ccb86864e4fb2bf5f0": {
      "model_module": "@jupyter-widgets/base",
      "model_module_version": "1.0.0",
      "model_name": "LayoutModel",
      "state": {}
     },
     "c0d5f91b21f84458b354fe36aee91b44": {
      "model_module": "@jupyter-widgets/controls",
      "model_module_version": "1.1.0",
      "model_name": "DescriptionStyleModel",
      "state": {
       "description_width": ""
      }
     },
     "c13b0ce6f5f34447bea69841393f4b83": {
      "model_module": "@jupyter-widgets/controls",
      "model_module_version": "1.1.0",
      "model_name": "DropdownModel",
      "state": {
       "_options_labels": [
        "Binary",
        "Library"
       ],
       "description": "Download",
       "index": 0,
       "layout": "IPY_MODEL_d9f07dc2dde543adae28e6a5ad0547c2",
       "style": "IPY_MODEL_392a9202f53c47deb37d87f8e3ac3a06"
      }
     },
     "c13c40ce56974af284da2df2f94b3288": {
      "model_module": "@jupyter-widgets/base",
      "model_module_version": "1.0.0",
      "model_name": "LayoutModel",
      "state": {
       "border": "solid 2px",
       "display": "flex",
       "flex_flow": "row",
       "justify_content": "center",
       "overflow": "visible"
      }
     },
     "c15b465b562d4d049fc110d343e47d37": {
      "model_module": "@jupyter-widgets/controls",
      "model_module_version": "1.1.0",
      "model_name": "ButtonModel",
      "state": {
       "description": "Update Query",
       "layout": "IPY_MODEL_3929316ab12a4a46a893b1f9a7e165f2",
       "style": "IPY_MODEL_1cf2da49d9c3471ea49ebda7dd2d4e86"
      }
     },
     "c18ea2394c934aa780391c427989db8d": {
      "model_module": "@jupyter-widgets/controls",
      "model_module_version": "1.1.0",
      "model_name": "DropdownModel",
      "state": {
       "_options_labels": [
        "Default",
        "Windowing(100)",
        "Windowing(200)",
        "Windowing(250)"
       ],
       "description": "Segmenter",
       "index": 0,
       "layout": "IPY_MODEL_292d6bb1e1a64d2a8ffdd326467f060d",
       "style": "IPY_MODEL_07c29a6f938a492ab74c993a2f494802"
      }
     },
     "c1ae911ba97946579396f58577ae9682": {
      "model_module": "@jupyter-widgets/controls",
      "model_module_version": "1.1.0",
      "model_name": "VBoxModel",
      "state": {
       "children": [
        "IPY_MODEL_4b2735953d6a40af8d4c6b2244890aa0",
        "IPY_MODEL_116f72b955f44e29b02f15e277c14ee7",
        "IPY_MODEL_bb955cb003c34c75b62dbe07afa45071",
        "IPY_MODEL_8c5de15485db4a67980a2c8103641c08"
       ],
       "layout": "IPY_MODEL_00ada318ec4d414099d305aeeaf6bc8e"
      }
     },
     "c1c78d00bed14bb0bf2dd04f9a5c1a66": {
      "model_module": "@jupyter-widgets/base",
      "model_module_version": "1.0.0",
      "model_name": "LayoutModel",
      "state": {}
     },
     "c1f109e6d8d047179849cef2003d3aec": {
      "model_module": "@jupyter-widgets/controls",
      "model_module_version": "1.1.0",
      "model_name": "DropdownModel",
      "state": {
       "description": "Target OS",
       "index": null,
       "layout": "IPY_MODEL_0d53a61b139e43aca02bc93c9ebed35b",
       "style": "IPY_MODEL_31f7989632b446479a757951007735f8"
      }
     },
     "c1f29c61d0084ab0823f9788ae9591f5": {
      "model_module": "@jupyter-widgets/controls",
      "model_module_version": "1.1.0",
      "model_name": "HBoxModel",
      "state": {
       "children": [
        "IPY_MODEL_43c3b60653f14c05bdded0975e203775",
        "IPY_MODEL_8d3826e5d4554afcb00fc7cc574b5b9e",
        "IPY_MODEL_00ad0a473f974b20886009fff1c79033"
       ],
       "layout": "IPY_MODEL_7efa7d516bd143759f93b48a08167e93"
      }
     },
     "c21015a75be84d1a822342fe58c6395c": {
      "model_module": "@jupyter-widgets/base",
      "model_module_version": "1.0.0",
      "model_name": "LayoutModel",
      "state": {}
     },
     "c249226141b44165a09e6942534ba171": {
      "model_module": "@jupyter-widgets/controls",
      "model_module_version": "1.1.0",
      "model_name": "SliderStyleModel",
      "state": {
       "description_width": ""
      }
     },
     "c2712db7df36474a8fbc9e9aee8d7921": {
      "model_module": "@jupyter-widgets/controls",
      "model_module_version": "1.1.0",
      "model_name": "DescriptionStyleModel",
      "state": {
       "description_width": ""
      }
     },
     "c29b235bb4eb41ab8f387f7389d13998": {
      "model_module": "@jupyter-widgets/base",
      "model_module_version": "1.0.0",
      "model_name": "LayoutModel",
      "state": {}
     },
     "c29cfbd94ee34936b8f173fe10522781": {
      "model_module": "@jupyter-widgets/base",
      "model_module_version": "1.0.0",
      "model_name": "LayoutModel",
      "state": {}
     },
     "c2afcd6c977e4bb59594ff8cae8693d2": {
      "model_module": "@jupyter-widgets/controls",
      "model_module_version": "1.1.0",
      "model_name": "VBoxModel",
      "state": {
       "children": [
        "IPY_MODEL_285102e9af07401795e3633d03a36b42",
        "IPY_MODEL_0a185f1875ac433b9ef8d21d0c58f5f9"
       ],
       "layout": "IPY_MODEL_21e51d10631648909eb2906a0c547de5"
      }
     },
     "c2e37b114b804934a3f244c45955b0f5": {
      "model_module": "@jupyter-widgets/base",
      "model_module_version": "1.0.0",
      "model_name": "LayoutModel",
      "state": {}
     },
     "c2e7b3c2528f45f0b6eb37a17cf62634": {
      "model_module": "@jupyter-widgets/controls",
      "model_module_version": "1.1.0",
      "model_name": "ButtonModel",
      "state": {
       "description": "Create",
       "layout": "IPY_MODEL_f4cca632a8ea470b8cce4a389cf77f23",
       "style": "IPY_MODEL_717badf13d7a4eaa94a0b48b7b9f64e7"
      }
     },
     "c302db9028ed4a00a101610d5fba7e1c": {
      "model_module": "@jupyter-widgets/controls",
      "model_module_version": "1.1.0",
      "model_name": "ButtonStyleModel",
      "state": {}
     },
     "c3179ee3fcc44c12b24af03c8965cc34": {
      "model_module": "@jupyter-widgets/controls",
      "model_module_version": "1.1.0",
      "model_name": "TextModel",
      "state": {
       "description": "Query Filter",
       "layout": "IPY_MODEL_80aade7cac2a4563ace86dc991cf1c61",
       "style": "IPY_MODEL_98a992b2e0d64cfa835e4e6dd47c4507",
       "value": "[Gesture] IN [A,B,C,D,E,F]"
      }
     },
     "c32fc62a4d7f483a8c8862c7b7bae741": {
      "model_module": "@jupyter-widgets/controls",
      "model_module_version": "1.1.0",
      "model_name": "FloatSliderModel",
      "state": {
       "description": "Sensitivity",
       "layout": "IPY_MODEL_1acab903fd3845da937d73b59e3a198c",
       "max": 1,
       "step": 0.05,
       "style": "IPY_MODEL_6b5c3f9107d84f70a81cca584b2dea9d",
       "value": 0.8
      }
     },
     "c33269739b4b4243b5123c6bfbd7068f": {
      "model_module": "@jupyter-widgets/base",
      "model_module_version": "1.0.0",
      "model_name": "LayoutModel",
      "state": {}
     },
     "c334529fdf144d0b9be113f5bdb5860e": {
      "model_module": "@jupyter-widgets/controls",
      "model_module_version": "1.1.0",
      "model_name": "DescriptionStyleModel",
      "state": {
       "description_width": ""
      }
     },
     "c339d21461914272ae5b50ddd9b6757d": {
      "model_module": "@jupyter-widgets/base",
      "model_module_version": "1.0.0",
      "model_name": "LayoutModel",
      "state": {}
     },
     "c353d0321ce94330a6e7cb90c2da860b": {
      "model_module": "@jupyter-widgets/controls",
      "model_module_version": "1.1.0",
      "model_name": "VBoxModel",
      "state": {
       "children": [
        "IPY_MODEL_ec98ed9f11224299bbed3ab35253188b",
        "IPY_MODEL_97d5691307a945a385c6910c9d6de3a8"
       ],
       "layout": "IPY_MODEL_5f2f0c2e8c3945aebaa70cd57395f9b4"
      }
     },
     "c35d2049324d4580a8a87b292459a127": {
      "model_module": "@jupyter-widgets/controls",
      "model_module_version": "1.1.0",
      "model_name": "ButtonStyleModel",
      "state": {}
     },
     "c361a032b46342b2b7a27a2521c75367": {
      "model_module": "@jupyter-widgets/base",
      "model_module_version": "1.0.0",
      "model_name": "LayoutModel",
      "state": {}
     },
     "c38d3502a7bf470d890a327e5669ca3c": {
      "model_module": "@jupyter-widgets/base",
      "model_module_version": "1.0.0",
      "model_name": "LayoutModel",
      "state": {}
     },
     "c391a3f1117448e78e2f6e1a09e544a1": {
      "model_module": "@jupyter-widgets/base",
      "model_module_version": "1.0.0",
      "model_name": "LayoutModel",
      "state": {}
     },
     "c3accd355535421bbab82022b796cb22": {
      "model_module": "@jupyter-widgets/base",
      "model_module_version": "1.0.0",
      "model_name": "LayoutModel",
      "state": {
       "align_items": "flex-start",
       "border": "solid 2px",
       "display": "flex",
       "flex_flow": "column",
       "justify_content": "center",
       "overflow": "visible",
       "width": "25%"
      }
     },
     "c44076e65845451f9d1a59c13b042cfe": {
      "model_module": "@jupyter-widgets/base",
      "model_module_version": "1.0.0",
      "model_name": "LayoutModel",
      "state": {}
     },
     "c449ba3faa8345369be0c3c3e986e918": {
      "model_module": "@jupyter-widgets/controls",
      "model_module_version": "1.1.0",
      "model_name": "HBoxModel",
      "state": {
       "children": [
        "IPY_MODEL_2166535015d1404c9679a181c4006e3a",
        "IPY_MODEL_aa97cf346f04447eafd1f834509d5470",
        "IPY_MODEL_c9b834f8fe3046218a2a7c07347703a7"
       ],
       "layout": "IPY_MODEL_f92a74a5685946cbbcc61b2efe74f727"
      }
     },
     "c4543efaea754d87a36aea1234ea94bb": {
      "model_module": "@jupyter-widgets/controls",
      "model_module_version": "1.1.0",
      "model_name": "DescriptionStyleModel",
      "state": {
       "description_width": ""
      }
     },
     "c468690d9ac54459846c03c1902da3cd": {
      "model_module": "@jupyter-widgets/controls",
      "model_module_version": "1.1.0",
      "model_name": "DropdownModel",
      "state": {
       "_options_labels": [
        "",
        "Parameter Optimization Tutorial",
        "outlier_remove",
        "Training Demo",
        "MHEAudio",
        "ChristTest2",
        "Video Project",
        "LargeData",
        "motor_vibration",
        "Activity Demo",
        "SensiML Gestures Demo",
        "hereo",
        "OptimizePara_UsingGrid",
        "DogData",
        "Gesture_data_demo",
        "ChrisGestureProject",
        "PunchPunch",
        "Voyager Demo",
        "PunchDemo",
        "A Marc Project",
        "Virginia",
        "MyProject",
        "Cursive",
        "MotorVibration",
        "Seven Peaks Demo",
        "Customer End to End Demo",
        "MotorVibrationSmall",
        "CustomerE2E",
        "motor_vibration_2",
        "Harry Potter Project",
        "Gesture Demo",
        "SensiML Gestures"
       ],
       "description": "Select Project",
       "index": 0,
       "layout": "IPY_MODEL_d8d08f6a7ab7401f9f99ebb7d12b603b",
       "style": "IPY_MODEL_cb55e29488114e64b151f33178b995fa"
      }
     },
     "c4785dd1e8d84f2fa618f209abf71cbf": {
      "model_module": "@jupyter-widgets/controls",
      "model_module_version": "1.1.0",
      "model_name": "DropdownModel",
      "state": {
       "_options_labels": [
        "New Query",
        "What",
        "ABC",
        "All Gestures",
        "Chris Query",
        "Query - ABDEG",
        "Query ABDGE",
        "Marc Segmenter",
        "Query All",
        "DEF",
        "ABCDEF",
        "ABDGFH"
       ],
       "description": "Select Query",
       "index": 10,
       "layout": "IPY_MODEL_06d502bb31fe4f538b15ebcaf0daf8ac",
       "style": "IPY_MODEL_463d520b5f6149cea35ff3b721cacae1"
      }
     },
     "c4a09acc620e4b68a2495642a9933239": {
      "model_module": "@jupyter-widgets/controls",
      "model_module_version": "1.1.0",
      "model_name": "FloatSliderModel",
      "state": {
       "description": "Sensitivity",
       "layout": "IPY_MODEL_297c359bb5f3469d84cca1b7c27e9a92",
       "max": 1,
       "step": 0.05,
       "style": "IPY_MODEL_bc046d572ccf442e98ddecd0e72ab23a",
       "value": 0.8
      }
     },
     "c4b882e23d6d4e96a1c262831c6cce84": {
      "model_module": "@jupyter-widgets/controls",
      "model_module_version": "1.1.0",
      "model_name": "DropdownModel",
      "state": {
       "description": "Target OS",
       "index": null,
       "layout": "IPY_MODEL_968f9ec380e640f2890879acb2b2d86f",
       "style": "IPY_MODEL_2c2439b4abed46e491e42077799d8da7"
      }
     },
     "c4c6ea2e3fc2451ea1182950e1e614ad": {
      "model_module": "bqplot",
      "model_module_version": "^0.3.2",
      "model_name": "FigureModel",
      "state": {
       "_dom_classes": [],
       "background_style": {
        "fill": "white"
       },
       "fig_margin": {
        "bottom": 60,
        "left": 80,
        "right": 0,
        "top": 20
       },
       "layout": "IPY_MODEL_fe8b4684d6af449e9e42f475dd92eded",
       "legend_location": "bottom-right",
       "max_aspect_ratio": 6,
       "scale_x": "IPY_MODEL_3c555188c5f54f75a871b3315bbb8e07",
       "scale_y": "IPY_MODEL_d55442fd4d554c5db5639ab06f274fa2"
      }
     },
     "c4d19540acf44da3b6f5353e79b80297": {
      "model_module": "@jupyter-widgets/controls",
      "model_module_version": "1.1.0",
      "model_name": "AccordionModel",
      "state": {
       "_titles": {
        "0": "AutoSense Pipeline"
       },
       "children": [
        "IPY_MODEL_e0e6305aec5b4821aa637fb2d2be548a"
       ],
       "layout": "IPY_MODEL_48e52e2e64d64225908d6f22c5517c41"
      }
     },
     "c50651240d774058ba0ddac0abac53e7": {
      "model_module": "@jupyter-widgets/controls",
      "model_module_version": "1.1.0",
      "model_name": "VBoxModel",
      "state": {
       "children": [
        "IPY_MODEL_4c748156d8d64939af3baf34dda9859a",
        "IPY_MODEL_8fa7264c949641ee898abbe254124124",
        "IPY_MODEL_372b81bc08184912aec97184ff36bbb1",
        "IPY_MODEL_13cf81280ece481f990244c3aa648753"
       ],
       "layout": "IPY_MODEL_b5c4e395b41c411a9224caa518dedc98"
      }
     },
     "c50dc687b7a04db38918850be291fabe": {
      "model_module": "@jupyter-widgets/controls",
      "model_module_version": "1.1.0",
      "model_name": "DescriptionStyleModel",
      "state": {
       "description_width": ""
      }
     },
     "c5548744c11a4458b174d26c2854d7c7": {
      "model_module": "@jupyter-widgets/base",
      "model_module_version": "1.0.0",
      "model_name": "LayoutModel",
      "state": {}
     },
     "c55aab3bb1534f2fa2c85b308496a86a": {
      "model_module": "@jupyter-widgets/controls",
      "model_module_version": "1.1.0",
      "model_name": "FloatSliderModel",
      "state": {
       "description": "Sensitivity",
       "layout": "IPY_MODEL_1e54f63ed4be49389706cfa01f247f16",
       "max": 1,
       "step": 0.05,
       "style": "IPY_MODEL_6acb45e6e3ae4d38a5b80701f60b9f30",
       "value": 0.8
      }
     },
     "c57f2e679aa54f99b18fb96c2849a206": {
      "model_module": "@jupyter-widgets/controls",
      "model_module_version": "1.1.0",
      "model_name": "VBoxModel",
      "state": {
       "children": [
        "IPY_MODEL_ac654a74e88c4513bdc3fec2d00fcf57",
        "IPY_MODEL_2733c59b26024f24a79a519360d55fef"
       ],
       "layout": "IPY_MODEL_d0f1f9f46f53400da40b633817d21b86"
      }
     },
     "c5a266e564b54f93af999eeb7ae4e79b": {
      "model_module": "@jupyter-widgets/controls",
      "model_module_version": "1.1.0",
      "model_name": "TextModel",
      "state": {
       "description": "New Pipeline",
       "layout": "IPY_MODEL_d94538b29c4044578fdb82ff6ea05431",
       "style": "IPY_MODEL_a7a95ded908b4164af261843dc71068e"
      }
     },
     "c5bb046996b84972ab61eb3d1fe59a4c": {
      "model_module": "@jupyter-widgets/base",
      "model_module_version": "1.0.0",
      "model_name": "LayoutModel",
      "state": {}
     },
     "c5fb4649d6614e2bb643b90941b6281f": {
      "model_module": "@jupyter-widgets/controls",
      "model_module_version": "1.1.0",
      "model_name": "SliderStyleModel",
      "state": {
       "description_width": ""
      }
     },
     "c60b0a5594144c9cac71a05b71c70061": {
      "model_module": "@jupyter-widgets/base",
      "model_module_version": "1.0.0",
      "model_name": "LayoutModel",
      "state": {}
     },
     "c626661ba0ce486fb7f8c0c6eb736da3": {
      "model_module": "@jupyter-widgets/controls",
      "model_module_version": "1.1.0",
      "model_name": "DropdownModel",
      "state": {
       "description": "Select Query",
       "index": null,
       "layout": "IPY_MODEL_621fb66fc61343ed9b370558d2171f0c",
       "style": "IPY_MODEL_eeb8dfdd204d4e8b9b9e923ccd23c6f0"
      }
     },
     "c62abe7df2994e6ab2d15814047453da": {
      "model_module": "@jupyter-widgets/base",
      "model_module_version": "1.0.0",
      "model_name": "LayoutModel",
      "state": {}
     },
     "c646ba6104c74e0ba37a291a13da1e87": {
      "model_module": "@jupyter-widgets/base",
      "model_module_version": "1.0.0",
      "model_name": "LayoutModel",
      "state": {
       "display": "flex",
       "flex_flow": "row",
       "justify_content": "space-between",
       "overflow": "visible"
      }
     },
     "c65e7dd684254216994eb41aa023a72c": {
      "model_module": "@jupyter-widgets/base",
      "model_module_version": "1.0.0",
      "model_name": "LayoutModel",
      "state": {}
     },
     "c66b58a2ca6d439098a2de20eeb2c2c9": {
      "model_module": "@jupyter-widgets/base",
      "model_module_version": "1.0.0",
      "model_name": "LayoutModel",
      "state": {
       "border": "solid 2px",
       "display": "flex",
       "flex_flow": "row",
       "justify_content": "space-between",
       "overflow": "visible"
      }
     },
     "c67708b219a144c6b7e425f3c0b4a9e7": {
      "model_module": "@jupyter-widgets/base",
      "model_module_version": "1.0.0",
      "model_name": "LayoutModel",
      "state": {
       "align_items": "flex-start",
       "border": "solid 2px",
       "display": "flex",
       "flex_flow": "column",
       "justify_content": "center",
       "overflow": "visible",
       "width": "25%"
      }
     },
     "c6843bcbc1f24dcfa4a535cd06f9ba31": {
      "model_module": "@jupyter-widgets/controls",
      "model_module_version": "1.1.0",
      "model_name": "DropdownModel",
      "state": {
       "_options_labels": [
        "Subject",
        "Gender",
        "Device",
        "Gesture"
       ],
       "description": "Label Column",
       "index": 3,
       "layout": "IPY_MODEL_0742243c455e4368983ef563c67076cb",
       "style": "IPY_MODEL_c50dc687b7a04db38918850be291fabe"
      }
     },
     "c69fbe84d6184a10969594b512efd813": {
      "model_module": "@jupyter-widgets/controls",
      "model_module_version": "1.1.0",
      "model_name": "DescriptionStyleModel",
      "state": {
       "description_width": ""
      }
     },
     "c6ba9dd308c44370af4821f345085be4": {
      "model_module": "@jupyter-widgets/base",
      "model_module_version": "1.0.0",
      "model_name": "LayoutModel",
      "state": {}
     },
     "c71274b6ecbb4310bbad248850e96c60": {
      "model_module": "@jupyter-widgets/base",
      "model_module_version": "1.0.0",
      "model_name": "LayoutModel",
      "state": {}
     },
     "c7223778d57e4ad6b94ca225eb866df9": {
      "model_module": "@jupyter-widgets/base",
      "model_module_version": "1.0.0",
      "model_name": "LayoutModel",
      "state": {
       "display": "flex",
       "flex_flow": "row",
       "justify_content": "space-between",
       "overflow": "visible"
      }
     },
     "c778dac8358c44218e6cc9b60a65692b": {
      "model_module": "@jupyter-widgets/controls",
      "model_module_version": "1.1.0",
      "model_name": "TextModel",
      "state": {
       "description": "New Pipeline",
       "layout": "IPY_MODEL_72167cfe083c46e2b1d316cf9d7b5eb3",
       "style": "IPY_MODEL_21c51bc0dec648b1ab271596a4f6d426"
      }
     },
     "c77c9ecf752141e8ac1274ad1c924e3c": {
      "model_module": "@jupyter-widgets/controls",
      "model_module_version": "1.1.0",
      "model_name": "VBoxModel",
      "state": {
       "children": [
        "IPY_MODEL_b9d86b7ba983498f80572a99fdcf25ad",
        "IPY_MODEL_aed7cf61370f4f2094e1e2e08b26011a",
        "IPY_MODEL_098bf7c2add340c7bb8114165f0fc2ee",
        "IPY_MODEL_19fadbdcb58648b795562437b4d7f9ed"
       ],
       "layout": "IPY_MODEL_0002cd87909d447fb01da80ef97d5a03"
      }
     },
     "c78e5c662c694ccea38b25a78915a113": {
      "model_module": "@jupyter-widgets/controls",
      "model_module_version": "1.1.0",
      "model_name": "ButtonStyleModel",
      "state": {}
     },
     "c79ec1f6aaa44f4caeef4271aecef444": {
      "model_module": "@jupyter-widgets/base",
      "model_module_version": "1.0.0",
      "model_name": "LayoutModel",
      "state": {}
     },
     "c7aee0795e8a42f39b0a73eba7a7e3c0": {
      "model_module": "@jupyter-widgets/controls",
      "model_module_version": "1.1.0",
      "model_name": "LabelModel",
      "state": {
       "layout": "IPY_MODEL_e78173ea48b74bec8f48e6b9336ac530",
       "style": "IPY_MODEL_9ba51a8d9fc842d4b03a17339eff138d",
       "value": "Download Settings"
      }
     },
     "c7d2b6e9fcf941b3b0a170e581e27d2b": {
      "model_module": "@jupyter-widgets/controls",
      "model_module_version": "1.1.0",
      "model_name": "IntSliderModel",
      "state": {
       "description": "population size",
       "layout": "IPY_MODEL_a04db7b8ae154c10a3b78fd1aade8fa5",
       "max": 50,
       "min": 10,
       "style": "IPY_MODEL_d588227c91df49eea957eee806f2ab22",
       "value": 10
      }
     },
     "c7d90264b0bc489a925f0d3d03de86c4": {
      "model_module": "@jupyter-widgets/base",
      "model_module_version": "1.0.0",
      "model_name": "LayoutModel",
      "state": {}
     },
     "c7ddaa7f65d946f3bca814818328574d": {
      "model_module": "bqplot",
      "model_module_version": "^0.3.2",
      "model_name": "OrdinalScaleModel",
      "state": {
       "domain": []
      }
     },
     "c81933e52a5e44f4af73fa5501f705d5": {
      "model_module": "@jupyter-widgets/controls",
      "model_module_version": "1.1.0",
      "model_name": "DropdownModel",
      "state": {
       "description": "Target OS",
       "index": null,
       "layout": "IPY_MODEL_1a96ff4d929344eab265ab58e4ad0c59",
       "style": "IPY_MODEL_94ec766d7a184f95ab2716339ae26cf6"
      }
     },
     "c842ee0b3619453e846e56b87d1c5429": {
      "model_module": "@jupyter-widgets/controls",
      "model_module_version": "1.1.0",
      "model_name": "TextModel",
      "state": {
       "description": "Query Name",
       "layout": "IPY_MODEL_7000ee89fc7c4fc7a17944c2f65b21a2",
       "style": "IPY_MODEL_a3e2e05583134e289b7a031339799c75"
      }
     },
     "c90044a6f3b84c19bc055388d00cf45c": {
      "model_module": "@jupyter-widgets/base",
      "model_module_version": "1.0.0",
      "model_name": "LayoutModel",
      "state": {
       "align_items": "stretch",
       "border": "solid 2px",
       "display": "flex",
       "flex_flow": "column",
       "overflow": "visible",
       "width": "75%"
      }
     },
     "c900ff47193f4bdb9686be76d558af44": {
      "model_module": "@jupyter-widgets/base",
      "model_module_version": "1.0.0",
      "model_name": "LayoutModel",
      "state": {}
     },
     "c917bf2aba0a4897baf45a219dc6ca90": {
      "model_module": "@jupyter-widgets/base",
      "model_module_version": "1.0.0",
      "model_name": "LayoutModel",
      "state": {
       "display": "flex",
       "flex_flow": "row",
       "justify_content": "space-between",
       "overflow": "visible"
      }
     },
     "c91a614381b04937b4f4cca1115c12e6": {
      "model_module": "@jupyter-widgets/controls",
      "model_module_version": "1.1.0",
      "model_name": "ButtonModel",
      "state": {
       "description": "Generate Knowledgepack",
       "icon": "0",
       "layout": "IPY_MODEL_2be18412e07e4dac99d045094b22c64a",
       "style": "IPY_MODEL_5a8942f5194f47e8b682ace9b2df57b6"
      }
     },
     "c92f40ddd3414dd68216dd64bc96e659": {
      "model_module": "@jupyter-widgets/base",
      "model_module_version": "1.0.0",
      "model_name": "LayoutModel",
      "state": {
       "width": "300px"
      }
     },
     "c95979b52e5a44e2bcf37e206cb19d3d": {
      "model_module": "@jupyter-widgets/controls",
      "model_module_version": "1.1.0",
      "model_name": "DropdownModel",
      "state": {
       "description": "HW Platform",
       "index": null,
       "layout": "IPY_MODEL_a3dfdf3185b04e79aad4b53c40549968",
       "style": "IPY_MODEL_27e7553cb26e4cad91f805770ae396d2"
      }
     },
     "c99a629d18c3452f9001ef01cf74eb8c": {
      "model_module": "@jupyter-widgets/base",
      "model_module_version": "1.0.0",
      "model_name": "LayoutModel",
      "state": {}
     },
     "c9b834f8fe3046218a2a7c07347703a7": {
      "model_module": "@jupyter-widgets/controls",
      "model_module_version": "1.1.0",
      "model_name": "ButtonModel",
      "state": {
       "description": "Generate Knowledgepack",
       "icon": "0",
       "layout": "IPY_MODEL_89232879964046369d590f71d7cdcf33",
       "style": "IPY_MODEL_a9ac2763071c43ca990bb998c2ee7c2b"
      }
     },
     "c9c96ea6adce4788afe88091a5cc5fe6": {
      "model_module": "@jupyter-widgets/controls",
      "model_module_version": "1.1.0",
      "model_name": "DescriptionStyleModel",
      "state": {
       "description_width": ""
      }
     },
     "ca0430b361534df6961556110be8c030": {
      "model_module": "@jupyter-widgets/base",
      "model_module_version": "1.0.0",
      "model_name": "LayoutModel",
      "state": {}
     },
     "ca0b92a2f6a74591a2c8d64d27a70518": {
      "model_module": "@jupyter-widgets/controls",
      "model_module_version": "1.1.0",
      "model_name": "VBoxModel",
      "state": {
       "children": [
        "IPY_MODEL_b40ec5aa67244babaabf8c351057a1e0",
        "IPY_MODEL_da2533d1cab04cc2b2244d68bf8e3f19",
        "IPY_MODEL_2676445da8a947c99bb64557c11d0bec"
       ],
       "layout": "IPY_MODEL_7f622d4408fc4131808275810a8e3b67"
      }
     },
     "ca1ad2410af2428c85f8e4e91d918407": {
      "model_module": "@jupyter-widgets/controls",
      "model_module_version": "1.1.0",
      "model_name": "DescriptionStyleModel",
      "state": {
       "description_width": ""
      }
     },
     "ca35f52f315549559d4a2717089a7ec8": {
      "model_module": "@jupyter-widgets/controls",
      "model_module_version": "1.1.0",
      "model_name": "VBoxModel",
      "state": {
       "children": [
        "IPY_MODEL_ecc9213d1ecb4a69815e686bc6847370",
        "IPY_MODEL_f33a36a88a45440694d17bbc3a19a443",
        "IPY_MODEL_f2f72945767c419791995ef8a2a016a6"
       ],
       "layout": "IPY_MODEL_e6c140279f3d410492a2ce1ca0dfcc35"
      }
     },
     "ca3ec9b617114fd5b7009323a48c2eac": {
      "model_module": "@jupyter-widgets/controls",
      "model_module_version": "1.1.0",
      "model_name": "DropdownModel",
      "state": {
       "_options_labels": [
        "NordicSDK"
       ],
       "description": "Target OS",
       "index": 0,
       "layout": "IPY_MODEL_0601f203a45a40719fca98bc97e62720",
       "style": "IPY_MODEL_735b4eb81f834f1ca815835061a51cef"
      }
     },
     "ca67ea2ea33f43b0bfbd270eab7edee5": {
      "model_module": "@jupyter-widgets/controls",
      "model_module_version": "1.1.0",
      "model_name": "DropdownModel",
      "state": {
       "description": "Label Column",
       "index": null,
       "layout": "IPY_MODEL_dd9235b99cf54b5280d45e8dfa2db665",
       "style": "IPY_MODEL_a0fa85e8e18440e38790a92b5f2a18fa"
      }
     },
     "cab0e95e28af4bb1a4a138c5300ce3ce": {
      "model_module": "@jupyter-widgets/controls",
      "model_module_version": "1.1.0",
      "model_name": "DescriptionStyleModel",
      "state": {
       "description_width": ""
      }
     },
     "cac87a8b747849f0a0183e60372211fb": {
      "model_module": "@jupyter-widgets/base",
      "model_module_version": "1.0.0",
      "model_name": "LayoutModel",
      "state": {}
     },
     "caf97181edd343df91ed7daa1b3116b7": {
      "model_module": "@jupyter-widgets/base",
      "model_module_version": "1.0.0",
      "model_name": "LayoutModel",
      "state": {}
     },
     "caff6ce5c248408c8545703181193aee": {
      "model_module": "@jupyter-widgets/controls",
      "model_module_version": "1.1.0",
      "model_name": "SelectMultipleModel",
      "state": {
       "_options_labels": [
        "Subject",
        "Gender",
        "Device",
        "Gesture"
       ],
       "description": "Metadtata",
       "index": [
        0
       ],
       "layout": "IPY_MODEL_d4a37314b6d34f9ab57bbbc39dcc0f3f",
       "rows": 5,
       "style": "IPY_MODEL_cc6f83ac2ed14a5b934922516ea940c2"
      }
     },
     "cb28a84df29c46e6a74d4ca5867d4b43": {
      "model_module": "@jupyter-widgets/controls",
      "model_module_version": "1.1.0",
      "model_name": "FloatSliderModel",
      "state": {
       "description": "Features",
       "layout": "IPY_MODEL_a059fad0a48d4b0fb670000a809a3bb9",
       "max": 1,
       "step": 0.05,
       "style": "IPY_MODEL_cf760011fd7b427ea11ad2bc5acc1d20",
       "value": 0.9
      }
     },
     "cb34d3a6ac8c45d5b28f99786770ca73": {
      "model_module": "@jupyter-widgets/base",
      "model_module_version": "1.0.0",
      "model_name": "LayoutModel",
      "state": {
       "border": "solid 2px",
       "display": "flex",
       "flex_flow": "row",
       "justify_content": "space-between",
       "overflow": "visible"
      }
     },
     "cb55e29488114e64b151f33178b995fa": {
      "model_module": "@jupyter-widgets/controls",
      "model_module_version": "1.1.0",
      "model_name": "DescriptionStyleModel",
      "state": {
       "description_width": ""
      }
     },
     "cb6420d218344a7fad5c9c63b448d863": {
      "model_module": "@jupyter-widgets/controls",
      "model_module_version": "1.1.0",
      "model_name": "DropdownModel",
      "state": {
       "description": "Segmenter",
       "index": null,
       "layout": "IPY_MODEL_8c4b0d4639db484e9580ec103e447260",
       "style": "IPY_MODEL_68a3781967d64e169e9c57a527035547"
      }
     },
     "cb650343675743f1a3e3da45c0303bee": {
      "model_module": "@jupyter-widgets/controls",
      "model_module_version": "1.1.0",
      "model_name": "DescriptionStyleModel",
      "state": {
       "description_width": ""
      }
     },
     "cb6e4d4481f04c5b9d3b4b5a45ee26b4": {
      "model_module": "@jupyter-widgets/base",
      "model_module_version": "1.0.0",
      "model_name": "LayoutModel",
      "state": {}
     },
     "cb878d708050422aa709a24f1944f669": {
      "model_module": "@jupyter-widgets/controls",
      "model_module_version": "1.1.0",
      "model_name": "DescriptionStyleModel",
      "state": {
       "description_width": ""
      }
     },
     "cc2cb80a2ea84f209e6038d288ed9fc6": {
      "model_module": "@jupyter-widgets/controls",
      "model_module_version": "1.1.0",
      "model_name": "VBoxModel",
      "state": {
       "children": [
        "IPY_MODEL_ebe52f8d864f4c57be62cf5e9f4b6665",
        "IPY_MODEL_a24c0422d5664db9a5c73c08f1bb55ec",
        "IPY_MODEL_955c5ea039184a1da2edf835585e3df9"
       ],
       "layout": "IPY_MODEL_2571a69c83d64a138bed2a0fb48c64d6"
      }
     },
     "cc3952cc2c23438a9828b1f1b3bc37cf": {
      "model_module": "@jupyter-widgets/controls",
      "model_module_version": "1.1.0",
      "model_name": "SliderStyleModel",
      "state": {
       "description_width": ""
      }
     },
     "cc4492c67fcd4db5a9b9f2cd26f1d8ff": {
      "model_module": "@jupyter-widgets/controls",
      "model_module_version": "1.1.0",
      "model_name": "DescriptionStyleModel",
      "state": {
       "description_width": ""
      }
     },
     "cc6f83ac2ed14a5b934922516ea940c2": {
      "model_module": "@jupyter-widgets/controls",
      "model_module_version": "1.1.0",
      "model_name": "DescriptionStyleModel",
      "state": {
       "description_width": ""
      }
     },
     "cc95d8594bf942cc89680d3e7a6f2459": {
      "model_module": "@jupyter-widgets/controls",
      "model_module_version": "1.1.0",
      "model_name": "HBoxModel",
      "state": {
       "children": [
        "IPY_MODEL_fad750b8753747c3a5e7bdf0c27edc3d",
        "IPY_MODEL_fbe7b0b319ee4ae3b93fd14edf09ef5f",
        "IPY_MODEL_2f05c6626a2840cdb23cfe16ae537245"
       ],
       "layout": "IPY_MODEL_5d32418e6c3b4a1db50fb67e04a53f89"
      }
     },
     "ccadf56821bc4c11bbba55cf01554aac": {
      "model_module": "@jupyter-widgets/controls",
      "model_module_version": "1.1.0",
      "model_name": "DropdownModel",
      "state": {
       "description": "HW Platform",
       "index": null,
       "layout": "IPY_MODEL_de2bbff4934f471b8f06b233cbc56a33",
       "style": "IPY_MODEL_6f0d568fba194c7fbd0300baccee40db"
      }
     },
     "ccb296adbce148a8870fa7a9a94ad181": {
      "model_module": "@jupyter-widgets/controls",
      "model_module_version": "1.1.0",
      "model_name": "HBoxModel",
      "state": {
       "children": [
        "IPY_MODEL_b27573fbf5d14d4aa70ebf72eec31076",
        "IPY_MODEL_20c5c756b9554db5ab0805bee85265a0",
        "IPY_MODEL_451a11be36e24316be0998695003002d"
       ],
       "layout": "IPY_MODEL_99682f4ac75e48438ce01c953c903cc1"
      }
     },
     "ccb3df128f1c45669a63966f3fab0fe4": {
      "model_module": "@jupyter-widgets/controls",
      "model_module_version": "1.1.0",
      "model_name": "DescriptionStyleModel",
      "state": {
       "description_width": ""
      }
     },
     "ccd5c6557f464c0a99837c41ce345bd2": {
      "model_module": "@jupyter-widgets/controls",
      "model_module_version": "1.1.0",
      "model_name": "DescriptionStyleModel",
      "state": {
       "description_width": ""
      }
     },
     "ccfd603ad7ed43f4a01193f66484a2bd": {
      "model_module": "@jupyter-widgets/controls",
      "model_module_version": "1.1.0",
      "model_name": "VBoxModel",
      "state": {
       "children": [
        "IPY_MODEL_825b1c13407f4a88b4d74006f3ab154a",
        "IPY_MODEL_ef312197b0784c96a6b863b7628e618e",
        "IPY_MODEL_275ef0b4e96646a7a071dc4c813b9802"
       ],
       "layout": "IPY_MODEL_f28cd48f425d42ea8ebd1566c46d54c8"
      }
     },
     "cd155dd243f94263b2665094aa1a5af6": {
      "model_module": "@jupyter-widgets/controls",
      "model_module_version": "1.1.0",
      "model_name": "DescriptionStyleModel",
      "state": {
       "description_width": ""
      }
     },
     "cd1c132896554b2286f91a593845f97a": {
      "model_module": "@jupyter-widgets/controls",
      "model_module_version": "1.1.0",
      "model_name": "HBoxModel",
      "state": {
       "children": [
        "IPY_MODEL_5c8966392c4d44faa98935e2b6064b74",
        "IPY_MODEL_8bf4fe0a9aa842d3b0352f86b8d5a24c"
       ],
       "layout": "IPY_MODEL_26a4fa2dbc664537890bc382a7d5b23a"
      }
     },
     "cd88b214e37e4a429731043afa502aa8": {
      "model_module": "@jupyter-widgets/controls",
      "model_module_version": "1.1.0",
      "model_name": "IntSliderModel",
      "state": {
       "description": "iterations",
       "layout": "IPY_MODEL_22c7fc12da3046c4adc17aeb54bb73b4",
       "max": 15,
       "min": 1,
       "style": "IPY_MODEL_2595a7abedc04f73abd20334c8944679",
       "value": 2
      }
     },
     "cdb20395d4db49e3adeb8d584dd4c245": {
      "model_module": "@jupyter-widgets/base",
      "model_module_version": "1.0.0",
      "model_name": "LayoutModel",
      "state": {}
     },
     "cddb131ed1bf4344a0da29b8ab213dac": {
      "model_module": "@jupyter-widgets/base",
      "model_module_version": "1.0.0",
      "model_name": "LayoutModel",
      "state": {}
     },
     "cdf4bba6bf9749fd92178d845bfa0a7e": {
      "model_module": "@jupyter-widgets/controls",
      "model_module_version": "1.1.0",
      "model_name": "DropdownModel",
      "state": {
       "description": "HW Platform",
       "index": null,
       "layout": "IPY_MODEL_838bf42adbb44339b2dfaab38d0eb7b0",
       "style": "IPY_MODEL_7872283f2f7e47ffa65d93e925190481"
      }
     },
     "ce23ef641c4947fdbd5335ffbf3da761": {
      "model_module": "bqplot",
      "model_module_version": "^0.3.2",
      "model_name": "LinearScaleModel",
      "state": {
       "allow_padding": false,
       "max": 1,
       "min": 0,
       "stabilized": false
      }
     },
     "ce2ac5ba4002412ab869242d91c86df6": {
      "model_module": "@jupyter-widgets/controls",
      "model_module_version": "1.1.0",
      "model_name": "DescriptionStyleModel",
      "state": {
       "description_width": ""
      }
     },
     "ce5101f34c584f3f9798fe04892edaa5": {
      "model_module": "@jupyter-widgets/base",
      "model_module_version": "1.0.0",
      "model_name": "LayoutModel",
      "state": {}
     },
     "ce7f5adf95c1483ca6cb50b1e1e0c6a9": {
      "model_module": "bqplot",
      "model_module_version": "^0.3.2",
      "model_name": "LinearScaleModel",
      "state": {
       "allow_padding": false,
       "max": 1,
       "min": 0,
       "stabilized": false
      }
     },
     "cedd563c3ea64704ad6c550b79a1eae0": {
      "model_module": "@jupyter-widgets/controls",
      "model_module_version": "1.1.0",
      "model_name": "DescriptionStyleModel",
      "state": {
       "description_width": ""
      }
     },
     "cef1a3da31a7495d93095bcbc17f54c3": {
      "model_module": "@jupyter-widgets/controls",
      "model_module_version": "1.1.0",
      "model_name": "ButtonStyleModel",
      "state": {}
     },
     "cf3c9d62305c4f21bcb4e7a54b3f405d": {
      "model_module": "@jupyter-widgets/controls",
      "model_module_version": "1.1.0",
      "model_name": "DropdownModel",
      "state": {
       "_options_labels": [
        "Default",
        "Windowing(100)",
        "Windowing(200)",
        "Windowing(250)"
       ],
       "description": "Segmenter",
       "index": 0,
       "layout": "IPY_MODEL_7debc3948c6b4c52ac7a8ca09dcb010b",
       "style": "IPY_MODEL_72ca506f52634efca23fe08bcbf09014"
      }
     },
     "cf3f75771bcd42998de90a103e66e94d": {
      "model_module": "@jupyter-widgets/controls",
      "model_module_version": "1.1.0",
      "model_name": "IntSliderModel",
      "state": {
       "description": "population size",
       "layout": "IPY_MODEL_4e26df417b7b46cc8c68bd63ae525ea5",
       "max": 50,
       "min": 10,
       "style": "IPY_MODEL_7caa06ac487646b78bb9f70db3f262dc",
       "value": 10
      }
     },
     "cf64d32352d44b90800d56c1dc053744": {
      "model_module": "@jupyter-widgets/base",
      "model_module_version": "1.0.0",
      "model_name": "LayoutModel",
      "state": {}
     },
     "cf760011fd7b427ea11ad2bc5acc1d20": {
      "model_module": "@jupyter-widgets/controls",
      "model_module_version": "1.1.0",
      "model_name": "SliderStyleModel",
      "state": {
       "description_width": ""
      }
     },
     "cf99b2370db44c8c9be1f1967331e292": {
      "model_module": "@jupyter-widgets/controls",
      "model_module_version": "1.1.0",
      "model_name": "SliderStyleModel",
      "state": {
       "description_width": ""
      }
     },
     "cf9bc3dbde6e41aeac9837d6c674a997": {
      "model_module": "@jupyter-widgets/controls",
      "model_module_version": "1.1.0",
      "model_name": "SelectMultipleModel",
      "state": {
       "description": "Metadtata",
       "index": [],
       "layout": "IPY_MODEL_01da83d8128a49f9ad8022553b1241a2",
       "rows": 5,
       "style": "IPY_MODEL_f9404b5e2c2941d785af61f73e4859d0"
      }
     },
     "d002394be304424a83262669d506c9f6": {
      "model_module": "@jupyter-widgets/controls",
      "model_module_version": "1.1.0",
      "model_name": "DropdownModel",
      "state": {
       "_options_labels": [
        "100",
        "50",
        "25"
       ],
       "description": "IMU Rate",
       "index": 0,
       "layout": "IPY_MODEL_aba6c925b963427dbcb10e8b5633652f",
       "style": "IPY_MODEL_92ba8c060a744721b7e945c01f4c85f7"
      }
     },
     "d0591f674f1b410ea4b7a85aa34f48b9": {
      "model_module": "@jupyter-widgets/controls",
      "model_module_version": "1.1.0",
      "model_name": "HBoxModel",
      "state": {
       "children": [
        "IPY_MODEL_c50651240d774058ba0ddac0abac53e7",
        "IPY_MODEL_f5117b7f36f24ad294fb9b28b2ac2e4e",
        "IPY_MODEL_e12db4417aa440e49cc580c7fd6421f8"
       ],
       "layout": "IPY_MODEL_6770f204eadd4e4284441b51bc0e6094"
      }
     },
     "d074e32962b547f5a89949d23c22f5c9": {
      "model_module": "@jupyter-widgets/base",
      "model_module_version": "1.0.0",
      "model_name": "LayoutModel",
      "state": {}
     },
     "d096462f18cf49da8afe39da212f41c2": {
      "model_module": "@jupyter-widgets/controls",
      "model_module_version": "1.1.0",
      "model_name": "SelectMultipleModel",
      "state": {
       "description": "Metadtata",
       "index": [],
       "layout": "IPY_MODEL_617515de07f6474f933f1f9292396630",
       "rows": 5,
       "style": "IPY_MODEL_437d47bb2f6d453ba47e598cc8e2f5fe"
      }
     },
     "d0d1038179cc4849b5879e93b278c926": {
      "model_module": "@jupyter-widgets/base",
      "model_module_version": "1.0.0",
      "model_name": "LayoutModel",
      "state": {
       "min_width": "125px"
      }
     },
     "d0db2a7cd6b74a9e8f366b6b8a89d778": {
      "model_module": "@jupyter-widgets/controls",
      "model_module_version": "1.1.0",
      "model_name": "DescriptionStyleModel",
      "state": {
       "description_width": ""
      }
     },
     "d0e4b8f43f574dce85cf539fc3ab441a": {
      "model_module": "@jupyter-widgets/output",
      "model_module_version": "1.1.0",
      "model_name": "OutputModel",
      "state": {
       "_model_module_version": "1.1.0",
       "_view_module_version": "1.1.0",
       "layout": "IPY_MODEL_cdb20395d4db49e3adeb8d584dd4c245"
      }
     },
     "d0e4c50d33be453297dfd0d3d1ca2ddc": {
      "model_module": "@jupyter-widgets/base",
      "model_module_version": "1.0.0",
      "model_name": "LayoutModel",
      "state": {}
     },
     "d0f1f9f46f53400da40b633817d21b86": {
      "model_module": "@jupyter-widgets/base",
      "model_module_version": "1.0.0",
      "model_name": "LayoutModel",
      "state": {}
     },
     "d0fd2bc9fa2f42c99a7fb488f5f79a7f": {
      "model_module": "@jupyter-widgets/controls",
      "model_module_version": "1.1.0",
      "model_name": "DescriptionStyleModel",
      "state": {
       "description_width": ""
      }
     },
     "d123618545a04fe986f7af7e7eeec1c1": {
      "model_module": "@jupyter-widgets/controls",
      "model_module_version": "1.1.0",
      "model_name": "DescriptionStyleModel",
      "state": {
       "description_width": ""
      }
     },
     "d1360ec9a54c4e5ba0a2804657170c45": {
      "model_module": "@jupyter-widgets/base",
      "model_module_version": "1.0.0",
      "model_name": "LayoutModel",
      "state": {}
     },
     "d1521ffa18d943acb428a1bddd6268f8": {
      "model_module": "@jupyter-widgets/base",
      "model_module_version": "1.0.0",
      "model_name": "LayoutModel",
      "state": {
       "border": "outset"
      }
     },
     "d1565b241bd04941a8fe4738912cff44": {
      "model_module": "@jupyter-widgets/controls",
      "model_module_version": "1.1.0",
      "model_name": "DropdownModel",
      "state": {
       "_options_labels": [
        "None"
       ],
       "description": "Test Data",
       "index": 0,
       "layout": "IPY_MODEL_b829824dc2f74880a681ba7d91f00c2e",
       "style": "IPY_MODEL_93ba168d4cf843f7aab28d5d2ed4b8cb"
      }
     },
     "d1730d287b18479fbc9a2a50472a951a": {
      "model_module": "@jupyter-widgets/controls",
      "model_module_version": "1.1.0",
      "model_name": "HBoxModel",
      "state": {
       "children": [
        "IPY_MODEL_72cd6c80eaa04111ba0bc99ca7d20462",
        "IPY_MODEL_ca0b92a2f6a74591a2c8d64d27a70518",
        "IPY_MODEL_793b20e392a54f749a3c7280cbaa4628"
       ],
       "layout": "IPY_MODEL_2da8734e6b0a4317b6a3629dd47d94a7"
      }
     },
     "d175e38963764a318416a54cc6ba57ce": {
      "model_module": "@jupyter-widgets/base",
      "model_module_version": "1.0.0",
      "model_name": "LayoutModel",
      "state": {}
     },
     "d18adf85231b4f9b9da32e8ce78d053f": {
      "model_module": "@jupyter-widgets/base",
      "model_module_version": "1.0.0",
      "model_name": "LayoutModel",
      "state": {
       "align_items": "flex-start",
       "border": "solid 2px",
       "display": "flex",
       "flex_flow": "column",
       "justify_content": "center",
       "overflow": "visible",
       "width": "25%"
      }
     },
     "d1c7a71af3d14b77a228b684e82d383b": {
      "model_module": "@jupyter-widgets/controls",
      "model_module_version": "1.1.0",
      "model_name": "DescriptionStyleModel",
      "state": {
       "description_width": ""
      }
     },
     "d1cc55d9bdf3465995bfbaa852846b41": {
      "model_module": "@jupyter-widgets/controls",
      "model_module_version": "1.1.0",
      "model_name": "ButtonStyleModel",
      "state": {}
     },
     "d1d49606e4d44e70bb00a61e4fbcfde5": {
      "model_module": "@jupyter-widgets/base",
      "model_module_version": "1.0.0",
      "model_name": "LayoutModel",
      "state": {}
     },
     "d2114e67b4ae47efb850db6c9883cffa": {
      "model_module": "@jupyter-widgets/base",
      "model_module_version": "1.0.0",
      "model_name": "LayoutModel",
      "state": {}
     },
     "d24366a9f13c4a9c8025c68cdf3431cb": {
      "model_module": "@jupyter-widgets/controls",
      "model_module_version": "1.1.0",
      "model_name": "DropdownModel",
      "state": {
       "_options_labels": [
        "True",
        "False"
       ],
       "description": "Debug",
       "index": 0,
       "layout": "IPY_MODEL_521b17f47dc84b1182059b117a978222",
       "style": "IPY_MODEL_adafbcd875ab4e2cb72c5dd8152242a2"
      }
     },
     "d26e6541c5b641f6a7bde70ea9fcbee5": {
      "model_module": "@jupyter-widgets/base",
      "model_module_version": "1.0.0",
      "model_name": "LayoutModel",
      "state": {}
     },
     "d27ccd0eebf2428fa71cccc9606480fe": {
      "model_module": "@jupyter-widgets/controls",
      "model_module_version": "1.1.0",
      "model_name": "AccordionModel",
      "state": {
       "_titles": {
        "0": "Download Knowledgepack"
       },
       "children": [
        "IPY_MODEL_6624500cb4874f2b9e60482a48f74956"
       ],
       "layout": "IPY_MODEL_6e09d2c75fd24c408824ead1808eded7"
      }
     },
     "d2edf644f78e4383910fbee60a7907b6": {
      "model_module": "@jupyter-widgets/controls",
      "model_module_version": "1.1.0",
      "model_name": "DescriptionStyleModel",
      "state": {
       "description_width": ""
      }
     },
     "d2efdc90f8194b86a8b0db7090a1ea0c": {
      "model_module": "@jupyter-widgets/output",
      "model_module_version": "1.1.0",
      "model_name": "OutputModel",
      "state": {
       "_model_module_version": "1.1.0",
       "_view_module_version": "1.1.0",
       "layout": "IPY_MODEL_9e631e0dde994e82a5512779fe2ba402"
      }
     },
     "d333063aa9b54843abcbe067355961b7": {
      "model_module": "@jupyter-widgets/controls",
      "model_module_version": "1.1.0",
      "model_name": "DescriptionStyleModel",
      "state": {
       "description_width": ""
      }
     },
     "d36aaa2c27c44fa4a6d4373c4844b95c": {
      "model_module": "@jupyter-widgets/base",
      "model_module_version": "1.0.0",
      "model_name": "LayoutModel",
      "state": {}
     },
     "d381140d8c6a43dbaeca0277faf4d769": {
      "model_module": "@jupyter-widgets/controls",
      "model_module_version": "1.1.0",
      "model_name": "VBoxModel",
      "state": {
       "children": [
        "IPY_MODEL_f1cc73515ea34231b8fe5720a0456d7b",
        "IPY_MODEL_e25f2846d29541e5892f3fd2f4aafab2",
        "IPY_MODEL_9a9961b3fcb34142b232e4bc083eed75",
        "IPY_MODEL_0a4e81e4e5de46aea8bb2b6a4d29000a"
       ],
       "layout": "IPY_MODEL_273b8c0df87449ad82b97097f4910257"
      }
     },
     "d39c84618e454e6090e280174b90c10a": {
      "model_module": "@jupyter-widgets/base",
      "model_module_version": "1.0.0",
      "model_name": "LayoutModel",
      "state": {
       "width": "300px"
      }
     },
     "d3b3c96f806b4e27a5ba11d14848186a": {
      "model_module": "@jupyter-widgets/base",
      "model_module_version": "1.0.0",
      "model_name": "LayoutModel",
      "state": {}
     },
     "d3d4127d122c45b397ce7c9a03e73cfd": {
      "model_module": "@jupyter-widgets/controls",
      "model_module_version": "1.1.0",
      "model_name": "TextModel",
      "state": {
       "description": "Query Name",
       "layout": "IPY_MODEL_7508984f3cd641a7a4aafda0485cfa9d",
       "style": "IPY_MODEL_b4565a9f8e84409992f5d1bef1dd7899"
      }
     },
     "d3f581bce7c8427f8fc62f650c6a1ff3": {
      "model_module": "@jupyter-widgets/base",
      "model_module_version": "1.0.0",
      "model_name": "LayoutModel",
      "state": {}
     },
     "d3f9096c938449a3bc19e7c33be53d62": {
      "model_module": "@jupyter-widgets/base",
      "model_module_version": "1.0.0",
      "model_name": "LayoutModel",
      "state": {
       "border": "solid 2px",
       "display": "flex",
       "flex_flow": "row",
       "justify_content": "center",
       "overflow": "visible"
      }
     },
     "d41af7a74eb040fb81c0d213ada839dc": {
      "model_module": "@jupyter-widgets/base",
      "model_module_version": "1.0.0",
      "model_name": "LayoutModel",
      "state": {}
     },
     "d42f9584d13348039addad97c32e866f": {
      "model_module": "qgrid",
      "model_module_version": "1.0.0",
      "model_name": "QgridModel",
      "state": {
       "_columns": {
        "f1_score": {
         "name": "f1_score",
         "position": 4,
         "type": "string"
        },
        "features": {
         "name": "features",
         "position": 3,
         "type": "string"
        },
        "index": {
         "is_index": true,
         "name": "index",
         "position": 0,
         "type": "integer"
        },
        "neurons": {
         "name": "neurons",
         "position": 2,
         "type": "string"
        },
        "qgrid_unfiltered_index": {
         "name": "qgrid_unfiltered_index",
         "position": 1,
         "type": "number"
        }
       },
       "_df_json": "{\"schema\": {\"fields\":[{\"type\":\"integer\",\"name\":\"index\"},{\"type\":\"number\",\"name\":\"qgrid_unfiltered_index\"},{\"type\":\"string\",\"name\":\"neurons\"},{\"type\":\"string\",\"name\":\"features\"},{\"type\":\"string\",\"name\":\"f1_score\"}],\"pandas_version\":\"0.20.0\",\"primaryKey\":[\"index\"]}, \"data\": []}",
       "_df_range": [
        0,
        100
       ],
       "_index_col_name": "qgrid_unfiltered_index",
       "_interval_columns": [],
       "_model_module_version": "1.0.0",
       "_page_size": 100,
       "_row_count": 0,
       "_sort_ascending": true,
       "_sort_field": "",
       "_view_module_version": "1.0.0",
       "grid_options": {
        "autoEdit": false,
        "defaultColumnWidth": 15,
        "editable": false,
        "enableColumnReorder": false,
        "enableTextSelectionOnCells": true,
        "explicitInitialization": true,
        "forceFitColumns": true,
        "fullWidthRows": true,
        "maxVisibleRows": 5,
        "minVisibleRows": 5,
        "rowHeight": 35,
        "syncColumnCellResize": true
       },
       "layout": "IPY_MODEL_c92f40ddd3414dd68216dd64bc96e659",
       "precision": 5,
       "show_toolbar": false
      }
     },
     "d43fba36ea1c49a3936d098d5bdc1860": {
      "model_module": "@jupyter-widgets/controls",
      "model_module_version": "1.1.0",
      "model_name": "ButtonModel",
      "state": {
       "description": "Refresh",
       "icon": "0",
       "layout": "IPY_MODEL_3dd620cd7ba544b298759eb042174cd0",
       "style": "IPY_MODEL_8cf9717a21994927ac1a978b71bccc3d"
      }
     },
     "d46d997807d54dfcb8867e3498619414": {
      "model_module": "@jupyter-widgets/controls",
      "model_module_version": "1.1.0",
      "model_name": "ButtonStyleModel",
      "state": {}
     },
     "d4a37314b6d34f9ab57bbbc39dcc0f3f": {
      "model_module": "@jupyter-widgets/base",
      "model_module_version": "1.0.0",
      "model_name": "LayoutModel",
      "state": {}
     },
     "d4dcaef1926846e5be490284f827226a": {
      "model_module": "@jupyter-widgets/controls",
      "model_module_version": "1.1.0",
      "model_name": "ButtonStyleModel",
      "state": {}
     },
     "d4ddeae81eeb402f98a578cca39a838c": {
      "model_module": "@jupyter-widgets/base",
      "model_module_version": "1.0.0",
      "model_name": "LayoutModel",
      "state": {}
     },
     "d4e85886df3a461187cc109065be4ba8": {
      "model_module": "@jupyter-widgets/controls",
      "model_module_version": "1.1.0",
      "model_name": "DropdownModel",
      "state": {
       "description": "Select Pipeline",
       "index": null,
       "layout": "IPY_MODEL_4cd4d45497cd4c9fac3d4731b85a6493",
       "style": "IPY_MODEL_200c2146819748fe8183247e843ae7db"
      }
     },
     "d4ee7f9f9f3b42e7a48d579054547601": {
      "model_module": "@jupyter-widgets/base",
      "model_module_version": "1.0.0",
      "model_name": "LayoutModel",
      "state": {}
     },
     "d5070e80d81544f0b1750d13b8a43d48": {
      "model_module": "@jupyter-widgets/controls",
      "model_module_version": "1.1.0",
      "model_name": "SliderStyleModel",
      "state": {
       "description_width": ""
      }
     },
     "d5380d38825a49d28dd53d026be77ad0": {
      "model_module": "@jupyter-widgets/controls",
      "model_module_version": "1.1.0",
      "model_name": "TextModel",
      "state": {
       "description": "Query Name",
       "layout": "IPY_MODEL_5794dbd70cfb46e5af432ba3a4068abf",
       "style": "IPY_MODEL_c9c96ea6adce4788afe88091a5cc5fe6"
      }
     },
     "d55442fd4d554c5db5639ab06f274fa2": {
      "model_module": "bqplot",
      "model_module_version": "^0.3.2",
      "model_name": "LinearScaleModel",
      "state": {
       "allow_padding": false,
       "max": 1,
       "min": 0,
       "stabilized": false
      }
     },
     "d560479cc77b421094240f64f80041a2": {
      "model_module": "@jupyter-widgets/controls",
      "model_module_version": "1.1.0",
      "model_name": "DropdownModel",
      "state": {
       "description": "Model Name",
       "index": null,
       "layout": "IPY_MODEL_fc48a632444b492aab7ad776d981e4b3",
       "style": "IPY_MODEL_78f418e144ed49d08f04cb013f661ea6"
      }
     },
     "d588227c91df49eea957eee806f2ab22": {
      "model_module": "@jupyter-widgets/controls",
      "model_module_version": "1.1.0",
      "model_name": "SliderStyleModel",
      "state": {
       "description_width": ""
      }
     },
     "d5c8410ad48a4c929a6ccc76f6d2dbb7": {
      "model_module": "@jupyter-widgets/base",
      "model_module_version": "1.0.0",
      "model_name": "LayoutModel",
      "state": {}
     },
     "d610c8f1e7054e8ca17fb37ece21ce2d": {
      "model_module": "@jupyter-widgets/base",
      "model_module_version": "1.0.0",
      "model_name": "LayoutModel",
      "state": {}
     },
     "d6256c2f93dd47dbbef347b35a293e74": {
      "model_module": "@jupyter-widgets/controls",
      "model_module_version": "1.1.0",
      "model_name": "DropdownModel",
      "state": {
       "description": "Select Query",
       "index": null,
       "layout": "IPY_MODEL_5c9b5effe27e4d7985bf8670ab0ff21a",
       "style": "IPY_MODEL_80ca52aeead2442e99ed3c4a94861627"
      }
     },
     "d636a7f77c49486da1dcb04a022344ed": {
      "model_module": "@jupyter-widgets/controls",
      "model_module_version": "1.1.0",
      "model_name": "DescriptionStyleModel",
      "state": {
       "description_width": ""
      }
     },
     "d65955a185344d0c9160ac190a1011f8": {
      "model_module": "@jupyter-widgets/controls",
      "model_module_version": "1.1.0",
      "model_name": "DropdownModel",
      "state": {
       "description": "Name",
       "index": null,
       "layout": "IPY_MODEL_7c8749a752ad4e60a69a1a520f4d7d08",
       "style": "IPY_MODEL_7df5ab1269b94c77b57485e803596de9"
      }
     },
     "d69a0a2b3d684f5c8a4ea245d209a4c6": {
      "model_module": "@jupyter-widgets/output",
      "model_module_version": "1.1.0",
      "model_name": "OutputModel",
      "state": {
       "_model_module_version": "1.1.0",
       "_view_module_version": "1.1.0",
       "layout": "IPY_MODEL_40f6800491bc44b9ba4a03d51b1b57ab"
      }
     },
     "d6cf85aabaf74ab9a0d95f5c2e346dea": {
      "model_module": "@jupyter-widgets/controls",
      "model_module_version": "1.1.0",
      "model_name": "ButtonStyleModel",
      "state": {}
     },
     "d753a378376747a498a4bb158a37719a": {
      "model_module": "@jupyter-widgets/controls",
      "model_module_version": "1.1.0",
      "model_name": "SelectMultipleModel",
      "state": {
       "description": "Metadtata",
       "index": [],
       "layout": "IPY_MODEL_3e41ace7f69b413baf678c8b1255b672",
       "rows": 5,
       "style": "IPY_MODEL_d0fd2bc9fa2f42c99a7fb488f5f79a7f"
      }
     },
     "d7566e59762248d889adb65571d56034": {
      "model_module": "@jupyter-widgets/controls",
      "model_module_version": "1.1.0",
      "model_name": "HBoxModel",
      "state": {
       "children": [
        "IPY_MODEL_0cce263599c64dcca1ab622cf89efff9",
        "IPY_MODEL_be87cc880423485aaff9a22974f47e88"
       ],
       "layout": "IPY_MODEL_be01ed80a5904627ae16a5abea66ffda"
      }
     },
     "d79fa39e0e5f4ae1890f1c01c5d2f59c": {
      "model_module": "@jupyter-widgets/base",
      "model_module_version": "1.0.0",
      "model_name": "LayoutModel",
      "state": {}
     },
     "d7a65b6550fe4efbb2c89a69b9aad961": {
      "model_module": "@jupyter-widgets/controls",
      "model_module_version": "1.1.0",
      "model_name": "ButtonStyleModel",
      "state": {}
     },
     "d7b9005feebf41019558ea5e90597d40": {
      "model_module": "@jupyter-widgets/controls",
      "model_module_version": "1.1.0",
      "model_name": "TextareaModel",
      "state": {
       "description": "Seed Description",
       "layout": "IPY_MODEL_0e7af1425ea947a8b9282b3114611744",
       "style": "IPY_MODEL_8d58dfd225dd49819450faaa5312e53c"
      }
     },
     "d7bdd3d072cc41f297434fe8095ae1ca": {
      "model_module": "@jupyter-widgets/base",
      "model_module_version": "1.0.0",
      "model_name": "LayoutModel",
      "state": {}
     },
     "d7d5bd7cbb69494a93a153f8446f7b75": {
      "model_module": "@jupyter-widgets/controls",
      "model_module_version": "1.1.0",
      "model_name": "DropdownModel",
      "state": {
       "_options_labels": [
        "",
        "Heiarchical Pipeline",
        "DemoPipeline",
        "Test Pipeline",
        "Hiearchical Whatever",
        "Gesture Pipeline",
        "New Pipeline"
       ],
       "description": "Select Pipeline",
       "index": 6,
       "layout": "IPY_MODEL_6d1d2b8397864a7badd4293ea275e939",
       "style": "IPY_MODEL_b45e632039d74af8ab0869e8717dd24d"
      }
     },
     "d7d965acf33740e1ae7d2f756baf8ab5": {
      "model_module": "@jupyter-widgets/controls",
      "model_module_version": "1.1.0",
      "model_name": "ButtonModel",
      "state": {
       "description": "Refresh",
       "icon": "0",
       "layout": "IPY_MODEL_5845bff9e90a48379b589da54dc9b18a",
       "style": "IPY_MODEL_be9c8028652b4ac1814b4999b022c24f"
      }
     },
     "d81958189a5a4ee4a5a9a5dcc4a20973": {
      "model_module": "@jupyter-widgets/controls",
      "model_module_version": "1.1.0",
      "model_name": "ButtonStyleModel",
      "state": {}
     },
     "d81d918b8f084a699466719ad9299c79": {
      "model_module": "@jupyter-widgets/controls",
      "model_module_version": "1.1.0",
      "model_name": "DescriptionStyleModel",
      "state": {
       "description_width": ""
      }
     },
     "d82118045b024b3b8420af4b7e739bde": {
      "model_module": "@jupyter-widgets/controls",
      "model_module_version": "1.1.0",
      "model_name": "DescriptionStyleModel",
      "state": {
       "description_width": ""
      }
     },
     "d847e12816a54dfd8845a4f716ffe617": {
      "model_module": "@jupyter-widgets/base",
      "model_module_version": "1.0.0",
      "model_name": "LayoutModel",
      "state": {}
     },
     "d8600c9980a34ce49d7f8be7ea8d2ee3": {
      "model_module": "@jupyter-widgets/controls",
      "model_module_version": "1.1.0",
      "model_name": "ButtonModel",
      "state": {
       "description": "Create",
       "layout": "IPY_MODEL_b733540fabf7451cb346edfddbb0f5ba",
       "style": "IPY_MODEL_ac40517df201408c87ced2e5c4dbdc8a"
      }
     },
     "d8a8d554ef7c425a9438913d62a6f48a": {
      "model_module": "@jupyter-widgets/controls",
      "model_module_version": "1.1.0",
      "model_name": "FloatSliderModel",
      "state": {
       "description": "Neurons",
       "layout": "IPY_MODEL_a93dcdb0e8854643bb12e505e5a81f73",
       "max": 1,
       "step": 0.05,
       "style": "IPY_MODEL_288922f10bc54259ad0f59b3dc95c97e",
       "value": 0.5
      }
     },
     "d8bc5202d0f748d19b4293a917fa24fd": {
      "model_module": "@jupyter-widgets/base",
      "model_module_version": "1.0.0",
      "model_name": "LayoutModel",
      "state": {}
     },
     "d8d08f6a7ab7401f9f99ebb7d12b603b": {
      "model_module": "@jupyter-widgets/base",
      "model_module_version": "1.0.0",
      "model_name": "LayoutModel",
      "state": {
       "visibility": "visible"
      }
     },
     "d8f6c95c9c3244ee9e630d1e8e1d385b": {
      "model_module": "@jupyter-widgets/output",
      "model_module_version": "1.1.0",
      "model_name": "OutputModel",
      "state": {
       "_model_module_version": "1.1.0",
       "_view_module_version": "1.1.0",
       "layout": "IPY_MODEL_af9448b1f92c492eaf66a59b0c7590a2"
      }
     },
     "d8fbcd8cffb841949a624fd1bd1f0b21": {
      "model_module": "@jupyter-widgets/controls",
      "model_module_version": "1.1.0",
      "model_name": "DescriptionStyleModel",
      "state": {
       "description_width": ""
      }
     },
     "d941204121f0464592265a29348812d7": {
      "model_module": "@jupyter-widgets/controls",
      "model_module_version": "1.1.0",
      "model_name": "DescriptionStyleModel",
      "state": {
       "description_width": ""
      }
     },
     "d94538b29c4044578fdb82ff6ea05431": {
      "model_module": "@jupyter-widgets/base",
      "model_module_version": "1.0.0",
      "model_name": "LayoutModel",
      "state": {}
     },
     "d96aaa4a585a4cb18f3928d07bc1dc87": {
      "model_module": "@jupyter-widgets/controls",
      "model_module_version": "1.1.0",
      "model_name": "DropdownModel",
      "state": {
       "description": "Segmenter",
       "index": null,
       "layout": "IPY_MODEL_53ea9b0294b64437be867685711eb5d0",
       "style": "IPY_MODEL_13a45486ff1d4579b8f46748a45fc5e3"
      }
     },
     "d99a8474dfd84d05ba41d5980837245a": {
      "model_module": "@jupyter-widgets/controls",
      "model_module_version": "1.1.0",
      "model_name": "DescriptionStyleModel",
      "state": {
       "description_width": ""
      }
     },
     "d99f72cf840544cc95f00cb4ae958aa7": {
      "model_module": "@jupyter-widgets/output",
      "model_module_version": "1.1.0",
      "model_name": "OutputModel",
      "state": {
       "_model_module_version": "1.1.0",
       "_view_module_version": "1.1.0",
       "layout": "IPY_MODEL_bcbd446857fe4cd4ba8d888ccfda9af1"
      }
     },
     "d9f07dc2dde543adae28e6a5ad0547c2": {
      "model_module": "@jupyter-widgets/base",
      "model_module_version": "1.0.0",
      "model_name": "LayoutModel",
      "state": {}
     },
     "da006fc4094a49b58900b2a504cba034": {
      "model_module": "@jupyter-widgets/controls",
      "model_module_version": "1.1.0",
      "model_name": "ButtonModel",
      "state": {
       "description": "Generate Knowledgepack",
       "icon": "0",
       "layout": "IPY_MODEL_3d829e68a59d4cc894ba9d2bd2bf5e27",
       "style": "IPY_MODEL_89fc38a18160430c957177cc9bb87cf3"
      }
     },
     "da1411cb85974117a34fc477a264f6b2": {
      "model_module": "@jupyter-widgets/base",
      "model_module_version": "1.0.0",
      "model_name": "LayoutModel",
      "state": {
       "width": "300px"
      }
     },
     "da2533d1cab04cc2b2244d68bf8e3f19": {
      "model_module": "@jupyter-widgets/controls",
      "model_module_version": "1.1.0",
      "model_name": "DropdownModel",
      "state": {
       "_options_labels": [
        "True",
        "False"
       ],
       "description": "Debug",
       "index": 0,
       "layout": "IPY_MODEL_27dd864215ad4a839e1e85df9db4aba8",
       "style": "IPY_MODEL_5f5b940b8fe04598930feceac78af5b2"
      }
     },
     "da793c0c4b7d4c2a9c5c710a20ba81ae": {
      "model_module": "@jupyter-widgets/base",
      "model_module_version": "1.0.0",
      "model_name": "LayoutModel",
      "state": {}
     },
     "da9bab685fee47fda9ac2c9076cb0278": {
      "model_module": "@jupyter-widgets/controls",
      "model_module_version": "1.1.0",
      "model_name": "SliderStyleModel",
      "state": {
       "description_width": ""
      }
     },
     "daa224f3279e4014b1bab0887218a30f": {
      "model_module": "bqplot",
      "model_module_version": "^0.3.2",
      "model_name": "FigureModel",
      "state": {
       "_dom_classes": [],
       "axes": [
        "IPY_MODEL_c0b57bc03ccb42d793efd4f8a6e034e4",
        "IPY_MODEL_4627e46fe12f43febc6c60e5acade764"
       ],
       "background_style": {
        "fill": "white"
       },
       "fig_margin": {
        "bottom": 60,
        "left": 80,
        "right": 0,
        "top": 20
       },
       "layout": "IPY_MODEL_0165ac947287467abc17bbebfb225adb",
       "legend_location": "bottom-right",
       "marks": [
        "IPY_MODEL_308fb7a02ed74f84b2440080c8481d8d"
       ],
       "max_aspect_ratio": 6,
       "scale_x": "IPY_MODEL_3180a89714f64c5f99d5987a5fd198d5",
       "scale_y": "IPY_MODEL_8e0f2f56cb1643d884a2200aa974d655"
      }
     },
     "dafbc31db4ce443e8c33eb9fe38f9d7e": {
      "model_module": "@jupyter-widgets/controls",
      "model_module_version": "1.1.0",
      "model_name": "VBoxModel",
      "state": {
       "children": [
        "IPY_MODEL_b6996aeddac94733b3f721601b91cb40",
        "IPY_MODEL_a815529ce2bc43c1b6dbd77d769755de"
       ],
       "layout": "IPY_MODEL_261e684ae91b496da7c927e056509414"
      }
     },
     "db2dbe3a79f94cfabb35ee330d963beb": {
      "model_module": "@jupyter-widgets/base",
      "model_module_version": "1.0.0",
      "model_name": "LayoutModel",
      "state": {}
     },
     "db33832738f64551ba997a4bb4e3144b": {
      "model_module": "@jupyter-widgets/controls",
      "model_module_version": "1.1.0",
      "model_name": "DropdownModel",
      "state": {
       "description": "Target OS",
       "index": null,
       "layout": "IPY_MODEL_719f6bf1ba5e48c6abdb5cf32a39226e",
       "style": "IPY_MODEL_a10d64d9f0d44d2fb1268000ef952afc"
      }
     },
     "db42853d36ef4d9b9e28eabbef2cdbdf": {
      "model_module": "@jupyter-widgets/controls",
      "model_module_version": "1.1.0",
      "model_name": "ButtonStyleModel",
      "state": {}
     },
     "db70350afaa24affa0caddd77a5cf15a": {
      "model_module": "@jupyter-widgets/base",
      "model_module_version": "1.0.0",
      "model_name": "LayoutModel",
      "state": {}
     },
     "db877dfc16d04d569d3d1ce542e4fd05": {
      "model_module": "@jupyter-widgets/controls",
      "model_module_version": "1.1.0",
      "model_name": "AccordionModel",
      "state": {
       "_titles": {
        "0": "Download Knowledgepack"
       },
       "children": [
        "IPY_MODEL_116a90e84dab4974848f349b7d0736bd"
       ],
       "layout": "IPY_MODEL_69762358fe8b48178589ce6874cb538c"
      }
     },
     "dbd9f4d15431409596ef10e63c402a93": {
      "model_module": "@jupyter-widgets/controls",
      "model_module_version": "1.1.0",
      "model_name": "VBoxModel",
      "state": {
       "children": [
        "IPY_MODEL_d7d5bd7cbb69494a93a153f8446f7b75",
        "IPY_MODEL_fcfb735491ab49579ff6a2d41ea546cb"
       ],
       "layout": "IPY_MODEL_98050d0d244347bebcb63e405de5c43d"
      }
     },
     "dbeb3124fddd493aa2868112e0fbe7ee": {
      "model_module": "@jupyter-widgets/base",
      "model_module_version": "1.0.0",
      "model_name": "LayoutModel",
      "state": {}
     },
     "dc02a0a28a8442f192c9c6f7b5c10f50": {
      "model_module": "@jupyter-widgets/controls",
      "model_module_version": "1.1.0",
      "model_name": "DescriptionStyleModel",
      "state": {
       "description_width": ""
      }
     },
     "dc3d29068a684dc583e441b9d70d0e65": {
      "model_module": "bqplot",
      "model_module_version": "^0.3.2",
      "model_name": "OrdinalScaleModel",
      "state": {
       "domain": []
      }
     },
     "dc7542e2d9104943b0e156259f0be522": {
      "model_module": "@jupyter-widgets/controls",
      "model_module_version": "1.1.0",
      "model_name": "DescriptionStyleModel",
      "state": {
       "description_width": ""
      }
     },
     "dc82cdf4d1a847f2b0d6344ec1fa3de0": {
      "model_module": "@jupyter-widgets/base",
      "model_module_version": "1.0.0",
      "model_name": "LayoutModel",
      "state": {}
     },
     "dc8ef5fd8a2e49d4816a7d3cccce40ad": {
      "model_module": "@jupyter-widgets/base",
      "model_module_version": "1.0.0",
      "model_name": "LayoutModel",
      "state": {}
     },
     "dc9a4603ddfb44f7bc769b7d40526117": {
      "model_module": "@jupyter-widgets/controls",
      "model_module_version": "1.1.0",
      "model_name": "ButtonModel",
      "state": {
       "description": "Run Autopipeline",
       "layout": "IPY_MODEL_03fce190839f489c89967b22743e2502",
       "style": "IPY_MODEL_55d7328ca62c4a48b2602b25774e311f"
      }
     },
     "dccc5eed80274a6ea575cbad7e905dc0": {
      "model_module": "@jupyter-widgets/base",
      "model_module_version": "1.0.0",
      "model_name": "LayoutModel",
      "state": {
       "justify_content": "flex-start",
       "overflow": "visible"
      }
     },
     "dcd311b7a2294a498032951e5f545583": {
      "model_module": "@jupyter-widgets/base",
      "model_module_version": "1.0.0",
      "model_name": "LayoutModel",
      "state": {
       "border": "solid 2px",
       "display": "flex",
       "flex_flow": "row",
       "justify_content": "space-between",
       "overflow": "visible"
      }
     },
     "dcf07a0f9364435b9832e5e5a2bc3830": {
      "model_module": "@jupyter-widgets/base",
      "model_module_version": "1.0.0",
      "model_name": "LayoutModel",
      "state": {}
     },
     "dcf836d4d6f644d6b34ac09ec34ae3b8": {
      "model_module": "@jupyter-widgets/base",
      "model_module_version": "1.0.0",
      "model_name": "LayoutModel",
      "state": {}
     },
     "dcfc7dba8c2e4e87852a82f44f35e06b": {
      "model_module": "@jupyter-widgets/base",
      "model_module_version": "1.0.0",
      "model_name": "LayoutModel",
      "state": {}
     },
     "dd4c9ae0f681413ca3ea3b4b2a23fdb1": {
      "model_module": "@jupyter-widgets/controls",
      "model_module_version": "1.1.0",
      "model_name": "HBoxModel",
      "state": {
       "children": [
        "IPY_MODEL_220652449b6b4d9f9e64effe9d9edaef",
        "IPY_MODEL_ff4f8f005ef640d69834cab7614f961a",
        "IPY_MODEL_52882e5f4650414193f500a4f3d1781b"
       ],
       "layout": "IPY_MODEL_f72d6062456c4e29a5b9335fc9e5e668"
      }
     },
     "dd54cfe662dc492e969bdd3cffa1e989": {
      "model_module": "@jupyter-widgets/base",
      "model_module_version": "1.0.0",
      "model_name": "LayoutModel",
      "state": {}
     },
     "dd899fe02c864a2d8cd66a7f46609e7c": {
      "model_module": "@jupyter-widgets/base",
      "model_module_version": "1.0.0",
      "model_name": "LayoutModel",
      "state": {}
     },
     "dd9235b99cf54b5280d45e8dfa2db665": {
      "model_module": "@jupyter-widgets/base",
      "model_module_version": "1.0.0",
      "model_name": "LayoutModel",
      "state": {}
     },
     "dd956f24d07c4035a3b4d593e34daf76": {
      "model_module": "@jupyter-widgets/controls",
      "model_module_version": "1.1.0",
      "model_name": "VBoxModel",
      "state": {
       "children": [
        "IPY_MODEL_fb6198a9ff9e40c998da32f04cc249a5",
        "IPY_MODEL_c4b882e23d6d4e96a1c262831c6cce84",
        "IPY_MODEL_6593535d165241dd873db4ddba773b13"
       ],
       "layout": "IPY_MODEL_e83f127a5b6a423580c0664f946abf66"
      }
     },
     "ddce18edd80344779b4a16103ac8cd46": {
      "model_module": "@jupyter-widgets/controls",
      "model_module_version": "1.1.0",
      "model_name": "DescriptionStyleModel",
      "state": {
       "description_width": ""
      }
     },
     "dddff3687a0c44489f809053d6497baa": {
      "model_module": "@jupyter-widgets/base",
      "model_module_version": "1.0.0",
      "model_name": "LayoutModel",
      "state": {
       "display": "flex",
       "flex_flow": "row",
       "justify_content": "space-between"
      }
     },
     "ddf9544c08754105bf6b1d806fdc8999": {
      "model_module": "@jupyter-widgets/base",
      "model_module_version": "1.0.0",
      "model_name": "LayoutModel",
      "state": {}
     },
     "de2bbff4934f471b8f06b233cbc56a33": {
      "model_module": "@jupyter-widgets/base",
      "model_module_version": "1.0.0",
      "model_name": "LayoutModel",
      "state": {}
     },
     "de373d0f3a75464faa8a7d1e1fd5eccf": {
      "model_module": "@jupyter-widgets/controls",
      "model_module_version": "1.1.0",
      "model_name": "CheckboxModel",
      "state": {
       "description": "Reset",
       "disabled": false,
       "layout": "IPY_MODEL_949d4674b9b942679ea5291efe31312e",
       "style": "IPY_MODEL_3c3ef9c877384c2ea694cde7818dfb95",
       "value": false
      }
     },
     "de50b75459ae4946a3721c1f476b5739": {
      "model_module": "@jupyter-widgets/base",
      "model_module_version": "1.0.0",
      "model_name": "LayoutModel",
      "state": {}
     },
     "de5b61c844c94b9c8027cf8e2f4f7871": {
      "model_module": "@jupyter-widgets/base",
      "model_module_version": "1.0.0",
      "model_name": "LayoutModel",
      "state": {}
     },
     "de7ecde02e75424aac82c2fe215358c3": {
      "model_module": "@jupyter-widgets/controls",
      "model_module_version": "1.1.0",
      "model_name": "DescriptionStyleModel",
      "state": {
       "description_width": ""
      }
     },
     "de9da9f3a709496897ad6a883f7d5727": {
      "model_module": "@jupyter-widgets/base",
      "model_module_version": "1.0.0",
      "model_name": "LayoutModel",
      "state": {}
     },
     "deb2d434bd644362a004ca98e5419583": {
      "model_module": "bqplot",
      "model_module_version": "^0.3.2",
      "model_name": "LinearScaleModel",
      "state": {
       "allow_padding": false,
       "max": 1,
       "min": 0,
       "stabilized": false
      }
     },
     "defa59428bdc4642b69d5ff1527fe111": {
      "model_module": "bqplot",
      "model_module_version": "^0.3.2",
      "model_name": "OrdinalScaleModel",
      "state": {
       "domain": []
      }
     },
     "df951b1d75c94453bf8bbde7d1b1ab37": {
      "model_module": "@jupyter-widgets/controls",
      "model_module_version": "1.1.0",
      "model_name": "AccordionModel",
      "state": {
       "_titles": {
        "0": "AutoSense Pipeline"
       },
       "children": [
        "IPY_MODEL_39b153469296495b85023980ec68e504"
       ],
       "layout": "IPY_MODEL_90523fd49c3e4839abec29df08953b37"
      }
     },
     "dfa652241a6c48b5a932fc4c51f1efb4": {
      "model_module": "@jupyter-widgets/base",
      "model_module_version": "1.0.0",
      "model_name": "LayoutModel",
      "state": {}
     },
     "dfbc2b1e04b245109acd80fd7ad1d59a": {
      "model_module": "@jupyter-widgets/base",
      "model_module_version": "1.0.0",
      "model_name": "LayoutModel",
      "state": {}
     },
     "dfcb8b126be447358e6bd2990c052cbd": {
      "model_module": "@jupyter-widgets/base",
      "model_module_version": "1.0.0",
      "model_name": "LayoutModel",
      "state": {}
     },
     "dfde88810bf44832b8ae5fa457b5b89a": {
      "model_module": "@jupyter-widgets/controls",
      "model_module_version": "1.1.0",
      "model_name": "DropdownModel",
      "state": {
       "_options_labels": [
        "100",
        "50",
        "25"
       ],
       "description": "IMU Rate",
       "index": 0,
       "layout": "IPY_MODEL_65b031aec767438fa958567ddebee3e4",
       "style": "IPY_MODEL_5ae0907a0fe0471695bd04b3114c3375"
      }
     },
     "e032bafddc3941728f6b1893224348d0": {
      "model_module": "@jupyter-widgets/base",
      "model_module_version": "1.0.0",
      "model_name": "LayoutModel",
      "state": {
       "border": "solid 2px",
       "display": "flex",
       "flex_flow": "row",
       "justify_content": "center",
       "overflow": "visible"
      }
     },
     "e05e4219958d4ac48fbf3e243394a1a2": {
      "model_module": "@jupyter-widgets/controls",
      "model_module_version": "1.1.0",
      "model_name": "DescriptionStyleModel",
      "state": {
       "description_width": ""
      }
     },
     "e071bfebb7424efaa3630b023d2f53a7": {
      "model_module": "@jupyter-widgets/base",
      "model_module_version": "1.0.0",
      "model_name": "LayoutModel",
      "state": {}
     },
     "e0804ecd959f438cb89fde583f850d10": {
      "model_module": "@jupyter-widgets/base",
      "model_module_version": "1.0.0",
      "model_name": "LayoutModel",
      "state": {}
     },
     "e0ca10dbcd544e7ea422e7eb31c6d51f": {
      "model_module": "@jupyter-widgets/base",
      "model_module_version": "1.0.0",
      "model_name": "LayoutModel",
      "state": {}
     },
     "e0ca9e6fb7794012b90730ee0a01e6ae": {
      "model_module": "bqplot",
      "model_module_version": "^0.3.2",
      "model_name": "LinearScaleModel",
      "state": {
       "allow_padding": false,
       "max": 1,
       "min": 0,
       "stabilized": false
      }
     },
     "e0da7391c97e47a29ec03cee9a76c51a": {
      "model_module": "@jupyter-widgets/base",
      "model_module_version": "1.0.0",
      "model_name": "LayoutModel",
      "state": {}
     },
     "e0dcf8ebc26d47f9a78fcab105334368": {
      "model_module": "@jupyter-widgets/controls",
      "model_module_version": "1.1.0",
      "model_name": "DropdownModel",
      "state": {
       "description": "Label",
       "index": null,
       "layout": "IPY_MODEL_38e09df5290c480b989c1f8f3979c37b",
       "style": "IPY_MODEL_f59ac1131d014852b40c79b367efc423"
      }
     },
     "e0e6305aec5b4821aa637fb2d2be548a": {
      "model_module": "@jupyter-widgets/controls",
      "model_module_version": "1.1.0",
      "model_name": "VBoxModel",
      "state": {
       "children": [
        "IPY_MODEL_73940ab557104d28a49c2fffc8bef268",
        "IPY_MODEL_593ba3633d7344c4abdcd1c2bbc669c7"
       ],
       "layout": "IPY_MODEL_625bdd5be82543018ed8cf7547c29ed9"
      }
     },
     "e0fa03a4555d4b4cbf3697f558355727": {
      "model_module": "@jupyter-widgets/base",
      "model_module_version": "1.0.0",
      "model_name": "LayoutModel",
      "state": {}
     },
     "e10fba8964d34b71a1af72dcbf5b677d": {
      "model_module": "@jupyter-widgets/base",
      "model_module_version": "1.0.0",
      "model_name": "LayoutModel",
      "state": {}
     },
     "e12db4417aa440e49cc580c7fd6421f8": {
      "model_module": "qgrid",
      "model_module_version": "1.0.0",
      "model_name": "QgridModel",
      "state": {
       "_columns": {
        "f1_score": {
         "name": "f1_score",
         "position": 4,
         "type": "string"
        },
        "features": {
         "name": "features",
         "position": 3,
         "type": "string"
        },
        "index": {
         "is_index": true,
         "name": "index",
         "position": 0,
         "type": "integer"
        },
        "neurons": {
         "name": "neurons",
         "position": 2,
         "type": "string"
        },
        "qgrid_unfiltered_index": {
         "name": "qgrid_unfiltered_index",
         "position": 1,
         "type": "number"
        }
       },
       "_df_json": "{\"schema\": {\"fields\":[{\"type\":\"integer\",\"name\":\"index\"},{\"type\":\"number\",\"name\":\"qgrid_unfiltered_index\"},{\"type\":\"string\",\"name\":\"neurons\"},{\"type\":\"string\",\"name\":\"features\"},{\"type\":\"string\",\"name\":\"f1_score\"}],\"pandas_version\":\"0.20.0\",\"primaryKey\":[\"index\"]}, \"data\": []}",
       "_df_range": [
        0,
        100
       ],
       "_index_col_name": "qgrid_unfiltered_index",
       "_interval_columns": [],
       "_model_module_version": "1.0.0",
       "_page_size": 100,
       "_row_count": 0,
       "_sort_ascending": true,
       "_sort_field": "",
       "_view_module_version": "1.0.0",
       "grid_options": {
        "autoEdit": false,
        "defaultColumnWidth": 15,
        "editable": false,
        "enableColumnReorder": false,
        "enableTextSelectionOnCells": true,
        "explicitInitialization": true,
        "forceFitColumns": true,
        "fullWidthRows": true,
        "maxVisibleRows": 5,
        "minVisibleRows": 5,
        "rowHeight": 35,
        "syncColumnCellResize": true
       },
       "layout": "IPY_MODEL_70eaacbd4a3b4ae99d9ea3211369456c",
       "precision": 5,
       "show_toolbar": false
      }
     },
     "e186370841b1493ab05660aa05b7d043": {
      "model_module": "@jupyter-widgets/controls",
      "model_module_version": "1.1.0",
      "model_name": "SliderStyleModel",
      "state": {
       "description_width": ""
      }
     },
     "e189b5f4e5c84653a0ee518c9a357fea": {
      "model_module": "@jupyter-widgets/controls",
      "model_module_version": "1.1.0",
      "model_name": "VBoxModel",
      "state": {
       "children": [
        "IPY_MODEL_90302a56b868429c8ee95b8f4d6c1fda",
        "IPY_MODEL_c32fc62a4d7f483a8c8862c7b7bae741",
        "IPY_MODEL_6a23de0d7f8b4b2dbcb4d9e59fb64de5",
        "IPY_MODEL_14510be369e04adf8e117ff67d9eae33",
        "IPY_MODEL_cd88b214e37e4a429731043afa502aa8",
        "IPY_MODEL_6d1ad9f79b184c9f890dadc0cd4b88b0"
       ],
       "layout": "IPY_MODEL_c33269739b4b4243b5123c6bfbd7068f"
      }
     },
     "e199a56dfe594663806362b1c8595a72": {
      "model_module": "@jupyter-widgets/controls",
      "model_module_version": "1.1.0",
      "model_name": "HBoxModel",
      "state": {
       "children": [
        "IPY_MODEL_963ee29a7c844e8ba27060044041b401",
        "IPY_MODEL_6db4721c083840de850f95c77b416c5f",
        "IPY_MODEL_552c1cbdeee14099a448767015dd4b51"
       ],
       "layout": "IPY_MODEL_34331a22b82d48b79d9baf2945672ae2"
      }
     },
     "e1ba88fc56574544a2f8aa66c2de9470": {
      "model_module": "@jupyter-widgets/controls",
      "model_module_version": "1.1.0",
      "model_name": "VBoxModel",
      "state": {
       "children": [
        "IPY_MODEL_7507c6813b3c444e94b9a2438bc12377",
        "IPY_MODEL_9afde42c05c34c71a68cb75a0b72aa93",
        "IPY_MODEL_af1cac85892845389414e4b8e247a2d8",
        "IPY_MODEL_85a088dd7b884640ac696c35905eb5d7"
       ],
       "layout": "IPY_MODEL_b10bf2e0df3d4a2cb180f5f1abc2b751"
      }
     },
     "e1cb828a2876438c8937690ac3dfdfaf": {
      "model_module": "@jupyter-widgets/base",
      "model_module_version": "1.0.0",
      "model_name": "LayoutModel",
      "state": {}
     },
     "e200914c921940d590f824de9fbb8bde": {
      "model_module": "@jupyter-widgets/controls",
      "model_module_version": "1.1.0",
      "model_name": "DescriptionStyleModel",
      "state": {
       "description_width": ""
      }
     },
     "e24b0fd9bada48139ed310656d4cbdcb": {
      "model_module": "@jupyter-widgets/controls",
      "model_module_version": "1.1.0",
      "model_name": "TextModel",
      "state": {
       "description": "Query Filter",
       "layout": "IPY_MODEL_2e7f258de16f435ba49b42453f3b1f10",
       "style": "IPY_MODEL_f1642ad2b98f46d88157d8b31f5a4406"
      }
     },
     "e25f2846d29541e5892f3fd2f4aafab2": {
      "model_module": "@jupyter-widgets/controls",
      "model_module_version": "1.1.0",
      "model_name": "DropdownModel",
      "state": {
       "_options_labels": [
        "Default",
        "Windowing(100)",
        "Windowing(200)",
        "Windowing(250)"
       ],
       "description": "Segmenter",
       "index": 0,
       "layout": "IPY_MODEL_9644b4369c9c48d7b3ef8b197b26bfa3",
       "style": "IPY_MODEL_4bb90ff3e051435a90c15db4da3be778"
      }
     },
     "e28e03390ac541a5af1a6c857acf10e2": {
      "model_module": "@jupyter-widgets/base",
      "model_module_version": "1.0.0",
      "model_name": "LayoutModel",
      "state": {
       "align_items": "stretch",
       "border": "solid 2px",
       "display": "flex",
       "flex_flow": "row",
       "width": "50%"
      }
     },
     "e2b28232990247198b94ee9448bf1c87": {
      "model_module": "@jupyter-widgets/controls",
      "model_module_version": "1.1.0",
      "model_name": "DropdownModel",
      "state": {
       "_options_labels": [
        "True",
        "False"
       ],
       "description": "Debug",
       "index": 0,
       "layout": "IPY_MODEL_0c770aa579e54f348bd22afcb2e72c87",
       "style": "IPY_MODEL_3d4706b571584872b716ad3e65486e56"
      }
     },
     "e2b47b3e146047348e8bccf6bb557674": {
      "model_module": "@jupyter-widgets/base",
      "model_module_version": "1.0.0",
      "model_name": "LayoutModel",
      "state": {}
     },
     "e2c8f8d6b9e34ce7a4d77b3e78b4a69f": {
      "model_module": "@jupyter-widgets/base",
      "model_module_version": "1.0.0",
      "model_name": "LayoutModel",
      "state": {}
     },
     "e2cbe35d62d14220ae7c969473d3a754": {
      "model_module": "@jupyter-widgets/controls",
      "model_module_version": "1.1.0",
      "model_name": "DropdownModel",
      "state": {
       "description": "Name",
       "index": null,
       "layout": "IPY_MODEL_42e0b47ae0e049419a4161b5d149c7de",
       "style": "IPY_MODEL_91d64131dbe44b0e84478c6feef5afad"
      }
     },
     "e2d1fbba8f1649af865e82f47577f6c6": {
      "model_module": "@jupyter-widgets/base",
      "model_module_version": "1.0.0",
      "model_name": "LayoutModel",
      "state": {}
     },
     "e2e711a86f834087967f6eb92bd2a36c": {
      "model_module": "@jupyter-widgets/controls",
      "model_module_version": "1.1.0",
      "model_name": "HBoxModel",
      "state": {
       "children": [
        "IPY_MODEL_737e0b66038e4fad8e934ec401818a8c",
        "IPY_MODEL_11ea9352e3334412b9f5754d098468a1"
       ],
       "layout": "IPY_MODEL_9931c50ddc40426aa502869c4e85e1e6"
      }
     },
     "e2f290c4c71e42ccb73a1b70cdeddfb6": {
      "model_module": "@jupyter-widgets/controls",
      "model_module_version": "1.1.0",
      "model_name": "ButtonStyleModel",
      "state": {}
     },
     "e345ae330804416b916c9883a5a0de24": {
      "model_module": "@jupyter-widgets/controls",
      "model_module_version": "1.1.0",
      "model_name": "FloatSliderModel",
      "state": {
       "description": "Accuracy",
       "layout": "IPY_MODEL_fb419de0a5ce4e4fa576deacb371edd7",
       "max": 1,
       "step": 0.05,
       "style": "IPY_MODEL_59c01137541949f59ebca6f4ed5edf93",
       "value": 0.8
      }
     },
     "e34debdec6fe44b8a0e101ad3e89b5f2": {
      "model_module": "@jupyter-widgets/base",
      "model_module_version": "1.0.0",
      "model_name": "LayoutModel",
      "state": {}
     },
     "e3648dc07659416582f97d6f529f3617": {
      "model_module": "@jupyter-widgets/controls",
      "model_module_version": "1.1.0",
      "model_name": "ButtonModel",
      "state": {
       "description": "Create",
       "layout": "IPY_MODEL_9420619e0a4647b6a1a8a8264c9e6331",
       "style": "IPY_MODEL_59041e765fb7451b88db55e5bd9e5c35"
      }
     },
     "e3ab435c3a264f40aa64cfae70bfa083": {
      "model_module": "@jupyter-widgets/controls",
      "model_module_version": "1.1.0",
      "model_name": "ButtonStyleModel",
      "state": {}
     },
     "e3cbf9fc12374e36aa41f7132db0a5a2": {
      "model_module": "@jupyter-widgets/controls",
      "model_module_version": "1.1.0",
      "model_name": "DescriptionStyleModel",
      "state": {
       "description_width": ""
      }
     },
     "e3ccc1c375814944b9a35fd9c23e6b0d": {
      "model_module": "@jupyter-widgets/base",
      "model_module_version": "1.0.0",
      "model_name": "LayoutModel",
      "state": {}
     },
     "e3d5786c0684481e8ca2ef55483b6fd5": {
      "model_module": "@jupyter-widgets/controls",
      "model_module_version": "1.1.0",
      "model_name": "SliderStyleModel",
      "state": {
       "description_width": ""
      }
     },
     "e42357e64c9e4b8f96d8f971595bcab9": {
      "model_module": "@jupyter-widgets/controls",
      "model_module_version": "1.1.0",
      "model_name": "ButtonModel",
      "state": {
       "description": "Run Autopipeline",
       "layout": "IPY_MODEL_540cd28360f94298b0a10d2037a72739",
       "style": "IPY_MODEL_e2f290c4c71e42ccb73a1b70cdeddfb6"
      }
     },
     "e4244b677b454ac4a8771f04d5a75fa9": {
      "model_module": "@jupyter-widgets/controls",
      "model_module_version": "1.1.0",
      "model_name": "FloatSliderModel",
      "state": {
       "description": "Features",
       "layout": "IPY_MODEL_f9846e4ab9a74ed083d44a15ff94d1c9",
       "max": 1,
       "step": 0.05,
       "style": "IPY_MODEL_b4038fe68c444e86af73077d05201e00",
       "value": 0.5
      }
     },
     "e45dc3a657a8495abc01e98971725dae": {
      "model_module": "@jupyter-widgets/controls",
      "model_module_version": "1.1.0",
      "model_name": "FloatSliderModel",
      "state": {
       "description": "Neurons",
       "layout": "IPY_MODEL_a4e37b850822440e86a609a0dfce265a",
       "max": 1,
       "step": 0.05,
       "style": "IPY_MODEL_26679dc32add436b8a12c77468fa2b32",
       "value": 0.5
      }
     },
     "e45ddc41c19f4485a8e030f9ae250ed8": {
      "model_module": "@jupyter-widgets/base",
      "model_module_version": "1.0.0",
      "model_name": "LayoutModel",
      "state": {}
     },
     "e45e11cfccce4c75b87a2827d85a2250": {
      "model_module": "@jupyter-widgets/controls",
      "model_module_version": "1.1.0",
      "model_name": "VBoxModel",
      "state": {
       "children": [
        "IPY_MODEL_c626661ba0ce486fb7f8c0c6eb736da3",
        "IPY_MODEL_c842ee0b3619453e846e56b87d1c5429",
        "IPY_MODEL_f678fd7ee0dc4430b8f460756e6c60f1",
        "IPY_MODEL_8ec504b714c8438fa1367cadd943c772",
        "IPY_MODEL_d096462f18cf49da8afe39da212f41c2",
        "IPY_MODEL_bb431c67b04a4208a329d367ae13ddb4",
        "IPY_MODEL_1708632d2f744bc7bc23bad5ab6f4145",
        "IPY_MODEL_f5169bd9bcba4ac6be1224304c13faa4"
       ],
       "layout": "IPY_MODEL_190a3fd6ee90428194f0065948ac875d"
      }
     },
     "e467e29a64634534b50726ed67474b9b": {
      "model_module": "@jupyter-widgets/base",
      "model_module_version": "1.0.0",
      "model_name": "LayoutModel",
      "state": {}
     },
     "e46ab8ceac294b8ba3ad710546d7df32": {
      "model_module": "@jupyter-widgets/controls",
      "model_module_version": "1.1.0",
      "model_name": "DescriptionStyleModel",
      "state": {
       "description_width": ""
      }
     },
     "e48fa9427953400f970a10098b3ff5bd": {
      "model_module": "@jupyter-widgets/base",
      "model_module_version": "1.0.0",
      "model_name": "LayoutModel",
      "state": {}
     },
     "e4e936e8b2b149e382605b931d2f09ee": {
      "model_module": "@jupyter-widgets/controls",
      "model_module_version": "1.1.0",
      "model_name": "DropdownModel",
      "state": {
       "_options_labels": [
        "100",
        "50",
        "25"
       ],
       "description": "IMU Rate",
       "index": 0,
       "layout": "IPY_MODEL_105a858a2c794b089fef1bdb3718d2ba",
       "style": "IPY_MODEL_93c8370f209044ea9b7eaa6ecee97b9a"
      }
     },
     "e512ba8c7a1f4dc890fd592ada3486cd": {
      "model_module": "@jupyter-widgets/base",
      "model_module_version": "1.0.0",
      "model_name": "LayoutModel",
      "state": {}
     },
     "e51c8e1c10ab42cb9617979df8ac6b4a": {
      "model_module": "@jupyter-widgets/controls",
      "model_module_version": "1.1.0",
      "model_name": "VBoxModel",
      "state": {
       "children": [
        "IPY_MODEL_886892de36374672bb3714dd614183a9",
        "IPY_MODEL_5536870c169e4e368df52aeabfa5ea1d",
        "IPY_MODEL_6870c2b3e9384c1d9311ae617d9b5b3e",
        "IPY_MODEL_357d034b21864a629adc8feb8d2c32ba"
       ],
       "layout": "IPY_MODEL_d1521ffa18d943acb428a1bddd6268f8"
      }
     },
     "e545bfbfc0b74242a2e2ad8b64df2aa2": {
      "model_module": "@jupyter-widgets/controls",
      "model_module_version": "1.1.0",
      "model_name": "HBoxModel",
      "state": {
       "children": [
        "IPY_MODEL_d560479cc77b421094240f64f80041a2",
        "IPY_MODEL_86cd3b3eb0514e52b3af1ade04737d6c",
        "IPY_MODEL_c91a614381b04937b4f4cca1115c12e6"
       ],
       "layout": "IPY_MODEL_895ae227da814a478e872940573db647"
      }
     },
     "e55e70f3cf8e468bade17f9e6c502c46": {
      "model_module": "@jupyter-widgets/base",
      "model_module_version": "1.0.0",
      "model_name": "LayoutModel",
      "state": {}
     },
     "e57185a841074ca9bdad0d7ce980e262": {
      "model_module": "qgrid",
      "model_module_version": "1.0.0",
      "model_name": "QgridModel",
      "state": {
       "_columns": {
        "f1_score": {
         "name": "f1_score",
         "position": 4,
         "type": "string"
        },
        "features": {
         "name": "features",
         "position": 3,
         "type": "string"
        },
        "index": {
         "is_index": true,
         "name": "index",
         "position": 0,
         "type": "integer"
        },
        "neurons": {
         "name": "neurons",
         "position": 2,
         "type": "string"
        },
        "qgrid_unfiltered_index": {
         "name": "qgrid_unfiltered_index",
         "position": 1,
         "type": "number"
        }
       },
       "_df_json": "{\"schema\": {\"fields\":[{\"type\":\"integer\",\"name\":\"index\"},{\"type\":\"number\",\"name\":\"qgrid_unfiltered_index\"},{\"type\":\"string\",\"name\":\"neurons\"},{\"type\":\"string\",\"name\":\"features\"},{\"type\":\"string\",\"name\":\"f1_score\"}],\"pandas_version\":\"0.20.0\",\"primaryKey\":[\"index\"]}, \"data\": []}",
       "_df_range": [
        0,
        100
       ],
       "_index_col_name": "qgrid_unfiltered_index",
       "_interval_columns": [],
       "_model_module_version": "1.0.0",
       "_page_size": 100,
       "_row_count": 0,
       "_sort_ascending": true,
       "_sort_field": "",
       "_view_module_version": "1.0.0",
       "grid_options": {
        "autoEdit": false,
        "defaultColumnWidth": 15,
        "editable": false,
        "enableColumnReorder": false,
        "enableTextSelectionOnCells": true,
        "explicitInitialization": true,
        "forceFitColumns": true,
        "fullWidthRows": true,
        "maxVisibleRows": 5,
        "minVisibleRows": 5,
        "rowHeight": 35,
        "syncColumnCellResize": true
       },
       "layout": "IPY_MODEL_b0cbbde52e5543d7b6a87dc2dc0d3617",
       "precision": 5,
       "show_toolbar": false
      }
     },
     "e57b4c57ec8e40259a900d973cdd0035": {
      "model_module": "@jupyter-widgets/controls",
      "model_module_version": "1.1.0",
      "model_name": "DropdownModel",
      "state": {
       "_options_labels": [
        "NordicSDK"
       ],
       "description": "Target OS",
       "index": 0,
       "layout": "IPY_MODEL_75f0df5edbcd42f98f2be0d94cd14dbe",
       "style": "IPY_MODEL_0e567478fd6d4de098c4c432564c6062"
      }
     },
     "e58f93254e4747569bc7be75f8003693": {
      "model_module": "@jupyter-widgets/controls",
      "model_module_version": "1.1.0",
      "model_name": "DescriptionStyleModel",
      "state": {
       "description_width": ""
      }
     },
     "e59ce49164ad4abdb59141d2a71a4afe": {
      "model_module": "qgrid",
      "model_module_version": "1.0.0",
      "model_name": "QgridModel",
      "state": {
       "_columns": {
        "f1_score": {
         "name": "f1_score",
         "position": 4,
         "type": "string"
        },
        "features": {
         "name": "features",
         "position": 3,
         "type": "string"
        },
        "index": {
         "is_index": true,
         "name": "index",
         "position": 0,
         "type": "integer"
        },
        "neurons": {
         "name": "neurons",
         "position": 2,
         "type": "string"
        },
        "qgrid_unfiltered_index": {
         "name": "qgrid_unfiltered_index",
         "position": 1,
         "type": "number"
        }
       },
       "_df_json": "{\"schema\": {\"fields\":[{\"type\":\"integer\",\"name\":\"index\"},{\"type\":\"number\",\"name\":\"qgrid_unfiltered_index\"},{\"type\":\"string\",\"name\":\"neurons\"},{\"type\":\"string\",\"name\":\"features\"},{\"type\":\"string\",\"name\":\"f1_score\"}],\"pandas_version\":\"0.20.0\",\"primaryKey\":[\"index\"]}, \"data\": []}",
       "_df_range": [
        0,
        100
       ],
       "_index_col_name": "qgrid_unfiltered_index",
       "_interval_columns": [],
       "_model_module_version": "1.0.0",
       "_page_size": 100,
       "_row_count": 0,
       "_sort_ascending": true,
       "_sort_field": "",
       "_view_module_version": "1.0.0",
       "grid_options": {
        "autoEdit": false,
        "defaultColumnWidth": 15,
        "editable": false,
        "enableColumnReorder": false,
        "enableTextSelectionOnCells": true,
        "explicitInitialization": true,
        "forceFitColumns": true,
        "fullWidthRows": true,
        "maxVisibleRows": 5,
        "minVisibleRows": 5,
        "rowHeight": 35,
        "syncColumnCellResize": true
       },
       "layout": "IPY_MODEL_392aea1e423b47b686d67d8efcbcf815",
       "precision": 5,
       "show_toolbar": false
      }
     },
     "e5efcdfc6d7e4b4fab3a8ad06fd31923": {
      "model_module": "@jupyter-widgets/base",
      "model_module_version": "1.0.0",
      "model_name": "LayoutModel",
      "state": {}
     },
     "e60e0399e4b9482e922d2afaceaa7669": {
      "model_module": "@jupyter-widgets/controls",
      "model_module_version": "1.1.0",
      "model_name": "ButtonModel",
      "state": {
       "description": "Add Query",
       "layout": "IPY_MODEL_95ff9e1e06d24c05b710d62da0e34087",
       "style": "IPY_MODEL_43f9ce71ddc74a8480fde591dcbff10f"
      }
     },
     "e631b2fa9b654880bec37833ab2103e2": {
      "model_module": "@jupyter-widgets/controls",
      "model_module_version": "1.1.0",
      "model_name": "SelectMultipleModel",
      "state": {
       "_options_labels": [
        "ble",
        "led",
        "serial"
       ],
       "description": "Output",
       "index": [],
       "layout": "IPY_MODEL_6f013e3d417746cfb24fec96b6f9fbb0",
       "rows": 5,
       "style": "IPY_MODEL_9c49521020c84968ae77678300c7f259"
      }
     },
     "e641c934ecae43d3a5f2de1b65c1c3bf": {
      "model_module": "@jupyter-widgets/base",
      "model_module_version": "1.0.0",
      "model_name": "LayoutModel",
      "state": {}
     },
     "e65cfddb120c47b4958c9db1a37ac7e1": {
      "model_module": "@jupyter-widgets/controls",
      "model_module_version": "1.1.0",
      "model_name": "DescriptionStyleModel",
      "state": {
       "description_width": ""
      }
     },
     "e68084d1492f40e69d9df7983360397b": {
      "model_module": "@jupyter-widgets/base",
      "model_module_version": "1.0.0",
      "model_name": "LayoutModel",
      "state": {}
     },
     "e6c140279f3d410492a2ce1ca0dfcc35": {
      "model_module": "@jupyter-widgets/base",
      "model_module_version": "1.0.0",
      "model_name": "LayoutModel",
      "state": {}
     },
     "e6f22285081d4d1f89ad36e062c98b42": {
      "model_module": "@jupyter-widgets/controls",
      "model_module_version": "1.1.0",
      "model_name": "DescriptionStyleModel",
      "state": {
       "description_width": ""
      }
     },
     "e6f63d28d62a44dfbb612f46ddcf1b49": {
      "model_module": "@jupyter-widgets/base",
      "model_module_version": "1.0.0",
      "model_name": "LayoutModel",
      "state": {}
     },
     "e72e1a55240149c48ff04cdaa85f0b94": {
      "model_module": "@jupyter-widgets/controls",
      "model_module_version": "1.1.0",
      "model_name": "DescriptionStyleModel",
      "state": {
       "description_width": ""
      }
     },
     "e73ca1f8f2644a55a15ff153c4471518": {
      "model_module": "@jupyter-widgets/controls",
      "model_module_version": "1.1.0",
      "model_name": "DescriptionStyleModel",
      "state": {
       "description_width": ""
      }
     },
     "e772a7b1fe924a148a4bf9d4b6d05fc9": {
      "model_module": "@jupyter-widgets/controls",
      "model_module_version": "1.1.0",
      "model_name": "DropdownModel",
      "state": {
       "_options_labels": [
        "Segmenter Builder Result",
        "Manual",
        "Segmenter Builder Result AccelZ 2"
       ],
       "description": "Segmenter",
       "index": 2,
       "layout": "IPY_MODEL_f6b23054119b47a2b72dbb4b146864b2",
       "style": "IPY_MODEL_3f6a228a6b3f4f058cfa5d971439050e"
      }
     },
     "e78173ea48b74bec8f48e6b9336ac530": {
      "model_module": "@jupyter-widgets/base",
      "model_module_version": "1.0.0",
      "model_name": "LayoutModel",
      "state": {
       "justify_content": "flex-start",
       "overflow": "visible"
      }
     },
     "e795f9eeb66241fba0e94cf4854f807f": {
      "model_module": "@jupyter-widgets/controls",
      "model_module_version": "1.1.0",
      "model_name": "DropdownModel",
      "state": {
       "description": "Project",
       "index": null,
       "layout": "IPY_MODEL_71999d71936b496abf6fbacc0679e349",
       "style": "IPY_MODEL_3be703992fad4f0a8fb00f92f69f8678"
      }
     },
     "e7eefe32891e4890b580f873d71e161d": {
      "model_module": "@jupyter-widgets/base",
      "model_module_version": "1.0.0",
      "model_name": "LayoutModel",
      "state": {}
     },
     "e7fa626fcda04b118f45b2cdcce5e83f": {
      "model_module": "@jupyter-widgets/controls",
      "model_module_version": "1.1.0",
      "model_name": "TextModel",
      "state": {
       "description": "Query Name",
       "layout": "IPY_MODEL_57dbf076d50b4f64b6b0e7a59b60301a",
       "style": "IPY_MODEL_1399fe135275465a8da0e6a0706093fb",
       "value": "asdfasd"
      }
     },
     "e80f62bb7bac4ebe87bbe846a637da1e": {
      "model_module": "@jupyter-widgets/base",
      "model_module_version": "1.0.0",
      "model_name": "LayoutModel",
      "state": {}
     },
     "e81d4aace27c45f5ad50c62217368eeb": {
      "model_module": "@jupyter-widgets/controls",
      "model_module_version": "1.1.0",
      "model_name": "ButtonStyleModel",
      "state": {}
     },
     "e83f127a5b6a423580c0664f946abf66": {
      "model_module": "@jupyter-widgets/base",
      "model_module_version": "1.0.0",
      "model_name": "LayoutModel",
      "state": {}
     },
     "e868dfe1108944e8a0a3f98cc64b7f68": {
      "model_module": "@jupyter-widgets/controls",
      "model_module_version": "1.1.0",
      "model_name": "DropdownModel",
      "state": {
       "description": "Model Name",
       "index": null,
       "layout": "IPY_MODEL_8ecaf970e6594830bb5e84c5a74749f2",
       "style": "IPY_MODEL_ca1ad2410af2428c85f8e4e91d918407"
      }
     },
     "e87b71ec3322403b9faf52c9d64296c4": {
      "model_module": "@jupyter-widgets/base",
      "model_module_version": "1.0.0",
      "model_name": "LayoutModel",
      "state": {}
     },
     "e88b989b51f6422689b18200cb7230cc": {
      "model_module": "@jupyter-widgets/controls",
      "model_module_version": "1.1.0",
      "model_name": "TextModel",
      "state": {
       "description": "Query Filter",
       "layout": "IPY_MODEL_b054632b8dfc47939a1168c8d28e8128",
       "style": "IPY_MODEL_d82118045b024b3b8420af4b7e739bde"
      }
     },
     "e8a492b8330648ec8610164c24b05cb4": {
      "model_module": "@jupyter-widgets/base",
      "model_module_version": "1.0.0",
      "model_name": "LayoutModel",
      "state": {
       "visibility": "visible"
      }
     },
     "e8b8f7e1934b438fb27efc09730fcc59": {
      "model_module": "@jupyter-widgets/base",
      "model_module_version": "1.0.0",
      "model_name": "LayoutModel",
      "state": {}
     },
     "e8c54d967d78457ab34aaf3871c57e44": {
      "model_module": "@jupyter-widgets/base",
      "model_module_version": "1.0.0",
      "model_name": "LayoutModel",
      "state": {}
     },
     "e8cb6a6ac0e0478f88525bdcf4fd7c1d": {
      "model_module": "@jupyter-widgets/base",
      "model_module_version": "1.0.0",
      "model_name": "LayoutModel",
      "state": {}
     },
     "e8dbbdb2b36946efb4b85c70bf89a927": {
      "model_module": "@jupyter-widgets/controls",
      "model_module_version": "1.1.0",
      "model_name": "FloatSliderModel",
      "state": {
       "description": "Sensitivity",
       "layout": "IPY_MODEL_41026267658f4a3dad6033930f476325",
       "max": 1,
       "step": 0.05,
       "style": "IPY_MODEL_8ed801d39e7146c8b38cd153b78e86ad",
       "value": 0.8
      }
     },
     "e8e4892a0fae430fa0b5b2fd1f23a450": {
      "model_module": "@jupyter-widgets/controls",
      "model_module_version": "1.1.0",
      "model_name": "CheckboxModel",
      "state": {
       "description": "Reset",
       "disabled": false,
       "layout": "IPY_MODEL_242881818e924bd19bac8fdb5c2bf92e",
       "style": "IPY_MODEL_4e575c6173644c159baf23d4bcd7c1a8",
       "value": false
      }
     },
     "e8e8984dbe00421ea0b761f51d1882ad": {
      "model_module": "@jupyter-widgets/base",
      "model_module_version": "1.0.0",
      "model_name": "LayoutModel",
      "state": {
       "display": "flex",
       "flex_flow": "row",
       "justify_content": "space-between",
       "overflow": "visible"
      }
     },
     "e9159cf6f729435e99946a56ec8778f9": {
      "model_module": "@jupyter-widgets/controls",
      "model_module_version": "1.1.0",
      "model_name": "DropdownModel",
      "state": {
       "description": "Name",
       "index": null,
       "layout": "IPY_MODEL_51de4a3d4f724e7ca40cbf755a32c3ba",
       "style": "IPY_MODEL_b01e9f4bcc6e4d939a5f689ced240002"
      }
     },
     "e967164788d3419fac6e0a3f7730d6e7": {
      "model_module": "@jupyter-widgets/base",
      "model_module_version": "1.0.0",
      "model_name": "LayoutModel",
      "state": {}
     },
     "e970a5fe2a2c42dcb532c4a8716e5d1b": {
      "model_module": "@jupyter-widgets/controls",
      "model_module_version": "1.1.0",
      "model_name": "VBoxModel",
      "state": {
       "children": [
        "IPY_MODEL_7d89c8850300455abe024331f11dc648",
        "IPY_MODEL_d3d4127d122c45b397ce7c9a03e73cfd",
        "IPY_MODEL_63e14f15cc1f430698ddd3d96c03c29f",
        "IPY_MODEL_2a274916001541789853742236d17a5a",
        "IPY_MODEL_d753a378376747a498a4bb158a37719a",
        "IPY_MODEL_b54544599cc24a7da5942c9ea97c7da4",
        "IPY_MODEL_eb3ebfb5c33843928e8371e729801d3e",
        "IPY_MODEL_79d15522b3204a8481c608d518498e98"
       ],
       "layout": "IPY_MODEL_b1518acbbeec4438ad460f28c416ee34"
      }
     },
     "e997cfe7c6c148b2bd4df97b2a9cdd59": {
      "model_module": "@jupyter-widgets/base",
      "model_module_version": "1.0.0",
      "model_name": "LayoutModel",
      "state": {}
     },
     "e9a0b1ab5b07497b87e767c70b58342a": {
      "model_module": "@jupyter-widgets/controls",
      "model_module_version": "1.1.0",
      "model_name": "HBoxModel",
      "state": {
       "children": [
        "IPY_MODEL_f72482270f8e4e51a88585bb4aa71da6",
        "IPY_MODEL_4d44cedd33da4d3eb08ef366612d8c1b",
        "IPY_MODEL_8057c698119f4ae4ae3649e50d2d6da7"
       ],
       "layout": "IPY_MODEL_ab7287c9829b4a0c804f22922a257a9b"
      }
     },
     "e9be67b3c13c4d7d9362ae109431e498": {
      "model_module": "@jupyter-widgets/base",
      "model_module_version": "1.0.0",
      "model_name": "LayoutModel",
      "state": {}
     },
     "e9ce5783dde94ee6aac9e6e4752b4502": {
      "model_module": "@jupyter-widgets/base",
      "model_module_version": "1.0.0",
      "model_name": "LayoutModel",
      "state": {}
     },
     "e9f2df7cfa53428a80113112025d9c06": {
      "model_module": "@jupyter-widgets/base",
      "model_module_version": "1.0.0",
      "model_name": "LayoutModel",
      "state": {
       "align_items": "stretch",
       "border": "solid 2px",
       "display": "flex",
       "flex_flow": "row",
       "width": "50%"
      }
     },
     "ea12d094c0f5482e82c2ff7c210d784e": {
      "model_module": "@jupyter-widgets/controls",
      "model_module_version": "1.1.0",
      "model_name": "DescriptionStyleModel",
      "state": {
       "description_width": ""
      }
     },
     "ea36ac988d9b426fa5985adfc7087ded": {
      "model_module": "@jupyter-widgets/base",
      "model_module_version": "1.0.0",
      "model_name": "LayoutModel",
      "state": {}
     },
     "ea4b090471684097bc6cbee377ad1276": {
      "model_module": "@jupyter-widgets/controls",
      "model_module_version": "1.1.0",
      "model_name": "VBoxModel",
      "state": {
       "children": [
        "IPY_MODEL_c449ba3faa8345369be0c3c3e986e918",
        "IPY_MODEL_658853d1cd5a43c3a9c296cb99180cd6",
        "IPY_MODEL_2780a2f7a4be41058c097df0b6519c8e"
       ],
       "layout": "IPY_MODEL_0f4f0d0fcdb04ec681aab2b15b70c340"
      }
     },
     "ea9e142cc2b442bd9a056109b98f8ea4": {
      "model_module": "qgrid",
      "model_module_version": "1.0.0",
      "model_name": "QgridModel",
      "state": {
       "_columns": {
        "f1_score": {
         "name": "f1_score",
         "position": 4,
         "type": "string"
        },
        "features": {
         "name": "features",
         "position": 3,
         "type": "string"
        },
        "index": {
         "is_index": true,
         "name": "index",
         "position": 0,
         "type": "integer"
        },
        "neurons": {
         "name": "neurons",
         "position": 2,
         "type": "string"
        },
        "qgrid_unfiltered_index": {
         "name": "qgrid_unfiltered_index",
         "position": 1,
         "type": "number"
        }
       },
       "_df_json": "{\"schema\": {\"fields\":[{\"type\":\"integer\",\"name\":\"index\"},{\"type\":\"number\",\"name\":\"qgrid_unfiltered_index\"},{\"type\":\"string\",\"name\":\"neurons\"},{\"type\":\"string\",\"name\":\"features\"},{\"type\":\"string\",\"name\":\"f1_score\"}],\"pandas_version\":\"0.20.0\",\"primaryKey\":[\"index\"]}, \"data\": []}",
       "_df_range": [
        0,
        100
       ],
       "_index_col_name": "qgrid_unfiltered_index",
       "_interval_columns": [],
       "_model_module_version": "1.0.0",
       "_page_size": 100,
       "_row_count": 0,
       "_sort_ascending": true,
       "_sort_field": "",
       "_view_module_version": "1.0.0",
       "grid_options": {
        "autoEdit": false,
        "defaultColumnWidth": 15,
        "editable": false,
        "enableColumnReorder": false,
        "enableTextSelectionOnCells": true,
        "explicitInitialization": true,
        "forceFitColumns": true,
        "fullWidthRows": true,
        "maxVisibleRows": 5,
        "minVisibleRows": 5,
        "rowHeight": 35,
        "syncColumnCellResize": true
       },
       "layout": "IPY_MODEL_d39c84618e454e6090e280174b90c10a",
       "precision": 5,
       "show_toolbar": false
      }
     },
     "eaaf9b55aff04a04b00cbb1e08bec329": {
      "model_module": "@jupyter-widgets/controls",
      "model_module_version": "1.1.0",
      "model_name": "SliderStyleModel",
      "state": {
       "description_width": ""
      }
     },
     "eab4c1ed9f694e4bb203a3abdbaa0fd3": {
      "model_module": "@jupyter-widgets/controls",
      "model_module_version": "1.1.0",
      "model_name": "SliderStyleModel",
      "state": {
       "description_width": ""
      }
     },
     "eb0ec9c13ac346aa91ac3746ea0f2334": {
      "model_module": "@jupyter-widgets/base",
      "model_module_version": "1.0.0",
      "model_name": "LayoutModel",
      "state": {}
     },
     "eb143bb09e794c04903d54d03791e173": {
      "model_module": "@jupyter-widgets/base",
      "model_module_version": "1.0.0",
      "model_name": "LayoutModel",
      "state": {}
     },
     "eb18d6e5999a412a8e39e9a91f155218": {
      "model_module": "@jupyter-widgets/controls",
      "model_module_version": "1.1.0",
      "model_name": "DropdownModel",
      "state": {
       "description": "Model Name",
       "index": null,
       "layout": "IPY_MODEL_46158d87862a4aa496463a253bd0b0b1",
       "style": "IPY_MODEL_8174252f9fb141d2ae4cec1ccc4f09a4"
      }
     },
     "eb21cbb510974716be0b58c57c65e09c": {
      "model_module": "@jupyter-widgets/base",
      "model_module_version": "1.0.0",
      "model_name": "LayoutModel",
      "state": {}
     },
     "eb3ebfb5c33843928e8371e729801d3e": {
      "model_module": "@jupyter-widgets/controls",
      "model_module_version": "1.1.0",
      "model_name": "TextModel",
      "state": {
       "description": "Query Filter",
       "layout": "IPY_MODEL_acb3fe363f53416995493ddc03fb19e0",
       "style": "IPY_MODEL_749fe709eaa3408fb2ecc38c9f04acca"
      }
     },
     "eb58937a92cd4a8f9b09115218239e53": {
      "model_module": "@jupyter-widgets/base",
      "model_module_version": "1.0.0",
      "model_name": "LayoutModel",
      "state": {
       "align_items": "stretch",
       "border": "solid 2px",
       "display": "flex",
       "flex_flow": "column",
       "overflow": "visible",
       "width": "75%"
      }
     },
     "eb810e2683344e449ab595a429662f67": {
      "model_module": "@jupyter-widgets/base",
      "model_module_version": "1.0.0",
      "model_name": "LayoutModel",
      "state": {}
     },
     "eb97c3f91d5941dfb555e4d79e3271ad": {
      "model_module": "@jupyter-widgets/controls",
      "model_module_version": "1.1.0",
      "model_name": "DescriptionStyleModel",
      "state": {
       "description_width": ""
      }
     },
     "ebe52f8d864f4c57be62cf5e9f4b6665": {
      "model_module": "@jupyter-widgets/controls",
      "model_module_version": "1.1.0",
      "model_name": "DropdownModel",
      "state": {
       "_options_labels": [
        "Curie Reference 4.1",
        "Nordic Thingy 2.1",
        "Amulet 4.1"
       ],
       "description": "HW Platform",
       "index": 1,
       "layout": "IPY_MODEL_d610c8f1e7054e8ca17fb37ece21ce2d",
       "style": "IPY_MODEL_433bedd2521c4ed2b8f4f3769fad66bc"
      }
     },
     "ebfe4dc07b1044e68c6fa4995cbbaf70": {
      "model_module": "@jupyter-widgets/controls",
      "model_module_version": "1.1.0",
      "model_name": "SliderStyleModel",
      "state": {
       "description_width": ""
      }
     },
     "ec0e3f1274f94d22a4b87bb73f0c2053": {
      "model_module": "@jupyter-widgets/controls",
      "model_module_version": "1.1.0",
      "model_name": "DropdownModel",
      "state": {
       "description": "Select Project",
       "index": null,
       "layout": "IPY_MODEL_15afd2b7a56b48eeb97490c0b858fa3d",
       "style": "IPY_MODEL_cc4492c67fcd4db5a9b9f2cd26f1d8ff"
      }
     },
     "ec2adf008a1d412abc24c94da36e2eba": {
      "model_module": "@jupyter-widgets/controls",
      "model_module_version": "1.1.0",
      "model_name": "SliderStyleModel",
      "state": {
       "description_width": ""
      }
     },
     "ec655c6bac8b43c682cdcf407bfef5da": {
      "model_module": "@jupyter-widgets/controls",
      "model_module_version": "1.1.0",
      "model_name": "ButtonModel",
      "state": {
       "description": "Create",
       "layout": "IPY_MODEL_583ae98e936247749c6be9535605078a",
       "style": "IPY_MODEL_35ff8f46652c4e0d8987771607600dd0"
      }
     },
     "ec6a67d219f841e2981d012602c6a71d": {
      "model_module": "@jupyter-widgets/base",
      "model_module_version": "1.0.0",
      "model_name": "LayoutModel",
      "state": {}
     },
     "ec909029da8145ad857d0796c57b97cc": {
      "model_module": "@jupyter-widgets/controls",
      "model_module_version": "1.1.0",
      "model_name": "ButtonStyleModel",
      "state": {}
     },
     "ec98ed9f11224299bbed3ab35253188b": {
      "model_module": "@jupyter-widgets/controls",
      "model_module_version": "1.1.0",
      "model_name": "HBoxModel",
      "state": {
       "children": [
        "IPY_MODEL_39920d3401624f40b9bc16a7117f928d",
        "IPY_MODEL_2de2a69dc81d4cad8df306ff9bf0d123",
        "IPY_MODEL_d4e85886df3a461187cc109065be4ba8"
       ],
       "layout": "IPY_MODEL_ed7aa48b84ba4f6ab3908bca1b33e4a7"
      }
     },
     "ecaf41d7bfd14fb7967552ccb3c0d156": {
      "model_module": "@jupyter-widgets/controls",
      "model_module_version": "1.1.0",
      "model_name": "DescriptionStyleModel",
      "state": {
       "description_width": ""
      }
     },
     "ecc9213d1ecb4a69815e686bc6847370": {
      "model_module": "@jupyter-widgets/controls",
      "model_module_version": "1.1.0",
      "model_name": "DropdownModel",
      "state": {
       "_options_labels": [
        "100",
        "50",
        "25"
       ],
       "description": "IMU Rate",
       "index": 0,
       "layout": "IPY_MODEL_84ca17855ee64c1b952a137f274e0e74",
       "style": "IPY_MODEL_4279bd6f90a741b3a0cc4db2d6c5640b"
      }
     },
     "ece91aaf352e4db0a0fd165f74e994ad": {
      "model_module": "@jupyter-widgets/controls",
      "model_module_version": "1.1.0",
      "model_name": "TextModel",
      "state": {
       "description": "Query Name",
       "layout": "IPY_MODEL_5eed665496d949dcb13a17b9ea04429e",
       "style": "IPY_MODEL_aeacbeb0fe584f97a9ef190d5a272253",
       "value": "ABCDEF"
      }
     },
     "ed0c2423b0634002805a1d515cb3f8a6": {
      "model_module": "@jupyter-widgets/controls",
      "model_module_version": "1.1.0",
      "model_name": "SliderStyleModel",
      "state": {
       "description_width": ""
      }
     },
     "ed16591b324e4967b88fe26f15966114": {
      "model_module": "@jupyter-widgets/base",
      "model_module_version": "1.0.0",
      "model_name": "LayoutModel",
      "state": {}
     },
     "ed1caf7303da4eceb76ec2a2cf572e00": {
      "model_module": "@jupyter-widgets/controls",
      "model_module_version": "1.1.0",
      "model_name": "DescriptionStyleModel",
      "state": {
       "description_width": ""
      }
     },
     "ed22c257a90a458889f78d00b000f9bb": {
      "model_module": "@jupyter-widgets/base",
      "model_module_version": "1.0.0",
      "model_name": "LayoutModel",
      "state": {
       "align_items": "flex-start",
       "border": "solid 2px",
       "display": "flex",
       "flex_flow": "column",
       "justify_content": "center",
       "overflow": "visible",
       "width": "25%"
      }
     },
     "ed3530042e8946c7b84d70bc3b5a3619": {
      "model_module": "@jupyter-widgets/base",
      "model_module_version": "1.0.0",
      "model_name": "LayoutModel",
      "state": {}
     },
     "ed3bca106abc48c2a7a7cea4aeee2282": {
      "model_module": "@jupyter-widgets/base",
      "model_module_version": "1.0.0",
      "model_name": "LayoutModel",
      "state": {}
     },
     "ed485aa0f44e4eda8bc9d549c440fab2": {
      "model_module": "@jupyter-widgets/controls",
      "model_module_version": "1.1.0",
      "model_name": "DropdownModel",
      "state": {
       "description": "Model Name",
       "index": null,
       "layout": "IPY_MODEL_8cff30fb5cc248d582cc91ed50042b74",
       "style": "IPY_MODEL_40a5a2faf3954316acf3129cf6e43e69"
      }
     },
     "ed7aa48b84ba4f6ab3908bca1b33e4a7": {
      "model_module": "@jupyter-widgets/base",
      "model_module_version": "1.0.0",
      "model_name": "LayoutModel",
      "state": {
       "border": "outset",
       "width": "100%"
      }
     },
     "ed9c8f5f875248fabfb291d4a66a3681": {
      "model_module": "@jupyter-widgets/base",
      "model_module_version": "1.0.0",
      "model_name": "LayoutModel",
      "state": {}
     },
     "eda5ecf89bcf461abf4a326d76d444e6": {
      "model_module": "bqplot",
      "model_module_version": "^0.3.2",
      "model_name": "FigureModel",
      "state": {
       "_dom_classes": [],
       "background_style": {
        "fill": "white"
       },
       "fig_margin": {
        "bottom": 60,
        "left": 80,
        "right": 0,
        "top": 20
       },
       "layout": "IPY_MODEL_f5590be1e5334767a5eb88e02e87848f",
       "legend_location": "bottom-right",
       "max_aspect_ratio": 6,
       "scale_x": "IPY_MODEL_63a1422719f54b00b75ca2957600a11c",
       "scale_y": "IPY_MODEL_783ecd5b91984ae0ade31c34766f3011"
      }
     },
     "edb97e0553bc4d53a71e31d9a42b765b": {
      "model_module": "@jupyter-widgets/base",
      "model_module_version": "1.0.0",
      "model_name": "LayoutModel",
      "state": {
       "min_width": "150px",
       "overflow": "visible"
      }
     },
     "edd0e9b24abb47d1ad19d8e38b3fbc63": {
      "model_module": "@jupyter-widgets/controls",
      "model_module_version": "1.1.0",
      "model_name": "DescriptionStyleModel",
      "state": {
       "description_width": ""
      }
     },
     "edd9f25745244a8fbe50f412cd572213": {
      "model_module": "@jupyter-widgets/base",
      "model_module_version": "1.0.0",
      "model_name": "LayoutModel",
      "state": {}
     },
     "edda88e539714bc893cecfb2fda226bd": {
      "model_module": "@jupyter-widgets/controls",
      "model_module_version": "1.1.0",
      "model_name": "ButtonStyleModel",
      "state": {}
     },
     "ee3cd320853248a6aab49a900a5ccfa0": {
      "model_module": "@jupyter-widgets/base",
      "model_module_version": "1.0.0",
      "model_name": "LayoutModel",
      "state": {
       "display": "flex",
       "flex_flow": "row",
       "justify_content": "space-between"
      }
     },
     "ee6915d39e0f4fa3ad0f262ed9241bf1": {
      "model_module": "@jupyter-widgets/base",
      "model_module_version": "1.0.0",
      "model_name": "LayoutModel",
      "state": {}
     },
     "ee802fd6e9b04a74a5cbade964e5067a": {
      "model_module": "@jupyter-widgets/base",
      "model_module_version": "1.0.0",
      "model_name": "LayoutModel",
      "state": {}
     },
     "ee8b3ce65d724953ac88655782839225": {
      "model_module": "@jupyter-widgets/controls",
      "model_module_version": "1.1.0",
      "model_name": "DropdownModel",
      "state": {
       "description": "Select Pipeline",
       "index": null,
       "layout": "IPY_MODEL_60ad5a494d6940fab90fe1f2b71ad951",
       "style": "IPY_MODEL_cb650343675743f1a3e3da45c0303bee"
      }
     },
     "eea05667d63246ccb12e62502d401062": {
      "model_module": "@jupyter-widgets/controls",
      "model_module_version": "1.1.0",
      "model_name": "CheckboxModel",
      "state": {
       "description": "Reset",
       "disabled": false,
       "layout": "IPY_MODEL_57616b89817b496ca3757d2601140e05",
       "style": "IPY_MODEL_28db7470d2f84135a675e1c0e449b289",
       "value": false
      }
     },
     "eeb39bf43e9a4bf2835afbdc240ef697": {
      "model_module": "@jupyter-widgets/base",
      "model_module_version": "1.0.0",
      "model_name": "LayoutModel",
      "state": {
       "justify_content": "flex-start",
       "overflow": "visible"
      }
     },
     "eeb4ea998d614716b9603ab219177c66": {
      "model_module": "bqplot",
      "model_module_version": "^0.3.2",
      "model_name": "LinearScaleModel",
      "state": {
       "allow_padding": false,
       "max": 1,
       "min": 0,
       "stabilized": false
      }
     },
     "eeb8dfdd204d4e8b9b9e923ccd23c6f0": {
      "model_module": "@jupyter-widgets/controls",
      "model_module_version": "1.1.0",
      "model_name": "DescriptionStyleModel",
      "state": {
       "description_width": ""
      }
     },
     "eeda7dc9654e46448412b71b6cea81b5": {
      "model_module": "@jupyter-widgets/controls",
      "model_module_version": "1.1.0",
      "model_name": "DescriptionStyleModel",
      "state": {
       "description_width": ""
      }
     },
     "eef4641cffc04361ba8aca94cdeb495d": {
      "model_module": "@jupyter-widgets/controls",
      "model_module_version": "1.1.0",
      "model_name": "HBoxModel",
      "state": {
       "children": [
        "IPY_MODEL_d381140d8c6a43dbaeca0277faf4d769",
        "IPY_MODEL_9886265f01cd46c29d6889c83c68a9a1",
        "IPY_MODEL_d42f9584d13348039addad97c32e866f"
       ],
       "layout": "IPY_MODEL_29b525f00dc240a5840aa0ebb1c6ba7c"
      }
     },
     "ef312197b0784c96a6b863b7628e618e": {
      "model_module": "@jupyter-widgets/controls",
      "model_module_version": "1.1.0",
      "model_name": "LabelModel",
      "state": {
       "layout": "IPY_MODEL_ad88d450d1f7422db22bdb147e71be44",
       "style": "IPY_MODEL_c2712db7df36474a8fbc9e9aee8d7921",
       "value": "Download Settings"
      }
     },
     "ef47714ed9974ac89353ccdb57075966": {
      "model_module": "@jupyter-widgets/controls",
      "model_module_version": "1.1.0",
      "model_name": "TextareaModel",
      "state": {
       "description": "Seed Description",
       "layout": "IPY_MODEL_1929da869f064584a40f07f2c3249cb3",
       "style": "IPY_MODEL_25911527f53a489eba4164cf2e8c1c4b"
      }
     },
     "ef49948c11484d168bf5d8b7e9776d24": {
      "model_module": "@jupyter-widgets/controls",
      "model_module_version": "1.1.0",
      "model_name": "SelectMultipleModel",
      "state": {
       "description": "Metadtata",
       "index": [],
       "layout": "IPY_MODEL_b40154a7bd954af081a172a927decd78",
       "rows": 5,
       "style": "IPY_MODEL_24f4c67c279e4013b40f07e3807a258e"
      }
     },
     "ef4d3d5f8ef34128bae0182efc890f34": {
      "model_module": "@jupyter-widgets/base",
      "model_module_version": "1.0.0",
      "model_name": "LayoutModel",
      "state": {
       "border": "outset",
       "width": "100%"
      }
     },
     "ef82deba7e654f17874fe35fcfada705": {
      "model_module": "@jupyter-widgets/base",
      "model_module_version": "1.0.0",
      "model_name": "LayoutModel",
      "state": {}
     },
     "efdcf2c25052421db3db0f0ad21dff85": {
      "model_module": "@jupyter-widgets/controls",
      "model_module_version": "1.1.0",
      "model_name": "DropdownModel",
      "state": {
       "_options_labels": [
        "Subject",
        "Gender",
        "Device",
        "Gesture"
       ],
       "description": "Label Column",
       "index": 3,
       "layout": "IPY_MODEL_2df1f1bb908c4ff9b8323311947f9c74",
       "style": "IPY_MODEL_d8fbcd8cffb841949a624fd1bd1f0b21"
      }
     },
     "efeb1c0ac54c4e7d9fedd6cd2b578311": {
      "model_module": "@jupyter-widgets/base",
      "model_module_version": "1.0.0",
      "model_name": "LayoutModel",
      "state": {}
     },
     "effd921e111c457c863b9892d1d15d9b": {
      "model_module": "@jupyter-widgets/base",
      "model_module_version": "1.0.0",
      "model_name": "LayoutModel",
      "state": {
       "min_width": "150px",
       "overflow": "visible"
      }
     },
     "f013ea28acd14a9a8b01a199756df763": {
      "model_module": "@jupyter-widgets/controls",
      "model_module_version": "1.1.0",
      "model_name": "ButtonStyleModel",
      "state": {}
     },
     "f0530ec107b941e188d0ff1460cc9657": {
      "model_module": "@jupyter-widgets/controls",
      "model_module_version": "1.1.0",
      "model_name": "ButtonModel",
      "state": {
       "description": "Generate Knowledgepack",
       "icon": "0",
       "layout": "IPY_MODEL_76af2cf4674e4c5390cb8a9164fb7712",
       "style": "IPY_MODEL_38742eb63da24144acbbdbba8e3c1435"
      }
     },
     "f053b1ed26bb4ffd97b3453f6090bde5": {
      "model_module": "@jupyter-widgets/controls",
      "model_module_version": "1.1.0",
      "model_name": "FloatSliderModel",
      "state": {
       "description": "Accuracy",
       "layout": "IPY_MODEL_f0da67afa7cf4bebb047306bf2f12c6b",
       "max": 1,
       "step": 0.05,
       "style": "IPY_MODEL_d5070e80d81544f0b1750d13b8a43d48",
       "value": 0.8
      }
     },
     "f0680fd112ae4191977a75e3debcf77d": {
      "model_module": "@jupyter-widgets/controls",
      "model_module_version": "1.1.0",
      "model_name": "DescriptionStyleModel",
      "state": {
       "description_width": ""
      }
     },
     "f09108adfa1d4bdd9ec8e0a2d3257369": {
      "model_module": "@jupyter-widgets/controls",
      "model_module_version": "1.1.0",
      "model_name": "LabelModel",
      "state": {
       "layout": "IPY_MODEL_eeb39bf43e9a4bf2835afbdc240ef697",
       "style": "IPY_MODEL_2ecee0f2ffd447e4ac4c45989792e8e5",
       "value": "Download Settings"
      }
     },
     "f0bab387e42e45c289b4b71d3b27f60b": {
      "model_module": "@jupyter-widgets/base",
      "model_module_version": "1.0.0",
      "model_name": "LayoutModel",
      "state": {}
     },
     "f0c0d57568bc444d8db07bcc88fd01ed": {
      "model_module": "@jupyter-widgets/controls",
      "model_module_version": "1.1.0",
      "model_name": "DescriptionStyleModel",
      "state": {
       "description_width": ""
      }
     },
     "f0d1575fa696462fa62bf14a51b08a84": {
      "model_module": "@jupyter-widgets/controls",
      "model_module_version": "1.1.0",
      "model_name": "DropdownModel",
      "state": {
       "description": "Target OS",
       "index": null,
       "layout": "IPY_MODEL_9695fd97213c4e4998fe7188984420d7",
       "style": "IPY_MODEL_cab0e95e28af4bb1a4a138c5300ce3ce"
      }
     },
     "f0da67afa7cf4bebb047306bf2f12c6b": {
      "model_module": "@jupyter-widgets/base",
      "model_module_version": "1.0.0",
      "model_name": "LayoutModel",
      "state": {}
     },
     "f10fd1c989994c0b9458a3823e552f09": {
      "model_module": "@jupyter-widgets/base",
      "model_module_version": "1.0.0",
      "model_name": "LayoutModel",
      "state": {}
     },
     "f12dc1a5473f4698b9a672d3a0031bbe": {
      "model_module": "@jupyter-widgets/controls",
      "model_module_version": "1.1.0",
      "model_name": "ButtonModel",
      "state": {
       "description": "Run Autopipeline",
       "layout": "IPY_MODEL_a9d34c5a06ee427d9a5dd40b8186a10e",
       "style": "IPY_MODEL_c78e5c662c694ccea38b25a78915a113"
      }
     },
     "f1323209050d45adb7925141eb4a00b5": {
      "model_module": "@jupyter-widgets/controls",
      "model_module_version": "1.1.0",
      "model_name": "DescriptionStyleModel",
      "state": {
       "description_width": ""
      }
     },
     "f13b1bf457564614b2131ff4c4f3eecd": {
      "model_module": "@jupyter-widgets/controls",
      "model_module_version": "1.1.0",
      "model_name": "ButtonModel",
      "state": {
       "description": "Generate Knowledgepack",
       "icon": "0",
       "layout": "IPY_MODEL_5845bff9e90a48379b589da54dc9b18a",
       "style": "IPY_MODEL_3337d41bdd6740afb2e63f8ab2f45999"
      }
     },
     "f1642ad2b98f46d88157d8b31f5a4406": {
      "model_module": "@jupyter-widgets/controls",
      "model_module_version": "1.1.0",
      "model_name": "DescriptionStyleModel",
      "state": {
       "description_width": ""
      }
     },
     "f1b69ab6ba354c708cbad55716d42bc1": {
      "model_module": "bqplot",
      "model_module_version": "^0.3.2",
      "model_name": "FigureModel",
      "state": {
       "_dom_classes": [],
       "background_style": {
        "fill": "white"
       },
       "fig_margin": {
        "bottom": 60,
        "left": 80,
        "right": 0,
        "top": 20
       },
       "layout": "IPY_MODEL_513652f109c94848b9edb38cb54be95c",
       "legend_location": "bottom-right",
       "max_aspect_ratio": 6,
       "scale_x": "IPY_MODEL_087890c08b544c60b6a9609fa958d058",
       "scale_y": "IPY_MODEL_2d554f401ad140609667ac50594974c8"
      }
     },
     "f1cc73515ea34231b8fe5720a0456d7b": {
      "model_module": "@jupyter-widgets/controls",
      "model_module_version": "1.1.0",
      "model_name": "DropdownModel",
      "state": {
       "_options_labels": [
        "New Query",
        "What",
        "ABC",
        "All Gestures",
        "Chris Query",
        "Query - ABDEG",
        "Query ABDGE",
        "Marc Segmenter",
        "AB",
        "Query All",
        "DEF",
        "ABCDEF",
        "ABDGFH"
       ],
       "description": "Select Query",
       "index": 0,
       "layout": "IPY_MODEL_07dc00d034984c9fb38f69c85cd0927f",
       "style": "IPY_MODEL_188826a7202443ca9e73e192a7a46bb7"
      }
     },
     "f22bb7d4ec71433781db88cbd22a4e1a": {
      "model_module": "@jupyter-widgets/base",
      "model_module_version": "1.0.0",
      "model_name": "LayoutModel",
      "state": {}
     },
     "f2308feb948d406fb284dbf1007d81be": {
      "model_module": "@jupyter-widgets/controls",
      "model_module_version": "1.1.0",
      "model_name": "IntSliderModel",
      "state": {
       "description": "iterations",
       "layout": "IPY_MODEL_e8cb6a6ac0e0478f88525bdcf4fd7c1d",
       "max": 15,
       "min": 1,
       "style": "IPY_MODEL_40eab8933c4c4053a92cc89a010c98a0",
       "value": 2
      }
     },
     "f238d30f688a40be8d16e2155f0724ee": {
      "model_module": "@jupyter-widgets/controls",
      "model_module_version": "1.1.0",
      "model_name": "DescriptionStyleModel",
      "state": {
       "description_width": ""
      }
     },
     "f24a33bd0c90476da9d257d167860762": {
      "model_module": "@jupyter-widgets/controls",
      "model_module_version": "1.1.0",
      "model_name": "TextareaModel",
      "state": {
       "description": "Seed Description",
       "layout": "IPY_MODEL_3d3955ad8e274fb3886327f654e904e0",
       "style": "IPY_MODEL_83f0c7af37914acd9939ed4b425844a4"
      }
     },
     "f25054e0d214450fac84c1af958da407": {
      "model_module": "@jupyter-widgets/base",
      "model_module_version": "1.0.0",
      "model_name": "LayoutModel",
      "state": {}
     },
     "f257dc14dd2640b9bcf2542944e698b6": {
      "model_module": "bqplot",
      "model_module_version": "^0.3.2",
      "model_name": "LinearScaleModel",
      "state": {
       "allow_padding": false,
       "max": 1,
       "min": 0,
       "stabilized": false
      }
     },
     "f272de2fd0ae4f6f94ccfbc664b239af": {
      "model_module": "bqplot",
      "model_module_version": "^0.3.2",
      "model_name": "LinearScaleModel",
      "state": {
       "allow_padding": false,
       "max": 1,
       "min": 0,
       "stabilized": false
      }
     },
     "f28cd48f425d42ea8ebd1566c46d54c8": {
      "model_module": "@jupyter-widgets/base",
      "model_module_version": "1.0.0",
      "model_name": "LayoutModel",
      "state": {}
     },
     "f2f006b6ce9041ad9ad372663086c58d": {
      "model_module": "@jupyter-widgets/controls",
      "model_module_version": "1.1.0",
      "model_name": "DropdownModel",
      "state": {
       "_options_labels": [
        "Binary",
        "Library"
       ],
       "description": "Download",
       "index": 0,
       "layout": "IPY_MODEL_dd899fe02c864a2d8cd66a7f46609e7c",
       "style": "IPY_MODEL_a5c4311b425443ea825e0b48313873dd"
      }
     },
     "f2f72945767c419791995ef8a2a016a6": {
      "model_module": "@jupyter-widgets/controls",
      "model_module_version": "1.1.0",
      "model_name": "DropdownModel",
      "state": {
       "_options_labels": [
        "None"
       ],
       "description": "Test Data",
       "index": 0,
       "layout": "IPY_MODEL_443d86ae6a0b47d69a1975ff25e6e67f",
       "style": "IPY_MODEL_6e8c8cf0f9b045a9a3217275343ee49b"
      }
     },
     "f2fdf90141b94caeb95f5f726e4e0b64": {
      "model_module": "@jupyter-widgets/base",
      "model_module_version": "1.0.0",
      "model_name": "LayoutModel",
      "state": {}
     },
     "f3240557cb59409d979891d4305e6b4d": {
      "model_module": "@jupyter-widgets/controls",
      "model_module_version": "1.1.0",
      "model_name": "ButtonStyleModel",
      "state": {}
     },
     "f33a36a88a45440694d17bbc3a19a443": {
      "model_module": "@jupyter-widgets/controls",
      "model_module_version": "1.1.0",
      "model_name": "DropdownModel",
      "state": {
       "_options_labels": [
        "True",
        "False"
       ],
       "description": "Debug",
       "index": 0,
       "layout": "IPY_MODEL_bbaa567c0b7d4492a20308006baf3ced",
       "style": "IPY_MODEL_701979a2928848208053ff7bcf569bb5"
      }
     },
     "f3dd95f9cfa04ffda89b8b6ec5017f64": {
      "model_module": "@jupyter-widgets/controls",
      "model_module_version": "1.1.0",
      "model_name": "DropdownModel",
      "state": {
       "_options_labels": [
        "Advanced Features",
        "Basic Features",
        "Custom",
        "Downsampled Features",
        "Histogram Features",
        "No Feature Generation"
       ],
       "description": "Name",
       "index": 0,
       "layout": "IPY_MODEL_3fd7be4f5d0545d396da26337371668e",
       "style": "IPY_MODEL_01ea4973c2004c539dfccd9915f41530"
      }
     },
     "f3f5e3864cca47e39bd12cce9d06bc3e": {
      "model_module": "@jupyter-widgets/base",
      "model_module_version": "1.0.0",
      "model_name": "LayoutModel",
      "state": {
       "min_width": "150px",
       "overflow": "visible"
      }
     },
     "f418e6dff2914af28e0e070174074f1c": {
      "model_module": "@jupyter-widgets/controls",
      "model_module_version": "1.1.0",
      "model_name": "TextModel",
      "state": {
       "description": "New Pipeline",
       "layout": "IPY_MODEL_be94cdf7776d4d4eb0bd53fa2c3aebb0",
       "style": "IPY_MODEL_682c22e824ca4f47abd400bd7247e8d1"
      }
     },
     "f430f5b39d494effa663273e40dae892": {
      "model_module": "@jupyter-widgets/controls",
      "model_module_version": "1.1.0",
      "model_name": "DescriptionStyleModel",
      "state": {
       "description_width": ""
      }
     },
     "f440c3149e7f49bcbf431577fd5cf2f3": {
      "model_module": "@jupyter-widgets/base",
      "model_module_version": "1.0.0",
      "model_name": "LayoutModel",
      "state": {}
     },
     "f44e629084cd4488a935cf435d9e5ab4": {
      "model_module": "@jupyter-widgets/base",
      "model_module_version": "1.0.0",
      "model_name": "LayoutModel",
      "state": {}
     },
     "f48ed330d32342eb86e00f3aacc75f85": {
      "model_module": "@jupyter-widgets/controls",
      "model_module_version": "1.1.0",
      "model_name": "HBoxModel",
      "state": {
       "children": [
        "IPY_MODEL_a9cacab4aa7c4347bad79d380018c62f",
        "IPY_MODEL_fe77eb7904a94cee852283e348e88d19",
        "IPY_MODEL_8f45ab37d3924fa388a7d1010dbf1827"
       ],
       "layout": "IPY_MODEL_73db0969760c4637bc61c8a54b9d4d94"
      }
     },
     "f4a015b4839e4206860833cb90cff827": {
      "model_module": "@jupyter-widgets/base",
      "model_module_version": "1.0.0",
      "model_name": "LayoutModel",
      "state": {}
     },
     "f4c3d7679d1d42a694c63e5f525b6094": {
      "model_module": "@jupyter-widgets/controls",
      "model_module_version": "1.1.0",
      "model_name": "ButtonModel",
      "state": {
       "description": "Generate Knowledgepack",
       "icon": "0",
       "layout": "IPY_MODEL_3dd620cd7ba544b298759eb042174cd0",
       "style": "IPY_MODEL_94d00ceea69444b195481cfcc13fb72f"
      }
     },
     "f4cca632a8ea470b8cce4a389cf77f23": {
      "model_module": "@jupyter-widgets/base",
      "model_module_version": "1.0.0",
      "model_name": "LayoutModel",
      "state": {}
     },
     "f4e39eb08bed48329ac57922c72ebaf5": {
      "model_module": "@jupyter-widgets/controls",
      "model_module_version": "1.1.0",
      "model_name": "FloatSliderModel",
      "state": {
       "description": "Neurons",
       "layout": "IPY_MODEL_ee6915d39e0f4fa3ad0f262ed9241bf1",
       "max": 1,
       "step": 0.05,
       "style": "IPY_MODEL_6b5ecffc78d94d38ad7b3abf30c877f4",
       "value": 0.5
      }
     },
     "f4f2038012944c1ca638cb5afadc0b0a": {
      "model_module": "@jupyter-widgets/controls",
      "model_module_version": "1.1.0",
      "model_name": "ButtonModel",
      "state": {
       "description": "Refresh",
       "icon": "0",
       "layout": "IPY_MODEL_98b4a4d469984ce5b6557e996af35f59",
       "style": "IPY_MODEL_e3ab435c3a264f40aa64cfae70bfa083"
      }
     },
     "f5117b7f36f24ad294fb9b28b2ac2e4e": {
      "model_module": "@jupyter-widgets/controls",
      "model_module_version": "1.1.0",
      "model_name": "VBoxModel",
      "state": {
       "children": [
        "IPY_MODEL_38e16681876f4e79a99d15ea88ebb4aa",
        "IPY_MODEL_64c776d076a24a489b9c5f05281a5400",
        "IPY_MODEL_5b9376b629be4d0bb08117c4753d6029",
        "IPY_MODEL_26668edf12564abebcc873cfe222123c",
        "IPY_MODEL_f2308feb948d406fb284dbf1007d81be",
        "IPY_MODEL_a8db4728bd4447c09fe071fd7945e249"
       ],
       "layout": "IPY_MODEL_77c35a8930f64deca70340ba0cc55619"
      }
     },
     "f5169bd9bcba4ac6be1224304c13faa4": {
      "model_module": "@jupyter-widgets/controls",
      "model_module_version": "1.1.0",
      "model_name": "HBoxModel",
      "state": {
       "children": [
        "IPY_MODEL_14f8e5f9e75f476887d6b9f69b57117a",
        "IPY_MODEL_254988093f9e4339b6866eb308db05c9"
       ],
       "layout": "IPY_MODEL_6f749ba85b684eebb04166460eddf864"
      }
     },
     "f521823a2f4a4b77b7e18833e66d44f5": {
      "model_module": "@jupyter-widgets/base",
      "model_module_version": "1.0.0",
      "model_name": "LayoutModel",
      "state": {}
     },
     "f5371e576c4e419f9a5f51ade661b89b": {
      "model_module": "@jupyter-widgets/controls",
      "model_module_version": "1.1.0",
      "model_name": "FloatSliderModel",
      "state": {
       "description": "Sensitivity",
       "layout": "IPY_MODEL_e5efcdfc6d7e4b4fab3a8ad06fd31923",
       "max": 1,
       "step": 0.05,
       "style": "IPY_MODEL_0aeae09f3e5d42bb9199bc927c8fd76f",
       "value": 0.8
      }
     },
     "f5590be1e5334767a5eb88e02e87848f": {
      "model_module": "@jupyter-widgets/base",
      "model_module_version": "1.0.0",
      "model_name": "LayoutModel",
      "state": {
       "min_width": "125px"
      }
     },
     "f588d7cb65fb4aa2930c2dd2bef35481": {
      "model_module": "@jupyter-widgets/base",
      "model_module_version": "1.0.0",
      "model_name": "LayoutModel",
      "state": {}
     },
     "f58edfa5910f4a24ba744ff3632bb5fd": {
      "model_module": "@jupyter-widgets/controls",
      "model_module_version": "1.1.0",
      "model_name": "SelectMultipleModel",
      "state": {
       "_options_labels": [
        "Subject",
        "Gender",
        "Device",
        "Gesture"
       ],
       "description": "Metadtata",
       "index": [
        0
       ],
       "layout": "IPY_MODEL_e967164788d3419fac6e0a3f7730d6e7",
       "rows": 5,
       "style": "IPY_MODEL_bafa863837e040dd8ef0ed1ae166c207"
      }
     },
     "f59ac1131d014852b40c79b367efc423": {
      "model_module": "@jupyter-widgets/controls",
      "model_module_version": "1.1.0",
      "model_name": "DescriptionStyleModel",
      "state": {
       "description_width": ""
      }
     },
     "f5afb28ac38a443a84afdbb9e6a0fd3e": {
      "model_module": "bqplot",
      "model_module_version": "^0.3.2",
      "model_name": "FigureModel",
      "state": {
       "_dom_classes": [],
       "background_style": {
        "fill": "white"
       },
       "fig_margin": {
        "bottom": 60,
        "left": 80,
        "right": 0,
        "top": 20
       },
       "layout": "IPY_MODEL_a4e66f541ce74b68b39615a80c17d535",
       "legend_location": "bottom-right",
       "max_aspect_ratio": 6,
       "scale_x": "IPY_MODEL_71f6b022b1004e42bba702cdb67569d2",
       "scale_y": "IPY_MODEL_036bc71925be46539db0cc81c4daef89"
      }
     },
     "f5ce92ab8e2b4df8b36f6c1c0c86204b": {
      "model_module": "@jupyter-widgets/controls",
      "model_module_version": "1.1.0",
      "model_name": "DropdownModel",
      "state": {
       "description": "Target OS",
       "index": null,
       "layout": "IPY_MODEL_197c1b50a1dc496e8b447abc9f310958",
       "style": "IPY_MODEL_14c377c26cfe4f97b21f4b444a1060d3"
      }
     },
     "f5fdbb035d804b3b8512ebba09051ceb": {
      "model_module": "@jupyter-widgets/controls",
      "model_module_version": "1.1.0",
      "model_name": "ButtonModel",
      "state": {
       "description": "Login",
       "layout": "IPY_MODEL_5e68594558a34d37a0deeec23b2a2f40",
       "style": "IPY_MODEL_4d639167cd2e4ba497f6db42f5aed31b"
      }
     },
     "f620031148b547fbb341deb4d30303ba": {
      "model_module": "@jupyter-widgets/base",
      "model_module_version": "1.0.0",
      "model_name": "LayoutModel",
      "state": {}
     },
     "f624f71e93544b4cad477940c5b20980": {
      "model_module": "@jupyter-widgets/base",
      "model_module_version": "1.0.0",
      "model_name": "LayoutModel",
      "state": {
       "min_width": "125px"
      }
     },
     "f657182429264cd182e4681804b3abd0": {
      "model_module": "@jupyter-widgets/controls",
      "model_module_version": "1.1.0",
      "model_name": "DescriptionStyleModel",
      "state": {
       "description_width": ""
      }
     },
     "f678fd7ee0dc4430b8f460756e6c60f1": {
      "model_module": "@jupyter-widgets/controls",
      "model_module_version": "1.1.0",
      "model_name": "DropdownModel",
      "state": {
       "description": "Segmenter",
       "index": null,
       "layout": "IPY_MODEL_fa39b8f3053e4282be47e846038e3409",
       "style": "IPY_MODEL_e3cbf9fc12374e36aa41f7132db0a5a2"
      }
     },
     "f69688291f0043beb8ddffc2f8551346": {
      "model_module": "@jupyter-widgets/controls",
      "model_module_version": "1.1.0",
      "model_name": "VBoxModel",
      "state": {
       "children": [
        "IPY_MODEL_14caa28d8544455dad5e08c34c135a86",
        "IPY_MODEL_9d860d39526f4b08971eb75f30b28af2"
       ],
       "layout": "IPY_MODEL_152d9cc25e5d426c9cf0a7b9dd5a606d"
      }
     },
     "f6b23054119b47a2b72dbb4b146864b2": {
      "model_module": "@jupyter-widgets/base",
      "model_module_version": "1.0.0",
      "model_name": "LayoutModel",
      "state": {}
     },
     "f6f4eaa732674e07a676a0fc44fad79a": {
      "model_module": "@jupyter-widgets/base",
      "model_module_version": "1.0.0",
      "model_name": "LayoutModel",
      "state": {}
     },
     "f72482270f8e4e51a88585bb4aa71da6": {
      "model_module": "@jupyter-widgets/controls",
      "model_module_version": "1.1.0",
      "model_name": "DropdownModel",
      "state": {
       "description": "Model Name",
       "index": null,
       "layout": "IPY_MODEL_a7d68af2bf3e489c8732c0b065b7ec1e",
       "style": "IPY_MODEL_8df9d42e0d7747b3b23d5ab853e8c747"
      }
     },
     "f72d6062456c4e29a5b9335fc9e5e668": {
      "model_module": "@jupyter-widgets/base",
      "model_module_version": "1.0.0",
      "model_name": "LayoutModel",
      "state": {}
     },
     "f79dd12042e54a049138f74cda997999": {
      "model_module": "@jupyter-widgets/controls",
      "model_module_version": "1.1.0",
      "model_name": "SliderStyleModel",
      "state": {
       "description_width": ""
      }
     },
     "f7c82551487d4f30900f97bcd8e1d009": {
      "model_module": "@jupyter-widgets/controls",
      "model_module_version": "1.1.0",
      "model_name": "DropdownModel",
      "state": {
       "_options_labels": [
        "True",
        "False"
       ],
       "description": "Debug",
       "index": 0,
       "layout": "IPY_MODEL_d4ddeae81eeb402f98a578cca39a838c",
       "style": "IPY_MODEL_0fb7ed0e71ed4ec280116e62e4aabf5f"
      }
     },
     "f81a0065265143829c29d11b1965e76a": {
      "model_module": "@jupyter-widgets/base",
      "model_module_version": "1.0.0",
      "model_name": "LayoutModel",
      "state": {}
     },
     "f88d22a914d74e36af23881db4dafe31": {
      "model_module": "@jupyter-widgets/base",
      "model_module_version": "1.0.0",
      "model_name": "LayoutModel",
      "state": {}
     },
     "f8cd44b306f349ff8362da1fa3ffe5e9": {
      "model_module": "@jupyter-widgets/base",
      "model_module_version": "1.0.0",
      "model_name": "LayoutModel",
      "state": {}
     },
     "f8e73a4c36844cfa9260a09441920b20": {
      "model_module": "@jupyter-widgets/controls",
      "model_module_version": "1.1.0",
      "model_name": "VBoxModel",
      "state": {
       "_dom_classes": [
        "widget-interact"
       ],
       "children": [
        "IPY_MODEL_759f4f152f33446082c551a3ab5a55ca",
        "IPY_MODEL_fa2f9abfcc0d472a97ef5e7383e3ee6a"
       ],
       "layout": "IPY_MODEL_7993100e8d2d40758af1d71b6931adad"
      }
     },
     "f8eac8731ef640f7b283fa0c469d2e87": {
      "model_module": "@jupyter-widgets/controls",
      "model_module_version": "1.1.0",
      "model_name": "SliderStyleModel",
      "state": {
       "description_width": ""
      }
     },
     "f8ec80e4ef5245d69d48e9e486160335": {
      "model_module": "@jupyter-widgets/controls",
      "model_module_version": "1.1.0",
      "model_name": "DropdownModel",
      "state": {
       "_options_labels": [
        "Default",
        "Windowing(100)",
        "Windowing(200)",
        "Windowing(250)"
       ],
       "description": "Segmenter",
       "index": 0,
       "layout": "IPY_MODEL_0d7d1675d37945fabf1eddedabb1a0a2",
       "style": "IPY_MODEL_dc02a0a28a8442f192c9c6f7b5c10f50"
      }
     },
     "f8f4576766574c9fab373fc000aab9b8": {
      "model_module": "@jupyter-widgets/base",
      "model_module_version": "1.0.0",
      "model_name": "LayoutModel",
      "state": {
       "border": "outset"
      }
     },
     "f8f55d141ce74d32bfc23d466d4cc44a": {
      "model_module": "@jupyter-widgets/controls",
      "model_module_version": "1.1.0",
      "model_name": "DropdownModel",
      "state": {
       "description": "HW Platform",
       "index": null,
       "layout": "IPY_MODEL_0062a9083cb243e49be4b07ff94c81d5",
       "style": "IPY_MODEL_a8031c5d2a3e47eb81395a4ebdcebb22"
      }
     },
     "f8fcf0e2d6e84f3b8f9b3af53560970d": {
      "model_module": "@jupyter-widgets/base",
      "model_module_version": "1.0.0",
      "model_name": "LayoutModel",
      "state": {}
     },
     "f92a74a5685946cbbcc61b2efe74f727": {
      "model_module": "@jupyter-widgets/base",
      "model_module_version": "1.0.0",
      "model_name": "LayoutModel",
      "state": {}
     },
     "f9404b5e2c2941d785af61f73e4859d0": {
      "model_module": "@jupyter-widgets/controls",
      "model_module_version": "1.1.0",
      "model_name": "DescriptionStyleModel",
      "state": {
       "description_width": ""
      }
     },
     "f956248c249740d3bbd84f6e72ee9b3a": {
      "model_module": "@jupyter-widgets/controls",
      "model_module_version": "1.1.0",
      "model_name": "ButtonModel",
      "state": {
       "description": "Run Autopipeline",
       "layout": "IPY_MODEL_6537995af84a461bbc8ed399651b9d49",
       "style": "IPY_MODEL_568625acf15e4a469489fc048b5e527b"
      }
     },
     "f9846e4ab9a74ed083d44a15ff94d1c9": {
      "model_module": "@jupyter-widgets/base",
      "model_module_version": "1.0.0",
      "model_name": "LayoutModel",
      "state": {}
     },
     "f98fc3e492744c03b26b61a0a262b357": {
      "model_module": "@jupyter-widgets/base",
      "model_module_version": "1.0.0",
      "model_name": "LayoutModel",
      "state": {}
     },
     "f9b3edfbf49e4854948cbae7854a7fc5": {
      "model_module": "@jupyter-widgets/controls",
      "model_module_version": "1.1.0",
      "model_name": "ButtonStyleModel",
      "state": {}
     },
     "f9c960a0da1046288e672463337354c5": {
      "model_module": "@jupyter-widgets/base",
      "model_module_version": "1.0.0",
      "model_name": "LayoutModel",
      "state": {}
     },
     "f9d95bdc05bf4d9ab22a7fbb8a6207cd": {
      "model_module": "@jupyter-widgets/controls",
      "model_module_version": "1.1.0",
      "model_name": "DescriptionStyleModel",
      "state": {
       "description_width": ""
      }
     },
     "fa01f5916d8243b9bdca0070f526e61c": {
      "model_module": "@jupyter-widgets/base",
      "model_module_version": "1.0.0",
      "model_name": "LayoutModel",
      "state": {}
     },
     "fa2f9abfcc0d472a97ef5e7383e3ee6a": {
      "model_module": "@jupyter-widgets/output",
      "model_module_version": "1.1.0",
      "model_name": "OutputModel",
      "state": {
       "_model_module_version": "1.1.0",
       "_view_module_version": "1.1.0",
       "layout": "IPY_MODEL_fd180f1fb1e54de292ace07008c723d7"
      }
     },
     "fa39b8f3053e4282be47e846038e3409": {
      "model_module": "@jupyter-widgets/base",
      "model_module_version": "1.0.0",
      "model_name": "LayoutModel",
      "state": {}
     },
     "fa3dd84d7ac6489285a6a2228b6874e4": {
      "model_module": "@jupyter-widgets/base",
      "model_module_version": "1.0.0",
      "model_name": "LayoutModel",
      "state": {}
     },
     "fa5bf8e24905412996f051a3e59d42d5": {
      "model_module": "@jupyter-widgets/base",
      "model_module_version": "1.0.0",
      "model_name": "LayoutModel",
      "state": {}
     },
     "fa8d626165a040d6b30057693257dd35": {
      "model_module": "@jupyter-widgets/base",
      "model_module_version": "1.0.0",
      "model_name": "LayoutModel",
      "state": {}
     },
     "faac1db37355405bbd15d052003c08f8": {
      "model_module": "@jupyter-widgets/controls",
      "model_module_version": "1.1.0",
      "model_name": "ButtonStyleModel",
      "state": {}
     },
     "fac4a06a40194b1e9d8a47d773af8769": {
      "model_module": "@jupyter-widgets/controls",
      "model_module_version": "1.1.0",
      "model_name": "AccordionModel",
      "state": {
       "children": [
        "IPY_MODEL_4d7e3b74ff72406fadcf236d3b5e4157"
       ],
       "layout": "IPY_MODEL_e80f62bb7bac4ebe87bbe846a637da1e"
      }
     },
     "fad750b8753747c3a5e7bdf0c27edc3d": {
      "model_module": "@jupyter-widgets/controls",
      "model_module_version": "1.1.0",
      "model_name": "VBoxModel",
      "state": {
       "children": [
        "IPY_MODEL_39cb01e590a84b2a9e5bba087ec9697a",
        "IPY_MODEL_c81933e52a5e44f4af73fa5501f705d5",
        "IPY_MODEL_3929ae3e2e23419fb13b3ca7790e963b"
       ],
       "layout": "IPY_MODEL_55a72e88503149ad89d0cf8cccc36783"
      }
     },
     "fadb44b64acc4fe8bba334ecc2278370": {
      "model_module": "@jupyter-widgets/base",
      "model_module_version": "1.0.0",
      "model_name": "LayoutModel",
      "state": {}
     },
     "fae9db2db8234bedbd20ea724df0746e": {
      "model_module": "@jupyter-widgets/base",
      "model_module_version": "1.0.0",
      "model_name": "LayoutModel",
      "state": {}
     },
     "fafa7ac6c06847b3afa60f7f0fe71689": {
      "model_module": "@jupyter-widgets/base",
      "model_module_version": "1.0.0",
      "model_name": "LayoutModel",
      "state": {
       "min_width": "150px",
       "overflow": "visible"
      }
     },
     "fb419de0a5ce4e4fa576deacb371edd7": {
      "model_module": "@jupyter-widgets/base",
      "model_module_version": "1.0.0",
      "model_name": "LayoutModel",
      "state": {}
     },
     "fb6198a9ff9e40c998da32f04cc249a5": {
      "model_module": "@jupyter-widgets/controls",
      "model_module_version": "1.1.0",
      "model_name": "DropdownModel",
      "state": {
       "description": "HW Platform",
       "index": null,
       "layout": "IPY_MODEL_aed3948581cd4634bdefcb0fb5880809",
       "style": "IPY_MODEL_2249230e8d5f4554b9321fadafd0b6e5"
      }
     },
     "fb6622a3df0a415d9a8ee61b1ec08077": {
      "model_module": "@jupyter-widgets/controls",
      "model_module_version": "1.1.0",
      "model_name": "DescriptionStyleModel",
      "state": {
       "description_width": ""
      }
     },
     "fb7b9b3a8671418e8cfbc3382d78acfc": {
      "model_module": "@jupyter-widgets/controls",
      "model_module_version": "1.1.0",
      "model_name": "DropdownModel",
      "state": {
       "_options_labels": [
        "True",
        "False"
       ],
       "description": "Debug",
       "index": 0,
       "layout": "IPY_MODEL_186a5969d1cf464bbca7f1faa5782c73",
       "style": "IPY_MODEL_8e98f870552f4ca58cc492d70261b140"
      }
     },
     "fbe7b0b319ee4ae3b93fd14edf09ef5f": {
      "model_module": "@jupyter-widgets/controls",
      "model_module_version": "1.1.0",
      "model_name": "VBoxModel",
      "state": {
       "children": [
        "IPY_MODEL_e4e936e8b2b149e382605b931d2f09ee",
        "IPY_MODEL_f7c82551487d4f30900f97bcd8e1d009",
        "IPY_MODEL_12e3cef60d8941e4bc92942e900ab25d"
       ],
       "layout": "IPY_MODEL_2fca43f9e33e41b6b9e1332ee47efcb4"
      }
     },
     "fbf07c33223d4420a95d560c2d1f9e01": {
      "model_module": "@jupyter-widgets/controls",
      "model_module_version": "1.1.0",
      "model_name": "DropdownModel",
      "state": {
       "description": "Project",
       "index": null,
       "layout": "IPY_MODEL_59802f0ac44c49b18fdf0a12cb6c00b6",
       "style": "IPY_MODEL_872f8b3a28aa456687b8093dbff30314"
      }
     },
     "fc32bea589ba4d64ad76c7c3e84539bd": {
      "model_module": "@jupyter-widgets/base",
      "model_module_version": "1.0.0",
      "model_name": "LayoutModel",
      "state": {}
     },
     "fc48a632444b492aab7ad776d981e4b3": {
      "model_module": "@jupyter-widgets/base",
      "model_module_version": "1.0.0",
      "model_name": "LayoutModel",
      "state": {}
     },
     "fc74b9149b044da2b38cd3c54812c221": {
      "model_module": "@jupyter-widgets/controls",
      "model_module_version": "1.1.0",
      "model_name": "DescriptionStyleModel",
      "state": {
       "description_width": ""
      }
     },
     "fc8f790cf42b46dd96f1927163ae8604": {
      "model_module": "@jupyter-widgets/controls",
      "model_module_version": "1.1.0",
      "model_name": "DropdownModel",
      "state": {
       "description": "Name",
       "index": null,
       "layout": "IPY_MODEL_fae9db2db8234bedbd20ea724df0746e",
       "style": "IPY_MODEL_2776428326024f51b46b558918fd402a"
      }
     },
     "fccaeef50f114544a477b5d8a4d0fe36": {
      "model_module": "@jupyter-widgets/base",
      "model_module_version": "1.0.0",
      "model_name": "LayoutModel",
      "state": {}
     },
     "fced76a1bb8442eeb95fe8372367a2b8": {
      "model_module": "@jupyter-widgets/controls",
      "model_module_version": "1.1.0",
      "model_name": "SliderStyleModel",
      "state": {
       "description_width": ""
      }
     },
     "fcf0bc59169543b488c0d4830c3d5cc9": {
      "model_module": "@jupyter-widgets/controls",
      "model_module_version": "1.1.0",
      "model_name": "DescriptionStyleModel",
      "state": {
       "description_width": ""
      }
     },
     "fcfb735491ab49579ff6a2d41ea546cb": {
      "model_module": "@jupyter-widgets/controls",
      "model_module_version": "1.1.0",
      "model_name": "HBoxModel",
      "state": {
       "children": [
        "IPY_MODEL_a34813b8139b45c78f57ee78a5ba2e47",
        "IPY_MODEL_2c3398239d404de4bc4cab5fbe04386e"
       ],
       "layout": "IPY_MODEL_230c7ca1d32a409bbdb025b6a8c966e3"
      }
     },
     "fd180f1fb1e54de292ace07008c723d7": {
      "model_module": "@jupyter-widgets/base",
      "model_module_version": "1.0.0",
      "model_name": "LayoutModel",
      "state": {}
     },
     "fd31b4342f4845ada7407ddc31c6c88f": {
      "model_module": "@jupyter-widgets/controls",
      "model_module_version": "1.1.0",
      "model_name": "LabelModel",
      "state": {
       "layout": "IPY_MODEL_0a4a9cde8ee24f9d95c951c210ed401f",
       "style": "IPY_MODEL_ff2af1f240154bb8a157e654346e2780",
       "value": "Download Settings"
      }
     },
     "fd430becffaa42519af19050d48c4697": {
      "model_module": "@jupyter-widgets/controls",
      "model_module_version": "1.1.0",
      "model_name": "DescriptionStyleModel",
      "state": {
       "description_width": ""
      }
     },
     "fd4f4f8e3e6a4aeea661c09ffc4b37f0": {
      "model_module": "@jupyter-widgets/base",
      "model_module_version": "1.0.0",
      "model_name": "LayoutModel",
      "state": {}
     },
     "fd60b3ce77324784b13e451c302a6b8d": {
      "model_module": "@jupyter-widgets/controls",
      "model_module_version": "1.1.0",
      "model_name": "ButtonModel",
      "state": {
       "description": "Add Query",
       "layout": "IPY_MODEL_ed9c8f5f875248fabfb291d4a66a3681",
       "style": "IPY_MODEL_cef1a3da31a7495d93095bcbc17f54c3"
      }
     },
     "fd8cfb0b23da4784994e1dc773cfac74": {
      "model_module": "@jupyter-widgets/base",
      "model_module_version": "1.0.0",
      "model_name": "LayoutModel",
      "state": {}
     },
     "fdcca70e4edc40c1a6574ffea42f79b3": {
      "model_module": "@jupyter-widgets/controls",
      "model_module_version": "1.1.0",
      "model_name": "TextModel",
      "state": {
       "description": "Query Filter",
       "layout": "IPY_MODEL_f88d22a914d74e36af23881db4dafe31",
       "style": "IPY_MODEL_51ed3f928f7a440cbb332db944f1d2bf"
      }
     },
     "fe041cdf7eb34e92a2340984393b3d7f": {
      "model_module": "@jupyter-widgets/base",
      "model_module_version": "1.0.0",
      "model_name": "LayoutModel",
      "state": {}
     },
     "fe0b3f13e8164d2d9bb2a359f6573a5b": {
      "model_module": "@jupyter-widgets/controls",
      "model_module_version": "1.1.0",
      "model_name": "DropdownModel",
      "state": {
       "description": "HW Platform",
       "index": null,
       "layout": "IPY_MODEL_6542c6b5824f4608a24bb122d38d7a7f",
       "style": "IPY_MODEL_051e05c4c9844598a5a0c45ecc80d34b"
      }
     },
     "fe0faca8b69e4793b315312adf8d5772": {
      "model_module": "@jupyter-widgets/controls",
      "model_module_version": "1.1.0",
      "model_name": "DropdownModel",
      "state": {
       "_options_labels": [
        "None"
       ],
       "description": "Test Data",
       "index": 0,
       "layout": "IPY_MODEL_6190c1e6510f441caa641564243de2da",
       "style": "IPY_MODEL_610384f85c2c44c58439eaf6a8c4897d"
      }
     },
     "fe28b16767aa4a58b65b5ffbe13845c3": {
      "model_module": "@jupyter-widgets/base",
      "model_module_version": "1.0.0",
      "model_name": "LayoutModel",
      "state": {}
     },
     "fe3ebf34b126460cb75f29dadf17257a": {
      "model_module": "@jupyter-widgets/controls",
      "model_module_version": "1.1.0",
      "model_name": "DropdownModel",
      "state": {
       "description": "Select Query",
       "index": null,
       "layout": "IPY_MODEL_948150f274254468909b7630dff2bf54",
       "style": "IPY_MODEL_b6df4a77bee241b5b5d073c579eefa9e"
      }
     },
     "fe5fec1e75a84fb985c4a727847a2f40": {
      "model_module": "@jupyter-widgets/controls",
      "model_module_version": "1.1.0",
      "model_name": "FloatSliderModel",
      "state": {
       "description": "Accuracy",
       "layout": "IPY_MODEL_57c726901cc84bb2a814e0255ec83316",
       "max": 1,
       "step": 0.05,
       "style": "IPY_MODEL_4b6776060cc943a69159be37282b30b5",
       "value": 0.8
      }
     },
     "fe7704763f62468097f91b096f7cb01f": {
      "model_module": "@jupyter-widgets/base",
      "model_module_version": "1.0.0",
      "model_name": "LayoutModel",
      "state": {}
     },
     "fe77eb7904a94cee852283e348e88d19": {
      "model_module": "@jupyter-widgets/controls",
      "model_module_version": "1.1.0",
      "model_name": "VBoxModel",
      "state": {
       "children": [
        "IPY_MODEL_e345ae330804416b916c9883a5a0de24",
        "IPY_MODEL_8e98d035c23b4ad1a692b57970fdbdbb",
        "IPY_MODEL_b612597e26bf4f178d12665631720209",
        "IPY_MODEL_4fce4739bd434121953564c6e2b31f2d",
        "IPY_MODEL_c09320284a044f2faea0ccc24d6c96a3",
        "IPY_MODEL_759bff4b6a504cb38fcdd6b9c2f4cf31"
       ],
       "layout": "IPY_MODEL_08c4374acfb8429dbb2ff6ac472de137"
      }
     },
     "fe7cec04cfa3495a871fc6872b781302": {
      "model_module": "@jupyter-widgets/base",
      "model_module_version": "1.0.0",
      "model_name": "LayoutModel",
      "state": {}
     },
     "fe8b4684d6af449e9e42f475dd92eded": {
      "model_module": "@jupyter-widgets/base",
      "model_module_version": "1.0.0",
      "model_name": "LayoutModel",
      "state": {
       "min_width": "125px"
      }
     },
     "fe9bcda2e1ce47a79c275723e9c03513": {
      "model_module": "@jupyter-widgets/controls",
      "model_module_version": "1.1.0",
      "model_name": "AccordionModel",
      "state": {
       "_titles": {
        "0": "AutoSense Pipeline"
       },
       "children": [
        "IPY_MODEL_bfac8c8dea58466e84a87f7a46c9f7af"
       ],
       "layout": "IPY_MODEL_c0b5a4452b1943ccb86864e4fb2bf5f0"
      }
     },
     "fe9c6166e0db4788943f139103ec080d": {
      "model_module": "@jupyter-widgets/controls",
      "model_module_version": "1.1.0",
      "model_name": "HBoxModel",
      "state": {
       "children": [
        "IPY_MODEL_8b62627587d246f99d5965404f3a2a14",
        "IPY_MODEL_8c3dd539e44f4c50b53f534764321b61",
        "IPY_MODEL_ea9e142cc2b442bd9a056109b98f8ea4"
       ],
       "layout": "IPY_MODEL_ef82deba7e654f17874fe35fcfada705"
      }
     },
     "ff0475f2d47b4402bdd86ab86aaf1b1a": {
      "model_module": "@jupyter-widgets/controls",
      "model_module_version": "1.1.0",
      "model_name": "VBoxModel",
      "state": {
       "children": [
        "IPY_MODEL_09c17e114a9a44d2a21fef6a4afd21de",
        "IPY_MODEL_e57b4c57ec8e40259a900d973cdd0035",
        "IPY_MODEL_156d75c6b87949088d563caab92bb8b0"
       ],
       "layout": "IPY_MODEL_3b9343f2da314d2e8a32f4908a26f4e7"
      }
     },
     "ff2af1f240154bb8a157e654346e2780": {
      "model_module": "@jupyter-widgets/controls",
      "model_module_version": "1.1.0",
      "model_name": "DescriptionStyleModel",
      "state": {
       "description_width": ""
      }
     },
     "ff31c40d2f6240259fcf0d0fb491ed25": {
      "model_module": "@jupyter-widgets/base",
      "model_module_version": "1.0.0",
      "model_name": "LayoutModel",
      "state": {}
     },
     "ff4d031a356f415c9fe31cd3c4767b9f": {
      "model_module": "@jupyter-widgets/controls",
      "model_module_version": "1.1.0",
      "model_name": "SliderStyleModel",
      "state": {
       "description_width": ""
      }
     },
     "ff4f8f005ef640d69834cab7614f961a": {
      "model_module": "@jupyter-widgets/controls",
      "model_module_version": "1.1.0",
      "model_name": "VBoxModel",
      "state": {
       "children": [
        "IPY_MODEL_d002394be304424a83262669d506c9f6",
        "IPY_MODEL_e2b28232990247198b94ee9448bf1c87",
        "IPY_MODEL_53c1c82f15654af8bc1cdf8241691ebc"
       ],
       "layout": "IPY_MODEL_b9168bb98107428fb29ec14b114e191f"
      }
     },
     "ff7d42dd217049fca544788e51f2c0ee": {
      "model_module": "@jupyter-widgets/controls",
      "model_module_version": "1.1.0",
      "model_name": "DescriptionStyleModel",
      "state": {
       "description_width": ""
      }
     },
     "ff95d9e58eba436581ddc115d28b7f71": {
      "model_module": "@jupyter-widgets/controls",
      "model_module_version": "1.1.0",
      "model_name": "VBoxModel",
      "state": {
       "children": [
        "IPY_MODEL_a68274d9fec94728bb8f7157065eba98",
        "IPY_MODEL_1ee482c450e54a8c9c3dd77c9d878156"
       ],
       "layout": "IPY_MODEL_a791edb6cfd545d284fd08a6d96a902f"
      }
     },
     "ff9ee3ef2cf84dd995526630c2636851": {
      "model_module": "@jupyter-widgets/base",
      "model_module_version": "1.0.0",
      "model_name": "LayoutModel",
      "state": {}
     },
     "ffd1b3b7053d4ccf9186706a98ab5304": {
      "model_module": "@jupyter-widgets/controls",
      "model_module_version": "1.1.0",
      "model_name": "DescriptionStyleModel",
      "state": {
       "description_width": ""
      }
     },
     "ffee411faaa94f4ea56751096c602012": {
      "model_module": "@jupyter-widgets/controls",
      "model_module_version": "1.1.0",
      "model_name": "ButtonModel",
      "state": {
       "description": "Generate Knowledgepack",
       "icon": "0",
       "layout": "IPY_MODEL_3c55eb7be7ad4242b2a7e915f3b24e15",
       "style": "IPY_MODEL_62f84ffc8b42434b93df1979f3ade41e"
      }
     }
    },
    "version_major": 2,
    "version_minor": 0
   }
  }
 },
 "nbformat": 4,
 "nbformat_minor": 1
}

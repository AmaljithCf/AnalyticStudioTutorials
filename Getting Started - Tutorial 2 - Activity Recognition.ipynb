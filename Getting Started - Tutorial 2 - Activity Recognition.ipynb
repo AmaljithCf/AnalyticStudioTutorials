{
 "cells": [
  {
   "cell_type": "markdown",
   "metadata": {},
   "source": [
    "#### NOTE: Before you begin this tutorial the [Upload the Activity Demo Project to SensiML Cloud](Getting%20Started%20-%20Tutorial%200%20-%20Project%20Upload.ipynb) using the Data Capture Lab"
   ]
  },
  {
   "cell_type": "markdown",
   "metadata": {},
   "source": [
    "# Getting started with Knowledge Builder\n",
    "\n",
    "In this Tutorial we are going to walk you through setting up the KnowledgeBuilder Data Science Kit, selecting data, and building a pipeline. The data you are going to use was collected from multiple subjects wearing a device with 6 sensors (Accelerometer x,y,z and Gyroscope x,y,z) and formatted using the Data Capture Lab. The goal is to build a model that is able to classify what type of activity the subjects were performing. By the end of this tutorial you should be able to query data, transform data streams into  a feature vector, train a model, and understand the quality of the model, as well as making sure the pipeline you have built will run on the hardware device. \n",
    "\n",
    "### Initialize a KB project\n",
    "\n",
    "The data for this project has already been labeled and uploaded to the Project \"Activity Case Study\". To access the data first connect to the knowledgebuilder cloud service using the data science kit. And then set the project to \"Activity Case Study.\"\n",
    "\n",
    "Note: If you are running this tutorial outside of our workshop. You will want to use the project that you create in the getting started guide using the Data Capture Lab."
   ]
  },
  {
   "cell_type": "code",
   "execution_count": 1,
   "metadata": {},
   "outputs": [],
   "source": [
    "import sys\n",
    "%matplotlib inline\n",
    "\n",
    "from sensiml import SensiML\n",
    "from sensiml.widgets import QueryWidget,  DownloadWidget\n",
    "\n",
    "dsk = SensiML()"
   ]
  },
  {
   "cell_type": "code",
   "execution_count": 2,
   "metadata": {},
   "outputs": [],
   "source": [
    "dsk.project ='Activity Demo'"
   ]
  },
  {
   "cell_type": "markdown",
   "metadata": {},
   "source": [
    "The next step is to initialize a pipeline space to work in. The work you do in the pipeline will be stored in KB Cloud so that you can share pipelines with collaborators and come back to stored work in the future. Go ahead and add a pipeline to the project using the following code snippet. \n",
    "        \n",
    "        dsk.pipeline = \"Name of your pipeline\""
   ]
  },
  {
   "cell_type": "code",
   "execution_count": 3,
   "metadata": {},
   "outputs": [],
   "source": [
    "dsk.pipeline = \"Activity Demo\""
   ]
  },
  {
   "cell_type": "markdown",
   "metadata": {},
   "source": [
    "## Part 1. Selecting the Data Set.\n",
    "\n",
    "There are two ways of selecting data to use in a pipeline. The first is through a query against project data uploaded via the Data Capture Lab (DCL). The second is by uploading a pandas dataframe/csv data file. The DSK has useful functions for manipulating data in both ways. In this tutorial we will build a query against data that was uploaded through the Data Caputre Lab.\n",
    "\n",
    "#### Query\n",
    "* query_name: What we want to name our query. This name is also how you will retrieve the query in the future. \n",
    "* columns: The data columns that you would like to include. In our case, these columns are the sensor data from the device\n",
    "        'AccelerometerZ'\n",
    "        'AccelerometerY'\n",
    "        'AccelerometerX'\n",
    "* metadata_columns: This is additional information about your data set that is useful for separating out individual datastreams. In this example we have Subject and Activity. Subject relates to the individual user. Activity provides a ground truth about what type of activity the user was performing (running, walking, etc.).\n",
    "* metadata_filter: This allows you to select a subset of the data by filtering against metadata."
   ]
  },
  {
   "cell_type": "markdown",
   "metadata": {},
   "source": [
    "You can use dsk to print the sensor columns and metadata columns that the project contains."
   ]
  },
  {
   "cell_type": "code",
   "execution_count": 4,
   "metadata": {},
   "outputs": [
    {
     "name": "stdout",
     "output_type": "stream",
     "text": [
      "[u'GyroscopeY', u'GyroscopeX', u'GyroscopeZ', u'AccelerometerY', u'AccelerometerX', u'AccelerometerZ']\n"
     ]
    }
   ],
   "source": [
    "print dsk.project.columns()"
   ]
  },
  {
   "cell_type": "code",
   "execution_count": 5,
   "metadata": {},
   "outputs": [
    {
     "name": "stdout",
     "output_type": "stream",
     "text": [
      "[u'SegmentID', u'Activity', u'Subject']\n"
     ]
    }
   ],
   "source": [
    "print dsk.project.metadata_columns()"
   ]
  },
  {
   "cell_type": "code",
   "execution_count": 6,
   "metadata": {},
   "outputs": [
    {
     "data": {
      "text/html": [
       "<div>\n",
       "<style>\n",
       "    .dataframe thead tr:only-child th {\n",
       "        text-align: right;\n",
       "    }\n",
       "\n",
       "    .dataframe thead th {\n",
       "        text-align: left;\n",
       "    }\n",
       "\n",
       "    .dataframe tbody tr th {\n",
       "        vertical-align: top;\n",
       "    }\n",
       "</style>\n",
       "<table border=\"1\" class=\"dataframe\">\n",
       "  <thead>\n",
       "    <tr style=\"text-align: right;\">\n",
       "      <th></th>\n",
       "      <th>name</th>\n",
       "      <th>id</th>\n",
       "      <th>custom</th>\n",
       "      <th>parent</th>\n",
       "    </tr>\n",
       "  </thead>\n",
       "  <tbody>\n",
       "    <tr>\n",
       "      <th>0</th>\n",
       "      <td>Manual</td>\n",
       "      <td>48</td>\n",
       "      <td>True</td>\n",
       "      <td>None</td>\n",
       "    </tr>\n",
       "  </tbody>\n",
       "</table>\n",
       "</div>"
      ],
      "text/plain": [
       "     name  id  custom parent\n",
       "0  Manual  48    True   None"
      ]
     },
     "execution_count": 6,
     "metadata": {},
     "output_type": "execute_result"
    }
   ],
   "source": [
    "dsk.list_segmenters()"
   ]
  },
  {
   "cell_type": "code",
   "execution_count": 8,
   "metadata": {},
   "outputs": [
    {
     "name": "stderr",
     "output_type": "stream",
     "text": [
      "C:\\Users\\Public\\python\\lib\\site-packages\\sensiml\\datamanager\\query.py:295: UserWarning: This call has a timeout of two minutes.\n",
      "  warnings.warn('This call has a timeout of two minutes.')\n"
     ]
    },
    {
     "data": {
      "text/html": [
       "<div>\n",
       "<style>\n",
       "    .dataframe thead tr:only-child th {\n",
       "        text-align: right;\n",
       "    }\n",
       "\n",
       "    .dataframe thead th {\n",
       "        text-align: left;\n",
       "    }\n",
       "\n",
       "    .dataframe tbody tr th {\n",
       "        vertical-align: top;\n",
       "    }\n",
       "</style>\n",
       "<table border=\"1\" class=\"dataframe\">\n",
       "  <thead>\n",
       "    <tr style=\"text-align: right;\">\n",
       "      <th></th>\n",
       "      <th>AccelerometerX</th>\n",
       "      <th>AccelerometerY</th>\n",
       "      <th>Activity</th>\n",
       "      <th>SegmentID</th>\n",
       "      <th>Subject</th>\n",
       "    </tr>\n",
       "  </thead>\n",
       "  <tbody>\n",
       "    <tr>\n",
       "      <th>0</th>\n",
       "      <td>925.0</td>\n",
       "      <td>114.0</td>\n",
       "      <td>counter-clockwise</td>\n",
       "      <td>1</td>\n",
       "      <td>U001</td>\n",
       "    </tr>\n",
       "    <tr>\n",
       "      <th>1</th>\n",
       "      <td>923.0</td>\n",
       "      <td>210.0</td>\n",
       "      <td>counter-clockwise</td>\n",
       "      <td>1</td>\n",
       "      <td>U001</td>\n",
       "    </tr>\n",
       "    <tr>\n",
       "      <th>2</th>\n",
       "      <td>923.0</td>\n",
       "      <td>254.0</td>\n",
       "      <td>counter-clockwise</td>\n",
       "      <td>1</td>\n",
       "      <td>U001</td>\n",
       "    </tr>\n",
       "    <tr>\n",
       "      <th>3</th>\n",
       "      <td>901.0</td>\n",
       "      <td>371.0</td>\n",
       "      <td>counter-clockwise</td>\n",
       "      <td>1</td>\n",
       "      <td>U001</td>\n",
       "    </tr>\n",
       "    <tr>\n",
       "      <th>4</th>\n",
       "      <td>862.0</td>\n",
       "      <td>460.0</td>\n",
       "      <td>counter-clockwise</td>\n",
       "      <td>1</td>\n",
       "      <td>U001</td>\n",
       "    </tr>\n",
       "  </tbody>\n",
       "</table>\n",
       "</div>"
      ],
      "text/plain": [
       "   AccelerometerX  AccelerometerY           Activity  SegmentID Subject\n",
       "0           925.0           114.0  counter-clockwise          1    U001\n",
       "1           923.0           210.0  counter-clockwise          1    U001\n",
       "2           923.0           254.0  counter-clockwise          1    U001\n",
       "3           901.0           371.0  counter-clockwise          1    U001\n",
       "4           862.0           460.0  counter-clockwise          1    U001"
      ]
     },
     "execution_count": 8,
     "metadata": {},
     "output_type": "execute_result"
    }
   ],
   "source": [
    "query_name = 'query_activity_demo'\n",
    "q = dsk.create_query(query_name, columns = ['AccelerometerX', 'AccelerometerY'],\n",
    "                                 metadata_columns = ['Subject'],\n",
    "                                 label_column = 'Activity',\n",
    "                                 segmenter=48,\n",
    "                                 force=True\n",
    "                                 )\n",
    "\n",
    "data, _ = q.data()\n",
    "data.head() "
   ]
  },
  {
   "cell_type": "markdown",
   "metadata": {},
   "source": [
    "The data variable that is returned is a DataFrame giving us the ability to use any pandas functions to explore our data.\n",
    "\n",
    "Note: because we are calling head() on the data, only the first few rows will be displayed."
   ]
  },
  {
   "cell_type": "markdown",
   "metadata": {},
   "source": [
    "Q. Create a query to select only data with the Label \"wrist twist\"."
   ]
  },
  {
   "cell_type": "code",
   "execution_count": 18,
   "metadata": {},
   "outputs": [
    {
     "data": {
      "text/html": [
       "<div>\n",
       "<style>\n",
       "    .dataframe thead tr:only-child th {\n",
       "        text-align: right;\n",
       "    }\n",
       "\n",
       "    .dataframe thead th {\n",
       "        text-align: left;\n",
       "    }\n",
       "\n",
       "    .dataframe tbody tr th {\n",
       "        vertical-align: top;\n",
       "    }\n",
       "</style>\n",
       "<table border=\"1\" class=\"dataframe\">\n",
       "  <thead>\n",
       "    <tr style=\"text-align: right;\">\n",
       "      <th></th>\n",
       "      <th>AccelerometerX</th>\n",
       "      <th>AccelerometerY</th>\n",
       "      <th>Activity</th>\n",
       "      <th>SegmentID</th>\n",
       "      <th>Subject</th>\n",
       "    </tr>\n",
       "  </thead>\n",
       "  <tbody>\n",
       "    <tr>\n",
       "      <th>0</th>\n",
       "      <td>1463.0</td>\n",
       "      <td>793.0</td>\n",
       "      <td>wrist twist</td>\n",
       "      <td>0</td>\n",
       "      <td>U001</td>\n",
       "    </tr>\n",
       "    <tr>\n",
       "      <th>1</th>\n",
       "      <td>1660.0</td>\n",
       "      <td>644.0</td>\n",
       "      <td>wrist twist</td>\n",
       "      <td>0</td>\n",
       "      <td>U001</td>\n",
       "    </tr>\n",
       "    <tr>\n",
       "      <th>2</th>\n",
       "      <td>1443.0</td>\n",
       "      <td>726.0</td>\n",
       "      <td>wrist twist</td>\n",
       "      <td>0</td>\n",
       "      <td>U001</td>\n",
       "    </tr>\n",
       "    <tr>\n",
       "      <th>3</th>\n",
       "      <td>1339.0</td>\n",
       "      <td>697.0</td>\n",
       "      <td>wrist twist</td>\n",
       "      <td>0</td>\n",
       "      <td>U001</td>\n",
       "    </tr>\n",
       "    <tr>\n",
       "      <th>4</th>\n",
       "      <td>1296.0</td>\n",
       "      <td>690.0</td>\n",
       "      <td>wrist twist</td>\n",
       "      <td>0</td>\n",
       "      <td>U001</td>\n",
       "    </tr>\n",
       "  </tbody>\n",
       "</table>\n",
       "</div>"
      ],
      "text/plain": [
       "   AccelerometerX  AccelerometerY     Activity  SegmentID Subject\n",
       "0          1463.0           793.0  wrist twist          0    U001\n",
       "1          1660.0           644.0  wrist twist          0    U001\n",
       "2          1443.0           726.0  wrist twist          0    U001\n",
       "3          1339.0           697.0  wrist twist          0    U001\n",
       "4          1296.0           690.0  wrist twist          0    U001"
      ]
     },
     "execution_count": 18,
     "metadata": {},
     "output_type": "execute_result"
    }
   ],
   "source": [
    "query_name = 'query_activity_wrist_twist'\n",
    "q = dsk.create_query(query_name, columns = ['AccelerometerX', 'AccelerometerY'],\n",
    "                                 metadata_columns = ['Subject'],\n",
    "                                 metadata_filter = \"[Activity] IN [wrist twist]\",\n",
    "                                 force=True,\n",
    "                                 label_column = 'Activity',\n",
    "                                 segmenter=48,\n",
    "                                 )\n",
    "\n",
    "data, _ = q.data()\n",
    "data.head() "
   ]
  },
  {
   "cell_type": "markdown",
   "metadata": {},
   "source": [
    "Q. Does the query look how you would expect? Can you verify that only the wrist twist data was returned from the query?"
   ]
  },
  {
   "cell_type": "code",
   "execution_count": 8,
   "metadata": {},
   "outputs": [
    {
     "data": {
      "text/plain": [
       "array([u'wrist twist'], dtype=object)"
      ]
     },
     "execution_count": 8,
     "metadata": {},
     "output_type": "execute_result"
    }
   ],
   "source": [
    "data.Activity.unique()"
   ]
  },
  {
   "cell_type": "markdown",
   "metadata": {},
   "source": [
    "Q. Make a plot of Sensor Data for 'AccelerometerX' for Subject 1 Wrist Twist Activity."
   ]
  },
  {
   "cell_type": "code",
   "execution_count": 9,
   "metadata": {},
   "outputs": [
    {
     "data": {
      "text/plain": [
       "<matplotlib.axes._subplots.AxesSubplot at 0x10e6fbf90>"
      ]
     },
     "execution_count": 9,
     "metadata": {},
     "output_type": "execute_result"
    },
    {
     "data": {
      "image/png": "[encoded data removed]",
      "text/plain": [
       "<matplotlib.figure.Figure at 0x10df50490>"
      ]
     },
     "metadata": {},
     "output_type": "display_data"
    }
   ],
   "source": [
    "data.AccelerometerX.plot(figsize=(14,6))"
   ]
  },
  {
   "cell_type": "markdown",
   "metadata": {},
   "source": [
    "Q. Now make one final query for all of the sensor columns to use in our pipeline"
   ]
  },
  {
   "cell_type": "code",
   "execution_count": 22,
   "metadata": {},
   "outputs": [
    {
     "data": {
      "text/html": [
       "<div>\n",
       "<style>\n",
       "    .dataframe thead tr:only-child th {\n",
       "        text-align: right;\n",
       "    }\n",
       "\n",
       "    .dataframe thead th {\n",
       "        text-align: left;\n",
       "    }\n",
       "\n",
       "    .dataframe tbody tr th {\n",
       "        vertical-align: top;\n",
       "    }\n",
       "</style>\n",
       "<table border=\"1\" class=\"dataframe\">\n",
       "  <thead>\n",
       "    <tr style=\"text-align: right;\">\n",
       "      <th></th>\n",
       "      <th>AccelerometerX</th>\n",
       "      <th>AccelerometerY</th>\n",
       "      <th>AccelerometerZ</th>\n",
       "      <th>Activity</th>\n",
       "      <th>GyroscopeX</th>\n",
       "      <th>GyroscopeY</th>\n",
       "      <th>GyroscopeZ</th>\n",
       "      <th>SegmentID</th>\n",
       "      <th>Subject</th>\n",
       "    </tr>\n",
       "  </thead>\n",
       "  <tbody>\n",
       "    <tr>\n",
       "      <th>0</th>\n",
       "      <td>925.0</td>\n",
       "      <td>114.0</td>\n",
       "      <td>1640.0</td>\n",
       "      <td>counter-clockwise</td>\n",
       "      <td>4122.0</td>\n",
       "      <td>-554.0</td>\n",
       "      <td>494.0</td>\n",
       "      <td>1</td>\n",
       "      <td>U001</td>\n",
       "    </tr>\n",
       "    <tr>\n",
       "      <th>1</th>\n",
       "      <td>923.0</td>\n",
       "      <td>210.0</td>\n",
       "      <td>1571.0</td>\n",
       "      <td>counter-clockwise</td>\n",
       "      <td>3963.0</td>\n",
       "      <td>-641.0</td>\n",
       "      <td>290.0</td>\n",
       "      <td>1</td>\n",
       "      <td>U001</td>\n",
       "    </tr>\n",
       "    <tr>\n",
       "      <th>2</th>\n",
       "      <td>923.0</td>\n",
       "      <td>254.0</td>\n",
       "      <td>1415.0</td>\n",
       "      <td>counter-clockwise</td>\n",
       "      <td>3757.0</td>\n",
       "      <td>-695.0</td>\n",
       "      <td>52.0</td>\n",
       "      <td>1</td>\n",
       "      <td>U001</td>\n",
       "    </tr>\n",
       "    <tr>\n",
       "      <th>3</th>\n",
       "      <td>901.0</td>\n",
       "      <td>371.0</td>\n",
       "      <td>1295.0</td>\n",
       "      <td>counter-clockwise</td>\n",
       "      <td>3532.0</td>\n",
       "      <td>-737.0</td>\n",
       "      <td>-225.0</td>\n",
       "      <td>1</td>\n",
       "      <td>U001</td>\n",
       "    </tr>\n",
       "    <tr>\n",
       "      <th>4</th>\n",
       "      <td>862.0</td>\n",
       "      <td>460.0</td>\n",
       "      <td>1200.0</td>\n",
       "      <td>counter-clockwise</td>\n",
       "      <td>3308.0</td>\n",
       "      <td>-828.0</td>\n",
       "      <td>-494.0</td>\n",
       "      <td>1</td>\n",
       "      <td>U001</td>\n",
       "    </tr>\n",
       "  </tbody>\n",
       "</table>\n",
       "</div>"
      ],
      "text/plain": [
       "   AccelerometerX  AccelerometerY  AccelerometerZ           Activity  \\\n",
       "0           925.0           114.0          1640.0  counter-clockwise   \n",
       "1           923.0           210.0          1571.0  counter-clockwise   \n",
       "2           923.0           254.0          1415.0  counter-clockwise   \n",
       "3           901.0           371.0          1295.0  counter-clockwise   \n",
       "4           862.0           460.0          1200.0  counter-clockwise   \n",
       "\n",
       "   GyroscopeX  GyroscopeY  GyroscopeZ  SegmentID Subject  \n",
       "0      4122.0      -554.0       494.0          1    U001  \n",
       "1      3963.0      -641.0       290.0          1    U001  \n",
       "2      3757.0      -695.0        52.0          1    U001  \n",
       "3      3532.0      -737.0      -225.0          1    U001  \n",
       "4      3308.0      -828.0      -494.0          1    U001  "
      ]
     },
     "execution_count": 22,
     "metadata": {},
     "output_type": "execute_result"
    }
   ],
   "source": [
    "query_name = 'query_activity'\n",
    "\n",
    "q = dsk.create_query(query_name, columns = ['AccelerometerX', 'AccelerometerY', 'AccelerometerZ',\n",
    "                                            'GyroscopeX', 'GyroscopeY', 'GyroscopeZ'],\n",
    "                                 metadata_columns = ['Subject'],\n",
    "                                 force=True,\n",
    "                                 label_column = 'Activity',\n",
    "                                 segmenter=48,\n",
    "                                 )\n",
    "\n",
    "data, _ = q.data()\n",
    "data.head() "
   ]
  },
  {
   "cell_type": "markdown",
   "metadata": {
    "collapsed": true
   },
   "source": [
    "# Part 2. Segmentation and Feature engineering\n",
    "\n",
    "The Second part of the pipeline involves transforming data streams into a feature vector that are then used to train a model. The features in the feature vector must be integers between 0-255. The feature vector can be any length, but in practice you will be limited by the space on the device. \n",
    "\n",
    "DSK provides a way to define a pipeline for feature vector and model building. The feature vector generation part of the pipeline can be broken down into a few different parts:\n",
    "\n",
    "* sensor transforms - these are applied to the data directly as it comes off the sensor, they can be smoothing functions, magnitude of sensor columns etc.\n",
    "* segmentation - the segmenter selects regions of interest from the streaming data. This can be an event if you are using an event detection segmenter, or simply a sliding window which buffers a segment of data and sends it to the next step.\n",
    "* segment transforms - operates on a segment of data, typically normalizes the data in some way such as demeaning to prepare for feature vector generation.\n",
    "* feature generators - These functions extract relevant feature vectors from the data streams in preparation for model building.\n",
    "* feature transforms - Feature transforms normalize all of the features in the feature vector to between between 0-255.\n",
    "* feature selectors - These functions remove features which do not help descriminate between different classes.\n",
    "\n",
    "The DSK allows you to string together a pipeline composed of these individual steps. The pipeline is sent to our servers where we can take advantage of optimizations to speed up the pipeline processing."
   ]
  },
  {
   "cell_type": "markdown",
   "metadata": {},
   "source": [
    "### Exploring the functions available on KB Cloud."
   ]
  },
  {
   "cell_type": "markdown",
   "metadata": {},
   "source": [
    "SensiML Cloud has a core functions available to use. To see a list of available functions simply do as follows: "
   ]
  },
  {
   "cell_type": "markdown",
   "metadata": {
    "collapsed": true
   },
   "source": [
    "dsk.list_functions()"
   ]
  },
  {
   "cell_type": "markdown",
   "metadata": {},
   "source": [
    "To get the documentation for any of the functions you can look at the KB documentation under core functions or use dsk.function_description(\"Function Name\")"
   ]
  },
  {
   "cell_type": "code",
   "execution_count": null,
   "metadata": {
    "collapsed": true
   },
   "outputs": [],
   "source": [
    "dsk.function_description('Magnitude')"
   ]
  },
  {
   "cell_type": "markdown",
   "metadata": {},
   "source": [
    "### Building the pipeline -  specifying the input data\n",
    "\n",
    "Using the dsk, you will add sequential steps to the pipeline. It is important to note that until you execute the pipeline, i.e., dsk.pipeline.execute(), that no work is performed on the data. In other words, adding a transform to the pipeline does not immediately act on the data. Executing the function via dsk.pipleine.execute(), initiates the pipeline execution on KB Cloud, which will then return results. Because pipelines must be added sequentially, if you get things out of order or make an error, use the reset command to start fresh.\n",
    "        \n",
    "        dsk.pipeline.reset()\n",
    "        \n",
    "\n",
    "\n",
    "The first step in the pipeline must always be the data that you are going to work with. For us this is going to be the query you created with all of the sensor data. In the line below, place the cursor at the end of the function and press tab. Use the arrow keys to select set_input_query and hit enter. Then add the query name that you created the query with as input into the function.\n",
    "    \n",
    "        dsk.pipeline.set_input_query('<the name of your query>')"
   ]
  },
  {
   "cell_type": "code",
   "execution_count": 12,
   "metadata": {
    "collapsed": true
   },
   "outputs": [],
   "source": [
    "dsk.pipeline.reset()\n",
    "dsk.pipeline.set_input_query('query_activity', label_column='Activity')"
   ]
  },
  {
   "cell_type": "markdown",
   "metadata": {},
   "source": [
    "At any point in time you can list the steps and parameters in your pipeline."
   ]
  },
  {
   "cell_type": "code",
   "execution_count": 13,
   "metadata": {},
   "outputs": [
    {
     "name": "stdout",
     "output_type": "stream",
     "text": [
      "------------------------------------------------------------------------\n",
      " 0.     Name: query_activity            \t\tType: query                    \n",
      "------------------------------------------------------------------------\n",
      "------------------------------------------------------------------------\n",
      "\n"
     ]
    }
   ],
   "source": [
    "dsk.pipeline.describe()"
   ]
  },
  {
   "cell_type": "markdown",
   "metadata": {},
   "source": [
    "If you want to see documentation about any of the kb client python functions, you can add a ? mark to the end of the file. Not all functions have documentation yet, but many of them do."
   ]
  },
  {
   "cell_type": "markdown",
   "metadata": {},
   "source": [
    "### Building the pipeline -  Adding a Transform\n",
    "\n",
    "Now that we have specified the input data, let's go ahead and add a transform to the pipeline and execute the steps we've added so far on the cloud. \n",
    "\n",
    "To add the transforms we use the dsk.pipeline.add_transform( \"function name\", params ={\"parameters to pass to function on server\"}). In the function description you will see the parameters that need to be filled in."
   ]
  },
  {
   "cell_type": "markdown",
   "metadata": {},
   "source": [
    "One transform that is often useful for normalizing data is magnitude. There are different functions availble in kb client which help you with the function syntax. One of them is dsk.function_help()"
   ]
  },
  {
   "cell_type": "code",
   "execution_count": 14,
   "metadata": {
    "collapsed": true
   },
   "outputs": [],
   "source": [
    "dsk.pipeline.add_transform?"
   ]
  },
  {
   "cell_type": "markdown",
   "metadata": {},
   "source": [
    "Note: To exit the information box, click on the small x at the top right of the box."
   ]
  },
  {
   "cell_type": "code",
   "execution_count": 15,
   "metadata": {},
   "outputs": [
    {
     "name": "stdout",
     "output_type": "stream",
     "text": [
      "dsk.pipeline.add_transform(\"Magnitude\", params={\"input_columns\": <list>})\n"
     ]
    }
   ],
   "source": [
    "dsk.function_help('Magnitude')"
   ]
  },
  {
   "cell_type": "markdown",
   "metadata": {},
   "source": [
    "### Function snippets and description\n",
    "\n",
    "You can also use dsk.snippets to autogenerate code and see what parameter values are accepted. \n",
    "\n",
    "        dsk.snippets.Transform.Magnitude()\n",
    "        \n",
    "This will replace the current cell with autogenerated code. Be careful not to execute a line like this in a pipeline cell with other data, as it will replace the entire cell, if you do this by accident you can always hit ctrl+z to undo. \n",
    "\n",
    "Go ahead and execute the cell below."
   ]
  },
  {
   "cell_type": "code",
   "execution_count": null,
   "metadata": {
    "collapsed": true
   },
   "outputs": [],
   "source": [
    "dsk.snippets.Transform.Magnitude()"
   ]
  },
  {
   "cell_type": "markdown",
   "metadata": {},
   "source": [
    "We want to take the maginute of the Gyroscope columns, so add them as an array to your input columns in the pipeline and execute the cell.\n",
    "\n"
   ]
  },
  {
   "cell_type": "code",
   "execution_count": 16,
   "metadata": {
    "collapsed": true
   },
   "outputs": [],
   "source": [
    "dsk.pipeline.add_transform(\"Magnitude\", params={\"input_columns\": ['GyroscopeX','GyroscopeY', 'GyroscopeZ']})"
   ]
  },
  {
   "cell_type": "markdown",
   "metadata": {},
   "source": [
    "you can use the following function at any time to see all of the steps and parameters that you currently have in your pipeline. "
   ]
  },
  {
   "cell_type": "code",
   "execution_count": 17,
   "metadata": {},
   "outputs": [
    {
     "name": "stdout",
     "output_type": "stream",
     "text": [
      "------------------------------------------------------------------------\n",
      " 0.     Name: query_activity            \t\tType: query                    \n",
      "------------------------------------------------------------------------\n",
      "------------------------------------------------------------------------\n",
      " 1.     Name: Magnitude                 \t\tType: transform                \n",
      "------------------------------------------------------------------------\n",
      "\n",
      "------------------------------------------------------------------------\n",
      "\n"
     ]
    }
   ],
   "source": [
    "dsk.pipeline.describe()"
   ]
  },
  {
   "cell_type": "markdown",
   "metadata": {},
   "source": [
    "### Pipeline Execution\n",
    "\n",
    "When executing the pipeline, there will always be two results returned. The first will be the actual data and the second  contains information about the pipeline execution on the server. Feel free to explore the information in the second variable. It is often very useful. "
   ]
  },
  {
   "cell_type": "code",
   "execution_count": 18,
   "metadata": {},
   "outputs": [
    {
     "name": "stdout",
     "output_type": "stream",
     "text": [
      "Executing Pipeline with Steps:\n",
      "\n",
      "------------------------------------------------------------------------\n",
      " 0.     Name: query_activity            \t\tType: query                    \n",
      "------------------------------------------------------------------------\n",
      "------------------------------------------------------------------------\n",
      " 1.     Name: Magnitude                 \t\tType: transform                \n",
      "------------------------------------------------------------------------\n",
      "------------------------------------------------------------------------\n",
      "\n",
      "\n",
      "Checking for Results:\n",
      "\n",
      "Retrieving page 1 of 1.\n",
      "\n",
      "Results Retrieved.\n"
     ]
    },
    {
     "data": {
      "text/html": [
       "<div>\n",
       "<style>\n",
       "    .dataframe thead tr:only-child th {\n",
       "        text-align: right;\n",
       "    }\n",
       "\n",
       "    .dataframe thead th {\n",
       "        text-align: left;\n",
       "    }\n",
       "\n",
       "    .dataframe tbody tr th {\n",
       "        vertical-align: top;\n",
       "    }\n",
       "</style>\n",
       "<table border=\"1\" class=\"dataframe\">\n",
       "  <thead>\n",
       "    <tr style=\"text-align: right;\">\n",
       "      <th></th>\n",
       "      <th>AccelerometerX</th>\n",
       "      <th>AccelerometerY</th>\n",
       "      <th>AccelerometerZ</th>\n",
       "      <th>Activity</th>\n",
       "      <th>GyroscopeX</th>\n",
       "      <th>GyroscopeY</th>\n",
       "      <th>GyroscopeZ</th>\n",
       "      <th>Magnitude_ST_0000</th>\n",
       "      <th>Subject</th>\n",
       "    </tr>\n",
       "  </thead>\n",
       "  <tbody>\n",
       "    <tr>\n",
       "      <th>0</th>\n",
       "      <td>925.0</td>\n",
       "      <td>114.0</td>\n",
       "      <td>1640.0</td>\n",
       "      <td>counter-clockwise</td>\n",
       "      <td>4122.0</td>\n",
       "      <td>-554.0</td>\n",
       "      <td>494.0</td>\n",
       "      <td>4188</td>\n",
       "      <td>U001</td>\n",
       "    </tr>\n",
       "    <tr>\n",
       "      <th>1</th>\n",
       "      <td>923.0</td>\n",
       "      <td>210.0</td>\n",
       "      <td>1571.0</td>\n",
       "      <td>counter-clockwise</td>\n",
       "      <td>3963.0</td>\n",
       "      <td>-641.0</td>\n",
       "      <td>290.0</td>\n",
       "      <td>4025</td>\n",
       "      <td>U001</td>\n",
       "    </tr>\n",
       "    <tr>\n",
       "      <th>2</th>\n",
       "      <td>923.0</td>\n",
       "      <td>254.0</td>\n",
       "      <td>1415.0</td>\n",
       "      <td>counter-clockwise</td>\n",
       "      <td>3757.0</td>\n",
       "      <td>-695.0</td>\n",
       "      <td>52.0</td>\n",
       "      <td>3821</td>\n",
       "      <td>U001</td>\n",
       "    </tr>\n",
       "    <tr>\n",
       "      <th>3</th>\n",
       "      <td>901.0</td>\n",
       "      <td>371.0</td>\n",
       "      <td>1295.0</td>\n",
       "      <td>counter-clockwise</td>\n",
       "      <td>3532.0</td>\n",
       "      <td>-737.0</td>\n",
       "      <td>-225.0</td>\n",
       "      <td>3615</td>\n",
       "      <td>U001</td>\n",
       "    </tr>\n",
       "    <tr>\n",
       "      <th>4</th>\n",
       "      <td>862.0</td>\n",
       "      <td>460.0</td>\n",
       "      <td>1200.0</td>\n",
       "      <td>counter-clockwise</td>\n",
       "      <td>3308.0</td>\n",
       "      <td>-828.0</td>\n",
       "      <td>-494.0</td>\n",
       "      <td>3446</td>\n",
       "      <td>U001</td>\n",
       "    </tr>\n",
       "  </tbody>\n",
       "</table>\n",
       "</div>"
      ],
      "text/plain": [
       "   AccelerometerX  AccelerometerY  AccelerometerZ           Activity  \\\n",
       "0           925.0           114.0          1640.0  counter-clockwise   \n",
       "1           923.0           210.0          1571.0  counter-clockwise   \n",
       "2           923.0           254.0          1415.0  counter-clockwise   \n",
       "3           901.0           371.0          1295.0  counter-clockwise   \n",
       "4           862.0           460.0          1200.0  counter-clockwise   \n",
       "\n",
       "   GyroscopeX  GyroscopeY  GyroscopeZ  Magnitude_ST_0000 Subject  \n",
       "0      4122.0      -554.0       494.0               4188    U001  \n",
       "1      3963.0      -641.0       290.0               4025    U001  \n",
       "2      3757.0      -695.0        52.0               3821    U001  \n",
       "3      3532.0      -737.0      -225.0               3615    U001  \n",
       "4      3308.0      -828.0      -494.0               3446    U001  "
      ]
     },
     "execution_count": 18,
     "metadata": {},
     "output_type": "execute_result"
    }
   ],
   "source": [
    "magnitude_data, stats = dsk.pipeline.execute()\n",
    "magnitude_data.head()"
   ]
  },
  {
   "cell_type": "markdown",
   "metadata": {},
   "source": [
    "Notice that an additional column is added to the dataframe - Magnitude_ST_0000. The subscripts refer to this being a sensor transform (ST) and being the first one added 0000. If you were to add another sensor transform, for example taking the magnitude of the accelerometer data as well, you would get another column Magnitude_ST_0001."
   ]
  },
  {
   "cell_type": "markdown",
   "metadata": {},
   "source": [
    "### Building the pipeline -  Performing Segmentation."
   ]
  },
  {
   "cell_type": "markdown",
   "metadata": {},
   "source": [
    "The next step is to segment our data into windows which we can perform recognition on. For the activity data we will use the Windowing Transform. Go ahead and look at the function description. Delta is the sliding window overlap. Setting delta to the same value as the window size means that there is no overlap in our segmented windows. "
   ]
  },
  {
   "cell_type": "code",
   "execution_count": 19,
   "metadata": {},
   "outputs": [
    {
     "name": "stdout",
     "output_type": "stream",
     "text": [
      "------------------------------------------------------------------------\n",
      " 0.     Name: query_activity            \t\tType: query                    \n",
      "------------------------------------------------------------------------\n",
      "------------------------------------------------------------------------\n",
      " 1.     Name: Magnitude                 \t\tType: transform                \n",
      "------------------------------------------------------------------------\n",
      "\n",
      "------------------------------------------------------------------------\n",
      " 2.     Name: Windowing                 \t\tType: segmenter                \n",
      "------------------------------------------------------------------------\n",
      "\tParam: return_segment_index: False\n",
      "\tParam: window_size: 300\n",
      "\tParam: delta: 300\n",
      "------------------------------------------------------------------------\n",
      "\n"
     ]
    }
   ],
   "source": [
    "dsk.pipeline.add_transform(\"Windowing\", params={\"window_size\": 300, \n",
    "                                                \"delta\": 300,})\n",
    "dsk.pipeline.describe(show_params=True)"
   ]
  },
  {
   "cell_type": "markdown",
   "metadata": {},
   "source": [
    "Differnt window sizes can lead to better models. For this project lets reduce the window_size and delta to 200. The actual time that the window size represents for this data set it corresponds to 2 seconds, as our data was recorded at 100HZ. Go ahead and change the values in the Windowing Segmenter and re-execute. You will see the parameters change for the windowing segmenter change, but a new step shouldn't be added."
   ]
  },
  {
   "cell_type": "code",
   "execution_count": 20,
   "metadata": {},
   "outputs": [
    {
     "name": "stdout",
     "output_type": "stream",
     "text": [
      "------------------------------------------------------------------------\n",
      " 0.     Name: query_activity            \t\tType: query                    \n",
      "------------------------------------------------------------------------\n",
      "------------------------------------------------------------------------\n",
      " 1.     Name: Magnitude                 \t\tType: transform                \n",
      "------------------------------------------------------------------------\n",
      "\n",
      "------------------------------------------------------------------------\n",
      " 2.     Name: Windowing                 \t\tType: segmenter                \n",
      "------------------------------------------------------------------------\n",
      "\tParam: return_segment_index: False\n",
      "\tParam: window_size: 200\n",
      "\tParam: delta: 200\n",
      "------------------------------------------------------------------------\n",
      "\n"
     ]
    }
   ],
   "source": [
    "dsk.pipeline.add_transform(\"Windowing\", params={\"window_size\": 200, \n",
    "                                                \"delta\": 200,})\n",
    "dsk.pipeline.describe(show_params=True)"
   ]
  },
  {
   "cell_type": "markdown",
   "metadata": {},
   "source": [
    "It is often good practice to pair a windowing segmentation algorithm with a filter. This will add a step in the pipeline that will drop segments, saving battery life on the device by ignoring segments that don't contain useful information. For this pipeline we want to use the \"MSE Filter\" transform. Go ahead and add this step to the pipeline. Use the function_description to figure out what parameters need to be filled in.\n",
    "\n",
    "Note: Where default values are defined you don't need to set them as inputs unless you would like to change them."
   ]
  },
  {
   "cell_type": "code",
   "execution_count": 21,
   "metadata": {
    "collapsed": true
   },
   "outputs": [],
   "source": [
    "dsk.pipeline.add_transform(\"MSE Filter\", params={\"input_column\": 'Magnitude_ST_0000', \n",
    "                                                \"MSE_target\": -1.0, \n",
    "                                                \"MSE_threshold\": 0.01})"
   ]
  },
  {
   "cell_type": "markdown",
   "metadata": {},
   "source": [
    "After adding the MSE filter execute the pipeline. "
   ]
  },
  {
   "cell_type": "code",
   "execution_count": 22,
   "metadata": {},
   "outputs": [
    {
     "name": "stdout",
     "output_type": "stream",
     "text": [
      "Executing Pipeline with Steps:\n",
      "\n",
      "------------------------------------------------------------------------\n",
      " 0.     Name: query_activity            \t\tType: query                    \n",
      "------------------------------------------------------------------------\n",
      "------------------------------------------------------------------------\n",
      " 1.     Name: Magnitude                 \t\tType: transform                \n",
      "------------------------------------------------------------------------\n",
      "------------------------------------------------------------------------\n",
      " 2.     Name: Windowing                 \t\tType: segmenter                \n",
      "------------------------------------------------------------------------\n",
      "------------------------------------------------------------------------\n",
      " 3.     Name: MSE Filter                \t\tType: transform                \n",
      "------------------------------------------------------------------------\n",
      "------------------------------------------------------------------------\n",
      "\n",
      "\n",
      "Checking for Results:\n",
      "\n",
      "Retrieving page 1 of 1.\n",
      "\n",
      "Results Retrieved.\n"
     ]
    }
   ],
   "source": [
    "mse_data, stats = dsk.pipeline.execute()"
   ]
  },
  {
   "cell_type": "markdown",
   "metadata": {},
   "source": [
    "### Feature Vector Generation"
   ]
  },
  {
   "cell_type": "markdown",
   "metadata": {},
   "source": [
    "At this point we are ready to generate a feature vector from our segments. Feature generators are all added into a single step and run in parallel against the same input data. We have added two feature generators from the subtype \"Statistical\". The more features, the better chance you have of building a successful model. Try adding a few more feature generators of the same subtype. "
   ]
  },
  {
   "cell_type": "code",
   "execution_count": null,
   "metadata": {
    "collapsed": true
   },
   "outputs": [],
   "source": [
    "print dsk.functions"
   ]
  },
  {
   "cell_type": "code",
   "execution_count": 23,
   "metadata": {
    "collapsed": true
   },
   "outputs": [],
   "source": [
    "dsk.pipeline.add_feature_generator([\"Mean\", 'Standard Deviation','Sum', '25th Percentile'],\n",
    "                                   function_defaults = {\"columns\":[u'Magnitude_ST_0000']})"
   ]
  },
  {
   "cell_type": "markdown",
   "metadata": {},
   "source": [
    "Next, add the Min Max Scale transform to the pipeline. This function will scale the features in the feature vector to have values between 0 and 255.  "
   ]
  },
  {
   "cell_type": "code",
   "execution_count": 24,
   "metadata": {
    "collapsed": true
   },
   "outputs": [],
   "source": [
    "dsk.pipeline.add_transform('Min Max Scale')"
   ]
  },
  {
   "cell_type": "code",
   "execution_count": 25,
   "metadata": {},
   "outputs": [
    {
     "name": "stdout",
     "output_type": "stream",
     "text": [
      "Executing Pipeline with Steps:\n",
      "\n",
      "------------------------------------------------------------------------\n",
      " 0.     Name: query_activity            \t\tType: query                    \n",
      "------------------------------------------------------------------------\n",
      "------------------------------------------------------------------------\n",
      " 1.     Name: Magnitude                 \t\tType: transform                \n",
      "------------------------------------------------------------------------\n",
      "------------------------------------------------------------------------\n",
      " 2.     Name: Windowing                 \t\tType: segmenter                \n",
      "------------------------------------------------------------------------\n",
      "------------------------------------------------------------------------\n",
      " 3.     Name: MSE Filter                \t\tType: transform                \n",
      "------------------------------------------------------------------------\n",
      "------------------------------------------------------------------------\n",
      " 4.     Name: generator_set             \t\tType: generatorset             \n",
      "------------------------------------------------------------------------\n",
      "------------------------------------------------------------------------\n",
      " 5.     Name: Min Max Scale             \t\tType: transform                \n",
      "------------------------------------------------------------------------\n",
      "------------------------------------------------------------------------\n",
      "\n",
      "\n",
      "Checking for Results:\n",
      "\n",
      "Retrieving page 1 of 1.\n",
      "\n",
      "Results Retrieved.\n"
     ]
    }
   ],
   "source": [
    "feature_vectors, stats = dsk.pipeline.execute()"
   ]
  },
  {
   "cell_type": "markdown",
   "metadata": {},
   "source": [
    "Let us take a look at the feature vectors that you have generated. We plot of the average of all feature vectors grouped by Activity. Ideally, you are looking for feature vectors that are separable in space. How do the ones you've generated look? \n"
   ]
  },
  {
   "cell_type": "code",
   "execution_count": 26,
   "metadata": {},
   "outputs": [
    {
     "data": {
      "text/plain": [
       "<matplotlib.axes._subplots.AxesSubplot at 0x10f098490>"
      ]
     },
     "execution_count": 26,
     "metadata": {},
     "output_type": "execute_result"
    },
    {
     "data": {
      "image/png": "[encoded data removed]",
      "text/plain": [
       "<matplotlib.figure.Figure at 0x10e2dbc10>"
      ]
     },
     "metadata": {},
     "output_type": "display_data"
    }
   ],
   "source": [
    "# Graph for feature vectors\n",
    "import numpy as np\n",
    "hist = feature_vectors.drop(['Subject','SegmentID'], axis=1)\n",
    "group = hist.groupby(['Activity']).apply(np.mean)\n",
    "group.transpose().plot(figsize=(16,8), lw=2)"
   ]
  },
  {
   "cell_type": "markdown",
   "metadata": {},
   "source": [
    "# Part 3. Model Building - Creating a model to put onto a device."
   ]
  },
  {
   "cell_type": "markdown",
   "metadata": {},
   "source": [
    "### Model TVO description\n",
    "\n",
    "* train_validate_optimze (tvo) : This step defines the model validation, the classifier and the training algorithm to build the model with. On KB Cloud the model is first trained using the selected training algorithm, then loaded into the hardware simulator (currently we only support pattern matching, but more algorithms will be added in the future) and tested using the specified validation method.\n",
    "\n",
    "This pipeline uses the validation method \"Stratified K-Fold Cross-Validation\". This is a standard validation method used to test the performance of a model by splitting the data into k folds, training on k-1 folds and testing against the excluded fold. Then it switches which fold is tested on, and repeats until all of the folds have been used as a test set. The average of the metrics for each model provide you with a good estimate of how a model trained on the full data set will perform.\n",
    "\n",
    "The training algorithm attempts to optimize the number of neurons and their locations in order to create the best model. We are using the training algorithm \"Hierarchical Clustering with Neuron Optimization,\" which uses a clustering algorithm to optimize neurons placement in feature space. \n",
    "\n",
    "The only classifier currently available in KB Cloud is PME. PME has two classification modes, RBF and KNN and two distance modes of calculation, L1 and LSUP. You can see the documentation for further descriptions of the classifier."
   ]
  },
  {
   "cell_type": "code",
   "execution_count": 27,
   "metadata": {
    "collapsed": true
   },
   "outputs": [],
   "source": [
    "dsk.pipeline.set_validation_method('Stratified K-Fold Cross-Validation', params={'number_of_folds':3,})\n",
    "\n",
    "dsk.pipeline.set_classifier('PVP', params={\"classification_mode\":'RBF','distance_mode':'L1'})\n",
    "\n",
    "dsk.pipeline.set_training_algorithm('Hierarchical Clustering with Neuron Optimization', params = {'number_of_neurons':5})\n",
    "\n",
    "\n",
    "dsk.pipeline.set_tvo({'validation_seed':2})"
   ]
  },
  {
   "cell_type": "markdown",
   "metadata": {},
   "source": [
    "Go ahead and execute the full pipeline now."
   ]
  },
  {
   "cell_type": "code",
   "execution_count": 28,
   "metadata": {},
   "outputs": [
    {
     "name": "stdout",
     "output_type": "stream",
     "text": [
      "Executing Pipeline with Steps:\n",
      "\n",
      "------------------------------------------------------------------------\n",
      " 0.     Name: query_activity            \t\tType: query                    \n",
      "------------------------------------------------------------------------\n",
      "------------------------------------------------------------------------\n",
      " 1.     Name: Magnitude                 \t\tType: transform                \n",
      "------------------------------------------------------------------------\n",
      "------------------------------------------------------------------------\n",
      " 2.     Name: Windowing                 \t\tType: segmenter                \n",
      "------------------------------------------------------------------------\n",
      "------------------------------------------------------------------------\n",
      " 3.     Name: MSE Filter                \t\tType: transform                \n",
      "------------------------------------------------------------------------\n",
      "------------------------------------------------------------------------\n",
      " 4.     Name: generator_set             \t\tType: generatorset             \n",
      "------------------------------------------------------------------------\n",
      "------------------------------------------------------------------------\n",
      " 5.     Name: Min Max Scale             \t\tType: transform                \n",
      "------------------------------------------------------------------------\n",
      "------------------------------------------------------------------------\n",
      " 6.     Name: tvo                       \t\tType: tvo                      \n",
      "------------------------------------------------------------------------\n",
      "\tClassifier: PVP\n",
      "\t\tParam: distance_mode: L1\n",
      "\t\tParam: classification_mode: RBF\n",
      "\n",
      "\tTraining Algo: Hierarchical Clustering with Neuron Optimization\n",
      "\t\tParam: number_of_neurons: 5\n",
      "\n",
      "\tValidation Method: Stratified K-Fold Cross-Validation\n",
      "\t\tParam: number_of_folds: 3\n",
      "\n",
      "------------------------------------------------------------------------\n",
      "\n",
      "\n",
      "Checking for Results:\n",
      "\n",
      "Retrieving page 1 of 1.\n",
      "\n",
      "Results Retrieved.\n"
     ]
    }
   ],
   "source": [
    "model_results, stats = dsk.pipeline.execute()"
   ]
  },
  {
   "cell_type": "markdown",
   "metadata": {},
   "source": [
    "The model_results object returned after a TVO step contains a wealth of information about the models that were generated and their performance. A simple view is to use the summarize function to see the performance of our model."
   ]
  },
  {
   "cell_type": "code",
   "execution_count": 29,
   "metadata": {},
   "outputs": [
    {
     "name": "stdout",
     "output_type": "stream",
     "text": [
      "TRAINING ALGORITHM: Hierarchical Clustering with Neuron Optimization\n",
      "VALIDATION METHOD:  Stratified K-Fold Cross-Validation\n",
      "CLASSIFIER:         PVP\n",
      "\n",
      "AVERAGE METRICS:\n",
      "F1-SCORE:    89.5   sigma 8.33\n",
      "SENSITIVITY: 100.0   sigma 0.00\n",
      "PRECISION:   84.8   sigma 11.84\n",
      "\n",
      "--------------------------------------\n",
      "\n",
      "STRATIFIED K-FOLD CROSS-VALIDATION MODEL RESULTS\n",
      "\n",
      "MODEL INDEX: Fold 1\n",
      "ACCURACY: 100.00\n",
      "NEURONS: 3\n",
      "\n",
      "MODEL INDEX: Fold 2\n",
      "ACCURACY: 88.89\n",
      "NEURONS: 3\n",
      "\n",
      "MODEL INDEX: Fold 0\n",
      "ACCURACY: 75.00\n",
      "NEURONS: 3\n",
      "\n"
     ]
    }
   ],
   "source": [
    "model_results.summarize()"
   ]
  },
  {
   "cell_type": "markdown",
   "metadata": {},
   "source": [
    "Let's grab the fold with the best performing model to compare with our features."
   ]
  },
  {
   "cell_type": "code",
   "execution_count": 30,
   "metadata": {
    "collapsed": true
   },
   "outputs": [],
   "source": [
    "model = model_results.configurations[0].models[0]"
   ]
  },
  {
   "cell_type": "markdown",
   "metadata": {},
   "source": [
    "The neurons are contained in model.neurons. Plot these over the feature_vector plot that you created earlier. This step is often useful for debugging."
   ]
  },
  {
   "cell_type": "code",
   "execution_count": 31,
   "metadata": {},
   "outputs": [
    {
     "data": {
      "text/plain": [
       "<matplotlib.legend.Legend at 0x10e2dbf90>"
      ]
     },
     "execution_count": 31,
     "metadata": {},
     "output_type": "execute_result"
    },
    {
     "data": {
      "image/png": "[encoded data removed]",
      "text/plain": [
       "<matplotlib.figure.Figure at 0x10ea66d10>"
      ]
     },
     "metadata": {},
     "output_type": "display_data"
    }
   ],
   "source": [
    "import matplotlib.pyplot as plt\n",
    "hist = feature_vectors.drop(['Subject','SegmentID'], axis=1)\n",
    "group = hist.groupby(['Activity']).apply(np.mean)\n",
    "group.transpose().plot(figsize=(16,8), lw=2)\n",
    "for neuron in model.neurons:\n",
    "    plt.plot(neuron['Vector'], ls='--', lw=2, label=neuron['Category'])\n",
    "plt.legend(loc='best')"
   ]
  },
  {
   "cell_type": "markdown",
   "metadata": {},
   "source": [
    "go ahead and save the best model with a name. Models that aren't saved will be lost when the cache is emptied."
   ]
  },
  {
   "cell_type": "code",
   "execution_count": 32,
   "metadata": {},
   "outputs": [
    {
     "name": "stdout",
     "output_type": "stream",
     "text": [
      "Knowledgepack name updated.\n"
     ]
    }
   ],
   "source": [
    "model.knowledgepack.save('ActivityKP2')"
   ]
  },
  {
   "cell_type": "markdown",
   "metadata": {},
   "source": [
    "# Part 4. The power of KnowledgeBuilder - KnowledgePacks \n",
    "\n",
    "The most important objective of KnowledgeBuilder is to allow users to instantly turn their models into downloadable KnowledgePacks that can be flashed to devices to perform the classification tasks. In this tutorial, we will explore the KB commands for configuring your sandbox to deliver the right binary for your use case, determine whether the code can be successfully flashed to the device (i.e., the cost budget has not been exceeded), and finally, generate the C files and download the code.\n"
   ]
  },
  {
   "cell_type": "markdown",
   "metadata": {},
   "source": [
    "### Setting the Device Configuration and Checking the budget.\n",
    "In the current release, KnowledgeBuilder supports ISPC 4.1 and Zephyr 1.5. Before downloading a KnowledgePack, you will need to specify the target device platform and version number. This ensures that the right code will be generated. The dsk lets you set this before downloading a knowledgepack."
   ]
  },
  {
   "cell_type": "code",
   "execution_count": 33,
   "metadata": {},
   "outputs": [
    {
     "name": "stdout",
     "output_type": "stream",
     "text": [
      "-----------------------------------------------------------------------------------------------------------------\n",
      "\n",
      "                                                         FLASH             SRAM          Latency            Stack\n",
      "                                                       (Bytes)          (Bytes)   (Microseconds)          (Bytes)\n",
      "-----------------------------------------------------------------------------------------------------------------\n",
      "\n",
      "There is no budget defined\n",
      "\n",
      "\n",
      "Pattern Matching Engine Costs\n",
      "-----------------------------------------------------------------------------------------------------------------\n",
      "\n",
      "Classifier 1: 3 patterns x 4 features                     1034                0                1              104\n",
      "-----------------------------------------------------------------------------------------------------------------\n",
      "\n",
      "\n",
      "\n",
      "Feature Extraction Costs\n",
      "-----------------------------------------------------------------------------------------------------------------\n",
      "\n",
      " - Magnitude (transform)                                    96                0             3600              112\n",
      " - Windowing (segmenter)                                   132                8              200              152\n",
      " - MSE Filter (transform)                                  196                0              200              172\n",
      " - generator_set (generatorset)                                                                                  \n",
      "      1 x Standard Deviation                               434                0                2              336\n",
      "      1 x Sum                                               88                0              200              188\n",
      "      1 x 25th Percentile                                  256                4                4              256\n",
      "      1 x Mean                                             162                0              0.6              232\n",
      " - Min Max Scale (transform)                               228                0             3400              176\n",
      "-----------------------------------------------------------------------------------------------------------------\n",
      "\n",
      "                Feature Extraction Subtotals:             1592               12             7606         Max: 336\n",
      "\n",
      "\n",
      "Framework Costs\n",
      "-----------------------------------------------------------------------------------------------------------------\n",
      "\n",
      "Knowledge Pack Overhead                                   2014              744           240200              108\n",
      "-----------------------------------------------------------------------------------------------------------------\n",
      "\n",
      "               Totals Excluding Sensor Costs:             4640              756           247807         Max: 336\n",
      "\n",
      "\n",
      "Sensor Costs\n",
      "-----------------------------------------------------------------------------------------------------------------\n",
      "\n",
      "Buffer Size: 200 samples x 1 sensor stream                   0              400        400000000                0\n",
      "-----------------------------------------------------------------------------------------------------------------\n",
      "\n",
      "               Totals Including Sensor Costs:             4640             1156        400247807         Max: 336\n",
      "\n",
      "Warnings:\n",
      "-----------------------------------------------------------------------------------------------------------------\n",
      "\n",
      "   None\n",
      "\n",
      "\n",
      "\n",
      "\n",
      "\n"
     ]
    }
   ],
   "source": [
    "model.knowledgepack.cost_report"
   ]
  },
  {
   "cell_type": "markdown",
   "metadata": {},
   "source": [
    "This KnowledgePack comes in well under the code size limit. If it had exceeded it, you would see an entry in the \"Warnings\" section at the end of the report. If the execution time per classification (in microseconds) is acceptable to you, this KnowledgePack is a good candidate for downloading."
   ]
  },
  {
   "cell_type": "markdown",
   "metadata": {},
   "source": [
    "### Download Knowledpack\n",
    "\n",
    "Finally, lets download our knowledpack. We have saved the knowledpack with the name ActivityKP, select that in the widget below. Then select your target platform. Specify:\n",
    " * Select Knowledpack = ActivityKP\n",
    " * Select Platofrm = < your device >\n",
    " * Debug = True\n",
    " * Test Data = None (use if you want to upload a test file to the device which will be used instead of the device sensor)\n",
    " * Donload Type = Binary\n",
    " * Application = LED"
   ]
  },
  {
   "cell_type": "code",
   "execution_count": 24,
   "metadata": {},
   "outputs": [
    {
     "name": "stdout",
     "output_type": "stream",
     "text": [
      "No featurefiles stored on KB Cloud for this project.\n"
     ]
    },
    {
     "data": {
      "application/vnd.jupyter.widget-view+json": {
       "model_id": "f0ef7f177fe2466aa42eaea9e228c8ba",
       "version_major": 2,
       "version_minor": 0
      },
      "text/html": [
       "<p>Failed to display Jupyter Widget of type <code>Box</code>.</p>\n",
       "<p>\n",
       "  If you're reading this message in the Jupyter Notebook or JupyterLab Notebook, it may mean\n",
       "  that the widgets JavaScript is still loading. If this message persists, it\n",
       "  likely means that the widgets JavaScript library is either not installed or\n",
       "  not enabled. See the <a href=\"https://ipywidgets.readthedocs.io/en/stable/user_install.html\">Jupyter\n",
       "  Widgets Documentation</a> for setup instructions.\n",
       "</p>\n",
       "<p>\n",
       "  If you're reading this message in another frontend (for example, a static\n",
       "  rendering on GitHub or <a href=\"https://nbviewer.jupyter.org/\">NBViewer</a>),\n",
       "  it may mean that your frontend doesn't currently support widgets.\n",
       "</p>\n"
      ],
      "text/plain": [
       "Box(children=(Box(children=(Label(value=u'Model Builder'),), layout=Layout(display=u'flex', flex_flow=u'row', justify_content=u'space-between')), Box(children=(Label(value=u'Select Knowledpack'), Dropdown(options=(u'ActivityKP2',), value=u'ActivityKP2')), layout=Layout(display=u'flex', flex_flow=u'row', justify_content=u'space-between')), Box(children=(Label(value=u'Select Platform'), interactive(children=(Dropdown(description=u'platform_name', options={'Curie Reference 4.1': 1, 'Nordic Thingy 2.1': 2, 'Amulet 4.1': 0}, value=1), Output()), _dom_classes=('widget-interact',))), layout=Layout(display=u'flex', flex_flow=u'row', justify_content=u'space-between')), Box(children=(Label(value=u'Platform Description'), Label(value=u'Select')), layout=Layout(display=u'flex', flex_flow=u'row', justify_content=u'space-between')), Box(children=(Label(value=u'Debug'), Dropdown(options=(True, False), value=True)), layout=Layout(display=u'flex', flex_flow=u'row', justify_content=u'space-between')), Box(children=(Label(value=u'Test Data'), Dropdown(options=(None,), value=None)), layout=Layout(display=u'flex', flex_flow=u'row', justify_content=u'space-between')), Box(children=(Label(value=u'Download Type'), Dropdown(options=('Library', 'Binary'), value='Library')), layout=Layout(display=u'flex', flex_flow=u'row', justify_content=u'space-between')), Box(children=(Label(value=u'Application'), Dropdown(options=('Default', 'LED'), value='Default')), layout=Layout(display=u'flex', flex_flow=u'row', justify_content=u'space-between')), Box(children=(Button(description=u'Download Knowledgepack', style=ButtonStyle()),), layout=Layout(display=u'flex', flex_flow=u'row', justify_content=u'flex-end'))), layout=Layout(align_items=u'stretch', border=u'solid 2px', display=u'flex', flex_flow=u'column', width=u'100%'))"
      ]
     },
     "metadata": {},
     "output_type": "display_data"
    }
   ],
   "source": [
    "kp_download = DownloadWidget(dsk)\n",
    "kp_download.create_widget()"
   ]
  }
 ],
 "metadata": {
  "anaconda-cloud": {},
  "kernelspec": {
   "display_name": "Python 2",
   "language": "python",
   "name": "python2"
  },
  "language_info": {
   "codemirror_mode": {
    "name": "ipython",
    "version": 2
   },
   "file_extension": ".py",
   "mimetype": "text/x-python",
   "name": "python",
   "nbconvert_exporter": "python",
   "pygments_lexer": "ipython2",
   "version": "2.7.14"
  }
 },
 "nbformat": 4,
 "nbformat_minor": 1
}

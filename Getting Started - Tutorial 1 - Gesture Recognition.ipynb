{
 "cells": [
  {
   "cell_type": "markdown",
   "metadata": {
    "extensions": {
     "jupyter_dashboards": {
      "version": 1,
      "views": {
       "grid_default": {
        "col": 0,
        "height": 4,
        "hidden": false,
        "row": 0,
        "width": 4
       },
       "report_default": {
        "hidden": false
       }
      }
     }
    }
   },
   "source": [
    "#### NOTE: Before you begin this tutorial the [Upload the Gesture Demo Project to SensiML Cloud](Getting%20Started%20-%20Tutorial%200%20-%20Project%20Upload.ipynb) using the Data Capture Lab"
   ]
  },
  {
   "cell_type": "markdown",
   "metadata": {
    "extensions": {
     "jupyter_dashboards": {
      "version": 1,
      "views": {
       "grid_default": {
        "col": 0,
        "height": 10,
        "hidden": false,
        "row": 4,
        "width": 12
       },
       "report_default": {
        "hidden": false
       }
      }
     }
    }
   },
   "source": [
    "#  Building a Knowledegpack for Gesture Recognition\n",
    "\n",
    "In this Tutorial we are going to walk you through setting up the **Automated Pipelines with Widgets**. \n",
    "\n",
    "The data you are going to use was collected from multiple subjects wearing a device with 6 sensors (Accelerometer x,y,z and Gyroscope x,y,z) and formatted using the Data Capture Lab. The goal is using Automated Pipelines to build a model that is able to classify what type of activity the subjects were performing. \n",
    "\n",
    "By the end of this tutorial you should be able to \n",
    "* Query data by using **query widget**\n",
    "* Create models by using **automated pipelines widget** \n",
    "* Understand the quality of the model\n",
    "* Download the binaly/library files by using ** model builder widget**  \n"
   ]
  },
  {
   "cell_type": "markdown",
   "metadata": {
    "extensions": {
     "jupyter_dashboards": {
      "version": 1,
      "views": {
       "grid_default": {
        "col": 0,
        "height": 4,
        "hidden": false,
        "row": 14,
        "width": 12
       },
       "report_default": {
        "hidden": false
       }
      }
     }
    }
   },
   "source": [
    "### Initialize a KB project\n",
    "\n",
    "The data for this project has already been labeled and uploaded to the Project \"Gesture_data_demo\". To access the data first connect to the knowledgebuilder cloud service."
   ]
  },
  {
   "cell_type": "code",
   "execution_count": 1,
   "metadata": {
    "collapsed": true,
    "extensions": {
     "jupyter_dashboards": {
      "version": 1,
      "views": {
       "grid_default": {
        "hidden": true
       },
       "report_default": {
        "hidden": true
       }
      }
     }
    }
   },
   "outputs": [],
   "source": [
    "import pandas as pd\n",
    "import numpy as np\n",
    "\n",
    "from sensiml import SensiML\n",
    "from sensiml.widgets import *\n",
    "\n",
    "\n",
    "dsk = SensiML()\n",
    "dsk.project ='Gesture Demo'"
   ]
  },
  {
   "cell_type": "markdown",
   "metadata": {
    "extensions": {
     "jupyter_dashboards": {
      "version": 1,
      "views": {
       "grid_default": {
        "col": 0,
        "height": 4,
        "hidden": false,
        "row": 18,
        "width": 12
       },
       "report_default": {
        "hidden": false
       }
      }
     }
    }
   },
   "source": [
    "### Initialize a pipeline\n",
    "\n",
    "The next step is to initialize a pipeline space to work in. The work you do in the pipeline will be stored in KB Cloud so that you can share pipelines with collaborators and come back to stored work in the future."
   ]
  },
  {
   "cell_type": "code",
   "execution_count": 2,
   "metadata": {
    "collapsed": true,
    "extensions": {
     "jupyter_dashboards": {
      "version": 1,
      "views": {
       "grid_default": {
        "hidden": true
       },
       "report_default": {
        "hidden": true
       }
      }
     }
    }
   },
   "outputs": [],
   "source": [
    "dsk.pipeline = 'Gesture Pipeline'"
   ]
  },
  {
   "cell_type": "markdown",
   "metadata": {
    "extensions": {
     "jupyter_dashboards": {
      "version": 1,
      "views": {
       "grid_default": {
        "col": 0,
        "height": 13,
        "hidden": false,
        "row": 22,
        "width": 12
       },
       "report_default": {
        "hidden": false
       }
      }
     }
    }
   },
   "source": [
    "### Query data by using query widget\n",
    "In this tutorial we will build a query against data that was uploaded through the Data Caputre Lab.\n",
    "\n",
    "#### Query\n",
    "\n",
    "* Query Name: What we want to name our query. This name is also how you will retrieve the query in the future. \n",
    "* Segmenter: Name of the segmenter used to create the segments int he DCL\n",
    "* Label Column: The column that has the gesture classifcation\n",
    "* Metadata Columns: This is additional information about your data set that is useful for separating out individual datastreams. In this example we have Gesture and Subject show up. Only select Subject as the metadata relates to the individual user.\n",
    "\n",
    "* Sensor Columns: The data columns that you would like to include. In our case, these columns are the sensor data from the device\n",
    "        'AccelerometerZ'\n",
    "        'AccelerometerY'\n",
    "        'AccelerometerX'\n",
    "* Metadata Filter: Allows you to filter out data using our query languge. Set this to \"[Gesture] IN [A,D,L,M,U]\"\n"
   ]
  },
  {
   "cell_type": "code",
   "execution_count": 3,
   "metadata": {
    "extensions": {
     "jupyter_dashboards": {
      "version": 1,
      "views": {
       "grid_default": {
        "col": 0,
        "height": 17,
        "hidden": false,
        "row": 35,
        "width": null
       },
       "report_default": {
        "hidden": false
       }
      }
     }
    }
   },
   "outputs": [
    {
     "data": {
      "application/vnd.jupyter.widget-view+json": {
       "model_id": "b8551eaaa10646d4b7cf5a60631b25ad",
       "version_major": 2,
       "version_minor": 0
      },
      "text/html": [
       "<p>Failed to display Jupyter Widget of type <code>HBox</code>.</p>\n",
       "<p>\n",
       "  If you're reading this message in the Jupyter Notebook or JupyterLab Notebook, it may mean\n",
       "  that the widgets JavaScript is still loading. If this message persists, it\n",
       "  likely means that the widgets JavaScript library is either not installed or\n",
       "  not enabled. See the <a href=\"https://ipywidgets.readthedocs.io/en/stable/user_install.html\">Jupyter\n",
       "  Widgets Documentation</a> for setup instructions.\n",
       "</p>\n",
       "<p>\n",
       "  If you're reading this message in another frontend (for example, a static\n",
       "  rendering on GitHub or <a href=\"https://nbviewer.jupyter.org/\">NBViewer</a>),\n",
       "  it may mean that your frontend doesn't currently support widgets.\n",
       "</p>\n"
      ],
      "text/plain": [
       "HBox(children=(VBox(children=(Dropdown(description=u'Select Query', options=('', u'Query New'), value=''), Text(value=u'', description=u'Query Name'), Dropdown(description=u'Segmenter', options=(u'Manual', u'Segmenter Builder 1', u'Segmenter Builder Result'), value=u'Manual'), Dropdown(description=u'Label Column', index=2, options=(u'Device', u'Subject', u'Gesture'), value=u'Gesture'), SelectMultiple(description=u'Metadtata', index=(1,), options=(u'Device', u'Subject', u'Gesture'), value=(u'Subject',)), SelectMultiple(description=u'Sources', index=(0, 1, 2, 3, 4, 5), options=(u'AccelerometerX', u'AccelerometerY', u'AccelerometerZ', u'GyroscopeX', u'GyroscopeY', u'GyroscopeZ'), value=(u'AccelerometerX', u'AccelerometerY', u'AccelerometerZ', u'GyroscopeX', u'GyroscopeY', u'GyroscopeZ')), Text(value=u'', description=u'Query Filter'), HBox(children=(Button(description=u'Add Query', style=ButtonStyle()), Button(description=u'Update Query', style=ButtonStyle()))))), Figure(background_style={'fill': 'white'}, fig_margin={'top': 20, 'left': 80, 'right': 0, 'bottom': 60}, layout=Layout(min_width=u'125px'), legend_location='bottom-right', scale_x=LinearScale(allow_padding=False, max=1.0, min=0.0), scale_y=LinearScale(allow_padding=False, max=1.0, min=0.0))))"
      ]
     },
     "metadata": {},
     "output_type": "display_data"
    },
    {
     "name": "stderr",
     "output_type": "stream",
     "text": [
      "/Users/chrisknorowski/.virtualenvs/dev2/lib/python2.7/site-packages/bqplot/traits.py:137: FutureWarning: Conversion of the second argument of issubdtype from `float` to `np.floating` is deprecated. In future, it will be treated as `np.float64 == np.dtype(float).type`.\n",
      "  if np.issubdtype(a.dtype, np.float):\n"
     ]
    }
   ],
   "source": [
    "query_widget = QueryWidget(dsk)\n",
    "query_widget.create_widget()"
   ]
  },
  {
   "cell_type": "markdown",
   "metadata": {
    "extensions": {
     "jupyter_dashboards": {
      "version": 1,
      "views": {
       "grid_default": {
        "col": 0,
        "height": 25,
        "hidden": false,
        "row": 52,
        "width": 12
       },
       "report_default": {
        "hidden": false
       }
      }
     }
    }
   },
   "source": [
    "### Create models by using automated pipelines widget\n",
    "\n",
    "Automated pipelines help you find a good set of features and pipeline parameters without having to write as much code. In order to use automation, you need to:\n",
    "1. Initialize your pipeline with a query or data file and a segmenter (Explained in previous section)\n",
    "2. Choose a pipeline seed (i.e. a template pipeline)\n",
    "\n",
    "    #### Pipeline Seeds\n",
    "    Pipeline seeds are pre-defined pipeline configurations that exist on the server that can be used to populate the functions and parameters of your DSK pipeline. So instead of piecing together your own pipeline with function calls and other code, you can use a pre-set pipeline seed to run feature generators, selectors, transforms, and model generation algorithms based on a common pattern from the database.\n",
    "\n",
    "\n",
    "##### Guidelines for Picking a Seed\n",
    "- Basic Features - choose this if:\n",
    "     - You are wondering where to start\n",
    "     - You want execution to be as quick as possible\n",
    "     - You want simple, easy-to-interpret features\n",
    "- Advanced Features - choose this if:\n",
    "     - You tried \"Basic Features\" and didn't get a good model\n",
    "     - You don't mind if execution takes a while\n",
    "     - You want the best possible features, even if they are complex \n",
    "- Downsampled Features - choose this if:\n",
    "     - You are creating a gesture recognition application\n",
    "- Histogram Features - choose this if:\n",
    "     - You are creating a motor vibration application\n",
    "- Custom Seed - choose this if:\n",
    "     - You tried the other seeds and didn't get a good model\n",
    "     - You want to build your own pipeline and use the genetic algorithm to find the best number of features, best number of neurons, and other model-related parameters\n",
    "- No Feature Generation - choose this if:\n",
    "     - You do not want to generate any features, only test the ones you have made offline (Note: resulting knowledgepacks will not have a feature extraction algorithm, so will not operate on a device; intended for testing only)\n"
   ]
  },
  {
   "cell_type": "code",
   "execution_count": 4,
   "metadata": {
    "extensions": {
     "jupyter_dashboards": {
      "version": 1,
      "views": {
       "grid_default": {
        "col": 0,
        "height": 27,
        "hidden": false,
        "row": 77,
        "width": 12
       },
       "report_default": {
        "hidden": false
       }
      }
     }
    }
   },
   "outputs": [
    {
     "data": {
      "application/vnd.jupyter.widget-view+json": {
       "model_id": "50f19c6646454c49a6d09790c5ed3aaf",
       "version_major": 2,
       "version_minor": 0
      },
      "text/html": [
       "<p>Failed to display Jupyter Widget of type <code>VBox</code>.</p>\n",
       "<p>\n",
       "  If you're reading this message in the Jupyter Notebook or JupyterLab Notebook, it may mean\n",
       "  that the widgets JavaScript is still loading. If this message persists, it\n",
       "  likely means that the widgets JavaScript library is either not installed or\n",
       "  not enabled. See the <a href=\"https://ipywidgets.readthedocs.io/en/stable/user_install.html\">Jupyter\n",
       "  Widgets Documentation</a> for setup instructions.\n",
       "</p>\n",
       "<p>\n",
       "  If you're reading this message in another frontend (for example, a static\n",
       "  rendering on GitHub or <a href=\"https://nbviewer.jupyter.org/\">NBViewer</a>),\n",
       "  it may mean that your frontend doesn't currently support widgets.\n",
       "</p>\n"
      ],
      "text/plain": [
       "VBox(children=(HBox(children=(VBox(children=(Dropdown(description=u'Select Query', options=(u'Query New',), value=u'Query New'), Dropdown(description=u'Segmenter', options=('Default', 'Windowing(100)', 'Windowing(200)', 'Windowing(250)'), value='Default'), interactive(children=(Dropdown(description=u'Name', options=(u'Advanced Features', u'Basic Features', u'Custom', u'Downsampled Features', u'Histogram Features', u'No Feature Generation'), value=u'Advanced Features'), Output()), _dom_classes=('widget-interact',)), Textarea(value=u'Generates a comprehensive set of features using statistical, energy,\\namplitude, shape, time, and rate of change feature generators. The seed\\nthen performs feature selection and model generation algorithms with\\na genetic algorithm to optimize pipeline parameters.', description=u'Seed Description'))), VBox(children=(FloatSlider(value=0.8, description=u'Accuracy', max=1.0, step=0.05), FloatSlider(value=0.8, description=u'Sensitivity', max=1.0, step=0.05), FloatSlider(value=0.5, description=u'Features', max=1.0, step=0.05), FloatSlider(value=0.5, description=u'Neurons', max=1.0, step=0.05), IntSlider(value=2, description=u'iterations', max=15, min=1), IntSlider(value=10, description=u'population size', max=50, min=10))), QgridWidget(grid_options={'fullWidthRows': True, 'rowHeight': 35, 'forceFitColumns': True, 'enableTextSelectionOnCells': True, 'editable': False, 'explicitInitialization': True, 'minVisibleRows': 5, 'autoEdit': False, 'enableColumnReorder': False, 'maxVisibleRows': 5, 'defaultColumnWidth': 15, 'syncColumnCellResize': True}, layout=Layout(width=u'300px'), precision=5))), Button(description=u'Run Autopipeline', style=ButtonStyle())))"
      ]
     },
     "metadata": {},
     "output_type": "display_data"
    },
    {
     "name": "stdout",
     "output_type": "stream",
     "text": [
      "{'reset': False, 'neurons': 0.85, 'population_size': 50, 'features': 0.85, 'iterations': 3, 'sensitivity': 0.8, 'accuracy': 0.8}\n",
      "Running Auto Pipeline with Basic Features Seed:\n",
      "\n",
      "\n",
      "Checking for Results:\n",
      "\n",
      "Pipeline Running... Run Time: 0 sec.\n",
      "....Pipeline Running... Run Time: 77 sec.\n",
      "....Pipeline Running... Run Time: 154 sec.\n",
      "....Pipeline Running... Run Time: 231 sec.\n",
      "....Pipeline Running... Run Time: 307 sec.\n",
      "....Pipeline Running... Run Time: 385 sec.\n",
      "....Pipeline Running... Run Time: 462 sec.\n",
      "....Pipeline Running... Run Time: 538 sec.\n",
      "....Pipeline Running... Run Time: 615 sec.\n",
      "....Pipeline Running... Run Time: 692 sec.\n",
      "....Pipeline Running... Run Time: 769 sec.\n",
      ".Automation Pipeline Completed. Results saved in self.results, self.summary.\n"
     ]
    }
   ],
   "source": [
    "auto_widget = AutoSenseWidget(dsk)\n",
    "auto_widget.create_widget()"
   ]
  },
  {
   "cell_type": "code",
   "execution_count": 33,
   "metadata": {
    "extensions": {
     "jupyter_dashboards": {
      "version": 1,
      "views": {
       "grid_default": {
        "col": 0,
        "height": 13,
        "hidden": false,
        "row": 104,
        "width": 12
       },
       "report_default": {
        "hidden": false
       }
      }
     }
    }
   },
   "outputs": [
    {
     "data": {
      "text/html": [
       "<div>\n",
       "<style scoped>\n",
       "    .dataframe tbody tr th:only-of-type {\n",
       "        vertical-align: middle;\n",
       "    }\n",
       "\n",
       "    .dataframe tbody tr th {\n",
       "        vertical-align: top;\n",
       "    }\n",
       "\n",
       "    .dataframe thead th {\n",
       "        text-align: right;\n",
       "    }\n",
       "</style>\n",
       "<table border=\"1\" class=\"dataframe\">\n",
       "  <thead>\n",
       "    <tr style=\"text-align: right;\">\n",
       "      <th></th>\n",
       "      <th>accuracy</th>\n",
       "      <th>best_model</th>\n",
       "      <th>f1_score</th>\n",
       "      <th>features</th>\n",
       "      <th>fitness</th>\n",
       "      <th>flash</th>\n",
       "      <th>iteration</th>\n",
       "      <th>knowledgepack</th>\n",
       "      <th>latency</th>\n",
       "      <th>neurons</th>\n",
       "      <th>pipeline</th>\n",
       "      <th>positive_predictive_rate</th>\n",
       "      <th>precision</th>\n",
       "      <th>sensitivity</th>\n",
       "      <th>specificity</th>\n",
       "      <th>sram</th>\n",
       "      <th>stack</th>\n",
       "    </tr>\n",
       "  </thead>\n",
       "  <tbody>\n",
       "    <tr>\n",
       "      <th>0</th>\n",
       "      <td>94.219653</td>\n",
       "      <td>Fold 0</td>\n",
       "      <td>95.815419</td>\n",
       "      <td>15.0</td>\n",
       "      <td>2.311960</td>\n",
       "      <td>3942.0</td>\n",
       "      <td>0</td>\n",
       "      <td>50a83695-00dd-46d3-975c-38e1d06297ef</td>\n",
       "      <td>1.856287e+08</td>\n",
       "      <td>15.0</td>\n",
       "      <td>[{\"outputs\": [\"temp.segmented\"], \"type\": \"quer...</td>\n",
       "      <td>97.121212</td>\n",
       "      <td>97.121212</td>\n",
       "      <td>94.893116</td>\n",
       "      <td>99.421772</td>\n",
       "      <td>2372.0</td>\n",
       "      <td>336.0</td>\n",
       "    </tr>\n",
       "    <tr>\n",
       "      <th>1</th>\n",
       "      <td>94.797688</td>\n",
       "      <td>Fold 0</td>\n",
       "      <td>96.729848</td>\n",
       "      <td>29.0</td>\n",
       "      <td>2.284409</td>\n",
       "      <td>5890.0</td>\n",
       "      <td>1</td>\n",
       "      <td>b1d63cf2-ae8a-4f17-a816-365a9ccb0129</td>\n",
       "      <td>1.857010e+08</td>\n",
       "      <td>15.0</td>\n",
       "      <td>[{\"outputs\": [\"temp.segmented\"], \"type\": \"quer...</td>\n",
       "      <td>98.709677</td>\n",
       "      <td>98.709677</td>\n",
       "      <td>94.855865</td>\n",
       "      <td>99.708029</td>\n",
       "      <td>2372.0</td>\n",
       "      <td>400.0</td>\n",
       "    </tr>\n",
       "    <tr>\n",
       "      <th>2</th>\n",
       "      <td>95.953757</td>\n",
       "      <td>Fold 0</td>\n",
       "      <td>97.333086</td>\n",
       "      <td>50.0</td>\n",
       "      <td>2.269592</td>\n",
       "      <td>5818.0</td>\n",
       "      <td>1</td>\n",
       "      <td>a4b3f4b2-92e8-4258-9268-579a8854bbe1</td>\n",
       "      <td>1.860628e+08</td>\n",
       "      <td>11.0</td>\n",
       "      <td>[{\"outputs\": [\"temp.segmented\"], \"type\": \"quer...</td>\n",
       "      <td>98.799283</td>\n",
       "      <td>98.799283</td>\n",
       "      <td>95.924481</td>\n",
       "      <td>99.702499</td>\n",
       "      <td>2372.0</td>\n",
       "      <td>400.0</td>\n",
       "    </tr>\n",
       "    <tr>\n",
       "      <th>3</th>\n",
       "      <td>90.751445</td>\n",
       "      <td>Fold 0</td>\n",
       "      <td>94.995126</td>\n",
       "      <td>12.0</td>\n",
       "      <td>2.243636</td>\n",
       "      <td>4822.0</td>\n",
       "      <td>1</td>\n",
       "      <td>385f4831-716e-4b50-aaac-d163acf61ac7</td>\n",
       "      <td>1.856866e+08</td>\n",
       "      <td>19.0</td>\n",
       "      <td>[{\"outputs\": [\"temp.segmented\"], \"type\": \"quer...</td>\n",
       "      <td>99.310345</td>\n",
       "      <td>99.310345</td>\n",
       "      <td>91.324396</td>\n",
       "      <td>99.846154</td>\n",
       "      <td>2372.0</td>\n",
       "      <td>400.0</td>\n",
       "    </tr>\n",
       "    <tr>\n",
       "      <th>4</th>\n",
       "      <td>90.751445</td>\n",
       "      <td>Fold 0</td>\n",
       "      <td>94.123741</td>\n",
       "      <td>18.0</td>\n",
       "      <td>2.238142</td>\n",
       "      <td>3942.0</td>\n",
       "      <td>0</td>\n",
       "      <td>5404facf-ce09-4149-ad85-81be3abfed26</td>\n",
       "      <td>1.856287e+08</td>\n",
       "      <td>17.0</td>\n",
       "      <td>[{\"outputs\": [\"temp.segmented\"], \"type\": \"quer...</td>\n",
       "      <td>97.191377</td>\n",
       "      <td>97.191377</td>\n",
       "      <td>91.439529</td>\n",
       "      <td>99.202399</td>\n",
       "      <td>2372.0</td>\n",
       "      <td>336.0</td>\n",
       "    </tr>\n",
       "  </tbody>\n",
       "</table>\n",
       "</div>"
      ],
      "text/plain": [
       "    accuracy best_model   f1_score  features   fitness   flash  iteration  \\\n",
       "0  94.219653     Fold 0  95.815419      15.0  2.311960  3942.0          0   \n",
       "1  94.797688     Fold 0  96.729848      29.0  2.284409  5890.0          1   \n",
       "2  95.953757     Fold 0  97.333086      50.0  2.269592  5818.0          1   \n",
       "3  90.751445     Fold 0  94.995126      12.0  2.243636  4822.0          1   \n",
       "4  90.751445     Fold 0  94.123741      18.0  2.238142  3942.0          0   \n",
       "\n",
       "                          knowledgepack       latency  neurons  \\\n",
       "0  50a83695-00dd-46d3-975c-38e1d06297ef  1.856287e+08     15.0   \n",
       "1  b1d63cf2-ae8a-4f17-a816-365a9ccb0129  1.857010e+08     15.0   \n",
       "2  a4b3f4b2-92e8-4258-9268-579a8854bbe1  1.860628e+08     11.0   \n",
       "3  385f4831-716e-4b50-aaac-d163acf61ac7  1.856866e+08     19.0   \n",
       "4  5404facf-ce09-4149-ad85-81be3abfed26  1.856287e+08     17.0   \n",
       "\n",
       "                                            pipeline  \\\n",
       "0  [{\"outputs\": [\"temp.segmented\"], \"type\": \"quer...   \n",
       "1  [{\"outputs\": [\"temp.segmented\"], \"type\": \"quer...   \n",
       "2  [{\"outputs\": [\"temp.segmented\"], \"type\": \"quer...   \n",
       "3  [{\"outputs\": [\"temp.segmented\"], \"type\": \"quer...   \n",
       "4  [{\"outputs\": [\"temp.segmented\"], \"type\": \"quer...   \n",
       "\n",
       "   positive_predictive_rate  precision  sensitivity  specificity    sram  \\\n",
       "0                 97.121212  97.121212    94.893116    99.421772  2372.0   \n",
       "1                 98.709677  98.709677    94.855865    99.708029  2372.0   \n",
       "2                 98.799283  98.799283    95.924481    99.702499  2372.0   \n",
       "3                 99.310345  99.310345    91.324396    99.846154  2372.0   \n",
       "4                 97.191377  97.191377    91.439529    99.202399  2372.0   \n",
       "\n",
       "   stack  \n",
       "0  336.0  \n",
       "1  400.0  \n",
       "2  400.0  \n",
       "3  400.0  \n",
       "4  336.0  "
      ]
     },
     "execution_count": 33,
     "metadata": {},
     "output_type": "execute_result"
    }
   ],
   "source": [
    "auto_widget.summary['fitness_summary'].head()"
   ]
  },
  {
   "cell_type": "code",
   "execution_count": 17,
   "metadata": {
    "extensions": {
     "jupyter_dashboards": {
      "version": 1,
      "views": {
       "grid_default": {
        "col": 0,
        "height": 16,
        "hidden": false,
        "row": 117,
        "width": 4
       },
       "report_default": {
        "hidden": false
       }
      }
     }
    }
   },
   "outputs": [
    {
     "data": {
      "text/html": [
       "<div>\n",
       "<style scoped>\n",
       "    .dataframe tbody tr th:only-of-type {\n",
       "        vertical-align: middle;\n",
       "    }\n",
       "\n",
       "    .dataframe tbody tr th {\n",
       "        vertical-align: top;\n",
       "    }\n",
       "\n",
       "    .dataframe thead th {\n",
       "        text-align: right;\n",
       "    }\n",
       "</style>\n",
       "<table border=\"1\" class=\"dataframe\">\n",
       "  <thead>\n",
       "    <tr style=\"text-align: right;\">\n",
       "      <th></th>\n",
       "      <th>Name</th>\n",
       "      <th>Project</th>\n",
       "      <th>Pipeline</th>\n",
       "      <th>kp_uuid</th>\n",
       "    </tr>\n",
       "  </thead>\n",
       "  <tbody>\n",
       "    <tr>\n",
       "      <th>0</th>\n",
       "      <td>Gesture Pipeline_rank_3</td>\n",
       "      <td>Gesture Demo</td>\n",
       "      <td>Gesture Pipeline</td>\n",
       "      <td>385f4831-716e-4b50-aaac-d163acf61ac7</td>\n",
       "    </tr>\n",
       "    <tr>\n",
       "      <th>1</th>\n",
       "      <td>Gesture Pipeline_rank_2</td>\n",
       "      <td>Gesture Demo</td>\n",
       "      <td>Gesture Pipeline</td>\n",
       "      <td>a4b3f4b2-92e8-4258-9268-579a8854bbe1</td>\n",
       "    </tr>\n",
       "    <tr>\n",
       "      <th>2</th>\n",
       "      <td>Gesture Pipeline_rank_1</td>\n",
       "      <td>Gesture Demo</td>\n",
       "      <td>Gesture Pipeline</td>\n",
       "      <td>b1d63cf2-ae8a-4f17-a816-365a9ccb0129</td>\n",
       "    </tr>\n",
       "    <tr>\n",
       "      <th>3</th>\n",
       "      <td>Gesture Pipeline_rank_4</td>\n",
       "      <td>Gesture Demo</td>\n",
       "      <td>Gesture Pipeline</td>\n",
       "      <td>26dd3e0d-5f59-480f-8703-8b2f58de73bf</td>\n",
       "    </tr>\n",
       "    <tr>\n",
       "      <th>4</th>\n",
       "      <td>Gesture Pipeline_rank_0</td>\n",
       "      <td>Gesture Demo</td>\n",
       "      <td>Gesture Pipeline</td>\n",
       "      <td>50a83695-00dd-46d3-975c-38e1d06297ef</td>\n",
       "    </tr>\n",
       "  </tbody>\n",
       "</table>\n",
       "</div>"
      ],
      "text/plain": [
       "                      Name       Project          Pipeline  \\\n",
       "0  Gesture Pipeline_rank_3  Gesture Demo  Gesture Pipeline   \n",
       "1  Gesture Pipeline_rank_2  Gesture Demo  Gesture Pipeline   \n",
       "2  Gesture Pipeline_rank_1  Gesture Demo  Gesture Pipeline   \n",
       "3  Gesture Pipeline_rank_4  Gesture Demo  Gesture Pipeline   \n",
       "4  Gesture Pipeline_rank_0  Gesture Demo  Gesture Pipeline   \n",
       "\n",
       "                                kp_uuid  \n",
       "0  385f4831-716e-4b50-aaac-d163acf61ac7  \n",
       "1  a4b3f4b2-92e8-4258-9268-579a8854bbe1  \n",
       "2  b1d63cf2-ae8a-4f17-a816-365a9ccb0129  \n",
       "3  26dd3e0d-5f59-480f-8703-8b2f58de73bf  \n",
       "4  50a83695-00dd-46d3-975c-38e1d06297ef  "
      ]
     },
     "execution_count": 17,
     "metadata": {},
     "output_type": "execute_result"
    }
   ],
   "source": [
    "dsk.pipeline.list_knowledgepacks()"
   ]
  },
  {
   "cell_type": "markdown",
   "metadata": {
    "extensions": {
     "jupyter_dashboards": {
      "version": 1,
      "views": {
       "grid_default": {
        "col": 0,
        "height": 4,
        "hidden": false,
        "row": 133,
        "width": 12
       },
       "report_default": {
        "hidden": false
       }
      }
     }
    }
   },
   "source": [
    "### Download Knowledpack in Library and Binary Form \n",
    "Finally, lets download our knowledpack in library and binary form. "
   ]
  },
  {
   "cell_type": "markdown",
   "metadata": {
    "extensions": {
     "jupyter_dashboards": {
      "version": 1,
      "views": {
       "grid_default": {
        "col": 0,
        "height": 7,
        "hidden": false,
        "row": 137,
        "width": 12
       },
       "report_default": {
        "hidden": false
       }
      }
     }
    }
   },
   "source": [
    "Follow the steps:\n",
    "1. Select Knowledpack : Select one of the knowledgepack you just generated using the autosense model.\n",
    "2. HW Platform: Hw Platform to target\n",
    "3. Target OS: Target os to target\n",
    "3. Debug : If you need to debug the code in the platform set it to True \n",
    "4. Test Data : None (use if you want to upload a test file to the device which will be used instead of the device sensor)\n",
    "5. Download Type : binary/library\n",
    "6. Output : Select outputs for KP"
   ]
  },
  {
   "cell_type": "code",
   "execution_count": 34,
   "metadata": {
    "extensions": {
     "jupyter_dashboards": {
      "version": 1,
      "views": {
       "grid_default": {
        "col": 4,
        "height": 7,
        "hidden": false,
        "row": 117,
        "width": 4
       },
       "report_default": {
        "hidden": false
       }
      }
     }
    }
   },
   "outputs": [
    {
     "data": {
      "application/vnd.jupyter.widget-view+json": {
       "model_id": "e5ffff26821d4f9f8e6b581223641597",
       "version_major": 2,
       "version_minor": 0
      },
      "text/html": [
       "<p>Failed to display Jupyter Widget of type <code>VBox</code>.</p>\n",
       "<p>\n",
       "  If you're reading this message in the Jupyter Notebook or JupyterLab Notebook, it may mean\n",
       "  that the widgets JavaScript is still loading. If this message persists, it\n",
       "  likely means that the widgets JavaScript library is either not installed or\n",
       "  not enabled. See the <a href=\"https://ipywidgets.readthedocs.io/en/stable/user_install.html\">Jupyter\n",
       "  Widgets Documentation</a> for setup instructions.\n",
       "</p>\n",
       "<p>\n",
       "  If you're reading this message in another frontend (for example, a static\n",
       "  rendering on GitHub or <a href=\"https://nbviewer.jupyter.org/\">NBViewer</a>),\n",
       "  it may mean that your frontend doesn't currently support widgets.\n",
       "</p>\n"
      ],
      "text/plain": [
       "VBox(children=(HBox(children=(Dropdown(description=u'Model Name', options={u'Gesture Pipeline_rank_4': u'26dd3e0d-5f59-480f-8703-8b2f58de73bf', u'Gesture Pipeline_rank_0': u'50a83695-00dd-46d3-975c-38e1d06297ef', u'Gesture Pipeline_rank_1': u'b1d63cf2-ae8a-4f17-a816-365a9ccb0129', u'Gesture Pipeline_rank_2': u'a4b3f4b2-92e8-4258-9268-579a8854bbe1', u'Gesture Pipeline_rank_3': u'385f4831-716e-4b50-aaac-d163acf61ac7'}, value=u'26dd3e0d-5f59-480f-8703-8b2f58de73bf'), Button(description=u'Refresh', icon=u'0', layout=Layout(align_items=u'flex-start', border=u'solid 2px', display=u'flex', flex_flow=u'column', justify_content=u'center', overflow=u'visible', width=u'25%'), style=ButtonStyle()), Button(description=u'Generate Knowledgepack', icon=u'0', layout=Layout(align_items=u'flex-start', border=u'solid 2px', display=u'flex', flex_flow=u'column', justify_content=u'center', overflow=u'visible', width=u'25%'), style=ButtonStyle()))), Label(value=u'Download Settings', layout=Layout(justify_content=u'flex-start', overflow=u'visible')), HBox(children=(VBox(children=(Dropdown(description=u'HW Platform', index=1, options={'Curie Reference 4.1': 1, 'Nordic Thingy 2.1': 2, 'Amulet 4.1': 0}, value=2), Dropdown(description=u'Target OS', options=('NordicSDK',), value='NordicSDK'), Dropdown(description=u'Download', options=('Binary', 'Library'), value='Binary'))), VBox(children=(Dropdown(description=u'IMU Rate', options=(100, 50, 25), value=100), Dropdown(description=u'Debug', options=(True, False), value=True), Dropdown(description=u'Test Data', options=(None,), value=None))), SelectMultiple(description=u'Output', index=(0,), options=('ble', 'led', 'serial'), value=('ble',))))))"
      ]
     },
     "metadata": {},
     "output_type": "display_data"
    }
   ],
   "source": [
    "DownloadWidget(dsk).create_widget()"
   ]
  }
 ],
 "metadata": {
  "anaconda-cloud": {},
  "extensions": {
   "jupyter_dashboards": {
    "activeView": "report_default",
    "version": 1,
    "views": {
     "grid_default": {
      "cellMargin": 10,
      "defaultCellHeight": 20,
      "maxColumns": 12,
      "name": "grid",
      "type": "grid"
     },
     "report_default": {
      "name": "report",
      "type": "report"
     }
    }
   }
  },
  "kernelspec": {
   "display_name": "Python 2",
   "language": "python",
   "name": "python2"
  },
  "language_info": {
   "codemirror_mode": {
    "name": "ipython",
    "version": 2
   },
   "file_extension": ".py",
   "mimetype": "text/x-python",
   "name": "python",
   "nbconvert_exporter": "python",
   "pygments_lexer": "ipython2",
   "version": "2.7.13"
  },
  "toc": {
   "nav_menu": {},
   "number_sections": true,
   "sideBar": true,
   "skip_h1_title": false,
   "toc_cell": false,
   "toc_position": {},
   "toc_section_display": "block",
   "toc_window_display": false
  }
 },
 "nbformat": 4,
 "nbformat_minor": 1
}

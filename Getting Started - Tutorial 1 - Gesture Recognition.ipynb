{
 "cells": [
  {
   "cell_type": "markdown",
   "metadata": {},
   "source": [
    "#### NOTE: Before you begin this tutorial the [Upload the Gesture Demo Project to SensiML Cloud](Getting%20Started%20-%20Tutorial%200%20-%20Project%20Upload.ipynb) using the Data Capture Lab"
   ]
  },
  {
   "cell_type": "markdown",
   "metadata": {},
   "source": [
    "#  Building a Knowledegpack for Gesture Recognition\n",
    "\n",
    "In this Tutorial we are going to walk you through setting up the **Automated Pipelines with Widgets**. \n",
    "\n",
    "The data you are going to use was collected from multiple subjects wearing a device with 6 sensors (Accelerometer x,y,z and Gyroscope x,y,z) and formatted using the Data Capture Lab. The goal is using Automated Pipelines to build a model that is able to classify what type of activity the subjects were performing. \n",
    "\n",
    "By the end of this tutorial you should be able to \n",
    "* Query data by using **query widget**\n",
    "* Create models by using **automated pipelines widget** \n",
    "* Understand the quality of the model\n",
    "* Download the binaly/library files by using ** model builder widget**  \n"
   ]
  },
  {
   "cell_type": "markdown",
   "metadata": {},
   "source": [
    "### Initialize a KB project\n",
    "\n",
    "The data for this project has already been labeled and uploaded to the Project \"Gesture_data_demo\". To access the data first connect to the knowledgebuilder cloud service."
   ]
  },
  {
   "cell_type": "code",
   "execution_count": 3,
   "metadata": {},
   "outputs": [],
   "source": [
    "import pandas as pd\n",
    "import numpy as np\n",
    "\n",
    "from sensiml import SensiML\n",
    "from sensiml.widgets import QueryWidget, AutoSenseWidget, DownloadWidget\n",
    "\n",
    "\n",
    "dsk = SensiML()\n",
    "dsk.project ='Gesture Demo'"
   ]
  },
  {
   "cell_type": "markdown",
   "metadata": {},
   "source": [
    "### Initialize a pipeline\n",
    "\n",
    "The next step is to initialize a pipeline space to work in. The work you do in the pipeline will be stored in KB Cloud so that you can share pipelines with collaborators and come back to stored work in the future."
   ]
  },
  {
   "cell_type": "code",
   "execution_count": 2,
   "metadata": {},
   "outputs": [],
   "source": [
    "dsk.pipeline = 'Gesture Pipeline'"
   ]
  },
  {
   "cell_type": "markdown",
   "metadata": {
    "collapsed": true
   },
   "source": [
    "### Import necessary library to use widget service "
   ]
  },
  {
   "cell_type": "markdown",
   "metadata": {},
   "source": [
    "### Query data by using query widget\n",
    "In this tutorial we will build a query against data that was uploaded through the Data Caputre Lab.\n",
    "\n",
    "#### Query\n",
    "* Query Name: What we want to name our query. This name is also how you will retrieve the query in the future. \n",
    "* Segmenter: Name of the segmenter used to create the segments int he DCL\n",
    "* Label Column: The column that has the gesture classifcation\n",
    "* Metadata Columns: This is additional information about your data set that is useful for separating out individual datastreams. In this example we have SegmentID, Gesture and Subjects. SegmentID is an id number of the segment. Subject relates to the individual user. Gesture provides a ground truth about what type of activity the user was performing.\n",
    "\n",
    "* Sensor Columns: The data columns that you would like to include. In our case, these columns are the sensor data from the device\n",
    "        'AccelerometerZ'\n",
    "        'AccelerometerY'\n",
    "        'AccelerometerX'\n"
   ]
  },
  {
   "cell_type": "code",
   "execution_count": 4,
   "metadata": {},
   "outputs": [
    {
     "data": {
      "application/vnd.jupyter.widget-view+json": {
       "model_id": "8208051aa063446083ef317e7e19fdde",
       "version_major": 2,
       "version_minor": 0
      },
      "text/html": [
       "<p>Failed to display Jupyter Widget of type <code>Box</code>.</p>\n",
       "<p>\n",
       "  If you're reading this message in the Jupyter Notebook or JupyterLab Notebook, it may mean\n",
       "  that the widgets JavaScript is still loading. If this message persists, it\n",
       "  likely means that the widgets JavaScript library is either not installed or\n",
       "  not enabled. See the <a href=\"https://ipywidgets.readthedocs.io/en/stable/user_install.html\">Jupyter\n",
       "  Widgets Documentation</a> for setup instructions.\n",
       "</p>\n",
       "<p>\n",
       "  If you're reading this message in another frontend (for example, a static\n",
       "  rendering on GitHub or <a href=\"https://nbviewer.jupyter.org/\">NBViewer</a>),\n",
       "  it may mean that your frontend doesn't currently support widgets.\n",
       "</p>\n"
      ],
      "text/plain": [
       "Box(children=(Box(children=(Label(value=u'Query Name'), Text(value=u'')), layout=Layout(display=u'flex', flex_flow=u'row', justify_content=u'space-between')), Box(children=(Label(value=u'Segmenter'), Dropdown(options=(u'Manual', u'Segmenter Builder Result'), value=u'Manual')), layout=Layout(display=u'flex', flex_flow=u'row', justify_content=u'space-between')), Box(children=(Label(value=u'Label Column'), Dropdown(options=(u'Subjects', u'SegmentID', u'Gesture'), value=u'Subjects')), layout=Layout(display=u'flex', flex_flow=u'row', justify_content=u'space-between')), Box(children=(Label(value=u'Metadata Columns'), Checkbox(value=False, description=u'Subjects'), Checkbox(value=False, description=u'Gesture')), layout=Layout(display=u'flex', flex_flow=u'row', justify_content=u'space-between')), Box(children=(Label(value=u'Sensor Columns'), Checkbox(value=False, description=u'AccelerometerX'), Checkbox(value=False, description=u'AccelerometerY'), Checkbox(value=False, description=u'AccelerometerZ')), layout=Layout(display=u'flex', flex_flow=u'row', justify_content=u'space-between')), Box(children=(Button(description=u'Add Query', style=ButtonStyle()),), layout=Layout(display=u'flex', flex_flow=u'row', justify_content=u'flex-end')), Box(children=(Checkbox(value=False, description=u'Force'),), layout=Layout(display=u'flex', flex_flow=u'row', justify_content=u'flex-end'))), layout=Layout(align_items=u'stretch', border=u'solid 2px', display=u'flex', flex_flow=u'column', width=u'100%'))"
      ]
     },
     "metadata": {},
     "output_type": "display_data"
    }
   ],
   "source": [
    "query_widget = QueryWidget(dsk)\n",
    "query_widget.create_widget()"
   ]
  },
  {
   "cell_type": "markdown",
   "metadata": {},
   "source": [
    "### Create models by using automated pipelines widget\n",
    "\n",
    "Automated pipelines help you find a good set of features and pipeline parameters without having to write as much code. In order to use automation, you need to:\n",
    "1. Initialize your pipeline with a query or data file and a segmenter (Explained in previous section)\n",
    "2. Choose a pipeline seed (i.e. a template pipeline)\n",
    "\n",
    "    #### Pipeline Seeds\n",
    "    Pipeline seeds are pre-defined pipeline configurations that exist on the server that can be used to populate the functions and parameters of your DSK pipeline. So instead of piecing together your own pipeline with function calls and other code, you can use a pre-set pipeline seed to run feature generators, selectors, transforms, and model generation algorithms based on a common pattern from the database.\n",
    "\n",
    "\n",
    "##### Guidelines for Picking a Seed\n",
    "- Basic Features - choose this if:\n",
    "     - You are wondering where to start\n",
    "     - You want execution to be as quick as possible\n",
    "     - You want simple, easy-to-interpret features\n",
    "- Advanced Features - choose this if:\n",
    "     - You tried \"Basic Features\" and didn't get a good model\n",
    "     - You don't mind if execution takes a while\n",
    "     - You want the best possible features, even if they are complex \n",
    "- Downsampled Features - choose this if:\n",
    "     - You are creating a gesture recognition application\n",
    "- Histogram Features - choose this if:\n",
    "     - You are creating a motor vibration application\n",
    "- Custom Seed - choose this if:\n",
    "     - You tried the other seeds and didn't get a good model\n",
    "     - You want to build your own pipeline and use the genetic algorithm to find the best number of features, best number of neurons, and other model-related parameters\n",
    "- No Feature Generation - choose this if:\n",
    "     - You do not want to generate any features, only test the ones you have made offline (Note: resulting knowledgepacks will not have a feature extraction algorithm, so will not operate on a device; intended for testing only)\n"
   ]
  },
  {
   "cell_type": "code",
   "execution_count": 6,
   "metadata": {},
   "outputs": [
    {
     "data": {
      "application/vnd.jupyter.widget-view+json": {
       "model_id": "3075e4e4430c4025bc666f16fba98767",
       "version_major": 2,
       "version_minor": 0
      },
      "text/html": [
       "<p>Failed to display Jupyter Widget of type <code>Box</code>.</p>\n",
       "<p>\n",
       "  If you're reading this message in the Jupyter Notebook or JupyterLab Notebook, it may mean\n",
       "  that the widgets JavaScript is still loading. If this message persists, it\n",
       "  likely means that the widgets JavaScript library is either not installed or\n",
       "  not enabled. See the <a href=\"https://ipywidgets.readthedocs.io/en/stable/user_install.html\">Jupyter\n",
       "  Widgets Documentation</a> for setup instructions.\n",
       "</p>\n",
       "<p>\n",
       "  If you're reading this message in another frontend (for example, a static\n",
       "  rendering on GitHub or <a href=\"https://nbviewer.jupyter.org/\">NBViewer</a>),\n",
       "  it may mean that your frontend doesn't currently support widgets.\n",
       "</p>\n"
      ],
      "text/plain": [
       "Box(children=(Box(children=(Label(value=u'Select Query'), Dropdown(options=(u'Q1',), value=u'Q1')), layout=Layout(display=u'flex', flex_flow=u'row', justify_content=u'space-between')), Box(children=(Label(value=u'Segmenter'), Dropdown(options=('Default', 'Windowing(100)', 'Windowing(200)', 'Windowing(250)'), value='Default')), layout=Layout(display=u'flex', flex_flow=u'row', justify_content=u'space-between')), Box(children=(Label(value=u'Pipeline Seed'), interactive(children=(Dropdown(description=u'Name', options=(u'Advanced Features', u'Basic Features', u'Custom', u'Downsampled Features', u'Histogram Features', u'No Feature Generation'), value=u'Advanced Features'), Output()), _dom_classes=('widget-interact',))), layout=Layout(display=u'flex', flex_flow=u'row', justify_content=u'space-between')), Box(children=(Label(value=u'Seed Description'), Label(value=u'Seed Description')), layout=Layout(display=u'flex', flex_flow=u'row', justify_content=u'space-between')), Box(children=(Label(value=u'Accuracy'), FloatSlider(value=0.8, max=1.0, step=0.05)), layout=Layout(display=u'flex', flex_flow=u'row', justify_content=u'space-between')), Box(children=(Label(value=u'Sensitivity'), FloatSlider(value=0.8, max=1.0, step=0.05)), layout=Layout(display=u'flex', flex_flow=u'row', justify_content=u'space-between')), Box(children=(Label(value=u'Features'), FloatSlider(value=0.5, max=1.0, step=0.05)), layout=Layout(display=u'flex', flex_flow=u'row', justify_content=u'space-between')), Box(children=(Label(value=u'Neurons'), FloatSlider(value=0.5, max=1.0, step=0.05)), layout=Layout(display=u'flex', flex_flow=u'row', justify_content=u'space-between')), Box(children=(Label(value=u'Iterations'), IntSlider(value=2, max=15, min=1)), layout=Layout(display=u'flex', flex_flow=u'row', justify_content=u'space-between')), Box(children=(Label(value=u'Population Size'), IntSlider(value=10, max=50, min=10)), layout=Layout(display=u'flex', flex_flow=u'row', justify_content=u'space-between')), Box(children=(Checkbox(value=False, description=u'Reset'),), layout=Layout(display=u'flex', flex_flow=u'row', justify_content=u'flex-end')), Box(children=(Button(description=u'Run Autopipeline', style=ButtonStyle()),), layout=Layout(display=u'flex', flex_flow=u'row', justify_content=u'flex-end'))), layout=Layout(align_items=u'stretch', border=u'solid 2px', display=u'flex', flex_flow=u'column', width=u'100%'))"
      ]
     },
     "metadata": {},
     "output_type": "display_data"
    }
   ],
   "source": [
    "auto_widget = AutoSenseWidget(dsk)\n",
    "auto_widget.create_widget()"
   ]
  },
  {
   "cell_type": "markdown",
   "metadata": {
    "collapsed": true
   },
   "source": [
    "### Understand the quality of the model\n",
    "\n",
    "Results of automated pipelines are saved in auto_widget.summary, auto_widget.results \n",
    "\n",
    "auto_widget.summary holds two report\n",
    "- execution_summary: dataframe, it holds information (cached,,name,,runtime, step #, type) regarding the libraries in the pipeline\n",
    "- fitness_summary: dataframe, it holds fitness scores of pipelines that showed up at final iteration. First one in the dataframe that has the highest fitness score"
   ]
  },
  {
   "cell_type": "code",
   "execution_count": 66,
   "metadata": {},
   "outputs": [
    {
     "data": {
      "text/html": [
       "<div>\n",
       "<style>\n",
       "    .dataframe thead tr:only-child th {\n",
       "        text-align: right;\n",
       "    }\n",
       "\n",
       "    .dataframe thead th {\n",
       "        text-align: left;\n",
       "    }\n",
       "\n",
       "    .dataframe tbody tr th {\n",
       "        vertical-align: top;\n",
       "    }\n",
       "</style>\n",
       "<table border=\"1\" class=\"dataframe\">\n",
       "  <thead>\n",
       "    <tr style=\"text-align: right;\">\n",
       "      <th></th>\n",
       "      <th>cached</th>\n",
       "      <th>name</th>\n",
       "      <th>runtime</th>\n",
       "      <th>step #</th>\n",
       "      <th>type</th>\n",
       "    </tr>\n",
       "  </thead>\n",
       "  <tbody>\n",
       "    <tr>\n",
       "      <th>0</th>\n",
       "      <td>False</td>\n",
       "      <td>test1</td>\n",
       "      <td>1.211877</td>\n",
       "      <td>0</td>\n",
       "      <td>query</td>\n",
       "    </tr>\n",
       "    <tr>\n",
       "      <th>1</th>\n",
       "      <td>False</td>\n",
       "      <td>Strip</td>\n",
       "      <td>1.230282</td>\n",
       "      <td>1</td>\n",
       "      <td>transform</td>\n",
       "    </tr>\n",
       "    <tr>\n",
       "      <th>2</th>\n",
       "      <td>False</td>\n",
       "      <td>generatorset</td>\n",
       "      <td>1.574082</td>\n",
       "      <td>2</td>\n",
       "      <td>generatorset</td>\n",
       "    </tr>\n",
       "  </tbody>\n",
       "</table>\n",
       "</div>"
      ],
      "text/plain": [
       "   cached          name   runtime  step #          type\n",
       "0   False         test1  1.211877       0         query\n",
       "1   False         Strip  1.230282       1     transform\n",
       "2   False  generatorset  1.574082       2  generatorset"
      ]
     },
     "execution_count": 66,
     "metadata": {},
     "output_type": "execute_result"
    }
   ],
   "source": [
    "auto_widget.summary['execution_summary']"
   ]
  },
  {
   "cell_type": "code",
   "execution_count": 67,
   "metadata": {},
   "outputs": [
    {
     "data": {
      "text/html": [
       "<div>\n",
       "<style>\n",
       "    .dataframe thead tr:only-child th {\n",
       "        text-align: right;\n",
       "    }\n",
       "\n",
       "    .dataframe thead th {\n",
       "        text-align: left;\n",
       "    }\n",
       "\n",
       "    .dataframe tbody tr th {\n",
       "        vertical-align: top;\n",
       "    }\n",
       "</style>\n",
       "<table border=\"1\" class=\"dataframe\">\n",
       "  <thead>\n",
       "    <tr style=\"text-align: right;\">\n",
       "      <th></th>\n",
       "      <th>accuracy</th>\n",
       "      <th>best_model</th>\n",
       "      <th>f1_score</th>\n",
       "      <th>features</th>\n",
       "      <th>fitness</th>\n",
       "      <th>flash</th>\n",
       "      <th>iteration</th>\n",
       "      <th>knowledgepack</th>\n",
       "      <th>latency</th>\n",
       "      <th>neurons</th>\n",
       "      <th>pipeline</th>\n",
       "      <th>positive_predictive_rate</th>\n",
       "      <th>precision</th>\n",
       "      <th>sensitivity</th>\n",
       "      <th>specificity</th>\n",
       "      <th>sram</th>\n",
       "      <th>stack</th>\n",
       "    </tr>\n",
       "  </thead>\n",
       "  <tbody>\n",
       "    <tr>\n",
       "      <th>0</th>\n",
       "      <td>88.888889</td>\n",
       "      <td>Fold 0</td>\n",
       "      <td>83.651436</td>\n",
       "      <td>12.0</td>\n",
       "      <td>2.194459</td>\n",
       "      <td>2970.0</td>\n",
       "      <td>3</td>\n",
       "      <td>67549d5a-599d-4e29-b4b5-b0944c73c5c5</td>\n",
       "      <td>156546375.0</td>\n",
       "      <td>10.0</td>\n",
       "      <td>[{\"outputs\": [\"temp.raw\"], \"type\": \"query\", \"n...</td>\n",
       "      <td>92.261905</td>\n",
       "      <td>92.261905</td>\n",
       "      <td>81.898148</td>\n",
       "      <td>95.673077</td>\n",
       "      <td>1392.0</td>\n",
       "      <td>210.0</td>\n",
       "    </tr>\n",
       "    <tr>\n",
       "      <th>1</th>\n",
       "      <td>88.888889</td>\n",
       "      <td>Fold 0</td>\n",
       "      <td>83.651436</td>\n",
       "      <td>12.0</td>\n",
       "      <td>2.194459</td>\n",
       "      <td>2970.0</td>\n",
       "      <td>4</td>\n",
       "      <td>d9aa8a48-ca02-4dc5-ba03-c7cba0a14eed</td>\n",
       "      <td>156546375.0</td>\n",
       "      <td>10.0</td>\n",
       "      <td>[{\"outputs\": [\"temp.raw\"], \"type\": \"query\", \"n...</td>\n",
       "      <td>92.261905</td>\n",
       "      <td>92.261905</td>\n",
       "      <td>81.898148</td>\n",
       "      <td>95.673077</td>\n",
       "      <td>1392.0</td>\n",
       "      <td>210.0</td>\n",
       "    </tr>\n",
       "    <tr>\n",
       "      <th>2</th>\n",
       "      <td>88.888889</td>\n",
       "      <td>Fold 0</td>\n",
       "      <td>83.651436</td>\n",
       "      <td>12.0</td>\n",
       "      <td>2.194459</td>\n",
       "      <td>2970.0</td>\n",
       "      <td>4</td>\n",
       "      <td>b288bfbd-ef60-467d-ba0b-c918b862c75d</td>\n",
       "      <td>156546375.0</td>\n",
       "      <td>10.0</td>\n",
       "      <td>[{\"outputs\": [\"temp.raw\"], \"type\": \"query\", \"n...</td>\n",
       "      <td>92.261905</td>\n",
       "      <td>92.261905</td>\n",
       "      <td>81.898148</td>\n",
       "      <td>95.673077</td>\n",
       "      <td>1392.0</td>\n",
       "      <td>210.0</td>\n",
       "    </tr>\n",
       "    <tr>\n",
       "      <th>3</th>\n",
       "      <td>88.888889</td>\n",
       "      <td>Fold 0</td>\n",
       "      <td>83.651436</td>\n",
       "      <td>12.0</td>\n",
       "      <td>2.194459</td>\n",
       "      <td>2970.0</td>\n",
       "      <td>5</td>\n",
       "      <td>5e562931-98af-468e-ba89-805184b757eb</td>\n",
       "      <td>156546375.0</td>\n",
       "      <td>10.0</td>\n",
       "      <td>[{\"outputs\": [\"temp.raw\"], \"type\": \"query\", \"n...</td>\n",
       "      <td>92.261905</td>\n",
       "      <td>92.261905</td>\n",
       "      <td>81.898148</td>\n",
       "      <td>95.673077</td>\n",
       "      <td>1392.0</td>\n",
       "      <td>210.0</td>\n",
       "    </tr>\n",
       "    <tr>\n",
       "      <th>4</th>\n",
       "      <td>100.000000</td>\n",
       "      <td>Fold 0</td>\n",
       "      <td>100.000000</td>\n",
       "      <td>16.0</td>\n",
       "      <td>2.143307</td>\n",
       "      <td>2970.0</td>\n",
       "      <td>4</td>\n",
       "      <td>2adac429-49a2-4fad-b2f3-b40b60362ff3</td>\n",
       "      <td>156546375.0</td>\n",
       "      <td>81.0</td>\n",
       "      <td>[{\"outputs\": [\"temp.raw\"], \"type\": \"query\", \"n...</td>\n",
       "      <td>100.000000</td>\n",
       "      <td>100.000000</td>\n",
       "      <td>100.000000</td>\n",
       "      <td>100.000000</td>\n",
       "      <td>1392.0</td>\n",
       "      <td>210.0</td>\n",
       "    </tr>\n",
       "    <tr>\n",
       "      <th>5</th>\n",
       "      <td>76.543210</td>\n",
       "      <td>Fold 0</td>\n",
       "      <td>82.807040</td>\n",
       "      <td>12.0</td>\n",
       "      <td>2.116697</td>\n",
       "      <td>2970.0</td>\n",
       "      <td>2</td>\n",
       "      <td>NaN</td>\n",
       "      <td>156546375.0</td>\n",
       "      <td>10.0</td>\n",
       "      <td>[{\"outputs\": [\"temp.raw\"], \"type\": \"query\", \"n...</td>\n",
       "      <td>77.883675</td>\n",
       "      <td>77.883675</td>\n",
       "      <td>88.425926</td>\n",
       "      <td>90.315842</td>\n",
       "      <td>1392.0</td>\n",
       "      <td>210.0</td>\n",
       "    </tr>\n",
       "    <tr>\n",
       "      <th>6</th>\n",
       "      <td>76.543210</td>\n",
       "      <td>Fold 0</td>\n",
       "      <td>82.807040</td>\n",
       "      <td>12.0</td>\n",
       "      <td>2.116697</td>\n",
       "      <td>2970.0</td>\n",
       "      <td>5</td>\n",
       "      <td>NaN</td>\n",
       "      <td>156546375.0</td>\n",
       "      <td>10.0</td>\n",
       "      <td>[{\"outputs\": [\"temp.raw\"], \"type\": \"query\", \"n...</td>\n",
       "      <td>77.883675</td>\n",
       "      <td>77.883675</td>\n",
       "      <td>88.425926</td>\n",
       "      <td>90.315842</td>\n",
       "      <td>1392.0</td>\n",
       "      <td>210.0</td>\n",
       "    </tr>\n",
       "    <tr>\n",
       "      <th>7</th>\n",
       "      <td>100.000000</td>\n",
       "      <td>Fold 0, Iteration 0</td>\n",
       "      <td>100.000000</td>\n",
       "      <td>103.0</td>\n",
       "      <td>1.941732</td>\n",
       "      <td>2970.0</td>\n",
       "      <td>5</td>\n",
       "      <td>NaN</td>\n",
       "      <td>156551250.0</td>\n",
       "      <td>80.0</td>\n",
       "      <td>[{\"outputs\": [\"temp.raw\"], \"type\": \"query\", \"n...</td>\n",
       "      <td>100.000000</td>\n",
       "      <td>100.000000</td>\n",
       "      <td>100.000000</td>\n",
       "      <td>100.000000</td>\n",
       "      <td>1392.0</td>\n",
       "      <td>210.0</td>\n",
       "    </tr>\n",
       "    <tr>\n",
       "      <th>8</th>\n",
       "      <td>72.839506</td>\n",
       "      <td>Fold 0</td>\n",
       "      <td>65.197670</td>\n",
       "      <td>9.0</td>\n",
       "      <td>1.917904</td>\n",
       "      <td>2970.0</td>\n",
       "      <td>5</td>\n",
       "      <td>NaN</td>\n",
       "      <td>156544750.0</td>\n",
       "      <td>10.0</td>\n",
       "      <td>[{\"outputs\": [\"temp.raw\"], \"type\": \"query\", \"n...</td>\n",
       "      <td>72.234735</td>\n",
       "      <td>72.234735</td>\n",
       "      <td>64.305556</td>\n",
       "      <td>88.577361</td>\n",
       "      <td>1392.0</td>\n",
       "      <td>210.0</td>\n",
       "    </tr>\n",
       "    <tr>\n",
       "      <th>9</th>\n",
       "      <td>72.839506</td>\n",
       "      <td>Fold 0</td>\n",
       "      <td>65.197670</td>\n",
       "      <td>9.0</td>\n",
       "      <td>1.917904</td>\n",
       "      <td>2970.0</td>\n",
       "      <td>5</td>\n",
       "      <td>NaN</td>\n",
       "      <td>156544750.0</td>\n",
       "      <td>10.0</td>\n",
       "      <td>[{\"outputs\": [\"temp.raw\"], \"type\": \"query\", \"n...</td>\n",
       "      <td>72.234735</td>\n",
       "      <td>72.234735</td>\n",
       "      <td>64.305556</td>\n",
       "      <td>88.577361</td>\n",
       "      <td>1392.0</td>\n",
       "      <td>210.0</td>\n",
       "    </tr>\n",
       "  </tbody>\n",
       "</table>\n",
       "</div>"
      ],
      "text/plain": [
       "     accuracy           best_model    f1_score  features   fitness   flash  \\\n",
       "0   88.888889               Fold 0   83.651436      12.0  2.194459  2970.0   \n",
       "1   88.888889               Fold 0   83.651436      12.0  2.194459  2970.0   \n",
       "2   88.888889               Fold 0   83.651436      12.0  2.194459  2970.0   \n",
       "3   88.888889               Fold 0   83.651436      12.0  2.194459  2970.0   \n",
       "4  100.000000               Fold 0  100.000000      16.0  2.143307  2970.0   \n",
       "5   76.543210               Fold 0   82.807040      12.0  2.116697  2970.0   \n",
       "6   76.543210               Fold 0   82.807040      12.0  2.116697  2970.0   \n",
       "7  100.000000  Fold 0, Iteration 0  100.000000     103.0  1.941732  2970.0   \n",
       "8   72.839506               Fold 0   65.197670       9.0  1.917904  2970.0   \n",
       "9   72.839506               Fold 0   65.197670       9.0  1.917904  2970.0   \n",
       "\n",
       "   iteration                         knowledgepack      latency  neurons  \\\n",
       "0          3  67549d5a-599d-4e29-b4b5-b0944c73c5c5  156546375.0     10.0   \n",
       "1          4  d9aa8a48-ca02-4dc5-ba03-c7cba0a14eed  156546375.0     10.0   \n",
       "2          4  b288bfbd-ef60-467d-ba0b-c918b862c75d  156546375.0     10.0   \n",
       "3          5  5e562931-98af-468e-ba89-805184b757eb  156546375.0     10.0   \n",
       "4          4  2adac429-49a2-4fad-b2f3-b40b60362ff3  156546375.0     81.0   \n",
       "5          2                                   NaN  156546375.0     10.0   \n",
       "6          5                                   NaN  156546375.0     10.0   \n",
       "7          5                                   NaN  156551250.0     80.0   \n",
       "8          5                                   NaN  156544750.0     10.0   \n",
       "9          5                                   NaN  156544750.0     10.0   \n",
       "\n",
       "                                            pipeline  \\\n",
       "0  [{\"outputs\": [\"temp.raw\"], \"type\": \"query\", \"n...   \n",
       "1  [{\"outputs\": [\"temp.raw\"], \"type\": \"query\", \"n...   \n",
       "2  [{\"outputs\": [\"temp.raw\"], \"type\": \"query\", \"n...   \n",
       "3  [{\"outputs\": [\"temp.raw\"], \"type\": \"query\", \"n...   \n",
       "4  [{\"outputs\": [\"temp.raw\"], \"type\": \"query\", \"n...   \n",
       "5  [{\"outputs\": [\"temp.raw\"], \"type\": \"query\", \"n...   \n",
       "6  [{\"outputs\": [\"temp.raw\"], \"type\": \"query\", \"n...   \n",
       "7  [{\"outputs\": [\"temp.raw\"], \"type\": \"query\", \"n...   \n",
       "8  [{\"outputs\": [\"temp.raw\"], \"type\": \"query\", \"n...   \n",
       "9  [{\"outputs\": [\"temp.raw\"], \"type\": \"query\", \"n...   \n",
       "\n",
       "   positive_predictive_rate   precision  sensitivity  specificity    sram  \\\n",
       "0                 92.261905   92.261905    81.898148    95.673077  1392.0   \n",
       "1                 92.261905   92.261905    81.898148    95.673077  1392.0   \n",
       "2                 92.261905   92.261905    81.898148    95.673077  1392.0   \n",
       "3                 92.261905   92.261905    81.898148    95.673077  1392.0   \n",
       "4                100.000000  100.000000   100.000000   100.000000  1392.0   \n",
       "5                 77.883675   77.883675    88.425926    90.315842  1392.0   \n",
       "6                 77.883675   77.883675    88.425926    90.315842  1392.0   \n",
       "7                100.000000  100.000000   100.000000   100.000000  1392.0   \n",
       "8                 72.234735   72.234735    64.305556    88.577361  1392.0   \n",
       "9                 72.234735   72.234735    64.305556    88.577361  1392.0   \n",
       "\n",
       "   stack  \n",
       "0  210.0  \n",
       "1  210.0  \n",
       "2  210.0  \n",
       "3  210.0  \n",
       "4  210.0  \n",
       "5  210.0  \n",
       "6  210.0  \n",
       "7  210.0  \n",
       "8  210.0  \n",
       "9  210.0  "
      ]
     },
     "execution_count": 67,
     "metadata": {},
     "output_type": "execute_result"
    }
   ],
   "source": [
    "auto_widget.summary['fitness_summary']"
   ]
  },
  {
   "cell_type": "markdown",
   "metadata": {},
   "source": [
    "#### Confusion Matrix of the model that has the highest fitness score"
   ]
  },
  {
   "cell_type": "code",
   "execution_count": 55,
   "metadata": {},
   "outputs": [
    {
     "name": "stdout",
     "output_type": "stream",
     "text": [
      "MODEL INDEX: Rank 0, Fold 0\n",
      "ACCURACY: 88.9\n",
      "NEURONS: 10\n",
      "CONFUSION MATRIX:\n",
      "                   A         D         M         U       UNK       UNC   Support   Sens(%)\n",
      "         A      25.0       2.0       0.0       0.0       0.0       0.0      27.0      92.6\n",
      "         D       0.0      24.0       0.0       0.0       0.0       0.0      24.0     100.0\n",
      "         M       5.0       1.0       4.0       0.0       0.0       0.0      10.0      40.0\n",
      "         U       0.0       1.0       0.0      19.0       0.0       0.0      20.0      95.0\n",
      "\n",
      "     Total        30        28         4        19         0         0        81          \n",
      "\n",
      "PosPred(%)      83.3      85.7     100.0     100.0                        Acc(%)      88.9\n",
      "\n"
     ]
    }
   ],
   "source": [
    "results = auto_widget.results\n",
    "for c in results.configurations:\n",
    "    if c.models[0]._index.find('Rank 0') > -1:\n",
    "        print c.models[0]\n",
    "        break"
   ]
  },
  {
   "cell_type": "markdown",
   "metadata": {},
   "source": [
    "### Download Knowledpack in Library and Binary Form \n",
    "Finally, lets download our knowledpack in library and binary form. \n",
    "\n",
    "* Firt step is saving the knowledpack. We will use BestModel as its' name . \n",
    "We will save the model that has the highest fitness score."
   ]
  },
  {
   "cell_type": "code",
   "execution_count": 68,
   "metadata": {},
   "outputs": [
    {
     "name": "stdout",
     "output_type": "stream",
     "text": [
      "knowledgepack id: 67549d5a-599d-4e29-b4b5-b0944c73c5c5\n",
      "Knowledgepack name updated.\n"
     ]
    }
   ],
   "source": [
    "knowledgepack = summary['fitness_summary'].loc[0,'knowledgepack']\n",
    "print 'knowledgepack id:', knowledgepack\n",
    "c.models[0].knowledgepack.save('BestModel')"
   ]
  },
  {
   "cell_type": "markdown",
   "metadata": {},
   "source": [
    "* The widget below will help you to download your binary/library file\n",
    "\n",
    "Follow the steps:\n",
    "1. Select Knowledpack : Select the knowledgepack you saved above. The one with the name \"BestModel\"\n",
    "2. Select your target platform: select your device\n",
    "3. Debug : If you need to debug the code in the platform set it to True \n",
    "4. Test Data : None (use if you want to upload a test file to the device which will be used instead of the device sensor)\n",
    "5. Download Type : binary/library\n",
    "6. Quark Application : Select LED If you want to see the outputs through LED."
   ]
  },
  {
   "cell_type": "code",
   "execution_count": 7,
   "metadata": {},
   "outputs": [
    {
     "name": "stdout",
     "output_type": "stream",
     "text": [
      "No Knowledgepacks stored for this project on the cloud.\n"
     ]
    }
   ],
   "source": [
    "kp = DownloadWidget(dsk)\n",
    "kp.create_widget()"
   ]
  }
 ],
 "metadata": {
  "anaconda-cloud": {},
  "kernelspec": {
   "display_name": "Python 2",
   "language": "python",
   "name": "python2"
  },
  "language_info": {
   "codemirror_mode": {
    "name": "ipython",
    "version": 2
   },
   "file_extension": ".py",
   "mimetype": "text/x-python",
   "name": "python",
   "nbconvert_exporter": "python",
   "pygments_lexer": "ipython2",
   "version": "2.7.14"
  }
 },
 "nbformat": 4,
 "nbformat_minor": 1
}

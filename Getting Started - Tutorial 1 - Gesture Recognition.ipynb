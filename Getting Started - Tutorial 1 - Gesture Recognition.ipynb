{
 "cells": [
  {
   "cell_type": "markdown",
   "metadata": {
    "extensions": {
     "jupyter_dashboards": {
      "version": 1,
      "views": {
       "grid_default": {
        "col": 0,
        "height": 4,
        "hidden": false,
        "row": 0,
        "width": 4
       },
       "report_default": {
        "hidden": false
       }
      }
     }
    }
   },
   "source": [
    "#### NOTE: Before you begin this tutorial the [Upload the Gesture Demo Project to SensiML Cloud](Getting%20Started%20-%20Tutorial%200%20-%20Project%20Upload.ipynb) using the Data Capture Lab"
   ]
  },
  {
   "cell_type": "markdown",
   "metadata": {
    "extensions": {
     "jupyter_dashboards": {
      "version": 1,
      "views": {
       "grid_default": {
        "col": 0,
        "height": 10,
        "hidden": false,
        "row": 4,
        "width": 12
       },
       "report_default": {
        "hidden": false
       }
      }
     }
    }
   },
   "source": [
    "#  Building a Knowledegpack for Gesture Recognition\n",
    "\n",
    "In this Tutorial we are going to walk you through setting up the **Automated Pipelines with Widgets**. \n",
    "\n",
    "The data you are going to use was collected from multiple subjects wearing a device with 6 sensors (Accelerometer x,y,z and Gyroscope x,y,z) and formatted using the Data Capture Lab. The goal is using Automated Pipelines to build a model that is able to classify what type of activity the subjects were performing. \n",
    "\n",
    "By the end of this tutorial you should be able to \n",
    "* Query data by using **query widget**\n",
    "* Create models by using **automated pipelines widget** \n",
    "* Understand the quality of the model\n",
    "* Download the binaly/library files by using ** model builder widget**  \n"
   ]
  },
  {
   "cell_type": "markdown",
   "metadata": {
    "extensions": {
     "jupyter_dashboards": {
      "version": 1,
      "views": {
       "grid_default": {
        "col": 0,
        "height": 4,
        "hidden": false,
        "row": 14,
        "width": 12
       },
       "report_default": {
        "hidden": false
       }
      }
     }
    }
   },
   "source": [
    "### Initialize a KB project\n",
    "\n",
    "The data for this project has already been labeled and uploaded to the Project \"Gesture_data_demo\". To access the data first connect to the knowledgebuilder cloud service."
   ]
  },
  {
   "cell_type": "code",
   "execution_count": 1,
   "metadata": {
    "collapsed": true,
    "extensions": {
     "jupyter_dashboards": {
      "version": 1,
      "views": {
       "grid_default": {
        "hidden": true
       },
       "report_default": {
        "hidden": true
       }
      }
     }
    }
   },
   "outputs": [],
   "source": [
    "import pandas as pd\n",
    "import numpy as np\n",
    "\n",
    "from sensiml import SensiML\n",
    "from sensiml.widgets import *\n",
    "\n",
    "\n",
    "dsk = SensiML()\n",
    "dsk.project ='Gesture Demo'"
   ]
  },
  {
   "cell_type": "markdown",
   "metadata": {
    "extensions": {
     "jupyter_dashboards": {
      "version": 1,
      "views": {
       "grid_default": {
        "col": 0,
        "height": 4,
        "hidden": false,
        "row": 18,
        "width": 12
       },
       "report_default": {
        "hidden": false
       }
      }
     }
    }
   },
   "source": [
    "### Initialize a pipeline\n",
    "\n",
    "The next step is to initialize a pipeline space to work in. The work you do in the pipeline will be stored in KB Cloud so that you can share pipelines with collaborators and come back to stored work in the future."
   ]
  },
  {
   "cell_type": "code",
   "execution_count": 2,
   "metadata": {
    "collapsed": true,
    "extensions": {
     "jupyter_dashboards": {
      "version": 1,
      "views": {
       "grid_default": {
        "hidden": true
       },
       "report_default": {
        "hidden": true
       }
      }
     }
    }
   },
   "outputs": [],
   "source": [
    "dsk.pipeline = 'Gesture Pipeline'"
   ]
  },
  {
   "cell_type": "markdown",
   "metadata": {
    "extensions": {
     "jupyter_dashboards": {
      "version": 1,
      "views": {
       "grid_default": {
        "col": 0,
        "height": 13,
        "hidden": false,
        "row": 22,
        "width": 12
       },
       "report_default": {
        "hidden": false
       }
      }
     }
    }
   },
   "source": [
    "### Query data by using query widget\n",
    "In this tutorial we will build a query against data that was uploaded through the Data Caputre Lab.\n",
    "\n",
    "#### Query\n",
    "\n",
    "* Query Name: What we want to name our query. This name is also how you will retrieve the query in the future. \n",
    "* Segmenter: Name of the segmenter used to create the segments int he DCL\n",
    "* Label Column: The column that has the gesture classifcation\n",
    "* Metadata Columns: This is additional information about your data set that is useful for separating out individual datastreams. In this example we have Gesture and Subject show up. Only select Subject as the metadata relates to the individual user.\n",
    "\n",
    "* Sensor Columns: The data columns that you would like to include. In our case, these columns are the sensor data from the device\n",
    "        'AccelerometerZ'\n",
    "        'AccelerometerY'\n",
    "        'AccelerometerX'\n",
    "* Metadata Filter: Allows you to filter out data using our query languge. Set this to \"[Gesture] IN [A,D,L,M,U]\"\n"
   ]
  },
  {
   "cell_type": "code",
   "execution_count": 4,
   "metadata": {
    "extensions": {
     "jupyter_dashboards": {
      "version": 1,
      "views": {
       "grid_default": {
        "col": 0,
        "height": 17,
        "hidden": false,
        "row": 35,
        "width": null
       },
       "report_default": {
        "hidden": false
       }
      }
     }
    }
   },
   "outputs": [
    {
     "data": {
      "application/vnd.jupyter.widget-view+json": {
       "model_id": "60b18eebd5d4483f9b2a36c1d34e8eea",
       "version_major": 2,
       "version_minor": 0
      },
      "text/html": [
       "<p>Failed to display Jupyter Widget of type <code>HBox</code>.</p>\n",
       "<p>\n",
       "  If you're reading this message in the Jupyter Notebook or JupyterLab Notebook, it may mean\n",
       "  that the widgets JavaScript is still loading. If this message persists, it\n",
       "  likely means that the widgets JavaScript library is either not installed or\n",
       "  not enabled. See the <a href=\"https://ipywidgets.readthedocs.io/en/stable/user_install.html\">Jupyter\n",
       "  Widgets Documentation</a> for setup instructions.\n",
       "</p>\n",
       "<p>\n",
       "  If you're reading this message in another frontend (for example, a static\n",
       "  rendering on GitHub or <a href=\"https://nbviewer.jupyter.org/\">NBViewer</a>),\n",
       "  it may mean that your frontend doesn't currently support widgets.\n",
       "</p>\n"
      ],
      "text/plain": [
       "HBox(children=(VBox(children=(Dropdown(description=u'Select Query', options=('', u'ADLMU', u'MLU', u'AD', u'Query New'), value=''), Text(value=u'', description=u'Query Name'), Dropdown(description=u'Segmenter', options=(u'Manual', u'Segmenter Builder 1', u'Segmenter Builder Result'), value=u'Manual'), Dropdown(description=u'Label', index=2, options=(u'Device', u'Subject', u'Gesture'), value=u'Gesture'), SelectMultiple(description=u'Metadtata', index=(1,), options=(u'Device', u'Subject', u'Gesture'), value=(u'Subject',)), SelectMultiple(description=u'Sources', index=(0, 1, 2, 3, 4, 5), options=(u'AccelerometerX', u'AccelerometerY', u'AccelerometerZ', u'GyroscopeX', u'GyroscopeY', u'GyroscopeZ'), value=(u'AccelerometerX', u'AccelerometerY', u'AccelerometerZ', u'GyroscopeX', u'GyroscopeY', u'GyroscopeZ')), Text(value=u'', description=u'Query Filter'), HBox(children=(Button(description=u'Add Query', style=ButtonStyle()), Button(description=u'Update Query', style=ButtonStyle()))))), Figure(background_style={'fill': 'white'}, fig_margin={'top': 10, 'left': 50, 'right': 0, 'bottom': 30}, layout=Layout(height=u'400px', min_width=u'125px', width=u'560px'), legend_location='bottom-right', scale_x=LinearScale(allow_padding=False, max=1.0, min=0.0), scale_y=LinearScale(allow_padding=False, max=1.0, min=0.0))))"
      ]
     },
     "metadata": {},
     "output_type": "display_data"
    }
   ],
   "source": [
    "query_widget = QueryWidget(dsk)\n",
    "query_widget.create_widget()"
   ]
  },
  {
   "cell_type": "markdown",
   "metadata": {
    "extensions": {
     "jupyter_dashboards": {
      "version": 1,
      "views": {
       "grid_default": {
        "col": 0,
        "height": 25,
        "hidden": false,
        "row": 52,
        "width": 12
       },
       "report_default": {
        "hidden": false
       }
      }
     }
    }
   },
   "source": [
    "### Create models by using automated pipelines widget\n",
    "\n",
    "Automated pipelines help you find a good set of features and pipeline parameters without having to write as much code. In order to use automation, you need to:\n",
    "1. Initialize your pipeline with a query or data file and a segmenter (Explained in previous section)\n",
    "2. Choose a pipeline seed (i.e. a template pipeline)\n",
    "\n",
    "    #### Pipeline Seeds\n",
    "    Pipeline seeds are pre-defined pipeline configurations that exist on the server that can be used to populate the functions and parameters of your DSK pipeline. So instead of piecing together your own pipeline with function calls and other code, you can use a pre-set pipeline seed to run feature generators, selectors, transforms, and model generation algorithms based on a common pattern from the database.\n",
    "\n",
    "\n",
    "##### Guidelines for Picking a Seed\n",
    "- Basic Features - choose this if:\n",
    "     - You are wondering where to start\n",
    "     - You want execution to be as quick as possible\n",
    "     - You want simple, easy-to-interpret features\n",
    "- Advanced Features - choose this if:\n",
    "     - You tried \"Basic Features\" and didn't get a good model\n",
    "     - You don't mind if execution takes a while\n",
    "     - You want the best possible features, even if they are complex \n",
    "- Downsampled Features - choose this if:\n",
    "     - You are creating a gesture recognition application\n",
    "- Histogram Features - choose this if:\n",
    "     - You are creating a motor vibration application\n",
    "- Custom Seed - choose this if:\n",
    "     - You tried the other seeds and didn't get a good model\n",
    "     - You want to build your own pipeline and use the genetic algorithm to find the best number of features, best number of neurons, and other model-related parameters\n",
    "- No Feature Generation - choose this if:\n",
    "     - You do not want to generate any features, only test the ones you have made offline (Note: resulting knowledgepacks will not have a feature extraction algorithm, so will not operate on a device; intended for testing only)\n"
   ]
  },
  {
   "cell_type": "code",
   "execution_count": 5,
   "metadata": {
    "extensions": {
     "jupyter_dashboards": {
      "version": 1,
      "views": {
       "grid_default": {
        "col": 0,
        "height": 27,
        "hidden": false,
        "row": 77,
        "width": 12
       },
       "report_default": {
        "hidden": false
       }
      }
     }
    }
   },
   "outputs": [
    {
     "data": {
      "application/vnd.jupyter.widget-view+json": {
       "model_id": "d7b61acd00ca4d54b40ff6735db38c7f",
       "version_major": 2,
       "version_minor": 0
      },
      "text/html": [
       "<p>Failed to display Jupyter Widget of type <code>VBox</code>.</p>\n",
       "<p>\n",
       "  If you're reading this message in the Jupyter Notebook or JupyterLab Notebook, it may mean\n",
       "  that the widgets JavaScript is still loading. If this message persists, it\n",
       "  likely means that the widgets JavaScript library is either not installed or\n",
       "  not enabled. See the <a href=\"https://ipywidgets.readthedocs.io/en/stable/user_install.html\">Jupyter\n",
       "  Widgets Documentation</a> for setup instructions.\n",
       "</p>\n",
       "<p>\n",
       "  If you're reading this message in another frontend (for example, a static\n",
       "  rendering on GitHub or <a href=\"https://nbviewer.jupyter.org/\">NBViewer</a>),\n",
       "  it may mean that your frontend doesn't currently support widgets.\n",
       "</p>\n"
      ],
      "text/plain": [
       "VBox(children=(HBox(children=(VBox(children=(Dropdown(description=u'Select Query', options=(u'ADLMU', u'MLU', u'AD', u'Query New'), value=u'ADLMU'), Dropdown(description=u'Segmenter', options=('Default', 'Windowing(128)', 'Windowing(256)', 'Windowing(512)', 'Windowing(1024)'), value='Default'), interactive(children=(Dropdown(description=u'Name', options=(u'Advanced Features', u'Basic Features', u'Custom', u'Downsampled Features', u'Histogram Features', u'No Feature Generation'), value=u'Advanced Features'), Output()), _dom_classes=('widget-interact',)), Textarea(value=u'Generates a comprehensive set of features using statistical, energy,\\namplitude, shape, time, and rate of change feature generators. The seed\\nthen performs feature selection and model generation algorithms with\\na genetic algorithm to optimize pipeline parameters.', description=u'Description'))), VBox(children=(FloatSlider(value=0.8, description=u'Accuracy', max=1.0, step=0.05), FloatSlider(value=0.8, description=u'Sensitivity', max=1.0, step=0.05), FloatSlider(value=0.5, description=u'Features', max=1.0, step=0.05), FloatSlider(value=0.5, description=u'Neurons', max=1.0, step=0.05), IntSlider(value=2, description=u'Iterations', max=15, min=1), IntSlider(value=10, description=u'Population', max=50, min=10))), QgridWidget(grid_options={'fullWidthRows': True, 'rowHeight': 35, 'forceFitColumns': True, 'enableTextSelectionOnCells': True, 'editable': False, 'explicitInitialization': True, 'minVisibleRows': 5, 'autoEdit': False, 'enableColumnReorder': False, 'maxVisibleRows': 5, 'defaultColumnWidth': 15, 'syncColumnCellResize': True}, layout=Layout(width=u'300px'), precision=5))), HBox(children=(Button(description=u'Run Autopipeline', style=ButtonStyle()), Button(description=u'Refresh Queries', style=ButtonStyle())))))"
      ]
     },
     "metadata": {},
     "output_type": "display_data"
    },
    {
     "name": "stdout",
     "output_type": "stream",
     "text": [
      "{'reset': False, 'neurons': 0.9, 'population_size': 10, 'features': 0.9, 'iterations': 1, 'sensitivity': 0.8, 'accuracy': 0.8}\n",
      "Running Auto Pipeline with Basic Features Seed:\n",
      "\n",
      "\n",
      "Checking for Results:\n",
      "\n",
      "Pipeline Running... Run Time: 0 sec.\n",
      "....Pipeline Running... Run Time: 77 sec.\n",
      "....Pipeline Running... Run Time: 154 sec.\n",
      "..Automation Pipeline Completed. Results saved in self.results, self.summary.\n"
     ]
    }
   ],
   "source": [
    "auto_widget = AutoSenseWidget(dsk)\n",
    "auto_widget.create_widget()"
   ]
  },
  {
   "cell_type": "markdown",
   "metadata": {
    "extensions": {
     "jupyter_dashboards": {
      "version": 1,
      "views": {
       "grid_default": {
        "col": 0,
        "height": 4,
        "hidden": false,
        "row": 133,
        "width": 12
       },
       "report_default": {
        "hidden": false
       }
      }
     }
    }
   },
   "source": [
    "### Download Knowledpack in Library and Binary Form \n",
    "Finally, lets download our knowledpack in library and binary form. From the Autosense widget, you should see the results in the right hand side. The results will be saved as knowledpacks as \"pipeline_name\"-index-\"rank\""
   ]
  },
  {
   "cell_type": "code",
   "execution_count": 6,
   "metadata": {
    "extensions": {
     "jupyter_dashboards": {
      "version": 1,
      "views": {
       "grid_default": {
        "col": 4,
        "height": 7,
        "hidden": false,
        "row": 117,
        "width": 4
       },
       "report_default": {
        "hidden": false
       }
      }
     }
    }
   },
   "outputs": [
    {
     "data": {
      "application/vnd.jupyter.widget-view+json": {
       "model_id": "00840bcc5d744055b4c9f294c376027d",
       "version_major": 2,
       "version_minor": 0
      },
      "text/html": [
       "<p>Failed to display Jupyter Widget of type <code>VBox</code>.</p>\n",
       "<p>\n",
       "  If you're reading this message in the Jupyter Notebook or JupyterLab Notebook, it may mean\n",
       "  that the widgets JavaScript is still loading. If this message persists, it\n",
       "  likely means that the widgets JavaScript library is either not installed or\n",
       "  not enabled. See the <a href=\"https://ipywidgets.readthedocs.io/en/stable/user_install.html\">Jupyter\n",
       "  Widgets Documentation</a> for setup instructions.\n",
       "</p>\n",
       "<p>\n",
       "  If you're reading this message in another frontend (for example, a static\n",
       "  rendering on GitHub or <a href=\"https://nbviewer.jupyter.org/\">NBViewer</a>),\n",
       "  it may mean that your frontend doesn't currently support widgets.\n",
       "</p>\n"
      ],
      "text/plain": [
       "VBox(children=(HBox(children=(Dropdown(description=u'Model Name', options={u'AD': u'1ec982f3-ecb1-4959-baec-b6f3418b3f96', u'MLU': u'21fd6712-98d0-42dd-bc92-6aefd87ab401', u'Gesture Pipeline_rank_4': u'9a2183a2-9be7-4fcb-92bd-a0cc27d1b8bc', u'Gesture Pipeline_rank_0': u'50a83695-00dd-46d3-975c-38e1d06297ef', u'Gesture Pipeline_rank_1': u'c12d5108-1f05-4c8a-aa51-085d073d7f34', u'Gesture Pipeline_rank_2': u'a4b3f4b2-92e8-4258-9268-579a8854bbe1', u'Gesture Pipeline_rank_3': u'e9005a8e-d261-4dcd-8c00-e49ee97fe732', u'Parent-ADMLU': u'3492bae8-eb65-4166-af74-8cb6c4d68e21'}, value=u'1ec982f3-ecb1-4959-baec-b6f3418b3f96'), Button(description=u'Refresh Models', icon=u'0', layout=Layout(align_items=u'flex-start', border=u'solid 2px', display=u'flex', flex_flow=u'column', justify_content=u'center', overflow=u'visible', width=u'25%'), style=ButtonStyle()), Button(description=u'Generate Knowledgepack', icon=u'0', layout=Layout(align_items=u'flex-start', border=u'solid 2px', display=u'flex', flex_flow=u'column', justify_content=u'center', overflow=u'visible', width=u'25%'), style=ButtonStyle()))), Label(value=u'Download Settings', layout=Layout(justify_content=u'flex-start', overflow=u'visible')), HBox(children=(VBox(children=(Dropdown(description=u'HW Platform', index=1, options={'Curie Reference 4.1': 1, 'Nordic Thingy 2.1': 2, 'Amulet 4.1': 0}, value=2), Dropdown(description=u'Target OS', options=('NordicSDK',), value='NordicSDK'), Dropdown(description=u'Download', options=('Binary', 'Library'), value='Binary'))), VBox(children=(Dropdown(description=u'IMU Rate', options=(100, 50, 25), value=100), Dropdown(description=u'Debug', options=(True, False), value=True), Dropdown(description=u'Test Data', options=(None,), value=None))), SelectMultiple(description=u'Output', index=(0,), options=('ble', 'led', 'serial'), value=('ble',))))))"
      ]
     },
     "metadata": {},
     "output_type": "display_data"
    }
   ],
   "source": [
    "DownloadWidget(dsk).create_widget()"
   ]
  },
  {
   "cell_type": "code",
   "execution_count": 7,
   "metadata": {},
   "outputs": [
    {
     "data": {
      "application/vnd.jupyter.widget-view+json": {
       "model_id": "af6a7033a43341bb89b0d251e429c5c9",
       "version_major": 2,
       "version_minor": 0
      },
      "text/html": [
       "<p>Failed to display Jupyter Widget of type <code>VBox</code>.</p>\n",
       "<p>\n",
       "  If you're reading this message in the Jupyter Notebook or JupyterLab Notebook, it may mean\n",
       "  that the widgets JavaScript is still loading. If this message persists, it\n",
       "  likely means that the widgets JavaScript library is either not installed or\n",
       "  not enabled. See the <a href=\"https://ipywidgets.readthedocs.io/en/stable/user_install.html\">Jupyter\n",
       "  Widgets Documentation</a> for setup instructions.\n",
       "</p>\n",
       "<p>\n",
       "  If you're reading this message in another frontend (for example, a static\n",
       "  rendering on GitHub or <a href=\"https://nbviewer.jupyter.org/\">NBViewer</a>),\n",
       "  it may mean that your frontend doesn't currently support widgets.\n",
       "</p>\n"
      ],
      "text/plain": [
       "VBox(children=(HBox(children=(interactive(children=(Dropdown(description=u'Platform', options={'Curie Reference 4.1': 1, 'Nordic Thingy 2.1': 2, 'Amulet 4.1': 0}, value=1), Output()), _dom_classes=('widget-interact',)), Label(value=u'', layout=Layout(width=u'400px')))), HBox(children=(Dropdown(description=u'Binary', layout=Layout(width=u'550px'), options=(), value=None), Button(description=u'Refresh', style=ButtonStyle()))), HBox(children=(Dropdown(description=u'Flash Method', options=(), value=None), Button(description=u'Flash', style=ButtonStyle()), Button(description=u'Generate OTA', layout=Layout(visibility=u'hidden'), style=ButtonStyle())))))"
      ]
     },
     "metadata": {},
     "output_type": "display_data"
    }
   ],
   "source": [
    "FlashWidget(dsk).create_widget()"
   ]
  },
  {
   "cell_type": "code",
   "execution_count": null,
   "metadata": {
    "collapsed": true
   },
   "outputs": [],
   "source": []
  }
 ],
 "metadata": {
  "anaconda-cloud": {},
  "extensions": {
   "jupyter_dashboards": {
    "activeView": "report_default",
    "version": 1,
    "views": {
     "grid_default": {
      "cellMargin": 10,
      "defaultCellHeight": 20,
      "maxColumns": 12,
      "name": "grid",
      "type": "grid"
     },
     "report_default": {
      "name": "report",
      "type": "report"
     }
    }
   }
  },
  "kernelspec": {
   "display_name": "Python 2",
   "language": "python",
   "name": "python2"
  },
  "language_info": {
   "codemirror_mode": {
    "name": "ipython",
    "version": 2
   },
   "file_extension": ".py",
   "mimetype": "text/x-python",
   "name": "python",
   "nbconvert_exporter": "python",
   "pygments_lexer": "ipython2",
   "version": "2.7.13"
  },
  "toc": {
   "nav_menu": {},
   "number_sections": true,
   "sideBar": true,
   "skip_h1_title": false,
   "toc_cell": false,
   "toc_position": {},
   "toc_section_display": "block",
   "toc_window_display": false
  },
  "widgets": {
   "application/vnd.jupyter.widget-state+json": {
    "state": {
     "00840bcc5d744055b4c9f294c376027d": {
      "model_module": "@jupyter-widgets/controls",
      "model_module_version": "1.1.0",
      "model_name": "VBoxModel",
      "state": {
       "children": [
        "IPY_MODEL_3483b611cfa14e5880ac9643065140fa",
        "IPY_MODEL_566d2941b74048ddbdc6ea288c130754",
        "IPY_MODEL_59b5f961a6c3482da2c9ac6b7ec1bfce"
       ],
       "layout": "IPY_MODEL_fbe787b084bc4394b18ed4ba7203d075"
      }
     },
     "008ac02daa92497baa30bb0717e2f9c2": {
      "model_module": "@jupyter-widgets/base",
      "model_module_version": "1.0.0",
      "model_name": "LayoutModel",
      "state": {}
     },
     "022c5f565b334760b2ac568b900553c2": {
      "model_module": "@jupyter-widgets/controls",
      "model_module_version": "1.1.0",
      "model_name": "DescriptionStyleModel",
      "state": {
       "description_width": ""
      }
     },
     "031c9a93c9be4d4984c2c5271ea6b775": {
      "model_module": "@jupyter-widgets/base",
      "model_module_version": "1.0.0",
      "model_name": "LayoutModel",
      "state": {}
     },
     "050a601fab4b4fddbe5e329f150f6187": {
      "model_module": "@jupyter-widgets/controls",
      "model_module_version": "1.1.0",
      "model_name": "CheckboxModel",
      "state": {
       "description": "Reset",
       "disabled": false,
       "layout": "IPY_MODEL_97eb51f51f4e494cb1b068fd1a1d249f",
       "style": "IPY_MODEL_d2250b9fbc624687b33acca1f74aeca3",
       "value": false
      }
     },
     "06fb942e87c24614b34e95df194f0b7c": {
      "model_module": "@jupyter-widgets/base",
      "model_module_version": "1.0.0",
      "model_name": "LayoutModel",
      "state": {}
     },
     "0716e56d8c2a4737858e1bf438176b40": {
      "model_module": "@jupyter-widgets/controls",
      "model_module_version": "1.1.0",
      "model_name": "DropdownModel",
      "state": {
       "_options_labels": [
        "Curie Reference 4.1",
        "Nordic Thingy 2.1",
        "Amulet 4.1"
       ],
       "description": "Platform",
       "index": 1,
       "layout": "IPY_MODEL_364657dd9f004253b52de16867c7752e",
       "style": "IPY_MODEL_acb98b1102a5407c9181597504041c10"
      }
     },
     "09fb3e63d6cb4776859c47fb4e3d6abd": {
      "model_module": "@jupyter-widgets/controls",
      "model_module_version": "1.1.0",
      "model_name": "ButtonStyleModel",
      "state": {}
     },
     "0c2402199b9e4af797063276a125d6a6": {
      "model_module": "@jupyter-widgets/base",
      "model_module_version": "1.0.0",
      "model_name": "LayoutModel",
      "state": {}
     },
     "0cf9a82d82174db6b9e132965196ba04": {
      "model_module": "@jupyter-widgets/base",
      "model_module_version": "1.0.0",
      "model_name": "LayoutModel",
      "state": {}
     },
     "0edcd497a0a4427f9fface904c8409d7": {
      "model_module": "@jupyter-widgets/base",
      "model_module_version": "1.0.0",
      "model_name": "LayoutModel",
      "state": {}
     },
     "0fc50fb211d24a2c984fc2b9a167b477": {
      "model_module": "@jupyter-widgets/controls",
      "model_module_version": "1.1.0",
      "model_name": "FloatSliderModel",
      "state": {
       "description": "Features",
       "layout": "IPY_MODEL_511c8ad4ad7a4b5d9fee27ed1f2e6140",
       "max": 1,
       "step": 0.05,
       "style": "IPY_MODEL_b894e59ced1b4def822fc762149b6d53",
       "value": 0.9
      }
     },
     "102ff363beaf4201a30706e6bd3414d7": {
      "model_module": "@jupyter-widgets/base",
      "model_module_version": "1.0.0",
      "model_name": "LayoutModel",
      "state": {}
     },
     "10a92b4b4a3448e08c6352078e7785bb": {
      "model_module": "@jupyter-widgets/controls",
      "model_module_version": "1.1.0",
      "model_name": "DescriptionStyleModel",
      "state": {
       "description_width": ""
      }
     },
     "10eb4d7f72f343fd9f16364f290aee5c": {
      "model_module": "@jupyter-widgets/base",
      "model_module_version": "1.0.0",
      "model_name": "LayoutModel",
      "state": {}
     },
     "10f1afc0bb3c43858deb9772513d96c5": {
      "model_module": "@jupyter-widgets/base",
      "model_module_version": "1.0.0",
      "model_name": "LayoutModel",
      "state": {
       "align_items": "flex-start",
       "border": "solid 2px",
       "display": "flex",
       "flex_flow": "column",
       "justify_content": "center",
       "overflow": "visible",
       "width": "25%"
      }
     },
     "12759069dfbc4747882e5dc388c2b175": {
      "model_module": "bqplot",
      "model_module_version": "^0.3.2",
      "model_name": "FigureModel",
      "state": {
       "_dom_classes": [],
       "axes": [
        "IPY_MODEL_d81ae361de974737b9794c03154d0b90",
        "IPY_MODEL_b83bb0e3ad9b41e4bf647bb18b3cbd5c"
       ],
       "background_style": {
        "fill": "white"
       },
       "fig_margin": {
        "bottom": 30,
        "left": 50,
        "right": 0,
        "top": 10
       },
       "layout": "IPY_MODEL_880e0a21ee87482dbc21454cafb97547",
       "legend_location": "bottom-right",
       "marks": [
        "IPY_MODEL_ebe9d885db15421b8466b6dd1ae73363"
       ],
       "max_aspect_ratio": 6,
       "scale_x": "IPY_MODEL_daf3130353bf4d9c99621fd8d2e0891b",
       "scale_y": "IPY_MODEL_6fdbebac1b43466dabd458fe0e4bc6aa"
      }
     },
     "13d0429401674d24aad14acd73715000": {
      "model_module": "@jupyter-widgets/output",
      "model_module_version": "1.1.0",
      "model_name": "OutputModel",
      "state": {
       "_model_module_version": "1.1.0",
       "_view_module_version": "1.1.0",
       "layout": "IPY_MODEL_2d237423ce8147c6acdc282e3b032fed"
      }
     },
     "15216e01fac34dcca3d5b845f6c77d95": {
      "model_module": "@jupyter-widgets/controls",
      "model_module_version": "1.1.0",
      "model_name": "ButtonModel",
      "state": {
       "description": "Add Query",
       "layout": "IPY_MODEL_c1400c72143c494687a553b2e8dc81e8",
       "style": "IPY_MODEL_d69ea31bf2ba46418088d082c00b59d0"
      }
     },
     "15753fa0bae144958af7124b1915d3d1": {
      "model_module": "@jupyter-widgets/base",
      "model_module_version": "1.0.0",
      "model_name": "LayoutModel",
      "state": {}
     },
     "15ae586ed1904db9b870cc50076429b1": {
      "model_module": "@jupyter-widgets/controls",
      "model_module_version": "1.1.0",
      "model_name": "DropdownModel",
      "state": {
       "_options_labels": [
        "Device",
        "Subject",
        "Gesture"
       ],
       "description": "Label",
       "index": 2,
       "layout": "IPY_MODEL_3f05ea1aa7ec4af49992c368130114c7",
       "style": "IPY_MODEL_fe187a0021474f2283909aee4ccdb37e"
      }
     },
     "170c92b922454b81b6054163b67cb1f0": {
      "model_module": "@jupyter-widgets/base",
      "model_module_version": "1.0.0",
      "model_name": "LayoutModel",
      "state": {}
     },
     "18c6c958459f4081add70372132fea8a": {
      "model_module": "@jupyter-widgets/controls",
      "model_module_version": "1.1.0",
      "model_name": "SliderStyleModel",
      "state": {
       "description_width": ""
      }
     },
     "1901fd9381d94c3ba3c619dc9f88c8cd": {
      "model_module": "@jupyter-widgets/controls",
      "model_module_version": "1.1.0",
      "model_name": "DescriptionStyleModel",
      "state": {
       "description_width": ""
      }
     },
     "1e31b7ecd96a4cedb03b23b1ee623717": {
      "model_module": "@jupyter-widgets/base",
      "model_module_version": "1.0.0",
      "model_name": "LayoutModel",
      "state": {}
     },
     "1eef024170d0423784ea44198f9500b9": {
      "model_module": "@jupyter-widgets/controls",
      "model_module_version": "1.1.0",
      "model_name": "DescriptionStyleModel",
      "state": {
       "description_width": ""
      }
     },
     "23bae974de69426694e4ab6dc38fefbb": {
      "model_module": "@jupyter-widgets/controls",
      "model_module_version": "1.1.0",
      "model_name": "ButtonStyleModel",
      "state": {}
     },
     "23fa1b689c7d43ebbd3fca45e6a7832e": {
      "model_module": "@jupyter-widgets/controls",
      "model_module_version": "1.1.0",
      "model_name": "ButtonStyleModel",
      "state": {}
     },
     "2551f62892f24023801cf4dae3ad9b63": {
      "model_module": "@jupyter-widgets/base",
      "model_module_version": "1.0.0",
      "model_name": "LayoutModel",
      "state": {}
     },
     "256eaa7f7b5145fcaf062d36289cd783": {
      "model_module": "bqplot",
      "model_module_version": "^0.3.2",
      "model_name": "BarsModel",
      "state": {
       "color": {
        "type": null,
        "values": null
       },
       "color_mode": "group",
       "colors": [
        "steelblue"
       ],
       "display_legend": false,
       "scales": {
        "x": "IPY_MODEL_5e246bb7b1434407879d13fa5f493f79",
        "y": "IPY_MODEL_41a1ec025b8647689944eab7e921014b"
       },
       "selected": [],
       "x": {
        "type": "<U1",
        "values": [
         "A",
         "D",
         "L",
         "M",
         "U"
        ]
       },
       "y": {
        "type": "float",
        "values": [
         37,
         22,
         42,
         41,
         31
        ]
       }
      }
     },
     "25f7a722cfed43c5be2eb5ebb6888842": {
      "model_module": "bqplot",
      "model_module_version": "^0.3.2",
      "model_name": "LinearScaleModel",
      "state": {
       "allow_padding": false,
       "max": 1,
       "min": 0,
       "stabilized": false
      }
     },
     "261e8b6f97d84bf2a27d1d0e3d2b361b": {
      "model_module": "@jupyter-widgets/base",
      "model_module_version": "1.0.0",
      "model_name": "LayoutModel",
      "state": {}
     },
     "262bfe5fc1264d72b3ece87584ba3b4c": {
      "model_module": "@jupyter-widgets/base",
      "model_module_version": "1.0.0",
      "model_name": "LayoutModel",
      "state": {}
     },
     "267704686c1040939ed8a2b1d64a08af": {
      "model_module": "@jupyter-widgets/base",
      "model_module_version": "1.0.0",
      "model_name": "LayoutModel",
      "state": {}
     },
     "2717ad4ce12443ea9c45229ae8c5090d": {
      "model_module": "@jupyter-widgets/base",
      "model_module_version": "1.0.0",
      "model_name": "LayoutModel",
      "state": {}
     },
     "2926b86f52b24632a4e74b653cf87856": {
      "model_module": "@jupyter-widgets/controls",
      "model_module_version": "1.1.0",
      "model_name": "DescriptionStyleModel",
      "state": {
       "description_width": ""
      }
     },
     "2a45485b7be74619b06dbb139cd7f248": {
      "model_module": "@jupyter-widgets/controls",
      "model_module_version": "1.1.0",
      "model_name": "HBoxModel",
      "state": {
       "children": [
        "IPY_MODEL_803c574bd7ae4bff8fd02457a42a44a3",
        "IPY_MODEL_dc700e5af32a45a5b6e2ecf4b5bc3db1",
        "IPY_MODEL_3a390eb2b2224ceb8dd916600e7d9156"
       ],
       "layout": "IPY_MODEL_6c1f514d053f4d1d8fd36070a6c8c5b4"
      }
     },
     "2afdc7c857f9440199e894a8e782508c": {
      "model_module": "@jupyter-widgets/base",
      "model_module_version": "1.0.0",
      "model_name": "LayoutModel",
      "state": {}
     },
     "2b70d94a960e40b8a0cef69dd7543cf6": {
      "model_module": "@jupyter-widgets/controls",
      "model_module_version": "1.1.0",
      "model_name": "FloatSliderModel",
      "state": {
       "description": "Neurons",
       "layout": "IPY_MODEL_eb83101af5e247aebe00f37d5f8aa8cc",
       "max": 1,
       "step": 0.05,
       "style": "IPY_MODEL_c4b011ac9a4745e1aad9272a4f516622",
       "value": 0.9
      }
     },
     "2d237423ce8147c6acdc282e3b032fed": {
      "model_module": "@jupyter-widgets/base",
      "model_module_version": "1.0.0",
      "model_name": "LayoutModel",
      "state": {}
     },
     "2e9695135d1c4a4b974e62db2618ddbe": {
      "model_module": "@jupyter-widgets/controls",
      "model_module_version": "1.1.0",
      "model_name": "DropdownModel",
      "state": {
       "_options_labels": [
        "Advanced Features",
        "Basic Features",
        "Custom",
        "Downsampled Features",
        "Histogram Features",
        "No Feature Generation"
       ],
       "description": "Name",
       "index": 1,
       "layout": "IPY_MODEL_649099a4fa494bbcb76409966c611110",
       "style": "IPY_MODEL_e55565394c214672bd62a15db68ecaff"
      }
     },
     "2f829bfb26484c2aaa0a7c69a9338a4c": {
      "model_module": "@jupyter-widgets/controls",
      "model_module_version": "1.1.0",
      "model_name": "ButtonStyleModel",
      "state": {}
     },
     "30d2030836c2416f8d9128d459308062": {
      "model_module": "@jupyter-widgets/controls",
      "model_module_version": "1.1.0",
      "model_name": "ButtonStyleModel",
      "state": {}
     },
     "323ea356a5c24a6fbf33d48f235defe2": {
      "model_module": "@jupyter-widgets/controls",
      "model_module_version": "1.1.0",
      "model_name": "DropdownModel",
      "state": {
       "_options_labels": [
        "Manual",
        "Segmenter Builder 1",
        "Segmenter Builder Result"
       ],
       "description": "Segmenter",
       "index": 2,
       "layout": "IPY_MODEL_49f2d73621c14825956cd19b3085d5ca",
       "style": "IPY_MODEL_803ed05c04684b04a2119310099f2203"
      }
     },
     "330e6bf6e884463b9e930e4df4932694": {
      "model_module": "@jupyter-widgets/controls",
      "model_module_version": "1.1.0",
      "model_name": "FloatSliderModel",
      "state": {
       "description": "Sensitivity",
       "layout": "IPY_MODEL_170c92b922454b81b6054163b67cb1f0",
       "max": 1,
       "step": 0.05,
       "style": "IPY_MODEL_70ceaf807008467db2430f59abdbe091",
       "value": 0.8
      }
     },
     "3483b611cfa14e5880ac9643065140fa": {
      "model_module": "@jupyter-widgets/controls",
      "model_module_version": "1.1.0",
      "model_name": "HBoxModel",
      "state": {
       "children": [
        "IPY_MODEL_da16c0f932ba4f83857a4d9f3f61711a",
        "IPY_MODEL_7af006d4d40e44be91ee7c9ab9191c49",
        "IPY_MODEL_51ecf3f619f04d5db30b5a6cd32a8504"
       ],
       "layout": "IPY_MODEL_008ac02daa92497baa30bb0717e2f9c2"
      }
     },
     "364657dd9f004253b52de16867c7752e": {
      "model_module": "@jupyter-widgets/base",
      "model_module_version": "1.0.0",
      "model_name": "LayoutModel",
      "state": {}
     },
     "366deec0da5641c6adb22672fe0a3fae": {
      "model_module": "@jupyter-widgets/controls",
      "model_module_version": "1.1.0",
      "model_name": "DescriptionStyleModel",
      "state": {
       "description_width": ""
      }
     },
     "37ec72c3363046d5b684467a8dccc63d": {
      "model_module": "@jupyter-widgets/controls",
      "model_module_version": "1.1.0",
      "model_name": "HBoxModel",
      "state": {
       "children": [
        "IPY_MODEL_a2da7475c2834db78e80bbac446e8f79",
        "IPY_MODEL_54367fcd16954a68ad0e5950a37b427a"
       ],
       "layout": "IPY_MODEL_7da07b85c48f4e809e435ef587e07c78"
      }
     },
     "3a390eb2b2224ceb8dd916600e7d9156": {
      "model_module": "qgrid",
      "model_module_version": "1.0.0",
      "model_name": "QgridModel",
      "state": {
       "_columns": {
        "accuracy": {
         "name": "accuracy",
         "position": 2,
         "type": "integer"
        },
        "features": {
         "name": "features",
         "position": 5,
         "type": "integer"
        },
        "index": {
         "is_index": true,
         "name": "index",
         "position": 0,
         "type": "integer"
        },
        "neurons": {
         "name": "neurons",
         "position": 4,
         "type": "integer"
        },
        "qgrid_unfiltered_index": {
         "name": "qgrid_unfiltered_index",
         "position": 1,
         "type": "integer"
        },
        "sensitivity": {
         "name": "sensitivity",
         "position": 3,
         "type": "integer"
        }
       },
       "_df_json": "{\"schema\": {\"fields\":[{\"type\":\"integer\",\"name\":\"index\"},{\"type\":\"integer\",\"name\":\"qgrid_unfiltered_index\"},{\"type\":\"integer\",\"name\":\"accuracy\"},{\"type\":\"integer\",\"name\":\"sensitivity\"},{\"type\":\"integer\",\"name\":\"neurons\"},{\"type\":\"integer\",\"name\":\"features\"}],\"pandas_version\":\"0.20.0\",\"primaryKey\":[\"index\"]}, \"data\": [{\"index\":0,\"qgrid_unfiltered_index\":0,\"accuracy\":94,\"sensitivity\":94,\"neurons\":15,\"features\":15},{\"index\":1,\"qgrid_unfiltered_index\":1,\"accuracy\":94,\"sensitivity\":94,\"neurons\":15,\"features\":15},{\"index\":2,\"qgrid_unfiltered_index\":2,\"accuracy\":94,\"sensitivity\":94,\"neurons\":15,\"features\":29},{\"index\":3,\"qgrid_unfiltered_index\":3,\"accuracy\":94,\"sensitivity\":94,\"neurons\":15,\"features\":29},{\"index\":4,\"qgrid_unfiltered_index\":4,\"accuracy\":94,\"sensitivity\":94,\"neurons\":15,\"features\":29}]}",
       "_df_range": [
        0,
        100
       ],
       "_index_col_name": "qgrid_unfiltered_index",
       "_interval_columns": [],
       "_model_module_version": "1.0.0",
       "_page_size": 100,
       "_row_count": 5,
       "_sort_ascending": true,
       "_sort_field": "",
       "_view_module_version": "1.0.0",
       "grid_options": {
        "autoEdit": false,
        "defaultColumnWidth": 15,
        "editable": false,
        "enableColumnReorder": false,
        "enableTextSelectionOnCells": true,
        "explicitInitialization": true,
        "forceFitColumns": true,
        "fullWidthRows": true,
        "maxVisibleRows": 5,
        "minVisibleRows": 5,
        "rowHeight": 35,
        "syncColumnCellResize": true
       },
       "layout": "IPY_MODEL_c38b489e6c864720baff3878bc90783d",
       "precision": 5,
       "show_toolbar": false
      }
     },
     "3ac0f55128114d6c9eae67efd4b1f7b4": {
      "model_module": "@jupyter-widgets/controls",
      "model_module_version": "1.1.0",
      "model_name": "DropdownModel",
      "state": {
       "_options_labels": [
        "Manual",
        "Segmenter Builder 1",
        "Segmenter Builder Result"
       ],
       "description": "Segmenter",
       "index": 2,
       "layout": "IPY_MODEL_ba3145b32f304952901fd18fa6ef697b",
       "style": "IPY_MODEL_bdcaf24857d54a5d8f5870fe89a950c7"
      }
     },
     "3e8f78b16e99416fb1df56005f15e878": {
      "model_module": "@jupyter-widgets/base",
      "model_module_version": "1.0.0",
      "model_name": "LayoutModel",
      "state": {}
     },
     "3eb64d506b504db0911687e1afba7833": {
      "model_module": "@jupyter-widgets/base",
      "model_module_version": "1.0.0",
      "model_name": "LayoutModel",
      "state": {}
     },
     "3f05ea1aa7ec4af49992c368130114c7": {
      "model_module": "@jupyter-widgets/base",
      "model_module_version": "1.0.0",
      "model_name": "LayoutModel",
      "state": {}
     },
     "3f7adde135f0492588b5eb8c12e9d13d": {
      "model_module": "@jupyter-widgets/base",
      "model_module_version": "1.0.0",
      "model_name": "LayoutModel",
      "state": {}
     },
     "40351ed938664055974652f5f85b8144": {
      "model_module": "@jupyter-widgets/base",
      "model_module_version": "1.0.0",
      "model_name": "LayoutModel",
      "state": {}
     },
     "41a1ec025b8647689944eab7e921014b": {
      "model_module": "bqplot",
      "model_module_version": "^0.3.2",
      "model_name": "LinearScaleModel",
      "state": {
       "min": 0,
       "stabilized": false
      }
     },
     "432c22c863f14f2d848af35ef888a435": {
      "model_module": "@jupyter-widgets/base",
      "model_module_version": "1.0.0",
      "model_name": "LayoutModel",
      "state": {}
     },
     "43b07b0b263f40ea9dfadbf1130c0518": {
      "model_module": "@jupyter-widgets/base",
      "model_module_version": "1.0.0",
      "model_name": "LayoutModel",
      "state": {}
     },
     "448033f6fb8946b789f9f1b027a5ea93": {
      "model_module": "@jupyter-widgets/controls",
      "model_module_version": "1.1.0",
      "model_name": "SelectMultipleModel",
      "state": {
       "_options_labels": [
        "AccelerometerX",
        "AccelerometerY",
        "AccelerometerZ",
        "GyroscopeX",
        "GyroscopeY",
        "GyroscopeZ"
       ],
       "description": "Sources",
       "index": [
        0,
        1,
        2,
        3,
        4,
        5
       ],
       "layout": "IPY_MODEL_2afdc7c857f9440199e894a8e782508c",
       "rows": 5,
       "style": "IPY_MODEL_9362d505365e4992a6562203e48a49ad"
      }
     },
     "466808804fee4f64a85c457a56a62e78": {
      "model_module": "@jupyter-widgets/controls",
      "model_module_version": "1.1.0",
      "model_name": "DescriptionStyleModel",
      "state": {
       "description_width": ""
      }
     },
     "49f2d73621c14825956cd19b3085d5ca": {
      "model_module": "@jupyter-widgets/base",
      "model_module_version": "1.0.0",
      "model_name": "LayoutModel",
      "state": {}
     },
     "4d724a6a11124225b5541ae6c6b07930": {
      "model_module": "@jupyter-widgets/controls",
      "model_module_version": "1.1.0",
      "model_name": "DescriptionStyleModel",
      "state": {
       "description_width": ""
      }
     },
     "4e12b1d24adb457b9901819eff608df2": {
      "model_module": "@jupyter-widgets/controls",
      "model_module_version": "1.1.0",
      "model_name": "HBoxModel",
      "state": {
       "children": [
        "IPY_MODEL_d44dc51aae2642368e45e5cab62fdc71",
        "IPY_MODEL_4e40b6e554da4573a5489464b54f81d4"
       ],
       "layout": "IPY_MODEL_43b07b0b263f40ea9dfadbf1130c0518"
      }
     },
     "4e40b6e554da4573a5489464b54f81d4": {
      "model_module": "@jupyter-widgets/controls",
      "model_module_version": "1.1.0",
      "model_name": "LabelModel",
      "state": {
       "layout": "IPY_MODEL_f19e240b43294da7be4bb5635b372316",
       "style": "IPY_MODEL_8c6a233f70df4ba4b63bd033e1dfc18b",
       "value": "Nordic Firmware for Thingy:52 SDK 2.1.x, Using ARM-GCC Compiler"
      }
     },
     "511c8ad4ad7a4b5d9fee27ed1f2e6140": {
      "model_module": "@jupyter-widgets/base",
      "model_module_version": "1.0.0",
      "model_name": "LayoutModel",
      "state": {}
     },
     "51ecf3f619f04d5db30b5a6cd32a8504": {
      "model_module": "@jupyter-widgets/controls",
      "model_module_version": "1.1.0",
      "model_name": "ButtonModel",
      "state": {
       "description": "Generate Knowledgepack",
       "icon": "0",
       "layout": "IPY_MODEL_10f1afc0bb3c43858deb9772513d96c5",
       "style": "IPY_MODEL_caa2d919fab54f01b0d9ea76586ee515"
      }
     },
     "538af4f0f8264f58a531e814001f0e50": {
      "model_module": "@jupyter-widgets/base",
      "model_module_version": "1.0.0",
      "model_name": "LayoutModel",
      "state": {
       "min_width": "150px",
       "overflow": "visible"
      }
     },
     "54367fcd16954a68ad0e5950a37b427a": {
      "model_module": "@jupyter-widgets/controls",
      "model_module_version": "1.1.0",
      "model_name": "ButtonModel",
      "state": {
       "description": "Refresh",
       "layout": "IPY_MODEL_e2d088d53239403883207154666aff3f",
       "style": "IPY_MODEL_23bae974de69426694e4ab6dc38fefbb"
      }
     },
     "54a79be02f3c4c189024f964be84b5e4": {
      "model_module": "@jupyter-widgets/controls",
      "model_module_version": "1.1.0",
      "model_name": "SelectMultipleModel",
      "state": {
       "_options_labels": [
        "AccelerometerX",
        "AccelerometerY",
        "AccelerometerZ",
        "GyroscopeX",
        "GyroscopeY",
        "GyroscopeZ"
       ],
       "description": "Sources",
       "index": [
        0,
        1,
        2,
        3,
        4,
        5
       ],
       "layout": "IPY_MODEL_1e31b7ecd96a4cedb03b23b1ee623717",
       "rows": 5,
       "style": "IPY_MODEL_664d5061cab3498a98717df219476e54"
      }
     },
     "566d2941b74048ddbdc6ea288c130754": {
      "model_module": "@jupyter-widgets/controls",
      "model_module_version": "1.1.0",
      "model_name": "LabelModel",
      "state": {
       "layout": "IPY_MODEL_dcae5ec869c4488d9c91b331f9bf731a",
       "style": "IPY_MODEL_466808804fee4f64a85c457a56a62e78",
       "value": "Download Settings"
      }
     },
     "56cc15f080954e599188e2cffc087e9a": {
      "model_module": "@jupyter-widgets/controls",
      "model_module_version": "1.1.0",
      "model_name": "TextareaModel",
      "state": {
       "description": "Description",
       "layout": "IPY_MODEL_a93039f0a0ca458fb64f2483ef1a9415",
       "style": "IPY_MODEL_6ee30195a3d4403b9244c23d8d51856b",
       "value": "Generates a set of all-purpose, high-performance features using\nstatistical, energy, and rate of change feature generators. The seed\nthen performs feature selection and model generation algorithms with\na genetic algorithm to optimize pipeline parameters."
      }
     },
     "59b5f961a6c3482da2c9ac6b7ec1bfce": {
      "model_module": "@jupyter-widgets/controls",
      "model_module_version": "1.1.0",
      "model_name": "HBoxModel",
      "state": {
       "children": [
        "IPY_MODEL_ce41ea5cfa2848b0969f27b00e18684c",
        "IPY_MODEL_741fb31980fc4bb39d21152496fb3a91",
        "IPY_MODEL_c2353729ab49491b9d469e8fc7c2c388"
       ],
       "layout": "IPY_MODEL_8f149c05b1ad48c380dbb11158c6f230"
      }
     },
     "5b69766bac5949d5a3600ee2baca88b7": {
      "model_module": "@jupyter-widgets/base",
      "model_module_version": "1.0.0",
      "model_name": "LayoutModel",
      "state": {}
     },
     "5c68f12080b042cb8a614e2057d71315": {
      "model_module": "bqplot",
      "model_module_version": "^0.3.2",
      "model_name": "AxisModel",
      "state": {
       "num_ticks": 5,
       "orientation": "vertical",
       "scale": "IPY_MODEL_41a1ec025b8647689944eab7e921014b",
       "side": "left",
       "tick_values": {
        "type": null,
        "values": null
       }
      }
     },
     "5e246bb7b1434407879d13fa5f493f79": {
      "model_module": "bqplot",
      "model_module_version": "^0.3.2",
      "model_name": "OrdinalScaleModel",
      "state": {
       "domain": []
      }
     },
     "5e48b9e0ba0244b4a42ad428a6a0c33c": {
      "model_module": "@jupyter-widgets/controls",
      "model_module_version": "1.1.0",
      "model_name": "DescriptionStyleModel",
      "state": {
       "description_width": ""
      }
     },
     "60b18eebd5d4483f9b2a36c1d34e8eea": {
      "model_module": "@jupyter-widgets/controls",
      "model_module_version": "1.1.0",
      "model_name": "HBoxModel",
      "state": {
       "children": [
        "IPY_MODEL_e14bd3eda5754648bb20bab883aac57f",
        "IPY_MODEL_715e0ebe0bdd4a88aeb68884d16128eb"
       ],
       "layout": "IPY_MODEL_432c22c863f14f2d848af35ef888a435"
      }
     },
     "60f5978ff7414a59b19d4a0c84d526f3": {
      "model_module": "@jupyter-widgets/controls",
      "model_module_version": "1.1.0",
      "model_name": "ButtonStyleModel",
      "state": {}
     },
     "621297c7c60542788932435995d31449": {
      "model_module": "@jupyter-widgets/controls",
      "model_module_version": "1.1.0",
      "model_name": "DropdownModel",
      "state": {
       "_options_labels": [
        "100",
        "50",
        "25"
       ],
       "description": "IMU Rate",
       "index": 0,
       "layout": "IPY_MODEL_d9bef21fd8da4b4dbbea6e325dcad3e4",
       "style": "IPY_MODEL_10a92b4b4a3448e08c6352078e7785bb"
      }
     },
     "626c30ad5e984479b378577589fcf98c": {
      "model_module": "@jupyter-widgets/controls",
      "model_module_version": "1.1.0",
      "model_name": "DescriptionStyleModel",
      "state": {
       "description_width": ""
      }
     },
     "64058c939f9749da82f9fe43c6ce2518": {
      "model_module": "@jupyter-widgets/base",
      "model_module_version": "1.0.0",
      "model_name": "LayoutModel",
      "state": {}
     },
     "649099a4fa494bbcb76409966c611110": {
      "model_module": "@jupyter-widgets/base",
      "model_module_version": "1.0.0",
      "model_name": "LayoutModel",
      "state": {}
     },
     "64c920b24d8b4de2a688573ae2514f75": {
      "model_module": "@jupyter-widgets/controls",
      "model_module_version": "1.1.0",
      "model_name": "DropdownModel",
      "state": {
       "_options_labels": [
        "ADLMU",
        "MLU",
        "AD",
        "Query New"
       ],
       "description": "Select Query",
       "index": 0,
       "layout": "IPY_MODEL_880d9f91a787427eb40f6790302c0f7b",
       "style": "IPY_MODEL_816c9ad8999348a4999592e45416dfc9"
      }
     },
     "664d5061cab3498a98717df219476e54": {
      "model_module": "@jupyter-widgets/controls",
      "model_module_version": "1.1.0",
      "model_name": "DescriptionStyleModel",
      "state": {
       "description_width": ""
      }
     },
     "66eabb3126184625a621189ff56ee0af": {
      "model_module": "@jupyter-widgets/controls",
      "model_module_version": "1.1.0",
      "model_name": "DescriptionStyleModel",
      "state": {
       "description_width": ""
      }
     },
     "6700980413a74e9587471f6918b0b036": {
      "model_module": "@jupyter-widgets/controls",
      "model_module_version": "1.1.0",
      "model_name": "DescriptionStyleModel",
      "state": {
       "description_width": ""
      }
     },
     "67085aa0417d4bd79874e867ca5fb603": {
      "model_module": "@jupyter-widgets/controls",
      "model_module_version": "1.1.0",
      "model_name": "DropdownModel",
      "state": {
       "_options_labels": [
        "Device",
        "Subject",
        "Gesture"
       ],
       "description": "Label",
       "index": 2,
       "layout": "IPY_MODEL_c3dab2ac8b0d4fa6bd18cf5cd873cbb4",
       "style": "IPY_MODEL_98963bf7ebd04a91b42de1861c250d56"
      }
     },
     "68443da7107b4fd08e488f6d222cc1ca": {
      "model_module": "@jupyter-widgets/base",
      "model_module_version": "1.0.0",
      "model_name": "LayoutModel",
      "state": {
       "border": "outset",
       "width": "100%"
      }
     },
     "6bfaa9b67e684f7fb86de80238b4f833": {
      "model_module": "@jupyter-widgets/controls",
      "model_module_version": "1.1.0",
      "model_name": "TextModel",
      "state": {
       "description": "Query Name",
       "layout": "IPY_MODEL_daba4cc917444880b246d2cac0725531",
       "style": "IPY_MODEL_366deec0da5641c6adb22672fe0a3fae",
       "value": "ADLMU"
      }
     },
     "6c1f514d053f4d1d8fd36070a6c8c5b4": {
      "model_module": "@jupyter-widgets/base",
      "model_module_version": "1.0.0",
      "model_name": "LayoutModel",
      "state": {}
     },
     "6cc0bb6842274cd58a35c210e0b52cf9": {
      "model_module": "@jupyter-widgets/base",
      "model_module_version": "1.0.0",
      "model_name": "LayoutModel",
      "state": {}
     },
     "6e1ed3ceb4a24f44990bd963b07bba4c": {
      "model_module": "@jupyter-widgets/output",
      "model_module_version": "1.1.0",
      "model_name": "OutputModel",
      "state": {
       "_model_module_version": "1.1.0",
       "_view_module_version": "1.1.0",
       "layout": "IPY_MODEL_031c9a93c9be4d4984c2c5271ea6b775"
      }
     },
     "6ee30195a3d4403b9244c23d8d51856b": {
      "model_module": "@jupyter-widgets/controls",
      "model_module_version": "1.1.0",
      "model_name": "DescriptionStyleModel",
      "state": {
       "description_width": ""
      }
     },
     "6fdbebac1b43466dabd458fe0e4bc6aa": {
      "model_module": "bqplot",
      "model_module_version": "^0.3.2",
      "model_name": "LinearScaleModel",
      "state": {
       "allow_padding": false,
       "max": 1,
       "min": 0,
       "stabilized": false
      }
     },
     "70ceaf807008467db2430f59abdbe091": {
      "model_module": "@jupyter-widgets/controls",
      "model_module_version": "1.1.0",
      "model_name": "SliderStyleModel",
      "state": {
       "description_width": ""
      }
     },
     "70de0a30a04f4b7bb1b6d698e804f7ad": {
      "model_module": "@jupyter-widgets/controls",
      "model_module_version": "1.1.0",
      "model_name": "IntSliderModel",
      "state": {
       "description": "Iterations",
       "layout": "IPY_MODEL_8b6dc8646120496ea27a5aaacb79abef",
       "max": 15,
       "min": 1,
       "style": "IPY_MODEL_de3da39059024c4d938870d7c18dce42",
       "value": 1
      }
     },
     "7138544c152142f4ae62e7c2f1dea2f3": {
      "model_module": "@jupyter-widgets/controls",
      "model_module_version": "1.1.0",
      "model_name": "DescriptionStyleModel",
      "state": {
       "description_width": ""
      }
     },
     "715e0ebe0bdd4a88aeb68884d16128eb": {
      "model_module": "bqplot",
      "model_module_version": "^0.3.2",
      "model_name": "FigureModel",
      "state": {
       "_dom_classes": [],
       "axes": [
        "IPY_MODEL_71e28ac0b9a44473b54042aa436e7688",
        "IPY_MODEL_5c68f12080b042cb8a614e2057d71315"
       ],
       "background_style": {
        "fill": "white"
       },
       "fig_margin": {
        "bottom": 30,
        "left": 50,
        "right": 0,
        "top": 10
       },
       "layout": "IPY_MODEL_c2127f767fa347a08a25660230c14b1f",
       "legend_location": "bottom-right",
       "marks": [
        "IPY_MODEL_256eaa7f7b5145fcaf062d36289cd783"
       ],
       "max_aspect_ratio": 6,
       "scale_x": "IPY_MODEL_25f7a722cfed43c5be2eb5ebb6888842",
       "scale_y": "IPY_MODEL_a9f039781b974fe39da5620687729350"
      }
     },
     "71e28ac0b9a44473b54042aa436e7688": {
      "model_module": "bqplot",
      "model_module_version": "^0.3.2",
      "model_name": "AxisModel",
      "state": {
       "scale": "IPY_MODEL_5e246bb7b1434407879d13fa5f493f79",
       "side": "bottom",
       "tick_values": {
        "type": "<U1",
        "values": [
         "A",
         "D",
         "L",
         "M",
         "U"
        ]
       }
      }
     },
     "741fb31980fc4bb39d21152496fb3a91": {
      "model_module": "@jupyter-widgets/controls",
      "model_module_version": "1.1.0",
      "model_name": "VBoxModel",
      "state": {
       "children": [
        "IPY_MODEL_621297c7c60542788932435995d31449",
        "IPY_MODEL_88ebbc0d2bc94464aaa57fbaa642517e",
        "IPY_MODEL_d3ec648fcef74c6087a86e48b19910ff"
       ],
       "layout": "IPY_MODEL_262bfe5fc1264d72b3ece87584ba3b4c"
      }
     },
     "74430c1b3a0e4ecf95986515987593cc": {
      "model_module": "@jupyter-widgets/controls",
      "model_module_version": "1.1.0",
      "model_name": "ButtonModel",
      "state": {
       "description": "Update Query",
       "layout": "IPY_MODEL_8ec50f3cecae45d6a0cab247f6ccc68e",
       "style": "IPY_MODEL_2f829bfb26484c2aaa0a7c69a9338a4c"
      }
     },
     "75e65d47c73b4fb9bd7583dc3b822e6d": {
      "model_module": "@jupyter-widgets/controls",
      "model_module_version": "1.1.0",
      "model_name": "ButtonModel",
      "state": {
       "description": "Update Query",
       "layout": "IPY_MODEL_7ccd50e1cfc84ba2ab4f1583ef1a5ba6",
       "style": "IPY_MODEL_e3b0904a39ff4c37850619a51fdb874b"
      }
     },
     "770a0285ba3e4e02895cfd2c2509313a": {
      "model_module": "@jupyter-widgets/base",
      "model_module_version": "1.0.0",
      "model_name": "LayoutModel",
      "state": {
       "border": "solid 2px",
       "display": "flex",
       "flex_flow": "row",
       "justify_content": "center",
       "overflow": "visible"
      }
     },
     "77d9da6f3c794f64aa2132c00e6ce44b": {
      "model_module": "@jupyter-widgets/controls",
      "model_module_version": "1.1.0",
      "model_name": "DropdownModel",
      "state": {
       "_options_labels": [
        "Jlink"
       ],
       "description": "Flash Method",
       "index": 0,
       "layout": "IPY_MODEL_edb3f0e244f94a8093c4a0f9a19d06b5",
       "style": "IPY_MODEL_9959add799244696a5d8ddbdca8582f7"
      }
     },
     "78728cfabe394500b2e4640968d14057": {
      "model_module": "@jupyter-widgets/controls",
      "model_module_version": "1.1.0",
      "model_name": "DropdownModel",
      "state": {
       "_options_labels": [
        "",
        "ADLMU",
        "MLU",
        "AD",
        "Query New"
       ],
       "description": "Select Query",
       "index": 1,
       "layout": "IPY_MODEL_b8e2ef1b114e4c59b555359cd92471de",
       "style": "IPY_MODEL_626c30ad5e984479b378577589fcf98c"
      }
     },
     "7af006d4d40e44be91ee7c9ab9191c49": {
      "model_module": "@jupyter-widgets/controls",
      "model_module_version": "1.1.0",
      "model_name": "ButtonModel",
      "state": {
       "description": "Refresh Models",
       "icon": "0",
       "layout": "IPY_MODEL_10f1afc0bb3c43858deb9772513d96c5",
       "style": "IPY_MODEL_a84a39b3bfd546cda4ce2789e08535bb"
      }
     },
     "7c2b5a7836214b48a5342f6ad2486ad4": {
      "model_module": "@jupyter-widgets/base",
      "model_module_version": "1.0.0",
      "model_name": "LayoutModel",
      "state": {}
     },
     "7ccd50e1cfc84ba2ab4f1583ef1a5ba6": {
      "model_module": "@jupyter-widgets/base",
      "model_module_version": "1.0.0",
      "model_name": "LayoutModel",
      "state": {}
     },
     "7ce78229205c47d8b4b9c121347ee56d": {
      "model_module": "@jupyter-widgets/base",
      "model_module_version": "1.0.0",
      "model_name": "LayoutModel",
      "state": {}
     },
     "7da07b85c48f4e809e435ef587e07c78": {
      "model_module": "@jupyter-widgets/base",
      "model_module_version": "1.0.0",
      "model_name": "LayoutModel",
      "state": {}
     },
     "7e73083469504abbbe66d5abbe634c52": {
      "model_module": "bqplot",
      "model_module_version": "^0.3.2",
      "model_name": "OrdinalScaleModel",
      "state": {
       "domain": []
      }
     },
     "803c574bd7ae4bff8fd02457a42a44a3": {
      "model_module": "@jupyter-widgets/controls",
      "model_module_version": "1.1.0",
      "model_name": "VBoxModel",
      "state": {
       "children": [
        "IPY_MODEL_64c920b24d8b4de2a688573ae2514f75",
        "IPY_MODEL_96c230f1e2a14727862ce6d2c0efcced",
        "IPY_MODEL_8e6b9a53c33f4ad1b6f953ca0e67bff9",
        "IPY_MODEL_56cc15f080954e599188e2cffc087e9a"
       ],
       "layout": "IPY_MODEL_f420f939e198400ba8a8deec2620872a"
      }
     },
     "803ed05c04684b04a2119310099f2203": {
      "model_module": "@jupyter-widgets/controls",
      "model_module_version": "1.1.0",
      "model_name": "DescriptionStyleModel",
      "state": {
       "description_width": ""
      }
     },
     "816a36902f614ad09eecce635fb4977b": {
      "model_module": "@jupyter-widgets/base",
      "model_module_version": "1.0.0",
      "model_name": "LayoutModel",
      "state": {}
     },
     "816c9ad8999348a4999592e45416dfc9": {
      "model_module": "@jupyter-widgets/controls",
      "model_module_version": "1.1.0",
      "model_name": "DescriptionStyleModel",
      "state": {
       "description_width": ""
      }
     },
     "82878ae7db4749fc9477c3aeed66ff5a": {
      "model_module": "@jupyter-widgets/base",
      "model_module_version": "1.0.0",
      "model_name": "LayoutModel",
      "state": {}
     },
     "82fab94adc1f429183717cca78a3f8e5": {
      "model_module": "@jupyter-widgets/controls",
      "model_module_version": "1.1.0",
      "model_name": "DropdownModel",
      "state": {
       "_options_labels": [
        "NordicSDK"
       ],
       "description": "Target OS",
       "index": 0,
       "layout": "IPY_MODEL_40351ed938664055974652f5f85b8144",
       "style": "IPY_MODEL_a37d7b9bdbaa4ccfb436d6638b6e24af"
      }
     },
     "845587788e6e4d96884d54d9676c511f": {
      "model_module": "@jupyter-widgets/base",
      "model_module_version": "1.0.0",
      "model_name": "LayoutModel",
      "state": {}
     },
     "846ba37e803e498d8b9863c230ae6d5d": {
      "model_module": "@jupyter-widgets/base",
      "model_module_version": "1.0.0",
      "model_name": "LayoutModel",
      "state": {}
     },
     "85d74481640348e99c1f57e001be7c1c": {
      "model_module": "@jupyter-widgets/base",
      "model_module_version": "1.0.0",
      "model_name": "LayoutModel",
      "state": {}
     },
     "87f253881753476eabbd86ad0529f80b": {
      "model_module": "@jupyter-widgets/controls",
      "model_module_version": "1.1.0",
      "model_name": "DropdownModel",
      "state": {
       "_options_labels": [
        "",
        "ADLMU",
        "MLU",
        "AD",
        "Query New"
       ],
       "description": "Select Query",
       "index": 1,
       "layout": "IPY_MODEL_3f7adde135f0492588b5eb8c12e9d13d",
       "style": "IPY_MODEL_1eef024170d0423784ea44198f9500b9"
      }
     },
     "880d9f91a787427eb40f6790302c0f7b": {
      "model_module": "@jupyter-widgets/base",
      "model_module_version": "1.0.0",
      "model_name": "LayoutModel",
      "state": {}
     },
     "880e0a21ee87482dbc21454cafb97547": {
      "model_module": "@jupyter-widgets/base",
      "model_module_version": "1.0.0",
      "model_name": "LayoutModel",
      "state": {
       "height": "400px",
       "min_width": "125px",
       "width": "560px"
      }
     },
     "88ebbc0d2bc94464aaa57fbaa642517e": {
      "model_module": "@jupyter-widgets/controls",
      "model_module_version": "1.1.0",
      "model_name": "DropdownModel",
      "state": {
       "_options_labels": [
        "True",
        "False"
       ],
       "description": "Debug",
       "index": 0,
       "layout": "IPY_MODEL_6cc0bb6842274cd58a35c210e0b52cf9",
       "style": "IPY_MODEL_90eb07f5389e45359ba0259c18787056"
      }
     },
     "8ab92eac368b4eb195f99e820f803b5f": {
      "model_module": "@jupyter-widgets/controls",
      "model_module_version": "1.1.0",
      "model_name": "DescriptionStyleModel",
      "state": {
       "description_width": ""
      }
     },
     "8b6dc8646120496ea27a5aaacb79abef": {
      "model_module": "@jupyter-widgets/base",
      "model_module_version": "1.0.0",
      "model_name": "LayoutModel",
      "state": {}
     },
     "8c6a233f70df4ba4b63bd033e1dfc18b": {
      "model_module": "@jupyter-widgets/controls",
      "model_module_version": "1.1.0",
      "model_name": "DescriptionStyleModel",
      "state": {
       "description_width": ""
      }
     },
     "8e1b85723d8848ed9c4a62d64cdf9a5b": {
      "model_module": "@jupyter-widgets/controls",
      "model_module_version": "1.1.0",
      "model_name": "IntSliderModel",
      "state": {
       "description": "Population",
       "layout": "IPY_MODEL_102ff363beaf4201a30706e6bd3414d7",
       "max": 50,
       "min": 10,
       "style": "IPY_MODEL_fa0beb0d6bf046d98e727f083aed4a89",
       "value": 10
      }
     },
     "8e6b9a53c33f4ad1b6f953ca0e67bff9": {
      "model_module": "@jupyter-widgets/controls",
      "model_module_version": "1.1.0",
      "model_name": "VBoxModel",
      "state": {
       "_dom_classes": [
        "widget-interact"
       ],
       "children": [
        "IPY_MODEL_2e9695135d1c4a4b974e62db2618ddbe",
        "IPY_MODEL_13d0429401674d24aad14acd73715000"
       ],
       "layout": "IPY_MODEL_82878ae7db4749fc9477c3aeed66ff5a"
      }
     },
     "8ec50f3cecae45d6a0cab247f6ccc68e": {
      "model_module": "@jupyter-widgets/base",
      "model_module_version": "1.0.0",
      "model_name": "LayoutModel",
      "state": {}
     },
     "8ef0acf202ab4396a9761f4700bbcdeb": {
      "model_module": "@jupyter-widgets/controls",
      "model_module_version": "1.1.0",
      "model_name": "DropdownModel",
      "state": {
       "_options_labels": [
        "Curie Reference 4.1",
        "Nordic Thingy 2.1",
        "Amulet 4.1"
       ],
       "description": "HW Platform",
       "index": 1,
       "layout": "IPY_MODEL_64058c939f9749da82f9fe43c6ce2518",
       "style": "IPY_MODEL_5e48b9e0ba0244b4a42ad428a6a0c33c"
      }
     },
     "8f149c05b1ad48c380dbb11158c6f230": {
      "model_module": "@jupyter-widgets/base",
      "model_module_version": "1.0.0",
      "model_name": "LayoutModel",
      "state": {}
     },
     "8fcdf7377ac445fa9c01b7c4d65d461a": {
      "model_module": "@jupyter-widgets/base",
      "model_module_version": "1.0.0",
      "model_name": "LayoutModel",
      "state": {
       "visibility": "visible"
      }
     },
     "90eb07f5389e45359ba0259c18787056": {
      "model_module": "@jupyter-widgets/controls",
      "model_module_version": "1.1.0",
      "model_name": "DescriptionStyleModel",
      "state": {
       "description_width": ""
      }
     },
     "9362d505365e4992a6562203e48a49ad": {
      "model_module": "@jupyter-widgets/controls",
      "model_module_version": "1.1.0",
      "model_name": "DescriptionStyleModel",
      "state": {
       "description_width": ""
      }
     },
     "93ce220f8696471681b8cc0cf3493196": {
      "model_module": "@jupyter-widgets/controls",
      "model_module_version": "1.1.0",
      "model_name": "FloatSliderModel",
      "state": {
       "description": "Accuracy",
       "layout": "IPY_MODEL_5b69766bac5949d5a3600ee2baca88b7",
       "max": 1,
       "step": 0.05,
       "style": "IPY_MODEL_18c6c958459f4081add70372132fea8a",
       "value": 0.8
      }
     },
     "95e1b5da222c4b60b43d28389f7014bc": {
      "model_module": "@jupyter-widgets/controls",
      "model_module_version": "1.1.0",
      "model_name": "SelectMultipleModel",
      "state": {
       "_options_labels": [
        "Device",
        "Subject",
        "Gesture"
       ],
       "description": "Metadtata",
       "index": [
        1
       ],
       "layout": "IPY_MODEL_0c2402199b9e4af797063276a125d6a6",
       "rows": 5,
       "style": "IPY_MODEL_022c5f565b334760b2ac568b900553c2"
      }
     },
     "96c230f1e2a14727862ce6d2c0efcced": {
      "model_module": "@jupyter-widgets/controls",
      "model_module_version": "1.1.0",
      "model_name": "DropdownModel",
      "state": {
       "_options_labels": [
        "Default",
        "Windowing(128)",
        "Windowing(256)",
        "Windowing(512)",
        "Windowing(1024)"
       ],
       "description": "Segmenter",
       "index": 0,
       "layout": "IPY_MODEL_06fb942e87c24614b34e95df194f0b7c",
       "style": "IPY_MODEL_a74e12913d594eca9fb16d226ac7c5d6"
      }
     },
     "97eb51f51f4e494cb1b068fd1a1d249f": {
      "model_module": "@jupyter-widgets/base",
      "model_module_version": "1.0.0",
      "model_name": "LayoutModel",
      "state": {}
     },
     "98963bf7ebd04a91b42de1861c250d56": {
      "model_module": "@jupyter-widgets/controls",
      "model_module_version": "1.1.0",
      "model_name": "DescriptionStyleModel",
      "state": {
       "description_width": ""
      }
     },
     "9959add799244696a5d8ddbdca8582f7": {
      "model_module": "@jupyter-widgets/controls",
      "model_module_version": "1.1.0",
      "model_name": "DescriptionStyleModel",
      "state": {
       "description_width": ""
      }
     },
     "9f1263ac4a5d4a0491973e632e7a515d": {
      "model_module": "@jupyter-widgets/base",
      "model_module_version": "1.0.0",
      "model_name": "LayoutModel",
      "state": {}
     },
     "9f8175e3dabc408584b57d666dc8b3fe": {
      "model_module": "@jupyter-widgets/controls",
      "model_module_version": "1.1.0",
      "model_name": "ButtonModel",
      "state": {
       "description": "Refresh Queries",
       "layout": "IPY_MODEL_15753fa0bae144958af7124b1915d3d1",
       "style": "IPY_MODEL_30d2030836c2416f8d9128d459308062"
      }
     },
     "a2da7475c2834db78e80bbac446e8f79": {
      "model_module": "@jupyter-widgets/controls",
      "model_module_version": "1.1.0",
      "model_name": "DropdownModel",
      "state": {
       "description": "Binary",
       "index": null,
       "layout": "IPY_MODEL_e4965ab7a6824f0c9bfcb0341d3043ab",
       "style": "IPY_MODEL_6700980413a74e9587471f6918b0b036"
      }
     },
     "a37d7b9bdbaa4ccfb436d6638b6e24af": {
      "model_module": "@jupyter-widgets/controls",
      "model_module_version": "1.1.0",
      "model_name": "DescriptionStyleModel",
      "state": {
       "description_width": ""
      }
     },
     "a4a3ceb66b48447f8a74d1796337a2f7": {
      "model_module": "@jupyter-widgets/base",
      "model_module_version": "1.0.0",
      "model_name": "LayoutModel",
      "state": {
       "display": "flex",
       "flex_flow": "row",
       "justify_content": "space-between",
       "overflow": "visible"
      }
     },
     "a74e12913d594eca9fb16d226ac7c5d6": {
      "model_module": "@jupyter-widgets/controls",
      "model_module_version": "1.1.0",
      "model_name": "DescriptionStyleModel",
      "state": {
       "description_width": ""
      }
     },
     "a84a39b3bfd546cda4ce2789e08535bb": {
      "model_module": "@jupyter-widgets/controls",
      "model_module_version": "1.1.0",
      "model_name": "ButtonStyleModel",
      "state": {}
     },
     "a8a37e890bce4f13b6f1b059720fb4d8": {
      "model_module": "@jupyter-widgets/controls",
      "model_module_version": "1.1.0",
      "model_name": "ButtonStyleModel",
      "state": {}
     },
     "a93039f0a0ca458fb64f2483ef1a9415": {
      "model_module": "@jupyter-widgets/base",
      "model_module_version": "1.0.0",
      "model_name": "LayoutModel",
      "state": {}
     },
     "a9aa3f4163f240529f60e7889b33b13c": {
      "model_module": "@jupyter-widgets/controls",
      "model_module_version": "1.1.0",
      "model_name": "ButtonModel",
      "state": {
       "description": "Flash",
       "layout": "IPY_MODEL_def94729a2ae41419204022c56c4d8f7",
       "style": "IPY_MODEL_09fb3e63d6cb4776859c47fb4e3d6abd"
      }
     },
     "a9f039781b974fe39da5620687729350": {
      "model_module": "bqplot",
      "model_module_version": "^0.3.2",
      "model_name": "LinearScaleModel",
      "state": {
       "allow_padding": false,
       "max": 1,
       "min": 0,
       "stabilized": false
      }
     },
     "ac3f0978452f4ccabcfec7069b47b1ae": {
      "model_module": "bqplot",
      "model_module_version": "^0.3.2",
      "model_name": "LinearScaleModel",
      "state": {
       "min": 0,
       "stabilized": false
      }
     },
     "acb98b1102a5407c9181597504041c10": {
      "model_module": "@jupyter-widgets/controls",
      "model_module_version": "1.1.0",
      "model_name": "DescriptionStyleModel",
      "state": {
       "description_width": ""
      }
     },
     "af6a7033a43341bb89b0d251e429c5c9": {
      "model_module": "@jupyter-widgets/controls",
      "model_module_version": "1.1.0",
      "model_name": "VBoxModel",
      "state": {
       "children": [
        "IPY_MODEL_4e12b1d24adb457b9901819eff608df2",
        "IPY_MODEL_37ec72c3363046d5b684467a8dccc63d",
        "IPY_MODEL_af8fb82361204630bc859c3558a71f55"
       ],
       "layout": "IPY_MODEL_846ba37e803e498d8b9863c230ae6d5d"
      }
     },
     "af8fb82361204630bc859c3558a71f55": {
      "model_module": "@jupyter-widgets/controls",
      "model_module_version": "1.1.0",
      "model_name": "HBoxModel",
      "state": {
       "children": [
        "IPY_MODEL_77d9da6f3c794f64aa2132c00e6ce44b",
        "IPY_MODEL_a9aa3f4163f240529f60e7889b33b13c",
        "IPY_MODEL_d6a90bf0bb5b4c1192d114cd457c8e42"
       ],
       "layout": "IPY_MODEL_e3842303f840449b878a954a4d8ab2d3"
      }
     },
     "b25ddf87e467462eb960911776e68bbb": {
      "model_module": "@jupyter-widgets/base",
      "model_module_version": "1.0.0",
      "model_name": "LayoutModel",
      "state": {
       "border": "solid 2px",
       "display": "flex",
       "flex_flow": "row",
       "justify_content": "space-between",
       "overflow": "visible"
      }
     },
     "b2e64d03cdf147fc8fb746e1ac7f8344": {
      "model_module": "@jupyter-widgets/controls",
      "model_module_version": "1.1.0",
      "model_name": "HBoxModel",
      "state": {
       "children": [
        "IPY_MODEL_d93aeabeebed427a961e0f102dcb526a",
        "IPY_MODEL_9f8175e3dabc408584b57d666dc8b3fe"
       ],
       "layout": "IPY_MODEL_0edcd497a0a4427f9fface904c8409d7"
      }
     },
     "b53cf7f5a19d47129174b76a571b1122": {
      "model_module": "@jupyter-widgets/controls",
      "model_module_version": "1.1.0",
      "model_name": "HBoxModel",
      "state": {
       "children": [
        "IPY_MODEL_cfa894df05e54686924cd23c9e22e7d4",
        "IPY_MODEL_74430c1b3a0e4ecf95986515987593cc"
       ],
       "layout": "IPY_MODEL_267704686c1040939ed8a2b1d64a08af"
      }
     },
     "b83bb0e3ad9b41e4bf647bb18b3cbd5c": {
      "model_module": "bqplot",
      "model_module_version": "^0.3.2",
      "model_name": "AxisModel",
      "state": {
       "num_ticks": 5,
       "orientation": "vertical",
       "scale": "IPY_MODEL_ac3f0978452f4ccabcfec7069b47b1ae",
       "side": "left",
       "tick_values": {
        "type": null,
        "values": null
       }
      }
     },
     "b894e59ced1b4def822fc762149b6d53": {
      "model_module": "@jupyter-widgets/controls",
      "model_module_version": "1.1.0",
      "model_name": "SliderStyleModel",
      "state": {
       "description_width": ""
      }
     },
     "b8e2ef1b114e4c59b555359cd92471de": {
      "model_module": "@jupyter-widgets/base",
      "model_module_version": "1.0.0",
      "model_name": "LayoutModel",
      "state": {}
     },
     "b903d64d114741258c16383e8043aec3": {
      "model_module": "@jupyter-widgets/base",
      "model_module_version": "1.0.0",
      "model_name": "LayoutModel",
      "state": {}
     },
     "ba3145b32f304952901fd18fa6ef697b": {
      "model_module": "@jupyter-widgets/base",
      "model_module_version": "1.0.0",
      "model_name": "LayoutModel",
      "state": {}
     },
     "bdcaf24857d54a5d8f5870fe89a950c7": {
      "model_module": "@jupyter-widgets/controls",
      "model_module_version": "1.1.0",
      "model_name": "DescriptionStyleModel",
      "state": {
       "description_width": ""
      }
     },
     "becd8577d87949689a857898812dad72": {
      "model_module": "@jupyter-widgets/controls",
      "model_module_version": "1.1.0",
      "model_name": "SelectMultipleModel",
      "state": {
       "_options_labels": [
        "Device",
        "Subject",
        "Gesture"
       ],
       "description": "Metadtata",
       "index": [
        1
       ],
       "layout": "IPY_MODEL_2551f62892f24023801cf4dae3ad9b63",
       "rows": 5,
       "style": "IPY_MODEL_1901fd9381d94c3ba3c619dc9f88c8cd"
      }
     },
     "c00e7a22d70f44fe86a5cacf437010dd": {
      "model_module": "@jupyter-widgets/controls",
      "model_module_version": "1.1.0",
      "model_name": "VBoxModel",
      "state": {
       "children": [
        "IPY_MODEL_78728cfabe394500b2e4640968d14057",
        "IPY_MODEL_6bfaa9b67e684f7fb86de80238b4f833",
        "IPY_MODEL_323ea356a5c24a6fbf33d48f235defe2",
        "IPY_MODEL_67085aa0417d4bd79874e867ca5fb603",
        "IPY_MODEL_becd8577d87949689a857898812dad72",
        "IPY_MODEL_54a79be02f3c4c189024f964be84b5e4",
        "IPY_MODEL_e38fc7341c4f4871beef722874cad743",
        "IPY_MODEL_e58457dadc184e3abf47ad565fb90c04"
       ],
       "layout": "IPY_MODEL_845587788e6e4d96884d54d9676c511f"
      }
     },
     "c1400c72143c494687a553b2e8dc81e8": {
      "model_module": "@jupyter-widgets/base",
      "model_module_version": "1.0.0",
      "model_name": "LayoutModel",
      "state": {}
     },
     "c16b67b883b84eedb0a7bcc394d9f046": {
      "model_module": "@jupyter-widgets/controls",
      "model_module_version": "1.1.0",
      "model_name": "DropdownModel",
      "state": {
       "_options_labels": [
        "Binary",
        "Library"
       ],
       "description": "Download",
       "index": 0,
       "layout": "IPY_MODEL_10eb4d7f72f343fd9f16364f290aee5c",
       "style": "IPY_MODEL_66eabb3126184625a621189ff56ee0af"
      }
     },
     "c2127f767fa347a08a25660230c14b1f": {
      "model_module": "@jupyter-widgets/base",
      "model_module_version": "1.0.0",
      "model_name": "LayoutModel",
      "state": {
       "height": "400px",
       "min_width": "125px",
       "width": "560px"
      }
     },
     "c2353729ab49491b9d469e8fc7c2c388": {
      "model_module": "@jupyter-widgets/controls",
      "model_module_version": "1.1.0",
      "model_name": "SelectMultipleModel",
      "state": {
       "_options_labels": [
        "ble",
        "led",
        "serial"
       ],
       "description": "Output",
       "index": [
        0
       ],
       "layout": "IPY_MODEL_0cf9a82d82174db6b9e132965196ba04",
       "rows": 5,
       "style": "IPY_MODEL_7138544c152142f4ae62e7c2f1dea2f3"
      }
     },
     "c38b489e6c864720baff3878bc90783d": {
      "model_module": "@jupyter-widgets/base",
      "model_module_version": "1.0.0",
      "model_name": "LayoutModel",
      "state": {
       "width": "300px"
      }
     },
     "c3dab2ac8b0d4fa6bd18cf5cd873cbb4": {
      "model_module": "@jupyter-widgets/base",
      "model_module_version": "1.0.0",
      "model_name": "LayoutModel",
      "state": {}
     },
     "c4b011ac9a4745e1aad9272a4f516622": {
      "model_module": "@jupyter-widgets/controls",
      "model_module_version": "1.1.0",
      "model_name": "SliderStyleModel",
      "state": {
       "description_width": ""
      }
     },
     "caa2d919fab54f01b0d9ea76586ee515": {
      "model_module": "@jupyter-widgets/controls",
      "model_module_version": "1.1.0",
      "model_name": "ButtonStyleModel",
      "state": {}
     },
     "cd01d8cdda5249d78f121e75c119807a": {
      "model_module": "@jupyter-widgets/base",
      "model_module_version": "1.0.0",
      "model_name": "LayoutModel",
      "state": {}
     },
     "ce41ea5cfa2848b0969f27b00e18684c": {
      "model_module": "@jupyter-widgets/controls",
      "model_module_version": "1.1.0",
      "model_name": "VBoxModel",
      "state": {
       "children": [
        "IPY_MODEL_8ef0acf202ab4396a9761f4700bbcdeb",
        "IPY_MODEL_82fab94adc1f429183717cca78a3f8e5",
        "IPY_MODEL_c16b67b883b84eedb0a7bcc394d9f046"
       ],
       "layout": "IPY_MODEL_9f1263ac4a5d4a0491973e632e7a515d"
      }
     },
     "cfa894df05e54686924cd23c9e22e7d4": {
      "model_module": "@jupyter-widgets/controls",
      "model_module_version": "1.1.0",
      "model_name": "ButtonModel",
      "state": {
       "description": "Add Query",
       "layout": "IPY_MODEL_3e8f78b16e99416fb1df56005f15e878",
       "style": "IPY_MODEL_60f5978ff7414a59b19d4a0c84d526f3"
      }
     },
     "d2250b9fbc624687b33acca1f74aeca3": {
      "model_module": "@jupyter-widgets/controls",
      "model_module_version": "1.1.0",
      "model_name": "DescriptionStyleModel",
      "state": {
       "description_width": ""
      }
     },
     "d3ec648fcef74c6087a86e48b19910ff": {
      "model_module": "@jupyter-widgets/controls",
      "model_module_version": "1.1.0",
      "model_name": "DropdownModel",
      "state": {
       "_options_labels": [
        "None"
       ],
       "description": "Test Data",
       "index": 0,
       "layout": "IPY_MODEL_fc1bb03080524d7fa5dac0146208d1b5",
       "style": "IPY_MODEL_2926b86f52b24632a4e74b653cf87856"
      }
     },
     "d44dc51aae2642368e45e5cab62fdc71": {
      "model_module": "@jupyter-widgets/controls",
      "model_module_version": "1.1.0",
      "model_name": "VBoxModel",
      "state": {
       "_dom_classes": [
        "widget-interact"
       ],
       "children": [
        "IPY_MODEL_0716e56d8c2a4737858e1bf438176b40",
        "IPY_MODEL_6e1ed3ceb4a24f44990bd963b07bba4c"
       ],
       "layout": "IPY_MODEL_cd01d8cdda5249d78f121e75c119807a"
      }
     },
     "d69ea31bf2ba46418088d082c00b59d0": {
      "model_module": "@jupyter-widgets/controls",
      "model_module_version": "1.1.0",
      "model_name": "ButtonStyleModel",
      "state": {}
     },
     "d6a90bf0bb5b4c1192d114cd457c8e42": {
      "model_module": "@jupyter-widgets/controls",
      "model_module_version": "1.1.0",
      "model_name": "ButtonModel",
      "state": {
       "description": "Generate OTA",
       "layout": "IPY_MODEL_8fcdf7377ac445fa9c01b7c4d65d461a",
       "style": "IPY_MODEL_23fa1b689c7d43ebbd3fca45e6a7832e"
      }
     },
     "d7b61acd00ca4d54b40ff6735db38c7f": {
      "model_module": "@jupyter-widgets/controls",
      "model_module_version": "1.1.0",
      "model_name": "VBoxModel",
      "state": {
       "children": [
        "IPY_MODEL_2a45485b7be74619b06dbb139cd7f248",
        "IPY_MODEL_b2e64d03cdf147fc8fb746e1ac7f8344"
       ],
       "layout": "IPY_MODEL_85d74481640348e99c1f57e001be7c1c"
      }
     },
     "d81ae361de974737b9794c03154d0b90": {
      "model_module": "bqplot",
      "model_module_version": "^0.3.2",
      "model_name": "AxisModel",
      "state": {
       "scale": "IPY_MODEL_7e73083469504abbbe66d5abbe634c52",
       "side": "bottom",
       "tick_values": {
        "type": "<U1",
        "values": [
         "A",
         "D",
         "L",
         "M",
         "U"
        ]
       }
      }
     },
     "d8efd2c72b35414f923377a5056f1353": {
      "model_module": "@jupyter-widgets/base",
      "model_module_version": "1.0.0",
      "model_name": "LayoutModel",
      "state": {}
     },
     "d93aeabeebed427a961e0f102dcb526a": {
      "model_module": "@jupyter-widgets/controls",
      "model_module_version": "1.1.0",
      "model_name": "ButtonModel",
      "state": {
       "description": "Run Autopipeline",
       "layout": "IPY_MODEL_7c2b5a7836214b48a5342f6ad2486ad4",
       "style": "IPY_MODEL_a8a37e890bce4f13b6f1b059720fb4d8"
      }
     },
     "d9bef21fd8da4b4dbbea6e325dcad3e4": {
      "model_module": "@jupyter-widgets/base",
      "model_module_version": "1.0.0",
      "model_name": "LayoutModel",
      "state": {}
     },
     "da16c0f932ba4f83857a4d9f3f61711a": {
      "model_module": "@jupyter-widgets/controls",
      "model_module_version": "1.1.0",
      "model_name": "DropdownModel",
      "state": {
       "_options_labels": [
        "AD",
        "MLU",
        "Gesture Pipeline_rank_4",
        "Gesture Pipeline_rank_0",
        "Gesture Pipeline_rank_1",
        "Gesture Pipeline_rank_2",
        "Gesture Pipeline_rank_3",
        "Parent-ADMLU"
       ],
       "description": "Model Name",
       "index": 3,
       "layout": "IPY_MODEL_2717ad4ce12443ea9c45229ae8c5090d",
       "style": "IPY_MODEL_8ab92eac368b4eb195f99e820f803b5f"
      }
     },
     "daba4cc917444880b246d2cac0725531": {
      "model_module": "@jupyter-widgets/base",
      "model_module_version": "1.0.0",
      "model_name": "LayoutModel",
      "state": {}
     },
     "daf3130353bf4d9c99621fd8d2e0891b": {
      "model_module": "bqplot",
      "model_module_version": "^0.3.2",
      "model_name": "LinearScaleModel",
      "state": {
       "allow_padding": false,
       "max": 1,
       "min": 0,
       "stabilized": false
      }
     },
     "dc700e5af32a45a5b6e2ecf4b5bc3db1": {
      "model_module": "@jupyter-widgets/controls",
      "model_module_version": "1.1.0",
      "model_name": "VBoxModel",
      "state": {
       "children": [
        "IPY_MODEL_93ce220f8696471681b8cc0cf3493196",
        "IPY_MODEL_330e6bf6e884463b9e930e4df4932694",
        "IPY_MODEL_0fc50fb211d24a2c984fc2b9a167b477",
        "IPY_MODEL_2b70d94a960e40b8a0cef69dd7543cf6",
        "IPY_MODEL_70de0a30a04f4b7bb1b6d698e804f7ad",
        "IPY_MODEL_8e1b85723d8848ed9c4a62d64cdf9a5b"
       ],
       "layout": "IPY_MODEL_261e8b6f97d84bf2a27d1d0e3d2b361b"
      }
     },
     "dcae5ec869c4488d9c91b331f9bf731a": {
      "model_module": "@jupyter-widgets/base",
      "model_module_version": "1.0.0",
      "model_name": "LayoutModel",
      "state": {
       "justify_content": "flex-start",
       "overflow": "visible"
      }
     },
     "de3da39059024c4d938870d7c18dce42": {
      "model_module": "@jupyter-widgets/controls",
      "model_module_version": "1.1.0",
      "model_name": "SliderStyleModel",
      "state": {
       "description_width": ""
      }
     },
     "def94729a2ae41419204022c56c4d8f7": {
      "model_module": "@jupyter-widgets/base",
      "model_module_version": "1.0.0",
      "model_name": "LayoutModel",
      "state": {}
     },
     "df76b04aadf94b26a3e9aeaf72ce3bc6": {
      "model_module": "@jupyter-widgets/controls",
      "model_module_version": "1.1.0",
      "model_name": "DescriptionStyleModel",
      "state": {
       "description_width": ""
      }
     },
     "dfd99e8385ea4219a145f1e41a5a5d10": {
      "model_module": "@jupyter-widgets/controls",
      "model_module_version": "1.1.0",
      "model_name": "TextModel",
      "state": {
       "description": "Query Name",
       "layout": "IPY_MODEL_d8efd2c72b35414f923377a5056f1353",
       "style": "IPY_MODEL_df76b04aadf94b26a3e9aeaf72ce3bc6",
       "value": "ADLMU"
      }
     },
     "e14bd3eda5754648bb20bab883aac57f": {
      "model_module": "@jupyter-widgets/controls",
      "model_module_version": "1.1.0",
      "model_name": "VBoxModel",
      "state": {
       "children": [
        "IPY_MODEL_87f253881753476eabbd86ad0529f80b",
        "IPY_MODEL_dfd99e8385ea4219a145f1e41a5a5d10",
        "IPY_MODEL_3ac0f55128114d6c9eae67efd4b1f7b4",
        "IPY_MODEL_15ae586ed1904db9b870cc50076429b1",
        "IPY_MODEL_95e1b5da222c4b60b43d28389f7014bc",
        "IPY_MODEL_448033f6fb8946b789f9f1b027a5ea93",
        "IPY_MODEL_e9533e021dcc479eb3d257e61dcc02e5",
        "IPY_MODEL_b53cf7f5a19d47129174b76a571b1122"
       ],
       "layout": "IPY_MODEL_b903d64d114741258c16383e8043aec3"
      }
     },
     "e1c934526c474f368ecc0afd1d808992": {
      "model_module": "@jupyter-widgets/controls",
      "model_module_version": "1.1.0",
      "model_name": "HBoxModel",
      "state": {
       "children": [
        "IPY_MODEL_c00e7a22d70f44fe86a5cacf437010dd",
        "IPY_MODEL_12759069dfbc4747882e5dc388c2b175"
       ],
       "layout": "IPY_MODEL_ebc86f02cc9a47c7a53c08d759ad6fe2"
      }
     },
     "e2d088d53239403883207154666aff3f": {
      "model_module": "@jupyter-widgets/base",
      "model_module_version": "1.0.0",
      "model_name": "LayoutModel",
      "state": {}
     },
     "e3842303f840449b878a954a4d8ab2d3": {
      "model_module": "@jupyter-widgets/base",
      "model_module_version": "1.0.0",
      "model_name": "LayoutModel",
      "state": {}
     },
     "e38fc7341c4f4871beef722874cad743": {
      "model_module": "@jupyter-widgets/controls",
      "model_module_version": "1.1.0",
      "model_name": "TextModel",
      "state": {
       "description": "Query Filter",
       "layout": "IPY_MODEL_7ce78229205c47d8b4b9c121347ee56d",
       "style": "IPY_MODEL_fcca29d687f743819845cf6508aded99",
       "value": "[Gesture] in [A,D,L,M,U]"
      }
     },
     "e3b0904a39ff4c37850619a51fdb874b": {
      "model_module": "@jupyter-widgets/controls",
      "model_module_version": "1.1.0",
      "model_name": "ButtonStyleModel",
      "state": {}
     },
     "e4965ab7a6824f0c9bfcb0341d3043ab": {
      "model_module": "@jupyter-widgets/base",
      "model_module_version": "1.0.0",
      "model_name": "LayoutModel",
      "state": {
       "width": "550px"
      }
     },
     "e55565394c214672bd62a15db68ecaff": {
      "model_module": "@jupyter-widgets/controls",
      "model_module_version": "1.1.0",
      "model_name": "DescriptionStyleModel",
      "state": {
       "description_width": ""
      }
     },
     "e58457dadc184e3abf47ad565fb90c04": {
      "model_module": "@jupyter-widgets/controls",
      "model_module_version": "1.1.0",
      "model_name": "HBoxModel",
      "state": {
       "children": [
        "IPY_MODEL_15216e01fac34dcca3d5b845f6c77d95",
        "IPY_MODEL_75e65d47c73b4fb9bd7583dc3b822e6d"
       ],
       "layout": "IPY_MODEL_816a36902f614ad09eecce635fb4977b"
      }
     },
     "e9533e021dcc479eb3d257e61dcc02e5": {
      "model_module": "@jupyter-widgets/controls",
      "model_module_version": "1.1.0",
      "model_name": "TextModel",
      "state": {
       "description": "Query Filter",
       "layout": "IPY_MODEL_3eb64d506b504db0911687e1afba7833",
       "style": "IPY_MODEL_4d724a6a11124225b5541ae6c6b07930",
       "value": "[Gesture] in [A,D,L,M,U]"
      }
     },
     "eb59d637c76b477eb2765c8cc4713106": {
      "model_module": "@jupyter-widgets/base",
      "model_module_version": "1.0.0",
      "model_name": "LayoutModel",
      "state": {
       "align_items": "stretch",
       "border": "solid 2px",
       "display": "flex",
       "flex_flow": "column",
       "overflow": "visible",
       "width": "75%"
      }
     },
     "eb83101af5e247aebe00f37d5f8aa8cc": {
      "model_module": "@jupyter-widgets/base",
      "model_module_version": "1.0.0",
      "model_name": "LayoutModel",
      "state": {}
     },
     "ebc86f02cc9a47c7a53c08d759ad6fe2": {
      "model_module": "@jupyter-widgets/base",
      "model_module_version": "1.0.0",
      "model_name": "LayoutModel",
      "state": {}
     },
     "ebe9d885db15421b8466b6dd1ae73363": {
      "model_module": "bqplot",
      "model_module_version": "^0.3.2",
      "model_name": "BarsModel",
      "state": {
       "color": {
        "type": null,
        "values": null
       },
       "color_mode": "group",
       "colors": [
        "steelblue"
       ],
       "display_legend": false,
       "scales": {
        "x": "IPY_MODEL_7e73083469504abbbe66d5abbe634c52",
        "y": "IPY_MODEL_ac3f0978452f4ccabcfec7069b47b1ae"
       },
       "selected": [],
       "x": {
        "type": "<U1",
        "values": [
         "A",
         "D",
         "L",
         "M",
         "U"
        ]
       },
       "y": {
        "type": "float",
        "values": [
         37,
         22,
         42,
         41,
         31
        ]
       }
      }
     },
     "edb3f0e244f94a8093c4a0f9a19d06b5": {
      "model_module": "@jupyter-widgets/base",
      "model_module_version": "1.0.0",
      "model_name": "LayoutModel",
      "state": {}
     },
     "f19e240b43294da7be4bb5635b372316": {
      "model_module": "@jupyter-widgets/base",
      "model_module_version": "1.0.0",
      "model_name": "LayoutModel",
      "state": {
       "width": "400px"
      }
     },
     "f420f939e198400ba8a8deec2620872a": {
      "model_module": "@jupyter-widgets/base",
      "model_module_version": "1.0.0",
      "model_name": "LayoutModel",
      "state": {}
     },
     "fa0beb0d6bf046d98e727f083aed4a89": {
      "model_module": "@jupyter-widgets/controls",
      "model_module_version": "1.1.0",
      "model_name": "SliderStyleModel",
      "state": {
       "description_width": ""
      }
     },
     "fbe787b084bc4394b18ed4ba7203d075": {
      "model_module": "@jupyter-widgets/base",
      "model_module_version": "1.0.0",
      "model_name": "LayoutModel",
      "state": {}
     },
     "fc1bb03080524d7fa5dac0146208d1b5": {
      "model_module": "@jupyter-widgets/base",
      "model_module_version": "1.0.0",
      "model_name": "LayoutModel",
      "state": {}
     },
     "fcca29d687f743819845cf6508aded99": {
      "model_module": "@jupyter-widgets/controls",
      "model_module_version": "1.1.0",
      "model_name": "DescriptionStyleModel",
      "state": {
       "description_width": ""
      }
     },
     "fe187a0021474f2283909aee4ccdb37e": {
      "model_module": "@jupyter-widgets/controls",
      "model_module_version": "1.1.0",
      "model_name": "DescriptionStyleModel",
      "state": {
       "description_width": ""
      }
     }
    },
    "version_major": 2,
    "version_minor": 0
   }
  }
 },
 "nbformat": 4,
 "nbformat_minor": 1
}

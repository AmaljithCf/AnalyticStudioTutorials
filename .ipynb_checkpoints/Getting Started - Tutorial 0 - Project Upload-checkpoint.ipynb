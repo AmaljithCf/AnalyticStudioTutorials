{
 "cells": [
  {
   "cell_type": "markdown",
   "metadata": {},
   "source": [
    "# Uploading A Project\n",
    "\n",
    "In order to demonstrate the functionality of the Analytics Studio notebooks we have prepared a pre-made project that you can experiment with.\n",
    "\n",
    "To upload the project to the cloud open the Data Capture Lab and login with your credentials\n",
    "\n",
    "<img src=\"Support/img/login.png\" width=\"500\" align=\"left\">\n"
   ]
  },
  {
   "cell_type": "markdown",
   "metadata": {
    "collapsed": true
   },
   "source": [
    "Next click 'Upload project'\n",
    "\n",
    "<img src=\"Support/img/new-project.png\" width=\"220\" align=\"left\">"
   ]
  },
  {
   "cell_type": "markdown",
   "metadata": {},
   "source": [
    "Click 'Browse' and navigate to the Tutorials -> Gesture Demo directory to select the pre-made project file\n",
    "\n",
    "<img src=\"Support/img/open-project.png\" width=\"600\" align=\"left\">"
   ]
  },
  {
   "cell_type": "markdown",
   "metadata": {},
   "source": [
    "Open the .dclproj file inside the directory\n",
    "\n",
    "<img src=\"Support/img/open-project-2.png\" width=\"500\" align=\"left\">"
   ]
  },
  {
   "cell_type": "markdown",
   "metadata": {},
   "source": [
    "Click 'Upload' and the Data Capture Lab will upload the project data, segments, and metadata to the cloud. Now you can experiment with this project in your notebooks\n",
    "\n",
    "<img src=\"Support/img/finish.png\" width=\"600\" align=\"left\">\n"
   ]
  }
 ],
 "metadata": {
  "kernelspec": {
   "display_name": "Python 2",
   "language": "python",
   "name": "python2"
  },
  "language_info": {
   "codemirror_mode": {
    "name": "ipython",
    "version": 2
   },
   "file_extension": ".py",
   "mimetype": "text/x-python",
   "name": "python",
   "nbconvert_exporter": "python",
   "pygments_lexer": "ipython2",
   "version": "2.7.14"
  },
  "toc": {
   "nav_menu": {},
   "number_sections": true,
   "sideBar": true,
   "skip_h1_title": false,
   "title_cell": "Table of Contents",
   "title_sidebar": "Contents",
   "toc_cell": false,
   "toc_position": {},
   "toc_section_display": true,
   "toc_window_display": true
  }
 },
 "nbformat": 4,
 "nbformat_minor": 2
}

{
 "cells": [
  {
   "cell_type": "markdown",
   "metadata": {},
   "source": [
    "# Overview\n",
    "\n",
    "This tutorial is a continuation of the <b>Nordic Thingy - Quick Start Guide</b> (9.0 Advanced Model Building) found at https://sensiml.atlassian.net/wiki/spaces/SS/pages/139722857/Getting+Started\n",
    "\n",
    "It is suggested you read the Build Your First App user guide before going through this tutorial.\n",
    "\n",
    "This tutorial is good for two scenarios:\n",
    "* You are experienced with machine learning and want to create your own Knowledge Pack with customized algorithms\n",
    "* You already generated a Knowledge Pack using the <b>Dashboard</b> widget and want to find out how you can tweak the underlying features of the Knowledge Pack even further\n",
    "    \n",
    "\n",
    "*Prerequisites: You should have already uploaded the Quick Start project through the DCL called ‘Activity Demo’*\n",
    "\n",
    "The goal of this tutorial is to give insight into the more hidden advanced features in building a custom algorithm for a Knowledge Pack <b>without the Dashboard</b>. To see an even deeper look at the concepts in this guide you can find our full documentation under Help=>Documentation\n",
    "\n",
    "There are three main steps to building a SensiML Knowledge Pack:\n",
    "\n",
    "    - Query your data\n",
    "    - Transform the data into a feature vector\n",
    "    - Build the model to fit on the sensor device\n",
    " \n",
    "## Jupyter Notebooks\n",
    "The Analytics Studio is a tool based on jupyter notebooks. If you have not used jupyter notebooks before the following keyboard shortcuts will be useful.\n",
    "* <b> Execute a cell </b> - Shift + Enter\n",
    "* <b> Auto-complete </b> - Press tab at any time while typing a function/command and the Analytics Studio will give you all available options\n",
    "\n",
    "\n",
    "## Loading your project\n",
    "\n",
    "First you need to load the project you created through the Data Capture Lab. In our example it is called 'Activity Demo'"
   ]
  },
  {
   "cell_type": "code",
   "execution_count": null,
   "metadata": {},
   "outputs": [],
   "source": [
    "import sys\n",
    "%matplotlib inline\n",
    "\n",
    "from sensiml import SensiML\n",
    "from sensiml.widgets import *\n",
    "\n",
    "dsk = SensiML()"
   ]
  },
  {
   "cell_type": "code",
   "execution_count": null,
   "metadata": {},
   "outputs": [],
   "source": [
    "dsk.project ='Activity Demo'"
   ]
  },
  {
   "cell_type": "markdown",
   "metadata": {},
   "source": [
    "The next step is to initialize a pipeline space to work in. A pipeline includes each step that you perform on the data to build a SensiML Knowledge Pack. The work you do in the pipeline will be stored in SensiML Cloud so that you can share pipelines with team members and come back to stored work in the future. Add a pipeline to the project using the following code snippet. \n",
    "        \n",
    "        dsk.pipeline = \"Name of your pipeline\""
   ]
  },
  {
   "cell_type": "code",
   "execution_count": null,
   "metadata": {},
   "outputs": [],
   "source": [
    "dsk.pipeline = \"Activity Demo Pipeline\""
   ]
  },
  {
   "cell_type": "markdown",
   "metadata": {},
   "source": [
    "# Query your data\n",
    "\n",
    "To select all of the data you labeled through the Data Capture Lab you need to add a query step to your pipeline. \n",
    "\n",
    "We provided a query widget to make this step easier. To load the query widget, use the command below:"
   ]
  },
  {
   "cell_type": "code",
   "execution_count": null,
   "metadata": {
    "scrolled": false
   },
   "outputs": [],
   "source": [
    "QueryWidget(dsk).create_widget()"
   ]
  },
  {
   "cell_type": "markdown",
   "metadata": {},
   "source": [
    "Use the query widget to enter the following parameters:\n",
    "    - Query Name: My First Query\n",
    "    - Segmenter: Manual\n",
    "    - Label: Activity\n",
    "    - Metadata: Subject\n",
    "    - Sources: (Hold shift and select all)\n",
    "\n",
    "Once you are done click <b>Add Query</b>\n"
   ]
  },
  {
   "cell_type": "markdown",
   "metadata": {},
   "source": [
    "### Building a pipeline\n",
    "Throughout this notebook we will add multiple steps to transform the data in a pipeline. Note: No work is done on the data until you execute the pipeline, i.e., dsk.pipeline.execute()\n",
    "\n",
    "The main steps of a pipeline include:\n",
    "\n",
    "    -Query\n",
    "    -Feature Engineering\n",
    "    -Model Generation\n",
    "\n",
    "It is important that you add the steps in the right order. If you accidentally add them in the wrong order or want to restart, simply enter the command:\n",
    "    \n",
    "    dsk.pipeline.reset()\n",
    "\n",
    "### Adding your Query step\n",
    "Let's add the query step that you created above. Use the command below:"
   ]
  },
  {
   "cell_type": "code",
   "execution_count": null,
   "metadata": {},
   "outputs": [],
   "source": [
    "dsk.pipeline.reset()\n",
    "dsk.pipeline.set_input_query('My First Query')"
   ]
  },
  {
   "cell_type": "markdown",
   "metadata": {},
   "source": [
    "### Pipeline progress\n",
    "To see the current steps in your pipeline you can enter the command:"
   ]
  },
  {
   "cell_type": "code",
   "execution_count": null,
   "metadata": {},
   "outputs": [],
   "source": [
    "dsk.pipeline.describe()"
   ]
  },
  {
   "cell_type": "markdown",
   "metadata": {
    "collapsed": true
   },
   "source": [
    "# Segmentation and Feature engineering\n",
    "\n",
    "The segmentation and feature engineering part of the pipeline involves transforming data streams into a feature vector that are used to train a model (SensiML Knowledge Pack). This is where we get into the more advanced machine learning part of the Analytics Studio. It is okay if you do not understand everything right away, we are going to walk through some examples of good features for the periodic event use case and give you the tools to explore more features\n",
    "\n",
    "The features in the feature vector must be integers between 0-255. The feature vector can be any length, but in practice you will be limited by the space on the device. \n",
    "\n",
    "## SensiML Core Functions\n",
    "\n",
    "The Analytics Studio provides a way to define a pipeline for feature vector and model building. The feature vector generation part of the pipeline includes over 100 core functions that can be split into a few different types:\n",
    "\n",
    "* Sensor transforms - these are applied to the data directly as it comes off the sensor, they can be smoothing functions, magnitude of sensor columns etc.\n",
    "* Segmentation - the segmenter selects regions of interest from the streaming data. This can be an event if you are using an event detection segmenter, or simply a sliding window which buffers a segment of data and sends it to the next step.\n",
    "* Segment transforms - operates on a segment of data, typically normalizes the data in some way such as demeaning to prepare for feature vector generation.\n",
    "* Feature generators - Algorithms to extract relevant feature vectors from the data streams in preparation for model building.\n",
    "* Feature transforms - Feature transforms normalize all of the features in the feature vector to between 0-255.\n",
    "* Feature selectors - These functions remove features which do not help discriminate between different classes.\n",
    "\n",
    "The Analytics Studio allows you to string together a pipeline composed of these individual steps. The pipeline is sent to our servers where we can take advantage of optimizations to speed up the pipeline processing."
   ]
  },
  {
   "cell_type": "markdown",
   "metadata": {},
   "source": [
    "### Adding a basic core function\n",
    "Next we're going to add one core function and explain how to work with other core functions.\n",
    "\n",
    "A core function that is often useful for normalizing data is the magnitude sensor transform. Add a Magnitude sensor transform using the command below:"
   ]
  },
  {
   "cell_type": "code",
   "execution_count": null,
   "metadata": {},
   "outputs": [],
   "source": [
    "dsk.pipeline.add_transform(\"Magnitude\", params={\"input_columns\": ['GyroscopeX','GyroscopeY', 'GyroscopeZ']})\n",
    "dsk.pipeline.describe()"
   ]
  },
  {
   "cell_type": "markdown",
   "metadata": {},
   "source": [
    "If you want to see specific documentation about any of the Analytics Studio commands, add a <b>?</b> to the end of the command"
   ]
  },
  {
   "cell_type": "code",
   "execution_count": null,
   "metadata": {},
   "outputs": [],
   "source": [
    "dsk.pipeline.add_transform?"
   ]
  },
  {
   "cell_type": "markdown",
   "metadata": {},
   "source": [
    "### Exploring core functions:\n",
    "The magnitude sensor transform is just one of over 100 core functions that the Analytics Studio provides. To see a list of the available core functions, use the following command:"
   ]
  },
  {
   "cell_type": "code",
   "execution_count": null,
   "metadata": {},
   "outputs": [],
   "source": [
    "dsk.list_functions()"
   ]
  },
  {
   "cell_type": "markdown",
   "metadata": {},
   "source": [
    "To get the documentation for any of the functions, use the command:"
   ]
  },
  {
   "cell_type": "code",
   "execution_count": null,
   "metadata": {},
   "outputs": [],
   "source": [
    "dsk.function_description('Magnitude')"
   ]
  },
  {
   "cell_type": "markdown",
   "metadata": {},
   "source": [
    "To get the function parameters, use the following command:"
   ]
  },
  {
   "cell_type": "code",
   "execution_count": null,
   "metadata": {},
   "outputs": [],
   "source": [
    "dsk.function_help('Magnitude')"
   ]
  },
  {
   "cell_type": "markdown",
   "metadata": {},
   "source": [
    "#### Function snippets\n",
    "\n",
    "The Analytics Studio also includes function snippets that will auto-generate the function parameters for you. To use a snippet, execute the following command: \n",
    "\n",
    "        dsk.snippets.Transform.Magnitude()\n",
    "\n",
    "To see snippets in action, go ahead and execute the cell below:"
   ]
  },
  {
   "cell_type": "code",
   "execution_count": null,
   "metadata": {},
   "outputs": [],
   "source": [
    "dsk.snippets.Transform.Magnitude()"
   ]
  },
  {
   "cell_type": "markdown",
   "metadata": {},
   "source": [
    "## Pipeline Execution\n",
    "\n",
    "When executing the pipeline, there will always be two results returned. Take a look at the next cell. The first variable <b>magnitude_data</b> will be the actual data. The second variable <b>stats</b> will contain information about the pipeline execution on the server."
   ]
  },
  {
   "cell_type": "code",
   "execution_count": null,
   "metadata": {
    "scrolled": false
   },
   "outputs": [],
   "source": [
    "magnitude_data, stats = dsk.pipeline.execute()"
   ]
  },
  {
   "cell_type": "markdown",
   "metadata": {},
   "source": [
    "Explore the returned <b>magnitude_data</b> using the command below. Notice that an additional column is added to the dataframe - Magnitude_ST_0000. The subscripts refer to this being a sensor transform (ST) and being the first one added 0000. If you were to add another sensor transform, for example taking the magnitude of the accelerometer data as well, you would get another column Magnitude_ST_0001."
   ]
  },
  {
   "cell_type": "code",
   "execution_count": null,
   "metadata": {},
   "outputs": [],
   "source": [
    "magnitude_data.head()"
   ]
  },
  {
   "cell_type": "markdown",
   "metadata": {},
   "source": [
    "### Performing Segmentation"
   ]
  },
  {
   "cell_type": "markdown",
   "metadata": {},
   "source": [
    "The next step is to segment our data into windows which we can perform recognition on. For periodic events we want to use the Windowing Transform. Go ahead and look at the function description. Delta is the sliding window overlap. Setting delta to the same value as the window size means that there is no overlap in our segmented windows. "
   ]
  },
  {
   "cell_type": "code",
   "execution_count": null,
   "metadata": {},
   "outputs": [],
   "source": [
    "dsk.pipeline.add_transform(\"Windowing\", params={\"window_size\": 300, \n",
    "                                                \"delta\": 300,})\n",
    "dsk.pipeline.describe(show_params=True)"
   ]
  },
  {
   "cell_type": "markdown",
   "metadata": {},
   "source": [
    "Different window sizes can lead to better models. For this project lets reduce the window_size and delta to 200. The actual time that the window size represents for this data set it corresponds to 2 seconds, as our data was recorded at 100HZ. Go ahead and change the values in the Windowing Segmenter and re-execute. You will see the parameters change for the windowing segmenter change, but a new step shouldn't be added."
   ]
  },
  {
   "cell_type": "code",
   "execution_count": null,
   "metadata": {},
   "outputs": [],
   "source": [
    "dsk.pipeline.add_transform(\"Windowing\", params={\"window_size\": 200, \n",
    "                                                \"delta\": 200,})\n",
    "dsk.pipeline.describe(show_params=True)"
   ]
  },
  {
   "cell_type": "markdown",
   "metadata": {},
   "source": [
    "### Segmentation Filters\n",
    "It is often good practice to pair a windowing segmentation algorithm with a filter. This will add a step in the pipeline that will drop segments, saving battery life on the device by ignoring segments that don't contain useful information. For this pipeline we want to use the <b>MSE Filter</b> transform (Mean Squared Error). Go ahead and add this step to the pipeline."
   ]
  },
  {
   "cell_type": "code",
   "execution_count": null,
   "metadata": {},
   "outputs": [],
   "source": [
    "dsk.pipeline.add_transform(\"MSE Filter\", params={\"input_column\": 'Magnitude_ST_0000', \n",
    "                                                \"MSE_target\": -1.0, \n",
    "                                                \"MSE_threshold\": 0.01})"
   ]
  },
  {
   "cell_type": "markdown",
   "metadata": {},
   "source": [
    "After adding the MSE filter execute the pipeline. "
   ]
  },
  {
   "cell_type": "code",
   "execution_count": null,
   "metadata": {},
   "outputs": [],
   "source": [
    "mse_data, stats = dsk.pipeline.execute()"
   ]
  },
  {
   "cell_type": "markdown",
   "metadata": {},
   "source": [
    "### Feature Vector Generation\n",
    "At this point we are ready to generate a feature vector from our segments. Feature generators \n",
    "are algorithms to extract relevant feature vectors from the data streams in preparation for model building. They can be simple features such as <b>mean</b> up to more complex features such as the <b>fourier transform</b>.\n",
    "\n",
    "Feature generators are all added into a single step and run in parallel against the same input data. Let's add two feature generators now:"
   ]
  },
  {
   "cell_type": "code",
   "execution_count": null,
   "metadata": {},
   "outputs": [],
   "source": [
    "dsk.pipeline.add_feature_generator([\"Mean\", 'Standard Deviation'],\n",
    "                                   function_defaults = {\"columns\":[u'Magnitude_ST_0000']})"
   ]
  },
  {
   "cell_type": "markdown",
   "metadata": {},
   "source": [
    "We have added two feature generators from the subtype \"Statistical\". The more features, the better chance you have of building a successful model. Let's try adding a few more feature generators of the same subtype. Call dsk.list_functions() and you can find more feature generators of the same type"
   ]
  },
  {
   "cell_type": "code",
   "execution_count": null,
   "metadata": {},
   "outputs": [],
   "source": [
    "dsk.pipeline.add_feature_generator([\"Mean\", 'Standard Deviation', 'Sum', '25th Percentile'],\n",
    "                                   function_defaults = {\"columns\":[u'Magnitude_ST_0000']})"
   ]
  },
  {
   "cell_type": "markdown",
   "metadata": {},
   "source": [
    "Our classifiers are optimized for performance and memory usage to fit on resource constrained devices. Because of this we scale the features in the feature vector to be a single byte each so we need to add the Min Max Scale transform to the pipeline. This function will scale the features in the feature vector to have values between 0 and 255.  "
   ]
  },
  {
   "cell_type": "code",
   "execution_count": null,
   "metadata": {},
   "outputs": [],
   "source": [
    "dsk.pipeline.add_transform('Min Max Scale')"
   ]
  },
  {
   "cell_type": "code",
   "execution_count": null,
   "metadata": {},
   "outputs": [],
   "source": [
    "feature_vectors, stats = dsk.pipeline.execute()"
   ]
  },
  {
   "cell_type": "markdown",
   "metadata": {},
   "source": [
    "Next let's take a look at the feature vectors that you have generated. We plot of the average of all feature vectors grouped by Activity. Ideally, you are looking for feature vectors that are separable in space. How do the ones you've generated look? "
   ]
  },
  {
   "cell_type": "code",
   "execution_count": null,
   "metadata": {},
   "outputs": [],
   "source": [
    "dsk.pipeline.visualize_features(feature_vectors)"
   ]
  },
  {
   "cell_type": "markdown",
   "metadata": {},
   "source": [
    "# Model Building - Creating a model to put onto a device"
   ]
  },
  {
   "cell_type": "markdown",
   "metadata": {},
   "source": [
    "### Model TVO description\n",
    "\n",
    "* train_validate_optimze (tvo) : This step defines the model validation, the classifier and the training algorithm to build the model with. With SensiML, the the model is first trained using the selected training algorithm, then loaded into the hardware simulator (currently we only support pattern matching, but more algorithms will be added in the future) and tested using the specified validation method.\n",
    "\n",
    "This pipeline uses the validation method \"Stratified K-Fold Cross-Validation\". This is a standard validation method used to test the performance of a model by splitting the data into k folds, training on k-1 folds and testing against the excluded fold. Then it switches which fold is tested on, and repeats until all of the folds have been used as a test set. The average of the metrics for each model provide you with a good estimate of how a model trained on the full data set will perform.\n",
    "\n",
    "The training algorithm attempts to optimize the number of neurons and their locations in order to create the best model. We are using the training algorithm \"Hierarchical Clustering with Neuron Optimization,\" which uses a clustering algorithm to optimize neurons placement in feature space. \n",
    "\n",
    "The current available classifier in the Analytics Studio is PME. PME has two classification modes, RBF and KNN and two distance modes of calculation, L1 and LSUP. You can see the documentation for further descriptions of the classifier."
   ]
  },
  {
   "cell_type": "code",
   "execution_count": null,
   "metadata": {},
   "outputs": [],
   "source": [
    "dsk.pipeline.set_validation_method('Stratified K-Fold Cross-Validation', params={'number_of_folds':3,})\n",
    "\n",
    "dsk.pipeline.set_classifier('PME', params={\"classification_mode\":'RBF','distance_mode':'L1'})\n",
    "\n",
    "dsk.pipeline.set_training_algorithm('Hierarchical Clustering with Neuron Optimization', params = {'number_of_neurons':5})\n",
    "\n",
    "\n",
    "dsk.pipeline.set_tvo({'validation_seed':2})"
   ]
  },
  {
   "cell_type": "markdown",
   "metadata": {},
   "source": [
    "Go ahead and execute the full pipeline now."
   ]
  },
  {
   "cell_type": "code",
   "execution_count": null,
   "metadata": {},
   "outputs": [],
   "source": [
    "model_results, stats = dsk.pipeline.execute()"
   ]
  },
  {
   "cell_type": "markdown",
   "metadata": {},
   "source": [
    "The model_results object returned after a TVO step contains a wealth of information about the models that were generated and their performance. A simple view is to use the summarize function to see the performance of our model."
   ]
  },
  {
   "cell_type": "code",
   "execution_count": null,
   "metadata": {},
   "outputs": [],
   "source": [
    "model_results.summarize()"
   ]
  },
  {
   "cell_type": "markdown",
   "metadata": {},
   "source": [
    "Let's grab the fold with the best performing model to compare with our features."
   ]
  },
  {
   "cell_type": "code",
   "execution_count": null,
   "metadata": {},
   "outputs": [],
   "source": [
    "model = model_results.configurations[0].models[0]"
   ]
  },
  {
   "cell_type": "markdown",
   "metadata": {},
   "source": [
    "The neurons are contained in model.neurons. Plot these over the feature_vector plot that you created earlier. This step is often useful for debugging."
   ]
  },
  {
   "cell_type": "code",
   "execution_count": null,
   "metadata": {
    "scrolled": false
   },
   "outputs": [],
   "source": [
    "import pandas as pd\n",
    "dsk.pipeline.visualize_neuron_array(model, model_results.feature_vectors,\n",
    "                                   pd.DataFrame(model.knowledgepack.feature_summary).Feature.values[-1],\n",
    "                                   pd.DataFrame(model.knowledgepack.feature_summary).Feature.values[0:])"
   ]
  },
  {
   "cell_type": "markdown",
   "metadata": {},
   "source": [
    "go ahead and save the best model as a SensiML Knowledge Pack. Models that aren't saved will be lost when the cache is emptied."
   ]
  },
  {
   "cell_type": "code",
   "execution_count": null,
   "metadata": {},
   "outputs": [],
   "source": [
    "model.knowledgepack.save('MyFirstModel_KP')"
   ]
  },
  {
   "cell_type": "markdown",
   "metadata": {},
   "source": [
    "# The Power of SensiML Knowledge Packs \n",
    "\n",
    "The most important objective of the Analytics Studio is to allow users to instantly turn their models into downloadable Knowledge Packs that can be flashed to devices to perform the classification tasks.\n"
   ]
  },
  {
   "cell_type": "markdown",
   "metadata": {},
   "source": [
    "### Generate Knowledge Pack\n",
    "\n",
    "Let's generate our Knowledge Pack. We have saved the Knowledge Pack with the name <b>MyFirstModel_KP</b>. Select it in the widget below. Then select your target platform."
   ]
  },
  {
   "cell_type": "code",
   "execution_count": null,
   "metadata": {},
   "outputs": [],
   "source": [
    "DownloadWidget(dsk).create_widget()"
   ]
  },
  {
   "cell_type": "markdown",
   "metadata": {},
   "source": [
    "Make sure to generate your Knowledge Pack with the same sample rate that you recorded your raw sensor data with or else you may get unexpected results. For our Activity Demo this should be 100\n",
    "\n",
    "Set the following properties:\n",
    "    - HW Platform: Nordic Thingy 2.1\n",
    "    - Target OS: NordicSDK\n",
    "    - Format: Binary\n",
    "    - Sample Rate: 100\n",
    "    - Debug: False\n",
    "    - Test Data: None\n",
    "    - Output: BLE\n",
    "To find out more about these properties check out the <b>Build Your First App</b> guide (Generating a Knowledge Pack)"
   ]
  },
  {
   "cell_type": "markdown",
   "metadata": {},
   "source": [
    "### Flashing a Knowledge Pack (Nordic Thingy)\n",
    "\n",
    "The <b>FlashWidget</b> makes flashing a Knowledge Pack to your device quick and easy, but it requires some one-time preparation steps detailed in the <b>Flashing Firmware to Nordic Thingy</b> guide. This can be found at \n",
    "https://sensiml.atlassian.net/wiki/spaces/SS/pages/139591923/Nordic+Thingy+Firmware\n",
    "\n",
    "After you’ve completed section <b>2.0 Preparing Your Device for the First Time</b>, you can click the <b>Flash</b> button in the FlashWidget below. (Note that you only need to complete the preparation steps the first time you use your device)"
   ]
  },
  {
   "cell_type": "code",
   "execution_count": null,
   "metadata": {},
   "outputs": [],
   "source": [
    "FlashWidget(dsk).create_widget()"
   ]
  },
  {
   "cell_type": "markdown",
   "metadata": {},
   "source": [
    "### Final Steps: View your classification output on the Nordic Thingy\n",
    "Now that you've flashed your Knowledge Pack to a device let's check out the results! The easiest way to see the live event classification results of a Knowledge Pack running on your sensor is through the <b>SensiML TestApp</b> (PC or Android). Open the TestApp and connect to your device to see the output.\n",
    "\n",
    "You can also connect your device to your PC and view the output over serial connection. See the Flashing Firmware to Nordic Thingy guide for serial options.\n"
   ]
  },
  {
   "cell_type": "code",
   "execution_count": null,
   "metadata": {},
   "outputs": [],
   "source": []
  }
 ],
 "metadata": {
  "anaconda-cloud": {},
  "kernelspec": {
   "display_name": "Python 3",
   "language": "python",
   "name": "python3"
  },
  "language_info": {
   "codemirror_mode": {
    "name": "ipython",
    "version": 3
   },
   "file_extension": ".py",
   "mimetype": "text/x-python",
   "name": "python",
   "nbconvert_exporter": "python",
   "pygments_lexer": "ipython3",
   "version": "3.7.0"
  },
  "toc": {
   "base_numbering": 1,
   "nav_menu": {},
   "number_sections": true,
   "sideBar": true,
   "skip_h1_title": false,
   "title_cell": "Table of Contents",
   "title_sidebar": "Contents",
   "toc_cell": false,
   "toc_position": {},
   "toc_section_display": "block",
   "toc_window_display": false
  }
 },
 "nbformat": 4,
 "nbformat_minor": 1
}

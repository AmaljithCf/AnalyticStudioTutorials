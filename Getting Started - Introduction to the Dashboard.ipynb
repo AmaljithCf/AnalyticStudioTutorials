{
 "cells": [
  {
   "cell_type": "code",
   "execution_count": 1,
   "metadata": {
    "scrolled": false
   },
   "outputs": [
    {
     "data": {
      "application/vnd.jupyter.widget-view+json": {
       "model_id": "295166fc26cf4f72b882dacc422feba1",
       "version_major": 2,
       "version_minor": 0
      },
      "text/html": [
       "<p>Failed to display Jupyter Widget of type <code>VBox</code>.</p>\n",
       "<p>\n",
       "  If you're reading this message in the Jupyter Notebook or JupyterLab Notebook, it may mean\n",
       "  that the widgets JavaScript is still loading. If this message persists, it\n",
       "  likely means that the widgets JavaScript library is either not installed or\n",
       "  not enabled. See the <a href=\"https://ipywidgets.readthedocs.io/en/stable/user_install.html\">Jupyter\n",
       "  Widgets Documentation</a> for setup instructions.\n",
       "</p>\n",
       "<p>\n",
       "  If you're reading this message in another frontend (for example, a static\n",
       "  rendering on GitHub or <a href=\"https://nbviewer.jupyter.org/\">NBViewer</a>),\n",
       "  it may mean that your frontend doesn't currently support widgets.\n",
       "</p>\n"
      ],
      "text/plain": [
       "VBox(children=(HBox(children=(Button(description=u'Login', style=ButtonStyle()), Dropdown(description=u'Project', options=(), value=None), VBox(children=(Dropdown(description=u'Pipeline', options=(), value=None), HBox(children=(Text(value=u'', description=u'New Pipeline'), Button(description=u'Create', style=ButtonStyle())))))), layout=Layout(border=u'outset', width=u'100%')), Accordion(children=(HBox(children=(VBox(children=(Dropdown(description=u'Select Query', options=(), value=None), Text(value=u'', description=u'Query Name'), Dropdown(description=u'Segmenter', options=(), value=None), Dropdown(description=u'Label', options=(), value=None), SelectMultiple(description=u'Metadtata', options=(), value=()), SelectMultiple(description=u'Sources', options=(), value=()), Text(value=u'', description=u'Query Filter'), HBox(children=(Button(description=u'Add Query', style=ButtonStyle()), Button(description=u'Update Query', style=ButtonStyle()))))), Figure(background_style={'fill': 'white'}, fig_margin={'top': 10, 'left': 50, 'right': 0, 'bottom': 30}, layout=Layout(height=u'400px', min_width=u'125px', width=u'560px'), legend_location='bottom-right', scale_x=LinearScale(allow_padding=False, max=1.0, min=0.0), scale_y=LinearScale(allow_padding=False, max=1.0, min=0.0)))),), _titles={u'0': 'Select or Create Query'}), Accordion(children=(VBox(children=(HBox(children=(VBox(children=(Dropdown(description=u'Select Query', options=(), value=None), Dropdown(description=u'Segmenter', options=('Default', 'Windowing(128)', 'Windowing(256)', 'Windowing(512)', 'Windowing(1024)'), value='Default'), interactive(children=(Dropdown(description=u'Name', options=(), value=None), Output()), _dom_classes=('widget-interact',)), Textarea(value=u'', description=u'Description'))), VBox(children=(FloatSlider(value=0.8, description=u'Accuracy', max=1.0, step=0.05), FloatSlider(value=0.8, description=u'Sensitivity', max=1.0, step=0.05), FloatSlider(value=0.5, description=u'Features', max=1.0, step=0.05), FloatSlider(value=0.5, description=u'Neurons', max=1.0, step=0.05), IntSlider(value=2, description=u'Iterations', max=15, min=1), IntSlider(value=10, description=u'Population', max=50, min=10))), QgridWidget(grid_options={'fullWidthRows': True, 'rowHeight': 35, 'forceFitColumns': True, 'enableTextSelectionOnCells': True, 'editable': False, 'explicitInitialization': True, 'minVisibleRows': 5, 'autoEdit': False, 'enableColumnReorder': False, 'maxVisibleRows': 5, 'defaultColumnWidth': 15, 'syncColumnCellResize': True}, layout=Layout(width=u'300px'), precision=5))), HBox(children=(Button(description=u'Run Autopipeline', style=ButtonStyle()), Button(description=u'Refresh Queries', style=ButtonStyle()))))),), selected_index=None, _titles={u'0': 'AutoSense Pipeline'}), Accordion(children=(VBox(children=(HBox(children=(Dropdown(description=u'Model Name', options=(), value=None), Button(description=u'Refresh Models', icon=u'0', layout=Layout(align_items=u'flex-start', border=u'solid 2px', display=u'flex', flex_flow=u'column', justify_content=u'center', overflow=u'visible', width=u'25%'), style=ButtonStyle()), Button(description=u'Generate Knowledgepack', icon=u'0', layout=Layout(align_items=u'flex-start', border=u'solid 2px', display=u'flex', flex_flow=u'column', justify_content=u'center', overflow=u'visible', width=u'25%'), style=ButtonStyle()))), Label(value=u'Download Settings', layout=Layout(justify_content=u'flex-start', overflow=u'visible')), HBox(children=(VBox(children=(Dropdown(description=u'HW Platform', options=(), value=None), Dropdown(description=u'Target OS', options=(), value=None), Dropdown(description=u'Download', options=('Binary', 'Library'), value='Binary'))), VBox(children=(Dropdown(description=u'IMU Rate', options=(100, 50, 25), value=100), Dropdown(description=u'Debug', options=(True, False), value=True), Dropdown(description=u'Test Data', options=(None,), value=None))), SelectMultiple(description=u'Output', options=('ble', 'led', 'serial'), value=()))))),), selected_index=None, _titles={u'0': 'Download Knowledgepack'}), Accordion(children=(VBox(children=(HBox(children=(interactive(children=(Dropdown(description=u'Platform', options=(), value=None), Output()), _dom_classes=('widget-interact',)), Label(value=u'', layout=Layout(width=u'400px')))), HBox(children=(Dropdown(description=u'Binary', layout=Layout(width=u'550px'), options=(), value=None), Button(description=u'Refresh', style=ButtonStyle()))), HBox(children=(Dropdown(description=u'Flash Method', options=(), value=None), Button(description=u'Flash', style=ButtonStyle()), Button(description=u'Generate OTA', layout=Layout(visibility=u'hidden'), style=ButtonStyle()))))),), selected_index=None, _titles={u'0': 'Deploy Knowledgepack'})), layout=Layout(border=u'outset'))"
      ]
     },
     "metadata": {},
     "output_type": "display_data"
    },
    {
     "name": "stderr",
     "output_type": "stream",
     "text": [
      "/Users/chrisknorowski/.virtualenvs/dev2/lib/python2.7/site-packages/bqplot/traits.py:137: FutureWarning: Conversion of the second argument of issubdtype from `float` to `np.floating` is deprecated. In future, it will be treated as `np.float64 == np.dtype(float).type`.\n",
      "  if np.issubdtype(a.dtype, np.float):\n"
     ]
    }
   ],
   "source": [
    "from sensiml.widgets import DashBoard\n",
    "DashBoard().create_widget()"
   ]
  }
 ],
 "metadata": {
  "kernelspec": {
   "display_name": "Python 2",
   "language": "python",
   "name": "python2"
  },
  "language_info": {
   "codemirror_mode": {
    "name": "ipython",
    "version": 2
   },
   "file_extension": ".py",
   "mimetype": "text/x-python",
   "name": "python",
   "nbconvert_exporter": "python",
   "pygments_lexer": "ipython2",
   "version": "2.7.13"
  },
  "toc": {
   "nav_menu": {},
   "number_sections": true,
   "sideBar": true,
   "skip_h1_title": false,
   "toc_cell": false,
   "toc_position": {},
   "toc_section_display": "block",
   "toc_window_display": false
  },
  "widgets": {
   "application/vnd.jupyter.widget-state+json": {
    "state": {
     "01672b2663dc4313a5d74aa51df235c1": {
      "model_module": "@jupyter-widgets/base",
      "model_module_version": "1.0.0",
      "model_name": "LayoutModel",
      "state": {}
     },
     "036e81b14750497aa8e5d020d208d0d7": {
      "model_module": "@jupyter-widgets/base",
      "model_module_version": "1.0.0",
      "model_name": "LayoutModel",
      "state": {}
     },
     "039255aced7143d99378062a0d8b646a": {
      "model_module": "@jupyter-widgets/controls",
      "model_module_version": "1.1.0",
      "model_name": "DropdownModel",
      "state": {
       "description": "Name",
       "index": null,
       "layout": "IPY_MODEL_87b7672ac8434c47a07866444bb030ad",
       "style": "IPY_MODEL_8f2c7ecfa77d4cc3baa24576f5fd1337"
      }
     },
     "04c0e56784f44c668f1a6afed594e87a": {
      "model_module": "@jupyter-widgets/controls",
      "model_module_version": "1.1.0",
      "model_name": "DropdownModel",
      "state": {
       "_options_labels": [
        "Default",
        "Windowing(128)",
        "Windowing(256)",
        "Windowing(512)",
        "Windowing(1024)"
       ],
       "description": "Segmenter",
       "index": 0,
       "layout": "IPY_MODEL_1ff9c57e42fe4da0b39f99b1d71a823e",
       "style": "IPY_MODEL_24f548bb0e7b4d949e2dea63da1950dd"
      }
     },
     "05c2dcdafe0949899184ea75ae275efe": {
      "model_module": "@jupyter-widgets/controls",
      "model_module_version": "1.1.0",
      "model_name": "FloatSliderModel",
      "state": {
       "description": "Features",
       "layout": "IPY_MODEL_6cf4035fab38484994fabf5a22deaeef",
       "max": 1,
       "step": 0.05,
       "style": "IPY_MODEL_30b29afb6d87408a86b01251fb6356e8",
       "value": 0.5
      }
     },
     "06099bce89e04b069af31892e1182d03": {
      "model_module": "@jupyter-widgets/controls",
      "model_module_version": "1.1.0",
      "model_name": "ButtonStyleModel",
      "state": {}
     },
     "060cf6372b5649e0a33af97241b18140": {
      "model_module": "@jupyter-widgets/base",
      "model_module_version": "1.0.0",
      "model_name": "LayoutModel",
      "state": {
       "border": "solid 2px",
       "display": "flex",
       "flex_flow": "row",
       "justify_content": "space-between",
       "overflow": "visible"
      }
     },
     "06ccece6dd684e5ead40beb30974c605": {
      "model_module": "@jupyter-widgets/base",
      "model_module_version": "1.0.0",
      "model_name": "LayoutModel",
      "state": {}
     },
     "08613fc6535d4274b824cecbe653523d": {
      "model_module": "bqplot",
      "model_module_version": "^0.3.2",
      "model_name": "LinearScaleModel",
      "state": {
       "allow_padding": false,
       "max": 1,
       "min": 0,
       "stabilized": false
      }
     },
     "09a7e14a857d45ea8807d2f5d8b02f34": {
      "model_module": "@jupyter-widgets/base",
      "model_module_version": "1.0.0",
      "model_name": "LayoutModel",
      "state": {}
     },
     "09b664e809fe49f085c6e505f3753cb3": {
      "model_module": "@jupyter-widgets/controls",
      "model_module_version": "1.1.0",
      "model_name": "VBoxModel",
      "state": {
       "children": [
        "IPY_MODEL_78f2fafb4147477e95d8aead829489c1",
        "IPY_MODEL_f02b91dbcec44752a33101a979514f67",
        "IPY_MODEL_a385c06cd2b24383b29009b808dccbe7",
        "IPY_MODEL_b56abb06a64e428ba39db013ed339da1",
        "IPY_MODEL_1194436b82104a189174fd5841505e7b",
        "IPY_MODEL_46229323823a45bfbbd31ed3189e19e6",
        "IPY_MODEL_c1fec85854134c4ba15bc60483604b5e",
        "IPY_MODEL_e127e5383e624cf187c7094964408316"
       ],
       "layout": "IPY_MODEL_0b9aa37c72fa4ab1bc6b46cc7f83390f"
      }
     },
     "0a5825c75b614e72a172be951118a85e": {
      "model_module": "@jupyter-widgets/base",
      "model_module_version": "1.0.0",
      "model_name": "LayoutModel",
      "state": {}
     },
     "0aa2c43c1d7d4b8c8f735161685c3e0a": {
      "model_module": "@jupyter-widgets/controls",
      "model_module_version": "1.1.0",
      "model_name": "HBoxModel",
      "state": {
       "children": [
        "IPY_MODEL_b9d4394b77b444fb85c1a45f3cd8a9c2",
        "IPY_MODEL_d7d11c5d00454c85aaf098c5ef0bf065",
        "IPY_MODEL_e681ed00ae764db28e667db993aece5f"
       ],
       "layout": "IPY_MODEL_cbdad348e7634ffc9492237b526fb235"
      }
     },
     "0b72d367c61c4be79ab98c3dbdddf541": {
      "model_module": "@jupyter-widgets/controls",
      "model_module_version": "1.1.0",
      "model_name": "ButtonStyleModel",
      "state": {}
     },
     "0b9aa37c72fa4ab1bc6b46cc7f83390f": {
      "model_module": "@jupyter-widgets/base",
      "model_module_version": "1.0.0",
      "model_name": "LayoutModel",
      "state": {}
     },
     "0bd97f05a5ac4dafa4d87b335c4848cf": {
      "model_module": "@jupyter-widgets/base",
      "model_module_version": "1.0.0",
      "model_name": "LayoutModel",
      "state": {}
     },
     "0c0eea1ddaca4d0ab12696d827454593": {
      "model_module": "@jupyter-widgets/base",
      "model_module_version": "1.0.0",
      "model_name": "LayoutModel",
      "state": {}
     },
     "0d88b69f9157401f9c73991620368e60": {
      "model_module": "@jupyter-widgets/controls",
      "model_module_version": "1.1.0",
      "model_name": "LabelModel",
      "state": {
       "layout": "IPY_MODEL_5a8611a511ef462996eec8f6ec15820f",
       "style": "IPY_MODEL_b49928c45efb4932907d70229335cba8",
       "value": "Download Settings"
      }
     },
     "0e8dad05047c421089e7f56f01d0152c": {
      "model_module": "@jupyter-widgets/controls",
      "model_module_version": "1.1.0",
      "model_name": "DescriptionStyleModel",
      "state": {
       "description_width": ""
      }
     },
     "0e905a2ffbd145aeb0a917f86ed265f1": {
      "model_module": "@jupyter-widgets/controls",
      "model_module_version": "1.1.0",
      "model_name": "DescriptionStyleModel",
      "state": {
       "description_width": ""
      }
     },
     "0f02f0a6d98e476eb6c2b85dfbb02941": {
      "model_module": "@jupyter-widgets/controls",
      "model_module_version": "1.1.0",
      "model_name": "TextModel",
      "state": {
       "description": "New Pipeline",
       "layout": "IPY_MODEL_c122a5ebfe97441fb69924537c1b50bb",
       "style": "IPY_MODEL_8628f0a4d85f4b16af24ddcbe42c148c"
      }
     },
     "0f788c37c15045a98334cb9a37cea28c": {
      "model_module": "@jupyter-widgets/base",
      "model_module_version": "1.0.0",
      "model_name": "LayoutModel",
      "state": {}
     },
     "0fbfdae1e34f4663b22cd7e58d02fc9c": {
      "model_module": "@jupyter-widgets/controls",
      "model_module_version": "1.1.0",
      "model_name": "VBoxModel",
      "state": {
       "children": [
        "IPY_MODEL_d37927e1dfc346f28b283761aa9c5fcf",
        "IPY_MODEL_fbe6180307a5419c8193f7fdc4f72abc"
       ],
       "layout": "IPY_MODEL_3aec5bd4bbf24d8ca79928ba354e085e"
      }
     },
     "10039cda650648b9a6a31538050f9bba": {
      "model_module": "@jupyter-widgets/base",
      "model_module_version": "1.0.0",
      "model_name": "LayoutModel",
      "state": {
       "display": "flex",
       "flex_flow": "row",
       "justify_content": "space-between",
       "overflow": "visible"
      }
     },
     "1194436b82104a189174fd5841505e7b": {
      "model_module": "@jupyter-widgets/controls",
      "model_module_version": "1.1.0",
      "model_name": "SelectMultipleModel",
      "state": {
       "_options_labels": [
        "Device",
        "Subject",
        "Gesture"
       ],
       "description": "Metadtata",
       "index": [
        1
       ],
       "layout": "IPY_MODEL_48f466aa8dc74e4694c4b41976392333",
       "rows": 5,
       "style": "IPY_MODEL_df25b0adad2244e4adacdbc01a4e93e6"
      }
     },
     "11b6cc21c8d74f3db8ae1fab4ef60357": {
      "model_module": "@jupyter-widgets/controls",
      "model_module_version": "1.1.0",
      "model_name": "DescriptionStyleModel",
      "state": {
       "description_width": ""
      }
     },
     "1210cc6a3d2d48abb6a90b931fe382a7": {
      "model_module": "@jupyter-widgets/controls",
      "model_module_version": "1.1.0",
      "model_name": "VBoxModel",
      "state": {
       "children": [
        "IPY_MODEL_0aa2c43c1d7d4b8c8f735161685c3e0a",
        "IPY_MODEL_0d88b69f9157401f9c73991620368e60",
        "IPY_MODEL_b79366555f9b41e68b46d390420b0364"
       ],
       "layout": "IPY_MODEL_85fbdfb852f2463683a25d78615a56b8"
      }
     },
     "122b0e469e294ddb81d26dcfabe3f759": {
      "model_module": "@jupyter-widgets/controls",
      "model_module_version": "1.1.0",
      "model_name": "DescriptionStyleModel",
      "state": {
       "description_width": ""
      }
     },
     "126ac037ce99461eb986fbabd9e8a7f3": {
      "model_module": "@jupyter-widgets/controls",
      "model_module_version": "1.1.0",
      "model_name": "HBoxModel",
      "state": {
       "children": [
        "IPY_MODEL_57c07ae0f4664fe1b461a92dfb03df06",
        "IPY_MODEL_7ef07df0156a45ad96d90556abefb1a1",
        "IPY_MODEL_5ec17e12e397472cb80e93c006fd6b83"
       ],
       "layout": "IPY_MODEL_cb14e5b983bb474bbe76e39112424e30"
      }
     },
     "12aa8bacf7e14ab888a514bbb43ca775": {
      "model_module": "@jupyter-widgets/controls",
      "model_module_version": "1.1.0",
      "model_name": "SliderStyleModel",
      "state": {
       "description_width": ""
      }
     },
     "13dc2ab5bc504a179a6fc75b61cf1b0c": {
      "model_module": "@jupyter-widgets/controls",
      "model_module_version": "1.1.0",
      "model_name": "ButtonModel",
      "state": {
       "description": "Flash",
       "layout": "IPY_MODEL_f596f953d03c415482f6412868df939a",
       "style": "IPY_MODEL_7f610033f9c4428bacff23da3ec72f35"
      }
     },
     "1442a9e307014071b56e1909cfeb42ac": {
      "model_module": "@jupyter-widgets/controls",
      "model_module_version": "1.1.0",
      "model_name": "ButtonModel",
      "state": {
       "description": "Login",
       "layout": "IPY_MODEL_5cc2cfed4dfa474da9da98d70ce143f8",
       "style": "IPY_MODEL_dacfe9d3e08e48229404ade229455f5c"
      }
     },
     "14ba31f0a4b147d4b6fb4a995f01a3a5": {
      "model_module": "@jupyter-widgets/base",
      "model_module_version": "1.0.0",
      "model_name": "LayoutModel",
      "state": {}
     },
     "1563149f769a4999877522e1f7445e9b": {
      "model_module": "@jupyter-widgets/controls",
      "model_module_version": "1.1.0",
      "model_name": "SelectMultipleModel",
      "state": {
       "description": "Metadtata",
       "index": [],
       "layout": "IPY_MODEL_368f1057b8f341019755beb63b62ea52",
       "rows": 5,
       "style": "IPY_MODEL_568aa81f75bf49c082294ce32d11cd80"
      }
     },
     "15efd8a7aee348819dea9065515f89de": {
      "model_module": "@jupyter-widgets/base",
      "model_module_version": "1.0.0",
      "model_name": "LayoutModel",
      "state": {
       "border": "outset",
       "width": "100%"
      }
     },
     "16510e2c48c74d37ba34b77063ca6dd4": {
      "model_module": "@jupyter-widgets/base",
      "model_module_version": "1.0.0",
      "model_name": "LayoutModel",
      "state": {}
     },
     "166226ac1a92436a8b8f6e7695a8214b": {
      "model_module": "@jupyter-widgets/controls",
      "model_module_version": "1.1.0",
      "model_name": "DescriptionStyleModel",
      "state": {
       "description_width": ""
      }
     },
     "174b5fbe10b54df3ac8ba9715efc4de0": {
      "model_module": "@jupyter-widgets/base",
      "model_module_version": "1.0.0",
      "model_name": "LayoutModel",
      "state": {}
     },
     "17fffd20b7b144729990d38f09b86580": {
      "model_module": "@jupyter-widgets/base",
      "model_module_version": "1.0.0",
      "model_name": "LayoutModel",
      "state": {}
     },
     "183d1bba1b9d47ec9d92190e7c0c90ff": {
      "model_module": "@jupyter-widgets/base",
      "model_module_version": "1.0.0",
      "model_name": "LayoutModel",
      "state": {
       "border": "outset"
      }
     },
     "1921f60431214426a6007b1744979d32": {
      "model_module": "@jupyter-widgets/base",
      "model_module_version": "1.0.0",
      "model_name": "LayoutModel",
      "state": {}
     },
     "19ca923f43be4913a92ef1ec178cb110": {
      "model_module": "@jupyter-widgets/base",
      "model_module_version": "1.0.0",
      "model_name": "LayoutModel",
      "state": {}
     },
     "1ae2664e98a74245af5bafc27365955d": {
      "model_module": "@jupyter-widgets/controls",
      "model_module_version": "1.1.0",
      "model_name": "HBoxModel",
      "state": {
       "children": [
        "IPY_MODEL_1f8b25cc026a4f12b179ea5ee541eb58",
        "IPY_MODEL_84c22a90adc64a269195196b8676f32d",
        "IPY_MODEL_64cd2738463c4275be0d825f98daf847"
       ],
       "layout": "IPY_MODEL_3586aef14b26459cbdfca49847658ca2"
      }
     },
     "1bd2e82f54064297ae4b6c5ea96e1f24": {
      "model_module": "@jupyter-widgets/base",
      "model_module_version": "1.0.0",
      "model_name": "LayoutModel",
      "state": {}
     },
     "1c1f5b3fc13746e299e8379201fd2f01": {
      "model_module": "@jupyter-widgets/base",
      "model_module_version": "1.0.0",
      "model_name": "LayoutModel",
      "state": {}
     },
     "1c39158e8ee44771974a7263cf105177": {
      "model_module": "@jupyter-widgets/base",
      "model_module_version": "1.0.0",
      "model_name": "LayoutModel",
      "state": {}
     },
     "1dffb24b0e764a468d48fb87e144693c": {
      "model_module": "@jupyter-widgets/controls",
      "model_module_version": "1.1.0",
      "model_name": "DescriptionStyleModel",
      "state": {
       "description_width": ""
      }
     },
     "1f8b25cc026a4f12b179ea5ee541eb58": {
      "model_module": "@jupyter-widgets/controls",
      "model_module_version": "1.1.0",
      "model_name": "DropdownModel",
      "state": {
       "description": "Model Name",
       "index": null,
       "layout": "IPY_MODEL_f2c79c6726c947dd955a360a747ce0c2",
       "style": "IPY_MODEL_11b6cc21c8d74f3db8ae1fab4ef60357"
      }
     },
     "1f9095ffc2e448ba9db3c800bff90d41": {
      "model_module": "@jupyter-widgets/base",
      "model_module_version": "1.0.0",
      "model_name": "LayoutModel",
      "state": {
       "border": "solid 2px",
       "display": "flex",
       "flex_flow": "row",
       "justify_content": "center",
       "overflow": "visible"
      }
     },
     "1ff9c57e42fe4da0b39f99b1d71a823e": {
      "model_module": "@jupyter-widgets/base",
      "model_module_version": "1.0.0",
      "model_name": "LayoutModel",
      "state": {}
     },
     "2158b9ea02eb47e093c62aa6cceded82": {
      "model_module": "@jupyter-widgets/output",
      "model_module_version": "1.1.0",
      "model_name": "OutputModel",
      "state": {
       "_model_module_version": "1.1.0",
       "_view_module_version": "1.1.0",
       "layout": "IPY_MODEL_e41ec439c85b41cfb71e4cebc67379cd"
      }
     },
     "2173479062214badbe7cdd88dc175ebb": {
      "model_module": "@jupyter-widgets/controls",
      "model_module_version": "1.1.0",
      "model_name": "DropdownModel",
      "state": {
       "description": "Segmenter",
       "index": null,
       "layout": "IPY_MODEL_9d165ce9df074312b91ba4d03d48e87c",
       "style": "IPY_MODEL_d93bfb7c83444ed0b9f437aa8e47dd05"
      }
     },
     "21e1ba5c3f63434cb806488bd91843a7": {
      "model_module": "@jupyter-widgets/base",
      "model_module_version": "1.0.0",
      "model_name": "LayoutModel",
      "state": {
       "display": "flex",
       "flex_flow": "row",
       "justify_content": "space-between",
       "overflow": "visible"
      }
     },
     "2296cd56800b419b9e770e62d01cbe9d": {
      "model_module": "@jupyter-widgets/controls",
      "model_module_version": "1.1.0",
      "model_name": "AccordionModel",
      "state": {
       "_titles": {
        "0": "Deploy Knowledgepack"
       },
       "children": [
        "IPY_MODEL_ce1415d966844041a7abfb231e7a2064"
       ],
       "layout": "IPY_MODEL_f6629a362f384bacb154577bf961d816"
      }
     },
     "23dba85f0df84f6f94a8c53e4ec71439": {
      "model_module": "@jupyter-widgets/base",
      "model_module_version": "1.0.0",
      "model_name": "LayoutModel",
      "state": {}
     },
     "241b2de6e70942f59efb5b986064fad5": {
      "model_module": "@jupyter-widgets/base",
      "model_module_version": "1.0.0",
      "model_name": "LayoutModel",
      "state": {}
     },
     "2491fe4cd9a34d5183bc0ed6bc9bbe96": {
      "model_module": "@jupyter-widgets/controls",
      "model_module_version": "1.1.0",
      "model_name": "FloatSliderModel",
      "state": {
       "description": "Features",
       "layout": "IPY_MODEL_e3d968c21328497b8b6226760fc0d3b1",
       "max": 1,
       "step": 0.05,
       "style": "IPY_MODEL_61c2368d852446668a98c2c4f4a6f002",
       "value": 0.5
      }
     },
     "24f548bb0e7b4d949e2dea63da1950dd": {
      "model_module": "@jupyter-widgets/controls",
      "model_module_version": "1.1.0",
      "model_name": "DescriptionStyleModel",
      "state": {
       "description_width": ""
      }
     },
     "270798aa055a47d3a1c19f0aa8a794ec": {
      "model_module": "@jupyter-widgets/controls",
      "model_module_version": "1.1.0",
      "model_name": "ButtonModel",
      "state": {
       "description": "Run Autopipeline",
       "layout": "IPY_MODEL_82a000a500174b3d8c480e7923795940",
       "style": "IPY_MODEL_d98597e2afb74af3ab6d693e0760b0f1"
      }
     },
     "2790e665f8b24ac1a3af8eca6cb72a5c": {
      "model_module": "@jupyter-widgets/base",
      "model_module_version": "1.0.0",
      "model_name": "LayoutModel",
      "state": {}
     },
     "280ef33619dc42a9bd2a2fbcf702d66d": {
      "model_module": "@jupyter-widgets/controls",
      "model_module_version": "1.1.0",
      "model_name": "ButtonModel",
      "state": {
       "description": "Add Query",
       "layout": "IPY_MODEL_310bf67117f44a51ae74830756461e14",
       "style": "IPY_MODEL_62a704b7512d4a2f80bda1df435db379"
      }
     },
     "28d00298354a4aec97703e81f727cbb4": {
      "model_module": "@jupyter-widgets/controls",
      "model_module_version": "1.1.0",
      "model_name": "VBoxModel",
      "state": {
       "children": [
        "IPY_MODEL_5170b8e80a024945bb656c9b7cf10df2",
        "IPY_MODEL_96684dcf48af41e0b0a76b70632e3441",
        "IPY_MODEL_2491fe4cd9a34d5183bc0ed6bc9bbe96",
        "IPY_MODEL_a77595887fa64326a805378f3d6bf590",
        "IPY_MODEL_ec902e0633944259b346076a6359c1b1",
        "IPY_MODEL_ad04a5a6fcbf47d298c7f4c1d291c1db"
       ],
       "layout": "IPY_MODEL_f5c79a1b1dc0480c943053d34d6fd563"
      }
     },
     "295166fc26cf4f72b882dacc422feba1": {
      "model_module": "@jupyter-widgets/controls",
      "model_module_version": "1.1.0",
      "model_name": "VBoxModel",
      "state": {
       "children": [
        "IPY_MODEL_126ac037ce99461eb986fbabd9e8a7f3",
        "IPY_MODEL_97610190164a407f878ac8240e2c7f60",
        "IPY_MODEL_5fa99e20c91547babd1bf9109676b4f4",
        "IPY_MODEL_84a720b8396f4364af2815093e965226",
        "IPY_MODEL_2296cd56800b419b9e770e62d01cbe9d"
       ],
       "layout": "IPY_MODEL_183d1bba1b9d47ec9d92190e7c0c90ff"
      }
     },
     "29ea96deb9fc416fbda78270a805c699": {
      "model_module": "@jupyter-widgets/base",
      "model_module_version": "1.0.0",
      "model_name": "LayoutModel",
      "state": {}
     },
     "29ee4b5307534d8ca2c28b592a0634e9": {
      "model_module": "@jupyter-widgets/controls",
      "model_module_version": "1.1.0",
      "model_name": "HBoxModel",
      "state": {
       "children": [
        "IPY_MODEL_4ee0351e5164404a9f26cb2f153296f7",
        "IPY_MODEL_7b62c713863040bd80e9b51a89a2dec5"
       ],
       "layout": "IPY_MODEL_29ea96deb9fc416fbda78270a805c699"
      }
     },
     "2e80fcbdc0e74555bf7f98317511cd81": {
      "model_module": "@jupyter-widgets/controls",
      "model_module_version": "1.1.0",
      "model_name": "ButtonStyleModel",
      "state": {}
     },
     "30a4e022153f4764aa2e1c041f79deea": {
      "model_module": "@jupyter-widgets/controls",
      "model_module_version": "1.1.0",
      "model_name": "DescriptionStyleModel",
      "state": {
       "description_width": ""
      }
     },
     "30b29afb6d87408a86b01251fb6356e8": {
      "model_module": "@jupyter-widgets/controls",
      "model_module_version": "1.1.0",
      "model_name": "SliderStyleModel",
      "state": {
       "description_width": ""
      }
     },
     "30b988b5685e430886ad47fcaede4442": {
      "model_module": "@jupyter-widgets/base",
      "model_module_version": "1.0.0",
      "model_name": "LayoutModel",
      "state": {}
     },
     "30d21139f38741cf818ee045da9de345": {
      "model_module": "@jupyter-widgets/controls",
      "model_module_version": "1.1.0",
      "model_name": "VBoxModel",
      "state": {
       "_dom_classes": [
        "widget-interact"
       ],
       "children": [
        "IPY_MODEL_8c9b60c75e0b428a896d5b0c12205b7d",
        "IPY_MODEL_61f9c89da1a241fb867e30e45a1827a8"
       ],
       "layout": "IPY_MODEL_c834c5ccfb5542f3a66615dd09b7c423"
      }
     },
     "30e8b7c973464bbc8db5ecacf36d993f": {
      "model_module": "@jupyter-widgets/controls",
      "model_module_version": "1.1.0",
      "model_name": "DescriptionStyleModel",
      "state": {
       "description_width": ""
      }
     },
     "310bf67117f44a51ae74830756461e14": {
      "model_module": "@jupyter-widgets/base",
      "model_module_version": "1.0.0",
      "model_name": "LayoutModel",
      "state": {}
     },
     "32241b79ae604e608c99c9ea35304a4a": {
      "model_module": "@jupyter-widgets/controls",
      "model_module_version": "1.1.0",
      "model_name": "SliderStyleModel",
      "state": {
       "description_width": ""
      }
     },
     "32ea294452004a6b908353675a8536dc": {
      "model_module": "@jupyter-widgets/base",
      "model_module_version": "1.0.0",
      "model_name": "LayoutModel",
      "state": {}
     },
     "3443e72a18224093931276932714e6f3": {
      "model_module": "@jupyter-widgets/controls",
      "model_module_version": "1.1.0",
      "model_name": "HBoxModel",
      "state": {
       "children": [
        "IPY_MODEL_1442a9e307014071b56e1909cfeb42ac",
        "IPY_MODEL_4421c41883044647bfad3057f399e0da",
        "IPY_MODEL_98790b6ab0bc404d8118db6777cf46ad"
       ],
       "layout": "IPY_MODEL_15efd8a7aee348819dea9065515f89de"
      }
     },
     "3515c521b56948578c859d933a143398": {
      "model_module": "@jupyter-widgets/base",
      "model_module_version": "1.0.0",
      "model_name": "LayoutModel",
      "state": {}
     },
     "3586aef14b26459cbdfca49847658ca2": {
      "model_module": "@jupyter-widgets/base",
      "model_module_version": "1.0.0",
      "model_name": "LayoutModel",
      "state": {}
     },
     "35b25661328f434892e425afb7433561": {
      "model_module": "@jupyter-widgets/controls",
      "model_module_version": "1.1.0",
      "model_name": "DescriptionStyleModel",
      "state": {
       "description_width": ""
      }
     },
     "368f1057b8f341019755beb63b62ea52": {
      "model_module": "@jupyter-widgets/base",
      "model_module_version": "1.0.0",
      "model_name": "LayoutModel",
      "state": {}
     },
     "36b4cd96dfe147d2bd1dc1582398b190": {
      "model_module": "@jupyter-widgets/controls",
      "model_module_version": "1.1.0",
      "model_name": "VBoxModel",
      "state": {
       "children": [
        "IPY_MODEL_3f079a58d6f14dd59f095e220043461b",
        "IPY_MODEL_64f91281b5aa46ec9a8071205f7f7068",
        "IPY_MODEL_826f9d4a95e84dfab89f000d2ea0518c"
       ],
       "layout": "IPY_MODEL_9b0a656dade447be987a81f117275f6c"
      }
     },
     "38374a4a2a4146ceb40a70b4fd7dbc61": {
      "model_module": "@jupyter-widgets/controls",
      "model_module_version": "1.1.0",
      "model_name": "DescriptionStyleModel",
      "state": {
       "description_width": ""
      }
     },
     "3861f817095443569627d5b2c1c5ea3a": {
      "model_module": "@jupyter-widgets/base",
      "model_module_version": "1.0.0",
      "model_name": "LayoutModel",
      "state": {
       "height": "400px",
       "min_width": "125px",
       "width": "560px"
      }
     },
     "388edd4a97e34fbabb964a4522fba03a": {
      "model_module": "@jupyter-widgets/base",
      "model_module_version": "1.0.0",
      "model_name": "LayoutModel",
      "state": {}
     },
     "38bb9efcb7c0425183ac8be5c4b827f8": {
      "model_module": "@jupyter-widgets/controls",
      "model_module_version": "1.1.0",
      "model_name": "LabelModel",
      "state": {
       "layout": "IPY_MODEL_3ea507a1e9b74fcd8f5e6e206dc4eead",
       "style": "IPY_MODEL_122b0e469e294ddb81d26dcfabe3f759",
       "value": "Download Settings"
      }
     },
     "3aec5bd4bbf24d8ca79928ba354e085e": {
      "model_module": "@jupyter-widgets/base",
      "model_module_version": "1.0.0",
      "model_name": "LayoutModel",
      "state": {}
     },
     "3b171a142efc41bc93aa8727da795482": {
      "model_module": "@jupyter-widgets/base",
      "model_module_version": "1.0.0",
      "model_name": "LayoutModel",
      "state": {}
     },
     "3baaefe85713417a8e333b1847c7eac9": {
      "model_module": "@jupyter-widgets/base",
      "model_module_version": "1.0.0",
      "model_name": "LayoutModel",
      "state": {
       "width": "400px"
      }
     },
     "3c23c936d8bb456490a75ee50bdf68b7": {
      "model_module": "@jupyter-widgets/controls",
      "model_module_version": "1.1.0",
      "model_name": "HBoxModel",
      "state": {
       "children": [
        "IPY_MODEL_79622e59335040c2bb9a336b8e117e61",
        "IPY_MODEL_bd1a309b013f4e768c6251edea4aea87"
       ],
       "layout": "IPY_MODEL_86ecfae4a8b342f1b3651c3be5f01593"
      }
     },
     "3c766150cd1c4024a53ac6c48fd8bf03": {
      "model_module": "@jupyter-widgets/controls",
      "model_module_version": "1.1.0",
      "model_name": "ButtonStyleModel",
      "state": {}
     },
     "3c78ed2712dd41b4bedb2518129494ce": {
      "model_module": "@jupyter-widgets/controls",
      "model_module_version": "1.1.0",
      "model_name": "SliderStyleModel",
      "state": {
       "description_width": ""
      }
     },
     "3dba666e105e4912a43edc713c856817": {
      "model_module": "@jupyter-widgets/base",
      "model_module_version": "1.0.0",
      "model_name": "LayoutModel",
      "state": {}
     },
     "3ea507a1e9b74fcd8f5e6e206dc4eead": {
      "model_module": "@jupyter-widgets/base",
      "model_module_version": "1.0.0",
      "model_name": "LayoutModel",
      "state": {
       "justify_content": "flex-start",
       "overflow": "visible"
      }
     },
     "3f079a58d6f14dd59f095e220043461b": {
      "model_module": "@jupyter-widgets/controls",
      "model_module_version": "1.1.0",
      "model_name": "DropdownModel",
      "state": {
       "_options_labels": [
        "100",
        "50",
        "25"
       ],
       "description": "IMU Rate",
       "index": 0,
       "layout": "IPY_MODEL_c896e8b057a84766afa2fc9be412cc47",
       "style": "IPY_MODEL_c177ef4a404e4e689c8004f546b60170"
      }
     },
     "4102f72425f0488996925ece44b32214": {
      "model_module": "@jupyter-widgets/controls",
      "model_module_version": "1.1.0",
      "model_name": "ButtonModel",
      "state": {
       "description": "Refresh",
       "layout": "IPY_MODEL_1bd2e82f54064297ae4b6c5ea96e1f24",
       "style": "IPY_MODEL_6869d95b68b94296aa1ff625e736655e"
      }
     },
     "42e27273945a426f9f39b6fca5e66eaf": {
      "model_module": "@jupyter-widgets/controls",
      "model_module_version": "1.1.0",
      "model_name": "ButtonModel",
      "state": {
       "description": "Update Query",
       "layout": "IPY_MODEL_9a2ab3424fdb4d689e68d1769533544b",
       "style": "IPY_MODEL_e7ad8a82d78b4337add047b85e392ad7"
      }
     },
     "431ff9e5d12e4bf6a173134f37bf272e": {
      "model_module": "@jupyter-widgets/controls",
      "model_module_version": "1.1.0",
      "model_name": "DescriptionStyleModel",
      "state": {
       "description_width": ""
      }
     },
     "4421c41883044647bfad3057f399e0da": {
      "model_module": "@jupyter-widgets/controls",
      "model_module_version": "1.1.0",
      "model_name": "DropdownModel",
      "state": {
       "description": "Select Project",
       "index": null,
       "layout": "IPY_MODEL_76df01de3d7d44d383b44aa4970212ac",
       "style": "IPY_MODEL_c06201472ce549cbbfb01f43148a9512"
      }
     },
     "455114c23dc646f884870286c5a5cfdc": {
      "model_module": "@jupyter-widgets/controls",
      "model_module_version": "1.1.0",
      "model_name": "CheckboxModel",
      "state": {
       "description": "Reset",
       "disabled": false,
       "layout": "IPY_MODEL_16510e2c48c74d37ba34b77063ca6dd4",
       "style": "IPY_MODEL_dfc1ecc4ed2d467c991df18b1cd70731",
       "value": false
      }
     },
     "45932142cff042c0933ee797dca53d7f": {
      "model_module": "@jupyter-widgets/controls",
      "model_module_version": "1.1.0",
      "model_name": "ButtonStyleModel",
      "state": {}
     },
     "4602799bd1f74ba38245f59f8c2405b3": {
      "model_module": "@jupyter-widgets/base",
      "model_module_version": "1.0.0",
      "model_name": "LayoutModel",
      "state": {
       "min_width": "150px",
       "overflow": "visible"
      }
     },
     "46229323823a45bfbbd31ed3189e19e6": {
      "model_module": "@jupyter-widgets/controls",
      "model_module_version": "1.1.0",
      "model_name": "SelectMultipleModel",
      "state": {
       "_options_labels": [
        "AccelerometerX",
        "AccelerometerY",
        "AccelerometerZ",
        "GyroscopeX",
        "GyroscopeY",
        "GyroscopeZ"
       ],
       "description": "Sources",
       "index": [
        0,
        1,
        2,
        3,
        4,
        5
       ],
       "layout": "IPY_MODEL_a46c5704a62548a8b03faa1ea8614f2e",
       "rows": 5,
       "style": "IPY_MODEL_a12873f9fdba4990a07bc7a27a8daa45"
      }
     },
     "46d4d67ec2844501860cb00a5e817579": {
      "model_module": "@jupyter-widgets/base",
      "model_module_version": "1.0.0",
      "model_name": "LayoutModel",
      "state": {}
     },
     "479637e9d01d47c48a55930c9e40df85": {
      "model_module": "@jupyter-widgets/base",
      "model_module_version": "1.0.0",
      "model_name": "LayoutModel",
      "state": {}
     },
     "48ec5e3a1a1f42e0b5cbe343b88dcbaf": {
      "model_module": "@jupyter-widgets/base",
      "model_module_version": "1.0.0",
      "model_name": "LayoutModel",
      "state": {
       "visibility": "visible"
      }
     },
     "48f466aa8dc74e4694c4b41976392333": {
      "model_module": "@jupyter-widgets/base",
      "model_module_version": "1.0.0",
      "model_name": "LayoutModel",
      "state": {}
     },
     "4aed4dca02264079b429d8373e1e6946": {
      "model_module": "@jupyter-widgets/controls",
      "model_module_version": "1.1.0",
      "model_name": "ButtonModel",
      "state": {
       "description": "Update Query",
       "layout": "IPY_MODEL_8764e4f8a0ff4da3ade33666cdd76492",
       "style": "IPY_MODEL_58dd46ddf93e44a2863767e22d902ff6"
      }
     },
     "4c3e80afbbdc4b59835bfaa6483aefda": {
      "model_module": "@jupyter-widgets/base",
      "model_module_version": "1.0.0",
      "model_name": "LayoutModel",
      "state": {}
     },
     "4cd9d6b7d38345a68fef0b04f07e42aa": {
      "model_module": "@jupyter-widgets/base",
      "model_module_version": "1.0.0",
      "model_name": "LayoutModel",
      "state": {}
     },
     "4ce8f962f44d406abe90878d124f0438": {
      "model_module": "@jupyter-widgets/controls",
      "model_module_version": "1.1.0",
      "model_name": "DescriptionStyleModel",
      "state": {
       "description_width": ""
      }
     },
     "4dad7b13ccf442f282259577498f5ade": {
      "model_module": "@jupyter-widgets/controls",
      "model_module_version": "1.1.0",
      "model_name": "DropdownModel",
      "state": {
       "_options_labels": [
        "NordicSDK"
       ],
       "description": "Target OS",
       "index": 0,
       "layout": "IPY_MODEL_f075d47016fa4952868e54bc5313bb19",
       "style": "IPY_MODEL_0e905a2ffbd145aeb0a917f86ed265f1"
      }
     },
     "4e0e6ca778cd4c8b8b50b8e56db6ae59": {
      "model_module": "@jupyter-widgets/controls",
      "model_module_version": "1.1.0",
      "model_name": "ButtonStyleModel",
      "state": {}
     },
     "4ee0351e5164404a9f26cb2f153296f7": {
      "model_module": "@jupyter-widgets/controls",
      "model_module_version": "1.1.0",
      "model_name": "TextModel",
      "state": {
       "description": "New Pipeline",
       "layout": "IPY_MODEL_8bc93622114f4058987d3a0ad6fdf499",
       "style": "IPY_MODEL_e4698cb65e5c475aa943c2f88721f1f2"
      }
     },
     "5045223c50db49849b93437b0483fda6": {
      "model_module": "@jupyter-widgets/base",
      "model_module_version": "1.0.0",
      "model_name": "LayoutModel",
      "state": {}
     },
     "5170b8e80a024945bb656c9b7cf10df2": {
      "model_module": "@jupyter-widgets/controls",
      "model_module_version": "1.1.0",
      "model_name": "FloatSliderModel",
      "state": {
       "description": "Accuracy",
       "layout": "IPY_MODEL_c9f95edaae3c45638b38a1de9ce142c1",
       "max": 1,
       "step": 0.05,
       "style": "IPY_MODEL_32241b79ae604e608c99c9ea35304a4a",
       "value": 0.8
      }
     },
     "541a6895956044818b1594a6b1282a37": {
      "model_module": "@jupyter-widgets/controls",
      "model_module_version": "1.1.0",
      "model_name": "SelectMultipleModel",
      "state": {
       "_options_labels": [
        "ble",
        "led",
        "serial"
       ],
       "description": "Output",
       "index": [],
       "layout": "IPY_MODEL_9ccebcb7af89469d807d54bf24dfa349",
       "rows": 5,
       "style": "IPY_MODEL_94ce329edfd940ac84d898babd6008cd"
      }
     },
     "545e453371ef4ad090eba50a862ce726": {
      "model_module": "@jupyter-widgets/controls",
      "model_module_version": "1.1.0",
      "model_name": "DropdownModel",
      "state": {
       "_options_labels": [
        "Platform Flash Tool"
       ],
       "description": "Flash Method",
       "index": 0,
       "layout": "IPY_MODEL_14ba31f0a4b147d4b6fb4a995f01a3a5",
       "style": "IPY_MODEL_8b25570f978e460085f2302988cb1ecd"
      }
     },
     "54fc57eec424409ea6fc95d10d6bfbc4": {
      "model_module": "@jupyter-widgets/base",
      "model_module_version": "1.0.0",
      "model_name": "LayoutModel",
      "state": {}
     },
     "568aa81f75bf49c082294ce32d11cd80": {
      "model_module": "@jupyter-widgets/controls",
      "model_module_version": "1.1.0",
      "model_name": "DescriptionStyleModel",
      "state": {
       "description_width": ""
      }
     },
     "56b912c603a445acaf1b0b3e25eb5cf2": {
      "model_module": "@jupyter-widgets/controls",
      "model_module_version": "1.1.0",
      "model_name": "DescriptionStyleModel",
      "state": {
       "description_width": ""
      }
     },
     "57657fa3b4c6433d90448799975fde70": {
      "model_module": "@jupyter-widgets/base",
      "model_module_version": "1.0.0",
      "model_name": "LayoutModel",
      "state": {}
     },
     "57c07ae0f4664fe1b461a92dfb03df06": {
      "model_module": "@jupyter-widgets/controls",
      "model_module_version": "1.1.0",
      "model_name": "ButtonModel",
      "state": {
       "description": "Login",
       "layout": "IPY_MODEL_0f788c37c15045a98334cb9a37cea28c",
       "style": "IPY_MODEL_0b72d367c61c4be79ab98c3dbdddf541"
      }
     },
     "5811a546791a4b029d467e6387c8b665": {
      "model_module": "@jupyter-widgets/controls",
      "model_module_version": "1.1.0",
      "model_name": "DescriptionStyleModel",
      "state": {
       "description_width": ""
      }
     },
     "58dd46ddf93e44a2863767e22d902ff6": {
      "model_module": "@jupyter-widgets/controls",
      "model_module_version": "1.1.0",
      "model_name": "ButtonStyleModel",
      "state": {}
     },
     "59095cb9bf9d4bbca7474e6c7161956b": {
      "model_module": "@jupyter-widgets/controls",
      "model_module_version": "1.1.0",
      "model_name": "AccordionModel",
      "state": {
       "_titles": {
        "0": "Select or Create Query",
        "1": "AutoSense Pipeline",
        "2": "Download Knowledgepack"
       },
       "children": [
        "IPY_MODEL_3c23c936d8bb456490a75ee50bdf68b7",
        "IPY_MODEL_62c1963c6e6e4e10bc4024bfa6d0232f",
        "IPY_MODEL_f258c3fabeb64f1fb9f4ce35375b8eb1"
       ],
       "layout": "IPY_MODEL_a929c6085db34835aa1e2c23ef9e6c6e"
      }
     },
     "5923857d719c4512bac6f65c28512ad4": {
      "model_module": "@jupyter-widgets/base",
      "model_module_version": "1.0.0",
      "model_name": "LayoutModel",
      "state": {
       "width": "300px"
      }
     },
     "5a79a320d3b64e5d8afdaacaacba7aa6": {
      "model_module": "@jupyter-widgets/base",
      "model_module_version": "1.0.0",
      "model_name": "LayoutModel",
      "state": {}
     },
     "5a8611a511ef462996eec8f6ec15820f": {
      "model_module": "@jupyter-widgets/base",
      "model_module_version": "1.0.0",
      "model_name": "LayoutModel",
      "state": {
       "justify_content": "flex-start",
       "overflow": "visible"
      }
     },
     "5ac0a5b2485140c190b088e0049db7cb": {
      "model_module": "bqplot",
      "model_module_version": "^0.3.2",
      "model_name": "AxisModel",
      "state": {
       "scale": "IPY_MODEL_f642c11b816749d0a321ad8cf869952b",
       "side": "bottom",
       "tick_values": {
        "type": "<U1",
        "values": [
         "A",
         "D",
         "L",
         "M",
         "U"
        ]
       }
      }
     },
     "5adab69bdfb34edcabbee8bec1e17de3": {
      "model_module": "@jupyter-widgets/base",
      "model_module_version": "1.0.0",
      "model_name": "LayoutModel",
      "state": {}
     },
     "5b5d41a829304cf795394eb815e10c8c": {
      "model_module": "@jupyter-widgets/controls",
      "model_module_version": "1.1.0",
      "model_name": "DescriptionStyleModel",
      "state": {
       "description_width": ""
      }
     },
     "5bae4ef55b264a4eb270aa907d1b7533": {
      "model_module": "@jupyter-widgets/controls",
      "model_module_version": "1.1.0",
      "model_name": "DropdownModel",
      "state": {
       "description": "HW Platform",
       "index": null,
       "layout": "IPY_MODEL_7f67c8b444f243b5abf8af12d2c4937b",
       "style": "IPY_MODEL_72cfb500659d4477881ad931afd347f6"
      }
     },
     "5c163ce3f51b483290476413f713de5e": {
      "model_module": "@jupyter-widgets/controls",
      "model_module_version": "1.1.0",
      "model_name": "DescriptionStyleModel",
      "state": {
       "description_width": ""
      }
     },
     "5cc2cfed4dfa474da9da98d70ce143f8": {
      "model_module": "@jupyter-widgets/base",
      "model_module_version": "1.0.0",
      "model_name": "LayoutModel",
      "state": {}
     },
     "5e830ed912be43b1a7817568764a7ca3": {
      "model_module": "@jupyter-widgets/base",
      "model_module_version": "1.0.0",
      "model_name": "LayoutModel",
      "state": {
       "min_width": "125px"
      }
     },
     "5ec17e12e397472cb80e93c006fd6b83": {
      "model_module": "@jupyter-widgets/controls",
      "model_module_version": "1.1.0",
      "model_name": "VBoxModel",
      "state": {
       "children": [
        "IPY_MODEL_6775d4acaecc472e88da1ee59e83e150",
        "IPY_MODEL_29ee4b5307534d8ca2c28b592a0634e9"
       ],
       "layout": "IPY_MODEL_06ccece6dd684e5ead40beb30974c605"
      }
     },
     "5f3db969c3534f99b4eb67bd2e2dbd91": {
      "model_module": "bqplot",
      "model_module_version": "^0.3.2",
      "model_name": "LinearScaleModel",
      "state": {
       "allow_padding": false,
       "max": 1,
       "min": 0,
       "stabilized": false
      }
     },
     "5fa99e20c91547babd1bf9109676b4f4": {
      "model_module": "@jupyter-widgets/controls",
      "model_module_version": "1.1.0",
      "model_name": "AccordionModel",
      "state": {
       "_titles": {
        "0": "AutoSense Pipeline"
       },
       "children": [
        "IPY_MODEL_0fbfdae1e34f4663b22cd7e58d02fc9c"
       ],
       "layout": "IPY_MODEL_241b2de6e70942f59efb5b986064fad5"
      }
     },
     "61c2368d852446668a98c2c4f4a6f002": {
      "model_module": "@jupyter-widgets/controls",
      "model_module_version": "1.1.0",
      "model_name": "SliderStyleModel",
      "state": {
       "description_width": ""
      }
     },
     "61f9c89da1a241fb867e30e45a1827a8": {
      "model_module": "@jupyter-widgets/output",
      "model_module_version": "1.1.0",
      "model_name": "OutputModel",
      "state": {
       "_model_module_version": "1.1.0",
       "_view_module_version": "1.1.0",
       "layout": "IPY_MODEL_b332b24d749e465392194543acfa4efe"
      }
     },
     "62a704b7512d4a2f80bda1df435db379": {
      "model_module": "@jupyter-widgets/controls",
      "model_module_version": "1.1.0",
      "model_name": "ButtonStyleModel",
      "state": {}
     },
     "62c1963c6e6e4e10bc4024bfa6d0232f": {
      "model_module": "@jupyter-widgets/controls",
      "model_module_version": "1.1.0",
      "model_name": "VBoxModel",
      "state": {
       "children": [
        "IPY_MODEL_c58537545c07449cacb474df5b2195d8",
        "IPY_MODEL_270798aa055a47d3a1c19f0aa8a794ec"
       ],
       "layout": "IPY_MODEL_acff3f36d13248f5ab9acafbc6fe6054"
      }
     },
     "62c32b09a17644db9ac6d756adfd8a8c": {
      "model_module": "@jupyter-widgets/base",
      "model_module_version": "1.0.0",
      "model_name": "LayoutModel",
      "state": {}
     },
     "63a6df8a7b5e41f18d0bf2afd41b3690": {
      "model_module": "@jupyter-widgets/controls",
      "model_module_version": "1.1.0",
      "model_name": "DropdownModel",
      "state": {
       "description": "Select Query",
       "index": null,
       "layout": "IPY_MODEL_62c32b09a17644db9ac6d756adfd8a8c",
       "style": "IPY_MODEL_56b912c603a445acaf1b0b3e25eb5cf2"
      }
     },
     "64cd2738463c4275be0d825f98daf847": {
      "model_module": "@jupyter-widgets/controls",
      "model_module_version": "1.1.0",
      "model_name": "ButtonModel",
      "state": {
       "description": "Generate Knowledgepack",
       "icon": "0",
       "layout": "IPY_MODEL_c62dd8ed0cf94a7dbdfe0d508ec81fea",
       "style": "IPY_MODEL_4e0e6ca778cd4c8b8b50b8e56db6ae59"
      }
     },
     "64f91281b5aa46ec9a8071205f7f7068": {
      "model_module": "@jupyter-widgets/controls",
      "model_module_version": "1.1.0",
      "model_name": "DropdownModel",
      "state": {
       "_options_labels": [
        "True",
        "False"
       ],
       "description": "Debug",
       "index": 0,
       "layout": "IPY_MODEL_19ca923f43be4913a92ef1ec178cb110",
       "style": "IPY_MODEL_93eecc7d9f744753961ca025f0864f1d"
      }
     },
     "66b0e967995b437f903f5e879de7b278": {
      "model_module": "@jupyter-widgets/base",
      "model_module_version": "1.0.0",
      "model_name": "LayoutModel",
      "state": {}
     },
     "6775d4acaecc472e88da1ee59e83e150": {
      "model_module": "@jupyter-widgets/controls",
      "model_module_version": "1.1.0",
      "model_name": "DropdownModel",
      "state": {
       "_options_labels": [
        "",
        "Heiarchical Pipeline",
        "Gesture Pipeline",
        "Parent Pipeline"
       ],
       "description": "Pipeline",
       "index": 2,
       "layout": "IPY_MODEL_23dba85f0df84f6f94a8c53e4ec71439",
       "style": "IPY_MODEL_30e8b7c973464bbc8db5ecacf36d993f"
      }
     },
     "677ef2599240448d8ded39a80cefeada": {
      "model_module": "@jupyter-widgets/base",
      "model_module_version": "1.0.0",
      "model_name": "LayoutModel",
      "state": {}
     },
     "68452d11e1214d5b99c74be1072b5884": {
      "model_module": "@jupyter-widgets/controls",
      "model_module_version": "1.1.0",
      "model_name": "DescriptionStyleModel",
      "state": {
       "description_width": ""
      }
     },
     "6869d95b68b94296aa1ff625e736655e": {
      "model_module": "@jupyter-widgets/controls",
      "model_module_version": "1.1.0",
      "model_name": "ButtonStyleModel",
      "state": {}
     },
     "6b9f0eb9040e47ab9cc1a8adb430bab6": {
      "model_module": "@jupyter-widgets/controls",
      "model_module_version": "1.1.0",
      "model_name": "DescriptionStyleModel",
      "state": {
       "description_width": ""
      }
     },
     "6cf4035fab38484994fabf5a22deaeef": {
      "model_module": "@jupyter-widgets/base",
      "model_module_version": "1.0.0",
      "model_name": "LayoutModel",
      "state": {}
     },
     "6d20a53d10f24fa6a4432e74eecaa792": {
      "model_module": "@jupyter-widgets/controls",
      "model_module_version": "1.1.0",
      "model_name": "ButtonModel",
      "state": {
       "description": "Add Query",
       "layout": "IPY_MODEL_9c7553f48fcc4853bdb3bc0256fd12bc",
       "style": "IPY_MODEL_81f89f381703485ebcbf1f5440b68e1b"
      }
     },
     "6d6b51b9159e4b1c873e26c10040cb5e": {
      "model_module": "@jupyter-widgets/base",
      "model_module_version": "1.0.0",
      "model_name": "LayoutModel",
      "state": {}
     },
     "6f1ddf4113f94d3987e3be4de15c393e": {
      "model_module": "@jupyter-widgets/controls",
      "model_module_version": "1.1.0",
      "model_name": "DescriptionStyleModel",
      "state": {
       "description_width": ""
      }
     },
     "70bdf4e24a0b472185a7d3e9d3dbc33d": {
      "model_module": "@jupyter-widgets/controls",
      "model_module_version": "1.1.0",
      "model_name": "VBoxModel",
      "state": {
       "children": [
        "IPY_MODEL_3443e72a18224093931276932714e6f3",
        "IPY_MODEL_59095cb9bf9d4bbca7474e6c7161956b"
       ],
       "layout": "IPY_MODEL_853fea2c605d475f85441c3f45d21e8c"
      }
     },
     "70be98f0159b4560911e2ef002fc1719": {
      "model_module": "@jupyter-widgets/controls",
      "model_module_version": "1.1.0",
      "model_name": "IntSliderModel",
      "state": {
       "description": "Population",
       "layout": "IPY_MODEL_8fefbc3a84a849248e270e0ce387e4bc",
       "max": 50,
       "min": 10,
       "style": "IPY_MODEL_fea7780fd55749129c419ed04d16b067",
       "value": 10
      }
     },
     "71552da4de464d1380268c4b8a16f89a": {
      "model_module": "bqplot",
      "model_module_version": "^0.3.2",
      "model_name": "FigureModel",
      "state": {
       "_dom_classes": [],
       "axes": [
        "IPY_MODEL_5ac0a5b2485140c190b088e0049db7cb",
        "IPY_MODEL_8d2d4f9d12fb4480a8ceddf8c20c3b88"
       ],
       "background_style": {
        "fill": "white"
       },
       "fig_margin": {
        "bottom": 30,
        "left": 50,
        "right": 0,
        "top": 10
       },
       "layout": "IPY_MODEL_3861f817095443569627d5b2c1c5ea3a",
       "legend_location": "bottom-right",
       "marks": [
        "IPY_MODEL_bc589320b5574934821b62c72482443d"
       ],
       "max_aspect_ratio": 6,
       "scale_x": "IPY_MODEL_08613fc6535d4274b824cecbe653523d",
       "scale_y": "IPY_MODEL_5f3db969c3534f99b4eb67bd2e2dbd91"
      }
     },
     "7219d5753073415990ed677083450c0c": {
      "model_module": "@jupyter-widgets/controls",
      "model_module_version": "1.1.0",
      "model_name": "DescriptionStyleModel",
      "state": {
       "description_width": ""
      }
     },
     "72cfb500659d4477881ad931afd347f6": {
      "model_module": "@jupyter-widgets/controls",
      "model_module_version": "1.1.0",
      "model_name": "DescriptionStyleModel",
      "state": {
       "description_width": ""
      }
     },
     "73579a9f5dfe42b98297d1055af341c3": {
      "model_module": "@jupyter-widgets/controls",
      "model_module_version": "1.1.0",
      "model_name": "ButtonStyleModel",
      "state": {}
     },
     "761a0f4af97c48f09fba0df2fcf437a9": {
      "model_module": "qgrid",
      "model_module_version": "1.0.0",
      "model_name": "QgridModel",
      "state": {
       "_columns": {
        "accuracy": {
         "name": "accuracy",
         "position": 2,
         "type": "string"
        },
        "features": {
         "name": "features",
         "position": 5,
         "type": "string"
        },
        "index": {
         "is_index": true,
         "name": "index",
         "position": 0,
         "type": "integer"
        },
        "neurons": {
         "name": "neurons",
         "position": 4,
         "type": "string"
        },
        "qgrid_unfiltered_index": {
         "name": "qgrid_unfiltered_index",
         "position": 1,
         "type": "number"
        },
        "sensitivity": {
         "name": "sensitivity",
         "position": 3,
         "type": "string"
        }
       },
       "_df_json": "{\"schema\": {\"fields\":[{\"type\":\"integer\",\"name\":\"index\"},{\"type\":\"number\",\"name\":\"qgrid_unfiltered_index\"},{\"type\":\"string\",\"name\":\"accuracy\"},{\"type\":\"string\",\"name\":\"sensitivity\"},{\"type\":\"string\",\"name\":\"neurons\"},{\"type\":\"string\",\"name\":\"features\"}],\"pandas_version\":\"0.20.0\",\"primaryKey\":[\"index\"]}, \"data\": []}",
       "_df_range": [
        0,
        100
       ],
       "_index_col_name": "qgrid_unfiltered_index",
       "_interval_columns": [],
       "_model_module_version": "1.0.0",
       "_page_size": 100,
       "_row_count": 0,
       "_sort_ascending": true,
       "_sort_field": "",
       "_view_module_version": "1.0.0",
       "grid_options": {
        "autoEdit": false,
        "defaultColumnWidth": 15,
        "editable": false,
        "enableColumnReorder": false,
        "enableTextSelectionOnCells": true,
        "explicitInitialization": true,
        "forceFitColumns": true,
        "fullWidthRows": true,
        "maxVisibleRows": 5,
        "minVisibleRows": 5,
        "rowHeight": 35,
        "syncColumnCellResize": true
       },
       "layout": "IPY_MODEL_d708cc461c764ae6a8a94491517a026f",
       "precision": 5,
       "show_toolbar": false
      }
     },
     "76df01de3d7d44d383b44aa4970212ac": {
      "model_module": "@jupyter-widgets/base",
      "model_module_version": "1.0.0",
      "model_name": "LayoutModel",
      "state": {}
     },
     "77016302b0fd4edda41f8e938860d0e8": {
      "model_module": "@jupyter-widgets/controls",
      "model_module_version": "1.1.0",
      "model_name": "DescriptionStyleModel",
      "state": {
       "description_width": ""
      }
     },
     "785e40cbe71c423594d58d34225cf30a": {
      "model_module": "@jupyter-widgets/controls",
      "model_module_version": "1.1.0",
      "model_name": "TextModel",
      "state": {
       "description": "Query Name",
       "layout": "IPY_MODEL_0a5825c75b614e72a172be951118a85e",
       "style": "IPY_MODEL_7efb60fdb7aa493ea69e7860c5f24d5d"
      }
     },
     "7875ec9b29524357b33729fae213a831": {
      "model_module": "@jupyter-widgets/controls",
      "model_module_version": "1.1.0",
      "model_name": "DescriptionStyleModel",
      "state": {
       "description_width": ""
      }
     },
     "78f2fafb4147477e95d8aead829489c1": {
      "model_module": "@jupyter-widgets/controls",
      "model_module_version": "1.1.0",
      "model_name": "DropdownModel",
      "state": {
       "_options_labels": [
        "",
        "ADLMU",
        "MLU",
        "AD",
        "Query New"
       ],
       "description": "Select Query",
       "index": 1,
       "layout": "IPY_MODEL_cc977f47386a4a17bfa77d350120d717",
       "style": "IPY_MODEL_e5430c8586024fae8d5c03f968de3ae3"
      }
     },
     "79622e59335040c2bb9a336b8e117e61": {
      "model_module": "@jupyter-widgets/controls",
      "model_module_version": "1.1.0",
      "model_name": "VBoxModel",
      "state": {
       "children": [
        "IPY_MODEL_63a6df8a7b5e41f18d0bf2afd41b3690",
        "IPY_MODEL_785e40cbe71c423594d58d34225cf30a",
        "IPY_MODEL_2173479062214badbe7cdd88dc175ebb",
        "IPY_MODEL_d5188f63456841898411e5eaa7d1d7d3",
        "IPY_MODEL_1563149f769a4999877522e1f7445e9b",
        "IPY_MODEL_d13ca605cd794b60995621112ee69dfb",
        "IPY_MODEL_95cbf1169abe4c0684ffc4748adcb27d",
        "IPY_MODEL_aa8762ee84124641b09289ca8bf39255"
       ],
       "layout": "IPY_MODEL_d52508986c5d4931986ac5abc35b0ebd"
      }
     },
     "7b26c59ca37044ae844a6f983b5c5dc3": {
      "model_module": "@jupyter-widgets/base",
      "model_module_version": "1.0.0",
      "model_name": "LayoutModel",
      "state": {}
     },
     "7b62c713863040bd80e9b51a89a2dec5": {
      "model_module": "@jupyter-widgets/controls",
      "model_module_version": "1.1.0",
      "model_name": "ButtonModel",
      "state": {
       "description": "Create",
       "layout": "IPY_MODEL_f5736c955f214498a000e3f82c328da1",
       "style": "IPY_MODEL_06099bce89e04b069af31892e1182d03"
      }
     },
     "7c0302ccaa9546fdbc6e86a587a1357b": {
      "model_module": "@jupyter-widgets/base",
      "model_module_version": "1.0.0",
      "model_name": "LayoutModel",
      "state": {}
     },
     "7d3a17256b534419874630248125678d": {
      "model_module": "@jupyter-widgets/base",
      "model_module_version": "1.0.0",
      "model_name": "LayoutModel",
      "state": {
       "border": "solid 2px",
       "display": "flex",
       "flex_flow": "row",
       "justify_content": "space-between",
       "overflow": "visible"
      }
     },
     "7ead46a20b404fdc959379deefbd5cd8": {
      "model_module": "@jupyter-widgets/controls",
      "model_module_version": "1.1.0",
      "model_name": "DescriptionStyleModel",
      "state": {
       "description_width": ""
      }
     },
     "7ef07df0156a45ad96d90556abefb1a1": {
      "model_module": "@jupyter-widgets/controls",
      "model_module_version": "1.1.0",
      "model_name": "DropdownModel",
      "state": {
       "_options_labels": [
        "",
        "Parameter Optimization Tutorial",
        "outlier_remove",
        "Training Demo",
        "MHEAudio",
        "ChristTest2",
        "Video Project",
        "LargeData",
        "motor_vibration",
        "Activity Demo",
        "SensiML Gestures Demo",
        "hereo",
        "OptimizePara_UsingGrid",
        "DogData",
        "Gesture_data_demo",
        "ChrisGestureProject",
        "A Marc Project",
        "PunchPunch",
        "Voyager Demo",
        "PunchDemo",
        "Virginia",
        "MyProject",
        "Cursive",
        "MotorVibration",
        "A New Marc Project",
        "Seven Peaks Demo",
        "Customer End to End Demo",
        "MotorVibrationSmall",
        "CustomerE2E",
        "Marc Microphone Project",
        "motor_vibration_2",
        "Harry Potter Project",
        "Gesture Demo",
        "Fault Detection Project",
        "MyProject323",
        "SensiML Gestures"
       ],
       "description": "Project",
       "index": 32,
       "layout": "IPY_MODEL_48ec5e3a1a1f42e0b5cbe343b88dcbaf",
       "style": "IPY_MODEL_f2bf8c2fd0c44c4abfb97d712281141d"
      }
     },
     "7efb60fdb7aa493ea69e7860c5f24d5d": {
      "model_module": "@jupyter-widgets/controls",
      "model_module_version": "1.1.0",
      "model_name": "DescriptionStyleModel",
      "state": {
       "description_width": ""
      }
     },
     "7f2c3f9299814afcaafe75f5e51cda67": {
      "model_module": "@jupyter-widgets/base",
      "model_module_version": "1.0.0",
      "model_name": "LayoutModel",
      "state": {
       "width": "550px"
      }
     },
     "7f610033f9c4428bacff23da3ec72f35": {
      "model_module": "@jupyter-widgets/controls",
      "model_module_version": "1.1.0",
      "model_name": "ButtonStyleModel",
      "state": {}
     },
     "7f67c8b444f243b5abf8af12d2c4937b": {
      "model_module": "@jupyter-widgets/base",
      "model_module_version": "1.0.0",
      "model_name": "LayoutModel",
      "state": {}
     },
     "7fb9230232c54e66bae5659767adadbc": {
      "model_module": "@jupyter-widgets/controls",
      "model_module_version": "1.1.0",
      "model_name": "DescriptionStyleModel",
      "state": {
       "description_width": ""
      }
     },
     "7fb9f38263dd4c2eb896e6a4294e1a5f": {
      "model_module": "@jupyter-widgets/controls",
      "model_module_version": "1.1.0",
      "model_name": "VBoxModel",
      "state": {
       "children": [
        "IPY_MODEL_9a6740599c404ce58e570c9644207e1c",
        "IPY_MODEL_04c0e56784f44c668f1a6afed594e87a",
        "IPY_MODEL_30d21139f38741cf818ee045da9de345",
        "IPY_MODEL_e82df84aff1a4335824e9c44309a3e50"
       ],
       "layout": "IPY_MODEL_6d6b51b9159e4b1c873e26c10040cb5e"
      }
     },
     "800fc88d0dbf48beae1068d99f4735f4": {
      "model_module": "@jupyter-widgets/base",
      "model_module_version": "1.0.0",
      "model_name": "LayoutModel",
      "state": {}
     },
     "81a892fa659c4ddaa3762bed91dd7b1a": {
      "model_module": "@jupyter-widgets/controls",
      "model_module_version": "1.1.0",
      "model_name": "VBoxModel",
      "state": {
       "children": [
        "IPY_MODEL_854cc82f14ed4b1aae26c0f4bdb396ae",
        "IPY_MODEL_e411e7d2248d40d88585e2db8e4eb1a1",
        "IPY_MODEL_05c2dcdafe0949899184ea75ae275efe",
        "IPY_MODEL_e3f0b326c95943538e985f244cd9b95f",
        "IPY_MODEL_cac11a8fa194418c8283bb1de6814e9c",
        "IPY_MODEL_70be98f0159b4560911e2ef002fc1719"
       ],
       "layout": "IPY_MODEL_eed490c7052048269e1d4c1599d5cdcf"
      }
     },
     "81aa10f140c447ab922827326f21bda3": {
      "model_module": "@jupyter-widgets/controls",
      "model_module_version": "1.1.0",
      "model_name": "VBoxModel",
      "state": {
       "_dom_classes": [
        "widget-interact"
       ],
       "children": [
        "IPY_MODEL_f3376471fdb24f9e8af5ab5f46079544",
        "IPY_MODEL_ca768e9732e848dab963f2c8703e445f"
       ],
       "layout": "IPY_MODEL_ad1876d68bad4f22be901a064272881e"
      }
     },
     "81f89f381703485ebcbf1f5440b68e1b": {
      "model_module": "@jupyter-widgets/controls",
      "model_module_version": "1.1.0",
      "model_name": "ButtonStyleModel",
      "state": {}
     },
     "826f9d4a95e84dfab89f000d2ea0518c": {
      "model_module": "@jupyter-widgets/controls",
      "model_module_version": "1.1.0",
      "model_name": "DropdownModel",
      "state": {
       "_options_labels": [
        "None"
       ],
       "description": "Test Data",
       "index": 0,
       "layout": "IPY_MODEL_0bd97f05a5ac4dafa4d87b335c4848cf",
       "style": "IPY_MODEL_cebc2d5a2bac4f01b0e821db6113fd88"
      }
     },
     "82a000a500174b3d8c480e7923795940": {
      "model_module": "@jupyter-widgets/base",
      "model_module_version": "1.0.0",
      "model_name": "LayoutModel",
      "state": {}
     },
     "82f152f30886470395eff9964e3df4a6": {
      "model_module": "@jupyter-widgets/controls",
      "model_module_version": "1.1.0",
      "model_name": "VBoxModel",
      "state": {
       "children": [
        "IPY_MODEL_d35076b9da054061b5c8c784f115278b",
        "IPY_MODEL_4dad7b13ccf442f282259577498f5ade",
        "IPY_MODEL_a23e72b758a24ce893a8b5fa8dae6a5d"
       ],
       "layout": "IPY_MODEL_479637e9d01d47c48a55930c9e40df85"
      }
     },
     "83cc9c4f166644709fdc62fc3d864797": {
      "model_module": "@jupyter-widgets/controls",
      "model_module_version": "1.1.0",
      "model_name": "SliderStyleModel",
      "state": {
       "description_width": ""
      }
     },
     "83fc79ce8df04291a3dd8759af0e0d1d": {
      "model_module": "@jupyter-widgets/base",
      "model_module_version": "1.0.0",
      "model_name": "LayoutModel",
      "state": {}
     },
     "84a43db5a6774a33946aa3e73b821f31": {
      "model_module": "@jupyter-widgets/base",
      "model_module_version": "1.0.0",
      "model_name": "LayoutModel",
      "state": {}
     },
     "84a720b8396f4364af2815093e965226": {
      "model_module": "@jupyter-widgets/controls",
      "model_module_version": "1.1.0",
      "model_name": "AccordionModel",
      "state": {
       "_titles": {
        "0": "Download Knowledgepack"
       },
       "children": [
        "IPY_MODEL_1210cc6a3d2d48abb6a90b931fe382a7"
       ],
       "layout": "IPY_MODEL_84a43db5a6774a33946aa3e73b821f31"
      }
     },
     "84aa6ce1486141779412613e0632d7de": {
      "model_module": "@jupyter-widgets/controls",
      "model_module_version": "1.1.0",
      "model_name": "ButtonStyleModel",
      "state": {}
     },
     "84c22a90adc64a269195196b8676f32d": {
      "model_module": "@jupyter-widgets/controls",
      "model_module_version": "1.1.0",
      "model_name": "ButtonModel",
      "state": {
       "description": "Refresh",
       "icon": "0",
       "layout": "IPY_MODEL_c62dd8ed0cf94a7dbdfe0d508ec81fea",
       "style": "IPY_MODEL_84aa6ce1486141779412613e0632d7de"
      }
     },
     "853fea2c605d475f85441c3f45d21e8c": {
      "model_module": "@jupyter-widgets/base",
      "model_module_version": "1.0.0",
      "model_name": "LayoutModel",
      "state": {
       "border": "outset"
      }
     },
     "854cc82f14ed4b1aae26c0f4bdb396ae": {
      "model_module": "@jupyter-widgets/controls",
      "model_module_version": "1.1.0",
      "model_name": "FloatSliderModel",
      "state": {
       "description": "Accuracy",
       "layout": "IPY_MODEL_c1ddbd7cb374460095dbb557489c853c",
       "max": 1,
       "step": 0.05,
       "style": "IPY_MODEL_90bed50acaef4abc8d9ab85a575e7561",
       "value": 0.8
      }
     },
     "85fbdfb852f2463683a25d78615a56b8": {
      "model_module": "@jupyter-widgets/base",
      "model_module_version": "1.0.0",
      "model_name": "LayoutModel",
      "state": {}
     },
     "8628f0a4d85f4b16af24ddcbe42c148c": {
      "model_module": "@jupyter-widgets/controls",
      "model_module_version": "1.1.0",
      "model_name": "DescriptionStyleModel",
      "state": {
       "description_width": ""
      }
     },
     "86ecfae4a8b342f1b3651c3be5f01593": {
      "model_module": "@jupyter-widgets/base",
      "model_module_version": "1.0.0",
      "model_name": "LayoutModel",
      "state": {}
     },
     "8764e4f8a0ff4da3ade33666cdd76492": {
      "model_module": "@jupyter-widgets/base",
      "model_module_version": "1.0.0",
      "model_name": "LayoutModel",
      "state": {}
     },
     "87b7672ac8434c47a07866444bb030ad": {
      "model_module": "@jupyter-widgets/base",
      "model_module_version": "1.0.0",
      "model_name": "LayoutModel",
      "state": {}
     },
     "8a35c87c1fc241d79edff3a45ae6773a": {
      "model_module": "@jupyter-widgets/base",
      "model_module_version": "1.0.0",
      "model_name": "LayoutModel",
      "state": {}
     },
     "8ae0ae5833b84dbd8197eba15061d2f0": {
      "model_module": "@jupyter-widgets/controls",
      "model_module_version": "1.1.0",
      "model_name": "ButtonModel",
      "state": {
       "description": "Create",
       "layout": "IPY_MODEL_5045223c50db49849b93437b0483fda6",
       "style": "IPY_MODEL_73579a9f5dfe42b98297d1055af341c3"
      }
     },
     "8b25570f978e460085f2302988cb1ecd": {
      "model_module": "@jupyter-widgets/controls",
      "model_module_version": "1.1.0",
      "model_name": "DescriptionStyleModel",
      "state": {
       "description_width": ""
      }
     },
     "8b61fa12edd84dc7bbceea2799506ab7": {
      "model_module": "@jupyter-widgets/controls",
      "model_module_version": "1.1.0",
      "model_name": "DropdownModel",
      "state": {
       "_options_labels": [
        "Binary",
        "Library"
       ],
       "description": "Download",
       "index": 0,
       "layout": "IPY_MODEL_4cd9d6b7d38345a68fef0b04f07e42aa",
       "style": "IPY_MODEL_4ce8f962f44d406abe90878d124f0438"
      }
     },
     "8ba10fb5fa2a4721bd2475951ed2a77b": {
      "model_module": "@jupyter-widgets/controls",
      "model_module_version": "1.1.0",
      "model_name": "LabelModel",
      "state": {
       "layout": "IPY_MODEL_3baaefe85713417a8e333b1847c7eac9",
       "style": "IPY_MODEL_6b9f0eb9040e47ab9cc1a8adb430bab6",
       "value": "Curie Reference Board, Using Intel Software Platform for Curie v4.1.x"
      }
     },
     "8bc93622114f4058987d3a0ad6fdf499": {
      "model_module": "@jupyter-widgets/base",
      "model_module_version": "1.0.0",
      "model_name": "LayoutModel",
      "state": {}
     },
     "8c27a3b623e34fa5bc07fb5c4044066e": {
      "model_module": "@jupyter-widgets/base",
      "model_module_version": "1.0.0",
      "model_name": "LayoutModel",
      "state": {
       "align_items": "flex-start",
       "border": "solid 2px",
       "display": "flex",
       "flex_flow": "column",
       "justify_content": "center",
       "overflow": "visible",
       "width": "25%"
      }
     },
     "8c9b60c75e0b428a896d5b0c12205b7d": {
      "model_module": "@jupyter-widgets/controls",
      "model_module_version": "1.1.0",
      "model_name": "DropdownModel",
      "state": {
       "_options_labels": [
        "Advanced Features",
        "Basic Features",
        "Custom",
        "Downsampled Features",
        "Histogram Features",
        "No Feature Generation"
       ],
       "description": "Name",
       "index": 0,
       "layout": "IPY_MODEL_388edd4a97e34fbabb964a4522fba03a",
       "style": "IPY_MODEL_5b5d41a829304cf795394eb815e10c8c"
      }
     },
     "8d2d4f9d12fb4480a8ceddf8c20c3b88": {
      "model_module": "bqplot",
      "model_module_version": "^0.3.2",
      "model_name": "AxisModel",
      "state": {
       "num_ticks": 5,
       "orientation": "vertical",
       "scale": "IPY_MODEL_bee68088d0d244d7ab3169d335d06dee",
       "side": "left",
       "tick_values": {
        "type": null,
        "values": null
       }
      }
     },
     "8ef1d324cc1746929e6285eecf5645e2": {
      "model_module": "@jupyter-widgets/controls",
      "model_module_version": "1.1.0",
      "model_name": "DescriptionStyleModel",
      "state": {
       "description_width": ""
      }
     },
     "8f2c7ecfa77d4cc3baa24576f5fd1337": {
      "model_module": "@jupyter-widgets/controls",
      "model_module_version": "1.1.0",
      "model_name": "DescriptionStyleModel",
      "state": {
       "description_width": ""
      }
     },
     "8f79eba09b49402385da7cd6b125085e": {
      "model_module": "@jupyter-widgets/controls",
      "model_module_version": "1.1.0",
      "model_name": "DropdownModel",
      "state": {
       "description": "Target OS",
       "index": null,
       "layout": "IPY_MODEL_de949fcdb6ea4070b3df6cae430ca85e",
       "style": "IPY_MODEL_5811a546791a4b029d467e6387c8b665"
      }
     },
     "8fefbc3a84a849248e270e0ce387e4bc": {
      "model_module": "@jupyter-widgets/base",
      "model_module_version": "1.0.0",
      "model_name": "LayoutModel",
      "state": {}
     },
     "9062920bc6034a0088f8b7512fb96726": {
      "model_module": "@jupyter-widgets/controls",
      "model_module_version": "1.1.0",
      "model_name": "ButtonModel",
      "state": {
       "description": "Generate OTA",
       "layout": "IPY_MODEL_e9e2347b5034421494b92b9827b4e52e",
       "style": "IPY_MODEL_45932142cff042c0933ee797dca53d7f"
      }
     },
     "90bed50acaef4abc8d9ab85a575e7561": {
      "model_module": "@jupyter-widgets/controls",
      "model_module_version": "1.1.0",
      "model_name": "SliderStyleModel",
      "state": {
       "description_width": ""
      }
     },
     "915f10c49c524d0aa043e733563b8b1f": {
      "model_module": "@jupyter-widgets/controls",
      "model_module_version": "1.1.0",
      "model_name": "DescriptionStyleModel",
      "state": {
       "description_width": ""
      }
     },
     "9174b7f6439b457ea71d13df272664c5": {
      "model_module": "@jupyter-widgets/base",
      "model_module_version": "1.0.0",
      "model_name": "LayoutModel",
      "state": {}
     },
     "934346c797d04465863628de3b8cbdea": {
      "model_module": "@jupyter-widgets/controls",
      "model_module_version": "1.1.0",
      "model_name": "ButtonModel",
      "state": {
       "description": "Run Autopipeline",
       "layout": "IPY_MODEL_4c3e80afbbdc4b59835bfaa6483aefda",
       "style": "IPY_MODEL_fea36d828cc14c359d85d5105555e50d"
      }
     },
     "93eecc7d9f744753961ca025f0864f1d": {
      "model_module": "@jupyter-widgets/controls",
      "model_module_version": "1.1.0",
      "model_name": "DescriptionStyleModel",
      "state": {
       "description_width": ""
      }
     },
     "94ce329edfd940ac84d898babd6008cd": {
      "model_module": "@jupyter-widgets/controls",
      "model_module_version": "1.1.0",
      "model_name": "DescriptionStyleModel",
      "state": {
       "description_width": ""
      }
     },
     "95cbf1169abe4c0684ffc4748adcb27d": {
      "model_module": "@jupyter-widgets/controls",
      "model_module_version": "1.1.0",
      "model_name": "TextModel",
      "state": {
       "description": "Query Filter",
       "layout": "IPY_MODEL_7b26c59ca37044ae844a6f983b5c5dc3",
       "style": "IPY_MODEL_ea4ffe323a284e86801f501e177bf9fb"
      }
     },
     "96684dcf48af41e0b0a76b70632e3441": {
      "model_module": "@jupyter-widgets/controls",
      "model_module_version": "1.1.0",
      "model_name": "FloatSliderModel",
      "state": {
       "description": "Sensitivity",
       "layout": "IPY_MODEL_f8ac5746817d4e579d4a72a071e382b2",
       "max": 1,
       "step": 0.05,
       "style": "IPY_MODEL_f8165a1760234197adf681aec24c4e78",
       "value": 0.8
      }
     },
     "96cfc37729f34c758fab34d72285f7f4": {
      "model_module": "@jupyter-widgets/controls",
      "model_module_version": "1.1.0",
      "model_name": "SliderStyleModel",
      "state": {
       "description_width": ""
      }
     },
     "9743428db786456785f69362d76bc6d8": {
      "model_module": "@jupyter-widgets/base",
      "model_module_version": "1.0.0",
      "model_name": "LayoutModel",
      "state": {}
     },
     "97610190164a407f878ac8240e2c7f60": {
      "model_module": "@jupyter-widgets/controls",
      "model_module_version": "1.1.0",
      "model_name": "AccordionModel",
      "state": {
       "_titles": {
        "0": "Select or Create Query"
       },
       "children": [
        "IPY_MODEL_9a68dc45ee564ad681455dbacabd3c92"
       ],
       "layout": "IPY_MODEL_c4f66453d66d4c11a83852c05cb3d9e1"
      }
     },
     "97d24246749a4656acd792c8ff0fe643": {
      "model_module": "@jupyter-widgets/controls",
      "model_module_version": "1.1.0",
      "model_name": "ButtonStyleModel",
      "state": {}
     },
     "98790b6ab0bc404d8118db6777cf46ad": {
      "model_module": "@jupyter-widgets/controls",
      "model_module_version": "1.1.0",
      "model_name": "DropdownModel",
      "state": {
       "description": "Select Pipeline",
       "index": null,
       "layout": "IPY_MODEL_174b5fbe10b54df3ac8ba9715efc4de0",
       "style": "IPY_MODEL_431ff9e5d12e4bf6a173134f37bf272e"
      }
     },
     "9a2ab3424fdb4d689e68d1769533544b": {
      "model_module": "@jupyter-widgets/base",
      "model_module_version": "1.0.0",
      "model_name": "LayoutModel",
      "state": {}
     },
     "9a6740599c404ce58e570c9644207e1c": {
      "model_module": "@jupyter-widgets/controls",
      "model_module_version": "1.1.0",
      "model_name": "DropdownModel",
      "state": {
       "_options_labels": [
        "ADLMU",
        "MLU",
        "AD",
        "Query New"
       ],
       "description": "Select Query",
       "index": 0,
       "layout": "IPY_MODEL_e25a1d077079405f849e35bedf3ad761",
       "style": "IPY_MODEL_30a4e022153f4764aa2e1c041f79deea"
      }
     },
     "9a68dc45ee564ad681455dbacabd3c92": {
      "model_module": "@jupyter-widgets/controls",
      "model_module_version": "1.1.0",
      "model_name": "HBoxModel",
      "state": {
       "children": [
        "IPY_MODEL_09b664e809fe49f085c6e505f3753cb3",
        "IPY_MODEL_71552da4de464d1380268c4b8a16f89a"
       ],
       "layout": "IPY_MODEL_dafb42984f9b4a1dbd9adb429cac26f2"
      }
     },
     "9ab96f2475f843988c586af5626b1b96": {
      "model_module": "@jupyter-widgets/base",
      "model_module_version": "1.0.0",
      "model_name": "LayoutModel",
      "state": {}
     },
     "9b0a656dade447be987a81f117275f6c": {
      "model_module": "@jupyter-widgets/base",
      "model_module_version": "1.0.0",
      "model_name": "LayoutModel",
      "state": {}
     },
     "9beb5d54c4cd4a35a00ed93373a6553e": {
      "model_module": "@jupyter-widgets/base",
      "model_module_version": "1.0.0",
      "model_name": "LayoutModel",
      "state": {}
     },
     "9c7553f48fcc4853bdb3bc0256fd12bc": {
      "model_module": "@jupyter-widgets/base",
      "model_module_version": "1.0.0",
      "model_name": "LayoutModel",
      "state": {}
     },
     "9c952806897b4498ad9e6924a984e778": {
      "model_module": "@jupyter-widgets/base",
      "model_module_version": "1.0.0",
      "model_name": "LayoutModel",
      "state": {}
     },
     "9ccebcb7af89469d807d54bf24dfa349": {
      "model_module": "@jupyter-widgets/base",
      "model_module_version": "1.0.0",
      "model_name": "LayoutModel",
      "state": {}
     },
     "9d165ce9df074312b91ba4d03d48e87c": {
      "model_module": "@jupyter-widgets/base",
      "model_module_version": "1.0.0",
      "model_name": "LayoutModel",
      "state": {}
     },
     "a086d7488d514e749066c8b397563e31": {
      "model_module": "@jupyter-widgets/controls",
      "model_module_version": "1.1.0",
      "model_name": "DescriptionStyleModel",
      "state": {
       "description_width": ""
      }
     },
     "a12873f9fdba4990a07bc7a27a8daa45": {
      "model_module": "@jupyter-widgets/controls",
      "model_module_version": "1.1.0",
      "model_name": "DescriptionStyleModel",
      "state": {
       "description_width": ""
      }
     },
     "a14cfd3612bf424da7a026a8ec6861d1": {
      "model_module": "@jupyter-widgets/base",
      "model_module_version": "1.0.0",
      "model_name": "LayoutModel",
      "state": {}
     },
     "a23e72b758a24ce893a8b5fa8dae6a5d": {
      "model_module": "@jupyter-widgets/controls",
      "model_module_version": "1.1.0",
      "model_name": "DropdownModel",
      "state": {
       "_options_labels": [
        "Binary",
        "Library"
       ],
       "description": "Download",
       "index": 0,
       "layout": "IPY_MODEL_dcc1e5cb758b4f4c9b400616d11a102c",
       "style": "IPY_MODEL_38374a4a2a4146ceb40a70b4fd7dbc61"
      }
     },
     "a2a833bee9e0474a8b447d8c4667b4a5": {
      "model_module": "@jupyter-widgets/controls",
      "model_module_version": "1.1.0",
      "model_name": "DropdownModel",
      "state": {
       "_options_labels": [
        "Default",
        "Windowing(100)",
        "Windowing(200)",
        "Windowing(250)"
       ],
       "description": "Segmenter",
       "index": 0,
       "layout": "IPY_MODEL_83fc79ce8df04291a3dd8759af0e0d1d",
       "style": "IPY_MODEL_6f1ddf4113f94d3987e3be4de15c393e"
      }
     },
     "a356ce89af6b43f78782f5f372822a5c": {
      "model_module": "@jupyter-widgets/controls",
      "model_module_version": "1.1.0",
      "model_name": "DescriptionStyleModel",
      "state": {
       "description_width": ""
      }
     },
     "a385c06cd2b24383b29009b808dccbe7": {
      "model_module": "@jupyter-widgets/controls",
      "model_module_version": "1.1.0",
      "model_name": "DropdownModel",
      "state": {
       "_options_labels": [
        "Manual",
        "Segmenter Builder 1",
        "Segmenter Builder Result"
       ],
       "description": "Segmenter",
       "index": 2,
       "layout": "IPY_MODEL_9174b7f6439b457ea71d13df272664c5",
       "style": "IPY_MODEL_5c163ce3f51b483290476413f713de5e"
      }
     },
     "a3dd5837f207434cadd47e8111b0a0c9": {
      "model_module": "@jupyter-widgets/controls",
      "model_module_version": "1.1.0",
      "model_name": "TextareaModel",
      "state": {
       "description": "Seed Description",
       "layout": "IPY_MODEL_c9434f0d62e44cebb3fb4dec1abcc3c7",
       "style": "IPY_MODEL_7ead46a20b404fdc959379deefbd5cd8"
      }
     },
     "a46c5704a62548a8b03faa1ea8614f2e": {
      "model_module": "@jupyter-widgets/base",
      "model_module_version": "1.0.0",
      "model_name": "LayoutModel",
      "state": {}
     },
     "a479ca1a363049c9a4af7bcbdf34d895": {
      "model_module": "qgrid",
      "model_module_version": "1.0.0",
      "model_name": "QgridModel",
      "state": {
       "_columns": {
        "f1_score": {
         "name": "f1_score",
         "position": 4,
         "type": "string"
        },
        "features": {
         "name": "features",
         "position": 3,
         "type": "string"
        },
        "index": {
         "is_index": true,
         "name": "index",
         "position": 0,
         "type": "integer"
        },
        "neurons": {
         "name": "neurons",
         "position": 2,
         "type": "string"
        },
        "qgrid_unfiltered_index": {
         "name": "qgrid_unfiltered_index",
         "position": 1,
         "type": "number"
        }
       },
       "_df_json": "{\"schema\": {\"fields\":[{\"type\":\"integer\",\"name\":\"index\"},{\"type\":\"number\",\"name\":\"qgrid_unfiltered_index\"},{\"type\":\"string\",\"name\":\"neurons\"},{\"type\":\"string\",\"name\":\"features\"},{\"type\":\"string\",\"name\":\"f1_score\"}],\"pandas_version\":\"0.20.0\",\"primaryKey\":[\"index\"]}, \"data\": []}",
       "_df_range": [
        0,
        100
       ],
       "_index_col_name": "qgrid_unfiltered_index",
       "_interval_columns": [],
       "_model_module_version": "1.0.0",
       "_page_size": 100,
       "_row_count": 0,
       "_sort_ascending": true,
       "_sort_field": "",
       "_view_module_version": "1.0.0",
       "grid_options": {
        "autoEdit": false,
        "defaultColumnWidth": 15,
        "editable": false,
        "enableColumnReorder": false,
        "enableTextSelectionOnCells": true,
        "explicitInitialization": true,
        "forceFitColumns": true,
        "fullWidthRows": true,
        "maxVisibleRows": 5,
        "minVisibleRows": 5,
        "rowHeight": 35,
        "syncColumnCellResize": true
       },
       "layout": "IPY_MODEL_5923857d719c4512bac6f65c28512ad4",
       "precision": 5,
       "show_toolbar": false
      }
     },
     "a543e9a05940467a9f289a0157bfee50": {
      "model_module": "@jupyter-widgets/controls",
      "model_module_version": "1.1.0",
      "model_name": "DescriptionStyleModel",
      "state": {
       "description_width": ""
      }
     },
     "a5cdd092f52a47bd8dd11e5745cba458": {
      "model_module": "@jupyter-widgets/base",
      "model_module_version": "1.0.0",
      "model_name": "LayoutModel",
      "state": {
       "align_items": "stretch",
       "border": "solid 2px",
       "display": "flex",
       "flex_flow": "row",
       "width": "50%"
      }
     },
     "a77595887fa64326a805378f3d6bf590": {
      "model_module": "@jupyter-widgets/controls",
      "model_module_version": "1.1.0",
      "model_name": "FloatSliderModel",
      "state": {
       "description": "Neurons",
       "layout": "IPY_MODEL_66b0e967995b437f903f5e879de7b278",
       "max": 1,
       "step": 0.05,
       "style": "IPY_MODEL_d10bfef96f7a42729872775154cbc332",
       "value": 0.5
      }
     },
     "a7c71560ddd84908aa5ff1f2da9f54c8": {
      "model_module": "bqplot",
      "model_module_version": "^0.3.2",
      "model_name": "LinearScaleModel",
      "state": {
       "allow_padding": false,
       "max": 1,
       "min": 0,
       "stabilized": false
      }
     },
     "a929c6085db34835aa1e2c23ef9e6c6e": {
      "model_module": "@jupyter-widgets/base",
      "model_module_version": "1.0.0",
      "model_name": "LayoutModel",
      "state": {}
     },
     "aa8762ee84124641b09289ca8bf39255": {
      "model_module": "@jupyter-widgets/controls",
      "model_module_version": "1.1.0",
      "model_name": "HBoxModel",
      "state": {
       "children": [
        "IPY_MODEL_6d20a53d10f24fa6a4432e74eecaa792",
        "IPY_MODEL_42e27273945a426f9f39b6fca5e66eaf"
       ],
       "layout": "IPY_MODEL_3b171a142efc41bc93aa8727da795482"
      }
     },
     "aac9c7264b1646fd9faf176df69e2319": {
      "model_module": "@jupyter-widgets/base",
      "model_module_version": "1.0.0",
      "model_name": "LayoutModel",
      "state": {
       "min_width": "150px",
       "overflow": "visible"
      }
     },
     "abb06ebe6a554f3d9cfafe06b1715fab": {
      "model_module": "@jupyter-widgets/controls",
      "model_module_version": "1.1.0",
      "model_name": "DropdownModel",
      "state": {
       "description": "Select Query",
       "index": null,
       "layout": "IPY_MODEL_54fc57eec424409ea6fc95d10d6bfbc4",
       "style": "IPY_MODEL_35b25661328f434892e425afb7433561"
      }
     },
     "aca9cff60d8b4fce9bee0a2ca0743352": {
      "model_module": "@jupyter-widgets/controls",
      "model_module_version": "1.1.0",
      "model_name": "VBoxModel",
      "state": {
       "children": [
        "IPY_MODEL_5bae4ef55b264a4eb270aa907d1b7533",
        "IPY_MODEL_8f79eba09b49402385da7cd6b125085e",
        "IPY_MODEL_8b61fa12edd84dc7bbceea2799506ab7"
       ],
       "layout": "IPY_MODEL_46d4d67ec2844501860cb00a5e817579"
      }
     },
     "acff3f36d13248f5ab9acafbc6fe6054": {
      "model_module": "@jupyter-widgets/base",
      "model_module_version": "1.0.0",
      "model_name": "LayoutModel",
      "state": {}
     },
     "ad04a5a6fcbf47d298c7f4c1d291c1db": {
      "model_module": "@jupyter-widgets/controls",
      "model_module_version": "1.1.0",
      "model_name": "IntSliderModel",
      "state": {
       "description": "population size",
       "layout": "IPY_MODEL_3515c521b56948578c859d933a143398",
       "max": 50,
       "min": 10,
       "style": "IPY_MODEL_96cfc37729f34c758fab34d72285f7f4",
       "value": 10
      }
     },
     "ad1876d68bad4f22be901a064272881e": {
      "model_module": "@jupyter-widgets/base",
      "model_module_version": "1.0.0",
      "model_name": "LayoutModel",
      "state": {}
     },
     "b10b96fb119d4af297b6c56ad23af97b": {
      "model_module": "@jupyter-widgets/controls",
      "model_module_version": "1.1.0",
      "model_name": "DropdownModel",
      "state": {
       "_options_labels": [
        "None"
       ],
       "description": "Test Data",
       "index": 0,
       "layout": "IPY_MODEL_d7acd7f129e14766a4d936482deca43f",
       "style": "IPY_MODEL_a086d7488d514e749066c8b397563e31"
      }
     },
     "b332b24d749e465392194543acfa4efe": {
      "model_module": "@jupyter-widgets/base",
      "model_module_version": "1.0.0",
      "model_name": "LayoutModel",
      "state": {}
     },
     "b49928c45efb4932907d70229335cba8": {
      "model_module": "@jupyter-widgets/controls",
      "model_module_version": "1.1.0",
      "model_name": "DescriptionStyleModel",
      "state": {
       "description_width": ""
      }
     },
     "b4cc98cae14342de935c0f9b5a140ec4": {
      "model_module": "@jupyter-widgets/controls",
      "model_module_version": "1.1.0",
      "model_name": "HBoxModel",
      "state": {
       "children": [
        "IPY_MODEL_545e453371ef4ad090eba50a862ce726",
        "IPY_MODEL_13dc2ab5bc504a179a6fc75b61cf1b0c",
        "IPY_MODEL_9062920bc6034a0088f8b7512fb96726"
       ],
       "layout": "IPY_MODEL_c7bd8dd61c494ebd9378afee0cf4ca67"
      }
     },
     "b56abb06a64e428ba39db013ed339da1": {
      "model_module": "@jupyter-widgets/controls",
      "model_module_version": "1.1.0",
      "model_name": "DropdownModel",
      "state": {
       "_options_labels": [
        "Device",
        "Subject",
        "Gesture"
       ],
       "description": "Label",
       "index": 2,
       "layout": "IPY_MODEL_e5b4414be9ab425791c2e4021827e404",
       "style": "IPY_MODEL_68452d11e1214d5b99c74be1072b5884"
      }
     },
     "b5c6b2dbb5a54b99b00c3cb2031ec9f6": {
      "model_module": "@jupyter-widgets/controls",
      "model_module_version": "1.1.0",
      "model_name": "DescriptionStyleModel",
      "state": {
       "description_width": ""
      }
     },
     "b79366555f9b41e68b46d390420b0364": {
      "model_module": "@jupyter-widgets/controls",
      "model_module_version": "1.1.0",
      "model_name": "HBoxModel",
      "state": {
       "children": [
        "IPY_MODEL_82f152f30886470395eff9964e3df4a6",
        "IPY_MODEL_36b4cd96dfe147d2bd1dc1582398b190",
        "IPY_MODEL_ff6c78dc106d40f3a523bdb2bd587ff2"
       ],
       "layout": "IPY_MODEL_32ea294452004a6b908353675a8536dc"
      }
     },
     "b800a29c57a444a5aa1887ee5fcc124e": {
      "model_module": "@jupyter-widgets/controls",
      "model_module_version": "1.1.0",
      "model_name": "SliderStyleModel",
      "state": {
       "description_width": ""
      }
     },
     "b890631dcce34704ba934b99c7716519": {
      "model_module": "@jupyter-widgets/base",
      "model_module_version": "1.0.0",
      "model_name": "LayoutModel",
      "state": {}
     },
     "b9d4394b77b444fb85c1a45f3cd8a9c2": {
      "model_module": "@jupyter-widgets/controls",
      "model_module_version": "1.1.0",
      "model_name": "DropdownModel",
      "state": {
       "_options_labels": [
        "Gesture Pipeline_rank_4",
        "Gesture Pipeline_rank_0",
        "Gesture Pipeline_rank_1",
        "Gesture Pipeline_rank_2",
        "Gesture Pipeline_rank_3"
       ],
       "description": "Model Name",
       "index": 0,
       "layout": "IPY_MODEL_e898b389517e413c9f3cbb0ce70ec3f4",
       "style": "IPY_MODEL_dfcc8dd6b81346d4974cc962ddcab2f5"
      }
     },
     "bc589320b5574934821b62c72482443d": {
      "model_module": "bqplot",
      "model_module_version": "^0.3.2",
      "model_name": "BarsModel",
      "state": {
       "color": {
        "type": null,
        "values": null
       },
       "color_mode": "group",
       "colors": [
        "steelblue"
       ],
       "display_legend": false,
       "scales": {
        "x": "IPY_MODEL_f642c11b816749d0a321ad8cf869952b",
        "y": "IPY_MODEL_bee68088d0d244d7ab3169d335d06dee"
       },
       "selected": [],
       "x": {
        "type": "<U1",
        "values": [
         "A",
         "D",
         "L",
         "M",
         "U"
        ]
       },
       "y": {
        "type": "float",
        "values": [
         37,
         22,
         42,
         41,
         31
        ]
       }
      }
     },
     "bd1a309b013f4e768c6251edea4aea87": {
      "model_module": "bqplot",
      "model_module_version": "^0.3.2",
      "model_name": "FigureModel",
      "state": {
       "_dom_classes": [],
       "background_style": {
        "fill": "white"
       },
       "fig_margin": {
        "bottom": 60,
        "left": 80,
        "right": 0,
        "top": 20
       },
       "layout": "IPY_MODEL_5e830ed912be43b1a7817568764a7ca3",
       "legend_location": "bottom-right",
       "max_aspect_ratio": 6,
       "scale_x": "IPY_MODEL_a7c71560ddd84908aa5ff1f2da9f54c8",
       "scale_y": "IPY_MODEL_db384b392c164e1d88867ead96e9cfcd"
      }
     },
     "bee68088d0d244d7ab3169d335d06dee": {
      "model_module": "bqplot",
      "model_module_version": "^0.3.2",
      "model_name": "LinearScaleModel",
      "state": {
       "min": 0,
       "stabilized": false
      }
     },
     "bf0bac7733564a03afe91932118a12a6": {
      "model_module": "@jupyter-widgets/base",
      "model_module_version": "1.0.0",
      "model_name": "LayoutModel",
      "state": {
       "align_items": "stretch",
       "border": "solid 2px",
       "display": "flex",
       "flex_flow": "column",
       "overflow": "visible",
       "width": "75%"
      }
     },
     "c06201472ce549cbbfb01f43148a9512": {
      "model_module": "@jupyter-widgets/controls",
      "model_module_version": "1.1.0",
      "model_name": "DescriptionStyleModel",
      "state": {
       "description_width": ""
      }
     },
     "c122a5ebfe97441fb69924537c1b50bb": {
      "model_module": "@jupyter-widgets/base",
      "model_module_version": "1.0.0",
      "model_name": "LayoutModel",
      "state": {}
     },
     "c177ef4a404e4e689c8004f546b60170": {
      "model_module": "@jupyter-widgets/controls",
      "model_module_version": "1.1.0",
      "model_name": "DescriptionStyleModel",
      "state": {
       "description_width": ""
      }
     },
     "c1ddbd7cb374460095dbb557489c853c": {
      "model_module": "@jupyter-widgets/base",
      "model_module_version": "1.0.0",
      "model_name": "LayoutModel",
      "state": {}
     },
     "c1fec85854134c4ba15bc60483604b5e": {
      "model_module": "@jupyter-widgets/controls",
      "model_module_version": "1.1.0",
      "model_name": "TextModel",
      "state": {
       "description": "Query Filter",
       "layout": "IPY_MODEL_1921f60431214426a6007b1744979d32",
       "style": "IPY_MODEL_b5c6b2dbb5a54b99b00c3cb2031ec9f6",
       "value": "[Gesture] in [A,D,L,M,U]"
      }
     },
     "c4f66453d66d4c11a83852c05cb3d9e1": {
      "model_module": "@jupyter-widgets/base",
      "model_module_version": "1.0.0",
      "model_name": "LayoutModel",
      "state": {}
     },
     "c58537545c07449cacb474df5b2195d8": {
      "model_module": "@jupyter-widgets/controls",
      "model_module_version": "1.1.0",
      "model_name": "HBoxModel",
      "state": {
       "children": [
        "IPY_MODEL_ed9b63cc5f014a9dabb88837adc52bd4",
        "IPY_MODEL_28d00298354a4aec97703e81f727cbb4",
        "IPY_MODEL_a479ca1a363049c9a4af7bcbdf34d895"
       ],
       "layout": "IPY_MODEL_1c1f5b3fc13746e299e8379201fd2f01"
      }
     },
     "c62dd8ed0cf94a7dbdfe0d508ec81fea": {
      "model_module": "@jupyter-widgets/base",
      "model_module_version": "1.0.0",
      "model_name": "LayoutModel",
      "state": {
       "align_items": "flex-start",
       "border": "solid 2px",
       "display": "flex",
       "flex_flow": "column",
       "justify_content": "center",
       "overflow": "visible",
       "width": "25%"
      }
     },
     "c7bd8dd61c494ebd9378afee0cf4ca67": {
      "model_module": "@jupyter-widgets/base",
      "model_module_version": "1.0.0",
      "model_name": "LayoutModel",
      "state": {}
     },
     "c834c5ccfb5542f3a66615dd09b7c423": {
      "model_module": "@jupyter-widgets/base",
      "model_module_version": "1.0.0",
      "model_name": "LayoutModel",
      "state": {}
     },
     "c896e8b057a84766afa2fc9be412cc47": {
      "model_module": "@jupyter-widgets/base",
      "model_module_version": "1.0.0",
      "model_name": "LayoutModel",
      "state": {}
     },
     "c8adb90f24554a6b99b575572cc1e0e3": {
      "model_module": "@jupyter-widgets/base",
      "model_module_version": "1.0.0",
      "model_name": "LayoutModel",
      "state": {
       "display": "flex",
       "flex_flow": "row",
       "justify_content": "space-between"
      }
     },
     "c8b0c8a29e7741f09ec63f66e1f22d25": {
      "model_module": "@jupyter-widgets/controls",
      "model_module_version": "1.1.0",
      "model_name": "VBoxModel",
      "state": {
       "_dom_classes": [
        "widget-interact"
       ],
       "children": [
        "IPY_MODEL_039255aced7143d99378062a0d8b646a",
        "IPY_MODEL_2158b9ea02eb47e093c62aa6cceded82"
       ],
       "layout": "IPY_MODEL_01672b2663dc4313a5d74aa51df235c1"
      }
     },
     "c9434f0d62e44cebb3fb4dec1abcc3c7": {
      "model_module": "@jupyter-widgets/base",
      "model_module_version": "1.0.0",
      "model_name": "LayoutModel",
      "state": {}
     },
     "c9f95edaae3c45638b38a1de9ce142c1": {
      "model_module": "@jupyter-widgets/base",
      "model_module_version": "1.0.0",
      "model_name": "LayoutModel",
      "state": {}
     },
     "ca768e9732e848dab963f2c8703e445f": {
      "model_module": "@jupyter-widgets/output",
      "model_module_version": "1.1.0",
      "model_name": "OutputModel",
      "state": {
       "_model_module_version": "1.1.0",
       "_view_module_version": "1.1.0",
       "layout": "IPY_MODEL_677ef2599240448d8ded39a80cefeada"
      }
     },
     "cac11a8fa194418c8283bb1de6814e9c": {
      "model_module": "@jupyter-widgets/controls",
      "model_module_version": "1.1.0",
      "model_name": "IntSliderModel",
      "state": {
       "description": "Iterations",
       "layout": "IPY_MODEL_7c0302ccaa9546fdbc6e86a587a1357b",
       "max": 15,
       "min": 1,
       "style": "IPY_MODEL_3c78ed2712dd41b4bedb2518129494ce",
       "value": 2
      }
     },
     "cb14e5b983bb474bbe76e39112424e30": {
      "model_module": "@jupyter-widgets/base",
      "model_module_version": "1.0.0",
      "model_name": "LayoutModel",
      "state": {
       "border": "outset",
       "width": "100%"
      }
     },
     "cbdad348e7634ffc9492237b526fb235": {
      "model_module": "@jupyter-widgets/base",
      "model_module_version": "1.0.0",
      "model_name": "LayoutModel",
      "state": {}
     },
     "cc71ca0cf4974b6e98868e570c4cb68d": {
      "model_module": "@jupyter-widgets/base",
      "model_module_version": "1.0.0",
      "model_name": "LayoutModel",
      "state": {}
     },
     "cc977f47386a4a17bfa77d350120d717": {
      "model_module": "@jupyter-widgets/base",
      "model_module_version": "1.0.0",
      "model_name": "LayoutModel",
      "state": {}
     },
     "ce1415d966844041a7abfb231e7a2064": {
      "model_module": "@jupyter-widgets/controls",
      "model_module_version": "1.1.0",
      "model_name": "VBoxModel",
      "state": {
       "children": [
        "IPY_MODEL_f0fe4665497549e7a732eb4507ac9241",
        "IPY_MODEL_d52e6c5a2310406ea98fe51d0475ddf4",
        "IPY_MODEL_b4cc98cae14342de935c0f9b5a140ec4"
       ],
       "layout": "IPY_MODEL_09a7e14a857d45ea8807d2f5d8b02f34"
      }
     },
     "cebc2d5a2bac4f01b0e821db6113fd88": {
      "model_module": "@jupyter-widgets/controls",
      "model_module_version": "1.1.0",
      "model_name": "DescriptionStyleModel",
      "state": {
       "description_width": ""
      }
     },
     "d10bfef96f7a42729872775154cbc332": {
      "model_module": "@jupyter-widgets/controls",
      "model_module_version": "1.1.0",
      "model_name": "SliderStyleModel",
      "state": {
       "description_width": ""
      }
     },
     "d13ca605cd794b60995621112ee69dfb": {
      "model_module": "@jupyter-widgets/controls",
      "model_module_version": "1.1.0",
      "model_name": "SelectMultipleModel",
      "state": {
       "description": "Sources",
       "index": [],
       "layout": "IPY_MODEL_5adab69bdfb34edcabbee8bec1e17de3",
       "rows": 5,
       "style": "IPY_MODEL_8ef1d324cc1746929e6285eecf5645e2"
      }
     },
     "d35076b9da054061b5c8c784f115278b": {
      "model_module": "@jupyter-widgets/controls",
      "model_module_version": "1.1.0",
      "model_name": "DropdownModel",
      "state": {
       "_options_labels": [
        "Curie Reference 4.1",
        "Nordic Thingy 2.1",
        "Amulet 4.1"
       ],
       "description": "HW Platform",
       "index": 1,
       "layout": "IPY_MODEL_fffa5de568204f839c32b38afdebae61",
       "style": "IPY_MODEL_a356ce89af6b43f78782f5f372822a5c"
      }
     },
     "d37927e1dfc346f28b283761aa9c5fcf": {
      "model_module": "@jupyter-widgets/controls",
      "model_module_version": "1.1.0",
      "model_name": "HBoxModel",
      "state": {
       "children": [
        "IPY_MODEL_7fb9f38263dd4c2eb896e6a4294e1a5f",
        "IPY_MODEL_81a892fa659c4ddaa3762bed91dd7b1a",
        "IPY_MODEL_761a0f4af97c48f09fba0df2fcf437a9"
       ],
       "layout": "IPY_MODEL_1c39158e8ee44771974a7263cf105177"
      }
     },
     "d5188f63456841898411e5eaa7d1d7d3": {
      "model_module": "@jupyter-widgets/controls",
      "model_module_version": "1.1.0",
      "model_name": "DropdownModel",
      "state": {
       "description": "Label Column",
       "index": null,
       "layout": "IPY_MODEL_e40dd82e90bc414b8beeee7cf6e1a069",
       "style": "IPY_MODEL_77016302b0fd4edda41f8e938860d0e8"
      }
     },
     "d52508986c5d4931986ac5abc35b0ebd": {
      "model_module": "@jupyter-widgets/base",
      "model_module_version": "1.0.0",
      "model_name": "LayoutModel",
      "state": {}
     },
     "d52e6c5a2310406ea98fe51d0475ddf4": {
      "model_module": "@jupyter-widgets/controls",
      "model_module_version": "1.1.0",
      "model_name": "HBoxModel",
      "state": {
       "children": [
        "IPY_MODEL_e0d97b652d4d40a0890e6070387209f2",
        "IPY_MODEL_4102f72425f0488996925ece44b32214"
       ],
       "layout": "IPY_MODEL_0c0eea1ddaca4d0ab12696d827454593"
      }
     },
     "d708cc461c764ae6a8a94491517a026f": {
      "model_module": "@jupyter-widgets/base",
      "model_module_version": "1.0.0",
      "model_name": "LayoutModel",
      "state": {
       "width": "300px"
      }
     },
     "d7acd7f129e14766a4d936482deca43f": {
      "model_module": "@jupyter-widgets/base",
      "model_module_version": "1.0.0",
      "model_name": "LayoutModel",
      "state": {}
     },
     "d7d11c5d00454c85aaf098c5ef0bf065": {
      "model_module": "@jupyter-widgets/controls",
      "model_module_version": "1.1.0",
      "model_name": "ButtonModel",
      "state": {
       "description": "Refresh Models",
       "icon": "0",
       "layout": "IPY_MODEL_8c27a3b623e34fa5bc07fb5c4044066e",
       "style": "IPY_MODEL_2e80fcbdc0e74555bf7f98317511cd81"
      }
     },
     "d93bfb7c83444ed0b9f437aa8e47dd05": {
      "model_module": "@jupyter-widgets/controls",
      "model_module_version": "1.1.0",
      "model_name": "DescriptionStyleModel",
      "state": {
       "description_width": ""
      }
     },
     "d98597e2afb74af3ab6d693e0760b0f1": {
      "model_module": "@jupyter-widgets/controls",
      "model_module_version": "1.1.0",
      "model_name": "ButtonStyleModel",
      "state": {}
     },
     "dacfe9d3e08e48229404ade229455f5c": {
      "model_module": "@jupyter-widgets/controls",
      "model_module_version": "1.1.0",
      "model_name": "ButtonStyleModel",
      "state": {}
     },
     "dafb42984f9b4a1dbd9adb429cac26f2": {
      "model_module": "@jupyter-widgets/base",
      "model_module_version": "1.0.0",
      "model_name": "LayoutModel",
      "state": {}
     },
     "db32959a1f0d42f88b00d2552326648a": {
      "model_module": "@jupyter-widgets/controls",
      "model_module_version": "1.1.0",
      "model_name": "CheckboxModel",
      "state": {
       "description": "Reset",
       "disabled": false,
       "layout": "IPY_MODEL_57657fa3b4c6433d90448799975fde70",
       "style": "IPY_MODEL_1dffb24b0e764a468d48fb87e144693c",
       "value": false
      }
     },
     "db384b392c164e1d88867ead96e9cfcd": {
      "model_module": "bqplot",
      "model_module_version": "^0.3.2",
      "model_name": "LinearScaleModel",
      "state": {
       "allow_padding": false,
       "max": 1,
       "min": 0,
       "stabilized": false
      }
     },
     "dbc573f7a6a64cad8be48b56d0314a01": {
      "model_module": "@jupyter-widgets/controls",
      "model_module_version": "1.1.0",
      "model_name": "DropdownModel",
      "state": {
       "_options_labels": [
        "100",
        "50",
        "25"
       ],
       "description": "IMU Rate",
       "index": 0,
       "layout": "IPY_MODEL_800fc88d0dbf48beae1068d99f4735f4",
       "style": "IPY_MODEL_a543e9a05940467a9f289a0157bfee50"
      }
     },
     "dcc1e5cb758b4f4c9b400616d11a102c": {
      "model_module": "@jupyter-widgets/base",
      "model_module_version": "1.0.0",
      "model_name": "LayoutModel",
      "state": {}
     },
     "dd1ceb63d05b42eb8abedb1eba76d79d": {
      "model_module": "@jupyter-widgets/base",
      "model_module_version": "1.0.0",
      "model_name": "LayoutModel",
      "state": {}
     },
     "de949fcdb6ea4070b3df6cae430ca85e": {
      "model_module": "@jupyter-widgets/base",
      "model_module_version": "1.0.0",
      "model_name": "LayoutModel",
      "state": {}
     },
     "df25b0adad2244e4adacdbc01a4e93e6": {
      "model_module": "@jupyter-widgets/controls",
      "model_module_version": "1.1.0",
      "model_name": "DescriptionStyleModel",
      "state": {
       "description_width": ""
      }
     },
     "dfbb14f96f9d4ee7bb8f9e39e481c3e7": {
      "model_module": "@jupyter-widgets/base",
      "model_module_version": "1.0.0",
      "model_name": "LayoutModel",
      "state": {
       "border": "solid 2px",
       "display": "flex",
       "flex_flow": "row",
       "justify_content": "center",
       "overflow": "visible"
      }
     },
     "dfc1ecc4ed2d467c991df18b1cd70731": {
      "model_module": "@jupyter-widgets/controls",
      "model_module_version": "1.1.0",
      "model_name": "DescriptionStyleModel",
      "state": {
       "description_width": ""
      }
     },
     "dfcc8dd6b81346d4974cc962ddcab2f5": {
      "model_module": "@jupyter-widgets/controls",
      "model_module_version": "1.1.0",
      "model_name": "DescriptionStyleModel",
      "state": {
       "description_width": ""
      }
     },
     "e0d97b652d4d40a0890e6070387209f2": {
      "model_module": "@jupyter-widgets/controls",
      "model_module_version": "1.1.0",
      "model_name": "DropdownModel",
      "state": {
       "description": "Binary",
       "index": null,
       "layout": "IPY_MODEL_7f2c3f9299814afcaafe75f5e51cda67",
       "style": "IPY_MODEL_7875ec9b29524357b33729fae213a831"
      }
     },
     "e127e5383e624cf187c7094964408316": {
      "model_module": "@jupyter-widgets/controls",
      "model_module_version": "1.1.0",
      "model_name": "HBoxModel",
      "state": {
       "children": [
        "IPY_MODEL_280ef33619dc42a9bd2a2fbcf702d66d",
        "IPY_MODEL_4aed4dca02264079b429d8373e1e6946"
       ],
       "layout": "IPY_MODEL_dd1ceb63d05b42eb8abedb1eba76d79d"
      }
     },
     "e25a1d077079405f849e35bedf3ad761": {
      "model_module": "@jupyter-widgets/base",
      "model_module_version": "1.0.0",
      "model_name": "LayoutModel",
      "state": {}
     },
     "e34f926861244f9eb6c02a43bc59618e": {
      "model_module": "@jupyter-widgets/base",
      "model_module_version": "1.0.0",
      "model_name": "LayoutModel",
      "state": {}
     },
     "e3d968c21328497b8b6226760fc0d3b1": {
      "model_module": "@jupyter-widgets/base",
      "model_module_version": "1.0.0",
      "model_name": "LayoutModel",
      "state": {}
     },
     "e3f0b326c95943538e985f244cd9b95f": {
      "model_module": "@jupyter-widgets/controls",
      "model_module_version": "1.1.0",
      "model_name": "FloatSliderModel",
      "state": {
       "description": "Neurons",
       "layout": "IPY_MODEL_9743428db786456785f69362d76bc6d8",
       "max": 1,
       "step": 0.05,
       "style": "IPY_MODEL_b800a29c57a444a5aa1887ee5fcc124e",
       "value": 0.5
      }
     },
     "e40dd82e90bc414b8beeee7cf6e1a069": {
      "model_module": "@jupyter-widgets/base",
      "model_module_version": "1.0.0",
      "model_name": "LayoutModel",
      "state": {}
     },
     "e411e7d2248d40d88585e2db8e4eb1a1": {
      "model_module": "@jupyter-widgets/controls",
      "model_module_version": "1.1.0",
      "model_name": "FloatSliderModel",
      "state": {
       "description": "Sensitivity",
       "layout": "IPY_MODEL_9c952806897b4498ad9e6924a984e778",
       "max": 1,
       "step": 0.05,
       "style": "IPY_MODEL_83cc9c4f166644709fdc62fc3d864797",
       "value": 0.8
      }
     },
     "e41ec439c85b41cfb71e4cebc67379cd": {
      "model_module": "@jupyter-widgets/base",
      "model_module_version": "1.0.0",
      "model_name": "LayoutModel",
      "state": {}
     },
     "e4698cb65e5c475aa943c2f88721f1f2": {
      "model_module": "@jupyter-widgets/controls",
      "model_module_version": "1.1.0",
      "model_name": "DescriptionStyleModel",
      "state": {
       "description_width": ""
      }
     },
     "e5430c8586024fae8d5c03f968de3ae3": {
      "model_module": "@jupyter-widgets/controls",
      "model_module_version": "1.1.0",
      "model_name": "DescriptionStyleModel",
      "state": {
       "description_width": ""
      }
     },
     "e5b4414be9ab425791c2e4021827e404": {
      "model_module": "@jupyter-widgets/base",
      "model_module_version": "1.0.0",
      "model_name": "LayoutModel",
      "state": {}
     },
     "e681ed00ae764db28e667db993aece5f": {
      "model_module": "@jupyter-widgets/controls",
      "model_module_version": "1.1.0",
      "model_name": "ButtonModel",
      "state": {
       "description": "Generate Knowledgepack",
       "icon": "0",
       "layout": "IPY_MODEL_8c27a3b623e34fa5bc07fb5c4044066e",
       "style": "IPY_MODEL_3c766150cd1c4024a53ac6c48fd8bf03"
      }
     },
     "e6e22b8b859842538f36fff3f916f992": {
      "model_module": "@jupyter-widgets/controls",
      "model_module_version": "1.1.0",
      "model_name": "HBoxModel",
      "state": {
       "children": [
        "IPY_MODEL_aca9cff60d8b4fce9bee0a2ca0743352",
        "IPY_MODEL_f97dceeb8df14332a9b04e2b8198fee6",
        "IPY_MODEL_541a6895956044818b1594a6b1282a37"
       ],
       "layout": "IPY_MODEL_036e81b14750497aa8e5d020d208d0d7"
      }
     },
     "e7823c3780e24b288bf923a288663a29": {
      "model_module": "@jupyter-widgets/base",
      "model_module_version": "1.0.0",
      "model_name": "LayoutModel",
      "state": {
       "align_items": "stretch",
       "border": "solid 2px",
       "display": "flex",
       "flex_flow": "column",
       "overflow": "visible",
       "width": "75%"
      }
     },
     "e7ad8a82d78b4337add047b85e392ad7": {
      "model_module": "@jupyter-widgets/controls",
      "model_module_version": "1.1.0",
      "model_name": "ButtonStyleModel",
      "state": {}
     },
     "e825146447234c1b89aa3b6bc541e5b4": {
      "model_module": "@jupyter-widgets/base",
      "model_module_version": "1.0.0",
      "model_name": "LayoutModel",
      "state": {
       "display": "flex",
       "flex_flow": "row",
       "justify_content": "flex-end"
      }
     },
     "e82df84aff1a4335824e9c44309a3e50": {
      "model_module": "@jupyter-widgets/controls",
      "model_module_version": "1.1.0",
      "model_name": "TextareaModel",
      "state": {
       "description": "Description",
       "layout": "IPY_MODEL_3dba666e105e4912a43edc713c856817",
       "style": "IPY_MODEL_0e8dad05047c421089e7f56f01d0152c",
       "value": "Generates a comprehensive set of features using statistical, energy,\namplitude, shape, time, and rate of change feature generators. The seed\nthen performs feature selection and model generation algorithms with\na genetic algorithm to optimize pipeline parameters."
      }
     },
     "e898b389517e413c9f3cbb0ce70ec3f4": {
      "model_module": "@jupyter-widgets/base",
      "model_module_version": "1.0.0",
      "model_name": "LayoutModel",
      "state": {}
     },
     "e9e2347b5034421494b92b9827b4e52e": {
      "model_module": "@jupyter-widgets/base",
      "model_module_version": "1.0.0",
      "model_name": "LayoutModel",
      "state": {
       "visibility": "hidden"
      }
     },
     "ea4ffe323a284e86801f501e177bf9fb": {
      "model_module": "@jupyter-widgets/controls",
      "model_module_version": "1.1.0",
      "model_name": "DescriptionStyleModel",
      "state": {
       "description_width": ""
      }
     },
     "ec902e0633944259b346076a6359c1b1": {
      "model_module": "@jupyter-widgets/controls",
      "model_module_version": "1.1.0",
      "model_name": "IntSliderModel",
      "state": {
       "description": "iterations",
       "layout": "IPY_MODEL_9beb5d54c4cd4a35a00ed93373a6553e",
       "max": 15,
       "min": 1,
       "style": "IPY_MODEL_12aa8bacf7e14ab888a514bbb43ca775",
       "value": 2
      }
     },
     "ed7a24aadd8641fb9457b25876d78c4b": {
      "model_module": "@jupyter-widgets/controls",
      "model_module_version": "1.1.0",
      "model_name": "ButtonModel",
      "state": {
       "description": "Refresh Queries",
       "layout": "IPY_MODEL_2790e665f8b24ac1a3af8eca6cb72a5c",
       "style": "IPY_MODEL_97d24246749a4656acd792c8ff0fe643"
      }
     },
     "ed9b63cc5f014a9dabb88837adc52bd4": {
      "model_module": "@jupyter-widgets/controls",
      "model_module_version": "1.1.0",
      "model_name": "VBoxModel",
      "state": {
       "children": [
        "IPY_MODEL_abb06ebe6a554f3d9cfafe06b1715fab",
        "IPY_MODEL_a2a833bee9e0474a8b447d8c4667b4a5",
        "IPY_MODEL_c8b0c8a29e7741f09ec63f66e1f22d25",
        "IPY_MODEL_a3dd5837f207434cadd47e8111b0a0c9"
       ],
       "layout": "IPY_MODEL_8a35c87c1fc241d79edff3a45ae6773a"
      }
     },
     "eed490c7052048269e1d4c1599d5cdcf": {
      "model_module": "@jupyter-widgets/base",
      "model_module_version": "1.0.0",
      "model_name": "LayoutModel",
      "state": {}
     },
     "f02b91dbcec44752a33101a979514f67": {
      "model_module": "@jupyter-widgets/controls",
      "model_module_version": "1.1.0",
      "model_name": "TextModel",
      "state": {
       "description": "Query Name",
       "layout": "IPY_MODEL_e34f926861244f9eb6c02a43bc59618e",
       "style": "IPY_MODEL_166226ac1a92436a8b8f6e7695a8214b",
       "value": "ADLMU"
      }
     },
     "f075d47016fa4952868e54bc5313bb19": {
      "model_module": "@jupyter-widgets/base",
      "model_module_version": "1.0.0",
      "model_name": "LayoutModel",
      "state": {}
     },
     "f0fe4665497549e7a732eb4507ac9241": {
      "model_module": "@jupyter-widgets/controls",
      "model_module_version": "1.1.0",
      "model_name": "HBoxModel",
      "state": {
       "children": [
        "IPY_MODEL_81aa10f140c447ab922827326f21bda3",
        "IPY_MODEL_8ba10fb5fa2a4721bd2475951ed2a77b"
       ],
       "layout": "IPY_MODEL_5a79a320d3b64e5d8afdaacaacba7aa6"
      }
     },
     "f258c3fabeb64f1fb9f4ce35375b8eb1": {
      "model_module": "@jupyter-widgets/controls",
      "model_module_version": "1.1.0",
      "model_name": "VBoxModel",
      "state": {
       "children": [
        "IPY_MODEL_1ae2664e98a74245af5bafc27365955d",
        "IPY_MODEL_38bb9efcb7c0425183ac8be5c4b827f8",
        "IPY_MODEL_e6e22b8b859842538f36fff3f916f992"
       ],
       "layout": "IPY_MODEL_30b988b5685e430886ad47fcaede4442"
      }
     },
     "f2bf8c2fd0c44c4abfb97d712281141d": {
      "model_module": "@jupyter-widgets/controls",
      "model_module_version": "1.1.0",
      "model_name": "DescriptionStyleModel",
      "state": {
       "description_width": ""
      }
     },
     "f2c79c6726c947dd955a360a747ce0c2": {
      "model_module": "@jupyter-widgets/base",
      "model_module_version": "1.0.0",
      "model_name": "LayoutModel",
      "state": {}
     },
     "f3376471fdb24f9e8af5ab5f46079544": {
      "model_module": "@jupyter-widgets/controls",
      "model_module_version": "1.1.0",
      "model_name": "DropdownModel",
      "state": {
       "_options_labels": [
        "Curie Reference 4.1",
        "Nordic Thingy 2.1",
        "Amulet 4.1"
       ],
       "description": "Platform",
       "index": 0,
       "layout": "IPY_MODEL_17fffd20b7b144729990d38f09b86580",
       "style": "IPY_MODEL_915f10c49c524d0aa043e733563b8b1f"
      }
     },
     "f5736c955f214498a000e3f82c328da1": {
      "model_module": "@jupyter-widgets/base",
      "model_module_version": "1.0.0",
      "model_name": "LayoutModel",
      "state": {}
     },
     "f596f953d03c415482f6412868df939a": {
      "model_module": "@jupyter-widgets/base",
      "model_module_version": "1.0.0",
      "model_name": "LayoutModel",
      "state": {}
     },
     "f5c79a1b1dc0480c943053d34d6fd563": {
      "model_module": "@jupyter-widgets/base",
      "model_module_version": "1.0.0",
      "model_name": "LayoutModel",
      "state": {}
     },
     "f642c11b816749d0a321ad8cf869952b": {
      "model_module": "bqplot",
      "model_module_version": "^0.3.2",
      "model_name": "OrdinalScaleModel",
      "state": {
       "domain": []
      }
     },
     "f6629a362f384bacb154577bf961d816": {
      "model_module": "@jupyter-widgets/base",
      "model_module_version": "1.0.0",
      "model_name": "LayoutModel",
      "state": {}
     },
     "f8165a1760234197adf681aec24c4e78": {
      "model_module": "@jupyter-widgets/controls",
      "model_module_version": "1.1.0",
      "model_name": "SliderStyleModel",
      "state": {
       "description_width": ""
      }
     },
     "f8ac5746817d4e579d4a72a071e382b2": {
      "model_module": "@jupyter-widgets/base",
      "model_module_version": "1.0.0",
      "model_name": "LayoutModel",
      "state": {}
     },
     "f90843fe41384e35bfb7a83a023d9aac": {
      "model_module": "@jupyter-widgets/controls",
      "model_module_version": "1.1.0",
      "model_name": "DropdownModel",
      "state": {
       "_options_labels": [
        "True",
        "False"
       ],
       "description": "Debug",
       "index": 0,
       "layout": "IPY_MODEL_9ab96f2475f843988c586af5626b1b96",
       "style": "IPY_MODEL_7fb9230232c54e66bae5659767adadbc"
      }
     },
     "f97dceeb8df14332a9b04e2b8198fee6": {
      "model_module": "@jupyter-widgets/controls",
      "model_module_version": "1.1.0",
      "model_name": "VBoxModel",
      "state": {
       "children": [
        "IPY_MODEL_dbc573f7a6a64cad8be48b56d0314a01",
        "IPY_MODEL_f90843fe41384e35bfb7a83a023d9aac",
        "IPY_MODEL_b10b96fb119d4af297b6c56ad23af97b"
       ],
       "layout": "IPY_MODEL_a14cfd3612bf424da7a026a8ec6861d1"
      }
     },
     "fbe6180307a5419c8193f7fdc4f72abc": {
      "model_module": "@jupyter-widgets/controls",
      "model_module_version": "1.1.0",
      "model_name": "HBoxModel",
      "state": {
       "children": [
        "IPY_MODEL_934346c797d04465863628de3b8cbdea",
        "IPY_MODEL_ed7a24aadd8641fb9457b25876d78c4b"
       ],
       "layout": "IPY_MODEL_b890631dcce34704ba934b99c7716519"
      }
     },
     "fea36d828cc14c359d85d5105555e50d": {
      "model_module": "@jupyter-widgets/controls",
      "model_module_version": "1.1.0",
      "model_name": "ButtonStyleModel",
      "state": {}
     },
     "fea7780fd55749129c419ed04d16b067": {
      "model_module": "@jupyter-widgets/controls",
      "model_module_version": "1.1.0",
      "model_name": "SliderStyleModel",
      "state": {
       "description_width": ""
      }
     },
     "ff6c78dc106d40f3a523bdb2bd587ff2": {
      "model_module": "@jupyter-widgets/controls",
      "model_module_version": "1.1.0",
      "model_name": "SelectMultipleModel",
      "state": {
       "_options_labels": [
        "ble",
        "led",
        "serial"
       ],
       "description": "Output",
       "index": [
        0
       ],
       "layout": "IPY_MODEL_cc71ca0cf4974b6e98868e570c4cb68d",
       "rows": 5,
       "style": "IPY_MODEL_7219d5753073415990ed677083450c0c"
      }
     },
     "fffa5de568204f839c32b38afdebae61": {
      "model_module": "@jupyter-widgets/base",
      "model_module_version": "1.0.0",
      "model_name": "LayoutModel",
      "state": {}
     }
    },
    "version_major": 2,
    "version_minor": 0
   }
  }
 },
 "nbformat": 4,
 "nbformat_minor": 2
}

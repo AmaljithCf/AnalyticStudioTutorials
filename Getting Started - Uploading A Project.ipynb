{
 "cells": [
  {
   "cell_type": "markdown",
   "metadata": {},
   "source": [
    "# Uploading A Project\n",
    "\n",
    "In order to demonstrate the functionality of the Analytics Studio notebooks we have prepared a pre-made project that you can experiment with.\n",
    "\n",
    "To upload the project to the cloud open the Data Capture Lab -> Label mode and click ‘Connect’\n",
    "\n",
    "<img src=\"img/connect.png\" width=\"180\" align=\"left\">\n"
   ]
  },
  {
   "cell_type": "markdown",
   "metadata": {
    "collapsed": true
   },
   "source": [
    "Select File -> New Project Wizard\n",
    "\n",
    "<img src=\"img/new-project.png\" width=\"180\" align=\"left\">"
   ]
  },
  {
   "cell_type": "markdown",
   "metadata": {},
   "source": [
    "Enter the name of your project, for this example we are using the ‘Gesture Demo’ project. Then click open to select the pre-made project\n",
    "\n",
    "<img src=\"img/open-project.png\" width=\"600\" align=\"left\">"
   ]
  },
  {
   "cell_type": "markdown",
   "metadata": {},
   "source": [
    "Navigate to the .dclproj file inside the Tutorials directory\n",
    "\n",
    "<img src=\"img/open-project-2.png\" width=\"500\" align=\"left\">"
   ]
  },
  {
   "cell_type": "markdown",
   "metadata": {},
   "source": [
    "Click Next and then Finish and the Data Capture Lab will upload the project data, segments, and metadata to the cloud. Now you can experiment with this project in your notebooks\n",
    "\n",
    "<img src=\"img/finish.png\" width=\"500\" align=\"left\">\n"
   ]
  }
 ],
 "metadata": {
  "kernelspec": {
   "display_name": "Python 2",
   "language": "python",
   "name": "python2"
  },
  "language_info": {
   "codemirror_mode": {
    "name": "ipython",
    "version": 2
   },
   "file_extension": ".py",
   "mimetype": "text/x-python",
   "name": "python",
   "nbconvert_exporter": "python",
   "pygments_lexer": "ipython2",
   "version": "2.7.13"
  }
 },
 "nbformat": 4,
 "nbformat_minor": 2
}

{
 "cells": [
  {
   "cell_type": "markdown",
   "metadata": {},
   "source": [
    "#### NOTE: This is the pipeline of Activity recognition without any description This is the size of a typical notebook"
   ]
  },
  {
   "cell_type": "code",
   "execution_count": 1,
   "metadata": {
    "collapsed": true
   },
   "outputs": [],
   "source": [
    "import sys\n",
    "%matplotlib inline\n",
    "\n",
    "from sensiml import SensiML\n",
    "from sensiml.widgets import *\n",
    "\n",
    "dsk = SensiML()"
   ]
  },
  {
   "cell_type": "code",
   "execution_count": 2,
   "metadata": {
    "collapsed": true
   },
   "outputs": [],
   "source": [
    "dsk.project ='Activity Demo'\n",
    "dsk.pipeline = \"Activity Demo\""
   ]
  },
  {
   "cell_type": "markdown",
   "metadata": {},
   "source": [
    "### Make a query"
   ]
  },
  {
   "cell_type": "code",
   "execution_count": 5,
   "metadata": {},
   "outputs": [
    {
     "data": {
      "application/vnd.jupyter.widget-view+json": {
       "model_id": "176e56aa07d94cd3b9a5f40fd00ca96a",
       "version_major": 2,
       "version_minor": 0
      },
      "text/html": [
       "<p>Failed to display Jupyter Widget of type <code>HBox</code>.</p>\n",
       "<p>\n",
       "  If you're reading this message in the Jupyter Notebook or JupyterLab Notebook, it may mean\n",
       "  that the widgets JavaScript is still loading. If this message persists, it\n",
       "  likely means that the widgets JavaScript library is either not installed or\n",
       "  not enabled. See the <a href=\"https://ipywidgets.readthedocs.io/en/stable/user_install.html\">Jupyter\n",
       "  Widgets Documentation</a> for setup instructions.\n",
       "</p>\n",
       "<p>\n",
       "  If you're reading this message in another frontend (for example, a static\n",
       "  rendering on GitHub or <a href=\"https://nbviewer.jupyter.org/\">NBViewer</a>),\n",
       "  it may mean that your frontend doesn't currently support widgets.\n",
       "</p>\n"
      ],
      "text/plain": [
       "HBox(children=(VBox(children=(Dropdown(description=u'Select Query', options=('', u'Q1', u'query_activity_demo', u'query_activity_wrist_twist', u'query_activity', u'query', u'query_activity_test'), value=''), Text(value=u'', description=u'Query Name'), Dropdown(description=u'Segmenter', options=(u'Manual',), value=u'Manual'), Dropdown(description=u'Label', options=(u'Activity', u'Subject'), value=u'Activity'), SelectMultiple(description=u'Metadtata', index=(1,), options=(u'Activity', u'Subject'), value=(u'Subject',)), SelectMultiple(description=u'Sources', index=(0, 1, 2, 3, 4, 5), options=(u'AccelerometerX', u'AccelerometerY', u'AccelerometerZ', u'GyroscopeX', u'GyroscopeY', u'GyroscopeZ'), value=(u'AccelerometerX', u'AccelerometerY', u'AccelerometerZ', u'GyroscopeX', u'GyroscopeY', u'GyroscopeZ')), Text(value=u'', description=u'Query Filter'), HBox(children=(Button(description=u'Add Query', style=ButtonStyle()), Button(description=u'Update Query', style=ButtonStyle()))))), Figure(background_style={'fill': 'white'}, fig_margin={'top': 10, 'left': 50, 'right': 0, 'bottom': 30}, layout=Layout(height=u'400px', min_width=u'125px', width=u'560px'), legend_location='bottom-right', scale_x=LinearScale(allow_padding=False, max=1.0, min=0.0), scale_y=LinearScale(allow_padding=False, max=1.0, min=0.0))))"
      ]
     },
     "metadata": {},
     "output_type": "display_data"
    }
   ],
   "source": [
    "QueryWidget(dsk).create_widget()"
   ]
  },
  {
   "cell_type": "markdown",
   "metadata": {},
   "source": [
    "### Construct a pipeline\n",
    "\n",
    "#### Generate Features"
   ]
  },
  {
   "cell_type": "code",
   "execution_count": 6,
   "metadata": {},
   "outputs": [
    {
     "name": "stdout",
     "output_type": "stream",
     "text": [
      "Executing Pipeline with Steps:\n",
      "\n",
      "------------------------------------------------------------------------\n",
      " 0.     Name: query_activity            \t\tType: query                    \n",
      "------------------------------------------------------------------------\n",
      "------------------------------------------------------------------------\n",
      " 1.     Name: Magnitude                 \t\tType: transform                \n",
      "------------------------------------------------------------------------\n",
      "------------------------------------------------------------------------\n",
      " 2.     Name: Windowing                 \t\tType: segmenter                \n",
      "------------------------------------------------------------------------\n",
      "------------------------------------------------------------------------\n",
      " 3.     Name: MSE Filter                \t\tType: transform                \n",
      "------------------------------------------------------------------------\n",
      "------------------------------------------------------------------------\n",
      " 4.     Name: generator_set             \t\tType: generatorset             \n",
      "------------------------------------------------------------------------\n",
      "------------------------------------------------------------------------\n",
      " 5.     Name: Min Max Scale             \t\tType: transform                \n",
      "------------------------------------------------------------------------\n",
      "------------------------------------------------------------------------\n",
      "\n",
      "\n",
      "Checking for Results:\n",
      "\n",
      "Retrieving page 1 of 1.\n"
     ]
    }
   ],
   "source": [
    "dsk.pipeline.reset()\n",
    "dsk.pipeline.set_input_query('query_activity')\n",
    "\n",
    "dsk.pipeline.add_transform(\"Magnitude\", params={\"input_columns\": ['GyroscopeX','GyroscopeY', 'GyroscopeZ']})\n",
    "\n",
    "dsk.pipeline.add_transform(\"Windowing\", params={\"window_size\": 300, \n",
    "                                                \"delta\": 300,})\n",
    "\n",
    "dsk.pipeline.add_transform(\"MSE Filter\", params={\"input_column\": 'Magnitude_ST_0000', \n",
    "                                                \"MSE_target\": -1.0, \n",
    "                                                \"MSE_threshold\": 0.01})\n",
    "\n",
    "dsk.pipeline.add_feature_generator([\"Mean\", 'Standard Deviation','Sum', '25th Percentile'],\n",
    "                                   function_defaults = {\"columns\":[u'Magnitude_ST_0000']})\n",
    "\n",
    "dsk.pipeline.add_transform('Min Max Scale')\n",
    "\n",
    "features, s = dsk.pipeline.execute()"
   ]
  },
  {
   "cell_type": "markdown",
   "metadata": {},
   "source": [
    "#### Train the Model"
   ]
  },
  {
   "cell_type": "code",
   "execution_count": 9,
   "metadata": {},
   "outputs": [
    {
     "name": "stdout",
     "output_type": "stream",
     "text": [
      "Executing Pipeline with Steps:\n",
      "\n",
      "------------------------------------------------------------------------\n",
      " 0.     Name: query_activity            \t\tType: query                    \n",
      "------------------------------------------------------------------------\n",
      "------------------------------------------------------------------------\n",
      " 1.     Name: Magnitude                 \t\tType: transform                \n",
      "------------------------------------------------------------------------\n",
      "------------------------------------------------------------------------\n",
      " 2.     Name: Windowing                 \t\tType: segmenter                \n",
      "------------------------------------------------------------------------\n",
      "------------------------------------------------------------------------\n",
      " 3.     Name: MSE Filter                \t\tType: transform                \n",
      "------------------------------------------------------------------------\n",
      "------------------------------------------------------------------------\n",
      " 4.     Name: generator_set             \t\tType: generatorset             \n",
      "------------------------------------------------------------------------\n",
      "------------------------------------------------------------------------\n",
      " 5.     Name: Min Max Scale             \t\tType: transform                \n",
      "------------------------------------------------------------------------\n",
      "------------------------------------------------------------------------\n",
      " 6.     Name: tvo                       \t\tType: tvo                      \n",
      "------------------------------------------------------------------------\n",
      "\tClassifier: PVP\n",
      "\t\tParam: distance_mode: L1\n",
      "\t\tParam: classification_mode: RBF\n",
      "\n",
      "\tTraining Algo: Hierarchical Clustering with Neuron Optimization\n",
      "\t\tParam: number_of_neurons: 5\n",
      "\n",
      "\tValidation Method: Stratified K-Fold Cross-Validation\n",
      "\t\tParam: number_of_folds: 3\n",
      "\n",
      "------------------------------------------------------------------------\n",
      "\n",
      "\n",
      "Checking for Results:\n",
      "\n",
      "Retrieving page 1 of 1.\n",
      "TRAINING ALGORITHM: Hierarchical Clustering with Neuron Optimization\n",
      "VALIDATION METHOD:  Stratified K-Fold Cross-Validation\n",
      "CLASSIFIER:         PVP\n",
      "\n",
      "AVERAGE METRICS:\n",
      "F1-SCORE:    76.9   sigma 17.32\n",
      "SENSITIVITY: 100.0   sigma 0.00\n",
      "PRECISION:   67.6   sigma 24.25\n",
      "\n",
      "--------------------------------------\n",
      "\n",
      "STRATIFIED K-FOLD CROSS-VALIDATION MODEL RESULTS\n",
      "\n",
      "MODEL INDEX: Fold 2\n",
      "ACCURACY: 83.33\n",
      "NEURONS: 3\n",
      "\n",
      "MODEL INDEX: Fold 1\n",
      "ACCURACY: 57.14\n",
      "NEURONS: 3\n",
      "\n",
      "MODEL INDEX: Fold 0\n",
      "ACCURACY: 25.00\n",
      "NEURONS: 3\n",
      "\n"
     ]
    }
   ],
   "source": [
    "dsk.pipeline.set_validation_method('Stratified K-Fold Cross-Validation', params={'number_of_folds':3,})\n",
    "\n",
    "dsk.pipeline.set_classifier('PVP', params={\"classification_mode\":'RBF','distance_mode':'L1'})\n",
    "\n",
    "dsk.pipeline.set_training_algorithm('Hierarchical Clustering with Neuron Optimization', params = {'number_of_neurons':5})\n",
    "\n",
    "\n",
    "dsk.pipeline.set_tvo({'validation_seed':2})\n",
    "\n",
    "model_results, stats = dsk.pipeline.execute()\n",
    "\n",
    "model_results.summarize()"
   ]
  },
  {
   "cell_type": "code",
   "execution_count": 10,
   "metadata": {},
   "outputs": [
    {
     "name": "stdout",
     "output_type": "stream",
     "text": [
      "Knowledgepack name updated.\n"
     ]
    }
   ],
   "source": [
    "model = model_results.configurations[0].models[0]\n",
    "model.knowledgepack.save('ActivityKP')"
   ]
  },
  {
   "cell_type": "markdown",
   "metadata": {},
   "source": [
    "### Download Model"
   ]
  },
  {
   "cell_type": "code",
   "execution_count": 11,
   "metadata": {},
   "outputs": [
    {
     "data": {
      "application/vnd.jupyter.widget-view+json": {
       "model_id": "9f2bd61f89bd41d6b108255c09960941",
       "version_major": 2,
       "version_minor": 0
      },
      "text/html": [
       "<p>Failed to display Jupyter Widget of type <code>VBox</code>.</p>\n",
       "<p>\n",
       "  If you're reading this message in the Jupyter Notebook or JupyterLab Notebook, it may mean\n",
       "  that the widgets JavaScript is still loading. If this message persists, it\n",
       "  likely means that the widgets JavaScript library is either not installed or\n",
       "  not enabled. See the <a href=\"https://ipywidgets.readthedocs.io/en/stable/user_install.html\">Jupyter\n",
       "  Widgets Documentation</a> for setup instructions.\n",
       "</p>\n",
       "<p>\n",
       "  If you're reading this message in another frontend (for example, a static\n",
       "  rendering on GitHub or <a href=\"https://nbviewer.jupyter.org/\">NBViewer</a>),\n",
       "  it may mean that your frontend doesn't currently support widgets.\n",
       "</p>\n"
      ],
      "text/plain": [
       "VBox(children=(HBox(children=(Dropdown(description=u'Model Name', options={u'ActivityKP': u'724df577-b100-4ef3-a1f0-98a06ac921bd', u'ActivityKP2': u'e2613d70-fddc-4c35-94f3-9e2c37d5f73a'}, value=u'724df577-b100-4ef3-a1f0-98a06ac921bd'), Button(description=u'Refresh Models', icon=u'0', layout=Layout(align_items=u'flex-start', border=u'solid 2px', display=u'flex', flex_flow=u'column', justify_content=u'center', overflow=u'visible', width=u'25%'), style=ButtonStyle()), Button(description=u'Generate Knowledgepack', icon=u'0', layout=Layout(align_items=u'flex-start', border=u'solid 2px', display=u'flex', flex_flow=u'column', justify_content=u'center', overflow=u'visible', width=u'25%'), style=ButtonStyle()))), Label(value=u'Download Settings', layout=Layout(justify_content=u'flex-start', overflow=u'visible')), HBox(children=(VBox(children=(Dropdown(description=u'HW Platform', index=1, options={'Curie Reference 4.1': 1, 'Nordic Thingy 2.1': 2, 'Amulet 4.1': 0}, value=2), Dropdown(description=u'Target OS', options=('NordicSDK',), value='NordicSDK'), Dropdown(description=u'Download', options=('Binary', 'Library'), value='Binary'))), VBox(children=(Dropdown(description=u'IMU Rate', options=(100, 50, 25), value=100), Dropdown(description=u'Debug', options=(True, False), value=True), Dropdown(description=u'Test Data', options=(None,), value=None))), SelectMultiple(description=u'Output', index=(0,), options=('ble', 'led', 'serial'), value=('ble',))))))"
      ]
     },
     "metadata": {},
     "output_type": "display_data"
    }
   ],
   "source": [
    "DownloadWidget(dsk).create_widget()"
   ]
  },
  {
   "cell_type": "markdown",
   "metadata": {},
   "source": [
    "### Flash the Model"
   ]
  },
  {
   "cell_type": "code",
   "execution_count": 12,
   "metadata": {},
   "outputs": [
    {
     "data": {
      "application/vnd.jupyter.widget-view+json": {
       "model_id": "7bc495bc7ae04424be520b98137b5491",
       "version_major": 2,
       "version_minor": 0
      },
      "text/html": [
       "<p>Failed to display Jupyter Widget of type <code>VBox</code>.</p>\n",
       "<p>\n",
       "  If you're reading this message in the Jupyter Notebook or JupyterLab Notebook, it may mean\n",
       "  that the widgets JavaScript is still loading. If this message persists, it\n",
       "  likely means that the widgets JavaScript library is either not installed or\n",
       "  not enabled. See the <a href=\"https://ipywidgets.readthedocs.io/en/stable/user_install.html\">Jupyter\n",
       "  Widgets Documentation</a> for setup instructions.\n",
       "</p>\n",
       "<p>\n",
       "  If you're reading this message in another frontend (for example, a static\n",
       "  rendering on GitHub or <a href=\"https://nbviewer.jupyter.org/\">NBViewer</a>),\n",
       "  it may mean that your frontend doesn't currently support widgets.\n",
       "</p>\n"
      ],
      "text/plain": [
       "VBox(children=(HBox(children=(interactive(children=(Dropdown(description=u'Platform', options={'Curie Reference 4.1': 1, 'Nordic Thingy 2.1': 2, 'Amulet 4.1': 0}, value=1), Output()), _dom_classes=('widget-interact',)), Label(value=u'', layout=Layout(width=u'400px')))), HBox(children=(Dropdown(description=u'Binary', layout=Layout(width=u'550px'), options=(), value=None), Button(description=u'Refresh', style=ButtonStyle()))), HBox(children=(Dropdown(description=u'Flash Method', options=(), value=None), Button(description=u'Flash', style=ButtonStyle()), Button(description=u'Generate OTA', layout=Layout(visibility=u'hidden'), style=ButtonStyle())))))"
      ]
     },
     "metadata": {},
     "output_type": "display_data"
    }
   ],
   "source": [
    "FlashWidget(dsk).create_widget()"
   ]
  }
 ],
 "metadata": {
  "anaconda-cloud": {},
  "kernelspec": {
   "display_name": "Python 2",
   "language": "python",
   "name": "python2"
  },
  "language_info": {
   "codemirror_mode": {
    "name": "ipython",
    "version": 2
   },
   "file_extension": ".py",
   "mimetype": "text/x-python",
   "name": "python",
   "nbconvert_exporter": "python",
   "pygments_lexer": "ipython2",
   "version": "2.7.13"
  },
  "toc": {
   "nav_menu": {},
   "number_sections": true,
   "sideBar": true,
   "skip_h1_title": false,
   "toc_cell": false,
   "toc_position": {},
   "toc_section_display": "block",
   "toc_window_display": false
  },
  "widgets": {
   "application/vnd.jupyter.widget-state+json": {
    "state": {
     "02f3753da6364066869485eafbb36613": {
      "model_module": "@jupyter-widgets/base",
      "model_module_version": "1.0.0",
      "model_name": "LayoutModel",
      "state": {}
     },
     "03d371a4a18d4f46872a90cf5555b464": {
      "model_module": "@jupyter-widgets/controls",
      "model_module_version": "1.1.0",
      "model_name": "SelectMultipleModel",
      "state": {
       "_options_labels": [
        "Activity",
        "Subject"
       ],
       "description": "Metadtata",
       "index": [
        1
       ],
       "layout": "IPY_MODEL_e544288110b1439ebd6516af871ab79b",
       "rows": 5,
       "style": "IPY_MODEL_bc21f7d1ce5f49e98b5fe9548e2c460b"
      }
     },
     "0460f9e2e6644d72801e6e1411c95c72": {
      "model_module": "@jupyter-widgets/controls",
      "model_module_version": "1.1.0",
      "model_name": "DescriptionStyleModel",
      "state": {
       "description_width": ""
      }
     },
     "087785d4b81940efa16bd5b64728616a": {
      "model_module": "@jupyter-widgets/controls",
      "model_module_version": "1.1.0",
      "model_name": "ButtonStyleModel",
      "state": {}
     },
     "0943fecc4faf455bb25d3f99e17fc265": {
      "model_module": "@jupyter-widgets/controls",
      "model_module_version": "1.1.0",
      "model_name": "DescriptionStyleModel",
      "state": {
       "description_width": ""
      }
     },
     "0ab0a55e15e64510b1a33792419d1f50": {
      "model_module": "@jupyter-widgets/output",
      "model_module_version": "1.1.0",
      "model_name": "OutputModel",
      "state": {
       "_model_module_version": "1.1.0",
       "_view_module_version": "1.1.0",
       "layout": "IPY_MODEL_d9fc0b4d7f45463fbfbbb15d8a85c96f"
      }
     },
     "0b2bbd519c1841a0ac2a4b0f63e69295": {
      "model_module": "@jupyter-widgets/controls",
      "model_module_version": "1.1.0",
      "model_name": "DropdownModel",
      "state": {
       "_options_labels": [
        "None"
       ],
       "description": "Test Data",
       "index": 0,
       "layout": "IPY_MODEL_bf560fae76af4e3bb4dd9066f80f4833",
       "style": "IPY_MODEL_4942cbd455cf460fb552db72389efb3b"
      }
     },
     "0b2ea13c5417463fb738e6acf885215f": {
      "model_module": "@jupyter-widgets/base",
      "model_module_version": "1.0.0",
      "model_name": "LayoutModel",
      "state": {}
     },
     "0f05536b6fba49d5ac2a3bb473c12129": {
      "model_module": "@jupyter-widgets/controls",
      "model_module_version": "1.1.0",
      "model_name": "ButtonStyleModel",
      "state": {}
     },
     "104eb746bf564b4c8cd82bcbd2d81c9a": {
      "model_module": "@jupyter-widgets/controls",
      "model_module_version": "1.1.0",
      "model_name": "DropdownModel",
      "state": {
       "_options_labels": [
        "NordicSDK"
       ],
       "description": "Target OS",
       "index": 0,
       "layout": "IPY_MODEL_ee073cc9861d42dfa2c936bdcbd5bc65",
       "style": "IPY_MODEL_6bbd1cff3b3b4a2494ea2cf373d61927"
      }
     },
     "121ea0ead6a04e7b8ee009ded1b6bf9a": {
      "model_module": "@jupyter-widgets/controls",
      "model_module_version": "1.1.0",
      "model_name": "DescriptionStyleModel",
      "state": {
       "description_width": ""
      }
     },
     "176e56aa07d94cd3b9a5f40fd00ca96a": {
      "model_module": "@jupyter-widgets/controls",
      "model_module_version": "1.1.0",
      "model_name": "HBoxModel",
      "state": {
       "children": [
        "IPY_MODEL_e7c2f26da5454ac88af695d140881697",
        "IPY_MODEL_a39457a5b9e34d27b494b9ddd2e33893"
       ],
       "layout": "IPY_MODEL_e58166a9f23d407a9d778df21f17c237"
      }
     },
     "18095e323cd94102b9c42755bb32039d": {
      "model_module": "bqplot",
      "model_module_version": "^0.3.2",
      "model_name": "LinearScaleModel",
      "state": {
       "allow_padding": false,
       "max": 1,
       "min": 0,
       "stabilized": false
      }
     },
     "19121cf5a4b1400986ee7e4b64f1a58d": {
      "model_module": "@jupyter-widgets/base",
      "model_module_version": "1.0.0",
      "model_name": "LayoutModel",
      "state": {}
     },
     "1a58e8018f894d60aabdd830201d51dd": {
      "model_module": "@jupyter-widgets/base",
      "model_module_version": "1.0.0",
      "model_name": "LayoutModel",
      "state": {}
     },
     "1a607fadd9e44c99844f7dc4d4593ebe": {
      "model_module": "@jupyter-widgets/base",
      "model_module_version": "1.0.0",
      "model_name": "LayoutModel",
      "state": {
       "align_items": "stretch",
       "border": "solid 2px",
       "display": "flex",
       "flex_flow": "column",
       "overflow": "visible",
       "width": "75%"
      }
     },
     "1d902d0d7edf4ee38099630afe210d3a": {
      "model_module": "@jupyter-widgets/controls",
      "model_module_version": "1.1.0",
      "model_name": "ButtonStyleModel",
      "state": {}
     },
     "1f0819a3137145b398a1c1ea895c1ccf": {
      "model_module": "@jupyter-widgets/controls",
      "model_module_version": "1.1.0",
      "model_name": "ButtonModel",
      "state": {
       "description": "Refresh Models",
       "icon": "0",
       "layout": "IPY_MODEL_93eafaee49c34a67bb677d783c64fe0c",
       "style": "IPY_MODEL_087785d4b81940efa16bd5b64728616a"
      }
     },
     "252d38e9a14b4400aa633e69467f0ae7": {
      "model_module": "@jupyter-widgets/controls",
      "model_module_version": "1.1.0",
      "model_name": "DescriptionStyleModel",
      "state": {
       "description_width": ""
      }
     },
     "26723949dc004625af4daa8936ee71f3": {
      "model_module": "@jupyter-widgets/controls",
      "model_module_version": "1.1.0",
      "model_name": "TextModel",
      "state": {
       "description": "Query Name",
       "layout": "IPY_MODEL_6ab317fb2bf14688b2f8142848fc1860",
       "style": "IPY_MODEL_38f63e9ec4a14c2d8819d2d2228418d7",
       "value": "query_activity"
      }
     },
     "26be86e00cad4d999d693d2ff610def3": {
      "model_module": "@jupyter-widgets/controls",
      "model_module_version": "1.1.0",
      "model_name": "HBoxModel",
      "state": {
       "children": [
        "IPY_MODEL_d45c5cf4a3dc4f89b2e860a338d5e85d",
        "IPY_MODEL_1f0819a3137145b398a1c1ea895c1ccf",
        "IPY_MODEL_41b61106c79d449b963c7b748516e9a6"
       ],
       "layout": "IPY_MODEL_da9defe822bd4b20949cc4cef211cc38"
      }
     },
     "298164d918e54480bfb8c1dc14647653": {
      "model_module": "@jupyter-widgets/base",
      "model_module_version": "1.0.0",
      "model_name": "LayoutModel",
      "state": {}
     },
     "29afa8189c014f2998278706eb14b8c3": {
      "model_module": "@jupyter-widgets/base",
      "model_module_version": "1.0.0",
      "model_name": "LayoutModel",
      "state": {}
     },
     "306d9b4d3c6544de8079507ba3db9c02": {
      "model_module": "@jupyter-widgets/controls",
      "model_module_version": "1.1.0",
      "model_name": "DescriptionStyleModel",
      "state": {
       "description_width": ""
      }
     },
     "30eeaf6e07994700bd5fb05213d410d2": {
      "model_module": "@jupyter-widgets/base",
      "model_module_version": "1.0.0",
      "model_name": "LayoutModel",
      "state": {}
     },
     "32aed60312004129aab597835f42d5df": {
      "model_module": "bqplot",
      "model_module_version": "^0.3.2",
      "model_name": "LinearScaleModel",
      "state": {
       "allow_padding": false,
       "max": 1,
       "min": 0,
       "stabilized": false
      }
     },
     "32c037b413f54e068e0c037c6e5abe21": {
      "model_module": "@jupyter-widgets/base",
      "model_module_version": "1.0.0",
      "model_name": "LayoutModel",
      "state": {}
     },
     "348f6904b53c434d8d3136462cd494d0": {
      "model_module": "@jupyter-widgets/controls",
      "model_module_version": "1.1.0",
      "model_name": "DropdownModel",
      "state": {
       "_options_labels": [
        "Binary",
        "Library"
       ],
       "description": "Download",
       "index": 0,
       "layout": "IPY_MODEL_0b2ea13c5417463fb738e6acf885215f",
       "style": "IPY_MODEL_ccf082f3f0914b15bbeebc40f21434bd"
      }
     },
     "3827c9fa753145328809823bbb4d5369": {
      "model_module": "@jupyter-widgets/controls",
      "model_module_version": "1.1.0",
      "model_name": "ButtonModel",
      "state": {
       "description": "Update Query",
       "layout": "IPY_MODEL_32c037b413f54e068e0c037c6e5abe21",
       "style": "IPY_MODEL_97886fd557584df78244c2e587638e41"
      }
     },
     "38f271f7dd424ad2b1c36c53d72b8183": {
      "model_module": "@jupyter-widgets/controls",
      "model_module_version": "1.1.0",
      "model_name": "HBoxModel",
      "state": {
       "children": [
        "IPY_MODEL_ea501a053bc44dd19891891624e399e3",
        "IPY_MODEL_a6a3fe7b581045cd9c4bc8a4885fdd49"
       ],
       "layout": "IPY_MODEL_e7a27a9cfa8741028259806a5d5c2b82"
      }
     },
     "38f63e9ec4a14c2d8819d2d2228418d7": {
      "model_module": "@jupyter-widgets/controls",
      "model_module_version": "1.1.0",
      "model_name": "DescriptionStyleModel",
      "state": {
       "description_width": ""
      }
     },
     "3bbacb2d81524ed0bb902132ea1319d3": {
      "model_module": "@jupyter-widgets/controls",
      "model_module_version": "1.1.0",
      "model_name": "DropdownModel",
      "state": {
       "_options_labels": [
        "Activity",
        "Subject"
       ],
       "description": "Label",
       "index": 0,
       "layout": "IPY_MODEL_7f8a216953c746e285398f7cb759496e",
       "style": "IPY_MODEL_bc96024763ab466d8454a7cb04f9f196"
      }
     },
     "3d5dbfea012e4269b6be7bb738a74ddc": {
      "model_module": "@jupyter-widgets/controls",
      "model_module_version": "1.1.0",
      "model_name": "DropdownModel",
      "state": {
       "_options_labels": [
        "Activity",
        "Subject"
       ],
       "description": "Label",
       "index": 0,
       "layout": "IPY_MODEL_ea889ca601ef4d0fb67c8d5dfd6fe7bd",
       "style": "IPY_MODEL_aa05f7ed460d4b55b35aab69cfbdf9ba"
      }
     },
     "3d979fe77da946118636eb90d4700c2b": {
      "model_module": "@jupyter-widgets/controls",
      "model_module_version": "1.1.0",
      "model_name": "DropdownModel",
      "state": {
       "_options_labels": [
        "Manual"
       ],
       "description": "Segmenter",
       "index": 0,
       "layout": "IPY_MODEL_a7c0a4ddb16648439b26f5d5f6bbc7d1",
       "style": "IPY_MODEL_252d38e9a14b4400aa633e69467f0ae7"
      }
     },
     "3f1a9a1bb3cc49b5abe4490ef8ef0528": {
      "model_module": "@jupyter-widgets/controls",
      "model_module_version": "1.1.0",
      "model_name": "ButtonModel",
      "state": {
       "description": "Add Query",
       "layout": "IPY_MODEL_db15c8b5a2244c1c854bf167045e8cff",
       "style": "IPY_MODEL_bbf7fc62a1ba439ea91997935e5d4c42"
      }
     },
     "404237f7535a434197e35a7ea0ca646e": {
      "model_module": "bqplot",
      "model_module_version": "^0.3.2",
      "model_name": "OrdinalScaleModel",
      "state": {
       "domain": []
      }
     },
     "41b61106c79d449b963c7b748516e9a6": {
      "model_module": "@jupyter-widgets/controls",
      "model_module_version": "1.1.0",
      "model_name": "ButtonModel",
      "state": {
       "description": "Generate Knowledgepack",
       "icon": "0",
       "layout": "IPY_MODEL_93eafaee49c34a67bb677d783c64fe0c",
       "style": "IPY_MODEL_75734a602fb2404db6a50f933cfc0460"
      }
     },
     "42c96ce6b7ea4653a54b409547d73d51": {
      "model_module": "@jupyter-widgets/controls",
      "model_module_version": "1.1.0",
      "model_name": "DescriptionStyleModel",
      "state": {
       "description_width": ""
      }
     },
     "4844b9fab37a4e959c4a636fba00cd4e": {
      "model_module": "@jupyter-widgets/controls",
      "model_module_version": "1.1.0",
      "model_name": "VBoxModel",
      "state": {
       "children": [
        "IPY_MODEL_bb4493787c634f93856790363b3b8e8c",
        "IPY_MODEL_26723949dc004625af4daa8936ee71f3",
        "IPY_MODEL_3d979fe77da946118636eb90d4700c2b",
        "IPY_MODEL_3d5dbfea012e4269b6be7bb738a74ddc",
        "IPY_MODEL_4d745bec2a464165b5dfa7b6dae27336",
        "IPY_MODEL_a43a04ca9d524e5bb87e8242777b7e4e",
        "IPY_MODEL_f52825ef2a1244838fde5201f2dbf27c",
        "IPY_MODEL_70e2e4d2d0b44453b059d652b9f283b9"
       ],
       "layout": "IPY_MODEL_9d76dcb11ddf4037a80410b18be38f0b"
      }
     },
     "486d8b6dd6954dc6aa38a1e541df95c3": {
      "model_module": "@jupyter-widgets/base",
      "model_module_version": "1.0.0",
      "model_name": "LayoutModel",
      "state": {}
     },
     "4942cbd455cf460fb552db72389efb3b": {
      "model_module": "@jupyter-widgets/controls",
      "model_module_version": "1.1.0",
      "model_name": "DescriptionStyleModel",
      "state": {
       "description_width": ""
      }
     },
     "49e61dae24c6434185a9155a67297cec": {
      "model_module": "@jupyter-widgets/controls",
      "model_module_version": "1.1.0",
      "model_name": "HBoxModel",
      "state": {
       "children": [
        "IPY_MODEL_72868457600e4a9c888b402620f2aa6c",
        "IPY_MODEL_946cdb9489d44897a8cca7eca326f78a"
       ],
       "layout": "IPY_MODEL_1a58e8018f894d60aabdd830201d51dd"
      }
     },
     "4a9367f2bc1a4bee9fe05c31dd1e3e5b": {
      "model_module": "@jupyter-widgets/controls",
      "model_module_version": "1.1.0",
      "model_name": "DescriptionStyleModel",
      "state": {
       "description_width": ""
      }
     },
     "4afa335a0c3f4adc894dee9aceff2779": {
      "model_module": "@jupyter-widgets/controls",
      "model_module_version": "1.1.0",
      "model_name": "ButtonStyleModel",
      "state": {}
     },
     "4b6679ecf12c409a97c15693517b156f": {
      "model_module": "@jupyter-widgets/base",
      "model_module_version": "1.0.0",
      "model_name": "LayoutModel",
      "state": {}
     },
     "4cb4c65b9707426bba09c98e28ad0016": {
      "model_module": "@jupyter-widgets/controls",
      "model_module_version": "1.1.0",
      "model_name": "HBoxModel",
      "state": {
       "children": [
        "IPY_MODEL_d0c0e3c5cd224c4188a213772595d67b",
        "IPY_MODEL_bd64679f0567467a8db39163c1b0cc2d",
        "IPY_MODEL_97fdc2e8fa624986b608b43f125250b6"
       ],
       "layout": "IPY_MODEL_4b6679ecf12c409a97c15693517b156f"
      }
     },
     "4d745bec2a464165b5dfa7b6dae27336": {
      "model_module": "@jupyter-widgets/controls",
      "model_module_version": "1.1.0",
      "model_name": "SelectMultipleModel",
      "state": {
       "_options_labels": [
        "Activity",
        "Subject"
       ],
       "description": "Metadtata",
       "index": [
        1
       ],
       "layout": "IPY_MODEL_88ad10e96fb34f47abe76dc49eb3c19a",
       "rows": 5,
       "style": "IPY_MODEL_121ea0ead6a04e7b8ee009ded1b6bf9a"
      }
     },
     "4d90cef7e21f42f2a4e721a079274606": {
      "model_module": "@jupyter-widgets/base",
      "model_module_version": "1.0.0",
      "model_name": "LayoutModel",
      "state": {}
     },
     "4f2fe699f5d7488ebe9bd521df02d392": {
      "model_module": "@jupyter-widgets/controls",
      "model_module_version": "1.1.0",
      "model_name": "DescriptionStyleModel",
      "state": {
       "description_width": ""
      }
     },
     "548c4f3d2e6644d48f0a1c1ce2e9c993": {
      "model_module": "@jupyter-widgets/controls",
      "model_module_version": "1.1.0",
      "model_name": "DropdownModel",
      "state": {
       "_options_labels": [
        "",
        "Q1",
        "query_activity_demo",
        "query_activity_wrist_twist",
        "query_activity",
        "query",
        "query_activity_test"
       ],
       "description": "Select Query",
       "index": 4,
       "layout": "IPY_MODEL_8da191da50c04fa3bb88fcd9fb68521b",
       "style": "IPY_MODEL_bcc9d9e3c868414c98d864040be1fbed"
      }
     },
     "5669ad608e4e4cb8842c78724dc73633": {
      "model_module": "@jupyter-widgets/base",
      "model_module_version": "1.0.0",
      "model_name": "LayoutModel",
      "state": {
       "border": "outset",
       "width": "100%"
      }
     },
     "5b83eda16d094837a5433c9f0af54c0b": {
      "model_module": "@jupyter-widgets/base",
      "model_module_version": "1.0.0",
      "model_name": "LayoutModel",
      "state": {}
     },
     "619246467215478b97a2980432671c26": {
      "model_module": "@jupyter-widgets/controls",
      "model_module_version": "1.1.0",
      "model_name": "ButtonModel",
      "state": {
       "description": "Add Query",
       "layout": "IPY_MODEL_4d90cef7e21f42f2a4e721a079274606",
       "style": "IPY_MODEL_4afa335a0c3f4adc894dee9aceff2779"
      }
     },
     "624bcbd6e8c34c99bcd599139565f832": {
      "model_module": "bqplot",
      "model_module_version": "^0.3.2",
      "model_name": "AxisModel",
      "state": {
       "scale": "IPY_MODEL_cf9f6110457a49ac9d26b9479055a60b",
       "side": "bottom",
       "tick_values": {
        "type": "<U17",
        "values": [
         "counter-clockwise",
         "shake",
         "wrist twist"
        ]
       }
      }
     },
     "636866961abe46f49a482faf2a44975c": {
      "model_module": "@jupyter-widgets/controls",
      "model_module_version": "1.1.0",
      "model_name": "DescriptionStyleModel",
      "state": {
       "description_width": ""
      }
     },
     "64fd6d4f533a456b8542849fc9376cba": {
      "model_module": "@jupyter-widgets/controls",
      "model_module_version": "1.1.0",
      "model_name": "DescriptionStyleModel",
      "state": {
       "description_width": ""
      }
     },
     "6ab317fb2bf14688b2f8142848fc1860": {
      "model_module": "@jupyter-widgets/base",
      "model_module_version": "1.0.0",
      "model_name": "LayoutModel",
      "state": {}
     },
     "6b5da28dea42427b9584aeb6b80a780f": {
      "model_module": "bqplot",
      "model_module_version": "^0.3.2",
      "model_name": "BarsModel",
      "state": {
       "color": {
        "type": null,
        "values": null
       },
       "color_mode": "group",
       "colors": [
        "steelblue"
       ],
       "display_legend": false,
       "scales": {
        "x": "IPY_MODEL_cf9f6110457a49ac9d26b9479055a60b",
        "y": "IPY_MODEL_89ee0208ff754d10a1d5c79d8104ec7c"
       },
       "selected": [],
       "x": {
        "type": "<U17",
        "values": [
         "counter-clockwise",
         "shake",
         "wrist twist"
        ]
       },
       "y": {
        "type": "float",
        "values": [
         1,
         1,
         1
        ]
       }
      }
     },
     "6b9d656acdeb4d77bae945ffe4cb7a65": {
      "model_module": "@jupyter-widgets/base",
      "model_module_version": "1.0.0",
      "model_name": "LayoutModel",
      "state": {}
     },
     "6bbd1cff3b3b4a2494ea2cf373d61927": {
      "model_module": "@jupyter-widgets/controls",
      "model_module_version": "1.1.0",
      "model_name": "DescriptionStyleModel",
      "state": {
       "description_width": ""
      }
     },
     "6cc3e593c2204a31bd1166ca97f1a996": {
      "model_module": "bqplot",
      "model_module_version": "^0.3.2",
      "model_name": "LinearScaleModel",
      "state": {
       "allow_padding": false,
       "max": 1,
       "min": 0,
       "stabilized": false
      }
     },
     "6dc31ade580a481d8569beb7151dd444": {
      "model_module": "@jupyter-widgets/controls",
      "model_module_version": "1.1.0",
      "model_name": "VBoxModel",
      "state": {
       "children": [
        "IPY_MODEL_fe5247bd86d046f68b77fcfaaf9d15ca",
        "IPY_MODEL_94c52d6ee1654be181c8a5a38ad0583a",
        "IPY_MODEL_0b2bbd519c1841a0ac2a4b0f63e69295"
       ],
       "layout": "IPY_MODEL_e0ca1de42f724fd281bc0e3477907e4c"
      }
     },
     "6de7334fe3204022b66e9b7928a5c15d": {
      "model_module": "@jupyter-widgets/controls",
      "model_module_version": "1.1.0",
      "model_name": "HBoxModel",
      "state": {
       "children": [
        "IPY_MODEL_619246467215478b97a2980432671c26",
        "IPY_MODEL_3827c9fa753145328809823bbb4d5369"
       ],
       "layout": "IPY_MODEL_8ae7aa22603b4f82b4f1bcf3c53ff5c8"
      }
     },
     "6eb92b63cec64cf1accbee05f30fea40": {
      "model_module": "@jupyter-widgets/controls",
      "model_module_version": "1.1.0",
      "model_name": "DropdownModel",
      "state": {
       "_options_labels": [
        "Curie Reference 4.1",
        "Nordic Thingy 2.1",
        "Amulet 4.1"
       ],
       "description": "Platform",
       "index": 0,
       "layout": "IPY_MODEL_b051ffa737614fbb895d71fdf458e741",
       "style": "IPY_MODEL_0460f9e2e6644d72801e6e1411c95c72"
      }
     },
     "6f4e6c79837b4d12bbaa667fddb93c1b": {
      "model_module": "@jupyter-widgets/base",
      "model_module_version": "1.0.0",
      "model_name": "LayoutModel",
      "state": {}
     },
     "70e2e4d2d0b44453b059d652b9f283b9": {
      "model_module": "@jupyter-widgets/controls",
      "model_module_version": "1.1.0",
      "model_name": "HBoxModel",
      "state": {
       "children": [
        "IPY_MODEL_3f1a9a1bb3cc49b5abe4490ef8ef0528",
        "IPY_MODEL_9ed3a6c595ac4bce91e36d4061257598"
       ],
       "layout": "IPY_MODEL_8e8712d58aed4fde9b56c02c34371e5b"
      }
     },
     "71ebbec26b5d4df290c29f7016d0167a": {
      "model_module": "@jupyter-widgets/controls",
      "model_module_version": "1.1.0",
      "model_name": "DescriptionStyleModel",
      "state": {
       "description_width": ""
      }
     },
     "72868457600e4a9c888b402620f2aa6c": {
      "model_module": "@jupyter-widgets/controls",
      "model_module_version": "1.1.0",
      "model_name": "DropdownModel",
      "state": {
       "description": "Binary",
       "index": null,
       "layout": "IPY_MODEL_9399ca86d97348ea99ba02e64853315b",
       "style": "IPY_MODEL_ea732ad38f5b474b91aac6cced2ca7a9"
      }
     },
     "75247013dc6d4df4b1f2b7fa873e7e24": {
      "model_module": "@jupyter-widgets/controls",
      "model_module_version": "1.1.0",
      "model_name": "HBoxModel",
      "state": {
       "children": [
        "IPY_MODEL_90469c0f8a6b4ee6bc15c01f9e38527a",
        "IPY_MODEL_6dc31ade580a481d8569beb7151dd444",
        "IPY_MODEL_bf31f268c00248448587a0a78ace3891"
       ],
       "layout": "IPY_MODEL_9d4928fac51046678a21d5772d98bf64"
      }
     },
     "75734a602fb2404db6a50f933cfc0460": {
      "model_module": "@jupyter-widgets/controls",
      "model_module_version": "1.1.0",
      "model_name": "ButtonStyleModel",
      "state": {}
     },
     "7bc495bc7ae04424be520b98137b5491": {
      "model_module": "@jupyter-widgets/controls",
      "model_module_version": "1.1.0",
      "model_name": "VBoxModel",
      "state": {
       "children": [
        "IPY_MODEL_38f271f7dd424ad2b1c36c53d72b8183",
        "IPY_MODEL_49e61dae24c6434185a9155a67297cec",
        "IPY_MODEL_4cb4c65b9707426bba09c98e28ad0016"
       ],
       "layout": "IPY_MODEL_e53188dc4cfc488191fa70668618d149"
      }
     },
     "7db6938b6da346858baab9b41ed00ec5": {
      "model_module": "@jupyter-widgets/base",
      "model_module_version": "1.0.0",
      "model_name": "LayoutModel",
      "state": {
       "visibility": "hidden"
      }
     },
     "7f3be17f857e459d9fbc561abbffd407": {
      "model_module": "bqplot",
      "model_module_version": "^0.3.2",
      "model_name": "FigureModel",
      "state": {
       "_dom_classes": [],
       "axes": [
        "IPY_MODEL_c3bacf9db4d04e5cacb941b554a25ebb",
        "IPY_MODEL_f4909a8596e949c8a877f8cc4e24abee"
       ],
       "background_style": {
        "fill": "white"
       },
       "fig_margin": {
        "bottom": 30,
        "left": 50,
        "right": 0,
        "top": 10
       },
       "layout": "IPY_MODEL_ad4c377a98e54c938ce1faa869213284",
       "legend_location": "bottom-right",
       "marks": [
        "IPY_MODEL_847e9102fe1a40b7ab026c919e658af8"
       ],
       "max_aspect_ratio": 6,
       "scale_x": "IPY_MODEL_6cc3e593c2204a31bd1166ca97f1a996",
       "scale_y": "IPY_MODEL_eb5a8a4032144838ac945db463fdc5e6"
      }
     },
     "7f8a216953c746e285398f7cb759496e": {
      "model_module": "@jupyter-widgets/base",
      "model_module_version": "1.0.0",
      "model_name": "LayoutModel",
      "state": {}
     },
     "804aaa43e6f14b2b931241cd82e433cf": {
      "model_module": "@jupyter-widgets/base",
      "model_module_version": "1.0.0",
      "model_name": "LayoutModel",
      "state": {}
     },
     "834e21dc99de41b4a2dcd34d8e7e45b6": {
      "model_module": "@jupyter-widgets/controls",
      "model_module_version": "1.1.0",
      "model_name": "DescriptionStyleModel",
      "state": {
       "description_width": ""
      }
     },
     "847e9102fe1a40b7ab026c919e658af8": {
      "model_module": "bqplot",
      "model_module_version": "^0.3.2",
      "model_name": "BarsModel",
      "state": {
       "color": {
        "type": null,
        "values": null
       },
       "color_mode": "group",
       "colors": [
        "steelblue"
       ],
       "display_legend": false,
       "scales": {
        "x": "IPY_MODEL_404237f7535a434197e35a7ea0ca646e",
        "y": "IPY_MODEL_a234e8968b464ff98424d074bc52bd70"
       },
       "selected": [],
       "x": {
        "type": "<U17",
        "values": [
         "counter-clockwise",
         "shake",
         "wrist twist"
        ]
       },
       "y": {
        "type": "float",
        "values": [
         1,
         1,
         1
        ]
       }
      }
     },
     "852f7328de6a45b59093b7de9d951d01": {
      "model_module": "@jupyter-widgets/base",
      "model_module_version": "1.0.0",
      "model_name": "LayoutModel",
      "state": {}
     },
     "86096e415fe84ae8839e08fdfeeb54fe": {
      "model_module": "@jupyter-widgets/base",
      "model_module_version": "1.0.0",
      "model_name": "LayoutModel",
      "state": {
       "border": "solid 2px",
       "display": "flex",
       "flex_flow": "row",
       "justify_content": "center",
       "overflow": "visible"
      }
     },
     "864c7df2800b4fb28927225dba46c8cf": {
      "model_module": "@jupyter-widgets/base",
      "model_module_version": "1.0.0",
      "model_name": "LayoutModel",
      "state": {}
     },
     "88ad10e96fb34f47abe76dc49eb3c19a": {
      "model_module": "@jupyter-widgets/base",
      "model_module_version": "1.0.0",
      "model_name": "LayoutModel",
      "state": {}
     },
     "89ee0208ff754d10a1d5c79d8104ec7c": {
      "model_module": "bqplot",
      "model_module_version": "^0.3.2",
      "model_name": "LinearScaleModel",
      "state": {
       "min": 0,
       "stabilized": false
      }
     },
     "8a618904ff634ceaaeb490bca3016a5a": {
      "model_module": "@jupyter-widgets/controls",
      "model_module_version": "1.1.0",
      "model_name": "ButtonStyleModel",
      "state": {}
     },
     "8ae7aa22603b4f82b4f1bcf3c53ff5c8": {
      "model_module": "@jupyter-widgets/base",
      "model_module_version": "1.0.0",
      "model_name": "LayoutModel",
      "state": {}
     },
     "8c9ae386ada841498293aca6fa94b783": {
      "model_module": "@jupyter-widgets/base",
      "model_module_version": "1.0.0",
      "model_name": "LayoutModel",
      "state": {
       "justify_content": "flex-start",
       "overflow": "visible"
      }
     },
     "8da191da50c04fa3bb88fcd9fb68521b": {
      "model_module": "@jupyter-widgets/base",
      "model_module_version": "1.0.0",
      "model_name": "LayoutModel",
      "state": {}
     },
     "8ddb1ac40f89460c8e3be9d5c5fa664c": {
      "model_module": "@jupyter-widgets/base",
      "model_module_version": "1.0.0",
      "model_name": "LayoutModel",
      "state": {}
     },
     "8e8712d58aed4fde9b56c02c34371e5b": {
      "model_module": "@jupyter-widgets/base",
      "model_module_version": "1.0.0",
      "model_name": "LayoutModel",
      "state": {}
     },
     "8eeae19f96754a1fbfb858a5cb94d211": {
      "model_module": "@jupyter-widgets/controls",
      "model_module_version": "1.1.0",
      "model_name": "DropdownModel",
      "state": {
       "_options_labels": [
        "Manual"
       ],
       "description": "Segmenter",
       "index": 0,
       "layout": "IPY_MODEL_864c7df2800b4fb28927225dba46c8cf",
       "style": "IPY_MODEL_f851e790f2d6448b81cadcf1ab63b4f1"
      }
     },
     "90469c0f8a6b4ee6bc15c01f9e38527a": {
      "model_module": "@jupyter-widgets/controls",
      "model_module_version": "1.1.0",
      "model_name": "VBoxModel",
      "state": {
       "children": [
        "IPY_MODEL_b4e5cec6f62c4624af2f87d247162659",
        "IPY_MODEL_104eb746bf564b4c8cd82bcbd2d81c9a",
        "IPY_MODEL_348f6904b53c434d8d3136462cd494d0"
       ],
       "layout": "IPY_MODEL_6f4e6c79837b4d12bbaa667fddb93c1b"
      }
     },
     "9399ca86d97348ea99ba02e64853315b": {
      "model_module": "@jupyter-widgets/base",
      "model_module_version": "1.0.0",
      "model_name": "LayoutModel",
      "state": {
       "width": "550px"
      }
     },
     "93eafaee49c34a67bb677d783c64fe0c": {
      "model_module": "@jupyter-widgets/base",
      "model_module_version": "1.0.0",
      "model_name": "LayoutModel",
      "state": {
       "align_items": "flex-start",
       "border": "solid 2px",
       "display": "flex",
       "flex_flow": "column",
       "justify_content": "center",
       "overflow": "visible",
       "width": "25%"
      }
     },
     "94023c0c4ca24a7793b586adee214dab": {
      "model_module": "@jupyter-widgets/controls",
      "model_module_version": "1.1.0",
      "model_name": "TextModel",
      "state": {
       "description": "Query Name",
       "layout": "IPY_MODEL_804aaa43e6f14b2b931241cd82e433cf",
       "style": "IPY_MODEL_4a9367f2bc1a4bee9fe05c31dd1e3e5b",
       "value": "query_activity"
      }
     },
     "946cdb9489d44897a8cca7eca326f78a": {
      "model_module": "@jupyter-widgets/controls",
      "model_module_version": "1.1.0",
      "model_name": "ButtonModel",
      "state": {
       "description": "Refresh",
       "layout": "IPY_MODEL_a0aa42406c8346c2b431e03865c6d265",
       "style": "IPY_MODEL_1d902d0d7edf4ee38099630afe210d3a"
      }
     },
     "94c52d6ee1654be181c8a5a38ad0583a": {
      "model_module": "@jupyter-widgets/controls",
      "model_module_version": "1.1.0",
      "model_name": "DropdownModel",
      "state": {
       "_options_labels": [
        "True",
        "False"
       ],
       "description": "Debug",
       "index": 0,
       "layout": "IPY_MODEL_852f7328de6a45b59093b7de9d951d01",
       "style": "IPY_MODEL_834e21dc99de41b4a2dcd34d8e7e45b6"
      }
     },
     "97886fd557584df78244c2e587638e41": {
      "model_module": "@jupyter-widgets/controls",
      "model_module_version": "1.1.0",
      "model_name": "ButtonStyleModel",
      "state": {}
     },
     "97fdc2e8fa624986b608b43f125250b6": {
      "model_module": "@jupyter-widgets/controls",
      "model_module_version": "1.1.0",
      "model_name": "ButtonModel",
      "state": {
       "description": "Generate OTA",
       "layout": "IPY_MODEL_7db6938b6da346858baab9b41ed00ec5",
       "style": "IPY_MODEL_0f05536b6fba49d5ac2a3bb473c12129"
      }
     },
     "9c20ebc6fb5749168a2f67cbbc6c2cf9": {
      "model_module": "@jupyter-widgets/controls",
      "model_module_version": "1.1.0",
      "model_name": "TextModel",
      "state": {
       "description": "Query Filter",
       "layout": "IPY_MODEL_29afa8189c014f2998278706eb14b8c3",
       "style": "IPY_MODEL_71ebbec26b5d4df290c29f7016d0167a"
      }
     },
     "9d4928fac51046678a21d5772d98bf64": {
      "model_module": "@jupyter-widgets/base",
      "model_module_version": "1.0.0",
      "model_name": "LayoutModel",
      "state": {}
     },
     "9d76dcb11ddf4037a80410b18be38f0b": {
      "model_module": "@jupyter-widgets/base",
      "model_module_version": "1.0.0",
      "model_name": "LayoutModel",
      "state": {}
     },
     "9ed3a6c595ac4bce91e36d4061257598": {
      "model_module": "@jupyter-widgets/controls",
      "model_module_version": "1.1.0",
      "model_name": "ButtonModel",
      "state": {
       "description": "Update Query",
       "layout": "IPY_MODEL_db28933e4df64b74939cb7ef7c9806eb",
       "style": "IPY_MODEL_8a618904ff634ceaaeb490bca3016a5a"
      }
     },
     "9f2bd61f89bd41d6b108255c09960941": {
      "model_module": "@jupyter-widgets/controls",
      "model_module_version": "1.1.0",
      "model_name": "VBoxModel",
      "state": {
       "children": [
        "IPY_MODEL_26be86e00cad4d999d693d2ff610def3",
        "IPY_MODEL_cd82f8244c8547b2844d527f110d3e76",
        "IPY_MODEL_75247013dc6d4df4b1f2b7fa873e7e24"
       ],
       "layout": "IPY_MODEL_486d8b6dd6954dc6aa38a1e541df95c3"
      }
     },
     "a0aa42406c8346c2b431e03865c6d265": {
      "model_module": "@jupyter-widgets/base",
      "model_module_version": "1.0.0",
      "model_name": "LayoutModel",
      "state": {}
     },
     "a234e8968b464ff98424d074bc52bd70": {
      "model_module": "bqplot",
      "model_module_version": "^0.3.2",
      "model_name": "LinearScaleModel",
      "state": {
       "min": 0,
       "stabilized": false
      }
     },
     "a39457a5b9e34d27b494b9ddd2e33893": {
      "model_module": "bqplot",
      "model_module_version": "^0.3.2",
      "model_name": "FigureModel",
      "state": {
       "_dom_classes": [],
       "axes": [
        "IPY_MODEL_624bcbd6e8c34c99bcd599139565f832",
        "IPY_MODEL_d56da2c2dd7342679c33dec4ebc0556e"
       ],
       "background_style": {
        "fill": "white"
       },
       "fig_margin": {
        "bottom": 30,
        "left": 50,
        "right": 0,
        "top": 10
       },
       "layout": "IPY_MODEL_c66c26f07a6c49798ecc3a22d20761d8",
       "legend_location": "bottom-right",
       "marks": [
        "IPY_MODEL_6b5da28dea42427b9584aeb6b80a780f"
       ],
       "max_aspect_ratio": 6,
       "scale_x": "IPY_MODEL_32aed60312004129aab597835f42d5df",
       "scale_y": "IPY_MODEL_18095e323cd94102b9c42755bb32039d"
      }
     },
     "a43a04ca9d524e5bb87e8242777b7e4e": {
      "model_module": "@jupyter-widgets/controls",
      "model_module_version": "1.1.0",
      "model_name": "SelectMultipleModel",
      "state": {
       "_options_labels": [
        "AccelerometerX",
        "AccelerometerY",
        "AccelerometerZ",
        "GyroscopeX",
        "GyroscopeY",
        "GyroscopeZ"
       ],
       "description": "Sources",
       "index": [
        0,
        1,
        2,
        3,
        4,
        5
       ],
       "layout": "IPY_MODEL_c3e04458169b4b10905c240b6926ff10",
       "rows": 5,
       "style": "IPY_MODEL_c7497fe292cd4bb0a275589ccb1b556a"
      }
     },
     "a6a3fe7b581045cd9c4bc8a4885fdd49": {
      "model_module": "@jupyter-widgets/controls",
      "model_module_version": "1.1.0",
      "model_name": "LabelModel",
      "state": {
       "layout": "IPY_MODEL_c6439e81977f4aa581c1a74b6580479d",
       "style": "IPY_MODEL_0943fecc4faf455bb25d3f99e17fc265",
       "value": "Curie Reference Board, Using Intel Software Platform for Curie v4.1.x"
      }
     },
     "a7c0a4ddb16648439b26f5d5f6bbc7d1": {
      "model_module": "@jupyter-widgets/base",
      "model_module_version": "1.0.0",
      "model_name": "LayoutModel",
      "state": {}
     },
     "aa05f7ed460d4b55b35aab69cfbdf9ba": {
      "model_module": "@jupyter-widgets/controls",
      "model_module_version": "1.1.0",
      "model_name": "DescriptionStyleModel",
      "state": {
       "description_width": ""
      }
     },
     "aaf7bd5b531a4e14b1eddb8d9e60f012": {
      "model_module": "@jupyter-widgets/controls",
      "model_module_version": "1.1.0",
      "model_name": "DescriptionStyleModel",
      "state": {
       "description_width": ""
      }
     },
     "ad4c377a98e54c938ce1faa869213284": {
      "model_module": "@jupyter-widgets/base",
      "model_module_version": "1.0.0",
      "model_name": "LayoutModel",
      "state": {
       "height": "400px",
       "min_width": "125px",
       "width": "560px"
      }
     },
     "b051ffa737614fbb895d71fdf458e741": {
      "model_module": "@jupyter-widgets/base",
      "model_module_version": "1.0.0",
      "model_name": "LayoutModel",
      "state": {}
     },
     "b4e5cec6f62c4624af2f87d247162659": {
      "model_module": "@jupyter-widgets/controls",
      "model_module_version": "1.1.0",
      "model_name": "DropdownModel",
      "state": {
       "_options_labels": [
        "Curie Reference 4.1",
        "Nordic Thingy 2.1",
        "Amulet 4.1"
       ],
       "description": "HW Platform",
       "index": 1,
       "layout": "IPY_MODEL_bad82c21490c4c059cf06ef05915bfda",
       "style": "IPY_MODEL_306d9b4d3c6544de8079507ba3db9c02"
      }
     },
     "bad82c21490c4c059cf06ef05915bfda": {
      "model_module": "@jupyter-widgets/base",
      "model_module_version": "1.0.0",
      "model_name": "LayoutModel",
      "state": {}
     },
     "bb4493787c634f93856790363b3b8e8c": {
      "model_module": "@jupyter-widgets/controls",
      "model_module_version": "1.1.0",
      "model_name": "DropdownModel",
      "state": {
       "_options_labels": [
        "",
        "Q1",
        "query_activity_demo",
        "query_activity_wrist_twist",
        "query_activity",
        "query",
        "query_activity_test"
       ],
       "description": "Select Query",
       "index": 4,
       "layout": "IPY_MODEL_5b83eda16d094837a5433c9f0af54c0b",
       "style": "IPY_MODEL_636866961abe46f49a482faf2a44975c"
      }
     },
     "bbf7fc62a1ba439ea91997935e5d4c42": {
      "model_module": "@jupyter-widgets/controls",
      "model_module_version": "1.1.0",
      "model_name": "ButtonStyleModel",
      "state": {}
     },
     "bc21f7d1ce5f49e98b5fe9548e2c460b": {
      "model_module": "@jupyter-widgets/controls",
      "model_module_version": "1.1.0",
      "model_name": "DescriptionStyleModel",
      "state": {
       "description_width": ""
      }
     },
     "bc96024763ab466d8454a7cb04f9f196": {
      "model_module": "@jupyter-widgets/controls",
      "model_module_version": "1.1.0",
      "model_name": "DescriptionStyleModel",
      "state": {
       "description_width": ""
      }
     },
     "bcc9d9e3c868414c98d864040be1fbed": {
      "model_module": "@jupyter-widgets/controls",
      "model_module_version": "1.1.0",
      "model_name": "DescriptionStyleModel",
      "state": {
       "description_width": ""
      }
     },
     "bd64679f0567467a8db39163c1b0cc2d": {
      "model_module": "@jupyter-widgets/controls",
      "model_module_version": "1.1.0",
      "model_name": "ButtonModel",
      "state": {
       "description": "Flash",
       "layout": "IPY_MODEL_30eeaf6e07994700bd5fb05213d410d2",
       "style": "IPY_MODEL_f95ccbfb3b6543e7bc8d745c73e83a42"
      }
     },
     "bf31f268c00248448587a0a78ace3891": {
      "model_module": "@jupyter-widgets/controls",
      "model_module_version": "1.1.0",
      "model_name": "SelectMultipleModel",
      "state": {
       "_options_labels": [
        "ble",
        "led",
        "serial"
       ],
       "description": "Output",
       "index": [
        0
       ],
       "layout": "IPY_MODEL_19121cf5a4b1400986ee7e4b64f1a58d",
       "rows": 5,
       "style": "IPY_MODEL_cb522c0ea10f4d319b1e7cf8c798a14a"
      }
     },
     "bf560fae76af4e3bb4dd9066f80f4833": {
      "model_module": "@jupyter-widgets/base",
      "model_module_version": "1.0.0",
      "model_name": "LayoutModel",
      "state": {}
     },
     "c0e6c5f116f54de29a4fd0bf0cfd4c30": {
      "model_module": "@jupyter-widgets/base",
      "model_module_version": "1.0.0",
      "model_name": "LayoutModel",
      "state": {}
     },
     "c3bacf9db4d04e5cacb941b554a25ebb": {
      "model_module": "bqplot",
      "model_module_version": "^0.3.2",
      "model_name": "AxisModel",
      "state": {
       "scale": "IPY_MODEL_404237f7535a434197e35a7ea0ca646e",
       "side": "bottom",
       "tick_values": {
        "type": "<U17",
        "values": [
         "counter-clockwise",
         "shake",
         "wrist twist"
        ]
       }
      }
     },
     "c3e04458169b4b10905c240b6926ff10": {
      "model_module": "@jupyter-widgets/base",
      "model_module_version": "1.0.0",
      "model_name": "LayoutModel",
      "state": {}
     },
     "c6439e81977f4aa581c1a74b6580479d": {
      "model_module": "@jupyter-widgets/base",
      "model_module_version": "1.0.0",
      "model_name": "LayoutModel",
      "state": {
       "width": "400px"
      }
     },
     "c66c26f07a6c49798ecc3a22d20761d8": {
      "model_module": "@jupyter-widgets/base",
      "model_module_version": "1.0.0",
      "model_name": "LayoutModel",
      "state": {
       "height": "400px",
       "min_width": "125px",
       "width": "560px"
      }
     },
     "c7497fe292cd4bb0a275589ccb1b556a": {
      "model_module": "@jupyter-widgets/controls",
      "model_module_version": "1.1.0",
      "model_name": "DescriptionStyleModel",
      "state": {
       "description_width": ""
      }
     },
     "c749b5c6315b49f2b080edc26cb30b24": {
      "model_module": "@jupyter-widgets/base",
      "model_module_version": "1.0.0",
      "model_name": "LayoutModel",
      "state": {
       "display": "flex",
       "flex_flow": "row",
       "justify_content": "space-between",
       "overflow": "visible"
      }
     },
     "cb522c0ea10f4d319b1e7cf8c798a14a": {
      "model_module": "@jupyter-widgets/controls",
      "model_module_version": "1.1.0",
      "model_name": "DescriptionStyleModel",
      "state": {
       "description_width": ""
      }
     },
     "ccf082f3f0914b15bbeebc40f21434bd": {
      "model_module": "@jupyter-widgets/controls",
      "model_module_version": "1.1.0",
      "model_name": "DescriptionStyleModel",
      "state": {
       "description_width": ""
      }
     },
     "cd82f8244c8547b2844d527f110d3e76": {
      "model_module": "@jupyter-widgets/controls",
      "model_module_version": "1.1.0",
      "model_name": "LabelModel",
      "state": {
       "layout": "IPY_MODEL_8c9ae386ada841498293aca6fa94b783",
       "style": "IPY_MODEL_64fd6d4f533a456b8542849fc9376cba",
       "value": "Download Settings"
      }
     },
     "cf9f6110457a49ac9d26b9479055a60b": {
      "model_module": "bqplot",
      "model_module_version": "^0.3.2",
      "model_name": "OrdinalScaleModel",
      "state": {
       "domain": []
      }
     },
     "cfab5956f6304b76a7119b56d467eae3": {
      "model_module": "@jupyter-widgets/controls",
      "model_module_version": "1.1.0",
      "model_name": "DescriptionStyleModel",
      "state": {
       "description_width": ""
      }
     },
     "d0c0e3c5cd224c4188a213772595d67b": {
      "model_module": "@jupyter-widgets/controls",
      "model_module_version": "1.1.0",
      "model_name": "DropdownModel",
      "state": {
       "_options_labels": [
        "Platform Flash Tool"
       ],
       "description": "Flash Method",
       "index": 0,
       "layout": "IPY_MODEL_febd1ca5d75e421bb5da59cea0c9c4e6",
       "style": "IPY_MODEL_4f2fe699f5d7488ebe9bd521df02d392"
      }
     },
     "d33079a374734954b8df7211854b1879": {
      "model_module": "@jupyter-widgets/controls",
      "model_module_version": "1.1.0",
      "model_name": "DescriptionStyleModel",
      "state": {
       "description_width": ""
      }
     },
     "d45c5cf4a3dc4f89b2e860a338d5e85d": {
      "model_module": "@jupyter-widgets/controls",
      "model_module_version": "1.1.0",
      "model_name": "DropdownModel",
      "state": {
       "_options_labels": [
        "ActivityKP",
        "ActivityKP2"
       ],
       "description": "Model Name",
       "index": 0,
       "layout": "IPY_MODEL_f426bf2e772841e19d4887e368e1b6ac",
       "style": "IPY_MODEL_cfab5956f6304b76a7119b56d467eae3"
      }
     },
     "d56da2c2dd7342679c33dec4ebc0556e": {
      "model_module": "bqplot",
      "model_module_version": "^0.3.2",
      "model_name": "AxisModel",
      "state": {
       "num_ticks": 5,
       "orientation": "vertical",
       "scale": "IPY_MODEL_89ee0208ff754d10a1d5c79d8104ec7c",
       "side": "left",
       "tick_values": {
        "type": null,
        "values": null
       }
      }
     },
     "d8ad0bfa154b4d71a2e5d5003c969d83": {
      "model_module": "@jupyter-widgets/base",
      "model_module_version": "1.0.0",
      "model_name": "LayoutModel",
      "state": {
       "border": "solid 2px",
       "display": "flex",
       "flex_flow": "row",
       "justify_content": "space-between",
       "overflow": "visible"
      }
     },
     "d9fc0b4d7f45463fbfbbb15d8a85c96f": {
      "model_module": "@jupyter-widgets/base",
      "model_module_version": "1.0.0",
      "model_name": "LayoutModel",
      "state": {}
     },
     "da9defe822bd4b20949cc4cef211cc38": {
      "model_module": "@jupyter-widgets/base",
      "model_module_version": "1.0.0",
      "model_name": "LayoutModel",
      "state": {}
     },
     "db15c8b5a2244c1c854bf167045e8cff": {
      "model_module": "@jupyter-widgets/base",
      "model_module_version": "1.0.0",
      "model_name": "LayoutModel",
      "state": {}
     },
     "db28933e4df64b74939cb7ef7c9806eb": {
      "model_module": "@jupyter-widgets/base",
      "model_module_version": "1.0.0",
      "model_name": "LayoutModel",
      "state": {}
     },
     "de7fe7eafb754f2982af689da642edc7": {
      "model_module": "@jupyter-widgets/base",
      "model_module_version": "1.0.0",
      "model_name": "LayoutModel",
      "state": {
       "min_width": "150px",
       "overflow": "visible"
      }
     },
     "e0ca1de42f724fd281bc0e3477907e4c": {
      "model_module": "@jupyter-widgets/base",
      "model_module_version": "1.0.0",
      "model_name": "LayoutModel",
      "state": {}
     },
     "e23c41ec387d4bf4a0c7e5f97bece5d6": {
      "model_module": "@jupyter-widgets/controls",
      "model_module_version": "1.1.0",
      "model_name": "HBoxModel",
      "state": {
       "children": [
        "IPY_MODEL_4844b9fab37a4e959c4a636fba00cd4e",
        "IPY_MODEL_7f3be17f857e459d9fbc561abbffd407"
       ],
       "layout": "IPY_MODEL_c0e6c5f116f54de29a4fd0bf0cfd4c30"
      }
     },
     "e53188dc4cfc488191fa70668618d149": {
      "model_module": "@jupyter-widgets/base",
      "model_module_version": "1.0.0",
      "model_name": "LayoutModel",
      "state": {}
     },
     "e544288110b1439ebd6516af871ab79b": {
      "model_module": "@jupyter-widgets/base",
      "model_module_version": "1.0.0",
      "model_name": "LayoutModel",
      "state": {}
     },
     "e58166a9f23d407a9d778df21f17c237": {
      "model_module": "@jupyter-widgets/base",
      "model_module_version": "1.0.0",
      "model_name": "LayoutModel",
      "state": {}
     },
     "e7a27a9cfa8741028259806a5d5c2b82": {
      "model_module": "@jupyter-widgets/base",
      "model_module_version": "1.0.0",
      "model_name": "LayoutModel",
      "state": {}
     },
     "e7c2f26da5454ac88af695d140881697": {
      "model_module": "@jupyter-widgets/controls",
      "model_module_version": "1.1.0",
      "model_name": "VBoxModel",
      "state": {
       "children": [
        "IPY_MODEL_548c4f3d2e6644d48f0a1c1ce2e9c993",
        "IPY_MODEL_94023c0c4ca24a7793b586adee214dab",
        "IPY_MODEL_8eeae19f96754a1fbfb858a5cb94d211",
        "IPY_MODEL_3bbacb2d81524ed0bb902132ea1319d3",
        "IPY_MODEL_03d371a4a18d4f46872a90cf5555b464",
        "IPY_MODEL_f6b35cf77fb045208ee1fbe8598fc055",
        "IPY_MODEL_9c20ebc6fb5749168a2f67cbbc6c2cf9",
        "IPY_MODEL_6de7334fe3204022b66e9b7928a5c15d"
       ],
       "layout": "IPY_MODEL_298164d918e54480bfb8c1dc14647653"
      }
     },
     "ea501a053bc44dd19891891624e399e3": {
      "model_module": "@jupyter-widgets/controls",
      "model_module_version": "1.1.0",
      "model_name": "VBoxModel",
      "state": {
       "_dom_classes": [
        "widget-interact"
       ],
       "children": [
        "IPY_MODEL_6eb92b63cec64cf1accbee05f30fea40",
        "IPY_MODEL_0ab0a55e15e64510b1a33792419d1f50"
       ],
       "layout": "IPY_MODEL_02f3753da6364066869485eafbb36613"
      }
     },
     "ea732ad38f5b474b91aac6cced2ca7a9": {
      "model_module": "@jupyter-widgets/controls",
      "model_module_version": "1.1.0",
      "model_name": "DescriptionStyleModel",
      "state": {
       "description_width": ""
      }
     },
     "ea889ca601ef4d0fb67c8d5dfd6fe7bd": {
      "model_module": "@jupyter-widgets/base",
      "model_module_version": "1.0.0",
      "model_name": "LayoutModel",
      "state": {}
     },
     "eb5a8a4032144838ac945db463fdc5e6": {
      "model_module": "bqplot",
      "model_module_version": "^0.3.2",
      "model_name": "LinearScaleModel",
      "state": {
       "allow_padding": false,
       "max": 1,
       "min": 0,
       "stabilized": false
      }
     },
     "ee073cc9861d42dfa2c936bdcbd5bc65": {
      "model_module": "@jupyter-widgets/base",
      "model_module_version": "1.0.0",
      "model_name": "LayoutModel",
      "state": {}
     },
     "f426bf2e772841e19d4887e368e1b6ac": {
      "model_module": "@jupyter-widgets/base",
      "model_module_version": "1.0.0",
      "model_name": "LayoutModel",
      "state": {}
     },
     "f4909a8596e949c8a877f8cc4e24abee": {
      "model_module": "bqplot",
      "model_module_version": "^0.3.2",
      "model_name": "AxisModel",
      "state": {
       "num_ticks": 5,
       "orientation": "vertical",
       "scale": "IPY_MODEL_a234e8968b464ff98424d074bc52bd70",
       "side": "left",
       "tick_values": {
        "type": null,
        "values": null
       }
      }
     },
     "f52825ef2a1244838fde5201f2dbf27c": {
      "model_module": "@jupyter-widgets/controls",
      "model_module_version": "1.1.0",
      "model_name": "TextModel",
      "state": {
       "description": "Query Filter",
       "layout": "IPY_MODEL_6b9d656acdeb4d77bae945ffe4cb7a65",
       "style": "IPY_MODEL_aaf7bd5b531a4e14b1eddb8d9e60f012"
      }
     },
     "f6b35cf77fb045208ee1fbe8598fc055": {
      "model_module": "@jupyter-widgets/controls",
      "model_module_version": "1.1.0",
      "model_name": "SelectMultipleModel",
      "state": {
       "_options_labels": [
        "AccelerometerX",
        "AccelerometerY",
        "AccelerometerZ",
        "GyroscopeX",
        "GyroscopeY",
        "GyroscopeZ"
       ],
       "description": "Sources",
       "index": [
        0,
        1,
        2,
        3,
        4,
        5
       ],
       "layout": "IPY_MODEL_f89ea8ce476445cb8dd901693c34ae78",
       "rows": 5,
       "style": "IPY_MODEL_42c96ce6b7ea4653a54b409547d73d51"
      }
     },
     "f851e790f2d6448b81cadcf1ab63b4f1": {
      "model_module": "@jupyter-widgets/controls",
      "model_module_version": "1.1.0",
      "model_name": "DescriptionStyleModel",
      "state": {
       "description_width": ""
      }
     },
     "f89ea8ce476445cb8dd901693c34ae78": {
      "model_module": "@jupyter-widgets/base",
      "model_module_version": "1.0.0",
      "model_name": "LayoutModel",
      "state": {}
     },
     "f95ccbfb3b6543e7bc8d745c73e83a42": {
      "model_module": "@jupyter-widgets/controls",
      "model_module_version": "1.1.0",
      "model_name": "ButtonStyleModel",
      "state": {}
     },
     "fe5247bd86d046f68b77fcfaaf9d15ca": {
      "model_module": "@jupyter-widgets/controls",
      "model_module_version": "1.1.0",
      "model_name": "DropdownModel",
      "state": {
       "_options_labels": [
        "100",
        "50",
        "25"
       ],
       "description": "IMU Rate",
       "index": 0,
       "layout": "IPY_MODEL_8ddb1ac40f89460c8e3be9d5c5fa664c",
       "style": "IPY_MODEL_d33079a374734954b8df7211854b1879"
      }
     },
     "febd1ca5d75e421bb5da59cea0c9c4e6": {
      "model_module": "@jupyter-widgets/base",
      "model_module_version": "1.0.0",
      "model_name": "LayoutModel",
      "state": {}
     }
    },
    "version_major": 2,
    "version_minor": 0
   }
  }
 },
 "nbformat": 4,
 "nbformat_minor": 1
}

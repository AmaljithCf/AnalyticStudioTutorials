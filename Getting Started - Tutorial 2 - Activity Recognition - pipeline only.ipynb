{
 "cells": [
  {
   "cell_type": "markdown",
   "metadata": {},
   "source": [
    "#### NOTE: This is the pipeline of Activity recognition without any description This is the size of a typical notebook"
   ]
  },
  {
   "cell_type": "code",
   "execution_count": 1,
   "metadata": {
    "collapsed": true
   },
   "outputs": [],
   "source": [
    "import sys\n",
    "%matplotlib inline\n",
    "\n",
    "from sensiml import SensiML\n",
    "from sensiml.widgets import *\n",
    "\n",
    "dsk = SensiML()"
   ]
  },
  {
   "cell_type": "code",
   "execution_count": 2,
   "metadata": {
    "collapsed": true
   },
   "outputs": [],
   "source": [
    "dsk.project ='Activity Demo'\n",
    "dsk.pipeline = \"Activity Demo\""
   ]
  },
  {
   "cell_type": "markdown",
   "metadata": {},
   "source": [
    "### Make a query"
   ]
  },
  {
   "cell_type": "code",
   "execution_count": null,
   "metadata": {
    "collapsed": true
   },
   "outputs": [],
   "source": [
    "QueryWidget(dsk).create_widget()"
   ]
  },
  {
   "cell_type": "markdown",
   "metadata": {},
   "source": [
    "### Construct a pipeline\n",
    "\n",
    "#### Generate Features"
   ]
  },
  {
   "cell_type": "code",
   "execution_count": 5,
   "metadata": {
    "collapsed": true
   },
   "outputs": [],
   "source": [
    "dsk.pipeline.reset()\n",
    "dsk.pipeline.set_input_query('query_activity')\n",
    "\n",
    "dsk.pipeline.add_transform(\"Magnitude\", params={\"input_columns\": ['GyroscopeX','GyroscopeY', 'GyroscopeZ']})\n",
    "\n",
    "dsk.pipeline.add_transform(\"Windowing\", params={\"window_size\": 300, \n",
    "                                                \"delta\": 300,})\n",
    "\n",
    "dsk.pipeline.add_transform(\"MSE Filter\", params={\"input_column\": 'Magnitude_ST_0000', \n",
    "                                                \"MSE_target\": -1.0, \n",
    "                                                \"MSE_threshold\": 0.01})\n",
    "\n",
    "dsk.pipeline.add_feature_generator([\"Mean\", 'Standard Deviation','Sum', '25th Percentile'],\n",
    "                                   function_defaults = {\"columns\":[u'Magnitude_ST_0000']})\n",
    "\n",
    "dsk.pipeline.add_transform('Min Max Scale')\n",
    "\n",
    "features, s = dsk.pipeline.execute()"
   ]
  },
  {
   "cell_type": "markdown",
   "metadata": {},
   "source": [
    "#### Train the Model"
   ]
  },
  {
   "cell_type": "code",
   "execution_count": 16,
   "metadata": {
    "collapsed": true
   },
   "outputs": [],
   "source": [
    "dsk.pipeline.set_validation_method('Stratified K-Fold Cross-Validation', params={'number_of_folds':3,})\n",
    "\n",
    "dsk.pipeline.set_classifier('PVP', params={\"classification_mode\":'RBF','distance_mode':'L1'})\n",
    "\n",
    "dsk.pipeline.set_training_algorithm('Hierarchical Clustering with Neuron Optimization', params = {'number_of_neurons':5})\n",
    "\n",
    "\n",
    "dsk.pipeline.set_tvo({'validation_seed':2})\n",
    "\n",
    "model_results, stats = dsk.pipeline.execute()"
   ]
  },
  {
   "cell_type": "code",
   "execution_count": 18,
   "metadata": {},
   "outputs": [
    {
     "name": "stdout",
     "output_type": "stream",
     "text": [
      "TRAINING ALGORITHM: Hierarchical Clustering with Neuron Optimization\n",
      "VALIDATION METHOD:  Stratified K-Fold Cross-Validation\n",
      "CLASSIFIER:         PVP\n",
      "\n",
      "AVERAGE METRICS:\n",
      "F1-SCORE:    77.9   sigma 13.38\n",
      "SENSITIVITY: 100.0   sigma 0.00\n",
      "PRECISION:   69.1   sigma 17.86\n",
      "\n",
      "--------------------------------------\n",
      "\n",
      "STRATIFIED K-FOLD CROSS-VALIDATION MODEL RESULTS\n",
      "\n",
      "MODEL INDEX: Fold 2\n",
      "ACCURACY: 88.89\n",
      "NEURONS: 3\n",
      "\n",
      "MODEL INDEX: Fold 1\n",
      "ACCURACY: 72.73\n",
      "NEURONS: 3\n",
      "\n",
      "MODEL INDEX: Fold 0\n",
      "ACCURACY: 41.67\n",
      "NEURONS: 3\n",
      "\n"
     ]
    }
   ],
   "source": [
    "model.knowledgepack.save('ActivityKP')\n",
    "model_results.summarize()"
   ]
  },
  {
   "cell_type": "markdown",
   "metadata": {},
   "source": [
    "### Download Model"
   ]
  },
  {
   "cell_type": "code",
   "execution_count": null,
   "metadata": {
    "collapsed": true
   },
   "outputs": [],
   "source": [
    "DownloadWidget(dsk).create_widget()"
   ]
  }
 ],
 "metadata": {
  "anaconda-cloud": {},
  "kernelspec": {
   "display_name": "Python 2",
   "language": "python",
   "name": "python2"
  },
  "language_info": {
   "codemirror_mode": {
    "name": "ipython",
    "version": 2
   },
   "file_extension": ".py",
   "mimetype": "text/x-python",
   "name": "python",
   "nbconvert_exporter": "python",
   "pygments_lexer": "ipython2",
   "version": "2.7.13"
  },
  "toc": {
   "nav_menu": {},
   "number_sections": true,
   "sideBar": true,
   "skip_h1_title": false,
   "toc_cell": false,
   "toc_position": {},
   "toc_section_display": "block",
   "toc_window_display": false
  }
 },
 "nbformat": 4,
 "nbformat_minor": 1
}

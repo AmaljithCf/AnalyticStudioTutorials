{
 "cells": [
  {
   "cell_type": "code",
   "execution_count": 1,
   "metadata": {
    "collapsed": true
   },
   "outputs": [],
   "source": [
    "import os\n",
    "#os.environ['http_proxy'] = ''\n",
    "#os.environ['https_proxy'] = ''"
   ]
  },
  {
   "cell_type": "code",
   "execution_count": 2,
   "metadata": {
    "scrolled": true
   },
   "outputs": [],
   "source": [
    "import pandas as pd\n",
    "from kbclient.kb_dsk_basic.kb  import KB\n",
    "\n",
    "dsk = KB()\n",
    "dsk.project='Model Bulding Demo'\n",
    "dsk.pipeline='feature_vector_to_model'"
   ]
  },
  {
   "cell_type": "markdown",
   "metadata": {},
   "source": [
    "### Prepare the feature vectors\n",
    "\n",
    "This data set consists of many reps which have 128 feature vectors each as well as a label column containing the ground truth and the rep number. We drop the rep number because we don't want that as a feature vector. Note: All feature vectors must be integers scaled between 0 and 254. \n",
    "\n",
    "The model generator requires that the ground truth column has the name \"label\", so we rename our ground truth column."
   ]
  },
  {
   "cell_type": "code",
   "execution_count": 3,
   "metadata": {},
   "outputs": [],
   "source": [
    "df= pd.read_csv('Support/scaled_reducedFeatures_128.csv')\n",
    "# Rename the 0 to label and drop the columns we don't need\n",
    "df = df.rename(columns={'0':'label'}).drop(['1','130'], axis=1)\n",
    "dsk.pipeline.reset()"
   ]
  },
  {
   "cell_type": "markdown",
   "metadata": {},
   "source": [
    "### Load the feature vectors into the dataframe. "
   ]
  },
  {
   "cell_type": "code",
   "execution_count": 4,
   "metadata": {},
   "outputs": [
    {
     "name": "stdout",
     "output_type": "stream",
     "text": [
      "Uploading file \"feature_vectors_128.csv\" to KB Cloud.\n",
      "Upload of file \"feature_vectors_128.csv\"  to KB Cloud completed.\n",
      "Group columns must be a list of strings.\n"
     ]
    }
   ],
   "source": [
    "dsk.pipeline.set_input_data('feature_vectors_128.csv', df,  label_column='label')"
   ]
  },
  {
   "cell_type": "markdown",
   "metadata": {},
   "source": [
    "### Model TVO description\n",
    "\n",
    "* train_validate_optimze (tvo) : This step defines the model validation methodology, the classification method to use and the training algorithm to train the classifier with. \n",
    "\n",
    "A tvo step is composed of a \n",
    "* Classifier\n",
    "* Traning algorithm \n",
    "* Validation method\n",
    "\n",
    "For this pipeline we use the validation method \"Stratified K-Fold Cross-Validation\". Which splits the data into 5 folds and iterativley trains on 4 folds, test on 1 fold.  The training algorithm Heirarchical Clustering with Neuron Optimization uses a clustering algorithm to optimize neurons placement in feature space. After the model has been trained, neurons are loaded into the pvp classifier and model validation is performed using the selected validation method."
   ]
  },
  {
   "cell_type": "code",
   "execution_count": 5,
   "metadata": {
    "collapsed": true
   },
   "outputs": [],
   "source": [
    "dsk.pipeline.set_validation_method('Stratified K-Fold Cross-Validation', params={'number_of_folds':5})\n",
    "\n",
    "dsk.pipeline.set_classifier('PVP', params={\"classification_mode\":'RBF','distance_mode':'L1'})\n",
    "\n",
    "dsk.pipeline.set_training_algorithm('Hierarchical Clustering with Neuron Optimization', params = {'number_of_neurons':7})\n",
    "\n",
    "dsk.pipeline.set_tvo({'validation_seed':0})"
   ]
  },
  {
   "cell_type": "markdown",
   "metadata": {},
   "source": [
    "Execute the pipeline on kb cloud. "
   ]
  },
  {
   "cell_type": "code",
   "execution_count": 6,
   "metadata": {},
   "outputs": [
    {
     "name": "stdout",
     "output_type": "stream",
     "text": [
      "Executing Pipeline with Steps:\n",
      "\n",
      "------------------------------------------------------------------------\n",
      " 0.     Name: feature_vectors_128.csv   \t\tType: featurefile              \n",
      "------------------------------------------------------------------------\n",
      "------------------------------------------------------------------------\n",
      " 1.     Name: tvo                       \t\tType: tvo                      \n",
      "------------------------------------------------------------------------\n",
      "\tClassifier: PVP\n",
      "\t\tParam: distance_mode: L1\n",
      "\t\tParam: classification_mode: RBF\n",
      "\n",
      "\tTraining Algo: Hierarchical Clustering with Neuron Optimization\n",
      "\t\tParam: number_of_neurons: 7\n",
      "\n",
      "\tValidation Method: Stratified K-Fold Cross-Validation\n",
      "\t\tParam: number_of_folds: 5\n",
      "\n",
      "------------------------------------------------------------------------\n",
      "\n",
      "\n",
      "Checking for Results:\n",
      "\n",
      "Pipeline is Running. Run Time: 5.3648250103\n",
      ".Retrieving page 1 of 1.\n",
      "\n",
      "Results Retrieved.\n"
     ]
    }
   ],
   "source": [
    "results, stats = dsk.pipeline.execute()"
   ]
  },
  {
   "cell_type": "code",
   "execution_count": 7,
   "metadata": {},
   "outputs": [
    {
     "name": "stdout",
     "output_type": "stream",
     "text": [
      "TRAINING ALGORITHM: Hierarchical Clustering with Neuron Optimization\n",
      "VALIDATION METHOD:  Stratified K-Fold Cross-Validation\n",
      "CLASSIFIER:         PVP\n",
      "\n",
      "AVERAGE METRICS:\n",
      "F1-SCORE:    70.3   sigma 3.18\n",
      "SENSITIVITY: 70.6   sigma 3.51\n",
      "PRECISION:   87.1   sigma 2.08\n",
      "\n",
      "--------------------------------------\n",
      "\n",
      "STRATIFIED K-FOLD CROSS-VALIDATION MODEL RESULTS\n",
      "\n",
      "MODEL INDEX: Fold 4\n",
      "ACCURACY: 54.55\n",
      "NEURONS: 7\n",
      "\n",
      "MODEL INDEX: Fold 2\n",
      "ACCURACY: 49.09\n",
      "NEURONS: 7\n",
      "\n",
      "MODEL INDEX: Fold 3\n",
      "ACCURACY: 40.00\n",
      "NEURONS: 7\n",
      "\n",
      "MODEL INDEX: Fold 0\n",
      "ACCURACY: 40.00\n",
      "NEURONS: 7\n",
      "\n",
      "MODEL INDEX: Fold 1\n",
      "ACCURACY: 38.18\n",
      "NEURONS: 7\n",
      "\n"
     ]
    }
   ],
   "source": [
    "results.summarize()"
   ]
  }
 ],
 "metadata": {
  "anaconda-cloud": {},
  "kernelspec": {
   "display_name": "Python 2",
   "language": "python",
   "name": "python2"
  },
  "language_info": {
   "codemirror_mode": {
    "name": "ipython",
    "version": 2
   },
   "file_extension": ".py",
   "mimetype": "text/x-python",
   "name": "python",
   "nbconvert_exporter": "python",
   "pygments_lexer": "ipython2",
   "version": "2.7.13"
  }
 },
 "nbformat": 4,
 "nbformat_minor": 1
}

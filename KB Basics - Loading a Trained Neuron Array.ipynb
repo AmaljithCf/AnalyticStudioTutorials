{
 "cells": [
  {
   "cell_type": "code",
   "execution_count": 1,
   "metadata": {
    "collapsed": true
   },
   "outputs": [],
   "source": [
    "import os\n",
    "#os.environ['http_proxy'] = ''\n",
    "#os.environ['https_proxy'] = ''"
   ]
  },
  {
   "cell_type": "markdown",
   "metadata": {},
   "source": [
    "#### In this tutorial we will demonstrate how to load a neuron array directly into the pipeline in order to create pipelines based off of pre-trained models. "
   ]
  },
  {
   "cell_type": "code",
   "execution_count": 2,
   "metadata": {},
   "outputs": [
    {
     "name": "stdout",
     "output_type": "stream",
     "text": [
      "Sandbox Activity_Pipeline does not exist, creating a new sandbox.\n"
     ]
    }
   ],
   "source": [
    "import pandas as pd\n",
    "from kbclient.kb_dsk_basic.kb import KB\n",
    "\n",
    "dsk = KB()\n",
    "dsk.project ='Activity Case Study'\n",
    "dsk.pipeline = 'Activity_Pipeline'"
   ]
  },
  {
   "cell_type": "code",
   "execution_count": 3,
   "metadata": {},
   "outputs": [
    {
     "data": {
      "text/html": [
       "<div>\n",
       "<style>\n",
       "    .dataframe thead tr:only-child th {\n",
       "        text-align: right;\n",
       "    }\n",
       "\n",
       "    .dataframe thead th {\n",
       "        text-align: left;\n",
       "    }\n",
       "\n",
       "    .dataframe tbody tr th {\n",
       "        vertical-align: top;\n",
       "    }\n",
       "</style>\n",
       "<table border=\"1\" class=\"dataframe\">\n",
       "  <thead>\n",
       "    <tr style=\"text-align: right;\">\n",
       "      <th></th>\n",
       "      <th>Subject</th>\n",
       "      <th>Activity</th>\n",
       "      <th>AccelerometerX</th>\n",
       "      <th>AccelerometerY</th>\n",
       "      <th>AccelerometerZ</th>\n",
       "    </tr>\n",
       "  </thead>\n",
       "  <tbody>\n",
       "    <tr>\n",
       "      <th>0</th>\n",
       "      <td>1</td>\n",
       "      <td>0</td>\n",
       "      <td>-317</td>\n",
       "      <td>-3000</td>\n",
       "      <td>925</td>\n",
       "    </tr>\n",
       "    <tr>\n",
       "      <th>1</th>\n",
       "      <td>1</td>\n",
       "      <td>0</td>\n",
       "      <td>-284</td>\n",
       "      <td>-2968</td>\n",
       "      <td>903</td>\n",
       "    </tr>\n",
       "    <tr>\n",
       "      <th>2</th>\n",
       "      <td>1</td>\n",
       "      <td>0</td>\n",
       "      <td>-243</td>\n",
       "      <td>-2987</td>\n",
       "      <td>933</td>\n",
       "    </tr>\n",
       "    <tr>\n",
       "      <th>3</th>\n",
       "      <td>1</td>\n",
       "      <td>0</td>\n",
       "      <td>-193</td>\n",
       "      <td>-3051</td>\n",
       "      <td>936</td>\n",
       "    </tr>\n",
       "    <tr>\n",
       "      <th>4</th>\n",
       "      <td>1</td>\n",
       "      <td>0</td>\n",
       "      <td>-150</td>\n",
       "      <td>-3059</td>\n",
       "      <td>915</td>\n",
       "    </tr>\n",
       "  </tbody>\n",
       "</table>\n",
       "</div>"
      ],
      "text/plain": [
       "   Subject  Activity  AccelerometerX  AccelerometerY  AccelerometerZ\n",
       "0        1         0            -317           -3000             925\n",
       "1        1         0            -284           -2968             903\n",
       "2        1         0            -243           -2987             933\n",
       "3        1         0            -193           -3051             936\n",
       "4        1         0            -150           -3059             915"
      ]
     },
     "execution_count": 3,
     "metadata": {},
     "output_type": "execute_result"
    }
   ],
   "source": [
    "sensor_columns = dsk.project.columns()\n",
    "df = pd.read_csv('Support/activities_combinedSignalsWithLabel_medium.csv')\n",
    "df['Subject'] = df['Subject'].apply(lambda x: int(x[1:]))\n",
    "df.head()"
   ]
  },
  {
   "cell_type": "markdown",
   "metadata": {},
   "source": [
    "This is the format of a neuron array for a trained model."
   ]
  },
  {
   "cell_type": "code",
   "execution_count": 3,
   "metadata": {
    "collapsed": true
   },
   "outputs": [],
   "source": [
    "neuron_array = [{u'AIF': 1,\n",
    "              u'Category': 2,\n",
    "              u'Context': 1,\n",
    "              u'Identifier': 1,\n",
    "              u'Vector': [0, 0, 0, 0, 0, 124, 0, 0]},\n",
    "              {u'AIF': 1,\n",
    "              u'Category': 2,\n",
    "              u'Context': 1,\n",
    "              u'Identifier': 2,\n",
    "              u'Vector': [166, 31, 172, 138, 93, 31, 254, 35]},\n",
    "              {u'AIF': 143,\n",
    "              u'Category': 3,\n",
    "              u'Context': 1,\n",
    "              u'Identifier': 3,\n",
    "              u'Vector': [246, 232, 243, 68, 241, 156, 72, 16]},\n",
    "              {u'AIF': 1,\n",
    "              u'Category': 3,\n",
    "              u'Context': 1,\n",
    "              u'Identifier': 4,\n",
    "              u'Vector': [134, 171, 163, 42, 167, 114, 19, 254]},\n",
    "              {u'AIF': 349,\n",
    "              u'Category': 4,\n",
    "              u'Context': 1,\n",
    "              u'Identifier': 5,\n",
    "              u'Vector': [118, 165, 147, 184, 156, 191, 2, 0]},\n",
    "              {u'AIF': 449,\n",
    "              u'Category': 1,\n",
    "              u'Context': 1,\n",
    "              u'Identifier': 6,\n",
    "              u'Vector': [97, 78, 107, 43, 92, 106, 56, 4]},\n",
    "              {u'AIF': 354,\n",
    "              u'Category': 4,\n",
    "              u'Context': 1,\n",
    "              u'Identifier': 7,\n",
    "              u'Vector': [131, 184, 165, 53, 174, 128, 2, 3]}]"
   ]
  },
  {
   "cell_type": "markdown",
   "metadata": {},
   "source": [
    "A simple pipeline which segements, filters and generates features. "
   ]
  },
  {
   "cell_type": "code",
   "execution_count": 4,
   "metadata": {},
   "outputs": [
    {
     "name": "stdout",
     "output_type": "stream",
     "text": [
      "Uploading file \"activity_data.csv\" to KB Cloud.\n",
      "Using featurefile previously loaded to KB cloud, use force=True to overwrite.\n"
     ]
    }
   ],
   "source": [
    "dsk.pipeline.reset()\n",
    "dsk.pipeline.set_columns(data_columns=['AccelerometerY'], group_columns=['Activity','Subject'], label_column='Activity')\n",
    "\n",
    "dsk.pipeline.set_input_data('activity_data', df,  data_columns=['AccelerometerY'])\n",
    "\n",
    "dsk.pipeline.add_transform('Scale Factor', params={'scale_factor':4096.,\n",
    "                                                   'input_columns':['AccelerometerY']})\n",
    "dsk.pipeline.add_transform('Windowing')\n",
    "\n",
    "dsk.pipeline.add_transform('MSE Filter', params={'input_column':'AccelerometerY',})\n",
    "\n",
    "dsk.pipeline.add_feature_generator([\"Mean\", 'Standard Deviation', 'Skewness', 'Kurtosis',\n",
    "                                    '25th Percentile', '75th Percentile', '100th Percentile',\n",
    "                                    'Zero Crossing Rate'],\n",
    "                                    function_defaults = {\"columns\":[u'AccelerometerY']})\n",
    "\n",
    "dsk.pipeline.add_feature_selector([{\"name\":\"Recursive Feature Elimination\",\"params\":{\"method\":\"Log R\"}}],\n",
    "                                   params = {\"number_of_features\":8,})\n",
    "\n",
    "dsk.pipeline.add_transform('Min Max Scale')"
   ]
  },
  {
   "cell_type": "markdown",
   "metadata": {},
   "source": [
    "Here we will use the training algorithm \"Load Neuron Array\" which will load the neurons directly into the hardware simulator and procede to run the cross-fold validation on the model. Note, no training occurs we are simply using the provided neurons."
   ]
  },
  {
   "cell_type": "code",
   "execution_count": 5,
   "metadata": {
    "collapsed": true
   },
   "outputs": [],
   "source": [
    "dsk.pipeline.set_training_algorithm('Load Neuron Array', params = {'neuron_array':neuron_array})\n",
    "\n",
    "dsk.pipeline.set_validation_method('Stratified K-Fold Cross-Validation', params={'number_of_folds':5})\n",
    "\n",
    "dsk.pipeline.set_classifier('PVP', params={\"classification_mode\":'RBF','distance_mode':'L1'})\n",
    "\n",
    "dsk.pipeline.set_tvo()"
   ]
  },
  {
   "cell_type": "code",
   "execution_count": 6,
   "metadata": {
    "scrolled": false
   },
   "outputs": [
    {
     "name": "stdout",
     "output_type": "stream",
     "text": [
      "Executing Pipeline with Steps:\n",
      "\n",
      "------------------------------------------------------------------------\n",
      " 0.     Name: activity_data.csv         \t\tType: featurefile              \n",
      "------------------------------------------------------------------------\n",
      "------------------------------------------------------------------------\n",
      " 1.     Name: Scale Factor              \t\tType: transform                \n",
      "------------------------------------------------------------------------\n",
      "------------------------------------------------------------------------\n",
      " 2.     Name: Windowing                 \t\tType: segmenter                \n",
      "------------------------------------------------------------------------\n",
      "------------------------------------------------------------------------\n",
      " 3.     Name: MSE Filter                \t\tType: transform                \n",
      "------------------------------------------------------------------------\n",
      "------------------------------------------------------------------------\n",
      " 4.     Name: generator_set             \t\tType: generatorset             \n",
      "------------------------------------------------------------------------\n",
      "------------------------------------------------------------------------\n",
      " 5.     Name: selector_set              \t\tType: selectorset              \n",
      "------------------------------------------------------------------------\n",
      "------------------------------------------------------------------------\n",
      " 6.     Name: Min Max Scale             \t\tType: transform                \n",
      "------------------------------------------------------------------------\n",
      "------------------------------------------------------------------------\n",
      " 7.     Name: tvo                       \t\tType: tvo                      \n",
      "------------------------------------------------------------------------\n",
      "\tClassifier: PVP\n",
      "\t\tParam: distance_mode: L1\n",
      "\t\tParam: classification_mode: RBF\n",
      "\n",
      "\tTraining Algo: Load Neuron Array\n",
      "\t\tParam: neuron_array: [{u'Category': 2, u'Vector': [0, 0, 0, 0, 0, 124, 0, 0], u'Identifier': 1, u'AIF': 1, u'Context': 1}, {u'Category': 2, u'Vector': [166, 31, 172, 138, 93, 31, 254, 35], u'Identifier': 2, u'AIF': 1, u'Context': 1}, {u'Category': 3, u'Vector': [246, 232, 243, 68, 241, 156, 72, 16], u'Identifier': 3, u'AIF': 143, u'Context': 1}, {u'Category': 3, u'Vector': [134, 171, 163, 42, 167, 114, 19, 254], u'Identifier': 4, u'AIF': 1, u'Context': 1}, {u'Category': 4, u'Vector': [118, 165, 147, 184, 156, 191, 2, 0], u'Identifier': 5, u'AIF': 349, u'Context': 1}, {u'Category': 1, u'Vector': [97, 78, 107, 43, 92, 106, 56, 4], u'Identifier': 6, u'AIF': 449, u'Context': 1}, {u'Category': 4, u'Vector': [131, 184, 165, 53, 174, 128, 2, 3], u'Identifier': 7, u'AIF': 354, u'Context': 1}]\n",
      "\n",
      "\tValidation Method: Stratified K-Fold Cross-Validation\n",
      "\t\tParam: number_of_folds: 5\n",
      "\n",
      "------------------------------------------------------------------------\n",
      "\n",
      "\n",
      "Checking for Results:\n",
      "\n",
      "Pipeline is Running. Run Time: 5.26254200935 . . . . \n",
      "Results Retrieved.\n"
     ]
    }
   ],
   "source": [
    "results, stats = dsk.pipeline.execute()"
   ]
  },
  {
   "cell_type": "code",
   "execution_count": 7,
   "metadata": {},
   "outputs": [
    {
     "name": "stdout",
     "output_type": "stream",
     "text": [
      "TRAINING ALGORITHM: Load Neuron Array\n",
      "VALIDATION METHOD:  Stratified K-Fold Cross-Validation\n",
      "CLASSIFIER:         PVP\n",
      "\n",
      "AVERAGE METRICS:\n",
      "F1-SCORE:    9.6   sigma 1.17\n",
      "SENSITIVITY: 27.2   sigma 0.13\n",
      "PRECISION:   5.8   sigma 0.86\n",
      "\n",
      "--------------------------------------\n",
      "\n",
      "STRATIFIED K-FOLD CROSS-VALIDATION MODEL RESULTS\n",
      "\n",
      "MODEL INDEX: Fold 3\n",
      "ACCURACY: 6.83\n",
      "NEURONS: 7\n",
      "\n",
      "MODEL INDEX: Fold 4\n",
      "ACCURACY: 6.83\n",
      "NEURONS: 7\n",
      "\n",
      "MODEL INDEX: Fold 1\n",
      "ACCURACY: 5.56\n",
      "NEURONS: 7\n",
      "\n",
      "MODEL INDEX: Fold 2\n",
      "ACCURACY: 4.94\n",
      "NEURONS: 7\n",
      "\n",
      "MODEL INDEX: Fold 0\n",
      "ACCURACY: 4.91\n",
      "NEURONS: 7\n",
      "\n"
     ]
    }
   ],
   "source": [
    "results.summarize()"
   ]
  },
  {
   "cell_type": "code",
   "execution_count": null,
   "metadata": {
    "collapsed": true
   },
   "outputs": [],
   "source": []
  }
 ],
 "metadata": {
  "anaconda-cloud": {},
  "kernelspec": {
   "display_name": "Python 2",
   "language": "python",
   "name": "python2"
  },
  "language_info": {
   "codemirror_mode": {
    "name": "ipython",
    "version": 2
   },
   "file_extension": ".py",
   "mimetype": "text/x-python",
   "name": "python",
   "nbconvert_exporter": "python",
   "pygments_lexer": "ipython2",
   "version": "2.7.13"
  }
 },
 "nbformat": 4,
 "nbformat_minor": 1
}
